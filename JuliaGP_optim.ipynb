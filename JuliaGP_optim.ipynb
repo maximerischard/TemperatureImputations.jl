{
 "cells": [
  {
   "cell_type": "markdown",
   "metadata": {
    "toc": "true"
   },
   "source": [
    "# Table of Contents\n",
    " <p><div class=\"lev1 toc-item\"><a href=\"#Preparations\" data-toc-modified-id=\"Preparations-1\"><span class=\"toc-item-num\">1&nbsp;&nbsp;</span>Preparations</a></div><div class=\"lev1 toc-item\"><a href=\"#Checking-derivatives\" data-toc-modified-id=\"Checking-derivatives-2\"><span class=\"toc-item-num\">2&nbsp;&nbsp;</span>Checking derivatives</a></div><div class=\"lev1 toc-item\"><a href=\"#Optimization\" data-toc-modified-id=\"Optimization-3\"><span class=\"toc-item-num\">3&nbsp;&nbsp;</span>Optimization</a></div>"
   ]
  },
  {
   "cell_type": "markdown",
   "metadata": {},
   "source": [
    "# Preparations"
   ]
  },
  {
   "cell_type": "code",
   "execution_count": 1,
   "metadata": {
    "collapsed": false
   },
   "outputs": [],
   "source": [
    "import PyPlot; plt=PyPlot\n",
    "using LaTeXStrings\n",
    "plt.rc(\"figure\", dpi=300.0)\n",
    "# plt.rc(\"figure\", figsize=(6,4))\n",
    "plt.rc(\"figure\", autolayout=true)\n",
    "plt.rc(\"savefig\", dpi=300.0)\n",
    "plt.rc(\"text\", usetex=true)\n",
    "plt.rc(\"font\", family=\"serif\")\n",
    "plt.rc(\"font\", serif=\"Palatino\")\n",
    "using TimeSeries\n",
    "using DataFrames\n",
    "using GaussianProcesses\n",
    "using GaussianProcesses: num_params, set_params!, get_params, grad_stack, grad_stack!, update_mll!, update_mll_and_dmll!\n",
    "using Optim\n",
    ";"
   ]
  },
  {
   "cell_type": "code",
   "execution_count": 2,
   "metadata": {
    "collapsed": false
   },
   "outputs": [
    {
     "data": {
      "text/plain": [
       "10-element Array{DateTime,1}:\n",
       " 2015-01-01T00:52:00\n",
       " 2015-01-01T01:52:00\n",
       " 2015-01-01T02:52:00\n",
       " 2015-01-01T03:52:00\n",
       " 2015-01-01T04:52:00\n",
       " 2015-01-01T05:52:00\n",
       " 2015-01-01T06:52:00\n",
       " 2015-01-01T07:52:00\n",
       " 2015-01-01T08:52:00\n",
       " 2015-01-01T09:52:00"
      ]
     },
     "execution_count": 2,
     "metadata": {},
     "output_type": "execute_result"
    }
   ],
   "source": [
    "station_data = readtable(\"data2015/725450.14990.processed.2015.2015.csv\", \n",
    "    header=false,\n",
    "    names=[:year, :month, :day, :hour, :min, :seconds, :temp])\n",
    "station_data = station_data[!isnan(station_data[:temp]),:]    \n",
    "station_ts = DateTime[DateTime(r[:year], r[:month], r[:day], r[:hour], r[:min], r[:seconds]) for r in eachrow(station_data)]\n",
    "station_ts[1:10]"
   ]
  },
  {
   "cell_type": "code",
   "execution_count": 3,
   "metadata": {
    "collapsed": false
   },
   "outputs": [],
   "source": [
    "k0 = Noise(0.0)\n",
    "k1 = FixedPeriodic(log(0.5), log(√(10.0)), log(24.0))\n",
    "k2 = RQIso(log(0.1*24), log(√10.0), 3.0) # short term\n",
    "k3 = RQIso(log(3.0*24), log(√20.0), 3.0)\n",
    "k4 = RQIso(log(10.0*24), log(√20.0), 3.0)\n",
    "k5 = SE(log(200.0*24), log(√80.0))\n",
    "_k=k0+k1+k2+k3+k4+k5\n",
    "_k_nonoise=k1+k2+k3+k4+k5\n",
    "_logNoise=k0.lσ\n",
    "hyp=[-0.359207,0.36883,1.45171,2.0342,1.17682,2.88579,4.28659,1.49533,-0.16544,6.81425,1.3045,3.49925,7.34764,2.16028]\n",
    "GaussianProcesses.set_params!(_k, hyp)"
   ]
  },
  {
   "cell_type": "code",
   "execution_count": 4,
   "metadata": {
    "collapsed": false
   },
   "outputs": [],
   "source": [
    "ms_per_hour = 1e3*3600\n",
    "ts_vec = convert(Vector{Float64}, station_ts.-station_ts[1]) / ms_per_hour\n",
    "ts_arr = reshape(ts_vec, (1,length(ts_vec)));"
   ]
  },
  {
   "cell_type": "code",
   "execution_count": 5,
   "metadata": {
    "collapsed": false
   },
   "outputs": [],
   "source": [
    "mean_func = MeanConst(mean(station_data[:temp]))\n",
    "temp_vec = convert(Vector{Float64}, station_data[:temp])\n",
    ";"
   ]
  },
  {
   "cell_type": "code",
   "execution_count": 6,
   "metadata": {
    "collapsed": false
   },
   "outputs": [],
   "source": [
    "gp_small = GP(ts_arr[1:100], temp_vec[1:100], mean_func, _k_nonoise, _logNoise);"
   ]
  },
  {
   "cell_type": "code",
   "execution_count": 7,
   "metadata": {
    "collapsed": false
   },
   "outputs": [
    {
     "data": {
      "text/plain": [
       "(11118,)"
      ]
     },
     "execution_count": 7,
     "metadata": {},
     "output_type": "execute_result"
    }
   ],
   "source": [
    "size(temp_vec)"
   ]
  },
  {
   "cell_type": "markdown",
   "metadata": {},
   "source": [
    "# Checking derivatives"
   ]
  },
  {
   "cell_type": "code",
   "execution_count": 8,
   "metadata": {
    "collapsed": true
   },
   "outputs": [],
   "source": [
    "using Calculus"
   ]
  },
  {
   "cell_type": "code",
   "execution_count": 25,
   "metadata": {
    "collapsed": false
   },
   "outputs": [
    {
     "name": "stderr",
     "output_type": "stream",
     "text": [
      "WARNING: Method definition get_optim_target(GaussianProcesses.GP) in module Main at In[9]:2 overwritten at In[25]:2.\n",
      "WARNING: Method definition #get_optim_target(Array{Any, 1}, Main.#get_optim_target, GaussianProcesses.GP) in module Main overwritten.\n"
     ]
    },
    {
     "data": {
      "text/plain": [
       "get_optim_target (generic function with 1 method)"
      ]
     },
     "execution_count": 25,
     "metadata": {},
     "output_type": "execute_result"
    }
   ],
   "source": [
    "function get_optim_target(gp::GP; noise::Bool=true, mean::Bool=true, kern::Bool=true)\n",
    "    Kgrad_buffer = Array(Float64, gp.nobsv, gp.nobsv)\n",
    "    function mll(hyp::Vector{Float64})\n",
    "        try\n",
    "            set_params!(gp, hyp; noise=noise, mean=mean, kern=kern)\n",
    "            GaussianProcesses.update_mll!!(gp)\n",
    "            return -gp.mLL\n",
    "        catch err\n",
    "             if !all(isfinite(hyp))\n",
    "                println(err)\n",
    "                return Inf\n",
    "            elseif isa(err, ArgumentError)\n",
    "                println(err)\n",
    "                return Inf\n",
    "            elseif isa(err, Base.LinAlg.PosDefException)\n",
    "                println(err)\n",
    "                return Inf\n",
    "            else\n",
    "                throw(err)\n",
    "            end\n",
    "        end        \n",
    "    end\n",
    "\n",
    "    function mll_and_dmll!(hyp::Vector{Float64}, grad::Vector{Float64})\n",
    "        try\n",
    "            set_params!(gp, hyp; noise=noise, mean=mean, kern=kern)\n",
    "            update_mll_and_dmll!(gp, Kgrad_buffer; noise=noise, mean=mean, kern=kern)\n",
    "            grad[:] = -gp.dmLL\n",
    "            return -gp.mLL\n",
    "        catch err\n",
    "             if !all(isfinite(hyp))\n",
    "                println(err)\n",
    "                return Inf\n",
    "            elseif isa(err, ArgumentError)\n",
    "                println(err)\n",
    "                return Inf\n",
    "            elseif isa(err, Base.LinAlg.PosDefException)\n",
    "                println(err)\n",
    "                return Inf\n",
    "            else\n",
    "                throw(err)\n",
    "            end\n",
    "        end \n",
    "    end\n",
    "    function dmll!(hyp::Vector{Float64}, grad::Vector{Float64})\n",
    "        mll_and_dmll!(hyp::Vector{Float64}, grad::Vector{Float64})\n",
    "    end\n",
    "\n",
    "    func = DifferentiableFunction(mll, dmll!, mll_and_dmll!)\n",
    "    return func\n",
    "end"
   ]
  },
  {
   "cell_type": "code",
   "execution_count": 26,
   "metadata": {
    "collapsed": false
   },
   "outputs": [
    {
     "name": "stderr",
     "output_type": "stream",
     "text": [
      "WARNING: Method definition check_derivs(Optim.DifferentiableFunction, Array{Float64, 1}) in module Main at In[10]:2 overwritten at In[26]:2.\n",
      "WARNING: Method definition #check_derivs(Array{Any, 1}, Main.#check_derivs, Optim.DifferentiableFunction, Array{Float64, 1}) in module Main overwritten.\n"
     ]
    },
    {
     "data": {
      "text/plain": [
       "check_derivs (generic function with 1 method)"
      ]
     },
     "execution_count": 26,
     "metadata": {},
     "output_type": "execute_result"
    }
   ],
   "source": [
    "function check_derivs(func::Optim.DifferentiableFunction, x::Vector{Float64}; kwargs...)\n",
    "    g2 = Calculus.gradient(func.f)\n",
    "    analytical_g = copy(x)\n",
    "    f0 = func.fg!(x, analytical_g)\n",
    "    numerical_g = g2(x)\n",
    "    func.f(x)\n",
    "    @assert isapprox(analytical_g, numerical_g, kwargs...)\n",
    "    return analytical_g, numerical_g\n",
    "end"
   ]
  },
  {
   "cell_type": "code",
   "execution_count": 27,
   "metadata": {
    "collapsed": false
   },
   "outputs": [
    {
     "data": {
      "text/plain": [
       "15-element Array{Tuple{Float64,Float64},1}:\n",
       " (41.4884,41.4884)        \n",
       " (0.118446,0.118446)      \n",
       " (-1.7043,-1.7043)        \n",
       " (0.888009,0.888009)      \n",
       " (29.1435,29.1435)        \n",
       " (-6.28409,-6.28409)      \n",
       " (0.895152,0.895152)      \n",
       " (0.0175197,0.0175197)    \n",
       " (-0.154911,-0.154911)    \n",
       " (-0.0078769,-0.00787681) \n",
       " (0.000130137,0.000130212)\n",
       " (-0.0779734,-0.0779735)  \n",
       " (1.85672e-8,8.24904e-8)  \n",
       " (0.000244759,0.000244751)\n",
       " (-0.431315,-0.431315)    "
      ]
     },
     "execution_count": 27,
     "metadata": {},
     "output_type": "execute_result"
    }
   ],
   "source": [
    "anal, numer = check_derivs(get_optim_target(gp_small), get_params(gp_small))\n",
    "\n",
    "collect(zip(anal, numer))"
   ]
  },
  {
   "cell_type": "code",
   "execution_count": 28,
   "metadata": {
    "collapsed": false
   },
   "outputs": [
    {
     "data": {
      "text/plain": [
       "156.1577338187417"
      ]
     },
     "execution_count": 28,
     "metadata": {},
     "output_type": "execute_result"
    }
   ],
   "source": [
    "get_optim_target(gp_small).fg!(get_params(gp_small), copy(get_params(gp_small)))"
   ]
  },
  {
   "cell_type": "code",
   "execution_count": 29,
   "metadata": {
    "collapsed": false
   },
   "outputs": [
    {
     "data": {
      "text/plain": [
       "15-element Array{Float64,1}:\n",
       " -41.4884     \n",
       "  -0.118446   \n",
       "   1.7043     \n",
       "  -0.888009   \n",
       " -29.1435     \n",
       "   6.28409    \n",
       "  -0.895152   \n",
       "  -0.0175197  \n",
       "   0.154911   \n",
       "   0.0078769  \n",
       "  -0.000130137\n",
       "   0.0779734  \n",
       "  -1.85672e-8 \n",
       "  -0.000244759\n",
       "   0.431315   "
      ]
     },
     "execution_count": 29,
     "metadata": {},
     "output_type": "execute_result"
    }
   ],
   "source": [
    "gp_small.dmLL"
   ]
  },
  {
   "cell_type": "code",
   "execution_count": 30,
   "metadata": {
    "collapsed": false
   },
   "outputs": [
    {
     "data": {
      "text/plain": [
       "15-element Array{Symbol,1}:\n",
       " :mean  \n",
       " :kern  \n",
       " :sk1_ll\n",
       " :sk1_lσ\n",
       " :sk2_ll\n",
       " :sk2_lσ\n",
       " :sk2_lα\n",
       " :sk3_ll\n",
       " :sk3_lσ\n",
       " :sk3_lα\n",
       " :sk4_ll\n",
       " :sk4_lσ\n",
       " :sk4_lα\n",
       " :sk5_ll\n",
       " :sk5_lσ"
      ]
     },
     "execution_count": 30,
     "metadata": {},
     "output_type": "execute_result"
    }
   ],
   "source": [
    "[[:mean, :kern]; GaussianProcesses.get_param_names(gp_small.k)]"
   ]
  },
  {
   "cell_type": "markdown",
   "metadata": {},
   "source": [
    "# Optimization"
   ]
  },
  {
   "cell_type": "code",
   "execution_count": 31,
   "metadata": {
    "collapsed": false
   },
   "outputs": [
    {
     "name": "stderr",
     "output_type": "stream",
     "text": [
      "WARNING: Method definition optimize!(GaussianProcesses.GP) in module Main at In[15]:3 overwritten at In[31]:3.\n",
      "WARNING: Method definition #optimize!(Array{Any, 1}, GaussianProcesses.#optimize!, GaussianProcesses.GP) in module Main overwritten.\n"
     ]
    }
   ],
   "source": [
    "function GaussianProcesses.optimize!(gp::GP; noise::Bool=true, mean::Bool=true, kern::Bool=true,\n",
    "                    method=ConjugateGradient(), kwargs...)\n",
    "    func = get_optim_target(gp, noise=noise, mean=mean, kern=kern)\n",
    "    init = get_params(gp;  noise=noise, mean=mean, kern=kern)  # Initial hyperparameter values\n",
    "    results=optimize(func,init; method=method, kwargs...)                     # Run optimizer\n",
    "    return results\n",
    "end"
   ]
  },
  {
   "cell_type": "code",
   "execution_count": 33,
   "metadata": {
    "collapsed": false
   },
   "outputs": [
    {
     "data": {
      "text/plain": [
       "-156.1577338187417"
      ]
     },
     "execution_count": 33,
     "metadata": {},
     "output_type": "execute_result"
    }
   ],
   "source": [
    "gp_small.mLL"
   ]
  },
  {
   "cell_type": "code",
   "execution_count": 38,
   "metadata": {
    "collapsed": false,
    "scrolled": true
   },
   "outputs": [
    {
     "name": "stdout",
     "output_type": "stream",
     "text": [
      "New linesearch\n",
      "bracketing: ia = 1, ib = 2, c = 0.2, phic = 416788.18233096955, dphic = 1.1801992405881917e7\n",
      "linesearch: ia = 1, ib = 2, a = 0.0, b = 0.2, phi(a) = 265.8839973078502, phi(b) = 416788.18233096955\n",
      "secant2: a = 0.0, b = 0.2, c = 0.000599223407235137\n",
      "update: ia = 1, a = 0.0, ib = 2, b = 0.2, c = 0.000599223407235137, phic = 245.2242574640229, dphic = -32736.04420110632\n",
      "secant2: iA = 3, iB = 2, ic = 3\n",
      "secant2: second c = 0.007783678095908519\n",
      "secant2: second c satisfied Wolfe conditions\n",
      "New linesearch\n",
      "Wolfe condition satisfied on point alpha = 0.003542846922698607\n",
      "New linesearch\n",
      "Wolfe condition satisfied on point alpha = 0.0036247632434167234\n",
      "New linesearch\n",
      "Wolfe condition satisfied on point alpha = 0.038458830512263634\n",
      "New linesearch\n",
      "Wolfe condition satisfied on point alpha = 0.007381116096415378\n",
      "New linesearch\n",
      "Wolfe condition satisfied on point alpha = 0.008711700355763661\n",
      "New linesearch\n",
      "Wolfe condition satisfied on point alpha = 0.009444380595889866\n",
      "New linesearch\n",
      "Wolfe condition satisfied on point alpha = 0.022434111228264515\n",
      "New linesearch\n",
      "Wolfe condition satisfied on point alpha = 0.014147628789371397\n",
      "New linesearch\n",
      "bracketing: ia = 1, ib = 2, c = 0.1946698514354977, phic = 112.23740831518109, dphic = 30.49180886029777\n",
      "linesearch: ia = 1, ib = 2, a = 0.0, b = 0.1946698514354977, phi(a) = 111.42699493614693, phi(b) = 112.23740831518109\n",
      "secant2: a = 0.0, b = 0.1946698514354977, c = 0.020222478015383304\n",
      "update: ia = 1, a = 0.0, ib = 2, b = 0.1946698514354977, c = 0.020222478015383304, phic = 111.3568754359008, dphic = -3.5308816004140233\n",
      "secant2: iA = 3, iB = 2, ic = 3\n",
      "secant2 output: a = 0.020222478015383304, b = 0.1946698514354977\n",
      "Linesearch: secant failed, using bisection\n",
      "update: ia = 3, a = 0.020222478015383304, ib = 2, b = 0.1946698514354977, c = 0.1074461647254405, phic = 111.01972595464294, dphic = -0.643074108349254\n",
      "linesearch: ia = 4, ib = 2, a = 0.1074461647254405, b = 0.1946698514354977, phi(a) = 111.01972595464294, phi(b) = 112.23740831518109\n",
      "secant2: a = 0.1074461647254405, b = 0.1946698514354977, c = 0.10924772263123025\n",
      "secant2: first c satisfied Wolfe conditions\n",
      "New linesearch\n",
      "Wolfe condition satisfied on point alpha = 0.013940780875390303\n",
      "New linesearch\n",
      "Wolfe condition satisfied on point alpha = 0.047337008307893495\n",
      "New linesearch\n",
      "Wolfe condition satisfied on point alpha = 0.010098207431253569\n",
      "New linesearch\n",
      "Wolfe condition satisfied on point alpha = 0.05060909112633416\n",
      "New linesearch\n",
      "Wolfe condition satisfied on point alpha = 0.027255574581147995\n",
      "New linesearch\n",
      "Wolfe condition satisfied on point alpha = 0.019712183994670035\n",
      "New linesearch\n",
      "Wolfe condition satisfied on point alpha = 0.01757274361746134\n",
      "New linesearch\n",
      "Wolfe condition satisfied on point alpha = 0.01401031070074203\n",
      "New linesearch\n",
      "Wolfe condition satisfied on point alpha = 0.014721157510331744\n",
      "New linesearch\n",
      "Wolfe condition satisfied on point alpha = 0.014200757724298373\n",
      "New linesearch\n",
      "Wolfe condition satisfied on point alpha = 0.01899106243613592\n",
      "New linesearch\n",
      "Wolfe condition satisfied on point alpha = 0.008357861718100068\n",
      "New linesearch\n",
      "Wolfe condition satisfied on point alpha = 0.01785225514437749\n",
      "New linesearch\n",
      "Wolfe condition satisfied on point alpha = 0.028061790746283486\n",
      "New linesearch\n",
      "Wolfe condition satisfied on point alpha = 0.041776175863446015\n",
      "New linesearch\n",
      "Wolfe condition satisfied on point alpha = 0.01669492364166263\n",
      "New linesearch\n",
      "Wolfe condition satisfied on point alpha = 0.05118870728907895\n",
      "New linesearch\n",
      "Wolfe condition satisfied on point alpha = 0.01566417497343806\n",
      "New linesearch\n",
      "Wolfe condition satisfied on point alpha = 0.05172445298983028\n",
      "New linesearch\n",
      "Wolfe condition satisfied on point alpha = 0.012053064947226785\n",
      "New linesearch\n",
      "Wolfe condition satisfied on point alpha = 0.012978527482542856\n",
      "New linesearch\n",
      "Wolfe condition satisfied on point alpha = 0.015196772033478518\n",
      "New linesearch\n",
      "Wolfe condition satisfied on point alpha = 0.019976852022155753\n",
      "New linesearch\n",
      "Wolfe condition satisfied on point alpha = 0.04930076169733762\n",
      "New linesearch\n",
      "Wolfe condition satisfied on point alpha = 0.07212739739714277\n",
      "New linesearch\n",
      "Wolfe condition satisfied on point alpha = 0.028275243829256856\n",
      "New linesearch\n",
      "Wolfe condition satisfied on point alpha = 0.015161539446188836\n",
      "New linesearch\n",
      "Wolfe condition satisfied on point alpha = 0.014101184626904533\n",
      "New linesearch\n",
      "Wolfe condition satisfied on point alpha = 0.021544987810804182\n",
      "New linesearch\n",
      "Wolfe condition satisfied on point alpha = 0.013360752098579988\n",
      "New linesearch\n",
      "Wolfe condition satisfied on point alpha = 0.01866204024882729\n",
      "New linesearch\n",
      "Wolfe condition satisfied on point alpha = 0.021026910994993438\n",
      "New linesearch\n",
      "Wolfe condition satisfied on point alpha = 0.041435947979671824\n",
      "New linesearch\n",
      "Wolfe condition satisfied on point alpha = 0.011508901615437885\n",
      "New linesearch\n",
      "Wolfe condition satisfied on point alpha = 0.04353133571853356\n",
      "New linesearch\n",
      "Wolfe condition satisfied on point alpha = 0.014745999609457074\n",
      "New linesearch\n",
      "Wolfe condition satisfied on point alpha = 0.013184028203695084\n",
      "New linesearch\n",
      "Wolfe condition satisfied on point alpha = 0.011569910363061384\n",
      "New linesearch\n",
      "Wolfe condition satisfied on point alpha = 0.029265200310800894\n",
      "New linesearch\n",
      "Wolfe condition satisfied on point alpha = 0.013116582014189153\n",
      "New linesearch\n",
      "Wolfe condition satisfied on point alpha = 0.009040772079646533\n",
      "New linesearch\n",
      "Wolfe condition satisfied on point alpha = 0.04286099304422029\n",
      "New linesearch\n",
      "Wolfe condition satisfied on point alpha = 0.017437506212767972\n",
      "New linesearch\n",
      "Wolfe condition satisfied on point alpha = 0.024007263821230224\n",
      "New linesearch\n",
      "Wolfe condition satisfied on point alpha = 0.018645594264724497\n",
      "New linesearch\n",
      "Wolfe condition satisfied on point alpha = 0.03770315150765064\n",
      "New linesearch\n",
      "Wolfe condition satisfied on point alpha = 0.023871631960748325\n",
      "New linesearch\n",
      "Wolfe condition satisfied on point alpha = 0.018763946527726325\n",
      "New linesearch\n",
      "Wolfe condition satisfied on point alpha = 0.01774840369879658\n",
      "New linesearch\n",
      "Wolfe condition satisfied on point alpha = 0.010582801480535146\n",
      "New linesearch\n",
      "Wolfe condition satisfied on point alpha = 0.041438431621981964\n",
      "New linesearch\n",
      "Wolfe condition satisfied on point alpha = 0.009426784969881091\n",
      "New linesearch\n",
      "Wolfe condition satisfied on point alpha = 0.012938030043169887\n",
      "New linesearch\n",
      "Wolfe condition satisfied on point alpha = 0.0319445980971509\n",
      "New linesearch\n",
      "Wolfe condition satisfied on point alpha = 0.019942973339885463\n",
      "New linesearch\n",
      "Wolfe condition satisfied on point alpha = 0.016201554718798396\n",
      "New linesearch\n",
      "Wolfe condition satisfied on point alpha = 0.0189035737354539\n",
      "New linesearch\n",
      "Wolfe condition satisfied on point alpha = 0.04352993189330588\n",
      "New linesearch\n",
      "Wolfe condition satisfied on point alpha = 0.014644587491095977\n",
      "New linesearch\n",
      "Wolfe condition satisfied on point alpha = 0.026383824813249145\n",
      "New linesearch\n",
      "Wolfe condition satisfied on point alpha = 0.014913582999101668\n",
      "New linesearch\n",
      "Wolfe condition satisfied on point alpha = 0.015874928712885195\n",
      "New linesearch\n",
      "Wolfe condition satisfied on point alpha = 0.030755775594456615\n",
      "New linesearch\n",
      "Wolfe condition satisfied on point alpha = 0.008786190999657315\n",
      "New linesearch\n",
      "Wolfe condition satisfied on point alpha = 0.017999398734124844\n",
      "New linesearch\n",
      "Wolfe condition satisfied on point alpha = 0.01966702123482956\n",
      "New linesearch\n",
      "Wolfe condition satisfied on point alpha = 0.01404224301246015\n",
      "New linesearch\n",
      "Wolfe condition satisfied on point alpha = 0.011446903679133254\n",
      "New linesearch\n",
      "Wolfe condition satisfied on point alpha = 0.01718510851773291\n",
      "New linesearch\n",
      "Wolfe condition satisfied on point alpha = 0.018380676796700073\n",
      "New linesearch\n",
      "Wolfe condition satisfied on point alpha = 0.012104690812647256\n",
      "New linesearch\n",
      "Wolfe condition satisfied on point alpha = 0.021188304502535924\n",
      "New linesearch\n",
      "Wolfe condition satisfied on point alpha = 0.010363003673798155\n",
      "New linesearch\n",
      "Wolfe condition satisfied on point alpha = 0.02585828519693441\n",
      "New linesearch\n",
      "Wolfe condition satisfied on point alpha = 0.02714900531405477\n",
      "New linesearch\n",
      "Wolfe condition satisfied on point alpha = 0.009441511314054851\n",
      "New linesearch\n",
      "Wolfe condition satisfied on point alpha = 0.040930172389601664\n",
      "New linesearch\n",
      "Wolfe condition satisfied on point alpha = 0.024043497485625724\n",
      "New linesearch\n",
      "Wolfe condition satisfied on point alpha = 0.01687296756491387\n",
      "New linesearch\n",
      "Wolfe condition satisfied on point alpha = 0.018578680562975517\n",
      "New linesearch\n",
      "Wolfe condition satisfied on point alpha = 0.02747958911689188\n",
      "New linesearch\n",
      "Wolfe condition satisfied on point alpha = 0.020307747052356266\n",
      "New linesearch\n",
      "Wolfe condition satisfied on point alpha = 0.014802436390517962\n",
      "New linesearch\n",
      "Wolfe condition satisfied on point alpha = 0.01959997857245751\n",
      "New linesearch\n",
      "Wolfe condition satisfied on point alpha = 0.011017372024056601\n",
      "New linesearch\n",
      "Wolfe condition satisfied on point alpha = 0.03478800271775308\n",
      "New linesearch\n",
      "Wolfe condition satisfied on point alpha = 0.013824884440710939\n",
      "New linesearch\n",
      "Wolfe condition satisfied on point alpha = 0.009792764505717467\n",
      "New linesearch\n",
      "Wolfe condition satisfied on point alpha = 0.0486937743151473\n",
      "New linesearch\n",
      "Wolfe condition satisfied on point alpha = 0.01559035135933674\n",
      "  2.277290 seconds (339.10 k allocations: 76.491 MB, 25.63% gc time)\n"
     ]
    }
   ],
   "source": [
    "@time opt_out=optimize!(gp_small, iterations=100);"
   ]
  },
  {
   "cell_type": "code",
   "execution_count": 39,
   "metadata": {
    "collapsed": false,
    "scrolled": true
   },
   "outputs": [
    {
     "data": {
      "text/plain": [
       "Results of Optimization Algorithm\n",
       " * Algorithm: Conjugate Gradient\n",
       " * Starting Point: [-0.9499134263443492,-6.924741767283399, ...]\n",
       " * Minimizer: [-0.9466255395379776,-4.166389238658941, ...]\n",
       " * Minimum: 1.082305e+02\n",
       " * Iterations: 100\n",
       " * Convergence: false\n",
       "   * |x - x'| < 1.0e-32: false\n",
       "   * |f(x) - f(x')| / |f(x)| < 1.0e-32: false\n",
       "   * |g(x)| < 1.0e-08: false\n",
       "   * Reached Maximum Number of Iterations: true\n",
       " * Objective Function Calls: 306\n",
       " * Gradient Calls: 206"
      ]
     },
     "execution_count": 39,
     "metadata": {},
     "output_type": "execute_result"
    }
   ],
   "source": [
    "opt_out"
   ]
  },
  {
   "cell_type": "code",
   "execution_count": 40,
   "metadata": {
    "collapsed": false
   },
   "outputs": [
    {
     "name": "stdout",
     "output_type": "stream",
     "text": [
      "  0.211536 seconds (10.23 k allocations: 76.648 MB, 1.74% gc time)\n",
      "Iter     Function value   Gradient norm \n",
      "     0     1.512206e+03     6.543916e+02\n",
      "Base.LinAlg.PosDefException(3)\n",
      "Base.LinAlg.PosDefException(401)\n",
      "New linesearch\n",
      "bracketing: ia = 1, ib = 2, c = 0.0020000000000000005, phic = 1795.670153067434, dphic = 1.7729432247979625e6\n",
      "linesearch: ia = 1, ib = 2, a = 0.0, b = 0.0020000000000000005, phi(a) = 1512.2058745840225, phi(b) = 1795.670153067434\n",
      "secant2: a = 0.0, b = 0.0020000000000000005, c = 0.0004418867739815495\n",
      "secant2: first c satisfied Wolfe conditions\n",
      "     1     1.313911e+03     5.194144e+02\n",
      "New linesearch\n",
      "Wolfe condition satisfied on point alpha = 0.001212821959310361\n",
      "     2     1.252359e+03     8.671482e+02\n",
      "New linesearch\n",
      "Wolfe condition satisfied on point alpha = 0.00028106649105842527\n",
      "     3     1.107255e+03     8.956162e+01\n",
      "New linesearch\n",
      "Wolfe condition satisfied on point alpha = 0.0003946570114909507\n",
      "     4     1.104099e+03     2.561977e+01\n",
      "New linesearch\n",
      "Wolfe condition satisfied on point alpha = 0.0018492355236269622\n",
      "     5     1.103325e+03     2.790927e+01\n",
      "New linesearch\n",
      "Wolfe condition satisfied on point alpha = 0.0008400446117797942\n",
      "     6     1.102819e+03     9.274169e+00\n",
      "New linesearch\n",
      "Wolfe condition satisfied on point alpha = 0.0020568085075548534\n",
      "     7     1.102666e+03     6.041615e+00\n",
      "New linesearch\n",
      "Wolfe condition satisfied on point alpha = 0.007667616783373351\n",
      "     8     1.102328e+03     4.900004e+00\n",
      "New linesearch\n",
      "Wolfe condition satisfied on point alpha = 0.0008783170961744913\n",
      "     9     1.102311e+03     3.069589e+00\n",
      "New linesearch\n",
      "Wolfe condition satisfied on point alpha = 0.002312808777765876\n",
      "    10     1.102277e+03     4.113373e+00\n",
      " 14.573388 seconds (330.37 k allocations: 690.264 MB, 0.60% gc time)\n",
      "Results of Optimization Algorithm\n",
      " * Algorithm: Conjugate Gradient\n",
      " * Starting Point: [0.0,-4.166389238658941, ...]\n",
      " * Minimizer: [-0.9162044057475519,-4.213472411999469, ...]\n",
      " * Minimum: 1.102277e+03\n",
      " * Iterations: 10\n",
      " * Convergence: false\n",
      "   * |x - x'| < 1.0e-32: false\n",
      "   * |f(x) - f(x')| / |f(x)| < 1.0e-32: false\n",
      "   * |g(x)| < 1.0e-08: false\n",
      "   * Reached Maximum Number of Iterations: true\n",
      " * Objective Function Calls: 34\n",
      " * Gradient Calls: 22\n",
      "[-0.916204,-4.21347,-0.180989,0.214756,21.7698,-2.40827,27.3302,1.47156,1.71823,5.5957,6.70029,-2.11331,3.49924,7.05086,-14.4183]\n"
     ]
    }
   ],
   "source": [
    "begin;\n",
    "    @time gp = GP(ts_arr[1:1000], temp_vec[1:1000], mean_func, _k_nonoise, _logNoise)\n",
    "    @time opt_out=optimize!(gp, iterations=10, show_trace=true);\n",
    "    print(opt_out)\n",
    "    print(\"\\n\")\n",
    "    println(opt_out.minimum)\n",
    "    global opt_out_1000 = opt_out.minimum\n",
    "end;"
   ]
  },
  {
   "cell_type": "code",
   "execution_count": 41,
   "metadata": {
    "collapsed": false
   },
   "outputs": [
    {
     "name": "stdout",
     "output_type": "stream",
     "text": [
      "  1.105694 seconds (22.23 k allocations: 305.904 MB, 33.77% gc time)\n",
      "Iter     Function value   Gradient norm \n",
      "     0     3.015223e+03     1.268494e+03\n",
      "New linesearch\n",
      "bracketing: ia = 1, ib = 2, c = 0.2, phic = 2.947606187356958e12, dphic = 2.6042046940991615e10\n",
      "linesearch: ia = 1, ib = 2, a = 0.0, b = 0.2, phi(a) = 3015.2229652737133, phi(b) = 2.947606187356958e12\n",
      "secant2: a = 0.0, b = 0.2, c = 1.4135114440490361e-5\n",
      "update: ia = 1, a = 0.0, ib = 2, b = 0.2, c = 1.4135114440490361e-5, phic = 2989.3469464258005, dphic = -1.8204130928647697e6\n",
      "secant2: iA = 3, iB = 2, ic = 3\n",
      "secant2: second c = 0.0012846149482150558\n",
      "update: ia = 3, a = 1.4135114440490361e-5, ib = 2, b = 0.2, c = 0.0012846149482150558, phic = 8171.477850953999, dphic = 2.388651495301821e7\n",
      "secant2 output: a = 1.4135114440490361e-5, b = 0.0012846149482150558\n",
      "Linesearch: secant succeeded\n",
      "linesearch: ia = 3, ib = 4, a = 1.4135114440490361e-5, b = 0.0012846149482150558, phi(a) = 2989.3469464258005, phi(b) = 8171.477850953999\n",
      "secant2: a = 1.4135114440490361e-5, b = 0.0012846149482150558, c = 0.00010410300634480037\n",
      "update: ia = 3, a = 1.4135114440490361e-5, ib = 4, b = 0.0012846149482150558, c = 0.00010410300634480037, phic = 2832.13984752546, dphic = -1.6667924754400258e6\n",
      "secant2: iA = 5, iB = 4, ic = 5\n",
      "secant2: second c = 0.0010802597733931248\n",
      "update: ia = 5, a = 0.00010410300634480037, ib = 4, b = 0.0012846149482150558, c = 0.0010802597733931248, phic = 4685.099212447562, dphic = 1.1439531156431641e7\n",
      "secant2 output: a = 0.00010410300634480037, b = 0.0010802597733931248\n",
      "Linesearch: secant failed, using bisection\n",
      "update: ia = 5, a = 0.00010410300634480037, ib = 6, b = 0.0010802597733931248, c = 0.0005921813898689626, phic = 2436.640826703113, dphic = 592431.746956962\n",
      "linesearch: ia = 5, ib = 7, a = 0.00010410300634480037, b = 0.0005921813898689626, phi(a) = 2832.13984752546, phi(b) = 2436.640826703113\n",
      "secant2: a = 0.00010410300634480037, b = 0.0005921813898689626, c = 0.0004641935936437768\n",
      "secant2: first c satisfied Wolfe conditions\n",
      "     1     2.425333e+03     3.464751e+02\n",
      "New linesearch\n",
      "Wolfe condition satisfied on point alpha = 0.0005428795690671512\n",
      "     2     2.379374e+03     4.365334e+02\n",
      "New linesearch\n",
      "Wolfe condition satisfied on point alpha = 0.00048418964652608207\n",
      "     3     2.349356e+03     2.149310e+02\n",
      "New linesearch\n",
      "Wolfe condition satisfied on point alpha = 0.0002943533175364293\n",
      "     4     2.340730e+03     9.808374e+01\n",
      "New linesearch\n",
      "Wolfe condition satisfied on point alpha = 0.0004197732645383409\n",
      "     5     2.338302e+03     1.553642e+01\n",
      "New linesearch\n",
      "Wolfe condition satisfied on point alpha = 0.0016985049390660385\n",
      "     6     2.337816e+03     2.914390e+01\n",
      "New linesearch\n",
      "Wolfe condition satisfied on point alpha = 0.0007684570897371872\n",
      "     7     2.337358e+03     3.014108e+01\n",
      "New linesearch\n",
      "Wolfe condition satisfied on point alpha = 0.0010260102162404517\n",
      "     8     2.336567e+03     2.716494e+01\n",
      "New linesearch\n",
      "Wolfe condition satisfied on point alpha = 0.0032101166476973288\n",
      "     9     2.334000e+03     7.632771e+01\n",
      "New linesearch\n",
      "Wolfe condition satisfied on point alpha = 0.0005135062200073608\n",
      "    10     2.332240e+03     3.277055e+01\n",
      " 69.620415 seconds (857.67 k allocations: 3.274 GB, 3.98% gc time)\n",
      "Results of Optimization Algorithm\n",
      " * Algorithm: Conjugate Gradient\n",
      " * Starting Point: [0.0,-4.213472411999469, ...]\n",
      " * Minimizer: [-0.8988833382670688,-4.39758161205712, ...]\n",
      " * Minimum: 2.332240e+03\n",
      " * Iterations: 10\n",
      " * Convergence: false\n",
      "   * |x - x'| < 1.0e-32: false\n",
      "   * |f(x) - f(x')| / |f(x)| < 1.0e-32: false\n",
      "   * |g(x)| < 1.0e-08: false\n",
      "   * Reached Maximum Number of Iterations: true\n",
      " * Objective Function Calls: 37\n",
      " * Gradient Calls: 27\n",
      "[-0.898883,-4.39758,-0.0132274,0.877756,21.7698,-2.40247,27.3302,1.41561,1.71757,5.48786,6.6948,-2.1014,3.49921,7.05086,-14.4183]\n"
     ]
    }
   ],
   "source": [
    "begin;\n",
    "    @time gp = GP(ts_arr[1:2000], temp_vec[1:2000], mean_func, _k_nonoise, _logNoise)\n",
    "    @time opt_out=optimize!(gp, iterations=10, show_trace=true, method=ConjugateGradient(eta=0.05));\n",
    "    print(opt_out)\n",
    "    print(\"\\n\")\n",
    "    println(opt_out.minimum)\n",
    "    global opt_out_2000 = opt_out.minimum\n",
    "end;"
   ]
  },
  {
   "cell_type": "code",
   "execution_count": 42,
   "metadata": {
    "collapsed": false
   },
   "outputs": [
    {
     "name": "stdout",
     "output_type": "stream",
     "text": [
      "  3.804290 seconds (46.24 k allocations: 1.194 GB, 16.39% gc time)\n",
      "Iter     Function value   Gradient norm \n",
      "     0     6.675537e+03     2.157892e+03\n",
      "Base.LinAlg.PosDefException(2)\n",
      "Base.LinAlg.PosDefException(9)\n",
      "New linesearch\n",
      "bracketing: ia = 1, ib = 2, c = 0.0020000000000000005, phic = 4.150125018382583e7, dphic = 2.020471736855663e11\n",
      "linesearch: ia = 1, ib = 2, a = 0.0, b = 0.0020000000000000005, phi(a) = 6675.536504402365, phi(b) = 4.150125018382583e7\n",
      "secant2: a = 0.0, b = 0.0020000000000000005, c = 5.994437520104476e-8\n",
      "update: ia = 1, a = 0.0, ib = 2, b = 0.0020000000000000005, c = 5.994437520104476e-8, phic = 6675.173510647184, dphic = -6.055042346919744e6\n",
      "secant2: iA = 3, iB = 2, ic = 3\n",
      "secant2: second c = 0.00038827609671842164\n",
      "update: ia = 3, a = 5.994437520104476e-8, ib = 2, b = 0.0020000000000000005, c = 0.00038827609671842164, phic = 6894.1067174071795, dphic = 1.2879299111495094e7\n",
      "secant2 output: a = 5.994437520104476e-8, b = 0.00038827609671842164\n",
      "Linesearch: secant succeeded\n",
      "linesearch: ia = 3, ib = 4, a = 5.994437520104476e-8, b = 0.00038827609671842164, phi(a) = 6675.173510647184, phi(b) = 6894.1067174071795\n",
      "secant2: a = 5.994437520104476e-8, b = 0.00038827609671842164, c = 0.00012420818831382295\n",
      "secant2: first c satisfied Wolfe conditions\n",
      "     1     6.074910e+03     1.312060e+03\n",
      "New linesearch\n",
      "Wolfe condition satisfied on point alpha = 0.00019932218136707025\n",
      "     2     5.884595e+03     1.277032e+03\n",
      "New linesearch\n",
      "Wolfe condition satisfied on point alpha = 0.00019345274984701748\n",
      "     3     5.757079e+03     3.081463e+02\n",
      "New linesearch\n",
      "Wolfe condition satisfied on point alpha = 0.00016085021895725302\n",
      "     4     5.745532e+03     5.751050e+01\n",
      "New linesearch\n",
      "Wolfe condition satisfied on point alpha = 0.0004683526254520032\n",
      "     5     5.743926e+03     5.776572e+01\n",
      "New linesearch\n",
      "Wolfe condition satisfied on point alpha = 0.00018855465869757647\n",
      "     6     5.743384e+03     9.944205e+00\n",
      "New linesearch\n",
      "Wolfe condition satisfied on point alpha = 0.0020275452829191976\n",
      "     7     5.743007e+03     2.598042e+01\n",
      "New linesearch\n",
      "Wolfe condition satisfied on point alpha = 0.001304255394574699\n",
      "     8     5.742180e+03     8.306789e+01\n",
      "New linesearch\n",
      "Wolfe condition satisfied on point alpha = 0.0007485308580003142\n",
      "     9     5.738660e+03     4.465751e+01\n",
      "New linesearch\n",
      "Wolfe condition satisfied on point alpha = 0.000922982248296012\n",
      "    10     5.736796e+03     6.837692e+01\n",
      "264.920333 seconds (1.69 M allocations: 11.610 GB, 1.75% gc time)\n",
      "Results of Optimization Algorithm\n",
      " * Algorithm: Conjugate Gradient\n",
      " * Starting Point: [0.0,-4.39758161205712, ...]\n",
      " * Minimizer: [-0.6614611488590152,-4.313584338325881, ...]\n",
      " * Minimum: 5.736796e+03\n",
      " * Iterations: 10\n",
      " * Convergence: false\n",
      "   * |x - x'| < 1.0e-32: false\n",
      "   * |f(x) - f(x')| / |f(x)| < 1.0e-32: false\n",
      "   * |g(x)| < 1.0e-08: false\n",
      "   * Reached Maximum Number of Iterations: true\n",
      " * Objective Function Calls: 36\n",
      " * Gradient Calls: 24\n",
      "[-0.661461,-4.31358,0.403991,1.27832,21.7698,-2.40135,27.3302,1.44192,2.07432,5.19799,6.67175,-1.74153,3.50036,7.05086,-14.4183]\n"
     ]
    }
   ],
   "source": [
    "begin;\n",
    "    @time gp = GP(ts_arr[1:4000], temp_vec[1:4000], mean_func, _k_nonoise, _logNoise)\n",
    "    @time opt_out=optimize!(gp, iterations=10, show_trace=true, method=ConjugateGradient(eta=0.1));\n",
    "    print(opt_out)\n",
    "    print(\"\\n\")\n",
    "    println(opt_out.minimum)\n",
    "    global opt_out_4000 = opt_out.minimum\n",
    "end;"
   ]
  },
  {
   "cell_type": "code",
   "execution_count": 43,
   "metadata": {
    "collapsed": false
   },
   "outputs": [
    {
     "name": "stdout",
     "output_type": "stream",
     "text": [
      "  8.431103 seconds (70.24 k allocations: 2.684 GB, 8.17% gc time)\n",
      "Iter     Function value   Gradient norm \n",
      "     0     9.849824e+03     3.372417e+03\n",
      "Base.LinAlg.PosDefException(34)\n",
      "Base.LinAlg.PosDefException(4395)\n",
      "New linesearch\n",
      "bracketing: ia = 1, ib = 2, c = 0.0020000000000000005, phic = 2.2853604651669308e10, dphic = 1.7361417558201794e14\n",
      "linesearch: ia = 1, ib = 2, a = 0.0, b = 0.0020000000000000005, phi(a) = 9849.823864996542, phi(b) = 2.2853604651669308e10\n",
      "secant2: a = 0.0, b = 0.0020000000000000005, c = 1.6577548249540753e-10\n",
      "update: ia = 1, a = 0.0, ib = 2, b = 0.0020000000000000005, c = 1.6577548249540753e-10, phic = 9849.821479405566, dphic = -1.4390479742579395e7\n",
      "secant2: iA = 3, iB = 2, ic = 3\n",
      "secant2: second c = 0.0002869782238223787\n",
      "update: ia = 3, a = 1.6577548249540753e-10, ib = 2, b = 0.0020000000000000005, c = 0.0002869782238223787, phic = 11414.337034809821, dphic = 4.895560495359543e7\n",
      "secant2 output: a = 1.6577548249540753e-10, b = 0.0002869782238223787\n",
      "Linesearch: secant succeeded\n",
      "linesearch: ia = 3, ib = 4, a = 1.6577548249540753e-10, b = 0.0002869782238223787, phi(a) = 9849.821479405566, phi(b) = 11414.337034809821\n",
      "secant2: a = 1.6577548249540753e-10, b = 0.0002869782238223787, c = 6.519364933008665e-5\n",
      "secant2: first c satisfied Wolfe conditions\n",
      "     1     9.044980e+03     2.466168e+03\n",
      "New linesearch\n",
      "Wolfe condition satisfied on point alpha = 0.00014282548543432527\n",
      "     2     8.694021e+03     1.702619e+03\n",
      "New linesearch\n",
      "Wolfe condition satisfied on point alpha = 0.0001060274011354621\n",
      "     3     8.522182e+03     8.549187e+02\n",
      "New linesearch\n",
      "Wolfe condition satisfied on point alpha = 0.00017752379035675797\n",
      "     4     8.467649e+03     3.720247e+02\n",
      "New linesearch\n",
      "Wolfe condition satisfied on point alpha = 9.638210559938321e-5\n",
      "     5     8.459967e+03     3.131239e+01\n",
      "New linesearch\n",
      "Wolfe condition satisfied on point alpha = 0.0005027059032463756\n",
      "     6     8.459166e+03     9.608785e+01\n",
      "New linesearch\n",
      "Wolfe condition satisfied on point alpha = 0.0002705150660573505\n",
      "     7     8.457188e+03     7.152597e+01\n",
      "New linesearch\n",
      "Wolfe condition satisfied on point alpha = 0.000910446361231336\n",
      "     8     8.452022e+03     1.001974e+02\n",
      "New linesearch\n",
      "bracketing: ia = 1, ib = 2, c = 0.0014393301309164371, phic = 8422.541548420128, dphic = -25875.358706951414\n",
      "bracketing: ia = 1, ib = 2, c = 0.007196650654582186, phic = 8505.507665859192, dphic = 128068.8335607899\n",
      "linesearch: ia = 2, ib = 3, a = 0.0014393301309164371, b = 0.007196650654582186, phi(a) = 8422.541548420128, phi(b) = 8505.507665859192\n",
      "secant2: a = 0.0014393301309164371, b = 0.007196650654582186, c = 0.0024070362297710776\n",
      "update: ia = 2, a = 0.0014393301309164371, ib = 3, b = 0.007196650654582186, c = 0.0024070362297710776, phic = 8389.036076375345, dphic = -41695.742879206024\n",
      "secant2: iA = 4, iB = 3, ic = 4\n",
      "secant2 output: a = 0.0024070362297710776, b = 0.007196650654582186\n",
      "Linesearch: secant failed, using bisection\n",
      "update: ia = 4, a = 0.0024070362297710776, ib = 3, b = 0.007196650654582186, c = 0.004801843442176632, phic = 8326.156751398985, dphic = 11538.072883993584\n",
      "linesearch: ia = 4, ib = 5, a = 0.0024070362297710776, b = 0.004801843442176632, phi(a) = 8389.036076375345, phi(b) = 8326.156751398985\n",
      "secant2: a = 0.0024070362297710776, b = 0.004801843442176632, c = 0.004282785024820979\n",
      "secant2: first c satisfied Wolfe conditions\n",
      "     9     8.326082e+03     1.921568e+03\n",
      "Base.LinAlg.PosDefException(3)\n",
      "Base.LinAlg.PosDefException(27)\n",
      "New linesearch\n",
      "bracketing: ia = 1, ib = 2, c = 8.56557004964196e-6, phic = 8814.667159671528, dphic = 1.2363909172935382e8\n",
      "linesearch: ia = 1, ib = 2, a = 0.0, b = 8.56557004964196e-6, phi(a) = 8326.08241193957, phi(b) = 8814.667159671528\n",
      "secant2: a = 0.0, b = 8.56557004964196e-6, c = 7.153436534862911e-7\n",
      "secant2: first c satisfied Wolfe conditions\n",
      "    10     8.321229e+03     2.105058e+03\n",
      "761.975857 seconds (3.09 M allocations: 31.467 GB, 0.83% gc time)\n",
      "Results of Optimization Algorithm\n",
      " * Algorithm: Conjugate Gradient\n",
      " * Starting Point: [0.0,-4.313584338325881, ...]\n",
      " * Minimizer: [-0.7513248607410146,-4.232854929489817, ...]\n",
      " * Minimum: 8.321229e+03\n",
      " * Iterations: 10\n",
      " * Convergence: false\n",
      "   * |x - x'| < 1.0e-32: false\n",
      "   * |f(x) - f(x')| / |f(x)| < 1.0e-32: false\n",
      "   * |g(x)| < 1.0e-08: false\n",
      "   * Reached Maximum Number of Iterations: true\n",
      " * Objective Function Calls: 43\n",
      " * Gradient Calls: 29\n",
      "8321.228978978028\n"
     ]
    }
   ],
   "source": [
    "begin;\n",
    "    @time gp = GP(ts_arr[1:6000], temp_vec[1:6000], mean_func, _k_nonoise, _logNoise)\n",
    "    @time opt_out=optimize!(gp, iterations=10, show_trace=true, method=ConjugateGradient(eta=0.1));\n",
    "    print(opt_out)\n",
    "    print(\"\\n\")\n",
    "    println(opt_out.minimum)\n",
    "    opt_out_6000 = opt_out.minimum\n",
    "end;"
   ]
  },
  {
   "cell_type": "code",
   "execution_count": 47,
   "metadata": {
    "collapsed": false
   },
   "outputs": [
    {
     "name": "stdout",
     "output_type": "stream",
     "text": [
      "[-0.946626,-4.23285,-0.993811,2.52342,21.7698,-2.40059,27.3302,1.56044,1.95804,4.34655,7.05903,0.315237,3.50061,7.05086,-14.4183]"
     ]
    }
   ],
   "source": [
    "print(get_params(gp_small))"
   ]
  },
  {
   "cell_type": "code",
   "execution_count": 71,
   "metadata": {
    "collapsed": false
   },
   "outputs": [
    {
     "name": "stdout",
     "output_type": "stream",
     "text": [
      " 39.341052 seconds (131.65 k allocations: 9.213 GB, 2.03% gc time)\n",
      "Iter     Function value   Gradient norm \n",
      "     0     1.722684e+04     5.988068e+03\n",
      "Base.LinAlg.PosDefException(3)\n",
      "Base.LinAlg.PosDefException(3653)\n",
      "Base.LinAlg.PosDefException(995)\n",
      "New linesearch\n",
      "bracketing: ia = 1, ib = 2, c = 0.00020000000000000006, phic = 25740.946757278052, dphic = 2.3127088971710098e8\n",
      "linesearch: ia = 1, ib = 2, a = 0.0, b = 0.00020000000000000006, phi(a) = 17226.83881388742, phi(b) = 25740.946757278052\n",
      "secant2: a = 0.0, b = 0.00020000000000000006, c = 2.9140642551439924e-5\n",
      "secant2: first c satisfied Wolfe conditions\n",
      "     1     1.621035e+04     4.630967e+03\n",
      "New linesearch\n",
      "Wolfe condition satisfied on point alpha = 8.828188482618482e-5\n",
      "     2     1.551076e+04     4.517686e+03\n",
      "New linesearch\n",
      "Wolfe condition satisfied on point alpha = 6.214371511399274e-5\n",
      "     3     1.490163e+04     1.685278e+03\n",
      "New linesearch\n",
      "Wolfe condition satisfied on point alpha = 0.00014421015277953016\n",
      "     4     1.468903e+04     1.067470e+03\n",
      "New linesearch\n",
      "Wolfe condition satisfied on point alpha = 8.63954551384735e-5\n",
      "     5     1.459540e+04     5.708194e+02\n",
      "New linesearch\n",
      "Wolfe condition satisfied on point alpha = 0.00016561229585061418\n",
      "     6     1.453829e+04     2.040792e+02\n",
      "New linesearch\n",
      "Wolfe condition satisfied on point alpha = 0.00023536329598230837\n",
      "     7     1.452700e+04     3.256168e+02\n",
      "New linesearch\n",
      "Wolfe condition satisfied on point alpha = 0.00011889174498940289\n",
      "     8     1.451160e+04     2.199353e+02\n",
      "New linesearch\n",
      "Wolfe condition satisfied on point alpha = 0.001375891871545488\n",
      "     9     1.443047e+04     2.726919e+02\n",
      "New linesearch\n",
      "Wolfe condition satisfied on point alpha = 0.00030338125250486383\n",
      "    10     1.439264e+04     6.155819e+02\n",
      "2511.324125 seconds (4.60 M allocations: 82.089 GB, 0.39% gc time)\n",
      "Results of Optimization Algorithm\n",
      " * Algorithm: Conjugate Gradient\n",
      " * Starting Point: [0.0,-4.232854929489817, ...]\n",
      " * Minimizer: [-0.7171951963414095,-4.229512294360467, ...]\n",
      " * Minimum: 1.439264e+04\n",
      " * Iterations: 10\n",
      " * Convergence: false\n",
      "   * |x - x'| < 1.0e-32: false\n",
      "   * |f(x) - f(x')| / |f(x)| < 1.0e-32: false\n",
      "   * |g(x)| < 1.0e-08: false\n",
      "   * Reached Maximum Number of Iterations: true\n",
      " * Objective Function Calls: 35\n",
      " * Gradient Calls: 22\n",
      "[-0.717195,-4.22951,-0.411848,2.3692,21.7698,-2.40058,27.3302,1.22032,1.46401,4.07631,6.97807,1.69243,3.49853,7.05086,-14.4183]\n"
     ]
    }
   ],
   "source": [
    "begin;\n",
    "    @time gp = GP(ts_arr, temp_vec, mean_func, _k_nonoise, _logNoise)\n",
    "    @time opt_out=optimize!(gp, iterations=10, show_trace=true);\n",
    "    print(opt_out)\n",
    "    print(\"\\n\")\n",
    "    println(opt_out.minimum)\n",
    "    opt_out_full = opt_out.minimum\n",
    "end;"
   ]
  }
 ],
 "metadata": {
  "kernelspec": {
   "display_name": "Julia 0.5.0-rc2",
   "language": "julia",
   "name": "julia-0.5"
  },
  "language_info": {
   "file_extension": ".jl",
   "mimetype": "application/julia",
   "name": "julia",
   "version": "0.5.0"
  },
  "nav_menu": {},
  "toc": {
   "navigate_menu": true,
   "number_sections": true,
   "sideBar": true,
   "threshold": 6,
   "toc_cell": true,
   "toc_section_display": "block",
   "toc_window_display": false
  }
 },
 "nbformat": 4,
 "nbformat_minor": 1
}
