{
 "cells": [
  {
   "cell_type": "markdown",
   "metadata": {
    "toc": "true"
   },
   "source": [
    "# Table of Contents\n",
    " <p><div class=\"lev1 toc-item\"><a href=\"#Updating-dmLL\" data-toc-modified-id=\"Updating-dmLL-1\"><span class=\"toc-item-num\">1&nbsp;&nbsp;</span>Updating dmLL</a></div><div class=\"lev2 toc-item\"><a href=\"#Optimize-grad_stack\" data-toc-modified-id=\"Optimize-grad_stack-1.1\"><span class=\"toc-item-num\">1.1&nbsp;&nbsp;</span>Optimize grad_stack</a></div><div class=\"lev2 toc-item\"><a href=\"#Optimize-update_mll_and_dmll\" data-toc-modified-id=\"Optimize-update_mll_and_dmll-1.2\"><span class=\"toc-item-num\">1.2&nbsp;&nbsp;</span>Optimize update_mll_and_dmll</a></div><div class=\"lev1 toc-item\"><a href=\"#Update-mLL\" data-toc-modified-id=\"Update-mLL-2\"><span class=\"toc-item-num\">2&nbsp;&nbsp;</span>Update mLL</a></div>"
   ]
  },
  {
   "cell_type": "code",
   "execution_count": 1,
   "metadata": {
    "collapsed": false
   },
   "outputs": [],
   "source": [
    "using GaussianProcesses"
   ]
  },
  {
   "cell_type": "code",
   "execution_count": 2,
   "metadata": {
    "collapsed": false
   },
   "outputs": [],
   "source": [
    "import PyPlot; plt=PyPlot\n",
    "using LaTeXStrings\n",
    "plt.rc(\"figure\", dpi=300.0)\n",
    "# plt.rc(\"figure\", figsize=(6,4))\n",
    "plt.rc(\"figure\", autolayout=true)\n",
    "plt.rc(\"savefig\", dpi=300.0)\n",
    "plt.rc(\"text\", usetex=true)\n",
    "plt.rc(\"font\", family=\"serif\")\n",
    "plt.rc(\"font\", serif=\"Palatino\")\n",
    "using TimeSeries\n",
    "using DataFrames\n",
    "using GaussianProcesses\n",
    "using GaussianProcesses: num_params, set_params!, get_params, grad_stack, grad_stack!, update_mll!, update_mll_and_dmll!, dKdθi!\n",
    "import Optim\n",
    ";"
   ]
  },
  {
   "cell_type": "code",
   "execution_count": 3,
   "metadata": {
    "collapsed": false
   },
   "outputs": [
    {
     "data": {
      "text/plain": [
       "10-element Array{DateTime,1}:\n",
       " 2015-01-01T00:52:00\n",
       " 2015-01-01T01:52:00\n",
       " 2015-01-01T02:52:00\n",
       " 2015-01-01T03:52:00\n",
       " 2015-01-01T04:52:00\n",
       " 2015-01-01T05:52:00\n",
       " 2015-01-01T06:52:00\n",
       " 2015-01-01T07:52:00\n",
       " 2015-01-01T08:52:00\n",
       " 2015-01-01T09:52:00"
      ]
     },
     "execution_count": 3,
     "metadata": {},
     "output_type": "execute_result"
    }
   ],
   "source": [
    "station_data = readtable(\"data2015/725450.14990.processed.2015.2015.csv\", \n",
    "    header=false,\n",
    "    names=[:year, :month, :day, :hour, :min, :seconds, :temp])\n",
    "station_data = station_data[!isnan(station_data[:temp]),:]    \n",
    "station_ts = DateTime[DateTime(r[:year], r[:month], r[:day], r[:hour], r[:min], r[:seconds]) for r in eachrow(station_data)]\n",
    "station_ts[1:10]"
   ]
  },
  {
   "cell_type": "code",
   "execution_count": 4,
   "metadata": {
    "collapsed": false
   },
   "outputs": [],
   "source": [
    "k0 = Noise(0.0)\n",
    "k1 = Periodic(log(0.5), log(√(10.0)), log(24.0))\n",
    "k2 = RQIso(log(0.1*24), log(√10.0), 3.0) # short term\n",
    "k3 = RQIso(log(3.0*24), log(√20.0), 3.0)\n",
    "k4 = RQIso(log(10.0*24), log(√20.0), 3.0)\n",
    "k5 = SE(log(200.0*24), log(√80.0))\n",
    "_k=k0+k1+k2+k3+k4+k5\n",
    "_k_nonoise=k1+k2+k3+k4+k5\n",
    "_logNoise=k0.lσ\n",
    "hyp=[-0.359207,0.36883,1.45171,3.17741,2.0342,1.17682,2.88579,4.28659,1.49533,-0.16544,6.81425,1.3045,3.49925,7.34764,2.16028]\n",
    "GaussianProcesses.set_params!(_k, hyp)"
   ]
  },
  {
   "cell_type": "code",
   "execution_count": 5,
   "metadata": {
    "collapsed": true
   },
   "outputs": [],
   "source": [
    "ms_per_hour = 1e3*3600\n",
    "ts_vec = convert(Vector{Float64}, station_ts.-station_ts[1]) / ms_per_hour\n",
    "ts_arr = reshape(ts_vec, (1,length(ts_vec)));"
   ]
  },
  {
   "cell_type": "code",
   "execution_count": 6,
   "metadata": {
    "collapsed": false
   },
   "outputs": [
    {
     "name": "stdout",
     "output_type": "stream",
     "text": [
      "  6.088243 seconds (2.16 M allocations: 1.277 GB, 13.61% gc time)\n"
     ]
    }
   ],
   "source": [
    "mean_func = MeanConst(mean(station_data[:temp]))\n",
    "temp_vec = convert(Vector{Float64}, station_data[:temp])\n",
    "@time gp_fit = GP(ts_arr[1:4000], temp_vec[1:4000], mean_func, _k_nonoise, -9.0);\n",
    "gp_small = GP(ts_arr[1:100], temp_vec[1:100], mean_func, _k_nonoise, -9.0);"
   ]
  },
  {
   "cell_type": "code",
   "execution_count": 7,
   "metadata": {
    "collapsed": false
   },
   "outputs": [
    {
     "data": {
      "text/plain": [
       "(11118,)"
      ]
     },
     "execution_count": 7,
     "metadata": {},
     "output_type": "execute_result"
    }
   ],
   "source": [
    "size(temp_vec)"
   ]
  },
  {
   "cell_type": "markdown",
   "metadata": {},
   "source": [
    "# Updating dmLL"
   ]
  },
  {
   "cell_type": "code",
   "execution_count": 8,
   "metadata": {
    "collapsed": false
   },
   "outputs": [
    {
     "name": "stdout",
     "output_type": "stream",
     "text": [
      " 67.387235 seconds (168.25 M allocations: 16.217 GB, 12.73% gc time)\n"
     ]
    },
    {
     "data": {
      "text/plain": [
       "16-element Array{Float64,1}:\n",
       "      2.05225e8\n",
       "     -4.10579  \n",
       "     -1.83856e7\n",
       "      2.26609e6\n",
       "      7.07995e8\n",
       "     -1.87513e7\n",
       "      1.76462e6\n",
       "     -2.21872e6\n",
       " -26706.3      \n",
       "  34353.6      \n",
       "   1796.55     \n",
       "   -188.466    \n",
       "    171.744    \n",
       "   -132.615    \n",
       "   -359.407    \n",
       "   1760.4      "
      ]
     },
     "execution_count": 8,
     "metadata": {},
     "output_type": "execute_result"
    }
   ],
   "source": [
    "GaussianProcesses.update_mll_and_dmll!(gp_small);\n",
    "@time GaussianProcesses.update_mll_and_dmll!(gp_fit);\n",
    "prev_dmLL=gp_small.dmLL"
   ]
  },
  {
   "cell_type": "markdown",
   "metadata": {},
   "source": [
    "## Optimize grad_stack"
   ]
  },
  {
   "cell_type": "code",
   "execution_count": 9,
   "metadata": {
    "collapsed": false
   },
   "outputs": [
    {
     "ename": "LoadError",
     "evalue": "LoadError: error in method definition: function GaussianProcesses.grad_stack! must be explicitly imported to be extended\nwhile loading In[9], in expression starting on line 1",
     "output_type": "error",
     "traceback": [
      "LoadError: error in method definition: function GaussianProcesses.grad_stack! must be explicitly imported to be extended\nwhile loading In[9], in expression starting on line 1",
      ""
     ]
    }
   ],
   "source": [
    "function grad_stack!(stack::AbstractArray, rq::RQIso, X::Matrix{Float64}, data::GaussianProcesses.IsotropicData)\n",
    "    nobsv = size(X,2)\n",
    "    R = GaussianProcesses.distance(rq, X, data)\n",
    "    \n",
    "    for i in 1:nobsv, j in 1:i\n",
    "        # Check these derivatives!\n",
    "        @inbounds stack[i,j,1] = rq.σ2*((R[i,j])/rq.ℓ2)*(1.0+(R[i,j])/(2*rq.α*rq.ℓ2))^(-rq.α-1.0)  # dK_d(log ℓ)dK_dℓ\n",
    "        @inbounds stack[i,j,2] = 2.0*rq.σ2*(1+(R[i,j])/(2*rq.α*rq.ℓ2))^(-rq.α) # dK_d(log σ)\n",
    "\n",
    "        part = (1.0+R[i,j]/(2*rq.α*rq.ℓ2))\n",
    "        @inbounds stack[i,j,3] = rq.σ2*part^(-rq.α)*((R[i,j])/(2*rq.ℓ2*part)-rq.α*log(part))*rq.α  # dK_d(log α)\n",
    "        \n",
    "        @inbounds stack[j,i,1] = stack[i,j,1]\n",
    "        @inbounds stack[j,i,3] = stack[i,j,3]\n",
    "        @inbounds stack[j,i,2] = stack[i,j,2]\n",
    "    end\n",
    "    return stack\n",
    "end"
   ]
  },
  {
   "cell_type": "code",
   "execution_count": 12,
   "metadata": {
    "collapsed": false
   },
   "outputs": [
    {
     "name": "stdout",
     "output_type": "stream",
     "text": [
      "  0.617789 seconds (22 allocations: 912 bytes)\n"
     ]
    }
   ],
   "source": [
    "_rq = gp_fit.k.kerns[3]\n",
    "Ksmall = Array(Float64, gp_small.nobsv, gp_small.nobsv)\n",
    "Kgrad = Array(Float64, gp_fit.nobsv, gp_fit.nobsv)\n",
    "dKdθi!(Ksmall, gp_small.k, gp_small.X, gp_small.data,5)\n",
    "# prev_grad_stack = Ksmall;\n",
    "@time dKdθi!(Kgrad, gp_fit.k, gp_fit.X, gp_fit.data, 5);"
   ]
  },
  {
   "cell_type": "code",
   "execution_count": 29,
   "metadata": {
    "collapsed": false
   },
   "outputs": [
    {
     "data": {
      "text/plain": [
       "5-element Array{GaussianProcesses.Kernel,1}:\n",
       " Type: GaussianProcesses.Periodic, Params: [0.36883,1.45171,3.17741]\n",
       "\n",
       " Type: GaussianProcesses.RQIso, Params: [2.0342,1.17682,2.88579]\n",
       "    \n",
       " Type: GaussianProcesses.RQIso, Params: [4.28659,1.49533,-0.16544]\n",
       "  \n",
       " Type: GaussianProcesses.RQIso, Params: [6.81425,1.3045,3.49925]\n",
       "    \n",
       " Type: GaussianProcesses.SEIso, Params: [7.34764,2.16028]\n",
       "           "
      ]
     },
     "execution_count": 29,
     "metadata": {},
     "output_type": "execute_result"
    }
   ],
   "source": [
    "gp_fit.k.kerns"
   ]
  },
  {
   "cell_type": "code",
   "execution_count": 80,
   "metadata": {
    "collapsed": false
   },
   "outputs": [
    {
     "name": "stderr",
     "output_type": "stream",
     "text": [
      "WARNING: Method definition dKdθi!(AbstractArray{T<:Any, 2}, GaussianProcesses.Periodic, Array{Float64, 2}, GaussianProcesses.IsotropicData, Int64) in module Main at In[77]:2 overwritten at In[80]:2.\n"
     ]
    }
   ],
   "source": [
    "function GaussianProcesses.dKdθi!(Kgrad::AbstractMatrix,  pe::Periodic, X::Matrix{Float64}, data::GaussianProcesses.IsotropicData, iparam::Int)\n",
    "    1 <= iparam <= num_params(pe) || throw(ArgumentError, \"iparam must be between 1 and %d\", num_params(pe))\n",
    "    d, nobsv = size(X)\n",
    "    R = GaussianProcesses.distance!(pe, X, data)\n",
    "    \n",
    "    if iparam==1\n",
    "        @inbounds for j in 1:nobsv\n",
    "            @simd for i in 1:j        \n",
    "                Kgrad[i,j] = 4.0*pe.σ2*(sin(π*R[i,j]/pe.p)^2/pe.ℓ2)*exp(-2/pe.ℓ2*sin(π*R[i,j]/pe.p)^2)  # dK_dlogℓ\n",
    "                Kgrad[j,i] = Kgrad[i,j]\n",
    "            end\n",
    "        end\n",
    "    elseif iparam==2\n",
    "        @inbounds for j in 1:nobsv\n",
    "            @simd for i in 1:j        \n",
    "                Kgrad[i,j] = 2.0*pe.σ2*exp(-2/pe.ℓ2*sin(π*R[i,j]/pe.p)^2)        # dK_dlogσ\n",
    "                Kgrad[j,i] = Kgrad[i,j]\n",
    "            end\n",
    "        end\n",
    "    elseif iparam==3 \n",
    "        @inbounds for j in 1:nobsv\n",
    "            @simd for i in 1:j  \n",
    "                Kgrad[i,j] = 4.0/pe.ℓ2*pe.σ2*(π*R[i,j]/pe.p)*sin(π*R[i,j]/pe.p)*cos(π*R[i,j]/pe.p)*exp(-2/pe.ℓ2*sin(π*R[i,j]/pe.p)^2)    # dK_dlogp\n",
    "                Kgrad[j,i] = Kgrad[i,j]\n",
    "            end\n",
    "        end\n",
    "    end\n",
    "    return Kgrad\n",
    "end"
   ]
  },
  {
   "cell_type": "code",
   "execution_count": 98,
   "metadata": {
    "collapsed": false
   },
   "outputs": [
    {
     "name": "stderr",
     "output_type": "stream",
     "text": [
      "WARNING: Method definition dKdθi3!(Array{Float64, 2}, GaussianProcesses.Periodic, Array{Float64, 2}, GaussianProcesses.IsotropicData, Int64) in module Main at In[92]:3 overwritten at In[98]:2.\n"
     ]
    },
    {
     "data": {
      "text/plain": [
       "dKdθi3! (generic function with 2 methods)"
      ]
     },
     "execution_count": 98,
     "metadata": {},
     "output_type": "execute_result"
    }
   ],
   "source": [
    "function dKdθi3!(Kgrad::Matrix{Float64},  pe::Periodic, X::Matrix{Float64}, data::GaussianProcesses.IsotropicData, iparam::Int)\n",
    "    1 <= iparam <= num_params(pe) || throw(ArgumentError, \"iparam must be between 1 and %d\", num_params(pe))\n",
    "    d, nobsv = size(X)\n",
    "    R = GaussianProcesses.distance!(pe, X, data)\n",
    "    @inbounds for j in 1:nobsv\n",
    "        @simd for i in 1:j\n",
    "            phase=π*R[i,j]/pe.p\n",
    "            Kgrad[i,j] = 4.0/pe.ℓ2*pe.σ2*(phase)*sin(phase)*cos(phase)*exp(-2/pe.ℓ2*sin(phase)^2.0)    # dK_dlogp\n",
    "            Kgrad[j,i] = Kgrad[i,j]\n",
    "        end\n",
    "    end\n",
    "    return Kgrad\n",
    "end"
   ]
  },
  {
   "cell_type": "code",
   "execution_count": 79,
   "metadata": {
    "collapsed": false
   },
   "outputs": [
    {
     "name": "stdout",
     "output_type": "stream",
     "text": [
      "  0.702153 seconds (4 allocations: 160 bytes)\n"
     ]
    }
   ],
   "source": [
    "@time dKdθi!(Kgrad, \n",
    "    gp_fit.k.kerns[1], \n",
    "    gp_fit.X, \n",
    "    gp_fit.data.datadict[Symbol(\"IsotropicData_Distances.Euclidean()\")],\n",
    "    3);"
   ]
  },
  {
   "cell_type": "code",
   "execution_count": 101,
   "metadata": {
    "collapsed": false
   },
   "outputs": [
    {
     "name": "stdout",
     "output_type": "stream",
     "text": [
      "  1.309343 seconds (4 allocations: 160 bytes)\n"
     ]
    }
   ],
   "source": [
    "@time dKdθi3!(Kgrad, \n",
    "    gp_fit.k.kerns[1], \n",
    "    gp_fit.X, \n",
    "    gp_fit.data.datadict[Symbol(\"IsotropicData_Distances.Euclidean()\")],\n",
    "    3);"
   ]
  },
  {
   "cell_type": "code",
   "execution_count": 109,
   "metadata": {
    "collapsed": false
   },
   "outputs": [
    {
     "name": "stderr",
     "output_type": "stream",
     "text": [
      "WARNING: Method definition dKdθi3!(Array{Float64, 2}, GaussianProcesses.Periodic, Array{Float64, 2}, GaussianProcesses.IsotropicData, Int64) in module Main at In[106]:2 overwritten at In[109]:2.\n"
     ]
    },
    {
     "data": {
      "text/plain": [
       "dKdθi3! (generic function with 2 methods)"
      ]
     },
     "execution_count": 109,
     "metadata": {},
     "output_type": "execute_result"
    }
   ],
   "source": [
    "function dKdθi3!(Kgrad::Matrix{Float64},  pe::Periodic, X::Matrix{Float64}, data::GaussianProcesses.IsotropicData, iparam::Int)\n",
    "    1 <= iparam <= num_params(pe) || throw(ArgumentError, \"iparam must be between 1 and %d\", num_params(pe))\n",
    "    d, nobsv = size(X)\n",
    "    R = GaussianProcesses.distance!(pe, X, data)\n",
    "    K = 0.0\n",
    "    @inbounds for j in 1:nobsv\n",
    "        @simd for i in 1:j\n",
    "            phase=π*R[i,j]/pe.p\n",
    "            K += 4.0/pe.ℓ2*pe.σ2*(phase)*sin(phase)*cos(phase)*exp(-2/pe.ℓ2*sin(phase)^2.0)    # dK_dlogp\n",
    "        end\n",
    "    end\n",
    "    return Kgrad\n",
    "end"
   ]
  },
  {
   "cell_type": "code",
   "execution_count": 110,
   "metadata": {
    "collapsed": false
   },
   "outputs": [
    {
     "name": "stdout",
     "output_type": "stream",
     "text": [
      "  0.637696 seconds (9.81 k allocations: 400.853 KB)\n"
     ]
    }
   ],
   "source": [
    "@time dKdθi3!(Kgrad, \n",
    "    gp_fit.k.kerns[1], \n",
    "    gp_fit.X, \n",
    "    gp_fit.data.datadict[Symbol(\"IsotropicData_Distances.Euclidean()\")],\n",
    "    3);"
   ]
  },
  {
   "cell_type": "code",
   "execution_count": 42,
   "metadata": {
    "collapsed": false
   },
   "outputs": [
    {
     "name": "stdout",
     "output_type": "stream",
     "text": [
      "Variables:\n",
      "  #self#::GaussianProcesses.#dKdθi!\n",
      "  Kgrad::Array{Float64,2}\n",
      "  pe::GaussianProcesses.Periodic\n",
      "  X::Array{Float64,2}\n",
      "  data::GaussianProcesses.IsotropicData\n",
      "  iparam::Int64\n",
      "  d::Int64\n",
      "  nobsv::Int64\n",
      "  #temp#@_9::Int64\n",
      "  R::Array{Float64,2}\n",
      "  #temp#@_11::Int64\n",
      "  j@_12::Int64\n",
      "  r#309::UnitRange{Int64}\n",
      "  #temp#@_14::Int64\n",
      "  i#310::Int64\n",
      "  n#311::Int64\n",
      "  i@_17::Int64\n",
      "  i#312::Int64\n",
      "  i@_19::Int64\n",
      "  #temp#@_20::Int64\n",
      "  j@_21::Int64\n",
      "  r#305::UnitRange{Int64}\n",
      "  #temp#@_23::Int64\n",
      "  i#306::Int64\n",
      "  n#307::Int64\n",
      "  i@_26::Int64\n",
      "  i#308::Int64\n",
      "  i@_28::Int64\n",
      "  #temp#@_29::Int64\n",
      "  j@_30::Int64\n",
      "  r#301::UnitRange{Int64}\n",
      "  #temp#@_32::Int64\n",
      "  i#302::Int64\n",
      "  n#303::Int64\n",
      "  i@_35::Int64\n",
      "  i#304::Int64\n",
      "  i@_37::Int64\n",
      "  #temp#@_38::Bool\n",
      "  ret@_39::Int64\n",
      "  ret@_40::Int64\n",
      "  ret@_41::Int64\n",
      "  ret@_42::Int64\n",
      "  ret@_43::Int64\n",
      "  ret@_44::Int64\n",
      "\n",
      "Body:\n",
      "  begin \n",
      "      NewvarNode(:(d::Int64))\n",
      "      NewvarNode(:(nobsv::Int64))\n",
      "      NewvarNode(:(#temp#@_9::Int64))\n",
      "      NewvarNode(:(R::Array{Float64,2}))\n",
      "      unless (Base.sle_int)(1,iparam::Int64)::Bool goto 8\n",
      "      #temp#@_38::Bool = (Base.sle_int)(iparam::Int64,$(QuoteNode(3)))::Bool\n",
      "      goto 10\n",
      "      8: \n",
      "      #temp#@_38::Bool = false\n",
      "      10: \n",
      "      SSAValue(0) = #temp#@_38::Bool\n",
      "      unless SSAValue(0) goto 14\n",
      "      goto 16\n",
      "      14: \n",
      "      (GaussianProcesses.throw)(GaussianProcesses.ArgumentError,\"iparam must be between 1 and %d\",$(QuoteNode(3)))::UNION{}\n",
      "      16:  # line 46:\n",
      "      SSAValue(82) = (Base.arraysize)(X::Array{Float64,2},1)::Int64\n",
      "      SSAValue(83) = (Base.arraysize)(X::Array{Float64,2},2)::Int64\n",
      "      #temp#@_9::Int64 = $(QuoteNode(1))\n",
      "      SSAValue(84) = (Base.box)(Int64,(Base.add_int)(1,1))\n",
      "      d::Int64 = SSAValue(82)\n",
      "      #temp#@_9::Int64 = SSAValue(84)\n",
      "      SSAValue(85) = (Base.box)(Int64,(Base.add_int)(2,1))\n",
      "      nobsv::Int64 = SSAValue(83)\n",
      "      #temp#@_9::Int64 = SSAValue(85) # line 47:\n",
      "      R::Array{Float64,2} = (Core.ccall)(:jl_array_copy,(Core.apply_type)(Base.Ref,Array{Float64,2})::Type{Ref{Array{Float64,2}}},(Core.svec)(Base.Any)::SimpleVector,(Core.getfield)(data::GaussianProcesses.IsotropicData,:R)::Array{Float64,2},0)::Array{Float64,2} # line 49:\n",
      "      unless (iparam::Int64 === 1)::Bool goto 144 # line 50:\n",
      "      $(Expr(:inbounds, true))\n",
      "      SSAValue(86) = (Base.select_value)((Base.sle_int)(1,nobsv::Int64)::Bool,nobsv::Int64,(Base.box)(Int64,(Base.sub_int)(1,1)))::Int64\n",
      "      #temp#@_29::Int64 = 1\n",
      "      35: \n",
      "      unless (Base.box)(Base.Bool,(Base.not_int)((#temp#@_29::Int64 === (Base.box)(Int64,(Base.add_int)(SSAValue(86),1)))::Bool)) goto 141\n",
      "      SSAValue(87) = #temp#@_29::Int64\n",
      "      SSAValue(88) = (Base.box)(Int64,(Base.add_int)(#temp#@_29::Int64,1))\n",
      "      j@_30::Int64 = SSAValue(87)\n",
      "      #temp#@_29::Int64 = SSAValue(88) # line 51:\n",
      "      # meta: location simdloop.jl # line 65:\n",
      "      r#301::UnitRange{Int64} = $(Expr(:new, UnitRange{Int64}, 1, :((Base.select_value)((Base.sle_int)(1,j@_30)::Bool,j@_30,(Base.box)(Int64,(Base.sub_int)(1,1)))::Int64))) # line 66:\n",
      "      SSAValue(89) = (Base.select_value)((Base.sle_int)(0,0)::Bool,0,(Base.box)(Int64,(Base.sub_int)(0,1)))::Int64\n",
      "      #temp#@_32::Int64 = 0\n",
      "      48: \n",
      "      unless (Base.box)(Base.Bool,(Base.not_int)((#temp#@_32::Int64 === (Base.box)(Int64,(Base.add_int)(SSAValue(89),1)))::Bool)) goto 135\n",
      "      SSAValue(90) = #temp#@_32::Int64\n",
      "      SSAValue(91) = (Base.box)(Int64,(Base.add_int)(#temp#@_32::Int64,1))\n",
      "      i#302::Int64 = SSAValue(90)\n",
      "      #temp#@_32::Int64 = SSAValue(91) # line 67:\n",
      "      NewvarNode(:(i@_35::Int64))\n",
      "      n#303::Int64 = (Base.Checked.box)(Int64,(Base.Checked.checked_sadd_int)((Base.Checked.box)(Int64,(Base.Checked.checked_ssub_int)((Core.getfield)(r#301::UnitRange{Int64},:stop)::Int64,(Core.getfield)(r#301::UnitRange{Int64},:start)::Int64))::Int64,1))::Int64 # line 68:\n",
      "      unless (Base.slt_int)(0,n#303::Int64)::Bool goto 133 # line 70:\n",
      "      i#304::Int64 = 0 # line 71:\n",
      "      NewvarNode(:(i@_37::Int64))\n",
      "      63: \n",
      "      unless (Base.slt_int)(i#304::Int64,n#303::Int64)::Bool goto 130 # line 72:\n",
      "      $(Expr(:inbounds, false))\n",
      "      # meta: location simdloop.jl simd_index 50\n",
      "      $(Expr(:inbounds, true))\n",
      "      SSAValue(22) = (Base.box)(Int64,(Base.add_int)(i#304::Int64,1))\n",
      "      $(Expr(:inbounds, false))\n",
      "      # meta: location range.jl getindex 467\n",
      "      ret@_40::Int64 = (Base.box)(Int64,(Base.sub_int)((Base.box)(Int64,(Base.add_int)((Core.getfield)(r#301::UnitRange{Int64},:start)::Int64,SSAValue(22))),1)) # line 468:\n",
      "      $(Expr(:boundscheck, true))\n",
      "      SSAValue(23) = (Base.box)(Base.Bool,(Base.and_int)((Base.box)(Base.Bool,(Base.and_int)((Base.slt_int)(0,SSAValue(22))::Bool,(Base.sle_int)(ret@_40::Int64,(Core.getfield)(r#301::UnitRange{Int64},:stop)::Int64)::Bool)),(Base.sle_int)((Core.getfield)(r#301::UnitRange{Int64},:start)::Int64,ret@_40::Int64)::Bool))\n",
      "      unless SSAValue(23) goto 78\n",
      "      goto 80\n",
      "      78: \n",
      "      $(Expr(:invoke, LambdaInfo for throw_boundserror(::UnitRange{Int64}, ::Int64), :(Base.throw_boundserror), :(r#301), SSAValue(22)))\n",
      "      80: \n",
      "      $(Expr(:boundscheck, :pop))\n",
      "      # meta: pop location\n",
      "      $(Expr(:inbounds, :pop))\n",
      "      ret@_39::Int64 = ret@_40::Int64\n",
      "      $(Expr(:inbounds, :pop))\n",
      "      # meta: pop location\n",
      "      $(Expr(:inbounds, :pop))\n",
      "      i@_37::Int64 = ret@_39::Int64 # line 73:\n",
      "      # meta: location /Users/imolk/.julia/v0.5/GaussianProcesses/src/kernels/periodic.jl # line 52:\n",
      "      $(Expr(:inbounds, true))\n",
      "      SSAValue(33) = (Base.arrayref)(R::Array{Float64,2},i@_37::Int64,j@_30::Int64)::Float64\n",
      "      SSAValue(34) = (Base.FastMath.box)(Float64,((Core.getfield)(Base.FastMath.Base,:mul_float_fast)::I)($(QuoteNode(3.141592653589793)),SSAValue(33)))::Float64\n",
      "      SSAValue(35) = (Base.FastMath.box)(Float64,((Core.getfield)(Base.FastMath.Base,:div_float_fast)::I)(SSAValue(34),(Core.getfield)(pe::GaussianProcesses.Periodic,:p)::Float64))::Float64\n",
      "      SSAValue(37) = (Core.ccall)((Core.tuple)(\"sin\",Base.FastMath.libm)::Tuple{String,String},Base.FastMath.Float64,(Core.svec)(Base.FastMath.Float64)::SimpleVector,SSAValue(35),0)::Float64\n",
      "      SSAValue(38) = (Base.FastMath.box)(Float64,((Core.getfield)(Base.FastMath.Base,:powi_llvm)::I)(SSAValue(37),(Base.box)(Int32,(Base.checked_trunc_sint)(Int32,2))))::Float64\n",
      "      SSAValue(39) = (Base.FastMath.box)(Float64,((Core.getfield)(Base.FastMath.Base,:div_float_fast)::I)(SSAValue(38),(Core.getfield)(pe::GaussianProcesses.Periodic,:ℓ2)::Float64))::Float64\n",
      "      SSAValue(29) = (Base.FastMath.box)(Float64,((Core.getfield)(Base.FastMath.Base,:div_float_fast)::I)((Base.box)(Float64,(Base.sitofp)(Float64,-2)),(Core.getfield)(pe::GaussianProcesses.Periodic,:ℓ2)::Float64))::Float64\n",
      "      SSAValue(24) = (Base.arrayref)(R::Array{Float64,2},i@_37::Int64,j@_30::Int64)::Float64\n",
      "      SSAValue(25) = (Base.FastMath.box)(Float64,((Core.getfield)(Base.FastMath.Base,:mul_float_fast)::I)($(QuoteNode(3.141592653589793)),SSAValue(24)))::Float64\n",
      "      SSAValue(26) = (Base.FastMath.box)(Float64,((Core.getfield)(Base.FastMath.Base,:div_float_fast)::I)(SSAValue(25),(Core.getfield)(pe::GaussianProcesses.Periodic,:p)::Float64))::Float64\n",
      "      SSAValue(28) = (Core.ccall)((Core.tuple)(\"sin\",Base.FastMath.libm)::Tuple{String,String},Base.FastMath.Float64,(Core.svec)(Base.FastMath.Float64)::SimpleVector,SSAValue(26),0)::Float64\n",
      "      SSAValue(30) = (Base.FastMath.box)(Float64,((Core.getfield)(Base.FastMath.Base,:powi_llvm)::I)(SSAValue(28),(Base.box)(Int32,(Base.checked_trunc_sint)(Int32,2))))::Float64\n",
      "      SSAValue(31) = (Base.FastMath.box)(Float64,((Core.getfield)(Base.FastMath.Base,:mul_float_fast)::I)(SSAValue(29),SSAValue(30)))::Float64\n",
      "      SSAValue(92) = (Core.ccall)((Core.tuple)(\"exp\",Base.FastMath.libm)::Tuple{String,String},Base.FastMath.Float64,(Core.svec)(Base.FastMath.Float64)::SimpleVector,SSAValue(31),0)::Float64\n",
      "      $(Expr(:inbounds, false))\n",
      "      # meta: location fastmath.jl mul_fast 149\n",
      "      SSAValue(41) = (Base.FastMath.box)(Float64,((Core.getfield)(Base.FastMath.Base,:mul_float_fast)::I)(4.0,(Core.getfield)(pe::GaussianProcesses.Periodic,:σ2)::Float64))::Float64\n",
      "      # meta: location fastmath.jl mul_fast 149\n",
      "      SSAValue(42) = (Base.FastMath.box)(Float64,((Core.getfield)(Base.FastMath.Base,:mul_float_fast)::I)(SSAValue(41),SSAValue(39)))::Float64\n",
      "      # meta: pop location\n",
      "      # meta: pop location\n",
      "      $(Expr(:inbounds, :pop))\n",
      "      SSAValue(8) = (Base.FastMath.box)(Float64,((Core.getfield)(Base.FastMath.Base,:mul_float_fast)::I)(SSAValue(42),SSAValue(92)))::Float64\n",
      "      (Base.arrayset)(Kgrad::Array{Float64,2},SSAValue(8),i@_37::Int64,j@_30::Int64)::Array{Float64,2}\n",
      "      $(Expr(:inbounds, :pop)) # line 53:\n",
      "      $(Expr(:inbounds, true))\n",
      "      SSAValue(9) = (Base.arrayref)(Kgrad::Array{Float64,2},i@_37::Int64,j@_30::Int64)::Float64\n",
      "      (Base.arrayset)(Kgrad::Array{Float64,2},SSAValue(9),j@_30::Int64,i@_37::Int64)::Array{Float64,2}\n",
      "      $(Expr(:inbounds, :pop))\n",
      "      # meta: pop location # line 74:\n",
      "      i#304::Int64 = (Base.box)(Int64,(Base.add_int)(i#304::Int64,1)) # line 75:\n",
      "      $(Expr(:simdloop))\n",
      "      128: \n",
      "      goto 63\n",
      "      130:  # line 79:\n",
      "      i@_35::Int64 = (Core.getfield)(r#301::UnitRange{Int64},:stop)::Int64\n",
      "      133: \n",
      "      goto 48\n",
      "      135:  # line 84:\n",
      "      GaussianProcesses.nothing\n",
      "      # meta: pop location\n",
      "      139: \n",
      "      goto 35\n",
      "      141: \n",
      "      $(Expr(:inbounds, :pop))\n",
      "      goto 364\n",
      "      144:  # line 56:\n",
      "      unless (iparam::Int64 === 2)::Bool goto 251 # line 57:\n",
      "      $(Expr(:inbounds, true))\n",
      "      SSAValue(93) = (Base.select_value)((Base.sle_int)(1,nobsv::Int64)::Bool,nobsv::Int64,(Base.box)(Int64,(Base.sub_int)(1,1)))::Int64\n",
      "      #temp#@_20::Int64 = 1\n",
      "      151: \n",
      "      unless (Base.box)(Base.Bool,(Base.not_int)((#temp#@_20::Int64 === (Base.box)(Int64,(Base.add_int)(SSAValue(93),1)))::Bool)) goto 248\n",
      "      SSAValue(94) = #temp#@_20::Int64\n",
      "      SSAValue(95) = (Base.box)(Int64,(Base.add_int)(#temp#@_20::Int64,1))\n",
      "      j@_21::Int64 = SSAValue(94)\n",
      "      #temp#@_20::Int64 = SSAValue(95) # line 58:\n",
      "      # meta: location simdloop.jl # line 65:\n",
      "      r#305::UnitRange{Int64} = $(Expr(:new, UnitRange{Int64}, 1, :((Base.select_value)((Base.sle_int)(1,j@_21)::Bool,j@_21,(Base.box)(Int64,(Base.sub_int)(1,1)))::Int64))) # line 66:\n",
      "      SSAValue(96) = (Base.select_value)((Base.sle_int)(0,0)::Bool,0,(Base.box)(Int64,(Base.sub_int)(0,1)))::Int64\n",
      "      #temp#@_23::Int64 = 0\n",
      "      164: \n",
      "      unless (Base.box)(Base.Bool,(Base.not_int)((#temp#@_23::Int64 === (Base.box)(Int64,(Base.add_int)(SSAValue(96),1)))::Bool)) goto 242\n",
      "      SSAValue(97) = #temp#@_23::Int64\n",
      "      SSAValue(98) = (Base.box)(Int64,(Base.add_int)(#temp#@_23::Int64,1))\n",
      "      i#306::Int64 = SSAValue(97)\n",
      "      #temp#@_23::Int64 = SSAValue(98) # line 67:\n",
      "      NewvarNode(:(i@_26::Int64))\n",
      "      n#307::Int64 = (Base.Checked.box)(Int64,(Base.Checked.checked_sadd_int)((Base.Checked.box)(Int64,(Base.Checked.checked_ssub_int)((Core.getfield)(r#305::UnitRange{Int64},:stop)::Int64,(Core.getfield)(r#305::UnitRange{Int64},:start)::Int64))::Int64,1))::Int64 # line 68:\n",
      "      unless (Base.slt_int)(0,n#307::Int64)::Bool goto 240 # line 70:\n",
      "      i#308::Int64 = 0 # line 71:\n",
      "      NewvarNode(:(i@_28::Int64))\n",
      "      179: \n",
      "      unless (Base.slt_int)(i#308::Int64,n#307::Int64)::Bool goto 237 # line 72:\n",
      "      $(Expr(:inbounds, false))\n",
      "      # meta: location simdloop.jl simd_index 50\n",
      "      $(Expr(:inbounds, true))\n",
      "      SSAValue(43) = (Base.box)(Int64,(Base.add_int)(i#308::Int64,1))\n",
      "      $(Expr(:inbounds, false))\n",
      "      # meta: location range.jl getindex 467\n",
      "      ret@_42::Int64 = (Base.box)(Int64,(Base.sub_int)((Base.box)(Int64,(Base.add_int)((Core.getfield)(r#305::UnitRange{Int64},:start)::Int64,SSAValue(43))),1)) # line 468:\n",
      "      $(Expr(:boundscheck, true))\n",
      "      SSAValue(44) = (Base.box)(Base.Bool,(Base.and_int)((Base.box)(Base.Bool,(Base.and_int)((Base.slt_int)(0,SSAValue(43))::Bool,(Base.sle_int)(ret@_42::Int64,(Core.getfield)(r#305::UnitRange{Int64},:stop)::Int64)::Bool)),(Base.sle_int)((Core.getfield)(r#305::UnitRange{Int64},:start)::Int64,ret@_42::Int64)::Bool))\n",
      "      unless SSAValue(44) goto 194\n",
      "      goto 196\n",
      "      194: \n",
      "      $(Expr(:invoke, LambdaInfo for throw_boundserror(::UnitRange{Int64}, ::Int64), :(Base.throw_boundserror), :(r#305), SSAValue(43)))\n",
      "      196: \n",
      "      $(Expr(:boundscheck, :pop))\n",
      "      # meta: pop location\n",
      "      $(Expr(:inbounds, :pop))\n",
      "      ret@_41::Int64 = ret@_42::Int64\n",
      "      $(Expr(:inbounds, :pop))\n",
      "      # meta: pop location\n",
      "      $(Expr(:inbounds, :pop))\n",
      "      i@_28::Int64 = ret@_41::Int64 # line 73:\n",
      "      # meta: location /Users/imolk/.julia/v0.5/GaussianProcesses/src/kernels/periodic.jl # line 59:\n",
      "      $(Expr(:inbounds, true))\n",
      "      SSAValue(50) = (Base.FastMath.box)(Float64,((Core.getfield)(Base.FastMath.Base,:div_float_fast)::I)((Base.box)(Float64,(Base.sitofp)(Float64,-2)),(Core.getfield)(pe::GaussianProcesses.Periodic,:ℓ2)::Float64))::Float64\n",
      "      SSAValue(45) = (Base.arrayref)(R::Array{Float64,2},i@_28::Int64,j@_21::Int64)::Float64\n",
      "      SSAValue(46) = (Base.FastMath.box)(Float64,((Core.getfield)(Base.FastMath.Base,:mul_float_fast)::I)($(QuoteNode(3.141592653589793)),SSAValue(45)))::Float64\n",
      "      SSAValue(47) = (Base.FastMath.box)(Float64,((Core.getfield)(Base.FastMath.Base,:div_float_fast)::I)(SSAValue(46),(Core.getfield)(pe::GaussianProcesses.Periodic,:p)::Float64))::Float64\n",
      "      SSAValue(49) = (Core.ccall)((Core.tuple)(\"sin\",Base.FastMath.libm)::Tuple{String,String},Base.FastMath.Float64,(Core.svec)(Base.FastMath.Float64)::SimpleVector,SSAValue(47),0)::Float64\n",
      "      SSAValue(51) = (Base.FastMath.box)(Float64,((Core.getfield)(Base.FastMath.Base,:powi_llvm)::I)(SSAValue(49),(Base.box)(Int32,(Base.checked_trunc_sint)(Int32,2))))::Float64\n",
      "      SSAValue(52) = (Base.FastMath.box)(Float64,((Core.getfield)(Base.FastMath.Base,:mul_float_fast)::I)(SSAValue(50),SSAValue(51)))::Float64\n",
      "      SSAValue(99) = (Core.ccall)((Core.tuple)(\"exp\",Base.FastMath.libm)::Tuple{String,String},Base.FastMath.Float64,(Core.svec)(Base.FastMath.Float64)::SimpleVector,SSAValue(52),0)::Float64\n",
      "      $(Expr(:inbounds, false))\n",
      "      # meta: location fastmath.jl mul_fast 149\n",
      "      SSAValue(55) = (Base.FastMath.box)(Float64,((Core.getfield)(Base.FastMath.Base,:mul_float_fast)::I)(2.0,(Core.getfield)(pe::GaussianProcesses.Periodic,:σ2)::Float64))::Float64\n",
      "      # meta: pop location\n",
      "      $(Expr(:inbounds, :pop))\n",
      "      SSAValue(14) = (Base.FastMath.box)(Float64,((Core.getfield)(Base.FastMath.Base,:mul_float_fast)::I)(SSAValue(55),SSAValue(99)))::Float64\n",
      "      (Base.arrayset)(Kgrad::Array{Float64,2},SSAValue(14),i@_28::Int64,j@_21::Int64)::Array{Float64,2}\n",
      "      $(Expr(:inbounds, :pop)) # line 60:\n",
      "      $(Expr(:inbounds, true))\n",
      "      SSAValue(15) = (Base.arrayref)(Kgrad::Array{Float64,2},i@_28::Int64,j@_21::Int64)::Float64\n",
      "      (Base.arrayset)(Kgrad::Array{Float64,2},SSAValue(15),j@_21::Int64,i@_28::Int64)::Array{Float64,2}\n",
      "      $(Expr(:inbounds, :pop))\n",
      "      # meta: pop location # line 74:\n",
      "      i#308::Int64 = (Base.box)(Int64,(Base.add_int)(i#308::Int64,1)) # line 75:\n",
      "      $(Expr(:simdloop))\n",
      "      235: \n",
      "      goto 179\n",
      "      237:  # line 79:\n",
      "      i@_26::Int64 = (Core.getfield)(r#305::UnitRange{Int64},:stop)::Int64\n",
      "      240: \n",
      "      goto 164\n",
      "      242:  # line 84:\n",
      "      GaussianProcesses.nothing\n",
      "      # meta: pop location\n",
      "      246: \n",
      "      goto 151\n",
      "      248: \n",
      "      $(Expr(:inbounds, :pop))\n",
      "      goto 364\n",
      "      251:  # line 63:\n",
      "      unless (iparam::Int64 === 3)::Bool goto 364 # line 64:\n",
      "      $(Expr(:inbounds, true))\n",
      "      SSAValue(100) = (Base.select_value)((Base.sle_int)(1,nobsv::Int64)::Bool,nobsv::Int64,(Base.box)(Int64,(Base.sub_int)(1,1)))::Int64\n",
      "      #temp#@_11::Int64 = 1\n",
      "      258: \n",
      "      unless (Base.box)(Base.Bool,(Base.not_int)((#temp#@_11::Int64 === (Base.box)(Int64,(Base.add_int)(SSAValue(100),1)))::Bool)) goto 362\n",
      "      SSAValue(101) = #temp#@_11::Int64\n",
      "      SSAValue(102) = (Base.box)(Int64,(Base.add_int)(#temp#@_11::Int64,1))\n",
      "      j@_12::Int64 = SSAValue(101)\n",
      "      #temp#@_11::Int64 = SSAValue(102) # line 65:\n",
      "      # meta: location simdloop.jl # line 65:\n",
      "      r#309::UnitRange{Int64} = $(Expr(:new, UnitRange{Int64}, 1, :((Base.select_value)((Base.sle_int)(1,j@_12)::Bool,j@_12,(Base.box)(Int64,(Base.sub_int)(1,1)))::Int64))) # line 66:\n",
      "      SSAValue(103) = (Base.select_value)((Base.sle_int)(0,0)::Bool,0,(Base.box)(Int64,(Base.sub_int)(0,1)))::Int64\n",
      "      #temp#@_14::Int64 = 0\n",
      "      271: \n",
      "      unless (Base.box)(Base.Bool,(Base.not_int)((#temp#@_14::Int64 === (Base.box)(Int64,(Base.add_int)(SSAValue(103),1)))::Bool)) goto 356\n",
      "      SSAValue(104) = #temp#@_14::Int64\n",
      "      SSAValue(105) = (Base.box)(Int64,(Base.add_int)(#temp#@_14::Int64,1))\n",
      "      i#310::Int64 = SSAValue(104)\n",
      "      #temp#@_14::Int64 = SSAValue(105) # line 67:\n",
      "      NewvarNode(:(i@_17::Int64))\n",
      "      n#311::Int64 = (Base.Checked.box)(Int64,(Base.Checked.checked_sadd_int)((Base.Checked.box)(Int64,(Base.Checked.checked_ssub_int)((Core.getfield)(r#309::UnitRange{Int64},:stop)::Int64,(Core.getfield)(r#309::UnitRange{Int64},:start)::Int64))::Int64,1))::Int64 # line 68:\n",
      "      unless (Base.slt_int)(0,n#311::Int64)::Bool goto 354 # line 70:\n",
      "      i#312::Int64 = 0 # line 71:\n",
      "      NewvarNode(:(i@_19::Int64))\n",
      "      286: \n",
      "      unless (Base.slt_int)(i#312::Int64,n#311::Int64)::Bool goto 351 # line 72:\n",
      "      $(Expr(:inbounds, false))\n",
      "      # meta: location simdloop.jl simd_index 50\n",
      "      $(Expr(:inbounds, true))\n",
      "      SSAValue(56) = (Base.box)(Int64,(Base.add_int)(i#312::Int64,1))\n",
      "      $(Expr(:inbounds, false))\n",
      "      # meta: location range.jl getindex 467\n",
      "      ret@_44::Int64 = (Base.box)(Int64,(Base.sub_int)((Base.box)(Int64,(Base.add_int)((Core.getfield)(r#309::UnitRange{Int64},:start)::Int64,SSAValue(56))),1)) # line 468:\n",
      "      $(Expr(:boundscheck, true))\n",
      "      SSAValue(57) = (Base.box)(Base.Bool,(Base.and_int)((Base.box)(Base.Bool,(Base.and_int)((Base.slt_int)(0,SSAValue(56))::Bool,(Base.sle_int)(ret@_44::Int64,(Core.getfield)(r#309::UnitRange{Int64},:stop)::Int64)::Bool)),(Base.sle_int)((Core.getfield)(r#309::UnitRange{Int64},:start)::Int64,ret@_44::Int64)::Bool))\n",
      "      unless SSAValue(57) goto 301\n",
      "      goto 303\n",
      "      301: \n",
      "      $(Expr(:invoke, LambdaInfo for throw_boundserror(::UnitRange{Int64}, ::Int64), :(Base.throw_boundserror), :(r#309), SSAValue(56)))\n",
      "      303: \n",
      "      $(Expr(:boundscheck, :pop))\n",
      "      # meta: pop location\n",
      "      $(Expr(:inbounds, :pop))\n",
      "      ret@_43::Int64 = ret@_44::Int64\n",
      "      $(Expr(:inbounds, :pop))\n",
      "      # meta: pop location\n",
      "      $(Expr(:inbounds, :pop))\n",
      "      i@_19::Int64 = ret@_43::Int64 # line 73:\n",
      "      # meta: location /Users/imolk/.julia/v0.5/GaussianProcesses/src/kernels/periodic.jl # line 66:\n",
      "      $(Expr(:inbounds, true))\n",
      "      SSAValue(80) = (Base.FastMath.box)(Float64,((Core.getfield)(Base.FastMath.Base,:div_float_fast)::I)(4.0,(Core.getfield)(pe::GaussianProcesses.Periodic,:ℓ2)::Float64))::Float64\n",
      "      SSAValue(77) = (Base.arrayref)(R::Array{Float64,2},i@_19::Int64,j@_12::Int64)::Float64\n",
      "      SSAValue(78) = (Base.FastMath.box)(Float64,((Core.getfield)(Base.FastMath.Base,:mul_float_fast)::I)($(QuoteNode(3.141592653589793)),SSAValue(77)))::Float64\n",
      "      SSAValue(79) = (Base.FastMath.box)(Float64,((Core.getfield)(Base.FastMath.Base,:div_float_fast)::I)(SSAValue(78),(Core.getfield)(pe::GaussianProcesses.Periodic,:p)::Float64))::Float64\n",
      "      SSAValue(72) = (Base.arrayref)(R::Array{Float64,2},i@_19::Int64,j@_12::Int64)::Float64\n",
      "      SSAValue(73) = (Base.FastMath.box)(Float64,((Core.getfield)(Base.FastMath.Base,:mul_float_fast)::I)($(QuoteNode(3.141592653589793)),SSAValue(72)))::Float64\n",
      "      SSAValue(74) = (Base.FastMath.box)(Float64,((Core.getfield)(Base.FastMath.Base,:div_float_fast)::I)(SSAValue(73),(Core.getfield)(pe::GaussianProcesses.Periodic,:p)::Float64))::Float64\n",
      "      SSAValue(76) = (Core.ccall)((Core.tuple)(\"sin\",Base.FastMath.libm)::Tuple{String,String},Base.FastMath.Float64,(Core.svec)(Base.FastMath.Float64)::SimpleVector,SSAValue(74),0)::Float64\n",
      "      SSAValue(67) = (Base.arrayref)(R::Array{Float64,2},i@_19::Int64,j@_12::Int64)::Float64\n",
      "      SSAValue(68) = (Base.FastMath.box)(Float64,((Core.getfield)(Base.FastMath.Base,:mul_float_fast)::I)($(QuoteNode(3.141592653589793)),SSAValue(67)))::Float64\n",
      "      SSAValue(69) = (Base.FastMath.box)(Float64,((Core.getfield)(Base.FastMath.Base,:div_float_fast)::I)(SSAValue(68),(Core.getfield)(pe::GaussianProcesses.Periodic,:p)::Float64))::Float64\n",
      "      SSAValue(71) = (Core.ccall)((Core.tuple)(\"cos\",Base.FastMath.libm)::Tuple{String,String},Base.FastMath.Float64,(Core.svec)(Base.FastMath.Float64)::SimpleVector,SSAValue(69),0)::Float64\n",
      "      SSAValue(63) = (Base.FastMath.box)(Float64,((Core.getfield)(Base.FastMath.Base,:div_float_fast)::I)((Base.box)(Float64,(Base.sitofp)(Float64,-2)),(Core.getfield)(pe::GaussianProcesses.Periodic,:ℓ2)::Float64))::Float64\n",
      "      SSAValue(58) = (Base.arrayref)(R::Array{Float64,2},i@_19::Int64,j@_12::Int64)::Float64\n",
      "      SSAValue(59) = (Base.FastMath.box)(Float64,((Core.getfield)(Base.FastMath.Base,:mul_float_fast)::I)($(QuoteNode(3.141592653589793)),SSAValue(58)))::Float64\n",
      "      SSAValue(60) = (Base.FastMath.box)(Float64,((Core.getfield)(Base.FastMath.Base,:div_float_fast)::I)(SSAValue(59),(Core.getfield)(pe::GaussianProcesses.Periodic,:p)::Float64))::Float64\n",
      "      SSAValue(62) = (Core.ccall)((Core.tuple)(\"sin\",Base.FastMath.libm)::Tuple{String,String},Base.FastMath.Float64,(Core.svec)(Base.FastMath.Float64)::SimpleVector,SSAValue(60),0)::Float64\n",
      "      SSAValue(64) = (Base.FastMath.box)(Float64,((Core.getfield)(Base.FastMath.Base,:powi_llvm)::I)(SSAValue(62),(Base.box)(Int32,(Base.checked_trunc_sint)(Int32,2))))::Float64\n",
      "      SSAValue(65) = (Base.FastMath.box)(Float64,((Core.getfield)(Base.FastMath.Base,:mul_float_fast)::I)(SSAValue(63),SSAValue(64)))::Float64\n",
      "      SSAValue(106) = (Core.ccall)((Core.tuple)(\"exp\",Base.FastMath.libm)::Tuple{String,String},Base.FastMath.Float64,(Core.svec)(Base.FastMath.Float64)::SimpleVector,SSAValue(65),0)::Float64\n",
      "      SSAValue(20) = $(Expr(:invoke, LambdaInfo for mul_fast(::Float64, ::Float64, ::Float64, ::Vararg{Float64,N}), :(Base.FastMath.mul_fast), :((Base.FastMath.box)(Float64,((Core.getfield)(Base.FastMath.Base,:mul_float_fast)::I)(SSAValue(80),(Core.getfield)(pe,:σ2)::Float64))::Float64), SSAValue(79), SSAValue(76), SSAValue(71), SSAValue(106)))\n",
      "      (Base.arrayset)(Kgrad::Array{Float64,2},SSAValue(20),i@_19::Int64,j@_12::Int64)::Array{Float64,2}\n",
      "      $(Expr(:inbounds, :pop)) # line 67:\n",
      "      $(Expr(:inbounds, true))\n",
      "      SSAValue(21) = (Base.arrayref)(Kgrad::Array{Float64,2},i@_19::Int64,j@_12::Int64)::Float64\n",
      "      (Base.arrayset)(Kgrad::Array{Float64,2},SSAValue(21),j@_12::Int64,i@_19::Int64)::Array{Float64,2}\n",
      "      $(Expr(:inbounds, :pop))\n",
      "      # meta: pop location # line 74:\n",
      "      i#312::Int64 = (Base.box)(Int64,(Base.add_int)(i#312::Int64,1)) # line 75:\n",
      "      $(Expr(:simdloop))\n",
      "      349: \n",
      "      goto 286\n",
      "      351:  # line 79:\n",
      "      i@_17::Int64 = (Core.getfield)(r#309::UnitRange{Int64},:stop)::Int64\n",
      "      354: \n",
      "      goto 271\n",
      "      356:  # line 84:\n",
      "      GaussianProcesses.nothing\n",
      "      # meta: pop location\n",
      "      360: \n",
      "      goto 258\n",
      "      362: \n",
      "      $(Expr(:inbounds, :pop))\n",
      "      364:  # line 71:\n",
      "      return Kgrad::Array{Float64,2}\n",
      "  end::Array{Float64,2}\n"
     ]
    }
   ],
   "source": [
    "@code_warntype dKdθi!(Kgrad, \n",
    "    gp_fit.k.kerns[1], \n",
    "    gp_fit.X, \n",
    "    gp_fit.data.datadict[Symbol(\"IsotropicData_Distances.Euclidean()\")],\n",
    "    3);"
   ]
  },
  {
   "cell_type": "code",
   "execution_count": 36,
   "metadata": {
    "collapsed": false
   },
   "outputs": [
    {
     "name": "stdout",
     "output_type": "stream",
     "text": [
      "1    ./fastmath.jl:0; mul_fast(::Float64, ::Float64, ::...\n",
      "9643 ./task.jl:360; (::IJulia.##25#31)()\n",
      " 9643 .../IJulia/src/IJulia.jl:143; eventloop(::ZMQ.Socket)\n",
      "  9643 ...rc/execute_request.jl:170; execute_request(::ZMQ.Socket, ::...\n",
      "   9643 ./loading.jl:380; include_string(::String, ::String)\n",
      "    9643 ./<missing>:?; anonymous\n",
      "     9643 ./profile.jl:16; macro expansion;\n",
      "      9643 ...rnels/sum_kernel.jl:99; dKdθi!(::Array{Float64,2}, ::...\n",
      "       2    ...kernels/periodic.jl:47; dKdθi!(::Array{Float64,2}, :...\n",
      "       9641 ...kernels/periodic.jl:65; dKdθi!(::Array{Float64,2}, :...\n",
      "        2    ./simdloop.jl:68; macro expansion\n",
      "        1    ./simdloop.jl:71; macro expansion\n",
      "        9638 ./simdloop.jl:73; macro expansion\n",
      "         9507 ...ernels/periodic.jl:66; macro expansion\n",
      "          2310 ./fastmath.jl:0; mul_fast(::Float64, ::Float...\n",
      "          6266 ./fastmath.jl:149; mul_fast(::Float64, ::Float...\n",
      "           2005 ./fastmath.jl:0; mul_fast(::Float64, ::Floa...\n",
      "           3238 ./fastmath.jl:149; mul_fast(::Float64, ::Floa...\n",
      "            1668 ./fastmath.jl:0; mul_fast(::Float64, ::Floa...\n",
      "            624  ./fastmath.jl:149; mul_fast(::Float64, ::Floa...\n",
      "             3 ./fastmath.jl:140; mul_fast(::Float64, ::Float64)\n",
      "         131  ...ernels/periodic.jl:67; macro expansion\n"
     ]
    }
   ],
   "source": [
    "Profile.clear()\n",
    "@profile dKdθi!(Kgrad, gp_fit.k, gp_fit.X, gp_fit.data,3);\n",
    "Profile.print()"
   ]
  },
  {
   "cell_type": "code",
   "execution_count": 112,
   "metadata": {
    "collapsed": false
   },
   "outputs": [
    {
     "name": "stderr",
     "output_type": "stream",
     "text": [
      "WARNING: Method definition grad_stack!(AbstractArray, GaussianProcesses.RQIso, Array{Float64, 2}, GaussianProcesses.IsotropicData) in module Main at In[105]:2 overwritten at In[112]:2.\n"
     ]
    },
    {
     "data": {
      "text/plain": [
       "grad_stack! (generic function with 1 method)"
      ]
     },
     "execution_count": 112,
     "metadata": {},
     "output_type": "execute_result"
    }
   ],
   "source": [
    "function grad_stack!(stack::AbstractArray, rq::RQIso, X::Matrix{Float64}, data::GaussianProcesses.IsotropicData)\n",
    "    nobsv = size(X,2)\n",
    "    R = GaussianProcesses.distance(rq, X, data)\n",
    "    \n",
    "    for j in 1:nobsv, i in 1:j\n",
    "        # Check these derivatives!\n",
    "        @inbounds stack[i,j,1] = rq.σ2*((R[i,j])/rq.ℓ2)*(1.0+(R[i,j])/(2*rq.α*rq.ℓ2))^(-rq.α-1.0)  # dK_d(log ℓ)dK_dℓ\n",
    "        @inbounds stack[i,j,2] = 2.0*rq.σ2*(1+(R[i,j])/(2*rq.α*rq.ℓ2))^(-rq.α) # dK_d(log σ)\n",
    "\n",
    "        part = (1.0+R[i,j]/(2*rq.α*rq.ℓ2))\n",
    "        @inbounds stack[i,j,3] = rq.σ2*part^(-rq.α)*((R[i,j])/(2*rq.ℓ2*part)-rq.α*log(part))*rq.α  # dK_d(log α)\n",
    "        \n",
    "        @inbounds stack[j,i,1] = stack[i,j,1]\n",
    "        @inbounds stack[j,i,3] = stack[i,j,3]\n",
    "        @inbounds stack[j,i,2] = stack[i,j,2]\n",
    "    end\n",
    "    return stack\n",
    "end\n"
   ]
  },
  {
   "cell_type": "code",
   "execution_count": 113,
   "metadata": {
    "collapsed": false
   },
   "outputs": [
    {
     "name": "stdout",
     "output_type": "stream",
     "text": [
      "  2.669774 seconds (6 allocations: 122.071 MB, 1.02% gc time)\n"
     ]
    }
   ],
   "source": [
    "Ksmall = Array(Float64, gp_small.nobsv, gp_small.nobsv, GaussianProcesses.num_params(_rq))\n",
    "Kgrads = Array(Float64, gp_fit.nobsv, gp_fit.nobsv, GaussianProcesses.num_params(_rq))\n",
    "grad_stack!(Ksmall, _rq, gp_small.X, gp_small.data.kdatas[3])\n",
    "@assert isapprox(Ksmall, prev_grad_stack)\n",
    "@time grad_stack!(Kgrads, _rq, gp_fit.X, gp_fit.data.kdatas[3]);"
   ]
  },
  {
   "cell_type": "code",
   "execution_count": 114,
   "metadata": {
    "collapsed": false
   },
   "outputs": [
    {
     "name": "stderr",
     "output_type": "stream",
     "text": [
      "WARNING: Method definition grad_stack!(AbstractArray, GaussianProcesses.RQIso, Array{Float64, 2}, GaussianProcesses.IsotropicData) in module Main at In[112]:2 overwritten at In[114]:2.\n"
     ]
    },
    {
     "data": {
      "text/plain": [
       "grad_stack! (generic function with 1 method)"
      ]
     },
     "execution_count": 114,
     "metadata": {},
     "output_type": "execute_result"
    }
   ],
   "source": [
    "function grad_stack!(stack::AbstractArray, rq::RQIso, X::Matrix{Float64}, data::GaussianProcesses.IsotropicData)\n",
    "    nobsv = size(X,2)\n",
    "    R = GaussianProcesses.distance(rq, X, data)\n",
    "    # Check these derivatives!\n",
    "    @inbounds for j in 1:nobsv, i in 1:j\n",
    "        \n",
    "        stack[i,j,1] = rq.σ2*((R[i,j])/rq.ℓ2)*(1.0+(R[i,j])/(2*rq.α*rq.ℓ2))^(-rq.α-1.0)  # dK_d(log ℓ)dK_dℓ\n",
    "        stack[j,i,1] = stack[i,j,1]\n",
    "    end\n",
    "    @inbounds for j in 1:nobsv, i in 1:j\n",
    "        stack[i,j,2] = 2.0*rq.σ2*(1+(R[i,j])/(2*rq.α*rq.ℓ2))^(-rq.α) # dK_d(log σ)\n",
    "        stack[j,i,2] = stack[i,j,2]\n",
    "        \n",
    "    end\n",
    "    @inbounds for j in 1:nobsv, i in 1:j\n",
    "        part = (1.0+R[i,j]/(2*rq.α*rq.ℓ2))\n",
    "        stack[i,j,3] = rq.σ2*part^(-rq.α)*((R[i,j])/(2*rq.ℓ2*part)-rq.α*log(part))*rq.α  # dK_d(log α)\n",
    "        stack[j,i,3] = stack[i,j,3]\n",
    "    end   \n",
    "    return stack\n",
    "end"
   ]
  },
  {
   "cell_type": "code",
   "execution_count": 115,
   "metadata": {
    "collapsed": false
   },
   "outputs": [
    {
     "name": "stdout",
     "output_type": "stream",
     "text": [
      "  2.598202 seconds (6 allocations: 122.071 MB, 1.27% gc time)\n"
     ]
    }
   ],
   "source": [
    "Ksmall = Array(Float64, gp_small.nobsv, gp_small.nobsv, GaussianProcesses.num_params(_rq))\n",
    "Kgrads = Array(Float64, gp_fit.nobsv, gp_fit.nobsv, GaussianProcesses.num_params(_rq))\n",
    "grad_stack!(Ksmall, _rq, gp_small.X, gp_small.data.kdatas[3])\n",
    "@assert isapprox(Ksmall, prev_grad_stack)\n",
    "@time grad_stack!(Kgrads, _rq, gp_fit.X, gp_fit.data.kdatas[3]);"
   ]
  },
  {
   "cell_type": "code",
   "execution_count": 116,
   "metadata": {
    "collapsed": false
   },
   "outputs": [
    {
     "name": "stderr",
     "output_type": "stream",
     "text": [
      "WARNING: Method definition grad_stack!(AbstractArray, GaussianProcesses.RQIso, Array{Float64, 2}, GaussianProcesses.IsotropicData) in module Main at In[114]:2 overwritten at In[116]:2.\n"
     ]
    },
    {
     "data": {
      "text/plain": [
       "grad_stack! (generic function with 1 method)"
      ]
     },
     "execution_count": 116,
     "metadata": {},
     "output_type": "execute_result"
    }
   ],
   "source": [
    "function grad_stack!(stack::AbstractArray, rq::RQIso, X::Matrix{Float64}, data::GaussianProcesses.IsotropicData)\n",
    "    nobsv = size(X,2)\n",
    "    R = GaussianProcesses.distance!(rq, X, data)\n",
    "    # Check these derivatives!\n",
    "    @inbounds @fastmath for j in 1:nobsv\n",
    "        for i in 1:j        \n",
    "            stack[i,j,1] = rq.σ2*((R[i,j])/rq.ℓ2)*(1.0+(R[i,j])/(2*rq.α*rq.ℓ2))^(-rq.α-1.0)  # dK_d(log ℓ)dK_dℓ\n",
    "            stack[j,i,1] = stack[i,j,1]\n",
    "        end\n",
    "    end\n",
    "    @inbounds @fastmath for j in 1:nobsv\n",
    "        for i in 1:j\n",
    "            stack[i,j,2] = 2.0*rq.σ2*(1+(R[i,j])/(2*rq.α*rq.ℓ2))^(-rq.α) # dK_d(log σ)\n",
    "            stack[j,i,2] = stack[i,j,2]\n",
    "        end\n",
    "    end\n",
    "        \n",
    "    @inbounds @fastmath for j in 1:nobsv\n",
    "        for i in 1:j\n",
    "            part = (1.0+R[i,j]/(2*rq.α*rq.ℓ2))\n",
    "            stack[i,j,3] = rq.σ2*part^(-rq.α)*((R[i,j])/(2*rq.ℓ2*part)-rq.α*log(part))*rq.α  # dK_d(log α)\n",
    "            stack[j,i,3] = stack[i,j,3]\n",
    "        end\n",
    "    end   \n",
    "    return stack\n",
    "end"
   ]
  },
  {
   "cell_type": "code",
   "execution_count": 117,
   "metadata": {
    "collapsed": false
   },
   "outputs": [
    {
     "name": "stdout",
     "output_type": "stream",
     "text": [
      "  2.422838 seconds (4 allocations: 160 bytes)\n"
     ]
    }
   ],
   "source": [
    "Ksmall = Array(Float64, gp_small.nobsv, gp_small.nobsv, GaussianProcesses.num_params(_rq))\n",
    "Kgrads = Array(Float64, gp_fit.nobsv, gp_fit.nobsv, GaussianProcesses.num_params(_rq))\n",
    "grad_stack!(Ksmall, _rq, gp_small.X, gp_small.data.kdatas[3])\n",
    "@assert isapprox(Ksmall, prev_grad_stack)\n",
    "@time grad_stack!(Kgrads, _rq, gp_fit.X, gp_fit.data.kdatas[3]);"
   ]
  },
  {
   "cell_type": "code",
   "execution_count": 118,
   "metadata": {
    "collapsed": false
   },
   "outputs": [
    {
     "name": "stderr",
     "output_type": "stream",
     "text": [
      "WARNING: Method definition grad_stack!(AbstractArray, GaussianProcesses.RQIso, Array{Float64, 2}, GaussianProcesses.IsotropicData) in module Main at In[116]:2 overwritten at In[118]:2.\n"
     ]
    },
    {
     "data": {
      "text/plain": [
       "grad_stack! (generic function with 1 method)"
      ]
     },
     "execution_count": 118,
     "metadata": {},
     "output_type": "execute_result"
    }
   ],
   "source": [
    "function grad_stack!(stack::AbstractArray, rq::RQIso, X::Matrix{Float64}, data::GaussianProcesses.IsotropicData)\n",
    "    nobsv = size(X,2)\n",
    "    R = GaussianProcesses.distance!(rq, X, data)\n",
    "\n",
    "    # Check these derivatives!\n",
    "    @inbounds @fastmath for j in 1:nobsv\n",
    "        @simd for i in 1:j        \n",
    "            stack[i,j,1] = rq.σ2*((R[i,j])/rq.ℓ2)*(1.0+(R[i,j])/(2*rq.α*rq.ℓ2))^(-rq.α-1.0)  # dK_d(log ℓ)dK_dℓ\n",
    "            stack[j,i,1] = stack[i,j,1]\n",
    "        end\n",
    "    end\n",
    "    @inbounds @fastmath for j in 1:nobsv\n",
    "        @simd for i in 1:j\n",
    "            stack[i,j,2] = 2.0*rq.σ2*(1+(R[i,j])/(2*rq.α*rq.ℓ2))^(-rq.α) # dK_d(log σ)\n",
    "            stack[j,i,2] = stack[i,j,2]\n",
    "        end\n",
    "    end\n",
    "        \n",
    "    @inbounds @fastmath for j in 1:nobsv\n",
    "        @simd for i in 1:j\n",
    "            part = (1.0+R[i,j]/(2*rq.α*rq.ℓ2))\n",
    "            stack[i,j,3] = rq.σ2*part^(-rq.α)*((R[i,j])/(2*rq.ℓ2*part)-rq.α*log(part))*rq.α  # dK_d(log α)\n",
    "            stack[j,i,3] = stack[i,j,3]\n",
    "        end\n",
    "    end   \n",
    "    return stack\n",
    "end"
   ]
  },
  {
   "cell_type": "code",
   "execution_count": 119,
   "metadata": {
    "collapsed": false
   },
   "outputs": [
    {
     "name": "stdout",
     "output_type": "stream",
     "text": [
      "  2.394021 seconds (4 allocations: 160 bytes)\n"
     ]
    }
   ],
   "source": [
    "Ksmall = Array(Float64, gp_small.nobsv, gp_small.nobsv, GaussianProcesses.num_params(_rq))\n",
    "Kgrads = Array(Float64, gp_fit.nobsv, gp_fit.nobsv, GaussianProcesses.num_params(_rq))\n",
    "grad_stack!(Ksmall, _rq, gp_small.X, gp_small.data.kdatas[3])\n",
    "@assert isapprox(Ksmall, prev_grad_stack)\n",
    "@time grad_stack!(Kgrads, _rq, gp_fit.X, gp_fit.data.kdatas[3]);"
   ]
  },
  {
   "cell_type": "code",
   "execution_count": 120,
   "metadata": {
    "collapsed": false
   },
   "outputs": [
    {
     "name": "stderr",
     "output_type": "stream",
     "text": [
      "WARNING: Method definition grad_stack!(AbstractArray, GaussianProcesses.RQIso, Array{Float64, 2}, GaussianProcesses.IsotropicData) in module Main at In[118]:2 overwritten at In[120]:2.\n"
     ]
    },
    {
     "data": {
      "text/plain": [
       "grad_stack! (generic function with 1 method)"
      ]
     },
     "execution_count": 120,
     "metadata": {},
     "output_type": "execute_result"
    }
   ],
   "source": [
    "function grad_stack!(stack::AbstractArray, rq::RQIso, X::Matrix{Float64}, data::GaussianProcesses.IsotropicData)\n",
    "    nobsv = size(X,2)\n",
    "    R = GaussianProcesses.distance!(rq, X, data)\n",
    "    σ2 = rq.σ2\n",
    "    α = rq.α\n",
    "    ℓ2 = rq.ℓ2\n",
    "    # Check these derivatives!\n",
    "    @inbounds @fastmath for j in 1:nobsv\n",
    "        @simd for i in 1:j        \n",
    "            stack[i,j,1] = σ2*((R[i,j])/ℓ2)*(1.0+(R[i,j])/(2*α*ℓ2))^(-α-1.0)  # dK_d(log ℓ)dK_dℓ\n",
    "            stack[j,i,1] = stack[i,j,1]\n",
    "        end\n",
    "    end\n",
    "    @inbounds @fastmath for j in 1:nobsv\n",
    "        @simd for i in 1:j\n",
    "            stack[i,j,2] = 2.0*σ2*(1+(R[i,j])/(2*α*ℓ2))^(-α) # dK_d(log σ)\n",
    "            stack[j,i,2] = stack[i,j,2]\n",
    "        end\n",
    "    end\n",
    "        \n",
    "    @inbounds @fastmath for j in 1:nobsv\n",
    "        @simd for i in 1:j\n",
    "            part = (1.0+R[i,j]/(2*α*ℓ2))\n",
    "            stack[i,j,3] = σ2*part^(-α)*((R[i,j])/(2*ℓ2*part)-α*log(part))*α  # dK_d(log α)\n",
    "            stack[j,i,3] = stack[i,j,3]\n",
    "        end\n",
    "    end   \n",
    "    return stack\n",
    "end"
   ]
  },
  {
   "cell_type": "code",
   "execution_count": 121,
   "metadata": {
    "collapsed": false
   },
   "outputs": [
    {
     "name": "stdout",
     "output_type": "stream",
     "text": [
      "  2.369990 seconds (4 allocations: 160 bytes)\n"
     ]
    }
   ],
   "source": [
    "Ksmall = Array(Float64, gp_small.nobsv, gp_small.nobsv, GaussianProcesses.num_params(_rq))\n",
    "Kgrads = Array(Float64, gp_fit.nobsv, gp_fit.nobsv, GaussianProcesses.num_params(_rq))\n",
    "grad_stack!(Ksmall, _rq, gp_small.X, gp_small.data.kdatas[3])\n",
    "@assert isapprox(Ksmall, prev_grad_stack)\n",
    "@time grad_stack!(Kgrads, _rq, gp_fit.X, gp_fit.data.kdatas[3]);"
   ]
  },
  {
   "cell_type": "code",
   "execution_count": 122,
   "metadata": {
    "collapsed": false
   },
   "outputs": [
    {
     "name": "stderr",
     "output_type": "stream",
     "text": [
      "WARNING: Method definition grad_stack!(AbstractArray, GaussianProcesses.RQIso, Array{Float64, 2}, GaussianProcesses.IsotropicData) in module Main at In[120]:2 overwritten at In[122]:2.\n"
     ]
    },
    {
     "data": {
      "text/plain": [
       "grad_stack! (generic function with 1 method)"
      ]
     },
     "execution_count": 122,
     "metadata": {},
     "output_type": "execute_result"
    }
   ],
   "source": [
    "function grad_stack!(stack::AbstractArray, rq::RQIso, X::Matrix{Float64}, data::GaussianProcesses.IsotropicData)\n",
    "    nobsv = size(X,2)\n",
    "    R = GaussianProcesses.distance!(rq, X, data)\n",
    "    σ2 = rq.σ2\n",
    "    α = rq.α\n",
    "    ℓ2 = rq.ℓ2\n",
    "    α2ℓ2 = 2.0*α*ℓ2\n",
    "    # Check these derivatives!\n",
    "    @inbounds @fastmath for j in 1:nobsv\n",
    "        @simd for i in 1:j        \n",
    "            stack[i,j,1] = σ2*(R[i,j]/ℓ2)*(1.0+R[i,j]/α2ℓ2)^(-α-1.0)  # dK_d(log ℓ)dK_dℓ\n",
    "            stack[j,i,1] = stack[i,j,1]\n",
    "        end\n",
    "    end\n",
    "    @inbounds @fastmath for j in 1:nobsv\n",
    "        @simd for i in 1:j\n",
    "            stack[i,j,2] = 2.0*σ2*(1.0+R[i,j]/α2ℓ2)^(-α) # dK_d(log σ)\n",
    "            stack[j,i,2] = stack[i,j,2]\n",
    "        end\n",
    "    end\n",
    "        \n",
    "    @inbounds @fastmath for j in 1:nobsv\n",
    "        @simd for i in 1:j\n",
    "            part = (1.0+R[i,j]/α2ℓ2)\n",
    "            stack[i,j,3] = σ2*part^(-α)*((R[i,j])/(2.0*ℓ2*part)-α*log(part))*α  # dK_d(log α)\n",
    "            stack[j,i,3] = stack[i,j,3]\n",
    "        end\n",
    "    end   \n",
    "    return stack\n",
    "end"
   ]
  },
  {
   "cell_type": "code",
   "execution_count": 123,
   "metadata": {
    "collapsed": false
   },
   "outputs": [
    {
     "name": "stdout",
     "output_type": "stream",
     "text": [
      "  2.385509 seconds (4 allocations: 160 bytes)\n"
     ]
    }
   ],
   "source": [
    "Ksmall = Array(Float64, gp_small.nobsv, gp_small.nobsv, GaussianProcesses.num_params(_rq))\n",
    "Kgrads = Array(Float64, gp_fit.nobsv, gp_fit.nobsv, GaussianProcesses.num_params(_rq))\n",
    "grad_stack!(Ksmall, _rq, gp_small.X, gp_small.data.kdatas[3])\n",
    "@assert isapprox(Ksmall, prev_grad_stack)\n",
    "@time grad_stack!(Kgrads, _rq, gp_fit.X, gp_fit.data.kdatas[3]);"
   ]
  },
  {
   "cell_type": "markdown",
   "metadata": {},
   "source": [
    "## Optimize update_mll_and_dmll"
   ]
  },
  {
   "cell_type": "code",
   "execution_count": 126,
   "metadata": {
    "collapsed": false
   },
   "outputs": [
    {
     "data": {
      "text/plain": [
       "16-element Array{Float64,1}:\n",
       "      2.05225e8\n",
       "     -4.10579  \n",
       "     -1.83856e7\n",
       "      2.26609e6\n",
       "      7.07995e8\n",
       "     -1.87513e7\n",
       "      1.76462e6\n",
       "     -3.97544e7\n",
       " -26706.3      \n",
       "  34353.6      \n",
       "   1522.72     \n",
       "   -188.466    \n",
       "    171.744    \n",
       "  -4388.32     \n",
       "   -359.407    \n",
       "   1760.4      "
      ]
     },
     "execution_count": 126,
     "metadata": {},
     "output_type": "execute_result"
    }
   ],
   "source": [
    "GaussianProcesses.update_mll_and_dmll!(gp_small);\n",
    "# @time GaussianProcesses.update_mll_and_dmll!(gp_fit);\n",
    "prev_dmLL=gp_small.dmLL"
   ]
  },
  {
   "cell_type": "code",
   "execution_count": 165,
   "metadata": {
    "collapsed": false
   },
   "outputs": [
    {
     "name": "stderr",
     "output_type": "stream",
     "text": [
      "WARNING: Method definition update_mll_and_dmll!(GaussianProcesses.GP) in module Main at In[159]:2 overwritten at In[165]:2.\n",
      "WARNING: Method definition #update_mll_and_dmll!(Array{Any, 1}, Main.#update_mll_and_dmll!, GaussianProcesses.GP) in module Main overwritten.\n"
     ]
    },
    {
     "data": {
      "text/plain": [
       "update_mll_and_dmll! (generic function with 2 methods)"
      ]
     },
     "execution_count": 165,
     "metadata": {},
     "output_type": "execute_result"
    }
   ],
   "source": [
    "function update_mll_and_dmll!(gp::GP; noise::Bool=true, mean::Bool=true, kern::Bool=true)\n",
    "    update_mll!!(gp)\n",
    "    gp.dmLL = Array(Float64, noise + mean*num_params(gp.m) + kern*num_params(gp.k))\n",
    "\n",
    "    # Calculate Gradient with respect to hyperparameters\n",
    "\n",
    "    #Derivative wrt the observation noise\n",
    "    if noise\n",
    "        gp.dmLL[1] = exp(2*gp.logNoise)*trace((gp.alpha*gp.alpha' - gp.cK \\ eye(gp.nobsv)))\n",
    "    end\n",
    "\n",
    "    #Derivative wrt to mean hyperparameters, need to loop over as same with kernel hyperparameters\n",
    "    if mean\n",
    "        Mgrads = grad_stack(gp.m, gp.X)\n",
    "        for i in 1:num_params(gp.m)\n",
    "            gp.dmLL[i+noise] = dot(Mgrads[:,i],gp.alpha)\n",
    "        end\n",
    "    end\n",
    "\n",
    "    # Derivative of marginal log-likelihood with respect to kernel hyperparameters\n",
    "    if kern\n",
    "        Kgrads = grad_stack(gp.k, gp.X, gp.data)   # [dK/dθᵢ]\n",
    "        for i in 1:num_params(gp.k)\n",
    "            gp.dmLL[i+mean*num_params(gp.m)+noise] = trace((gp.alpha*gp.alpha' - gp.cK \\ eye(gp.nobsv))*Kgrads[:,:,i])/2\n",
    "        end\n",
    "    end\n",
    "end"
   ]
  },
  {
   "cell_type": "code",
   "execution_count": 166,
   "metadata": {
    "collapsed": false
   },
   "outputs": [
    {
     "name": "stdout",
     "output_type": "stream",
     "text": [
      " 65.075510 seconds (206.38 k allocations: 13.594 GB, 13.20% gc time)\n"
     ]
    }
   ],
   "source": [
    "update_mll_and_dmll!(gp_small);\n",
    "@assert isapprox(prev_dmLL,gp_small.dmLL)\n",
    "@time GaussianProcesses.update_mll_and_dmll!(gp_fit);"
   ]
  },
  {
   "cell_type": "code",
   "execution_count": 193,
   "metadata": {
    "collapsed": false
   },
   "outputs": [
    {
     "name": "stderr",
     "output_type": "stream",
     "text": [
      "WARNING: Method definition update_mll_and_dmll!(GaussianProcesses.GP, Array{Float64, 3}) in module Main at In[190]:8 overwritten at In[193]:8.\n",
      "WARNING: Method definition #update_mll_and_dmll!(Array{Any, 1}, Main.#update_mll_and_dmll!, GaussianProcesses.GP, Array{Float64, 3}) in module Main overwritten.\n"
     ]
    },
    {
     "data": {
      "text/plain": [
       "update_mll_and_dmll! (generic function with 2 methods)"
      ]
     },
     "execution_count": 193,
     "metadata": {},
     "output_type": "execute_result"
    }
   ],
   "source": [
    "function update_mll_and_dmll!(gp::GP,\n",
    "    Kgrads::Array{Float64,3}\n",
    "    ; \n",
    "    noise::Bool=true, # include gradient component for the logNoise term\n",
    "    mean::Bool=true, # include gradient components for the mean parameters\n",
    "    kern::Bool=true, # include gradient components for the spatial kernel parameters\n",
    "    )\n",
    "    update_mll!!(gp)\n",
    "    n_mean_params = num_params(gp.m)\n",
    "    n_kern_params = num_params(gp.k)\n",
    "    gp.dmLL = Array(Float64, noise + mean*n_mean_params + kern*n_kern_params)\n",
    "    logNoise = gp.logNoise\n",
    "    α = gp.alpha\n",
    "    ααinvcKI = α*α' - gp.cK \\ eye(gp.nobsv)\n",
    "    i=1\n",
    "    if noise\n",
    "        gp.dmLL[i] = exp(2.0*logNoise)*trace(ααinvcKI)\n",
    "        i+=1\n",
    "    end\n",
    "    if mean\n",
    "        Mgrads = grad_stack(gp.m, gp.X)\n",
    "        for j in 1:n_mean_params\n",
    "            gp.dmLL[i] = dot(Mgrads[:,j],gp.alpha)\n",
    "            i += 1\n",
    "        end\n",
    "    end\n",
    "    if kern\n",
    "#         grad_stack!(Kgrads, gp.k, gp.X, gp.data)\n",
    "        GaussianProcesses.grad_stack!(Kgrads, gp.k, gp.X, gp.data)\n",
    "        for j in 1:n_kern_params\n",
    "            gp.dmLL[i] = trace(Kgrads[:,:,j] * ααinvcKI) / 2.0\n",
    "            i += 1\n",
    "        end\n",
    "    end\n",
    "end"
   ]
  },
  {
   "cell_type": "code",
   "execution_count": 194,
   "metadata": {
    "collapsed": false
   },
   "outputs": [
    {
     "name": "stdout",
     "output_type": "stream",
     "text": [
      "in mine\n",
      "in mine\n",
      " 37.318876 seconds (56.41 k allocations: 4.293 GB, 2.14% gc time)\n"
     ]
    }
   ],
   "source": [
    "Ksmall = Array(Float64, gp_small.nobsv, gp_small.nobsv, GaussianProcesses.num_params(gp_small.k))\n",
    "Kgrads = Array(Float64, gp_fit.nobsv, gp_fit.nobsv, GaussianProcesses.num_params(gp_fit.k))\n",
    "update_mll_and_dmll!(gp_small, Ksmall);\n",
    "@time update_mll_and_dmll!(gp_fit, Kgrads);\n",
    "@assert isapprox(prev_dmLL,gp_small.dmLL)"
   ]
  },
  {
   "cell_type": "code",
   "execution_count": 201,
   "metadata": {
    "collapsed": false
   },
   "outputs": [
    {
     "name": "stderr",
     "output_type": "stream",
     "text": [
      "WARNING: Method definition update_mll_and_dmll!(GaussianProcesses.GP, Array{Float64, 3}) in module Main at In[195]:8 overwritten at In[201]:8.\n",
      "WARNING: Method definition #update_mll_and_dmll!(Array{Any, 1}, Main.#update_mll_and_dmll!, GaussianProcesses.GP, Array{Float64, 3}) in module Main overwritten.\n"
     ]
    },
    {
     "data": {
      "text/plain": [
       "update_mll_and_dmll! (generic function with 2 methods)"
      ]
     },
     "execution_count": 201,
     "metadata": {},
     "output_type": "execute_result"
    }
   ],
   "source": [
    "function update_mll_and_dmll!(gp::GP,\n",
    "    Kgrads::Array{Float64,3}\n",
    "    ; \n",
    "    noise::Bool=true, # include gradient component for the logNoise term\n",
    "    mean::Bool=true, # include gradient components for the mean parameters\n",
    "    kern::Bool=true, # include gradient components for the spatial kernel parameters\n",
    "    )\n",
    "    update_mll!!(gp)\n",
    "    n_mean_params = num_params(gp.m)\n",
    "    n_kern_params = num_params(gp.k)\n",
    "    gp.dmLL = Array(Float64, noise + mean*n_mean_params + kern*n_kern_params)\n",
    "    logNoise = gp.logNoise\n",
    "    α = gp.alpha\n",
    "    ααinvcKI = α*α' - gp.cK \\ eye(gp.nobsv)\n",
    "    i=1\n",
    "    if noise\n",
    "        gp.dmLL[i] = exp(2.0*logNoise)*trace(ααinvcKI)\n",
    "        i+=1\n",
    "    end\n",
    "    if mean\n",
    "        Mgrads = grad_stack(gp.m, gp.X)\n",
    "        for j in 1:n_mean_params\n",
    "            gp.dmLL[i] = dot(Mgrads[:,j],gp.alpha)\n",
    "            i += 1\n",
    "        end\n",
    "    end\n",
    "    if kern\n",
    "#         grad_stack!(Kgrads, gp.k, gp.X, gp.data)\n",
    "        GaussianProcesses.grad_stack!(Kgrads, gp.k, gp.X, gp.data)\n",
    "        for j in 1:n_kern_params\n",
    "            gp.dmLL[i] = sum(Kgrads[:,:,j] .* ααinvcKI) / 2.0\n",
    "            i += 1\n",
    "        end\n",
    "    end\n",
    "end"
   ]
  },
  {
   "cell_type": "code",
   "execution_count": 202,
   "metadata": {
    "collapsed": false
   },
   "outputs": [
    {
     "ename": "LoadError",
     "evalue": "LoadError: AssertionError: isapprox(prev_dmLL,gp_small.dmLL)\nwhile loading In[202], in expression starting on line 4",
     "output_type": "error",
     "traceback": [
      "LoadError: AssertionError: isapprox(prev_dmLL,gp_small.dmLL)\nwhile loading In[202], in expression starting on line 4",
      ""
     ]
    }
   ],
   "source": [
    "Ksmall = Array(Float64, gp_small.nobsv, gp_small.nobsv, GaussianProcesses.num_params(gp_small.k))\n",
    "Kgrads = Array(Float64, gp_fit.nobsv, gp_fit.nobsv, GaussianProcesses.num_params(gp_fit.k))\n",
    "update_mll_and_dmll!(gp_small, Ksmall);\n",
    "@assert isapprox(prev_dmLL,gp_small.dmLL)"
   ]
  },
  {
   "cell_type": "code",
   "execution_count": 203,
   "metadata": {
    "collapsed": false
   },
   "outputs": [
    {
     "name": "stdout",
     "output_type": "stream",
     "text": [
      " 19.840617 seconds (56.42 k allocations: 4.293 GB, 5.01% gc time)\n"
     ]
    }
   ],
   "source": [
    "inter_dmLL = gp_small.dmLL\n",
    "@time update_mll_and_dmll!(gp_fit, Kgrads);"
   ]
  },
  {
   "cell_type": "code",
   "execution_count": 218,
   "metadata": {
    "collapsed": false
   },
   "outputs": [
    {
     "name": "stderr",
     "output_type": "stream",
     "text": [
      "WARNING: Method definition update_mll_and_dmll!(GaussianProcesses.GP, Array{Float64, 3}) in module Main at In[211]:8 overwritten at In[218]:8.\n",
      "WARNING: Method definition #update_mll_and_dmll!(Array{Any, 1}, Main.#update_mll_and_dmll!, GaussianProcesses.GP, Array{Float64, 3}) in module Main overwritten.\n"
     ]
    },
    {
     "data": {
      "text/plain": [
       "update_mll_and_dmll! (generic function with 2 methods)"
      ]
     },
     "execution_count": 218,
     "metadata": {},
     "output_type": "execute_result"
    }
   ],
   "source": [
    "function update_mll_and_dmll!(gp::GP,\n",
    "    Kgrads::Array{Float64,3}\n",
    "    ; \n",
    "    noise::Bool=true, # include gradient component for the logNoise term\n",
    "    mean::Bool=true, # include gradient components for the mean parameters\n",
    "    kern::Bool=true, # include gradient components for the spatial kernel parameters\n",
    "    )\n",
    "    println(\"in mine\")\n",
    "    update_mll!!(gp)\n",
    "    n_mean_params = num_params(gp.m)\n",
    "    n_kern_params = num_params(gp.k)\n",
    "    gp.dmLL = Array(Float64, noise + mean*n_mean_params + kern*n_kern_params)\n",
    "    logNoise = gp.logNoise\n",
    "    α = gp.alpha\n",
    "    ααinvcKI = α*α' - gp.cK \\ eye(gp.nobsv)\n",
    "    i=1\n",
    "    if noise\n",
    "        gp.dmLL[i] = exp(2.0*logNoise)*trace(ααinvcKI)\n",
    "        i+=1\n",
    "    end\n",
    "    if mean\n",
    "        Mgrads = grad_stack(gp.m, gp.X)\n",
    "        for j in 1:n_mean_params\n",
    "            gp.dmLL[i] = dot(Mgrads[:,j],gp.alpha)\n",
    "            i += 1\n",
    "        end\n",
    "    end\n",
    "    if kern\n",
    "#         grad_stack!(Kgrads, gp.k, gp.X, gp.data)\n",
    "        GaussianProcesses.grad_stack!(Kgrads, gp.k, gp.X, gp.data)\n",
    "        for j in 1:n_kern_params\n",
    "            dmLL = 0.0\n",
    "            \n",
    "            for k in 1:gp.nobsv\n",
    "                @inbounds dmLL += Kgrads[k,k,j] * ααinvcKI[k,k] / 2.0\n",
    "                @inbounds @simd for l in 1:k-1\n",
    "                    dmLL += Kgrads[l,k,j] * ααinvcKI[l,k]\n",
    "                end\n",
    "            end\n",
    "            gp.dmLL[i] = dmLL\n",
    "            i += 1\n",
    "        end\n",
    "    end\n",
    "end"
   ]
  },
  {
   "cell_type": "code",
   "execution_count": 219,
   "metadata": {
    "collapsed": false
   },
   "outputs": [
    {
     "name": "stdout",
     "output_type": "stream",
     "text": [
      "in mine\n"
     ]
    },
    {
     "ename": "LoadError",
     "evalue": "LoadError: AssertionError: isapprox(prev_dmLL,gp_small.dmLL)\nwhile loading In[219], in expression starting on line 4",
     "output_type": "error",
     "traceback": [
      "LoadError: AssertionError: isapprox(prev_dmLL,gp_small.dmLL)\nwhile loading In[219], in expression starting on line 4",
      ""
     ]
    }
   ],
   "source": [
    "Ksmall = Array(Float64, gp_small.nobsv, gp_small.nobsv, GaussianProcesses.num_params(gp_small.k))\n",
    "Kgrads = Array(Float64, gp_fit.nobsv, gp_fit.nobsv, GaussianProcesses.num_params(gp_fit.k))\n",
    "update_mll_and_dmll!(gp_small, Ksmall);\n",
    "@assert isapprox(prev_dmLL,gp_small.dmLL)"
   ]
  },
  {
   "cell_type": "code",
   "execution_count": 220,
   "metadata": {
    "collapsed": false
   },
   "outputs": [
    {
     "name": "stdout",
     "output_type": "stream",
     "text": [
      "in mine\n",
      " 31.976214 seconds (839.09 M allocations: 13.458 GB, 4.77% gc time)\n"
     ]
    }
   ],
   "source": [
    "@time update_mll_and_dmll!(gp_fit, Kgrads);"
   ]
  },
  {
   "cell_type": "code",
   "execution_count": 258,
   "metadata": {
    "collapsed": false
   },
   "outputs": [
    {
     "name": "stderr",
     "output_type": "stream",
     "text": [
      "WARNING: Method definition update_mll_and_dmll!(GaussianProcesses.GP, Array{Float64, 3}) in module Main at In[242]:8 overwritten at In[258]:8.\n",
      "WARNING: Method definition #update_mll_and_dmll!(Array{Any, 1}, Main.#update_mll_and_dmll!, GaussianProcesses.GP, Array{Float64, 3}) in module Main overwritten.\n"
     ]
    },
    {
     "data": {
      "text/plain": [
       "update_mll_and_dmll! (generic function with 2 methods)"
      ]
     },
     "execution_count": 258,
     "metadata": {},
     "output_type": "execute_result"
    }
   ],
   "source": [
    "function update_mll_and_dmll!(gp::GP,\n",
    "    Kgrads::Array{Float64,3}\n",
    "    ; \n",
    "    noise::Bool=true, # include gradient component for the logNoise term\n",
    "    mean::Bool=true, # include gradient components for the mean parameters\n",
    "    kern::Bool=true, # include gradient components for the spatial kernel parameters\n",
    "    )\n",
    "    update_mll!!(gp)\n",
    "    n_mean_params = num_params(gp.m)\n",
    "    n_kern_params = num_params(gp.k)\n",
    "    gp.dmLL = Array(Float64, noise + mean*n_mean_params + kern*n_kern_params)\n",
    "    logNoise = gp.logNoise\n",
    "    α = gp.alpha\n",
    "    ααinvcKI = α*α' - gp.cK \\ eye(gp.nobsv)\n",
    "    i=1\n",
    "    if noise\n",
    "        gp.dmLL[i] = exp(2.0*logNoise)*trace(ααinvcKI)\n",
    "        i+=1\n",
    "    end\n",
    "    if mean\n",
    "        Mgrads = grad_stack(gp.m, gp.X)\n",
    "        for j in 1:n_mean_params\n",
    "            gp.dmLL[i] = dot(Mgrads[:,j],gp.alpha)\n",
    "            i += 1\n",
    "        end\n",
    "    end\n",
    "    if kern\n",
    "#         grad_stack!(Kgrads, gp.k, gp.X, gp.data)\n",
    "        GaussianProcesses.grad_stack!(Kgrads, gp.k, gp.X, gp.data)\n",
    "        broadcast!(.*, Kgrads, Kgrads, ααinvcKI)\n",
    "        gp.dmLL[i:i+n_kern_params-1] = vec(sum(Kgrads,[1,2]))/2\n",
    "        i+=n_kern_params\n",
    "    end\n",
    "end"
   ]
  },
  {
   "cell_type": "code",
   "execution_count": 259,
   "metadata": {
    "collapsed": false
   },
   "outputs": [],
   "source": [
    "Ksmall = Array(Float64, gp_small.nobsv, gp_small.nobsv, GaussianProcesses.num_params(gp_small.k))\n",
    "Kgrads = Array(Float64, gp_fit.nobsv, gp_fit.nobsv, GaussianProcesses.num_params(gp_fit.k))\n",
    "update_mll_and_dmll!(gp_small, Ksmall);\n",
    "@assert isapprox(inter_dmLL,gp_small.dmLL)"
   ]
  },
  {
   "cell_type": "code",
   "execution_count": 260,
   "metadata": {
    "collapsed": false
   },
   "outputs": [
    {
     "name": "stdout",
     "output_type": "stream",
     "text": [
      " 17.423403 seconds (56.13 k allocations: 978.247 MB, 3.04% gc time)\n"
     ]
    }
   ],
   "source": [
    "@time update_mll_and_dmll!(gp_fit, Kgrads);"
   ]
  },
  {
   "cell_type": "code",
   "execution_count": 252,
   "metadata": {
    "collapsed": false
   },
   "outputs": [
    {
     "name": "stdout",
     "output_type": "stream",
     "text": [
      "  4.192510 seconds (47.25 k allocations: 489.425 MB, 4.83% gc time)\n"
     ]
    }
   ],
   "source": [
    "@time update_mll_and_dmll!(gp_fit, Kgrads, noise=false, mean=false, kern=false);"
   ]
  },
  {
   "cell_type": "code",
   "execution_count": 253,
   "metadata": {
    "collapsed": false
   },
   "outputs": [
    {
     "name": "stdout",
     "output_type": "stream",
     "text": [
      "  4.054616 seconds (37.01 k allocations: 489.000 MB, 1.91% gc time)\n"
     ]
    }
   ],
   "source": [
    "@time update_mll_and_dmll!(gp_fit, Kgrads, noise=true, mean=false, kern=false);"
   ]
  },
  {
   "cell_type": "code",
   "execution_count": 254,
   "metadata": {
    "collapsed": false
   },
   "outputs": [
    {
     "name": "stdout",
     "output_type": "stream",
     "text": [
      "  4.403914 seconds (55.99 k allocations: 489.961 MB, 5.35% gc time)\n"
     ]
    }
   ],
   "source": [
    "@time update_mll_and_dmll!(gp_fit, Kgrads, noise=false, mean=true, kern=false);"
   ]
  },
  {
   "cell_type": "code",
   "execution_count": 256,
   "metadata": {
    "collapsed": false
   },
   "outputs": [
    {
     "name": "stdout",
     "output_type": "stream",
     "text": [
      " 17.900951 seconds (37.14 k allocations: 977.286 MB, 2.36% gc time)\n"
     ]
    }
   ],
   "source": [
    "@time update_mll_and_dmll!(gp_fit, Kgrads, noise=false, mean=false, kern=true);"
   ]
  },
  {
   "cell_type": "markdown",
   "metadata": {},
   "source": [
    "# Update mLL"
   ]
  },
  {
   "cell_type": "markdown",
   "metadata": {},
   "source": [
    "That should only take $4000^2 \\times 64\\mathrm{bit} = 128\\mathrm{MB}$"
   ]
  },
  {
   "cell_type": "code",
   "execution_count": 6,
   "metadata": {
    "collapsed": false,
    "scrolled": true
   },
   "outputs": [
    {
     "name": "stdout",
     "output_type": "stream",
     "text": [
      "  3.539167 seconds (22.03 k allocations: 977.022 MB, 17.57% gc time)\n"
     ]
    },
    {
     "data": {
      "text/plain": [
       "-1.4530769893150377e10"
      ]
     },
     "execution_count": 6,
     "metadata": {},
     "output_type": "execute_result"
    }
   ],
   "source": [
    "@time GaussianProcesses.update_mll!(gp_fit);\n",
    "prev_mLL=gp_fit.mLL"
   ]
  },
  {
   "cell_type": "code",
   "execution_count": 63,
   "metadata": {
    "collapsed": false
   },
   "outputs": [
    {
     "data": {
      "text/plain": [
       "update_mll!! (generic function with 1 method)"
      ]
     },
     "execution_count": 63,
     "metadata": {},
     "output_type": "execute_result"
    }
   ],
   "source": [
    "# modification of update_mll! that reuses existing matrices to avoid\n",
    "# unnecessary memory allocations, which speeds things up significantly\n",
    "function update_mll!!(gp::GP)\n",
    "    Σbuffer = gp.cK.mat\n",
    "    μ = mean(gp.m,gp.X)\n",
    "    GaussianProcesses.cov!(Σbuffer, gp.k, gp.X, gp.data)\n",
    "    for i in 1:gp.nobsv\n",
    "        Σbuffer[i,i] += exp(2*gp.logNoise) + 1e-8\n",
    "    end\n",
    "    chol_buffer = gp.cK.chol.factors\n",
    "    copy!(chol_buffer, Σbuffer)\n",
    "    chol = cholfact!(Symmetric(chol_buffer))\n",
    "    gp.cK = PDMats.PDMat(Σbuffer, chol)\n",
    "    gp.alpha = gp.cK \\ (gp.y - μ)\n",
    "    gp.mLL = -dot((gp.y - μ),gp.alpha)/2.0 - logdet(gp.cK)/2.0 - gp.nobsv*log(2π)/2.0 # Marginal log-likelihood\n",
    "end"
   ]
  },
  {
   "cell_type": "code",
   "execution_count": 8,
   "metadata": {
    "collapsed": false
   },
   "outputs": [
    {
     "name": "stdout",
     "output_type": "stream",
     "text": [
      "  2.552592 seconds (64.43 k allocations: 2.104 MB)\n"
     ]
    }
   ],
   "source": [
    "@time update_mll!!(gp_fit);\n",
    "@assert isapprox(gp_fit.mLL, prev_mLL)"
   ]
  },
  {
   "cell_type": "code",
   "execution_count": 9,
   "metadata": {
    "collapsed": false
   },
   "outputs": [
    {
     "name": "stdout",
     "output_type": "stream",
     "text": [
      "  2.248447 seconds (9 allocations: 320 bytes)\n"
     ]
    }
   ],
   "source": [
    "Σbuffer = zeros(gp_fit.nobsv, gp_fit.nobsv)\n",
    "GaussianProcesses.cov!(Σbuffer, gp_fit.k, gp_fit.X, gp_fit.data);\n",
    "@time GaussianProcesses.cov!(Σbuffer, gp_fit.k, gp_fit.X, gp_fit.data);"
   ]
  },
  {
   "cell_type": "code",
   "execution_count": 10,
   "metadata": {
    "collapsed": false
   },
   "outputs": [
    {
     "name": "stdout",
     "output_type": "stream",
     "text": [
      "  0.657412 seconds (4 allocations: 160 bytes)\n"
     ]
    }
   ],
   "source": [
    "Σbuffer = zeros(gp_fit.nobsv, gp_fit.nobsv)\n",
    "GaussianProcesses.addcov!(Σbuffer, gp_fit.k.kerns[3], gp_fit.X, gp_fit.data.kdatas[3]);\n",
    "@time GaussianProcesses.addcov!(Σbuffer, gp_fit.k.kerns[3], gp_fit.X, gp_fit.data.kdatas[3]);"
   ]
  },
  {
   "cell_type": "markdown",
   "metadata": {},
   "source": [
    "A huge amount of time is spent constructing the covariance matrix! What a waste."
   ]
  },
  {
   "cell_type": "code",
   "execution_count": null,
   "metadata": {
    "collapsed": false
   },
   "outputs": [],
   "source": [
    "prevK=GaussianProcesses.cov(gp_fit.k, gp_fit.X, gp_fit.data);\n",
    "@time GaussianProcesses.cov(gp_fit.k, gp_fit.X, gp_fit.data);"
   ]
  }
 ],
 "metadata": {
  "kernelspec": {
   "display_name": "Julia 0.5.0-rc2",
   "language": "julia",
   "name": "julia-0.5"
  },
  "language_info": {
   "file_extension": ".jl",
   "mimetype": "application/julia",
   "name": "julia",
   "version": "0.5.0"
  },
  "nav_menu": {},
  "toc": {
   "navigate_menu": true,
   "number_sections": true,
   "sideBar": true,
   "threshold": 6,
   "toc_cell": true,
   "toc_section_display": "block",
   "toc_window_display": false
  }
 },
 "nbformat": 4,
 "nbformat_minor": 1
}
