{
 "cells": [
  {
   "cell_type": "markdown",
   "metadata": {
    "deletable": true,
    "editable": true,
    "toc": "true"
   },
   "source": [
    "# Table of Contents\n",
    " <p><div class=\"lev1 toc-item\"><a href=\"#Data-Import-and-Preprocessing\" data-toc-modified-id=\"Data-Import-and-Preprocessing-1\"><span class=\"toc-item-num\">1&nbsp;&nbsp;</span>Data Import and Preprocessing</a></div><div class=\"lev2 toc-item\"><a href=\"#Distances\" data-toc-modified-id=\"Distances-1.1\"><span class=\"toc-item-num\">1.1&nbsp;&nbsp;</span>Distances</a></div><div class=\"lev1 toc-item\"><a href=\"#Time-series-kernel\" data-toc-modified-id=\"Time-series-kernel-2\"><span class=\"toc-item-num\">2&nbsp;&nbsp;</span>Time-series kernel</a></div><div class=\"lev1 toc-item\"><a href=\"#Spatio-temporal-kernel-with-fixed-variances\" data-toc-modified-id=\"Spatio-temporal-kernel-with-fixed-variances-3\"><span class=\"toc-item-num\">3&nbsp;&nbsp;</span>Spatio-temporal kernel with fixed variances</a></div><div class=\"lev1 toc-item\"><a href=\"#Releasing-variances\" data-toc-modified-id=\"Releasing-variances-4\"><span class=\"toc-item-num\">4&nbsp;&nbsp;</span>Releasing variances</a></div><div class=\"lev1 toc-item\"><a href=\"#Releasing-all-parameters\" data-toc-modified-id=\"Releasing-all-parameters-5\"><span class=\"toc-item-num\">5&nbsp;&nbsp;</span>Releasing all parameters</a></div>"
   ]
  },
  {
   "cell_type": "markdown",
   "metadata": {
    "deletable": true,
    "editable": true
   },
   "source": [
    "Go one step further than in `JuliaGP_spatial3.ipynb` and release the parameters of the time-series kernel."
   ]
  },
  {
   "cell_type": "code",
   "execution_count": 1,
   "metadata": {
    "collapsed": false,
    "deletable": true,
    "editable": true
   },
   "outputs": [],
   "source": [
    "using TimeSeries\n",
    "using DataFrames\n",
    "using GaussianProcesses\n",
    "using GaussianProcesses: Mean, Kernel, evaluate, metric, IsotropicData, VecF64\n",
    "using GaussianProcesses: Stationary, KernelData, MatF64\n",
    "import GaussianProcesses: optimize!, get_optim_target, cov, grad_slice!\n",
    "import GaussianProcesses: num_params, set_params!, get_params, update_mll!, update_mll_and_dmll!\n",
    "import GaussianProcesses: get_param_names, cov!, addcov!, multcov!\n",
    "import Proj4\n",
    "using Optim\n",
    "using Distances\n",
    ";"
   ]
  },
  {
   "cell_type": "code",
   "execution_count": 2,
   "metadata": {
    "collapsed": false,
    "deletable": true,
    "editable": true
   },
   "outputs": [],
   "source": [
    "import PyPlot; plt=PyPlot\n",
    "using LaTeXStrings\n",
    "plt.rc(\"figure\", dpi=300.0)\n",
    "# plt.rc(\"figure\", figsize=(6,4))\n",
    "plt.rc(\"savefig\", dpi=300.0)\n",
    "plt.rc(\"text\", usetex=true)\n",
    "plt.rc(\"font\", family=\"serif\")\n",
    "plt.rc(\"font\", serif=\"Palatino\")\n",
    ";"
   ]
  },
  {
   "cell_type": "markdown",
   "metadata": {
    "deletable": true,
    "editable": true
   },
   "source": [
    "# Data Import and Preprocessing"
   ]
  },
  {
   "cell_type": "code",
   "execution_count": 3,
   "metadata": {
    "collapsed": false,
    "deletable": true,
    "editable": true
   },
   "outputs": [
    {
     "data": {
      "text/plain": [
       "test_data (generic function with 1 method)"
      ]
     },
     "execution_count": 3,
     "metadata": {},
     "output_type": "execute_result"
    }
   ],
   "source": [
    "include(\"src/preprocessing.jl\")"
   ]
  },
  {
   "cell_type": "code",
   "execution_count": 4,
   "metadata": {
    "collapsed": false,
    "deletable": true,
    "editable": true
   },
   "outputs": [
    {
     "name": "stderr",
     "output_type": "stream",
     "text": [
      "WARNING: Method definition (::Type{Graphs.KeyVertex})(Int64, #K<:Any) in module Graphs at /Users/imolk/.julia/v0.5/Graphs/src/common.jl:12 overwritten at /Users/imolk/.julia/v0.5/Graphs/src/common.jl:16.\n",
      "WARNING: Method definition (::Type{Graphs.Edge})(Int64, #V<:Any, #V<:Any) in module Graphs at /Users/imolk/.julia/v0.5/Graphs/src/common.jl:54 overwritten at /Users/imolk/.julia/v0.5/Graphs/src/common.jl:60.\n",
      "WARNING: Method definition (::Type{Graphs.ExEdge})(Int64, #V<:Any, #V<:Any, Base.Dict{String, Any}) in module Graphs at /Users/imolk/.julia/v0.5/Graphs/src/common.jl:72 overwritten at /Users/imolk/.julia/v0.5/Graphs/src/common.jl:83.\n",
      "WARNING: Method definition (::Type{Graphs.TargetIterator})(#G<:Graphs.AbstractGraph, #EList<:Any) in module Graphs at /Users/imolk/.julia/v0.5/Graphs/src/common.jl:123 overwritten at /Users/imolk/.julia/v0.5/Graphs/src/common.jl:127.\n",
      "WARNING: Method definition (::Type{Graphs.SourceIterator})(#G<:Graphs.AbstractGraph, #EList<:Any) in module Graphs at /Users/imolk/.julia/v0.5/Graphs/src/common.jl:141 overwritten at /Users/imolk/.julia/v0.5/Graphs/src/common.jl:145.\n",
      "WARNING: Method definition edge_property_requirement(Graphs.AbstractEdgePropertyInspector{#T<:Any}, Graphs.AbstractGraph{#V<:Any, E<:Any}) in module Graphs at /Users/imolk/.julia/v0.5/Graphs/src/common.jl:164 overwritten at /Users/imolk/.julia/v0.5/Graphs/src/common.jl:179.\n",
      "WARNING: Method definition vertex_index(#V<:Union{Graphs.ExVertex, Graphs.KeyVertex}, Graphs.GenericGraph{#V<:Union{Graphs.ExVertex, Graphs.KeyVertex}, E<:Any, VList<:Any, EList<:Any, IncList<:Any}) in module Graphs at /Users/imolk/.julia/v0.5/Graphs/src/graph.jl:65 overwritten at /Users/imolk/.julia/v0.5/Graphs/src/graph.jl:67.\n",
      "WARNING: Method definition (::Type{Graphs.GDistanceVisitor})(#G<:Graphs.AbstractGraph, #DMap<:Any) in module Graphs at /Users/imolk/.julia/v0.5/Graphs/src/breadth_first_visit.jl:107 overwritten at /Users/imolk/.julia/v0.5/Graphs/src/breadth_first_visit.jl:111.\n"
     ]
    },
    {
     "data": {
      "text/plain": [
       "TempModel"
      ]
     },
     "execution_count": 4,
     "metadata": {},
     "output_type": "execute_result"
    }
   ],
   "source": [
    "include(\"src/TempModel.jl\")"
   ]
  },
  {
   "cell_type": "code",
   "execution_count": 5,
   "metadata": {
    "collapsed": false,
    "deletable": true,
    "editable": true
   },
   "outputs": [
    {
     "data": {
      "text/html": [
       "<table class=\"data-frame\"><tr><th></th><th>USAF</th><th>WBAN</th><th>NAME</th><th>CTRY</th><th>STATE</th><th>ICAO</th><th>LAT</th><th>LON</th><th>ELEV</th><th>BEGIN</th><th>END</th><th>X_PRJ</th><th>Y_PRJ</th></tr><tr><th>1</th><td>10010</td><td>99999</td><td>JAN MAYEN(NOR-NAVY)</td><td>NO</td><td></td><td>ENJA</td><td>70.933</td><td>-8.667</td><td>9.0</td><td>1931</td><td>2015</td><td>4.5545e6</td><td>6.11344e6</td></tr><tr><th>2</th><td>10060</td><td>99999</td><td>EDGEOYA</td><td>NO</td><td></td><td></td><td>78.25</td><td>22.817</td><td>14.0</td><td>1973</td><td>2015</td><td>4.04982e6</td><td>7.5564e6</td></tr><tr><th>3</th><td>10070</td><td>99999</td><td>NY-ALESUND</td><td>SV</td><td></td><td></td><td>78.917</td><td>11.933</td><td>7.7</td><td>1973</td><td>2015</td><td>3.8678e6</td><td>7.26549e6</td></tr><tr><th>4</th><td>10080</td><td>99999</td><td>LONGYEAR</td><td>SV</td><td></td><td>ENSB</td><td>78.246</td><td>15.466</td><td>26.8</td><td>1975</td><td>2015</td><td>3.99705e6</td><td>7.33669e6</td></tr><tr><th>5</th><td>10090</td><td>99999</td><td>KARL XII OYA</td><td>SV</td><td></td><td></td><td>80.65</td><td>25.0</td><td>5.0</td><td>1955</td><td>2015</td><td>3.69259e6</td><td>7.68545e6</td></tr></table>"
      ],
      "text/plain": [
       "5×13 DataFrames.DataFrame\n",
       "│ Row │ USAF  │ WBAN  │ NAME                │ CTRY │ STATE │ ICAO │ LAT    │\n",
       "├─────┼───────┼───────┼─────────────────────┼──────┼───────┼──────┼────────┤\n",
       "│ 1   │ 10010 │ 99999 │ JAN MAYEN(NOR-NAVY) │ NO   │       │ ENJA │ 70.933 │\n",
       "│ 2   │ 10060 │ 99999 │ EDGEOYA             │ NO   │       │      │ 78.25  │\n",
       "│ 3   │ 10070 │ 99999 │ NY-ALESUND          │ SV   │       │      │ 78.917 │\n",
       "│ 4   │ 10080 │ 99999 │ LONGYEAR            │ SV   │       │ ENSB │ 78.246 │\n",
       "│ 5   │ 10090 │ 99999 │ KARL XII OYA        │ SV   │       │      │ 80.65  │\n",
       "\n",
       "│ Row │ LON    │ ELEV │ BEGIN │ END  │ X_PRJ     │ Y_PRJ     │\n",
       "├─────┼────────┼──────┼───────┼──────┼───────────┼───────────┤\n",
       "│ 1   │ -8.667 │ 9.0  │ 1931  │ 2015 │ 4.5545e6  │ 6.11344e6 │\n",
       "│ 2   │ 22.817 │ 14.0 │ 1973  │ 2015 │ 4.04982e6 │ 7.5564e6  │\n",
       "│ 3   │ 11.933 │ 7.7  │ 1973  │ 2015 │ 3.8678e6  │ 7.26549e6 │\n",
       "│ 4   │ 15.466 │ 26.8 │ 1975  │ 2015 │ 3.99705e6 │ 7.33669e6 │\n",
       "│ 5   │ 25.0   │ 5.0  │ 1955  │ 2015 │ 3.69259e6 │ 7.68545e6 │"
      ]
     },
     "execution_count": 5,
     "metadata": {},
     "output_type": "execute_result"
    }
   ],
   "source": [
    "isdList=read_isdList()\n",
    "isdList[1:5,:]"
   ]
  },
  {
   "cell_type": "code",
   "execution_count": 6,
   "metadata": {
    "collapsed": false,
    "deletable": true,
    "editable": true
   },
   "outputs": [
    {
     "data": {
      "text/html": [
       "<table class=\"data-frame\"><tr><th></th><th>USAF</th><th>WBAN</th><th>NAME</th><th>CTRY</th><th>STATE</th><th>ICAO</th><th>LAT</th><th>LON</th><th>ELEV</th><th>BEGIN</th><th>END</th><th>X_PRJ</th><th>Y_PRJ</th></tr><tr><th>1</th><td>725450</td><td>14990</td><td>THE EASTERN IOWA AIRPORT</td><td>US</td><td>IA</td><td>KCID</td><td>41.883</td><td>-91.717</td><td>264.6</td><td>1973</td><td>2015</td><td>1.64799e6</td><td>1.0441e6</td></tr><tr><th>2</th><td>725460</td><td>14933</td><td>DES MOINES INTERNATIONAL AIRPORT</td><td>US</td><td>IA</td><td>KDSM</td><td>41.534</td><td>-93.653</td><td>291.7</td><td>1973</td><td>2015</td><td>1.48723e6</td><td>1.00379e6</td></tr><tr><th>3</th><td>725480</td><td>94910</td><td>WATERLOO MUNICIPAL AIRPORT</td><td>US</td><td>IA</td><td>KALO</td><td>42.554</td><td>-92.401</td><td>264.6</td><td>1960</td><td>2015</td><td>1.59025e6</td><td>1.11766e6</td></tr><tr><th>4</th><td>725485</td><td>14940</td><td>MASON CITY MUNICIPAL ARPT</td><td>US</td><td>IA</td><td>KMCW</td><td>43.154</td><td>-93.327</td><td>373.4</td><td>1973</td><td>2015</td><td>1.51407e6</td><td>1.18374e6</td></tr></table>"
      ],
      "text/plain": [
       "4×13 DataFrames.DataFrame\n",
       "│ Row │ USAF   │ WBAN  │ NAME                             │ CTRY │ STATE │\n",
       "├─────┼────────┼───────┼──────────────────────────────────┼──────┼───────┤\n",
       "│ 1   │ 725450 │ 14990 │ THE EASTERN IOWA AIRPORT         │ US   │ IA    │\n",
       "│ 2   │ 725460 │ 14933 │ DES MOINES INTERNATIONAL AIRPORT │ US   │ IA    │\n",
       "│ 3   │ 725480 │ 94910 │ WATERLOO MUNICIPAL AIRPORT       │ US   │ IA    │\n",
       "│ 4   │ 725485 │ 14940 │ MASON CITY MUNICIPAL ARPT        │ US   │ IA    │\n",
       "\n",
       "│ Row │ ICAO │ LAT    │ LON     │ ELEV  │ BEGIN │ END  │ X_PRJ     │ Y_PRJ     │\n",
       "├─────┼──────┼────────┼─────────┼───────┼───────┼──────┼───────────┼───────────┤\n",
       "│ 1   │ KCID │ 41.883 │ -91.717 │ 264.6 │ 1973  │ 2015 │ 1.64799e6 │ 1.0441e6  │\n",
       "│ 2   │ KDSM │ 41.534 │ -93.653 │ 291.7 │ 1973  │ 2015 │ 1.48723e6 │ 1.00379e6 │\n",
       "│ 3   │ KALO │ 42.554 │ -92.401 │ 264.6 │ 1960  │ 2015 │ 1.59025e6 │ 1.11766e6 │\n",
       "│ 4   │ KMCW │ 43.154 │ -93.327 │ 373.4 │ 1973  │ 2015 │ 1.51407e6 │ 1.18374e6 │"
      ]
     },
     "execution_count": 6,
     "metadata": {},
     "output_type": "execute_result"
    }
   ],
   "source": [
    "isdSubset=isdList[[(usaf in (725450,725460,725480,725485)) for usaf in isdList[:USAF].values],:]\n",
    "isdSubset"
   ]
  },
  {
   "cell_type": "code",
   "execution_count": 7,
   "metadata": {
    "collapsed": false,
    "deletable": true,
    "editable": true
   },
   "outputs": [
    {
     "data": {
      "text/html": [
       "<table class=\"data-frame\"><tr><th></th><th>year</th><th>month</th><th>day</th><th>hour</th><th>min</th><th>seconds</th><th>temp</th><th>ts</th><th>station</th><th>ts_hours</th></tr><tr><th>1</th><td>2015</td><td>1</td><td>1</td><td>0</td><td>52</td><td>0</td><td>-7.8</td><td>2015-01-01T00:52:00</td><td>1</td><td>0.866667</td></tr><tr><th>2</th><td>2015</td><td>1</td><td>1</td><td>1</td><td>52</td><td>0</td><td>-8.3</td><td>2015-01-01T01:52:00</td><td>1</td><td>1.86667</td></tr><tr><th>3</th><td>2015</td><td>1</td><td>1</td><td>2</td><td>52</td><td>0</td><td>-8.3</td><td>2015-01-01T02:52:00</td><td>1</td><td>2.86667</td></tr><tr><th>4</th><td>2015</td><td>1</td><td>1</td><td>3</td><td>52</td><td>0</td><td>-9.4</td><td>2015-01-01T03:52:00</td><td>1</td><td>3.86667</td></tr><tr><th>5</th><td>2015</td><td>1</td><td>1</td><td>4</td><td>52</td><td>0</td><td>-9.4</td><td>2015-01-01T04:52:00</td><td>1</td><td>4.86667</td></tr></table>"
      ],
      "text/plain": [
       "5×10 DataFrames.DataFrame\n",
       "│ Row │ year │ month │ day │ hour │ min │ seconds │ temp │ ts                  │\n",
       "├─────┼──────┼───────┼─────┼──────┼─────┼─────────┼──────┼─────────────────────┤\n",
       "│ 1   │ 2015 │ 1     │ 1   │ 0    │ 52  │ 0       │ -7.8 │ 2015-01-01T00:52:00 │\n",
       "│ 2   │ 2015 │ 1     │ 1   │ 1    │ 52  │ 0       │ -8.3 │ 2015-01-01T01:52:00 │\n",
       "│ 3   │ 2015 │ 1     │ 1   │ 2    │ 52  │ 0       │ -8.3 │ 2015-01-01T02:52:00 │\n",
       "│ 4   │ 2015 │ 1     │ 1   │ 3    │ 52  │ 0       │ -9.4 │ 2015-01-01T03:52:00 │\n",
       "│ 5   │ 2015 │ 1     │ 1   │ 4    │ 52  │ 0       │ -9.4 │ 2015-01-01T04:52:00 │\n",
       "\n",
       "│ Row │ station │ ts_hours │\n",
       "├─────┼─────────┼──────────┤\n",
       "│ 1   │ 1       │ 0.866667 │\n",
       "│ 2   │ 1       │ 1.86667  │\n",
       "│ 3   │ 1       │ 2.86667  │\n",
       "│ 4   │ 1       │ 3.86667  │\n",
       "│ 5   │ 1       │ 4.86667  │"
      ]
     },
     "execution_count": 7,
     "metadata": {},
     "output_type": "execute_result"
    }
   ],
   "source": [
    "hourly_cat=read_Stations(isdSubset)\n",
    "hourly_cat[1:5,:]"
   ]
  },
  {
   "cell_type": "markdown",
   "metadata": {
    "deletable": true,
    "editable": true
   },
   "source": [
    "## Distances"
   ]
  },
  {
   "cell_type": "markdown",
   "metadata": {
    "deletable": true,
    "editable": true
   },
   "source": [
    "To get distances between stations, we can either use a function to compute distances on a sphere, or we can first project the coordinates onto a Euclidean plane, and then compute normal distances. I'll do it both ways to check they're consistent (equal up to a multiplication constant), and then use Euclidean distances for convenience."
   ]
  },
  {
   "cell_type": "code",
   "execution_count": 8,
   "metadata": {
    "collapsed": false,
    "deletable": true,
    "editable": true
   },
   "outputs": [
    {
     "data": {
      "text/plain": [
       "distance_on_unit_sphere (generic function with 1 method)"
      ]
     },
     "execution_count": 8,
     "metadata": {},
     "output_type": "execute_result"
    }
   ],
   "source": [
    "# http://www.johndcook.com/blog/python_longitude_latitude/\n",
    "function distance_on_unit_sphere(lat1, long1, lat2, long2)\n",
    " \n",
    "    # Convert latitude and longitude to \n",
    "    # spherical coordinates in radians.\n",
    "    degrees_to_radians = π/180.0\n",
    "         \n",
    "    # phi = 90 - latitude\n",
    "    phi1 = (90.0 - lat1)*degrees_to_radians\n",
    "    phi2 = (90.0 - lat2)*degrees_to_radians\n",
    "         \n",
    "    # theta = longitude\n",
    "    theta1 = long1*degrees_to_radians\n",
    "    theta2 = long2*degrees_to_radians\n",
    "         \n",
    "    # Compute spherical distance from spherical coordinates.\n",
    "         \n",
    "    # For two locations in spherical coordinates \n",
    "    # (1, theta, phi) and (1, theta', phi')\n",
    "    # cosine( arc length ) = \n",
    "    #    sin phi sin phi' cos(theta-theta') + cos phi cos phi'\n",
    "    # distance = rho * arc length\n",
    "     \n",
    "    cosangle = (sin(phi1)*sin(phi2)*cos(theta1 - theta2) +\n",
    "           cos(phi1)*cos(phi2))\n",
    "    arc = acos( cosangle )\n",
    " \n",
    "    # Remember to multiply arc by the radius of the earth \n",
    "    # in your favorite set of units to get length.\n",
    "    return arc\n",
    "end"
   ]
  },
  {
   "cell_type": "code",
   "execution_count": 9,
   "metadata": {
    "collapsed": false,
    "deletable": true,
    "editable": true
   },
   "outputs": [
    {
     "data": {
      "text/plain": [
       "4×4 Array{Float64,2}:\n",
       " 0.0        0.0259496  0.0146736  0.0303475\n",
       " 0.0259496  0.0        0.024088   0.0285853\n",
       " 0.0146736  0.024088   0.0        0.0158124\n",
       " 0.0303475  0.0285853  0.0158124  0.0      "
      ]
     },
     "execution_count": 9,
     "metadata": {},
     "output_type": "execute_result"
    }
   ],
   "source": [
    "numstations = nrow(isdSubset)\n",
    "pairwiseSphere = zeros(numstations, numstations)\n",
    "for i in 1:numstations\n",
    "    for j in 1:i\n",
    "        if i==j\n",
    "            continue\n",
    "        end\n",
    "        station1 = isdSubset[i,:]\n",
    "        station2 = isdSubset[j,:]\n",
    "        lat1= get(station1[1,:LAT])\n",
    "        lon1 = get(station1[1,:LON])\n",
    "        lat2 = get(station2[1,:LAT])\n",
    "        lon2 = get(station2[1,:LON])\n",
    "        pairwiseSphere[i,j] = distance_on_unit_sphere(lat1, lon1, lat2, lon2)\n",
    "        pairwiseSphere[j,i] = pairwiseSphere[i,j]\n",
    "    end\n",
    "end\n",
    "pairwiseSphere"
   ]
  },
  {
   "cell_type": "code",
   "execution_count": 10,
   "metadata": {
    "collapsed": false,
    "deletable": true,
    "editable": true
   },
   "outputs": [
    {
     "data": {
      "text/plain": [
       "4×4 Array{Float64,2}:\n",
       "      0.0        165736.0        93510.4        1.93474e5\n",
       " 165736.0             0.0            1.53559e5  1.81942e5\n",
       "  93510.4             1.53559e5      0.0        1.00846e5\n",
       "      1.93474e5       1.81942e5      1.00846e5  0.0      "
      ]
     },
     "execution_count": 10,
     "metadata": {},
     "output_type": "execute_result"
    }
   ],
   "source": [
    "pairwiseEuclid=pairwise(Euclidean(), Matrix(isdSubset[[:X_PRJ,:Y_PRJ]])')"
   ]
  },
  {
   "cell_type": "markdown",
   "metadata": {
    "deletable": true,
    "editable": true
   },
   "source": [
    "Ratio of the two distance matrices: close enough to a constant!"
   ]
  },
  {
   "cell_type": "code",
   "execution_count": 11,
   "metadata": {
    "collapsed": false,
    "deletable": true,
    "editable": true
   },
   "outputs": [
    {
     "data": {
      "text/plain": [
       "4×4 Array{Float64,2}:\n",
       " NaN            6.38684e6    6.37271e6    6.37527e6\n",
       "   6.38684e6  NaN            6.37493e6    6.36489e6\n",
       "   6.37271e6    6.37493e6  NaN            6.37765e6\n",
       "   6.37527e6    6.36489e6    6.37765e6  NaN        "
      ]
     },
     "execution_count": 11,
     "metadata": {},
     "output_type": "execute_result"
    }
   ],
   "source": [
    "pairwiseEuclid ./ pairwiseSphere"
   ]
  },
  {
   "cell_type": "markdown",
   "metadata": {
    "deletable": true,
    "editable": true
   },
   "source": [
    "# Time-series kernel"
   ]
  },
  {
   "cell_type": "markdown",
   "metadata": {
    "deletable": true,
    "editable": true
   },
   "source": [
    "Start with the time-series kernel."
   ]
  },
  {
   "cell_type": "code",
   "execution_count": 12,
   "metadata": {
    "collapsed": false,
    "deletable": true,
    "editable": true
   },
   "outputs": [],
   "source": [
    "k1 = fix(Periodic(0.0,0.0,log(24.0)), :lp)\n",
    "k2 = RQIso(0.0,0.0,0.0)\n",
    "k3 = SEIso(0.0,0.0)\n",
    "k4 = RQIso(0.0,0.0,0.0)\n",
    "k5 = RQIso(0.0,0.0,0.0)\n",
    "k6 = SE(0.0,0.0)\n",
    "k_time=k1+k2+k3+k4+k5+k6\n",
    "# hyperparameters fitted in JuliaGP_timeseries_chunks.ipynb\n",
    "hyp=[-1.46229,-0.0777809,1.03854,1.45757,1.06292,-1.23699,-1.2353,-1.05117,3.10614,1.29327,2.84729,3.67464,0.537794,3.0094,7.70676,-5.30466]\n",
    "set_params!(k_time, hyp[2:end])"
   ]
  },
  {
   "cell_type": "markdown",
   "metadata": {
    "deletable": true,
    "editable": true
   },
   "source": [
    "# Spatio-temporal kernel with fixed variances"
   ]
  },
  {
   "cell_type": "code",
   "execution_count": 13,
   "metadata": {
    "collapsed": false,
    "deletable": true,
    "editable": true
   },
   "outputs": [
    {
     "data": {
      "text/plain": [
       "Type: GaussianProcesses.SEIso, Params: [9.21034,2.30259]\n"
      ]
     },
     "execution_count": 13,
     "metadata": {},
     "output_type": "execute_result"
    }
   ],
   "source": [
    "k_spatial = SEIso(log(2*10^5), log(1.0))\n",
    "k_means = SEIso(log(10^4), log(10.0))"
   ]
  },
  {
   "cell_type": "code",
   "execution_count": 14,
   "metadata": {
    "collapsed": false,
    "deletable": true,
    "editable": true
   },
   "outputs": [
    {
     "data": {
      "text/plain": [
       "Type: GaussianProcesses.SumKernel\n",
       "  Type: GaussianProcesses.ProdKernel\n",
       "    Type: GaussianProcesses.FixedKern, Params: Float64[]\n",
       "    Type: GaussianProcesses.FixedKern, Params: [12.2061]\n",
       "  Type: GaussianProcesses.ProdKernel\n",
       "    Type: GaussianProcesses.FixedKern, Params: Float64[]\n",
       "    Type: GaussianProcesses.FixedKern, Params: [12.2061]\n",
       "  Type: GaussianProcesses.ProdKernel\n",
       "    Type: GaussianProcesses.FixedKern, Params: Float64[]\n",
       "    Type: GaussianProcesses.FixedKern, Params: [12.2061]\n",
       "  Type: GaussianProcesses.ProdKernel\n",
       "    Type: GaussianProcesses.FixedKern, Params: Float64[]\n",
       "    Type: GaussianProcesses.FixedKern, Params: [12.2061]\n",
       "  Type: GaussianProcesses.ProdKernel\n",
       "    Type: GaussianProcesses.FixedKern, Params: Float64[]\n",
       "    Type: GaussianProcesses.FixedKern, Params: [12.2061]\n",
       "  Type: GaussianProcesses.ProdKernel\n",
       "    Type: GaussianProcesses.FixedKern, Params: Float64[]\n",
       "    Type: GaussianProcesses.FixedKern, Params: [12.2061]\n",
       "  Type: GaussianProcesses.FixedKern, Params: Float64[]\n"
      ]
     },
     "execution_count": 14,
     "metadata": {},
     "output_type": "execute_result"
    }
   ],
   "source": [
    "ksp1 = SEIso(log(2*10^5), log(1.0))\n",
    "ksp2 = SEIso(log(2*10^5), log(1.0))\n",
    "ksp3 = SEIso(log(2*10^5), log(1.0))\n",
    "ksp4 = SEIso(log(2*10^5), log(1.0))\n",
    "ksp5 = SEIso(log(2*10^5), log(1.0))\n",
    "ksp6 = SEIso(log(2*10^5), log(1.0))\n",
    "k_spatiotemporal_1 = fix(Masked(k1, [1])) * fix(Masked(ksp1, [2,3]), :lσ) +\n",
    "                     fix(Masked(k2, [1])) * fix(Masked(ksp2, [2,3]), :lσ) +\n",
    "                     fix(Masked(k3, [1])) * fix(Masked(ksp3, [2,3]), :lσ) +\n",
    "                     fix(Masked(k4, [1])) * fix(Masked(ksp4, [2,3]), :lσ) +\n",
    "                     fix(Masked(k5, [1])) * fix(Masked(ksp5, [2,3]), :lσ) +\n",
    "                     fix(Masked(k6, [1])) * fix(Masked(ksp6, [2,3]), :lσ) +\n",
    "                     fix(Masked(k_means, [2,3]))"
   ]
  },
  {
   "cell_type": "code",
   "execution_count": 15,
   "metadata": {
    "collapsed": false,
    "deletable": true,
    "editable": true
   },
   "outputs": [],
   "source": [
    "# parameters obtained in JuliaGP_spatial3 for the same model\n",
    "set_params!(k_spatiotemporal_1, [15.4259,9.86868,9.12749,16.4496,15.0163,12.2061])"
   ]
  },
  {
   "cell_type": "code",
   "execution_count": 20,
   "metadata": {
    "collapsed": false,
    "deletable": true,
    "editable": true
   },
   "outputs": [
    {
     "data": {
      "text/plain": [
       "Optim.Options{Void}(0.0001,1.0e-32,1.0e-8,false,1000,false,false,false,false,1,nothing,NaN)"
      ]
     },
     "execution_count": 20,
     "metadata": {},
     "output_type": "execute_result"
    }
   ],
   "source": [
    "Optim.Options(x_tol=1e-4)"
   ]
  },
  {
   "cell_type": "code",
   "execution_count": 29,
   "metadata": {
    "collapsed": false,
    "deletable": true,
    "editable": true
   },
   "outputs": [
    {
     "name": "stdout",
     "output_type": "stream",
     "text": [
      "[-9192.58,-0.127364,0.339176,3.87699e-19,0.104648,0.258761,1.73226e-6]\n",
      "Iter     Function value   Gradient norm \n",
      "     0     5.131137e+04     9.192581e+03\n",
      "Base.LinAlg.PosDefException(758)\n",
      "Base.LinAlg.PosDefException(758)\n",
      "Base.LinAlg.PosDefException(758)\n",
      "     1     4.901635e+04     3.545001e+03\n",
      "     2     4.858904e+04     3.647437e+01\n",
      "     3     4.858900e+04     3.575821e-01\n",
      "563.787061 seconds (7.65 G allocations: 233.471 GB, 15.64% gc time)\n"
     ]
    },
    {
     "data": {
      "text/plain": [
       "Results of Optimization Algorithm\n",
       " * Algorithm: Conjugate Gradient\n",
       " * Starting Point: [-1.0,15.4259, ...]\n",
       " * Minimizer: [-1.6035385069430337,15.425862451601983, ...]\n",
       " * Minimum: 4.858900e+04\n",
       " * Iterations: 3\n",
       " * Convergence: true\n",
       "   * |x - x'| < 1.0e-05: false\n",
       "   * |f(x) - f(x')| / |f(x)| < 1.0e-05: true\n",
       "   * |g(x)| < 1.0e-08: false\n",
       "   * f(x) > f(x'): false\n",
       "   * Reached Maximum Number of Iterations: false\n",
       " * Objective Function Calls: 14\n",
       " * Gradient Calls: 8"
      ]
     },
     "execution_count": 29,
     "metadata": {},
     "output_type": "execute_result"
    }
   ],
   "source": [
    "begin\n",
    "    global opt_out\n",
    "    k_spatiotemporal = k_spatiotemporal_1\n",
    "    chunks=GP[]\n",
    "    chunk_width=24*10\n",
    "    tstart=0.0\n",
    "    tend=tstart+chunk_width\n",
    "    nobsv=0\n",
    "    while tstart < get(maximum(hourly_cat[:ts_hours]))\n",
    "        in_chunk=(tstart .<= hourly_cat[:ts_hours].values) & (hourly_cat[:ts_hours].values .< tend)\n",
    "        hourly_chunk = hourly_cat[in_chunk,:]\n",
    "        nobsv_chunk = sum(in_chunk)\n",
    "        nobsv += nobsv_chunk\n",
    "\n",
    "        chunk_X_PRJ = isdSubset[:X_PRJ].values[hourly_chunk[:station].values]\n",
    "        chunk_Y_PRJ = isdSubset[:Y_PRJ].values[hourly_chunk[:station].values]\n",
    "        chunk_X = [hourly_chunk[:ts_hours].values chunk_X_PRJ chunk_Y_PRJ]\n",
    "\n",
    "        y = hourly_chunk[:temp].values\n",
    "        chunk = GP(chunk_X', y, MeanConst(mean(y)), k_spatiotemporal, -1.0)\n",
    "        push!(chunks, chunk)\n",
    "\n",
    "        tstart=tend\n",
    "        tend+=chunk_width\n",
    "    end\n",
    "    reals = TempModel.GPRealisations(chunks)\n",
    "    update_mll_and_dmll!(reals, mean=false)\n",
    "    println(reals.dmLL)\n",
    "    @time opt_out=optimize!(reals, mean=false, show_trace=true, x_tol=1e-5, f_tol=1e-5)\n",
    "end"
   ]
  },
  {
   "cell_type": "code",
   "execution_count": 30,
   "metadata": {
    "collapsed": false,
    "deletable": true,
    "editable": true
   },
   "outputs": [
    {
     "name": "stdout",
     "output_type": "stream",
     "text": [
      "[-1.60354,15.4259,9.86874,9.12749,16.4496,15.0163,12.2061]"
     ]
    }
   ],
   "source": [
    "print(Optim.minimizer(opt_out))"
   ]
  },
  {
   "cell_type": "code",
   "execution_count": 31,
   "metadata": {
    "collapsed": false,
    "deletable": true,
    "editable": true
   },
   "outputs": [
    {
     "name": "stdout",
     "output_type": "stream",
     "text": [
      "48589.0012141646"
     ]
    }
   ],
   "source": [
    "print(Optim.minimum(opt_out))"
   ]
  },
  {
   "cell_type": "code",
   "execution_count": 32,
   "metadata": {
    "collapsed": false,
    "deletable": true,
    "editable": true
   },
   "outputs": [
    {
     "name": "stdout",
     "output_type": "stream",
     "text": [
      "k₁: Periodic \n",
      "=================\n",
      "σ: 2.825\n",
      "l: 0.925\n",
      "p:    24 hours\n",
      "> spatial decay:\n",
      "l: 5004571.995\n",
      "\n",
      "k₂: RQIso \n",
      "=================\n",
      "σ: 2.895\n",
      "l: 4.296 hours\n",
      "α: 0.290\n",
      "> spatial decay:\n",
      "l: 19317.000\n",
      "\n",
      "k₃: SEIso \n",
      "=================\n",
      "σ: 0.350\n",
      "l: 0.291 hours\n",
      "> spatial decay:\n",
      "l: 9204.889\n",
      "\n",
      "k₄: RQIso \n",
      "=================\n",
      "σ: 3.645\n",
      "l: 0.931 days\n",
      "α: 17.241\n",
      "> spatial decay:\n",
      "l: 13930874.504\n",
      "\n",
      "k₅: RQIso \n",
      "=================\n",
      "σ: 1.712\n",
      "l: 1.643 days\n",
      "α: 20.275\n",
      "> spatial decay:\n",
      "l: 3322887.922\n",
      "\n",
      "k₆ SEIso \n",
      "=================\n",
      "σ: 0.005\n",
      "l: 92.639 days\n",
      "> spatial decay:\n",
      "l: 200005.471\n",
      "\n",
      "=================\n",
      "σy: 0.201\n"
     ]
    }
   ],
   "source": [
    "print(\"k₁: Periodic \\n=================\\n\")\n",
    "@printf(\"σ: %5.3f\\n\", √k1.kern.σ2)\n",
    "@printf(\"l: %5.3f\\n\", √k1.kern.ℓ2)\n",
    "@printf(\"p: %5.0f hours\\n\", k1.kern.p)\n",
    "print(\"> spatial decay:\\n\")\n",
    "@printf(\"l: %5.3f\\n\", √ksp1.ℓ2)\n",
    "print(\"\\nk₂: RQIso \\n=================\\n\")\n",
    "@printf(\"σ: %5.3f\\n\", √ k2.σ2)\n",
    "@printf(\"l: %5.3f hours\\n\", √ k2.ℓ2)\n",
    "@printf(\"α: %5.3f\\n\", k2.α)\n",
    "print(\"> spatial decay:\\n\")\n",
    "# @printf(\"σ: %5.3f\\n\", √ksp2.σ2)\n",
    "@printf(\"l: %5.3f\\n\", √ksp2.ℓ2)\n",
    "print(\"\\nk₃: SEIso \\n=================\\n\")\n",
    "@printf(\"σ: %5.3f\\n\", √k3.σ2)\n",
    "@printf(\"l: %5.3f hours\\n\", √k3.ℓ2)\n",
    "print(\"> spatial decay:\\n\")\n",
    "# @printf(\"σ: %5.3f\\n\", √ksp3.σ2)\n",
    "@printf(\"l: %5.3f\\n\", √ksp3.ℓ2)\n",
    "print(\"\\nk₄: RQIso \\n=================\\n\")\n",
    "@printf(\"σ: %5.3f\\n\", √k4.σ2)\n",
    "@printf(\"l: %5.3f days\\n\", √k4.ℓ2 / 24)\n",
    "@printf(\"α: %5.3f\\n\",  k4.α)\n",
    "print(\"> spatial decay:\\n\")\n",
    "# @printf(\"σ: %5.3f\\n\", √ksp4.σ2)\n",
    "@printf(\"l: %5.3f\\n\", √ksp4.ℓ2)\n",
    "print(\"\\nk₅: RQIso \\n=================\\n\")\n",
    "@printf(\"σ: %5.3f\\n\", √k5.σ2)\n",
    "@printf(\"l: %5.3f days\\n\", √k5.ℓ2 / 24)\n",
    "@printf(\"α: %5.3f\\n\",  k5.α)\n",
    "print(\"> spatial decay:\\n\")\n",
    "# @printf(\"σ: %5.3f\\n\", √ksp5.σ2)\n",
    "@printf(\"l: %5.3f\\n\", √ksp5.ℓ2)\n",
    "print(\"\\nk₆ SEIso \\n=================\\n\")\n",
    "@printf(\"σ: %5.3f\\n\", √k6.σ2)\n",
    "@printf(\"l: %5.3f days\\n\", √k6.ℓ2 / 24)\n",
    "print(\"> spatial decay:\\n\")\n",
    "# @printf(\"σ: %5.3f\\n\", √ksp6.σ2)\n",
    "@printf(\"l: %5.3f\\n\", √ksp6.ℓ2)\n",
    "print(\"\\n=================\\n\")\n",
    "@printf(\"σy: %5.3f\\n\", exp(Optim.minimizer(opt_out)[1]))"
   ]
  },
  {
   "cell_type": "markdown",
   "metadata": {
    "deletable": true,
    "editable": true
   },
   "source": [
    "# Releasing variances"
   ]
  },
  {
   "cell_type": "code",
   "execution_count": 15,
   "metadata": {
    "collapsed": false,
    "deletable": true,
    "editable": true
   },
   "outputs": [
    {
     "data": {
      "text/plain": [
       "Type: GaussianProcesses.SumKernel\n",
       "  Type: GaussianProcesses.ProdKernel\n",
       "    Type: GaussianProcesses.FixedKern, Params: Float64[]\n",
       "    Type: GaussianProcesses.Masked{GaussianProcesses.SEIso}, Params: [12.2061,0.0]\n",
       "  Type: GaussianProcesses.ProdKernel\n",
       "    Type: GaussianProcesses.FixedKern, Params: Float64[]\n",
       "    Type: GaussianProcesses.Masked{GaussianProcesses.SEIso}, Params: [12.2061,0.0]\n",
       "  Type: GaussianProcesses.ProdKernel\n",
       "    Type: GaussianProcesses.FixedKern, Params: Float64[]\n",
       "    Type: GaussianProcesses.Masked{GaussianProcesses.SEIso}, Params: [12.2061,0.0]\n",
       "  Type: GaussianProcesses.ProdKernel\n",
       "    Type: GaussianProcesses.FixedKern, Params: Float64[]\n",
       "    Type: GaussianProcesses.Masked{GaussianProcesses.SEIso}, Params: [12.2061,0.0]\n",
       "  Type: GaussianProcesses.ProdKernel\n",
       "    Type: GaussianProcesses.FixedKern, Params: Float64[]\n",
       "    Type: GaussianProcesses.Masked{GaussianProcesses.SEIso}, Params: [12.2061,0.0]\n",
       "  Type: GaussianProcesses.ProdKernel\n",
       "    Type: GaussianProcesses.FixedKern, Params: Float64[]\n",
       "    Type: GaussianProcesses.Masked{GaussianProcesses.SEIso}, Params: [12.2061,0.0]\n",
       "  Type: GaussianProcesses.FixedKern, Params: Float64[]\n"
      ]
     },
     "execution_count": 15,
     "metadata": {},
     "output_type": "execute_result"
    }
   ],
   "source": [
    "logNoise = -1.60354\n",
    "k_spatiotemporal_2 = fix(Masked(k1, [1])) * Masked(ksp1, [2,3]) +\n",
    "                     fix(Masked(k2, [1])) * Masked(ksp2, [2,3]) +\n",
    "                     fix(Masked(k3, [1])) * Masked(ksp3, [2,3]) +\n",
    "                     fix(Masked(k4, [1])) * Masked(ksp4, [2,3]) +\n",
    "                     fix(Masked(k5, [1])) * Masked(ksp5, [2,3]) +\n",
    "                     fix(Masked(k6, [1])) * Masked(ksp6, [2,3]) +\n",
    "                     fix(Masked(k_means, [2,3]))"
   ]
  },
  {
   "cell_type": "code",
   "execution_count": 16,
   "metadata": {
    "collapsed": false,
    "deletable": true,
    "editable": true
   },
   "outputs": [
    {
     "name": "stdout",
     "output_type": "stream",
     "text": [
      "3644.682171 seconds (55.79 G allocations: 1.480 TB, 12.51% gc time)\n"
     ]
    },
    {
     "data": {
      "text/plain": [
       "(47073.84376460839,[-1.65003,13.9813,0.142867,11.5063,-0.081503,9.20607,0.124475,15.2061,0.18125,14.0491,-1.67634,12.2061,-5.11287e-6],:FTOL_REACHED,40)"
      ]
     },
     "execution_count": 16,
     "metadata": {},
     "output_type": "execute_result"
    }
   ],
   "source": [
    "begin\n",
    "    global opt_out\n",
    "    k_spatiotemporal = k_spatiotemporal_2\n",
    "    chunks=GP[]\n",
    "    chunk_width=24*10\n",
    "    tstart=0.0\n",
    "    tend=tstart+chunk_width\n",
    "    nobsv=0\n",
    "    while tstart < get(maximum(hourly_cat[:ts_hours]))\n",
    "        in_chunk=(tstart .<= hourly_cat[:ts_hours].values) & (hourly_cat[:ts_hours].values .< tend)\n",
    "        hourly_chunk = hourly_cat[in_chunk,:]\n",
    "        nobsv_chunk = sum(in_chunk)\n",
    "        nobsv += nobsv_chunk\n",
    "\n",
    "        chunk_X_PRJ = isdSubset[:X_PRJ].values[hourly_chunk[:station].values]\n",
    "        chunk_Y_PRJ = isdSubset[:Y_PRJ].values[hourly_chunk[:station].values]\n",
    "        chunk_X = [hourly_chunk[:ts_hours].values chunk_X_PRJ chunk_Y_PRJ]\n",
    "\n",
    "        y = hourly_chunk[:temp].values\n",
    "        chunk = GP(chunk_X', y, MeanConst(mean(y)), k_spatiotemporal, logNoise)\n",
    "        push!(chunks, chunk)\n",
    "\n",
    "        tstart=tend\n",
    "        tend+=chunk_width\n",
    "    end\n",
    "    reals = TempModel.GPRealisations(chunks)\n",
    "    @time opt_out=TempModel.optimize_NLopt(reals, mean=false, x_tol=1e-5, f_tol=1e-5)\n",
    "end"
   ]
  },
  {
   "cell_type": "code",
   "execution_count": 17,
   "metadata": {
    "collapsed": false,
    "deletable": true,
    "editable": true
   },
   "outputs": [
    {
     "data": {
      "text/plain": [
       "(47073.84376460839,[-1.65003,13.9813,0.142867,11.5063,-0.081503,9.20607,0.124475,15.2061,0.18125,14.0491,-1.67634,12.2061,-5.11287e-6],:FTOL_REACHED,40)"
      ]
     },
     "execution_count": 17,
     "metadata": {},
     "output_type": "execute_result"
    }
   ],
   "source": [
    "opt_out"
   ]
  },
  {
   "cell_type": "code",
   "execution_count": 19,
   "metadata": {
    "collapsed": false,
    "deletable": true,
    "editable": true
   },
   "outputs": [
    {
     "name": "stdout",
     "output_type": "stream",
     "text": [
      "k₁: Periodic \n",
      "=================\n",
      "σ: 2.825\n",
      "l: 0.925\n",
      "p:    24 hours\n",
      "> spatial decay:\n",
      "σ: 1.154\n",
      "l: 1180299.400\n",
      "\n",
      "k₂: RQIso \n",
      "=================\n",
      "σ: 2.895\n",
      "l: 4.296 hours\n",
      "α: 0.290\n",
      "> spatial decay:\n",
      "σ: 0.922\n",
      "l: 99343.470\n",
      "\n",
      "k₃: SEIso \n",
      "=================\n",
      "σ: 0.350\n",
      "l: 0.291 hours\n",
      "> spatial decay:\n",
      "σ: 1.133\n",
      "l: 9957.414\n",
      "\n",
      "k₄: RQIso \n",
      "=================\n",
      "σ: 3.645\n",
      "l: 0.931 days\n",
      "α: 17.241\n",
      "> spatial decay:\n",
      "σ: 1.199\n",
      "l: 4017107.385\n",
      "\n",
      "k₅: RQIso \n",
      "=================\n",
      "σ: 1.712\n",
      "l: 1.643 days\n",
      "α: 20.275\n",
      "> spatial decay:\n",
      "σ: 0.187\n",
      "l: 1263149.646\n",
      "\n",
      "k₆ SEIso \n",
      "=================\n",
      "σ: 0.005\n",
      "l: 92.639 days\n",
      "> spatial decay:\n",
      "σ: 1.000\n",
      "l: 200000.077\n",
      "\n",
      "=================\n",
      "σy: 0.192\n"
     ]
    }
   ],
   "source": [
    "print(\"k₁: Periodic \\n=================\\n\")\n",
    "@printf(\"σ: %5.3f\\n\", √k1.kern.σ2)\n",
    "@printf(\"l: %5.3f\\n\", √k1.kern.ℓ2)\n",
    "@printf(\"p: %5.0f hours\\n\", k1.kern.p)\n",
    "print(\"> spatial decay:\\n\")\n",
    "@printf(\"σ: %5.3f\\n\", √ksp1.σ2)\n",
    "@printf(\"l: %5.3f\\n\", √ksp1.ℓ2)\n",
    "print(\"\\nk₂: RQIso \\n=================\\n\")\n",
    "@printf(\"σ: %5.3f\\n\", √ k2.σ2)\n",
    "@printf(\"l: %5.3f hours\\n\", √ k2.ℓ2)\n",
    "@printf(\"α: %5.3f\\n\", k2.α)\n",
    "print(\"> spatial decay:\\n\")\n",
    "@printf(\"σ: %5.3f\\n\", √ksp2.σ2)\n",
    "@printf(\"l: %5.3f\\n\", √ksp2.ℓ2)\n",
    "print(\"\\nk₃: SEIso \\n=================\\n\")\n",
    "@printf(\"σ: %5.3f\\n\", √k3.σ2)\n",
    "@printf(\"l: %5.3f hours\\n\", √k3.ℓ2)\n",
    "print(\"> spatial decay:\\n\")\n",
    "@printf(\"σ: %5.3f\\n\", √ksp3.σ2)\n",
    "@printf(\"l: %5.3f\\n\", √ksp3.ℓ2)\n",
    "print(\"\\nk₄: RQIso \\n=================\\n\")\n",
    "@printf(\"σ: %5.3f\\n\", √k4.σ2)\n",
    "@printf(\"l: %5.3f days\\n\", √k4.ℓ2 / 24)\n",
    "@printf(\"α: %5.3f\\n\",  k4.α)\n",
    "print(\"> spatial decay:\\n\")\n",
    "@printf(\"σ: %5.3f\\n\", √ksp4.σ2)\n",
    "@printf(\"l: %5.3f\\n\", √ksp4.ℓ2)\n",
    "print(\"\\nk₅: RQIso \\n=================\\n\")\n",
    "@printf(\"σ: %5.3f\\n\", √k5.σ2)\n",
    "@printf(\"l: %5.3f days\\n\", √k5.ℓ2 / 24)\n",
    "@printf(\"α: %5.3f\\n\",  k5.α)\n",
    "print(\"> spatial decay:\\n\")\n",
    "@printf(\"σ: %5.3f\\n\", √ksp5.σ2)\n",
    "@printf(\"l: %5.3f\\n\", √ksp5.ℓ2)\n",
    "print(\"\\nk₆ SEIso \\n=================\\n\")\n",
    "@printf(\"σ: %5.3f\\n\", √k6.σ2)\n",
    "@printf(\"l: %5.3f days\\n\", √k6.ℓ2 / 24)\n",
    "print(\"> spatial decay:\\n\")\n",
    "@printf(\"σ: %5.3f\\n\", √ksp6.σ2)\n",
    "@printf(\"l: %5.3f\\n\", √ksp6.ℓ2)\n",
    "print(\"\\n=================\\n\")\n",
    "@printf(\"σy: %5.3f\\n\", exp(opt_out[2][1]))"
   ]
  },
  {
   "cell_type": "markdown",
   "metadata": {
    "deletable": true,
    "editable": true
   },
   "source": [
    "We're getting -log-likelihood $48,476$. We've been able to attain $47,082$. Something's not right. [**Update**: That was because we used the ouput of the previous fit as our initial conditions. We once again get to a lower $47,073$. This goes to show how sensitive the optimization is to the initial parameters.]"
   ]
  },
  {
   "cell_type": "code",
   "execution_count": 40,
   "metadata": {
    "collapsed": false,
    "deletable": true,
    "editable": true
   },
   "outputs": [
    {
     "data": {
      "text/plain": [
       "-1.65029"
      ]
     },
     "execution_count": 40,
     "metadata": {},
     "output_type": "execute_result"
    }
   ],
   "source": [
    "# I think these are the parameters that previously gave the higher likelihood (47,082)\n",
    "hyp=[-1.65029,14.2398,0.111707,11.5002,-0.0791469,8.76624,0.126258,14.4041,0.147028,13.0326,-0.635492,12.2061,-8.08864e-7]\n",
    "set_params!(k_spatiotemporal_2, hyp[2:end])\n",
    "logNoise=hyp[1]"
   ]
  },
  {
   "cell_type": "code",
   "execution_count": 41,
   "metadata": {
    "collapsed": false,
    "deletable": true,
    "editable": true,
    "scrolled": true
   },
   "outputs": [
    {
     "name": "stdout",
     "output_type": "stream",
     "text": [
      "[-15.7938,-10.1937,25.4768,53.1585,-14.6446,-7.18562e-42,-83.0608,8.93097,5.45921,4.24218,-4.3019,2.16346e-6,-2.87661e-5]\n",
      "Iter     Function value   Gradient norm \n",
      "     0     4.708213e+04     8.306075e+01\n",
      "Base.LinAlg.PosDefException(338)\n",
      "     1     4.708200e+04     3.980148e+01\n",
      "333.347845 seconds (4.92 G allocations: 126.378 GB, 12.79% gc time)\n"
     ]
    },
    {
     "data": {
      "text/plain": [
       "Results of Optimization Algorithm\n",
       " * Algorithm: Conjugate Gradient\n",
       " * Starting Point: [-1.65029,14.2398, ...]\n",
       " * Minimizer: [-1.6505292463025218,14.239645584469743, ...]\n",
       " * Minimum: 4.708200e+04\n",
       " * Iterations: 1\n",
       " * Convergence: true\n",
       "   * |x - x'| < 1.0e-05: false\n",
       "   * |f(x) - f(x')| / |f(x)| < 1.0e-05: true\n",
       "   * |g(x)| < 1.0e-08: false\n",
       "   * f(x) > f(x'): false\n",
       "   * Reached Maximum Number of Iterations: false\n",
       " * Objective Function Calls: 6\n",
       " * Gradient Calls: 4"
      ]
     },
     "execution_count": 41,
     "metadata": {},
     "output_type": "execute_result"
    }
   ],
   "source": [
    "begin\n",
    "    global opt_out\n",
    "    k_spatiotemporal = k_spatiotemporal_2\n",
    "    chunks=GP[]\n",
    "    chunk_width=24*10\n",
    "    tstart=0.0\n",
    "    tend=tstart+chunk_width\n",
    "    nobsv=0\n",
    "    while tstart < get(maximum(hourly_cat[:ts_hours]))\n",
    "        in_chunk=(tstart .<= hourly_cat[:ts_hours].values) & (hourly_cat[:ts_hours].values .< tend)\n",
    "        hourly_chunk = hourly_cat[in_chunk,:]\n",
    "        nobsv_chunk = sum(in_chunk)\n",
    "        nobsv += nobsv_chunk\n",
    "\n",
    "        chunk_X_PRJ = isdSubset[:X_PRJ].values[hourly_chunk[:station].values]\n",
    "        chunk_Y_PRJ = isdSubset[:Y_PRJ].values[hourly_chunk[:station].values]\n",
    "        chunk_X = [hourly_chunk[:ts_hours].values chunk_X_PRJ chunk_Y_PRJ]\n",
    "\n",
    "        y = hourly_chunk[:temp].values\n",
    "        chunk = GP(chunk_X', y, MeanConst(mean(y)), k_spatiotemporal, logNoise)\n",
    "        push!(chunks, chunk)\n",
    "\n",
    "        tstart=tend\n",
    "        tend+=chunk_width\n",
    "    end\n",
    "    reals = TempModel.GPRealisations(chunks)\n",
    "    update_mll_and_dmll!(reals, mean=false)\n",
    "    println(reals.dmLL)\n",
    "    @time opt_out=optimize!(reals, mean=false, show_trace=true, x_tol=1e-5, f_tol=1e-5)\n",
    "end"
   ]
  },
  {
   "cell_type": "code",
   "execution_count": 45,
   "metadata": {
    "collapsed": false,
    "deletable": true,
    "editable": true
   },
   "outputs": [
    {
     "name": "stdout",
     "output_type": "stream",
     "text": [
      "[-1.65053,14.2396,0.112093,11.501,-0.0793687,8.76624,0.125,14.4042,0.147111,13.0327,-0.635557,12.2061,-8.093e-7]"
     ]
    }
   ],
   "source": [
    "print(Optim.minimizer(opt_out))"
   ]
  },
  {
   "cell_type": "code",
   "execution_count": 46,
   "metadata": {
    "collapsed": false,
    "deletable": true,
    "editable": true
   },
   "outputs": [
    {
     "name": "stdout",
     "output_type": "stream",
     "text": [
      "47081.9965346642"
     ]
    }
   ],
   "source": [
    "print(Optim.minimum(opt_out))"
   ]
  },
  {
   "cell_type": "code",
   "execution_count": 47,
   "metadata": {
    "collapsed": false,
    "deletable": true,
    "editable": true
   },
   "outputs": [
    {
     "name": "stdout",
     "output_type": "stream",
     "text": [
      "k₁: Periodic \n",
      "=================\n",
      "σ: 2.825\n",
      "l: 0.925\n",
      "p:    24 hours\n",
      "> spatial decay:\n",
      "σ: 1.119\n",
      "l: 1528267.937\n",
      "\n",
      "k₂: RQIso \n",
      "=================\n",
      "σ: 2.895\n",
      "l: 4.296 hours\n",
      "α: 0.290\n",
      "> spatial decay:\n",
      "σ: 0.924\n",
      "l: 98815.055\n",
      "\n",
      "k₃: SEIso \n",
      "=================\n",
      "σ: 0.350\n",
      "l: 0.291 hours\n",
      "> spatial decay:\n",
      "σ: 1.133\n",
      "l: 6414.010\n",
      "\n",
      "k₄: RQIso \n",
      "=================\n",
      "σ: 3.645\n",
      "l: 0.931 days\n",
      "α: 17.241\n",
      "> spatial decay:\n",
      "σ: 1.158\n",
      "l: 1801689.308\n",
      "\n",
      "k₅: RQIso \n",
      "=================\n",
      "σ: 1.712\n",
      "l: 1.643 days\n",
      "α: 20.275\n",
      "> spatial decay:\n",
      "σ: 0.530\n",
      "l: 457103.107\n",
      "\n",
      "k₆ SEIso \n",
      "=================\n",
      "σ: 0.005\n",
      "l: 92.639 days\n",
      "> spatial decay:\n",
      "σ: 1.000\n",
      "l: 200005.471\n",
      "\n",
      "=================\n",
      "σy: 0.192\n"
     ]
    }
   ],
   "source": [
    "print(\"k₁: Periodic \\n=================\\n\")\n",
    "@printf(\"σ: %5.3f\\n\", √k1.kern.σ2)\n",
    "@printf(\"l: %5.3f\\n\", √k1.kern.ℓ2)\n",
    "@printf(\"p: %5.0f hours\\n\", k1.kern.p)\n",
    "print(\"> spatial decay:\\n\")\n",
    "@printf(\"σ: %5.3f\\n\", √ksp1.σ2)\n",
    "@printf(\"l: %5.3f\\n\", √ksp1.ℓ2)\n",
    "print(\"\\nk₂: RQIso \\n=================\\n\")\n",
    "@printf(\"σ: %5.3f\\n\", √ k2.σ2)\n",
    "@printf(\"l: %5.3f hours\\n\", √ k2.ℓ2)\n",
    "@printf(\"α: %5.3f\\n\", k2.α)\n",
    "print(\"> spatial decay:\\n\")\n",
    "@printf(\"σ: %5.3f\\n\", √ksp2.σ2)\n",
    "@printf(\"l: %5.3f\\n\", √ksp2.ℓ2)\n",
    "print(\"\\nk₃: SEIso \\n=================\\n\")\n",
    "@printf(\"σ: %5.3f\\n\", √k3.σ2)\n",
    "@printf(\"l: %5.3f hours\\n\", √k3.ℓ2)\n",
    "print(\"> spatial decay:\\n\")\n",
    "@printf(\"σ: %5.3f\\n\", √ksp3.σ2)\n",
    "@printf(\"l: %5.3f\\n\", √ksp3.ℓ2)\n",
    "print(\"\\nk₄: RQIso \\n=================\\n\")\n",
    "@printf(\"σ: %5.3f\\n\", √k4.σ2)\n",
    "@printf(\"l: %5.3f days\\n\", √k4.ℓ2 / 24)\n",
    "@printf(\"α: %5.3f\\n\",  k4.α)\n",
    "print(\"> spatial decay:\\n\")\n",
    "@printf(\"σ: %5.3f\\n\", √ksp4.σ2)\n",
    "@printf(\"l: %5.3f\\n\", √ksp4.ℓ2)\n",
    "print(\"\\nk₅: RQIso \\n=================\\n\")\n",
    "@printf(\"σ: %5.3f\\n\", √k5.σ2)\n",
    "@printf(\"l: %5.3f days\\n\", √k5.ℓ2 / 24)\n",
    "@printf(\"α: %5.3f\\n\",  k5.α)\n",
    "print(\"> spatial decay:\\n\")\n",
    "@printf(\"σ: %5.3f\\n\", √ksp5.σ2)\n",
    "@printf(\"l: %5.3f\\n\", √ksp5.ℓ2)\n",
    "print(\"\\nk₆ SEIso \\n=================\\n\")\n",
    "@printf(\"σ: %5.3f\\n\", √k6.σ2)\n",
    "@printf(\"l: %5.3f days\\n\", √k6.ℓ2 / 24)\n",
    "print(\"> spatial decay:\\n\")\n",
    "@printf(\"σ: %5.3f\\n\", √ksp6.σ2)\n",
    "@printf(\"l: %5.3f\\n\", √ksp6.ℓ2)\n",
    "print(\"\\n=================\\n\")\n",
    "@printf(\"σy: %5.3f\\n\", exp(Optim.minimizer(opt_out)[1]))"
   ]
  },
  {
   "cell_type": "markdown",
   "metadata": {
    "deletable": true,
    "editable": true
   },
   "source": [
    "# Releasing all parameters"
   ]
  },
  {
   "cell_type": "code",
   "execution_count": 27,
   "metadata": {
    "collapsed": false,
    "deletable": true,
    "editable": true
   },
   "outputs": [
    {
     "data": {
      "text/plain": [
       "-1.6500330136802217"
      ]
     },
     "execution_count": 27,
     "metadata": {},
     "output_type": "execute_result"
    }
   ],
   "source": [
    "logNoise=opt_out[2][1]"
   ]
  },
  {
   "cell_type": "code",
   "execution_count": 30,
   "metadata": {
    "collapsed": true
   },
   "outputs": [],
   "source": [
    "set_params!(k_spatiotemporal_2, \n",
    "    [13.9813,0.142867,11.5063,-0.081503,9.20607,0.124475,15.2061,0.18125,14.0491,-1.67634,12.2061,-5.11287e-6])"
   ]
  },
  {
   "cell_type": "code",
   "execution_count": 32,
   "metadata": {
    "collapsed": false
   },
   "outputs": [],
   "source": [
    "set_params!(k_time, [-0.0777809,1.03854,1.45757,1.06292,-1.23699,-1.2353,-1.05117,3.10614,1.29327,2.84729,3.67464,0.537794,3.0094,7.70676,-5.30466])"
   ]
  },
  {
   "cell_type": "code",
   "execution_count": 33,
   "metadata": {
    "collapsed": false,
    "deletable": true,
    "editable": true
   },
   "outputs": [
    {
     "data": {
      "text/plain": [
       "Type: GaussianProcesses.SumKernel\n",
       "  Type: GaussianProcesses.ProdKernel\n",
       "    Type: GaussianProcesses.Masked{GaussianProcesses.FixedKern}, Params: [-0.0777809,1.03854]\n",
       "    Type: GaussianProcesses.Masked{GaussianProcesses.SEIso}, Params: [13.9813,0.142867]\n",
       "  Type: GaussianProcesses.ProdKernel\n",
       "    Type: GaussianProcesses.Masked{GaussianProcesses.RQIso}, Params: [1.45757,1.06292,-1.23699]\n",
       "    Type: GaussianProcesses.Masked{GaussianProcesses.SEIso}, Params: [11.5063,-0.081503]\n",
       "  Type: GaussianProcesses.ProdKernel\n",
       "    Type: GaussianProcesses.Masked{GaussianProcesses.SEIso}, Params: [-1.2353,-1.05117]\n",
       "    Type: GaussianProcesses.Masked{GaussianProcesses.SEIso}, Params: [9.20607,0.124475]\n",
       "  Type: GaussianProcesses.ProdKernel\n",
       "    Type: GaussianProcesses.Masked{GaussianProcesses.RQIso}, Params: [3.10614,1.29327,2.84729]\n",
       "    Type: GaussianProcesses.Masked{GaussianProcesses.SEIso}, Params: [15.2061,0.18125]\n",
       "  Type: GaussianProcesses.ProdKernel\n",
       "    Type: GaussianProcesses.Masked{GaussianProcesses.RQIso}, Params: [3.67464,0.537794,3.0094]\n",
       "    Type: GaussianProcesses.Masked{GaussianProcesses.SEIso}, Params: [14.0491,-1.67634]\n",
       "  Type: GaussianProcesses.ProdKernel\n",
       "    Type: GaussianProcesses.Masked{GaussianProcesses.SEIso}, Params: [7.70676,-5.30466]\n",
       "    Type: GaussianProcesses.Masked{GaussianProcesses.SEIso}, Params: [12.2061,-5.11287e-6]\n",
       "  Type: GaussianProcesses.FixedKern, Params: Float64[]\n"
      ]
     },
     "execution_count": 33,
     "metadata": {},
     "output_type": "execute_result"
    }
   ],
   "source": [
    "k_spatiotemporal_3 = Masked(k1, [1]) * Masked(ksp1, [2,3]) +\n",
    "                     Masked(k2, [1]) * Masked(ksp2, [2,3]) +\n",
    "                     Masked(k3, [1]) * Masked(ksp3, [2,3]) +\n",
    "                     Masked(k4, [1]) * Masked(ksp4, [2,3]) +\n",
    "                     Masked(k5, [1]) * Masked(ksp5, [2,3]) +\n",
    "                     Masked(k6, [1]) * Masked(ksp6, [2,3]) +\n",
    "                     fix(Masked(k_means, [2,3]))"
   ]
  },
  {
   "cell_type": "code",
   "execution_count": 34,
   "metadata": {
    "collapsed": false,
    "deletable": true,
    "editable": true
   },
   "outputs": [
    {
     "name": "stdout",
     "output_type": "stream",
     "text": [
      "6168.503799 seconds (59.94 G allocations: 1.590 TB, 9.44% gc time)\n"
     ]
    },
    {
     "data": {
      "text/plain": [
       "(46183.86267863837,[-1.68206,-0.179317,0.945821,13.5116,0.0501475,0.866468,0.758593,-0.984024,11.0867,-0.38583  …  0.129167,3.68457,0.701431,3.00982,14.0459,-1.5127,7.70676,-5.30466,12.2061,-6.18869e-6],:FTOL_REACHED,43)"
      ]
     },
     "execution_count": 34,
     "metadata": {},
     "output_type": "execute_result"
    }
   ],
   "source": [
    "begin\n",
    "    global opt_out\n",
    "    k_spatiotemporal = k_spatiotemporal_3\n",
    "    chunks=GP[]\n",
    "    chunk_width=24*10\n",
    "    tstart=0.0\n",
    "    tend=tstart+chunk_width\n",
    "    nobsv=0\n",
    "    while tstart < get(maximum(hourly_cat[:ts_hours]))\n",
    "        in_chunk=(tstart .<= hourly_cat[:ts_hours].values) & (hourly_cat[:ts_hours].values .< tend)\n",
    "        hourly_chunk = hourly_cat[in_chunk,:]\n",
    "        nobsv_chunk = sum(in_chunk)\n",
    "        nobsv += nobsv_chunk\n",
    "\n",
    "        chunk_X_PRJ = isdSubset[:X_PRJ].values[hourly_chunk[:station].values]\n",
    "        chunk_Y_PRJ = isdSubset[:Y_PRJ].values[hourly_chunk[:station].values]\n",
    "        chunk_X = [hourly_chunk[:ts_hours].values chunk_X_PRJ chunk_Y_PRJ]\n",
    "\n",
    "        y = hourly_chunk[:temp].values\n",
    "        chunk = GP(chunk_X', y, MeanConst(mean(y)), k_spatiotemporal, logNoise)\n",
    "        push!(chunks, chunk)\n",
    "\n",
    "        tstart=tend\n",
    "        tend+=chunk_width\n",
    "    end\n",
    "    reals = TempModel.GPRealisations(chunks)\n",
    "    @time opt_out=TempModel.optimize_NLopt(reals, mean=false, x_tol=1e-5, f_tol=1e-5)\n",
    "end"
   ]
  },
  {
   "cell_type": "code",
   "execution_count": 35,
   "metadata": {
    "collapsed": false
   },
   "outputs": [
    {
     "data": {
      "text/plain": [
       "(46183.86267863837,[-1.68206,-0.179317,0.945821,13.5116,0.0501475,0.866468,0.758593,-0.984024,11.0867,-0.38583  …  0.129167,3.68457,0.701431,3.00982,14.0459,-1.5127,7.70676,-5.30466,12.2061,-6.18869e-6],:FTOL_REACHED,43)"
      ]
     },
     "execution_count": 35,
     "metadata": {},
     "output_type": "execute_result"
    }
   ],
   "source": [
    "opt_out"
   ]
  },
  {
   "cell_type": "code",
   "execution_count": 37,
   "metadata": {
    "collapsed": false
   },
   "outputs": [
    {
     "name": "stdout",
     "output_type": "stream",
     "text": [
      "[-1.68206,-0.179317,0.945821,13.5116,0.0501475,0.866468,0.758593,-0.984024,11.0867,-0.38583,-1.44126,-1.13345,9.20607,0.0421904,2.12626,1.24119,-0.15271,15.081,0.129167,3.68457,0.701431,3.00982,14.0459,-1.5127,7.70676,-5.30466,12.2061,-6.18869e-6]"
     ]
    }
   ],
   "source": [
    "print(opt_out[2])"
   ]
  }
 ],
 "metadata": {
  "hide_input": false,
  "kernelspec": {
   "display_name": "Julia 0.5.1",
   "language": "julia",
   "name": "julia-0.5.1"
  },
  "language_info": {
   "file_extension": ".jl",
   "mimetype": "application/julia",
   "name": "julia",
   "version": "0.5.1"
  },
  "nav_menu": {},
  "toc": {
   "navigate_menu": true,
   "number_sections": true,
   "sideBar": true,
   "threshold": 6,
   "toc_cell": true,
   "toc_section_display": "block",
   "toc_window_display": true
  },
  "toc_position": {
   "height": "930px",
   "left": "0px",
   "right": "1065px",
   "top": "106px",
   "width": "212px"
  }
 },
 "nbformat": 4,
 "nbformat_minor": 1
}
