{
 "cells": [
  {
   "cell_type": "markdown",
   "metadata": {
    "toc": "true"
   },
   "source": [
    "# Table of Contents\n",
    " <p><div class=\"lev1 toc-item\"><a href=\"#Introduction\" data-toc-modified-id=\"Introduction-1\"><span class=\"toc-item-num\">1&nbsp;&nbsp;</span>Introduction</a></div><div class=\"lev2 toc-item\"><a href=\"#bias-in-recorded-daily-minima-and-maxima-induced-by-time-of-measurement\" data-toc-modified-id=\"bias-in-recorded-daily-minima-and-maxima-induced-by-time-of-measurement-1.1\"><span class=\"toc-item-num\">1.1&nbsp;&nbsp;</span>bias in recorded daily minima and maxima induced by time of measurement</a></div><div class=\"lev1 toc-item\"><a href=\"#Model-Specification\" data-toc-modified-id=\"Model-Specification-2\"><span class=\"toc-item-num\">2&nbsp;&nbsp;</span>Model Specification</a></div><div class=\"lev1 toc-item\"><a href=\"#Implementation\" data-toc-modified-id=\"Implementation-3\"><span class=\"toc-item-num\">3&nbsp;&nbsp;</span>Implementation</a></div><div class=\"lev1 toc-item\"><a href=\"#Improving-model\" data-toc-modified-id=\"Improving-model-4\"><span class=\"toc-item-num\">4&nbsp;&nbsp;</span>Improving model</a></div><div class=\"lev1 toc-item\"><a href=\"#Analysis\" data-toc-modified-id=\"Analysis-5\"><span class=\"toc-item-num\">5&nbsp;&nbsp;</span>Analysis</a></div>"
   ]
  },
  {
   "cell_type": "markdown",
   "metadata": {},
   "source": [
    "# Introduction\n",
    "\n",
    "* explain the problem we're trying to solve\n",
    "\n",
    "## bias in recorded daily minima and maxima induced by time of measurement\n",
    "\n",
    "* explain\n",
    "* demonstrate using hourly temperatures from one station: reduce to daily min and max and show difference as a function of measurement hour\n",
    "\n",
    "# Model Specification\n",
    "\n",
    "1. start with a simple SE kernel in both space and time $$k_{st}(s,s',t,t') = k_{time}(t,t') \\times k_{space}(s,s') + k_{mean}(s,s')$$\n",
    "3. observation model\n",
    "    * not much to say... just clipping\n",
    "\n",
    "\n",
    "# Implementation\n",
    "\n",
    "1. timeseries model\n",
    "    * fitting hyperparameters\n",
    "    * chunks\n",
    "    * show variogram\n",
    "2. spatiotemporal model\n",
    "    * fitting hyperparameters\n",
    "    * chunks\n",
    "3. imputations\n",
    "    * Stan\n",
    "    * softmin and softmax\n",
    "    * observation noise\n",
    "    * reparametrization\n",
    "    \n",
    "# Improving model    \n",
    "1. focused on timeseries model\n",
    "    * kernel components\n",
    "    * diurnal cycle\n",
    "    * show improved variograms\n",
    "2. spatiotemporal model\n",
    "    * variograms and cross-variograms\n",
    "    * trace evolution\n",
    "        * product kernel\n",
    "        * sum of products with variance 1\n",
    "        * sum of products with free variance\n",
    "    * for each model, report marginal likelihood, and predictive diagnostic in a table\n",
    "    * discuss importance of getting uncertainty right\n",
    "\n",
    "# Analysis\n",
    "* show imputations on interesting days\n",
    "* show imputations can capture two possible explanations for a measurement"
   ]
  }
 ],
 "metadata": {
  "kernelspec": {
   "display_name": "Julia 0.5.1",
   "language": "julia",
   "name": "julia-0.5.1"
  },
  "language_info": {
   "file_extension": ".jl",
   "mimetype": "application/julia",
   "name": "julia",
   "version": "0.5.1"
  },
  "nav_menu": {},
  "toc": {
   "navigate_menu": true,
   "number_sections": true,
   "sideBar": true,
   "threshold": 6,
   "toc_cell": true,
   "toc_section_display": "block",
   "toc_window_display": false
  }
 },
 "nbformat": 4,
 "nbformat_minor": 1
}
