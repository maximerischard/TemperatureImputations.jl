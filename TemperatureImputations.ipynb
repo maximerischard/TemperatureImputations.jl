{
 "cells": [
  {
   "cell_type": "markdown",
   "metadata": {
    "toc": "true"
   },
   "source": [
    "# Table of Contents\n",
    " <p><div class=\"lev1 toc-item\"><a href=\"#Introduction\" data-toc-modified-id=\"Introduction-1\"><span class=\"toc-item-num\">1&nbsp;&nbsp;</span>Introduction</a></div><div class=\"lev2 toc-item\"><a href=\"#bias-in-recorded-daily-minima-and-maxima-induced-by-time-of-measurement\" data-toc-modified-id=\"bias-in-recorded-daily-minima-and-maxima-induced-by-time-of-measurement-1.1\"><span class=\"toc-item-num\">1.1&nbsp;&nbsp;</span>bias in recorded daily minima and maxima induced by time of measurement</a></div><div class=\"lev1 toc-item\"><a href=\"#Model-Specification\" data-toc-modified-id=\"Model-Specification-2\"><span class=\"toc-item-num\">2&nbsp;&nbsp;</span>Model Specification</a></div><div class=\"lev2 toc-item\"><a href=\"#timeseries-model\" data-toc-modified-id=\"timeseries-model-2.1\"><span class=\"toc-item-num\">2.1&nbsp;&nbsp;</span>timeseries model</a></div><div class=\"lev2 toc-item\"><a href=\"#spatiotemporal-model\" data-toc-modified-id=\"spatiotemporal-model-2.2\"><span class=\"toc-item-num\">2.2&nbsp;&nbsp;</span>spatiotemporal model</a></div><div class=\"lev2 toc-item\"><a href=\"#observation-model\" data-toc-modified-id=\"observation-model-2.3\"><span class=\"toc-item-num\">2.3&nbsp;&nbsp;</span>observation model</a></div><div class=\"lev1 toc-item\"><a href=\"#Implementation\" data-toc-modified-id=\"Implementation-3\"><span class=\"toc-item-num\">3&nbsp;&nbsp;</span>Implementation</a></div><div class=\"lev2 toc-item\"><a href=\"#timeseries-model\" data-toc-modified-id=\"timeseries-model-3.1\"><span class=\"toc-item-num\">3.1&nbsp;&nbsp;</span>timeseries model</a></div><div class=\"lev2 toc-item\"><a href=\"#spatiotemporal-model\" data-toc-modified-id=\"spatiotemporal-model-3.2\"><span class=\"toc-item-num\">3.2&nbsp;&nbsp;</span>spatiotemporal model</a></div><div class=\"lev2 toc-item\"><a href=\"#imputations\" data-toc-modified-id=\"imputations-3.3\"><span class=\"toc-item-num\">3.3&nbsp;&nbsp;</span>imputations</a></div><div class=\"lev1 toc-item\"><a href=\"#Analysis\" data-toc-modified-id=\"Analysis-4\"><span class=\"toc-item-num\">4&nbsp;&nbsp;</span>Analysis</a></div>"
   ]
  },
  {
   "cell_type": "markdown",
   "metadata": {},
   "source": [
    "* show the simpler model, without diurnal component and all that\n",
    "* also talk about the issues we had and things that went wrong"
   ]
  },
  {
   "cell_type": "markdown",
   "metadata": {},
   "source": [
    "# Introduction\n",
    "\n",
    "* explain the problem we're trying to solve\n",
    "\n",
    "## bias in recorded daily minima and maxima induced by time of measurement\n",
    "\n",
    "* explain\n",
    "* demonstrate using hourly temperatures from one station: reduce to daily min and max and show difference as a function of measurement hour\n",
    "\n",
    "# Model Specification\n",
    "\n",
    "## timeseries model\n",
    "\n",
    "* kernel components\n",
    "* diurnal cycle\n",
    "\n",
    "## spatiotemporal model\n",
    "\n",
    "* working on this bit right now\n",
    "\n",
    "## observation model\n",
    "\n",
    "* not much to say... just clipping\n",
    "\n",
    "# Implementation\n",
    "\n",
    "## timeseries model\n",
    "\n",
    "* fitting hyperparameters\n",
    "* show variogram\n",
    "\n",
    "## spatiotemporal model\n",
    "\n",
    "* fitting hyperparameters\n",
    "* variograms and cross-variograms\n",
    "* product kernel\n",
    "* ...\n",
    "\n",
    "## imputations\n",
    "\n",
    "* Stan\n",
    "* softmin and softmax\n",
    "* observation noise\n",
    "\n",
    "# Analysis\n",
    "\n",
    "* show imputations on interesting days\n",
    "* show imputations can capture two possible explanations for a measurement"
   ]
  }
 ],
 "metadata": {
  "kernelspec": {
   "display_name": "Julia 0.5.1",
   "language": "julia",
   "name": "julia-0.5.1"
  },
  "language_info": {
   "file_extension": ".jl",
   "mimetype": "application/julia",
   "name": "julia",
   "version": "0.5.1"
  },
  "nav_menu": {},
  "toc": {
   "navigate_menu": true,
   "number_sections": true,
   "sideBar": true,
   "threshold": 6,
   "toc_cell": true,
   "toc_section_display": "block",
   "toc_window_display": false
  }
 },
 "nbformat": 4,
 "nbformat_minor": 1
}
