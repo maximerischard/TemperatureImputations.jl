{
 "cells": [
  {
   "cell_type": "markdown",
   "metadata": {
    "toc": "true"
   },
   "source": [
    "# Table of Contents\n",
    " <p>"
   ]
  },
  {
   "cell_type": "code",
   "execution_count": 1,
   "metadata": {
    "collapsed": false
   },
   "outputs": [],
   "source": [
    "using DataFrames\n",
    "using GaussianProcesses\n",
    "using Proj4\n",
    "using GaussianProcesses: set_params!\n",
    ";"
   ]
  },
  {
   "cell_type": "code",
   "execution_count": 2,
   "metadata": {
    "collapsed": false
   },
   "outputs": [],
   "source": [
    "using JLD"
   ]
  },
  {
   "cell_type": "code",
   "execution_count": 3,
   "metadata": {
    "collapsed": false
   },
   "outputs": [
    {
     "data": {
      "text/plain": [
       "cov (generic function with 1 method)"
      ]
     },
     "execution_count": 3,
     "metadata": {},
     "output_type": "execute_result"
    }
   ],
   "source": [
    "include(\"src/preprocessing.jl\")\n",
    "include(\"src/variogram.jl\")"
   ]
  },
  {
   "cell_type": "code",
   "execution_count": 4,
   "metadata": {
    "collapsed": false
   },
   "outputs": [
    {
     "data": {
      "text/html": [
       "<table class=\"data-frame\"><tr><th></th><th>USAF</th><th>WBAN</th><th>NAME</th><th>CTRY</th><th>STATE</th><th>ICAO</th><th>LAT</th><th>LON</th><th>ELEV</th><th>BEGIN</th><th>END</th><th>X_PRJ</th><th>Y_PRJ</th></tr><tr><th>1</th><td>725450</td><td>14990</td><td>THE EASTERN IOWA AIRPORT</td><td>US</td><td>IA</td><td>KCID</td><td>41.883</td><td>-91.717</td><td>264.6</td><td>1973</td><td>2015</td><td>1.64799e6</td><td>1.0441e6</td></tr><tr><th>2</th><td>725460</td><td>14933</td><td>DES MOINES INTERNATIONAL AIRPORT</td><td>US</td><td>IA</td><td>KDSM</td><td>41.534</td><td>-93.653</td><td>291.7</td><td>1973</td><td>2015</td><td>1.48723e6</td><td>1.00379e6</td></tr><tr><th>3</th><td>725480</td><td>94910</td><td>WATERLOO MUNICIPAL AIRPORT</td><td>US</td><td>IA</td><td>KALO</td><td>42.554</td><td>-92.401</td><td>264.6</td><td>1960</td><td>2015</td><td>1.59025e6</td><td>1.11766e6</td></tr><tr><th>4</th><td>725485</td><td>14940</td><td>MASON CITY MUNICIPAL ARPT</td><td>US</td><td>IA</td><td>KMCW</td><td>43.154</td><td>-93.327</td><td>373.4</td><td>1973</td><td>2015</td><td>1.51407e6</td><td>1.18374e6</td></tr></table>"
      ],
      "text/plain": [
       "4×13 DataFrames.DataFrame\n",
       "│ Row │ USAF   │ WBAN  │ NAME                             │ CTRY │ STATE │\n",
       "├─────┼────────┼───────┼──────────────────────────────────┼──────┼───────┤\n",
       "│ 1   │ 725450 │ 14990 │ THE EASTERN IOWA AIRPORT         │ US   │ IA    │\n",
       "│ 2   │ 725460 │ 14933 │ DES MOINES INTERNATIONAL AIRPORT │ US   │ IA    │\n",
       "│ 3   │ 725480 │ 94910 │ WATERLOO MUNICIPAL AIRPORT       │ US   │ IA    │\n",
       "│ 4   │ 725485 │ 14940 │ MASON CITY MUNICIPAL ARPT        │ US   │ IA    │\n",
       "\n",
       "│ Row │ ICAO │ LAT    │ LON     │ ELEV  │ BEGIN │ END  │ X_PRJ     │ Y_PRJ     │\n",
       "├─────┼──────┼────────┼─────────┼───────┼───────┼──────┼───────────┼───────────┤\n",
       "│ 1   │ KCID │ 41.883 │ -91.717 │ 264.6 │ 1973  │ 2015 │ 1.64799e6 │ 1.0441e6  │\n",
       "│ 2   │ KDSM │ 41.534 │ -93.653 │ 291.7 │ 1973  │ 2015 │ 1.48723e6 │ 1.00379e6 │\n",
       "│ 3   │ KALO │ 42.554 │ -92.401 │ 264.6 │ 1960  │ 2015 │ 1.59025e6 │ 1.11766e6 │\n",
       "│ 4   │ KMCW │ 43.154 │ -93.327 │ 373.4 │ 1973  │ 2015 │ 1.51407e6 │ 1.18374e6 │"
      ]
     },
     "execution_count": 4,
     "metadata": {},
     "output_type": "execute_result"
    }
   ],
   "source": [
    "isdList=read_isdList()\n",
    "isdSubset=isdList[[(usaf in (725450,725460,725480,725485)) for usaf in isdList[:USAF].values],:]\n",
    "isdSubset"
   ]
  },
  {
   "cell_type": "code",
   "execution_count": 5,
   "metadata": {
    "collapsed": false
   },
   "outputs": [
    {
     "data": {
      "text/plain": [
       "3"
      ]
     },
     "execution_count": 5,
     "metadata": {},
     "output_type": "execute_result"
    }
   ],
   "source": [
    "hourly_cat=read_Stations(isdSubset)\n",
    "itest=3"
   ]
  },
  {
   "cell_type": "code",
   "execution_count": 6,
   "metadata": {
    "collapsed": false
   },
   "outputs": [
    {
     "data": {
      "text/plain": [
       "Type: GaussianProcesses.ProdKernel\n",
       "  Type: GaussianProcesses.Masked{GaussianProcesses.SumKernel}, Params: [-0.0806483,1.0449,1.50786,1.10795,-1.38548,-1.22736,-1.05138,3.09723,1.28737,2.84127,3.64666,0.469691,3.00962,7.70695,-5.39838]\n",
       "  Type: GaussianProcesses.Masked{GaussianProcesses.SEIso}, Params: [11.2445,0.132749]\n"
      ]
     },
     "execution_count": 6,
     "metadata": {},
     "output_type": "execute_result"
    }
   ],
   "source": [
    "include(\"src/fitted_kernel.jl\")"
   ]
  },
  {
   "cell_type": "code",
   "execution_count": 7,
   "metadata": {
    "collapsed": false
   },
   "outputs": [
    {
     "data": {
      "text/plain": [
       "pred"
      ]
     },
     "execution_count": 7,
     "metadata": {},
     "output_type": "execute_result"
    }
   ],
   "source": [
    "module pred\n",
    "    include(\"src/predict_from_nearby.jl\")\n",
    "end"
   ]
  },
  {
   "cell_type": "code",
   "execution_count": 8,
   "metadata": {
    "collapsed": false
   },
   "outputs": [
    {
     "data": {
      "text/plain": [
       "725480"
      ]
     },
     "execution_count": 8,
     "metadata": {},
     "output_type": "execute_result"
    }
   ],
   "source": [
    "test_usaf=get(isdSubset[itest,:USAF])"
   ]
  },
  {
   "cell_type": "code",
   "execution_count": 20,
   "metadata": {
    "collapsed": false
   },
   "outputs": [
    {
     "data": {
      "text/plain": [
       "6307128000 milliseconds"
      ]
     },
     "execution_count": 20,
     "metadata": {},
     "output_type": "execute_result"
    }
   ],
   "source": [
    "dt_start=DateTime(2015,1,1,0,0,0)\n",
    "increm=get(maximum(hourly_cat[:ts])-minimum(hourly_cat[:ts])) / 15\n",
    "window=3*increm"
   ]
  },
  {
   "cell_type": "code",
   "execution_count": 21,
   "metadata": {
    "collapsed": false
   },
   "outputs": [],
   "source": [
    "while true\n",
    "    dt_end=dt_start+window\n",
    "    nearby_pred = pred.predict_from_nearby(hourly_cat, isdSubset, \n",
    "        k_spatiotemporal, logNoise,\n",
    "        itest, dt_start, dt_end)\n",
    "    save(@sprintf(\"saved/predictions_from_nearby/%d_%s_to_%s.jld\", test_usaf, Date(dt_start), Date(dt_end)), \n",
    "        \"nearby_pred\", \n",
    "        nearby_pred)\n",
    "    if dt_end >= get(maximum(hourly_cat[:ts]))\n",
    "        break\n",
    "    end\n",
    "    dt_start+=increm\n",
    "end"
   ]
  }
 ],
 "metadata": {
  "kernelspec": {
   "display_name": "Julia 0.5.0",
   "language": "julia",
   "name": "julia-0.5"
  },
  "language_info": {
   "file_extension": ".jl",
   "mimetype": "application/julia",
   "name": "julia",
   "version": "0.5.0"
  },
  "nav_menu": {},
  "toc": {
   "navigate_menu": true,
   "number_sections": true,
   "sideBar": true,
   "threshold": 6,
   "toc_cell": true,
   "toc_section_display": "block",
   "toc_window_display": false
  }
 },
 "nbformat": 4,
 "nbformat_minor": 1
}
