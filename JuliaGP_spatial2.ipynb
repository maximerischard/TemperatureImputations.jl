{
 "cells": [
  {
   "cell_type": "markdown",
   "metadata": {
    "toc": "true"
   },
   "source": [
    "# Table of Contents\n",
    " <p><div class=\"lev1 toc-item\"><a href=\"#Data-Import-and-Preprocessing\" data-toc-modified-id=\"Data-Import-and-Preprocessing-1\"><span class=\"toc-item-num\">1&nbsp;&nbsp;</span>Data Import and Preprocessing</a></div><div class=\"lev2 toc-item\"><a href=\"#Distances\" data-toc-modified-id=\"Distances-1.1\"><span class=\"toc-item-num\">1.1&nbsp;&nbsp;</span>Distances</a></div><div class=\"lev1 toc-item\"><a href=\"#Product-of-SE-kernels\" data-toc-modified-id=\"Product-of-SE-kernels-2\"><span class=\"toc-item-num\">2&nbsp;&nbsp;</span>Product of SE kernels</a></div><div class=\"lev1 toc-item\"><a href=\"#Adding-a-diurnal-component\" data-toc-modified-id=\"Adding-a-diurnal-component-3\"><span class=\"toc-item-num\">3&nbsp;&nbsp;</span>Adding a diurnal component</a></div><div class=\"lev2 toc-item\"><a href=\"#plot-fitted-variogram\" data-toc-modified-id=\"plot-fitted-variogram-3.1\"><span class=\"toc-item-num\">3.1&nbsp;&nbsp;</span>plot fitted variogram</a></div><div class=\"lev2 toc-item\"><a href=\"#Refitting-with-Conjugate-Gradient-Descent\" data-toc-modified-id=\"Refitting-with-Conjugate-Gradient-Descent-3.2\"><span class=\"toc-item-num\">3.2&nbsp;&nbsp;</span>Refitting with Conjugate Gradient Descent</a></div><div class=\"lev2 toc-item\"><a href=\"#Using-NLopt\" data-toc-modified-id=\"Using-NLopt-3.3\"><span class=\"toc-item-num\">3.3&nbsp;&nbsp;</span>Using NLopt</a></div><div class=\"lev2 toc-item\"><a href=\"#LD_MMA\" data-toc-modified-id=\"LD_MMA-3.4\"><span class=\"toc-item-num\">3.4&nbsp;&nbsp;</span>LD_MMA</a></div><div class=\"lev1 toc-item\"><a href=\"#Merging-diurnal-component\" data-toc-modified-id=\"Merging-diurnal-component-4\"><span class=\"toc-item-num\">4&nbsp;&nbsp;</span>Merging diurnal component</a></div><div class=\"lev2 toc-item\"><a href=\"#Try-to-get-diurnal-decay-back-in-there\" data-toc-modified-id=\"Try-to-get-diurnal-decay-back-in-there-4.1\"><span class=\"toc-item-num\">4.1&nbsp;&nbsp;</span>Try to get diurnal decay back in there</a></div>"
   ]
  },
  {
   "cell_type": "markdown",
   "metadata": {},
   "source": [
    "$$\n",
    "    \\newcommand{\\genericdel}[3]{%\n",
    "      \\left#1#3\\right#2\n",
    "    }\n",
    "    \\newcommand{\\del}[1]{\\genericdel(){#1}}\n",
    "    \\newcommand{\\sbr}[1]{\\genericdel[]{#1}}\n",
    "    \\newcommand{\\cbr}[1]{\\genericdel\\{\\}{#1}}\n",
    "    \\newcommand{\\abs}[1]{\\genericdel||{#1}}\n",
    "    \\DeclareMathOperator*{\\argmin}{arg\\,min}\n",
    "    \\DeclareMathOperator*{\\argmax}{arg\\,max}\n",
    "    \\DeclareMathOperator{\\Pr}{\\mathbb{p}}\n",
    "    \\DeclareMathOperator{\\E}{\\mathbb{E}}\n",
    "    \\DeclareMathOperator{\\Ind}{\\mathbb{I}}\n",
    "    \\DeclareMathOperator{\\var}{var}\n",
    "    \\DeclareMathOperator{\\cov}{cov}\n",
    "    \\DeclareMathOperator{\\invchi}{\\mathrm{Inv-\\chi}^2}\n",
    "    \\newcommand{\\effect}{\\mathrm{eff}}\n",
    "    \\newcommand{\\xtilde}{\\widetilde{X}}\n",
    "    \\DeclareMathOperator{\\normal}{\\mathcal{N}}\n",
    "    \\DeclareMathOperator{\\unif}{Uniform}\n",
    "    \\DeclareMathOperator{\\GP}{\\mathcal{GP}}\n",
    "    \\newcommand{\\Tn}{\\mathrm{T}_{n}}\n",
    "    \\newcommand{\\Tx}{\\mathrm{T}_{x}}\n",
    "    \\newcommand{\\station}[1]{\\mathrm{station}\\sbr{#1}}\n",
    "    \\newcommand{\\xvec}{\\mathbf{x}}\n",
    "    \\newcommand{\\indep}{\\perp}\n",
    "    \\newcommand{\\iid}{iid}\n",
    "    \\newcommand{\\trans}{^{\\intercal}}\n",
    "    \\newcommand{\\sigmaf}{\\sigma_{\\mathrm{GP}}}\n",
    "    \\newcommand{\\sigman}{\\sigma_{\\epsilon}}\n",
    "$$"
   ]
  },
  {
   "cell_type": "markdown",
   "metadata": {},
   "source": [
    "In this notebook, we implement the much simpler model:\n",
    "\\begin{align}\n",
    "    k_{st}(\\xvec,\\xvec',t,t') &= k_{time}(t,t') \\cdot k_{space}(\\xvec, \\xvec') + k_mean(\\xvec, \\xvec'),,\\\\\n",
    "    k_{space}(\\xvec, \\xvec') &= \\sigmaf^2 \\exp\\del{-\\frac{\\del{\\xvec-\\xvec'}\\trans\\del{\\xvec-\\xvec'}}{2\\ell_x^2}}\\,,\\\\\n",
    "    k_{time}(t, t') &= \\exp\\del{-\\frac{\\del{t-t'}^2}{2\\ell_t^2}}\\,,\\\\\n",
    "    k_{mean}(\\xvec, \\xvec') &= \\sigma_\\mu^2 \\exp\\del{-\\frac{\\del{\\xvec-\\xvec'}\\trans\\del{\\xvec-\\xvec'}}{2\\ell_\\mu^2}}\\,,\\\\\n",
    "\\end{align}\n",
    "\n",
    "\\begin{align}\n",
    "    T_i &= f(\\xvec_i, t_i) + \\epsilon_i\\\\\n",
    "    f(\\xvec_i, t_i) &\\sim \\GP\\del{0, k_{st}(\\xvec,\\xvec',t,t')}\\\\\n",
    "    \\epsilon_i &\\overset{\\iid}{\\sim} \\normal\\del{0,\\sigman^2}\\\\\n",
    "\\end{align}"
   ]
  },
  {
   "cell_type": "code",
   "execution_count": 1,
   "metadata": {
    "collapsed": false
   },
   "outputs": [
    {
     "name": "stderr",
     "output_type": "stream",
     "text": [
      "\u001b[1m\u001b[34mINFO: Recompiling stale cache file /Users/imolk/.julia/lib/v0.5/DataFrames.ji for module DataFrames.\n",
      "\u001b[0m"
     ]
    }
   ],
   "source": [
    "using TimeSeries\n",
    "using DataFrames\n",
    "using GaussianProcesses\n",
    "using GaussianProcesses: Mean, Kernel, evaluate, metric, IsotropicData, VecF64\n",
    "using GaussianProcesses: Stationary, KernelData, MatF64\n",
    "import GaussianProcesses: optimize!, get_optim_target, cov, grad_slice!\n",
    "import GaussianProcesses: num_params, set_params!, get_params, update_mll!, update_mll_and_dmll!\n",
    "import GaussianProcesses: get_param_names, cov!, addcov!, multcov!\n",
    "import Proj4\n",
    "using Optim\n",
    "using Distances\n",
    ";"
   ]
  },
  {
   "cell_type": "code",
   "execution_count": 2,
   "metadata": {
    "collapsed": false
   },
   "outputs": [],
   "source": [
    "import PyPlot; plt=PyPlot\n",
    "using LaTeXStrings\n",
    "plt.rc(\"figure\", dpi=300.0)\n",
    "plt.rc(\"figure\", figsize=(6,4))\n",
    "plt.rc(\"savefig\", dpi=300.0)\n",
    "plt.rc(\"text\", usetex=true)\n",
    "plt.rc(\"font\", family=\"serif\")\n",
    "plt.rc(\"font\", serif=\"Palatino\")\n",
    ";"
   ]
  },
  {
   "cell_type": "markdown",
   "metadata": {},
   "source": [
    "# Data Import and Preprocessing"
   ]
  },
  {
   "cell_type": "code",
   "execution_count": 3,
   "metadata": {
    "collapsed": false
   },
   "outputs": [
    {
     "data": {
      "text/plain": [
       "test_data (generic function with 1 method)"
      ]
     },
     "execution_count": 3,
     "metadata": {},
     "output_type": "execute_result"
    }
   ],
   "source": [
    "include(\"src/preprocessing.jl\")"
   ]
  },
  {
   "cell_type": "code",
   "execution_count": 4,
   "metadata": {
    "collapsed": false
   },
   "outputs": [
    {
     "name": "stderr",
     "output_type": "stream",
     "text": [
      "\u001b[1m\u001b[34mINFO: Recompiling stale cache file /Users/imolk/.julia/lib/v0.5/Gadfly.ji for module Gadfly.\n",
      "\u001b[0mWARNING: Method definition (::Type{Graphs.KeyVertex})(Int64, #K<:Any) in module Graphs at /Users/imolk/.julia/v0.5/Graphs/src/common.jl:12 overwritten at /Users/imolk/.julia/v0.5/Graphs/src/common.jl:16.\n",
      "WARNING: Method definition (::Type{Graphs.Edge})(Int64, #V<:Any, #V<:Any) in module Graphs at /Users/imolk/.julia/v0.5/Graphs/src/common.jl:54 overwritten at /Users/imolk/.julia/v0.5/Graphs/src/common.jl:60.\n",
      "WARNING: Method definition (::Type{Graphs.ExEdge})(Int64, #V<:Any, #V<:Any, Base.Dict{String, Any}) in module Graphs at /Users/imolk/.julia/v0.5/Graphs/src/common.jl:72 overwritten at /Users/imolk/.julia/v0.5/Graphs/src/common.jl:83.\n",
      "WARNING: Method definition (::Type{Graphs.TargetIterator})(#G<:Graphs.AbstractGraph, #EList<:Any) in module Graphs at /Users/imolk/.julia/v0.5/Graphs/src/common.jl:123 overwritten at /Users/imolk/.julia/v0.5/Graphs/src/common.jl:127.\n",
      "WARNING: Method definition (::Type{Graphs.SourceIterator})(#G<:Graphs.AbstractGraph, #EList<:Any) in module Graphs at /Users/imolk/.julia/v0.5/Graphs/src/common.jl:141 overwritten at /Users/imolk/.julia/v0.5/Graphs/src/common.jl:145.\n",
      "WARNING: Method definition edge_property_requirement(Graphs.AbstractEdgePropertyInspector{#T<:Any}, Graphs.AbstractGraph{#V<:Any, E<:Any}) in module Graphs at /Users/imolk/.julia/v0.5/Graphs/src/common.jl:164 overwritten at /Users/imolk/.julia/v0.5/Graphs/src/common.jl:179.\n",
      "WARNING: Method definition vertex_index(#V<:Union{Graphs.ExVertex, Graphs.KeyVertex}, Graphs.GenericGraph{#V<:Union{Graphs.ExVertex, Graphs.KeyVertex}, E<:Any, VList<:Any, EList<:Any, IncList<:Any}) in module Graphs at /Users/imolk/.julia/v0.5/Graphs/src/graph.jl:65 overwritten at /Users/imolk/.julia/v0.5/Graphs/src/graph.jl:67.\n",
      "WARNING: Method definition (::Type{Graphs.GDistanceVisitor})(#G<:Graphs.AbstractGraph, #DMap<:Any) in module Graphs at /Users/imolk/.julia/v0.5/Graphs/src/breadth_first_visit.jl:107 overwritten at /Users/imolk/.julia/v0.5/Graphs/src/breadth_first_visit.jl:111.\n"
     ]
    },
    {
     "data": {
      "text/plain": [
       "TempModel"
      ]
     },
     "execution_count": 4,
     "metadata": {},
     "output_type": "execute_result"
    }
   ],
   "source": [
    "include(\"src/TempModel.jl\")"
   ]
  },
  {
   "cell_type": "code",
   "execution_count": 5,
   "metadata": {
    "collapsed": false
   },
   "outputs": [
    {
     "data": {
      "text/html": [
       "<table class=\"data-frame\"><tr><th></th><th>USAF</th><th>WBAN</th><th>NAME</th><th>CTRY</th><th>STATE</th><th>ICAO</th><th>LAT</th><th>LON</th><th>ELEV</th><th>BEGIN</th><th>END</th><th>X_PRJ</th><th>Y_PRJ</th></tr><tr><th>1</th><td>10010</td><td>99999</td><td>JAN MAYEN(NOR-NAVY)</td><td>NO</td><td></td><td>ENJA</td><td>70.933</td><td>-8.667</td><td>9.0</td><td>1931</td><td>2015</td><td>4.5545e6</td><td>6.11344e6</td></tr><tr><th>2</th><td>10060</td><td>99999</td><td>EDGEOYA</td><td>NO</td><td></td><td></td><td>78.25</td><td>22.817</td><td>14.0</td><td>1973</td><td>2015</td><td>4.04982e6</td><td>7.5564e6</td></tr><tr><th>3</th><td>10070</td><td>99999</td><td>NY-ALESUND</td><td>SV</td><td></td><td></td><td>78.917</td><td>11.933</td><td>7.7</td><td>1973</td><td>2015</td><td>3.8678e6</td><td>7.26549e6</td></tr><tr><th>4</th><td>10080</td><td>99999</td><td>LONGYEAR</td><td>SV</td><td></td><td>ENSB</td><td>78.246</td><td>15.466</td><td>26.8</td><td>1975</td><td>2015</td><td>3.99705e6</td><td>7.33669e6</td></tr><tr><th>5</th><td>10090</td><td>99999</td><td>KARL XII OYA</td><td>SV</td><td></td><td></td><td>80.65</td><td>25.0</td><td>5.0</td><td>1955</td><td>2015</td><td>3.69259e6</td><td>7.68545e6</td></tr></table>"
      ],
      "text/plain": [
       "5×13 DataFrames.DataFrame\n",
       "│ Row │ USAF  │ WBAN  │ NAME                │ CTRY │ STATE │ ICAO │ LAT    │\n",
       "├─────┼───────┼───────┼─────────────────────┼──────┼───────┼──────┼────────┤\n",
       "│ 1   │ 10010 │ 99999 │ JAN MAYEN(NOR-NAVY) │ NO   │       │ ENJA │ 70.933 │\n",
       "│ 2   │ 10060 │ 99999 │ EDGEOYA             │ NO   │       │      │ 78.25  │\n",
       "│ 3   │ 10070 │ 99999 │ NY-ALESUND          │ SV   │       │      │ 78.917 │\n",
       "│ 4   │ 10080 │ 99999 │ LONGYEAR            │ SV   │       │ ENSB │ 78.246 │\n",
       "│ 5   │ 10090 │ 99999 │ KARL XII OYA        │ SV   │       │      │ 80.65  │\n",
       "\n",
       "│ Row │ LON    │ ELEV │ BEGIN │ END  │ X_PRJ     │ Y_PRJ     │\n",
       "├─────┼────────┼──────┼───────┼──────┼───────────┼───────────┤\n",
       "│ 1   │ -8.667 │ 9.0  │ 1931  │ 2015 │ 4.5545e6  │ 6.11344e6 │\n",
       "│ 2   │ 22.817 │ 14.0 │ 1973  │ 2015 │ 4.04982e6 │ 7.5564e6  │\n",
       "│ 3   │ 11.933 │ 7.7  │ 1973  │ 2015 │ 3.8678e6  │ 7.26549e6 │\n",
       "│ 4   │ 15.466 │ 26.8 │ 1975  │ 2015 │ 3.99705e6 │ 7.33669e6 │\n",
       "│ 5   │ 25.0   │ 5.0  │ 1955  │ 2015 │ 3.69259e6 │ 7.68545e6 │"
      ]
     },
     "execution_count": 5,
     "metadata": {},
     "output_type": "execute_result"
    }
   ],
   "source": [
    "isdList=read_isdList()\n",
    "isdList[1:5,:]"
   ]
  },
  {
   "cell_type": "code",
   "execution_count": 6,
   "metadata": {
    "collapsed": false
   },
   "outputs": [
    {
     "data": {
      "text/html": [
       "<table class=\"data-frame\"><tr><th></th><th>USAF</th><th>WBAN</th><th>NAME</th><th>CTRY</th><th>STATE</th><th>ICAO</th><th>LAT</th><th>LON</th><th>ELEV</th><th>BEGIN</th><th>END</th><th>X_PRJ</th><th>Y_PRJ</th></tr><tr><th>1</th><td>725450</td><td>14990</td><td>THE EASTERN IOWA AIRPORT</td><td>US</td><td>IA</td><td>KCID</td><td>41.883</td><td>-91.717</td><td>264.6</td><td>1973</td><td>2015</td><td>1.64799e6</td><td>1.0441e6</td></tr><tr><th>2</th><td>725460</td><td>14933</td><td>DES MOINES INTERNATIONAL AIRPORT</td><td>US</td><td>IA</td><td>KDSM</td><td>41.534</td><td>-93.653</td><td>291.7</td><td>1973</td><td>2015</td><td>1.48723e6</td><td>1.00379e6</td></tr><tr><th>3</th><td>725480</td><td>94910</td><td>WATERLOO MUNICIPAL AIRPORT</td><td>US</td><td>IA</td><td>KALO</td><td>42.554</td><td>-92.401</td><td>264.6</td><td>1960</td><td>2015</td><td>1.59025e6</td><td>1.11766e6</td></tr><tr><th>4</th><td>725485</td><td>14940</td><td>MASON CITY MUNICIPAL ARPT</td><td>US</td><td>IA</td><td>KMCW</td><td>43.154</td><td>-93.327</td><td>373.4</td><td>1973</td><td>2015</td><td>1.51407e6</td><td>1.18374e6</td></tr></table>"
      ],
      "text/plain": [
       "4×13 DataFrames.DataFrame\n",
       "│ Row │ USAF   │ WBAN  │ NAME                             │ CTRY │ STATE │\n",
       "├─────┼────────┼───────┼──────────────────────────────────┼──────┼───────┤\n",
       "│ 1   │ 725450 │ 14990 │ THE EASTERN IOWA AIRPORT         │ US   │ IA    │\n",
       "│ 2   │ 725460 │ 14933 │ DES MOINES INTERNATIONAL AIRPORT │ US   │ IA    │\n",
       "│ 3   │ 725480 │ 94910 │ WATERLOO MUNICIPAL AIRPORT       │ US   │ IA    │\n",
       "│ 4   │ 725485 │ 14940 │ MASON CITY MUNICIPAL ARPT        │ US   │ IA    │\n",
       "\n",
       "│ Row │ ICAO │ LAT    │ LON     │ ELEV  │ BEGIN │ END  │ X_PRJ     │ Y_PRJ     │\n",
       "├─────┼──────┼────────┼─────────┼───────┼───────┼──────┼───────────┼───────────┤\n",
       "│ 1   │ KCID │ 41.883 │ -91.717 │ 264.6 │ 1973  │ 2015 │ 1.64799e6 │ 1.0441e6  │\n",
       "│ 2   │ KDSM │ 41.534 │ -93.653 │ 291.7 │ 1973  │ 2015 │ 1.48723e6 │ 1.00379e6 │\n",
       "│ 3   │ KALO │ 42.554 │ -92.401 │ 264.6 │ 1960  │ 2015 │ 1.59025e6 │ 1.11766e6 │\n",
       "│ 4   │ KMCW │ 43.154 │ -93.327 │ 373.4 │ 1973  │ 2015 │ 1.51407e6 │ 1.18374e6 │"
      ]
     },
     "execution_count": 6,
     "metadata": {},
     "output_type": "execute_result"
    }
   ],
   "source": [
    "isdSubset=isdList[[(usaf in (725450,725460,725480,725485)) for usaf in isdList[:USAF].values],:]\n",
    "isdSubset"
   ]
  },
  {
   "cell_type": "code",
   "execution_count": 7,
   "metadata": {
    "collapsed": false
   },
   "outputs": [
    {
     "data": {
      "text/html": [
       "<table class=\"data-frame\"><tr><th></th><th>year</th><th>month</th><th>day</th><th>hour</th><th>min</th><th>seconds</th><th>temp</th><th>ts</th><th>station</th><th>ts_hours</th></tr><tr><th>1</th><td>2015</td><td>1</td><td>1</td><td>0</td><td>52</td><td>0</td><td>-7.8</td><td>2015-01-01T00:52:00</td><td>1</td><td>0.866667</td></tr><tr><th>2</th><td>2015</td><td>1</td><td>1</td><td>1</td><td>52</td><td>0</td><td>-8.3</td><td>2015-01-01T01:52:00</td><td>1</td><td>1.86667</td></tr><tr><th>3</th><td>2015</td><td>1</td><td>1</td><td>2</td><td>52</td><td>0</td><td>-8.3</td><td>2015-01-01T02:52:00</td><td>1</td><td>2.86667</td></tr><tr><th>4</th><td>2015</td><td>1</td><td>1</td><td>3</td><td>52</td><td>0</td><td>-9.4</td><td>2015-01-01T03:52:00</td><td>1</td><td>3.86667</td></tr><tr><th>5</th><td>2015</td><td>1</td><td>1</td><td>4</td><td>52</td><td>0</td><td>-9.4</td><td>2015-01-01T04:52:00</td><td>1</td><td>4.86667</td></tr></table>"
      ],
      "text/plain": [
       "5×10 DataFrames.DataFrame\n",
       "│ Row │ year │ month │ day │ hour │ min │ seconds │ temp │ ts                  │\n",
       "├─────┼──────┼───────┼─────┼──────┼─────┼─────────┼──────┼─────────────────────┤\n",
       "│ 1   │ 2015 │ 1     │ 1   │ 0    │ 52  │ 0       │ -7.8 │ 2015-01-01T00:52:00 │\n",
       "│ 2   │ 2015 │ 1     │ 1   │ 1    │ 52  │ 0       │ -8.3 │ 2015-01-01T01:52:00 │\n",
       "│ 3   │ 2015 │ 1     │ 1   │ 2    │ 52  │ 0       │ -8.3 │ 2015-01-01T02:52:00 │\n",
       "│ 4   │ 2015 │ 1     │ 1   │ 3    │ 52  │ 0       │ -9.4 │ 2015-01-01T03:52:00 │\n",
       "│ 5   │ 2015 │ 1     │ 1   │ 4    │ 52  │ 0       │ -9.4 │ 2015-01-01T04:52:00 │\n",
       "\n",
       "│ Row │ station │ ts_hours │\n",
       "├─────┼─────────┼──────────┤\n",
       "│ 1   │ 1       │ 0.866667 │\n",
       "│ 2   │ 1       │ 1.86667  │\n",
       "│ 3   │ 1       │ 2.86667  │\n",
       "│ 4   │ 1       │ 3.86667  │\n",
       "│ 5   │ 1       │ 4.86667  │"
      ]
     },
     "execution_count": 7,
     "metadata": {},
     "output_type": "execute_result"
    }
   ],
   "source": [
    "hourly_cat=read_Stations(isdSubset)\n",
    "hourly_cat[1:5,:]"
   ]
  },
  {
   "cell_type": "code",
   "execution_count": 8,
   "metadata": {
    "collapsed": false
   },
   "outputs": [
    {
     "data": {
      "text/plain": [
       "47864"
      ]
     },
     "execution_count": 8,
     "metadata": {},
     "output_type": "execute_result"
    }
   ],
   "source": [
    "nrow(hourly_cat)"
   ]
  },
  {
   "cell_type": "markdown",
   "metadata": {},
   "source": [
    "## Distances"
   ]
  },
  {
   "cell_type": "markdown",
   "metadata": {},
   "source": [
    "To get distances between stations, we can either use a function to compute distances on a sphere, or we can first project the coordinates onto a Euclidean plane, and then compute normal distances. I'll do it both ways to check they're consistent (equal up to a multiplication constant), and then use Euclidean distances for convenience."
   ]
  },
  {
   "cell_type": "code",
   "execution_count": 9,
   "metadata": {
    "collapsed": false
   },
   "outputs": [
    {
     "data": {
      "text/plain": [
       "distance_on_unit_sphere (generic function with 1 method)"
      ]
     },
     "execution_count": 9,
     "metadata": {},
     "output_type": "execute_result"
    }
   ],
   "source": [
    "# http://www.johndcook.com/blog/python_longitude_latitude/\n",
    "function distance_on_unit_sphere(lat1, long1, lat2, long2)\n",
    " \n",
    "    # Convert latitude and longitude to \n",
    "    # spherical coordinates in radians.\n",
    "    degrees_to_radians = π/180.0\n",
    "         \n",
    "    # phi = 90 - latitude\n",
    "    phi1 = (90.0 - lat1)*degrees_to_radians\n",
    "    phi2 = (90.0 - lat2)*degrees_to_radians\n",
    "         \n",
    "    # theta = longitude\n",
    "    theta1 = long1*degrees_to_radians\n",
    "    theta2 = long2*degrees_to_radians\n",
    "         \n",
    "    # Compute spherical distance from spherical coordinates.\n",
    "         \n",
    "    # For two locations in spherical coordinates \n",
    "    # (1, theta, phi) and (1, theta', phi')\n",
    "    # cosine( arc length ) = \n",
    "    #    sin phi sin phi' cos(theta-theta') + cos phi cos phi'\n",
    "    # distance = rho * arc length\n",
    "     \n",
    "    cosangle = (sin(phi1)*sin(phi2)*cos(theta1 - theta2) +\n",
    "           cos(phi1)*cos(phi2))\n",
    "    arc = acos( cosangle )\n",
    " \n",
    "    # Remember to multiply arc by the radius of the earth \n",
    "    # in your favorite set of units to get length.\n",
    "    return arc\n",
    "end"
   ]
  },
  {
   "cell_type": "code",
   "execution_count": 10,
   "metadata": {
    "collapsed": false
   },
   "outputs": [
    {
     "data": {
      "text/plain": [
       "4×4 Array{Float64,2}:\n",
       " 0.0        0.0259496  0.0146736  0.0303475\n",
       " 0.0259496  0.0        0.024088   0.0285853\n",
       " 0.0146736  0.024088   0.0        0.0158124\n",
       " 0.0303475  0.0285853  0.0158124  0.0      "
      ]
     },
     "execution_count": 10,
     "metadata": {},
     "output_type": "execute_result"
    }
   ],
   "source": [
    "numstations = nrow(isdSubset)\n",
    "pairwiseSphere = zeros(numstations, numstations)\n",
    "for i in 1:numstations\n",
    "    for j in 1:i\n",
    "        if i==j\n",
    "            continue\n",
    "        end\n",
    "        station1 = isdSubset[i,:]\n",
    "        station2 = isdSubset[j,:]\n",
    "        lat1= get(station1[1,:LAT])\n",
    "        lon1 = get(station1[1,:LON])\n",
    "        lat2 = get(station2[1,:LAT])\n",
    "        lon2 = get(station2[1,:LON])\n",
    "        pairwiseSphere[i,j] = distance_on_unit_sphere(lat1, lon1, lat2, lon2)\n",
    "        pairwiseSphere[j,i] = pairwiseSphere[i,j]\n",
    "    end\n",
    "end\n",
    "pairwiseSphere"
   ]
  },
  {
   "cell_type": "code",
   "execution_count": 11,
   "metadata": {
    "collapsed": false
   },
   "outputs": [
    {
     "data": {
      "text/plain": [
       "4×4 Array{Float64,2}:\n",
       "      0.0        165736.0        93510.4        1.93474e5\n",
       " 165736.0             0.0            1.53559e5  1.81942e5\n",
       "  93510.4             1.53559e5      0.0        1.00846e5\n",
       "      1.93474e5       1.81942e5      1.00846e5  0.0      "
      ]
     },
     "execution_count": 11,
     "metadata": {},
     "output_type": "execute_result"
    }
   ],
   "source": [
    "pairwiseEuclid=pairwise(Euclidean(), Matrix(isdSubset[[:X_PRJ,:Y_PRJ]])')"
   ]
  },
  {
   "cell_type": "markdown",
   "metadata": {},
   "source": [
    "Ratio of the two distance matrices: close enough to a constant!"
   ]
  },
  {
   "cell_type": "code",
   "execution_count": 13,
   "metadata": {
    "collapsed": false
   },
   "outputs": [
    {
     "data": {
      "text/plain": [
       "4×4 Array{Float64,2}:\n",
       " NaN            6.38684e6    6.37271e6    6.37527e6\n",
       "   6.38684e6  NaN            6.37493e6    6.36489e6\n",
       "   6.37271e6    6.37493e6  NaN            6.37765e6\n",
       "   6.37527e6    6.36489e6    6.37765e6  NaN        "
      ]
     },
     "execution_count": 13,
     "metadata": {},
     "output_type": "execute_result"
    }
   ],
   "source": [
    "pairwiseEuclid ./ pairwiseSphere"
   ]
  },
  {
   "cell_type": "markdown",
   "metadata": {},
   "source": [
    "# Product of SE kernels"
   ]
  },
  {
   "cell_type": "markdown",
   "metadata": {},
   "source": [
    "We're going to simplify things drastically."
   ]
  },
  {
   "cell_type": "code",
   "execution_count": 14,
   "metadata": {
    "collapsed": false
   },
   "outputs": [
    {
     "data": {
      "text/plain": [
       "Type: GaussianProcesses.SEIso, Params: [9.21034,2.30259]\n"
      ]
     },
     "execution_count": 14,
     "metadata": {},
     "output_type": "execute_result"
    }
   ],
   "source": [
    "k_time = SEIso(0.0,0.0)\n",
    "k_spatial = fix(SEIso(log(2*10^5), log(1.0)), :lσ)\n",
    "k_means = SEIso(log(10^4), log(10.0))"
   ]
  },
  {
   "cell_type": "code",
   "execution_count": 15,
   "metadata": {
    "collapsed": false
   },
   "outputs": [
    {
     "data": {
      "text/plain": [
       "Type: GaussianProcesses.SumKernel\n",
       "  Type: GaussianProcesses.ProdKernel\n",
       "    Type: GaussianProcesses.Masked{GaussianProcesses.SEIso}, Params: [0.0,0.0]\n",
       "    Type: GaussianProcesses.Masked{GaussianProcesses.FixedKern}, Params: [12.2061]\n",
       "  Type: GaussianProcesses.FixedKern, Params: Float64[]\n"
      ]
     },
     "execution_count": 15,
     "metadata": {},
     "output_type": "execute_result"
    }
   ],
   "source": [
    "k_spatiotemporal_1 = Masked(k_time, [1]) * Masked(k_spatial, [2,3]) + \n",
    "    fix(Masked(k_means, [2,3]))"
   ]
  },
  {
   "cell_type": "code",
   "execution_count": 16,
   "metadata": {
    "collapsed": false
   },
   "outputs": [
    {
     "name": "stdout",
     "output_type": "stream",
     "text": [
      "[-2700.87,54918.2,1.01883e5,10177.6]\n",
      "Iter     Function value   Gradient norm \n",
      "     0     1.271155e+05     1.018831e+05\n",
      "Base.LinAlg.PosDefException(2)\n",
      "Base.LinAlg.PosDefException(4)\n",
      "     1     7.117080e+04     2.607715e+04\n",
      "     2     5.934406e+04     1.574883e+04\n",
      "     3     5.699968e+04     8.919759e+03\n",
      "     4     5.591875e+04     2.640617e+03\n",
      "     5     5.574594e+04     2.097730e+03\n",
      "     6     5.568241e+04     9.858064e+02\n",
      "     7     5.561759e+04     5.594022e+02\n",
      "     8     5.561567e+04     1.801912e+02\n",
      "     9     5.561466e+04     3.795484e+01\n",
      "    10     5.561461e+04     4.928528e+01\n",
      "    11     5.561452e+04     7.801147e+00\n",
      "    12     5.561452e+04     3.500873e+00\n",
      "    13     5.561452e+04     8.623556e-01\n",
      "312.059812 seconds (13.51 M allocations: 67.349 GB, 2.75% gc time)\n"
     ]
    },
    {
     "data": {
      "text/plain": [
       "Results of Optimization Algorithm\n",
       " * Algorithm: Conjugate Gradient\n",
       " * Starting Point: [0.0,0.0,0.0,12.206072645530174]\n",
       " * Minimizer: [-0.822260939639815,0.9968340312288707, ...]\n",
       " * Minimum: 5.561452e+04\n",
       " * Iterations: 13\n",
       " * Convergence: true\n",
       "   * |x - x'| < 1.0e-04: true\n",
       "   * |f(x) - f(x')| / |f(x)| < 1.0e-10: false\n",
       "   * |g(x)| < 1.0e-08: false\n",
       "   * Reached Maximum Number of Iterations: false\n",
       " * Objective Function Calls: 48\n",
       " * Gradient Calls: 31"
      ]
     },
     "execution_count": 16,
     "metadata": {},
     "output_type": "execute_result"
    }
   ],
   "source": [
    "begin\n",
    "    global opt_out\n",
    "    k_spatiotemporal = k_spatiotemporal_1\n",
    "    chunks=GP[]\n",
    "    chunk_width=24*10\n",
    "    tstart=0.0\n",
    "    tend=tstart+chunk_width\n",
    "    nobsv=0\n",
    "    while tstart < get(maximum(hourly_cat[:ts_hours]))\n",
    "        in_chunk=(tstart .<= hourly_cat[:ts_hours].values) & (hourly_cat[:ts_hours].values .< tend)\n",
    "        hourly_chunk = hourly_cat[in_chunk,:]\n",
    "        nobsv_chunk = sum(in_chunk)\n",
    "        nobsv += nobsv_chunk\n",
    "\n",
    "        chunk_X_PRJ = isdSubset[:X_PRJ].values[hourly_chunk[:station].values]\n",
    "        chunk_Y_PRJ = isdSubset[:Y_PRJ].values[hourly_chunk[:station].values]\n",
    "        chunk_X = [hourly_chunk[:ts_hours].values chunk_X_PRJ chunk_Y_PRJ]\n",
    "\n",
    "        y = hourly_chunk[:temp].values\n",
    "        chunk = GP(chunk_X', y, MeanConst(mean(y)), k_spatiotemporal, 0.0)\n",
    "        push!(chunks, chunk)\n",
    "\n",
    "        tstart=tend\n",
    "        tend+=chunk_width\n",
    "    end\n",
    "    reals = TempModel.GPRealisations(chunks)\n",
    "    update_mll_and_dmll!(reals, mean=false)\n",
    "    println(reals.dmLL)\n",
    "    @time opt_out=optimize!(reals, mean=false, show_trace=true, x_tol=1e-4, f_tol=1e-10)\n",
    "end"
   ]
  },
  {
   "cell_type": "code",
   "execution_count": 17,
   "metadata": {
    "collapsed": false,
    "scrolled": true
   },
   "outputs": [
    {
     "name": "stdout",
     "output_type": "stream",
     "text": [
      "[-0.822261,0.996834,1.3172,12.0805]"
     ]
    }
   ],
   "source": [
    "print(Optim.minimizer(opt_out))"
   ]
  },
  {
   "cell_type": "code",
   "execution_count": 18,
   "metadata": {
    "collapsed": false
   },
   "outputs": [
    {
     "name": "stdout",
     "output_type": "stream",
     "text": [
      "55614.520028908264"
     ]
    }
   ],
   "source": [
    "print(Optim.minimum(opt_out))"
   ]
  },
  {
   "cell_type": "code",
   "execution_count": 19,
   "metadata": {
    "collapsed": false
   },
   "outputs": [
    {
     "name": "stdout",
     "output_type": "stream",
     "text": [
      "\n",
      "k: Temporal kernel \n",
      "=================\n",
      "σ: 3.733\n",
      "l: 2.710 hours\n",
      "\n",
      "k: Spatial kernel \n",
      "=================\n",
      "σ: 1.000\n",
      "l: 176391.372 meters\n",
      "\n",
      "=================\n",
      "σy: 0.439\n"
     ]
    }
   ],
   "source": [
    "print(\"\\nk: Temporal kernel \\n=================\\n\")\n",
    "@printf(\"σ: %5.3f\\n\", √k_time.σ2)\n",
    "@printf(\"l: %5.3f hours\\n\", √k_time.ℓ2)\n",
    "print(\"\\nk: Spatial kernel \\n=================\\n\")\n",
    "@printf(\"σ: %5.3f\\n\", √k_spatial.kern.σ2)\n",
    "@printf(\"l: %5.3f meters\\n\", √k_spatial.kern.ℓ2)\n",
    "print(\"\\n=================\\n\")\n",
    "@printf(\"σy: %5.3f\\n\", exp(reals.logNoise))"
   ]
  },
  {
   "cell_type": "markdown",
   "metadata": {},
   "source": [
    "# Adding a diurnal component"
   ]
  },
  {
   "cell_type": "code",
   "execution_count": 26,
   "metadata": {
    "collapsed": false
   },
   "outputs": [
    {
     "data": {
      "text/plain": [
       "Type: GaussianProcesses.FixedKern, Params: [11.5129]\n"
      ]
     },
     "execution_count": 26,
     "metadata": {},
     "output_type": "execute_result"
    }
   ],
   "source": [
    "k_periodic = fix(Periodic(log(5.0), -2.0, log(24.0)), :lp)\n",
    "k_diurndecay = fix(SEIso(log(10^5), 0.0), :lσ)"
   ]
  },
  {
   "cell_type": "code",
   "execution_count": 27,
   "metadata": {
    "collapsed": false
   },
   "outputs": [
    {
     "data": {
      "text/plain": [
       "Type: GaussianProcesses.SumKernel\n",
       "  Type: GaussianProcesses.ProdKernel\n",
       "    Type: GaussianProcesses.Masked{GaussianProcesses.SEIso}, Params: [0.996834,1.3172]\n",
       "    Type: GaussianProcesses.Masked{GaussianProcesses.FixedKern}, Params: [12.0805]\n",
       "  Type: GaussianProcesses.FixedKern, Params: Float64[]\n",
       "  Type: GaussianProcesses.ProdKernel\n",
       "    Type: GaussianProcesses.Masked{GaussianProcesses.FixedKern}, Params: [1.60944,-2.0]\n",
       "    Type: GaussianProcesses.Masked{GaussianProcesses.FixedKern}, Params: [11.5129]\n"
      ]
     },
     "execution_count": 27,
     "metadata": {},
     "output_type": "execute_result"
    }
   ],
   "source": [
    "k_spatiotemporal_2 = Masked(k_time, [1]) * Masked(k_spatial, [2,3]) + \n",
    "    fix(Masked(k_means, [2,3])) +\n",
    "    Masked(k_periodic, [1]) * Masked(k_diurndecay, [2,3])"
   ]
  },
  {
   "cell_type": "code",
   "execution_count": 21,
   "metadata": {
    "collapsed": false
   },
   "outputs": [
    {
     "name": "stdout",
     "output_type": "stream",
     "text": [
      "[13064.0,-6434.49,1369.85,-1511.01,-2.47901,2.54381,-2.49076]\n",
      "Iter     Function value   Gradient norm \n",
      "     0     5.671452e+04     1.306398e+04\n",
      "     1     5.627447e+04     6.665702e+03\n",
      "     2     5.618765e+04     7.376048e+03\n",
      "     3     5.618622e+04     7.417236e+03\n",
      "     4     5.618598e+04     7.417343e+03\n",
      "     5     5.548211e+04     3.505667e+03\n",
      "     6     5.544647e+04     3.779089e+03\n",
      "     7     5.496324e+04     1.635982e+03\n",
      "     8     5.492416e+04     1.160844e+03\n",
      "     9     5.488227e+04     2.779155e+02\n",
      "    10     5.487913e+04     5.334491e+01\n",
      "    11     5.487898e+04     9.915131e+00\n",
      "    12     5.487897e+04     1.195891e+01\n",
      "    13     5.487897e+04     7.177864e+00\n",
      "    14     5.485891e+04     1.050472e+02\n",
      "    15     5.485885e+04     1.009677e+02\n",
      "    16     5.485764e+04     3.023206e+02\n",
      "    17     5.485675e+04     1.975010e+02\n",
      "    18     5.485406e+04     2.106427e+01\n",
      "    19     5.485403e+04     9.055154e-01\n",
      "    20     5.485403e+04     1.437292e-01\n",
      "    21     5.485403e+04     3.392904e-01\n",
      "1747.158406 seconds (28.37 M allocations: 296.802 GB, 2.69% gc time)\n"
     ]
    },
    {
     "data": {
      "text/plain": [
       "Results of Optimization Algorithm\n",
       " * Algorithm: L-BFGS\n",
       " * Starting Point: [-1.0,0.9968340312288707, ...]\n",
       " * Minimizer: [-0.8297836244524519,1.0703150935272736, ...]\n",
       " * Minimum: 5.485403e+04\n",
       " * Iterations: 21\n",
       " * Convergence: true\n",
       "   * |x - x'| < 1.0e-04: true\n",
       "   * |f(x) - f(x')| / |f(x)| < 1.0e-10: true\n",
       "   * |g(x)| < 1.0e-08: false\n",
       "   * Reached Maximum Number of Iterations: false\n",
       " * Objective Function Calls: 104\n",
       " * Gradient Calls: 104"
      ]
     },
     "execution_count": 21,
     "metadata": {},
     "output_type": "execute_result"
    }
   ],
   "source": [
    "begin\n",
    "    global opt_out\n",
    "    k_spatiotemporal = k_spatiotemporal_2\n",
    "    chunks=GP[]\n",
    "    chunk_width=24*10\n",
    "    tstart=0.0\n",
    "    tend=tstart+chunk_width\n",
    "    nobsv=0\n",
    "    while tstart < get(maximum(hourly_cat[:ts_hours]))\n",
    "        in_chunk=(tstart .<= hourly_cat[:ts_hours].values) & (hourly_cat[:ts_hours].values .< tend)\n",
    "        hourly_chunk = hourly_cat[in_chunk,:]\n",
    "        nobsv_chunk = sum(in_chunk)\n",
    "        nobsv += nobsv_chunk\n",
    "\n",
    "        chunk_X_PRJ = isdSubset[:X_PRJ].values[hourly_chunk[:station].values]\n",
    "        chunk_Y_PRJ = isdSubset[:Y_PRJ].values[hourly_chunk[:station].values]\n",
    "        chunk_X = [hourly_chunk[:ts_hours].values chunk_X_PRJ chunk_Y_PRJ]\n",
    "\n",
    "        y = hourly_chunk[:temp].values\n",
    "        chunk = GP(chunk_X', y, MeanConst(mean(y)), k_spatiotemporal, -1.0)\n",
    "        push!(chunks, chunk)\n",
    "\n",
    "        tstart=tend\n",
    "        tend+=chunk_width\n",
    "    end\n",
    "    reals = TempModel.GPRealisations(chunks)\n",
    "    update_mll_and_dmll!(reals, mean=false)\n",
    "    println(reals.dmLL)\n",
    "    @time opt_out=optimize!(reals, method=LBFGS(), mean=false, show_trace=true, x_tol=1e-4, f_tol=1e-10)\n",
    "end"
   ]
  },
  {
   "cell_type": "code",
   "execution_count": 22,
   "metadata": {
    "collapsed": false
   },
   "outputs": [
    {
     "name": "stdout",
     "output_type": "stream",
     "text": [
      "54854.03391413766"
     ]
    }
   ],
   "source": [
    "print(Optim.minimum(opt_out))"
   ]
  },
  {
   "cell_type": "code",
   "execution_count": 23,
   "metadata": {
    "collapsed": false
   },
   "outputs": [
    {
     "name": "stdout",
     "output_type": "stream",
     "text": [
      "[-0.829784,1.07032,1.30931,12.0899,-1.19669,-1.20146,11.0723]"
     ]
    }
   ],
   "source": [
    "print(Optim.minimizer(opt_out))"
   ]
  },
  {
   "cell_type": "code",
   "execution_count": 24,
   "metadata": {
    "collapsed": false
   },
   "outputs": [
    {
     "name": "stdout",
     "output_type": "stream",
     "text": [
      "\n",
      "k: Temporal kernel \n",
      "=================\n",
      "σ: 3.704\n",
      "l: 2.916 hours\n",
      "\n",
      "k: Spatial kernel \n",
      "=================\n",
      "σ: 1.000\n",
      "l: 178067.124 meters\n",
      "\n",
      "k: Periodic kernel \n",
      "=================\n",
      "σ: 0.301\n",
      "l: 0.302 hours\n",
      "\n",
      "k: Periodic decay \n",
      "=================\n",
      "σ: 1.000 (constrained to 1)\n",
      "l: 64365.294 meters\n",
      "\n",
      "=================\n",
      "σy: 0.436\n"
     ]
    }
   ],
   "source": [
    "print(\"\\nk: Temporal kernel \\n=================\\n\")\n",
    "@printf(\"σ: %5.3f\\n\", √k_time.σ2)\n",
    "@printf(\"l: %5.3f hours\\n\", √k_time.ℓ2)\n",
    "print(\"\\nk: Spatial kernel \\n=================\\n\")\n",
    "@printf(\"σ: %5.3f\\n\", √k_spatial.kern.σ2)\n",
    "@printf(\"l: %5.3f meters\\n\", √k_spatial.kern.ℓ2)\n",
    "print(\"\\nk: Periodic kernel \\n=================\\n\")\n",
    "@printf(\"σ: %5.3f\\n\", √k_periodic.kern.σ2)\n",
    "@printf(\"l: %5.3f hours\\n\", √k_periodic.kern.ℓ2)\n",
    "print(\"\\nk: Periodic decay \\n=================\\n\")\n",
    "@printf(\"σ: %5.3f (constrained to 1)\\n\", √k_diurndecay.kern.σ2)\n",
    "@printf(\"l: %5.3f meters\\n\", √k_diurndecay.kern.ℓ2)\n",
    "print(\"\\n=================\\n\")\n",
    "@printf(\"σy: %5.3f\\n\", exp(reals.logNoise))"
   ]
  },
  {
   "cell_type": "markdown",
   "metadata": {},
   "source": [
    "## plot fitted variogram"
   ]
  },
  {
   "cell_type": "code",
   "execution_count": 25,
   "metadata": {
    "collapsed": false
   },
   "outputs": [
    {
     "data": {
      "image/png": "[encoded data removed]",
      "text/plain": [
       "PyPlot.Figure(PyObject <matplotlib.figure.Figure object at 0x3206d6750>)"
      ]
     },
     "metadata": {},
     "output_type": "display_data"
    },
    {
     "data": {
      "text/plain": [
       "1-element Array{Any,1}:\n",
       " PyObject <matplotlib.lines.Line2D object at 0x3211dc410>"
      ]
     },
     "execution_count": 25,
     "metadata": {},
     "output_type": "execute_result"
    }
   ],
   "source": [
    "rr = linspace(0.0, 24*14, 24*14*4)\n",
    "ck_r = [cov(reals.k, [0.0,0.0,0.0], [r,0.0,0.0]) for r in rr]\n",
    "plt.plot(rr/24.0, exp(2.0*reals.logNoise)+ck_r[1].-ck_r, label=\"fitted variogram\")"
   ]
  },
  {
   "cell_type": "markdown",
   "metadata": {},
   "source": [
    "## Refitting with Conjugate Gradient Descent"
   ]
  },
  {
   "cell_type": "code",
   "execution_count": 22,
   "metadata": {
    "collapsed": false
   },
   "outputs": [
    {
     "data": {
      "text/plain": [
       "Type: GaussianProcesses.FixedKern, Params: [11.5129]\n"
      ]
     },
     "execution_count": 22,
     "metadata": {},
     "output_type": "execute_result"
    }
   ],
   "source": [
    "k_periodic = fix(Periodic(log(5.0), -2.0, log(24.0)), :lp)\n",
    "k_diurndecay = fix(SEIso(log(10^5), 0.0), :lσ)"
   ]
  },
  {
   "cell_type": "code",
   "execution_count": 23,
   "metadata": {
    "collapsed": false
   },
   "outputs": [
    {
     "data": {
      "text/plain": [
       "Type: GaussianProcesses.SumKernel\n",
       "  Type: GaussianProcesses.ProdKernel\n",
       "    Type: GaussianProcesses.Masked{GaussianProcesses.SEIso}, Params: [0.996834,1.3172]\n",
       "    Type: GaussianProcesses.Masked{GaussianProcesses.FixedKern}, Params: [12.0805]\n",
       "  Type: GaussianProcesses.FixedKern, Params: Float64[]\n",
       "  Type: GaussianProcesses.ProdKernel\n",
       "    Type: GaussianProcesses.Masked{GaussianProcesses.FixedKern}, Params: [1.60944,-2.0]\n",
       "    Type: GaussianProcesses.Masked{GaussianProcesses.FixedKern}, Params: [11.5129]\n"
      ]
     },
     "execution_count": 23,
     "metadata": {},
     "output_type": "execute_result"
    }
   ],
   "source": [
    "k_spatiotemporal_3 = Masked(k_time, [1]) * Masked(k_spatial, [2,3]) + \n",
    "    fix(Masked(k_means, [2,3])) +\n",
    "    Masked(k_periodic, [1]) * Masked(k_diurndecay, [2,3])"
   ]
  },
  {
   "cell_type": "code",
   "execution_count": 36,
   "metadata": {
    "collapsed": false
   },
   "outputs": [],
   "source": [
    "set_params!(k_spatiotemporal_3, [1.07024,1.30932,12.0899,-1.19804,-1.20352,11.0696])"
   ]
  },
  {
   "cell_type": "code",
   "execution_count": 31,
   "metadata": {
    "collapsed": false
   },
   "outputs": [
    {
     "name": "stdout",
     "output_type": "stream",
     "text": [
      "[12348.3,-5395.96,1155.42,-1332.51,-392.042,156.151,-23.2588]\n",
      "Iter     Function value   Gradient norm \n",
      "     0     5.585363e+04     1.234833e+04\n",
      "     1     5.494010e+04     2.402008e+03\n",
      "     2     5.487282e+04     1.098334e+03\n",
      "     3     5.485483e+04     1.414974e+02\n",
      "     4     5.485438e+04     9.617669e+01\n",
      "     5     5.485416e+04     4.575807e+01\n",
      "     6     5.485409e+04     2.872120e+01\n",
      "     7     5.485406e+04     1.982919e+01\n",
      "     8     5.485404e+04     1.129499e+01\n",
      "     9     5.485404e+04     5.069390e+00\n",
      "    10     5.485404e+04     4.385188e+00\n",
      "    11     5.485404e+04     6.531113e+00\n",
      "    12     5.485404e+04     3.594263e+00\n",
      "    13     5.485404e+04     1.489070e+00\n",
      "    14     5.485404e+04     1.201956e+00\n",
      "756.880070 seconds (13.52 M allocations: 144.581 GB, 3.05% gc time)\n"
     ]
    },
    {
     "data": {
      "text/plain": [
       "Results of Optimization Algorithm\n",
       " * Algorithm: Conjugate Gradient\n",
       " * Starting Point: [-1.0,1.070287594109616, ...]\n",
       " * Minimizer: [-0.8298614275021883,1.0702354141216777, ...]\n",
       " * Minimum: 5.485404e+04\n",
       " * Iterations: 14\n",
       " * Convergence: true\n",
       "   * |x - x'| < 1.0e-04: true\n",
       "   * |f(x) - f(x')| / |f(x)| < 1.0e-10: false\n",
       "   * |g(x)| < 1.0e-08: false\n",
       "   * Reached Maximum Number of Iterations: false\n",
       " * Objective Function Calls: 50\n",
       " * Gradient Calls: 35"
      ]
     },
     "execution_count": 31,
     "metadata": {},
     "output_type": "execute_result"
    }
   ],
   "source": [
    "begin\n",
    "    global opt_out\n",
    "    k_spatiotemporal = k_spatiotemporal_3\n",
    "    chunks=GP[]\n",
    "    chunk_width=24*10\n",
    "    tstart=0.0\n",
    "    tend=tstart+chunk_width\n",
    "    nobsv=0\n",
    "    while tstart < get(maximum(hourly_cat[:ts_hours]))\n",
    "        in_chunk=(tstart .<= hourly_cat[:ts_hours].values) & (hourly_cat[:ts_hours].values .< tend)\n",
    "        hourly_chunk = hourly_cat[in_chunk,:]\n",
    "        nobsv_chunk = sum(in_chunk)\n",
    "        nobsv += nobsv_chunk\n",
    "\n",
    "        chunk_X_PRJ = isdSubset[:X_PRJ].values[hourly_chunk[:station].values]\n",
    "        chunk_Y_PRJ = isdSubset[:Y_PRJ].values[hourly_chunk[:station].values]\n",
    "        chunk_X = [hourly_chunk[:ts_hours].values chunk_X_PRJ chunk_Y_PRJ]\n",
    "\n",
    "        y = hourly_chunk[:temp].values\n",
    "        chunk = GP(chunk_X', y, MeanConst(mean(y)), k_spatiotemporal, -1.0)\n",
    "        push!(chunks, chunk)\n",
    "\n",
    "        tstart=tend\n",
    "        tend+=chunk_width\n",
    "    end\n",
    "    reals = TempModel.GPRealisations(chunks)\n",
    "    update_mll_and_dmll!(reals, mean=false)\n",
    "    println(reals.dmLL)\n",
    "    @time opt_out=optimize!(reals, method=ConjugateGradient(), mean=false, show_trace=true, x_tol=1e-4, f_tol=1e-10)\n",
    "end"
   ]
  },
  {
   "cell_type": "code",
   "execution_count": 34,
   "metadata": {
    "collapsed": false
   },
   "outputs": [
    {
     "name": "stdout",
     "output_type": "stream",
     "text": [
      "[-0.829861,1.07024,1.30932,12.0899,-1.19804,-1.20352,11.0696]"
     ]
    }
   ],
   "source": [
    "print(Optim.minimizer(opt_out))"
   ]
  },
  {
   "cell_type": "code",
   "execution_count": 39,
   "metadata": {
    "collapsed": false
   },
   "outputs": [
    {
     "name": "stdout",
     "output_type": "stream",
     "text": [
      "\n",
      "k: Temporal kernel \n",
      "=================\n",
      "σ: 3.704\n",
      "l: 2.916 hours\n",
      "\n",
      "k: Spatial kernel \n",
      "=================\n",
      "σ: 1.000\n",
      "l: 178064.300 meters\n",
      "\n",
      "k: Periodic kernel \n",
      "=================\n",
      "σ: 0.300\n",
      "l: 0.302 hours\n",
      "\n",
      "k: Periodic decay \n",
      "=================\n",
      "σ: 1.000 (constrained to 1)\n",
      "l: 64189.826 meters\n",
      "\n",
      "=================\n",
      "σy: 0.436\n"
     ]
    }
   ],
   "source": [
    "print(\"\\nk: Temporal kernel \\n=================\\n\")\n",
    "@printf(\"σ: %5.3f\\n\", √k_time.σ2)\n",
    "@printf(\"l: %5.3f hours\\n\", √k_time.ℓ2)\n",
    "print(\"\\nk: Spatial kernel \\n=================\\n\")\n",
    "@printf(\"σ: %5.3f\\n\", √k_spatial.kern.σ2)\n",
    "@printf(\"l: %5.3f meters\\n\", √k_spatial.kern.ℓ2)\n",
    "print(\"\\nk: Periodic kernel \\n=================\\n\")\n",
    "@printf(\"σ: %5.3f\\n\", √k_periodic.kern.σ2)\n",
    "@printf(\"l: %5.3f hours\\n\", √k_periodic.kern.ℓ2)\n",
    "print(\"\\nk: Periodic decay \\n=================\\n\")\n",
    "@printf(\"σ: %5.3f (constrained to 1)\\n\", √k_diurndecay.kern.σ2)\n",
    "@printf(\"l: %5.3f meters\\n\", √k_diurndecay.kern.ℓ2)\n",
    "print(\"\\n=================\\n\")\n",
    "@printf(\"σy: %5.3f\\n\", exp(reals.logNoise))"
   ]
  },
  {
   "cell_type": "markdown",
   "metadata": {},
   "source": [
    "## Using NLopt"
   ]
  },
  {
   "cell_type": "code",
   "execution_count": 35,
   "metadata": {
    "collapsed": true
   },
   "outputs": [],
   "source": [
    "import NLopt\n",
    "import NLopt: Opt, lower_bounds!, upper_bounds!, min_objective!, xtol_rel!, ftol_rel!"
   ]
  },
  {
   "cell_type": "code",
   "execution_count": 47,
   "metadata": {
    "collapsed": false
   },
   "outputs": [
    {
     "name": "stderr",
     "output_type": "stream",
     "text": [
      "WARNING: Method definition optimize_NLopt(TempModel.GPRealisations) in module Main at In[46]:3 overwritten at In[47]:3.\n",
      "WARNING: Method definition #optimize_NLopt(Array{Any, 1}, Main.#optimize_NLopt, TempModel.GPRealisations) in module Main overwritten.\n"
     ]
    },
    {
     "data": {
      "text/plain": [
       "optimize_NLopt (generic function with 1 method)"
      ]
     },
     "execution_count": 47,
     "metadata": {},
     "output_type": "execute_result"
    }
   ],
   "source": [
    "function optimize_NLopt(gpr::TempModel.GPRealisations; noise::Bool=true, mean::Bool=true, kern::Bool=true,\n",
    "                    method=:LD_BFGS, x_tol=1e-4, f_tol=1e-10, show_trace=false)\n",
    "    target = get_optim_target(gpr, noise=noise, mean=mean, kern=kern)\n",
    "    init_x = get_params(gpr;  noise=noise, mean=mean, kern=kern)  # Initial hyperparameter values\n",
    "    count = 0\n",
    "    best_x = copy(init_x)\n",
    "    best_y = Inf\n",
    "    function myfunc(x::Vector, grad::Vector)\n",
    "        count += 1\n",
    "        local y::Float64\n",
    "        if length(grad) > 0\n",
    "            y=target.fg!(x, grad)\n",
    "        else\n",
    "            y = target.f(x)\n",
    "        end\n",
    "        if y < best_y\n",
    "            best_y = y\n",
    "            best_x[:] = x\n",
    "            if show_trace\n",
    "                @printf(\"Y=%.5f after %d calls at x=%s\\n\", best_y, count, best_x)\n",
    "            end\n",
    "        end\n",
    "        return y\n",
    "    end\n",
    "\n",
    "    nparams = length(init_x)\n",
    "    opt = Opt(method, nparams)\n",
    "\n",
    "    lower = Array(Float64, nparams)\n",
    "    upper = Array(Float64, nparams)\n",
    "    lower = init_x - 3.0\n",
    "    upper = init_x + 3.0\n",
    "    lower_bounds!(opt, lower)\n",
    "    upper_bounds!(opt, upper)\n",
    "    xtol_rel!(opt, x_tol)\n",
    "    ftol_rel!(opt, f_tol)\n",
    "    min_objective!(opt, myfunc)\n",
    "    (minf,minx,ret) = NLopt.optimize(opt, init_x)\n",
    "    return minf,minx,ret,count\n",
    "end"
   ]
  },
  {
   "cell_type": "code",
   "execution_count": 51,
   "metadata": {
    "collapsed": false
   },
   "outputs": [
    {
     "name": "stdout",
     "output_type": "stream",
     "text": [
      "Y=55829.71955 after 1 calls at x=[-1.0,1.06259,1.30893,12.0926,-1.2786,-1.32196,9.87868]\n",
      "Y=54938.30610 after 4 calls at x=[-0.870708,1.00593,1.32112,12.0785,-1.28254,-1.32019,9.87868]\n",
      "Y=54910.49538 after 5 calls at x=[-0.860946,1.02001,1.31458,12.0819,-1.2827,-1.32067,9.87868]\n",
      "Y=54879.24742 after 6 calls at x=[-0.834826,1.05957,1.30331,12.0883,-1.28272,-1.32227,9.87868]\n",
      "Y=54879.07954 after 7 calls at x=[-0.8338,1.06167,1.30524,12.0893,-1.28239,-1.32249,9.87868]\n",
      "Y=54878.97974 after 8 calls at x=[-0.833241,1.06284,1.3082,12.0918,-1.28165,-1.32287,9.87868]\n",
      "Y=54878.96913 after 9 calls at x=[-0.833335,1.06261,1.30898,12.0927,-1.28093,-1.32321,9.87869]\n",
      "Y=54878.96792 after 10 calls at x=[-0.833361,1.06256,1.30909,12.0927,-1.28052,-1.32337,9.87869]\n",
      "Y=54878.96701 after 11 calls at x=[-0.833348,1.06252,1.30903,12.0927,-1.27989,-1.32357,9.8787]\n",
      "Y=54878.96680 after 12 calls at x=[-0.833336,1.06257,1.30901,12.0925,-1.27958,-1.32344,9.8787]\n",
      "Y=54878.96664 after 13 calls at x=[-0.833324,1.06257,1.30894,12.0925,-1.27949,-1.32334,9.87871]\n",
      "Y=54878.96644 after 14 calls at x=[-0.833307,1.06258,1.30887,12.0926,-1.27932,-1.32306,9.87871]\n",
      "Y=54878.96622 after 15 calls at x=[-0.833296,1.06259,1.30884,12.0926,-1.27903,-1.32261,9.87873]\n",
      "Y=54878.96603 after 16 calls at x=[-0.833297,1.06259,1.30887,12.0926,-1.27866,-1.32207,9.87875]\n",
      "Y=54878.96600 after 17 calls at x=[-0.833301,1.06259,1.30891,12.0926,-1.27858,-1.32194,9.87876]\n",
      "Y=54878.96600 after 18 calls at x=[-0.833303,1.06259,1.30892,12.0926,-1.27859,-1.32195,9.87876]\n",
      "350.917240 seconds (2.27 G allocations: 85.352 GB, 5.79% gc time)\n"
     ]
    },
    {
     "data": {
      "text/plain": [
       "(54878.96600198585,[-0.833303,1.06259,1.30892,12.0926,-1.27859,-1.32195,9.87876],:XTOL_REACHED,18)"
      ]
     },
     "execution_count": 51,
     "metadata": {},
     "output_type": "execute_result"
    }
   ],
   "source": [
    "begin\n",
    "    k_spatiotemporal = k_spatiotemporal_2\n",
    "    chunks=GP[]\n",
    "    chunk_width=24*10\n",
    "    tstart=0.0\n",
    "    tend=tstart+chunk_width\n",
    "    nobsv=0\n",
    "    while tstart < get(maximum(hourly_cat[:ts_hours]))\n",
    "        in_chunk=(tstart .<= hourly_cat[:ts_hours].values) & (hourly_cat[:ts_hours].values .< tend)\n",
    "        hourly_chunk = hourly_cat[in_chunk,:]\n",
    "        nobsv_chunk = sum(in_chunk)\n",
    "        nobsv += nobsv_chunk\n",
    "\n",
    "        chunk_X_PRJ = isdSubset[:X_PRJ].values[hourly_chunk[:station].values]\n",
    "        chunk_Y_PRJ = isdSubset[:Y_PRJ].values[hourly_chunk[:station].values]\n",
    "        chunk_X = [hourly_chunk[:ts_hours].values chunk_X_PRJ chunk_Y_PRJ]\n",
    "\n",
    "        y = hourly_chunk[:temp].values\n",
    "        chunk = GP(chunk_X', y, MeanConst(mean(y)), k_spatiotemporal, -1.0)\n",
    "        push!(chunks, chunk)\n",
    "\n",
    "        tstart=tend\n",
    "        tend+=chunk_width\n",
    "    end\n",
    "    reals = TempModel.GPRealisations(chunks)\n",
    "    update_mll_and_dmll!(reals, mean=false)\n",
    "\n",
    "    @time opt_out=optimize_NLopt(reals, method=:LD_LBFGS, mean=false, \n",
    "        x_tol=1e-4, \n",
    "        f_tol=1e-10, \n",
    "        show_trace=true)\n",
    "end        "
   ]
  },
  {
   "cell_type": "code",
   "execution_count": 50,
   "metadata": {
    "collapsed": false
   },
   "outputs": [
    {
     "name": "stdout",
     "output_type": "stream",
     "text": [
      "Y=54878.96600 after 1 calls at x=[-0.833303,1.06259,1.30892,12.0926,-1.27859,-1.32196,9.87865]\n",
      "Y=54878.96600 after 4 calls at x=[-0.833302,1.06259,1.30893,12.0926,-1.27859,-1.32196,9.87867]\n",
      "Y=54878.96600 after 5 calls at x=[-0.833303,1.06259,1.30893,12.0926,-1.2786,-1.32196,9.87868]\n",
      " 99.472238 seconds (631.08 M allocations: 24.312 GB, 6.44% gc time)\n"
     ]
    },
    {
     "data": {
      "text/plain": [
       "(54878.96600391299,[-0.833303,1.06259,1.30893,12.0926,-1.2786,-1.32196,9.87868],:XTOL_REACHED,5)"
      ]
     },
     "execution_count": 50,
     "metadata": {},
     "output_type": "execute_result"
    }
   ],
   "source": [
    "@time opt_out=optimize_NLopt(reals, method=:LD_LBFGS, mean=false, \n",
    "    x_tol=1e-4, \n",
    "    f_tol=1e-20, \n",
    "    show_trace=true)"
   ]
  },
  {
   "cell_type": "markdown",
   "metadata": {},
   "source": [
    "## LD_MMA"
   ]
  },
  {
   "cell_type": "code",
   "execution_count": 52,
   "metadata": {
    "collapsed": false
   },
   "outputs": [
    {
     "data": {
      "text/plain": [
       "Type: GaussianProcesses.FixedKern, Params: [11.5129]\n"
      ]
     },
     "execution_count": 52,
     "metadata": {},
     "output_type": "execute_result"
    }
   ],
   "source": [
    "k_periodic = fix(Periodic(log(5.0), -2.0, log(24.0)), :lp)\n",
    "k_diurndecay = fix(SEIso(log(10^5), 0.0), :lσ)"
   ]
  },
  {
   "cell_type": "code",
   "execution_count": 53,
   "metadata": {
    "collapsed": false
   },
   "outputs": [
    {
     "data": {
      "text/plain": [
       "Type: GaussianProcesses.SumKernel\n",
       "  Type: GaussianProcesses.ProdKernel\n",
       "    Type: GaussianProcesses.Masked{GaussianProcesses.SEIso}, Params: [1.06259,1.30892]\n",
       "    Type: GaussianProcesses.Masked{GaussianProcesses.FixedKern}, Params: [12.0926]\n",
       "  Type: GaussianProcesses.FixedKern, Params: Float64[]\n",
       "  Type: GaussianProcesses.ProdKernel\n",
       "    Type: GaussianProcesses.Masked{GaussianProcesses.FixedKern}, Params: [1.60944,-2.0]\n",
       "    Type: GaussianProcesses.Masked{GaussianProcesses.FixedKern}, Params: [11.5129]\n"
      ]
     },
     "execution_count": 53,
     "metadata": {},
     "output_type": "execute_result"
    }
   ],
   "source": [
    "k_spatiotemporal_5 = Masked(k_time, [1]) * Masked(k_spatial, [2,3]) + \n",
    "    fix(Masked(k_means, [2,3])) +\n",
    "    Masked(k_periodic, [1]) * Masked(k_diurndecay, [2,3])"
   ]
  },
  {
   "cell_type": "code",
   "execution_count": 54,
   "metadata": {
    "collapsed": false
   },
   "outputs": [
    {
     "name": "stdout",
     "output_type": "stream",
     "text": [
      "Y=57315.33896 after 1 calls at x=[-1.0,1.06259,1.30892,12.0926,1.60944,-2.0,11.5129]\n",
      "Y=55956.07978 after 8 calls at x=[-0.784521,0.913383,1.34632,12.0596,1.6094,-1.99996,11.5129]\n",
      "Y=55658.89913 after 9 calls at x=[-0.824715,0.956217,1.33005,12.0714,1.60938,-1.99994,11.5129]\n",
      "Y=55622.09476 after 11 calls at x=[-0.836619,0.976579,1.32214,12.0764,1.60936,-1.99992,11.5128]\n",
      "Y=55618.06285 after 12 calls at x=[-0.82362,1.00682,1.3088,12.0825,1.609,-1.99955,11.5125]\n",
      "Y=55613.90364 after 14 calls at x=[-0.818689,1.00002,1.31202,12.0807,1.60892,-1.99946,11.5124]\n",
      "Y=55613.50573 after 16 calls at x=[-0.819585,0.99718,1.3149,12.0797,1.60872,-1.99927,11.5122]\n",
      "Y=55613.36679 after 18 calls at x=[-0.820906,0.998176,1.31536,12.08,1.60818,-1.99871,11.5117]\n",
      "Y=55613.29030 after 20 calls at x=[-0.821708,0.997261,1.31728,12.08,1.60691,-1.99741,11.5105]\n",
      "Y=55613.27837 after 22 calls at x=[-0.822536,0.997229,1.31631,12.0801,1.60508,-1.99553,11.5087]\n",
      "Y=55613.25870 after 23 calls at x=[-0.821978,0.997005,1.31707,12.0801,1.60396,-1.99438,11.5076]\n",
      "Y=55613.24895 after 24 calls at x=[-0.822207,0.996997,1.31678,12.0802,1.60305,-1.99345,11.5067]\n",
      "Y=55613.15746 after 25 calls at x=[-0.822053,0.996195,1.31695,12.0803,1.58992,-1.97995,11.4937]\n",
      "Y=55613.11878 after 28 calls at x=[-0.822646,0.996786,1.31674,12.0804,1.58628,-1.97621,11.49]\n",
      "Y=55612.80093 after 29 calls at x=[-0.820516,0.995404,1.31704,12.0803,1.53311,-1.92152,11.4361]\n",
      "Y=55612.57071 after 31 calls at x=[-0.827078,1.00035,1.31556,12.0815,1.42938,-1.81424,11.3251]\n",
      "Y=55609.31869 after 32 calls at x=[-0.818175,0.993261,1.31759,12.0799,1.33456,-1.71511,11.22]\n",
      "Y=55602.09926 after 33 calls at x=[-0.823828,0.997656,1.31595,12.0813,1.21753,-1.59144,11.0964]\n",
      "Y=55569.27636 after 35 calls at x=[-0.82282,0.996771,1.31593,12.0813,0.915505,-1.26833,10.8149]\n",
      "Y=55401.27464 after 37 calls at x=[-0.822698,0.996504,1.3144,12.0826,-0.134015,-0.121836,10.245]\n",
      "Y=55293.16349 after 39 calls at x=[-0.825069,1.00046,1.3006,12.0874,-1.39056,-0.836709,10.3802]\n",
      "Y=55036.65093 after 43 calls at x=[-0.825233,1.00066,1.30047,12.0875,-0.947614,-1.25469,10.3864]\n",
      "Y=54977.56069 after 44 calls at x=[-0.825291,1.00075,1.30041,12.0875,-1.08119,-1.20468,10.3894]\n",
      "Y=54967.31502 after 46 calls at x=[-0.825332,1.00081,1.3003,12.0876,-1.16868,-1.20058,10.3915]\n",
      "Y=54958.34322 after 47 calls at x=[-0.825982,1.00169,1.29875,12.0886,-1.2312,-1.25866,10.4212]\n",
      "Y=54957.41492 after 50 calls at x=[-0.826081,1.00182,1.29854,12.0887,-1.19086,-1.26185,10.4261]\n",
      "Y=54956.45857 after 51 calls at x=[-0.826145,1.0019,1.29841,12.0888,-1.21752,-1.26264,10.4296]\n",
      "Y=54950.45840 after 52 calls at x=[-0.827075,1.00314,1.29648,12.0901,-1.18563,-1.28528,10.4799]\n",
      "Y=54945.55768 after 54 calls at x=[-0.831345,1.00903,1.28836,12.0956,-1.39056,-1.27407,10.8045]\n",
      "Y=54915.93614 after 57 calls at x=[-0.831458,1.00918,1.2883,12.0956,-1.2479,-1.28709,10.8182]\n",
      "Y=54912.82716 after 58 calls at x=[-0.832841,1.01131,1.2876,12.0957,-1.18283,-1.31252,11.0076]\n",
      "Y=54906.42615 after 60 calls at x=[-0.833054,1.01169,1.2876,12.0956,-1.24277,-1.29659,10.9903]\n",
      "Y=54894.93371 after 61 calls at x=[-0.836409,1.01732,1.28735,12.0952,-1.23485,-1.27,10.8872]\n",
      "Y=54887.51220 after 63 calls at x=[-0.840109,1.02469,1.28881,12.0942,-1.19455,-1.29282,11.1131]\n",
      "Y=54880.52617 after 65 calls at x=[-0.840328,1.02565,1.2897,12.0939,-1.2572,-1.27266,11.039]\n",
      "Y=54878.69050 after 66 calls at x=[-0.840593,1.02649,1.29025,12.0936,-1.23625,-1.27484,11.0191]\n",
      "Y=54867.53059 after 67 calls at x=[-0.843716,1.03784,1.2928,12.0905,-1.24485,-1.26324,10.9649]\n",
      "Y=54864.32922 after 69 calls at x=[-0.842324,1.04764,1.29767,12.0866,-1.18678,-1.26757,11.0056]\n",
      "Y=54860.38210 after 71 calls at x=[-0.841712,1.04836,1.29812,12.0864,-1.24102,-1.26314,11.0072]\n",
      "Y=54856.89915 after 72 calls at x=[-0.839929,1.05959,1.30365,12.0849,-1.22739,-1.2587,11.0152]\n",
      "Y=54856.39786 after 75 calls at x=[-0.83897,1.06021,1.30467,12.0852,-1.24151,-1.25294,11.0185]\n",
      "Y=54855.27833 after 77 calls at x=[-0.835148,1.06443,1.30768,12.0861,-1.2204,-1.25488,11.036]\n",
      "Y=54854.68587 after 79 calls at x=[-0.831745,1.06729,1.30709,12.0883,-1.23539,-1.23647,11.0404]\n",
      "Y=54854.38067 after 80 calls at x=[-0.831703,1.06892,1.30971,12.0887,-1.22205,-1.24112,11.05]\n",
      "Y=54854.30189 after 81 calls at x=[-0.831077,1.06857,1.30938,12.0892,-1.22239,-1.23671,11.0492]\n",
      "Y=54854.27931 after 83 calls at x=[-0.830913,1.06941,1.30904,12.0897,-1.22135,-1.23559,11.0515]\n",
      "Y=54854.26478 after 86 calls at x=[-0.830649,1.06902,1.30943,12.0896,-1.22118,-1.23484,11.0517]\n",
      "Y=54854.22314 after 87 calls at x=[-0.830833,1.07058,1.30962,12.0903,-1.21809,-1.22593,11.0577]\n",
      "Y=54854.18356 after 89 calls at x=[-0.830168,1.07,1.30981,12.0902,-1.21763,-1.22573,11.0577]\n",
      "Y=54854.15568 after 90 calls at x=[-0.831077,1.06969,1.31011,12.0901,-1.2106,-1.2241,11.0607]\n",
      "Y=54854.12266 after 92 calls at x=[-0.830253,1.06961,1.31008,12.0901,-1.21071,-1.22275,11.0583]\n",
      "Y=54854.10383 after 94 calls at x=[-0.830303,1.06967,1.30956,12.0901,-1.21045,-1.21893,11.0655]\n",
      "Y=54854.09740 after 97 calls at x=[-0.830272,1.06967,1.30957,12.0901,-1.21003,-1.2183,11.0604]\n",
      "Y=54854.06687 after 98 calls at x=[-0.830204,1.06974,1.30958,12.0901,-1.20404,-1.21307,11.0709]\n",
      "Y=54854.05459 after 101 calls at x=[-0.830151,1.06976,1.30957,12.0901,-1.20405,-1.20998,11.0682]\n",
      "Y=54854.04780 after 102 calls at x=[-0.830014,1.07013,1.30948,12.0901,-1.19951,-1.20834,11.0653]\n",
      "Y=54854.04065 after 104 calls at x=[-0.829944,1.07012,1.30948,12.0901,-1.19977,-1.20583,11.0657]\n",
      "Y=54854.03742 after 106 calls at x=[-0.829842,1.07014,1.30946,12.0901,-1.19966,-1.20487,11.0696]\n",
      "Y=54854.03711 after 109 calls at x=[-0.829896,1.07016,1.30945,12.0901,-1.19958,-1.20514,11.0696]\n",
      "Y=54854.03584 after 110 calls at x=[-0.829865,1.07028,1.30942,12.0901,-1.19876,-1.20335,11.0702]\n",
      "Y=54854.03512 after 113 calls at x=[-0.829852,1.07026,1.30942,12.09,-1.19839,-1.20378,11.0706]\n",
      "Y=54854.03469 after 115 calls at x=[-0.829793,1.07024,1.30941,12.09,-1.19778,-1.20334,11.0714]\n",
      "Y=54854.03454 after 118 calls at x=[-0.829827,1.07027,1.30937,12.09,-1.19783,-1.20323,11.0712]\n",
      "2260.701605 seconds (14.89 G allocations: 554.890 GB, 5.81% gc time)\n"
     ]
    },
    {
     "data": {
      "text/plain": [
       "(54854.03454256928,[-0.829827,1.07027,1.30937,12.09,-1.19783,-1.20323,11.0712],:XTOL_REACHED,118)"
      ]
     },
     "execution_count": 54,
     "metadata": {},
     "output_type": "execute_result"
    }
   ],
   "source": [
    "begin\n",
    "    k_spatiotemporal = k_spatiotemporal_5\n",
    "    chunks=GP[]\n",
    "    chunk_width=24*10\n",
    "    tstart=0.0\n",
    "    tend=tstart+chunk_width\n",
    "    nobsv=0\n",
    "    while tstart < get(maximum(hourly_cat[:ts_hours]))\n",
    "        in_chunk=(tstart .<= hourly_cat[:ts_hours].values) & (hourly_cat[:ts_hours].values .< tend)\n",
    "        hourly_chunk = hourly_cat[in_chunk,:]\n",
    "        nobsv_chunk = sum(in_chunk)\n",
    "        nobsv += nobsv_chunk\n",
    "\n",
    "        chunk_X_PRJ = isdSubset[:X_PRJ].values[hourly_chunk[:station].values]\n",
    "        chunk_Y_PRJ = isdSubset[:Y_PRJ].values[hourly_chunk[:station].values]\n",
    "        chunk_X = [hourly_chunk[:ts_hours].values chunk_X_PRJ chunk_Y_PRJ]\n",
    "\n",
    "        y = hourly_chunk[:temp].values\n",
    "        chunk = GP(chunk_X', y, MeanConst(mean(y)), k_spatiotemporal, -1.0)\n",
    "        push!(chunks, chunk)\n",
    "\n",
    "        tstart=tend\n",
    "        tend+=chunk_width\n",
    "    end\n",
    "    reals = TempModel.GPRealisations(chunks)\n",
    "    update_mll_and_dmll!(reals, mean=false)\n",
    "\n",
    "    @time opt_out=optimize_NLopt(reals, method=:LD_MMA, mean=false, \n",
    "        x_tol=1e-4, \n",
    "        f_tol=1e-10, \n",
    "        show_trace=true)\n",
    "end        "
   ]
  },
  {
   "cell_type": "code",
   "execution_count": 57,
   "metadata": {
    "collapsed": false
   },
   "outputs": [
    {
     "data": {
      "image/png": "[encoded data removed]",
      "text/plain": [
       "PyPlot.Figure(PyObject <matplotlib.figure.Figure object at 0x322bd70d0>)"
      ]
     },
     "metadata": {},
     "output_type": "display_data"
    },
    {
     "data": {
      "text/plain": [
       "1-element Array{Any,1}:\n",
       " PyObject <matplotlib.lines.Line2D object at 0x322c80750>"
      ]
     },
     "execution_count": 57,
     "metadata": {},
     "output_type": "execute_result"
    }
   ],
   "source": [
    "hyp = opt_out[2]\n",
    "rr = linspace(0.0, 24*14, 24*14*4+1)\n",
    "ck_r = [cov(k_spatiotemporal_5, [0.0,0.0,0.0], [r,0.0,0.0]) for r in rr]\n",
    "plt.plot(rr/24.0, exp(2.0*hyp[1])+ck_r[1].-ck_r, label=\"fitted variogram\")"
   ]
  },
  {
   "cell_type": "markdown",
   "metadata": {},
   "source": [
    "# Merging diurnal component"
   ]
  },
  {
   "cell_type": "code",
   "execution_count": 68,
   "metadata": {
    "collapsed": false
   },
   "outputs": [
    {
     "data": {
      "text/plain": [
       "Type: GaussianProcesses.FixedKern, Params: [0.0,-1.0]\n"
      ]
     },
     "execution_count": 68,
     "metadata": {},
     "output_type": "execute_result"
    }
   ],
   "source": [
    "k_periodic = fix(Periodic(log(1.0), -1.0, log(24.0)), :lp)"
   ]
  },
  {
   "cell_type": "code",
   "execution_count": 69,
   "metadata": {
    "collapsed": false
   },
   "outputs": [
    {
     "data": {
      "text/plain": [
       "Type: GaussianProcesses.SumKernel\n",
       "  Type: GaussianProcesses.ProdKernel\n",
       "    Type: GaussianProcesses.Masked{GaussianProcesses.SumKernel}, Params: [0.996764,1.3169,0.0,-1.0]\n",
       "    Type: GaussianProcesses.Masked{GaussianProcesses.FixedKern}, Params: [12.0803]\n",
       "  Type: GaussianProcesses.FixedKern, Params: Float64[]\n"
      ]
     },
     "execution_count": 69,
     "metadata": {},
     "output_type": "execute_result"
    }
   ],
   "source": [
    "k_spatiotemporal_6 = Masked(k_time + k_periodic, [1]) * Masked(k_spatial, [2,3]) + \n",
    "    fix(Masked(k_means, [2,3]))"
   ]
  },
  {
   "cell_type": "code",
   "execution_count": 70,
   "metadata": {
    "collapsed": false
   },
   "outputs": [
    {
     "name": "stdout",
     "output_type": "stream",
     "text": [
      "[13039.7,-6377.62,1072.04,-87.8863,132.316,-1510.57]\n",
      "Iter     Function value   Gradient norm \n",
      "     0     5.664311e+04     1.303967e+04\n",
      "     1     5.570998e+04     3.594115e+03\n",
      "     2     5.556901e+04     1.306949e+03\n",
      "     3     5.554197e+04     2.667508e+02\n",
      "     4     5.554070e+04     1.413115e+02\n",
      "     5     5.553747e+04     2.246180e+02\n",
      "     6     5.552231e+04     1.071390e+03\n",
      "Base.LinAlg.PosDefException(165)\n",
      "     7     5.503239e+04     3.303242e+03\n",
      "     8     5.502410e+04     3.181339e+03\n",
      "     9     5.484744e+04     1.630686e+03\n",
      "    10     5.475881e+04     3.693840e+02\n",
      "    11     5.474460e+04     5.653335e+02\n",
      "    12     5.474035e+04     3.079222e+02\n",
      "    13     5.473238e+04     1.875233e+02\n",
      "    14     5.472493e+04     6.165645e+02\n",
      "    15     5.471275e+04     5.415417e+02\n",
      "    16     5.469578e+04     7.855823e+01\n",
      "    17     5.469564e+04     4.785853e+01\n",
      "    18     5.469554e+04     3.561604e+01\n",
      "    19     5.469541e+04     3.930413e+01\n",
      "    20     5.469539e+04     2.476969e+01\n",
      "    21     5.469531e+04     2.289864e+01\n",
      "    22     5.469529e+04     2.847305e+01\n",
      "    23     5.469525e+04     8.643678e+00\n",
      "    24     5.469525e+04     1.424101e+01\n",
      "    25     5.469524e+04     6.442362e+00\n",
      "    26     5.469524e+04     4.152655e+00\n",
      "    27     5.469524e+04     2.472577e+00\n",
      "    28     5.469524e+04     4.119527e+00\n",
      "    29     5.469524e+04     4.046741e+00\n",
      "    30     5.469524e+04     1.941303e+00\n",
      "    31     5.469524e+04     2.869608e+00\n",
      "    32     5.469524e+04     1.156217e+00\n",
      "    33     5.469524e+04     4.400756e-01\n",
      "1560.501691 seconds (29.79 M allocations: 426.224 GB, 6.76% gc time)\n"
     ]
    },
    {
     "data": {
      "text/plain": [
       "Results of Optimization Algorithm\n",
       " * Algorithm: Conjugate Gradient\n",
       " * Starting Point: [-1.0,0.9967642229284615, ...]\n",
       " * Minimizer: [-0.8197628248470579,1.0512357347914791, ...]\n",
       " * Minimum: 5.469524e+04\n",
       " * Iterations: 33\n",
       " * Convergence: true\n",
       "   * |x - x'| < 1.0e-04: true\n",
       "   * |f(x) - f(x')| / |f(x)| < 1.0e-10: false\n",
       "   * |g(x)| < 1.0e-08: false\n",
       "   * Reached Maximum Number of Iterations: false\n",
       " * Objective Function Calls: 112\n",
       " * Gradient Calls: 78"
      ]
     },
     "execution_count": 70,
     "metadata": {},
     "output_type": "execute_result"
    }
   ],
   "source": [
    "begin\n",
    "    global opt_out\n",
    "    k_spatiotemporal = k_spatiotemporal_6\n",
    "    chunks=GP[]\n",
    "    chunk_width=24*10\n",
    "    tstart=0.0\n",
    "    tend=tstart+chunk_width\n",
    "    nobsv=0\n",
    "    while tstart < get(maximum(hourly_cat[:ts_hours]))\n",
    "        in_chunk=(tstart .<= hourly_cat[:ts_hours].values) & (hourly_cat[:ts_hours].values .< tend)\n",
    "        hourly_chunk = hourly_cat[in_chunk,:]\n",
    "        nobsv_chunk = sum(in_chunk)\n",
    "        nobsv += nobsv_chunk\n",
    "\n",
    "        chunk_X_PRJ = isdSubset[:X_PRJ].values[hourly_chunk[:station].values]\n",
    "        chunk_Y_PRJ = isdSubset[:Y_PRJ].values[hourly_chunk[:station].values]\n",
    "        chunk_X = [hourly_chunk[:ts_hours].values chunk_X_PRJ chunk_Y_PRJ]\n",
    "\n",
    "        y = hourly_chunk[:temp].values\n",
    "        chunk = GP(chunk_X', y, MeanConst(mean(y)), k_spatiotemporal, -1.0)\n",
    "        push!(chunks, chunk)\n",
    "\n",
    "        tstart=tend\n",
    "        tend+=chunk_width\n",
    "    end\n",
    "    reals = TempModel.GPRealisations(chunks)\n",
    "    update_mll_and_dmll!(reals, mean=false)\n",
    "    println(reals.dmLL)\n",
    "    @time opt_out=optimize!(reals, method=ConjugateGradient(), \n",
    "        mean=false, \n",
    "        show_trace=true, \n",
    "        x_tol=1e-4, \n",
    "        f_tol=1e-10)\n",
    "end"
   ]
  },
  {
   "cell_type": "code",
   "execution_count": 71,
   "metadata": {
    "collapsed": false,
    "scrolled": true
   },
   "outputs": [
    {
     "name": "stdout",
     "output_type": "stream",
     "text": [
      "[-0.819763,1.05124,1.17443,-0.434307,0.514778,12.0078]"
     ]
    }
   ],
   "source": [
    "print(Optim.minimizer(opt_out))"
   ]
  },
  {
   "cell_type": "code",
   "execution_count": 72,
   "metadata": {
    "collapsed": false
   },
   "outputs": [
    {
     "name": "stdout",
     "output_type": "stream",
     "text": [
      "54695.23698830655"
     ]
    }
   ],
   "source": [
    "print(Optim.minimum(opt_out))"
   ]
  },
  {
   "cell_type": "code",
   "execution_count": 73,
   "metadata": {
    "collapsed": false
   },
   "outputs": [
    {
     "name": "stdout",
     "output_type": "stream",
     "text": [
      "\n",
      "k: Temporal kernel \n",
      "=================\n",
      "σ: 3.236\n",
      "l: 2.861 hours\n",
      "\n",
      "k: Spatial kernel \n",
      "=================\n",
      "σ: 1.000\n",
      "l: 164029.503 meters\n",
      "\n",
      "k: Periodic kernel \n",
      "=================\n",
      "σ: 1.673\n",
      "l: 0.648 hours\n",
      "\n",
      "=================\n",
      "σy: 0.441\n"
     ]
    }
   ],
   "source": [
    "print(\"\\nk: Temporal kernel \\n=================\\n\")\n",
    "@printf(\"σ: %5.3f\\n\", √k_time.σ2)\n",
    "@printf(\"l: %5.3f hours\\n\", √k_time.ℓ2)\n",
    "print(\"\\nk: Spatial kernel \\n=================\\n\")\n",
    "@printf(\"σ: %5.3f\\n\", √k_spatial.kern.σ2)\n",
    "@printf(\"l: %5.3f meters\\n\", √k_spatial.kern.ℓ2)\n",
    "print(\"\\nk: Periodic kernel \\n=================\\n\")\n",
    "@printf(\"σ: %5.3f\\n\", √k_periodic.kern.σ2)\n",
    "@printf(\"l: %5.3f hours\\n\", √k_periodic.kern.ℓ2)\n",
    "print(\"\\n=================\\n\")\n",
    "@printf(\"σy: %5.3f\\n\", exp(reals.logNoise))"
   ]
  },
  {
   "cell_type": "code",
   "execution_count": 74,
   "metadata": {
    "collapsed": false
   },
   "outputs": [
    {
     "data": {
      "image/png": "[encoded data removed]",
      "text/plain": [
       "PyPlot.Figure(PyObject <matplotlib.figure.Figure object at 0x318f14b10>)"
      ]
     },
     "metadata": {},
     "output_type": "display_data"
    },
    {
     "data": {
      "text/plain": [
       "1-element Array{Any,1}:\n",
       " PyObject <matplotlib.lines.Line2D object at 0x31920f3d0>"
      ]
     },
     "execution_count": 74,
     "metadata": {},
     "output_type": "execute_result"
    }
   ],
   "source": [
    "hyp = Optim.minimizer(opt_out)\n",
    "rr = linspace(0.0, 24*14, 24*14*4+1)\n",
    "ck_r = [cov(k_spatiotemporal_6, [0.0,0.0,0.0], [r,0.0,0.0]) for r in rr]\n",
    "plt.plot(rr/24.0, exp(2.0*hyp[1])+ck_r[1].-ck_r, label=\"fitted variogram\")"
   ]
  },
  {
   "cell_type": "markdown",
   "metadata": {},
   "source": [
    "## Try to get diurnal decay back in there"
   ]
  },
  {
   "cell_type": "code",
   "execution_count": 76,
   "metadata": {
    "collapsed": false
   },
   "outputs": [
    {
     "data": {
      "text/plain": [
       "1-element Array{Float64,1}:\n",
       " 12.0078"
      ]
     },
     "execution_count": 76,
     "metadata": {},
     "output_type": "execute_result"
    }
   ],
   "source": [
    "get_params(k_spatial)"
   ]
  },
  {
   "cell_type": "code",
   "execution_count": 79,
   "metadata": {
    "collapsed": false
   },
   "outputs": [],
   "source": [
    "k_periodic = fix(Periodic(log(5.0), -2.0, log(24.0)), :lp)\n",
    "k_diurndecay = fix(SEIso(log(10^5), 0.0), :lσ)\n",
    "k_spatiotemporal_7 = Masked(k_time, [1]) * Masked(k_spatial, [2,3]) + \n",
    "    fix(Masked(k_means, [2,3])) +\n",
    "    Masked(k_periodic, [1]) * Masked(k_diurndecay, [2,3])\n",
    "hyp7 = [1.05124,1.17443,12.0078,-0.434307,0.514778,12.0078]\n",
    "set_params!(k_spatiotemporal_7, hyp7)"
   ]
  },
  {
   "cell_type": "code",
   "execution_count": 81,
   "metadata": {
    "collapsed": false
   },
   "outputs": [
    {
     "name": "stdout",
     "output_type": "stream",
     "text": [
      "[13455.3,-5667.47,1229.24,-1676.54,-639.378,154.869,189.864]\n",
      "Iter     Function value   Gradient norm \n",
      "     0     5.584447e+04     1.345534e+04\n",
      "     1     5.481184e+04     2.800753e+03\n",
      "     2     5.471073e+04     1.026957e+03\n",
      "     3     5.468586e+04     3.087447e+02\n",
      "     4     5.468195e+04     2.963383e+02\n",
      "     5     5.466665e+04     5.208109e+02\n",
      "     6     5.464338e+04     7.998406e+02\n",
      "     7     5.459024e+04     8.893337e+02\n",
      "     8     5.455531e+04     9.063317e+02\n",
      "     9     5.452738e+04     6.374108e+02\n",
      "    10     5.449648e+04     5.869602e+02\n",
      "    11     5.448506e+04     4.123155e+02\n",
      "    12     5.448264e+04     1.207996e+02\n",
      "    13     5.448157e+04     1.598916e+02\n",
      "    14     5.448032e+04     2.120986e+02\n",
      "    15     5.447908e+04     1.255378e+02\n",
      "    16     5.447840e+04     1.394887e+02\n",
      "    17     5.447725e+04     1.825321e+02\n",
      "    18     5.447538e+04     2.077514e+02\n",
      "    19     5.447424e+04     1.561706e+02\n",
      "    20     5.447342e+04     7.496725e+01\n",
      "    21     5.447319e+04     5.334350e+01\n",
      "    22     5.447303e+04     6.220132e+01\n",
      "    23     5.447290e+04     3.516775e+01\n",
      "    24     5.447288e+04     1.402852e+01\n",
      "    25     5.447287e+04     1.019914e+01\n",
      "    26     5.447287e+04     1.593233e+01\n",
      "    27     5.447286e+04     1.128438e+01\n",
      "    28     5.447286e+04     1.072575e+01\n",
      "    29     5.447285e+04     2.152948e+01\n",
      "    30     5.447283e+04     2.817374e+01\n",
      "    31     5.447279e+04     3.004880e+01\n",
      "    32     5.447275e+04     3.387754e+01\n",
      "    33     5.447272e+04     1.850135e+01\n",
      "    34     5.447270e+04     2.287797e+01\n",
      "    35     5.447268e+04     2.187910e+01\n",
      "    36     5.447266e+04     1.157814e+01\n",
      "    37     5.447265e+04     1.458539e+01\n",
      "    38     5.447263e+04     2.906380e+01\n",
      "    39     5.447257e+04     4.728590e+01\n",
      "    40     5.447252e+04     3.260156e+01\n",
      "    41     5.447245e+04     3.611884e+01\n",
      "    42     5.447236e+04     5.520758e+01\n",
      "    43     5.447229e+04     3.006005e+01\n",
      "    44     5.447224e+04     2.239404e+01\n",
      "    45     5.447222e+04     1.432697e+01\n",
      "    46     5.447221e+04     1.577352e+01\n",
      "    47     5.447220e+04     1.431231e+01\n",
      "    48     5.447220e+04     6.411616e+00\n",
      "    49     5.447220e+04     3.436144e+00\n",
      "    50     5.447220e+04     4.071419e+00\n",
      "    51     5.447220e+04     3.201067e+00\n",
      "    52     5.447220e+04     1.432768e+00\n",
      "    53     5.447220e+04     1.554279e+00\n",
      "2604.230510 seconds (17.74 G allocations: 738.041 GB, 7.43% gc time)\n"
     ]
    },
    {
     "data": {
      "text/plain": [
       "Results of Optimization Algorithm\n",
       " * Algorithm: Conjugate Gradient\n",
       " * Starting Point: [-1.0,1.05124, ...]\n",
       " * Minimizer: [-0.8233695273867054,1.0277560755255644, ...]\n",
       " * Minimum: 5.447220e+04\n",
       " * Iterations: 53\n",
       " * Convergence: true\n",
       "   * |x - x'| < 1.0e-04: true\n",
       "   * |f(x) - f(x')| / |f(x)| < 1.0e-10: false\n",
       "   * |g(x)| < 1.0e-08: false\n",
       "   * Reached Maximum Number of Iterations: false\n",
       " * Objective Function Calls: 167\n",
       " * Gradient Calls: 113"
      ]
     },
     "execution_count": 81,
     "metadata": {},
     "output_type": "execute_result"
    }
   ],
   "source": [
    "begin\n",
    "    global opt_out\n",
    "    k_spatiotemporal = k_spatiotemporal_7\n",
    "    chunks=GP[]\n",
    "    chunk_width=24*10\n",
    "    tstart=0.0\n",
    "    tend=tstart+chunk_width\n",
    "    nobsv=0\n",
    "    while tstart < get(maximum(hourly_cat[:ts_hours]))\n",
    "        in_chunk=(tstart .<= hourly_cat[:ts_hours].values) & (hourly_cat[:ts_hours].values .< tend)\n",
    "        hourly_chunk = hourly_cat[in_chunk,:]\n",
    "        nobsv_chunk = sum(in_chunk)\n",
    "        nobsv += nobsv_chunk\n",
    "\n",
    "        chunk_X_PRJ = isdSubset[:X_PRJ].values[hourly_chunk[:station].values]\n",
    "        chunk_Y_PRJ = isdSubset[:Y_PRJ].values[hourly_chunk[:station].values]\n",
    "        chunk_X = [hourly_chunk[:ts_hours].values chunk_X_PRJ chunk_Y_PRJ]\n",
    "\n",
    "        y = hourly_chunk[:temp].values\n",
    "        chunk = GP(chunk_X', y, MeanConst(mean(y)), k_spatiotemporal, -1.0)\n",
    "        push!(chunks, chunk)\n",
    "\n",
    "        tstart=tend\n",
    "        tend+=chunk_width\n",
    "    end\n",
    "    reals = TempModel.GPRealisations(chunks)\n",
    "    update_mll_and_dmll!(reals, mean=false)\n",
    "    println(reals.dmLL)\n",
    "    @time opt_out=optimize!(reals, method=ConjugateGradient(), \n",
    "        mean=false, \n",
    "        show_trace=true, \n",
    "        x_tol=1e-4, \n",
    "        f_tol=1e-10)\n",
    "end"
   ]
  },
  {
   "cell_type": "code",
   "execution_count": 82,
   "metadata": {
    "collapsed": false
   },
   "outputs": [
    {
     "name": "stdout",
     "output_type": "stream",
     "text": [
      "[-0.82337,1.02776,1.14186,11.9454,-0.383965,0.858384,14.1618]"
     ]
    }
   ],
   "source": [
    "print(Optim.minimizer(opt_out))"
   ]
  },
  {
   "cell_type": "code",
   "execution_count": 83,
   "metadata": {
    "collapsed": false
   },
   "outputs": [
    {
     "name": "stdout",
     "output_type": "stream",
     "text": [
      "\n",
      "k: Temporal kernel \n",
      "=================\n",
      "σ: 3.133\n",
      "l: 2.795 hours\n",
      "\n",
      "k: Spatial kernel \n",
      "=================\n",
      "σ: 1.000\n",
      "l: 154112.883 meters\n",
      "\n",
      "k: Periodic kernel \n",
      "=================\n",
      "σ: 2.359\n",
      "l: 0.681 hours\n",
      "\n",
      "k: Periodic decay \n",
      "=================\n",
      "σ: 1.000 (constrained to 1)\n",
      "l: 1413853.556 meters\n",
      "\n",
      "=================\n",
      "σy: 0.439\n"
     ]
    }
   ],
   "source": [
    "print(\"\\nk: Temporal kernel \\n=================\\n\")\n",
    "@printf(\"σ: %5.3f\\n\", √k_time.σ2)\n",
    "@printf(\"l: %5.3f hours\\n\", √k_time.ℓ2)\n",
    "print(\"\\nk: Spatial kernel \\n=================\\n\")\n",
    "@printf(\"σ: %5.3f\\n\", √k_spatial.kern.σ2)\n",
    "@printf(\"l: %5.3f meters\\n\", √k_spatial.kern.ℓ2)\n",
    "print(\"\\nk: Periodic kernel \\n=================\\n\")\n",
    "@printf(\"σ: %5.3f\\n\", √k_periodic.kern.σ2)\n",
    "@printf(\"l: %5.3f hours\\n\", √k_periodic.kern.ℓ2)\n",
    "print(\"\\nk: Periodic decay \\n=================\\n\")\n",
    "@printf(\"σ: %5.3f (constrained to 1)\\n\", √k_diurndecay.kern.σ2)\n",
    "@printf(\"l: %5.3f meters\\n\", √k_diurndecay.kern.ℓ2)\n",
    "print(\"\\n=================\\n\")\n",
    "@printf(\"σy: %5.3f\\n\", exp(reals.logNoise))"
   ]
  },
  {
   "cell_type": "code",
   "execution_count": 84,
   "metadata": {
    "collapsed": false
   },
   "outputs": [
    {
     "data": {
      "image/png": "[encoded data removed]",
      "text/plain": [
       "PyPlot.Figure(PyObject <matplotlib.figure.Figure object at 0x3226c5c50>)"
      ]
     },
     "metadata": {},
     "output_type": "display_data"
    },
    {
     "data": {
      "text/plain": [
       "1-element Array{Any,1}:\n",
       " PyObject <matplotlib.lines.Line2D object at 0x3222b9650>"
      ]
     },
     "execution_count": 84,
     "metadata": {},
     "output_type": "execute_result"
    }
   ],
   "source": [
    "rr = linspace(0.0, 24*14, 24*14*4)\n",
    "hyp = Optim.minimizer(opt_out)\n",
    "ck_r = [cov(k_spatiotemporal_6, [0.0,0.0,0.0], [r,0.0,0.0]) for r in rr]\n",
    "plt.plot(rr/24.0, exp(2.0*hyp[1])+ck_r[1].-ck_r, label=\"fitted variogram\")"
   ]
  }
 ],
 "metadata": {
  "kernelspec": {
   "display_name": "Julia 0.5.1",
   "language": "julia",
   "name": "julia-0.5.1"
  },
  "language_info": {
   "file_extension": ".jl",
   "mimetype": "application/julia",
   "name": "julia",
   "version": "0.5.1"
  },
  "nav_menu": {},
  "toc": {
   "navigate_menu": true,
   "number_sections": true,
   "sideBar": true,
   "threshold": 6,
   "toc_cell": true,
   "toc_section_display": "block",
   "toc_window_display": true
  },
  "toc_position": {
   "height": "930px",
   "left": "0px",
   "right": "1065px",
   "top": "106px",
   "width": "212px"
  }
 },
 "nbformat": 4,
 "nbformat_minor": 1
}
