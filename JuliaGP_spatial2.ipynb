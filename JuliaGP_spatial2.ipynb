{
 "cells": [
  {
   "cell_type": "markdown",
   "metadata": {
    "toc": "true"
   },
   "source": [
    "# Table of Contents\n",
    " <p><div class=\"lev1 toc-item\"><a href=\"#Data-Import-and-Preprocessing\" data-toc-modified-id=\"Data-Import-and-Preprocessing-1\"><span class=\"toc-item-num\">1&nbsp;&nbsp;</span>Data Import and Preprocessing</a></div><div class=\"lev2 toc-item\"><a href=\"#Distances\" data-toc-modified-id=\"Distances-1.1\"><span class=\"toc-item-num\">1.1&nbsp;&nbsp;</span>Distances</a></div><div class=\"lev1 toc-item\"><a href=\"#Modifications-of-the-spatiotemporal-kernel\" data-toc-modified-id=\"Modifications-of-the-spatiotemporal-kernel-2\"><span class=\"toc-item-num\">2&nbsp;&nbsp;</span>Modifications of the spatiotemporal kernel</a></div><div class=\"lev2 toc-item\"><a href=\"#Allowing-for-mean-variation\" data-toc-modified-id=\"Allowing-for-mean-variation-2.1\"><span class=\"toc-item-num\">2.1&nbsp;&nbsp;</span>Allowing for mean variation</a></div><div class=\"lev1 toc-item\"><a href=\"#Adding-a-diurnal-component\" data-toc-modified-id=\"Adding-a-diurnal-component-3\"><span class=\"toc-item-num\">3&nbsp;&nbsp;</span>Adding a diurnal component</a></div>"
   ]
  },
  {
   "cell_type": "code",
   "execution_count": 2,
   "metadata": {
    "collapsed": false
   },
   "outputs": [],
   "source": [
    "using TimeSeries\n",
    "using DataFrames\n",
    "using GaussianProcesses\n",
    "using GaussianProcesses: Mean, Kernel, evaluate, metric, IsotropicData, VecF64\n",
    "using GaussianProcesses: Stationary, KernelData, MatF64\n",
    "import GaussianProcesses: optimize!, get_optim_target, cov, grad_slice!\n",
    "import GaussianProcesses: num_params, set_params!, get_params, update_mll!, update_mll_and_dmll!\n",
    "import GaussianProcesses: get_param_names, cov!, addcov!, multcov!\n",
    "import Proj4\n",
    "using Optim\n",
    "using Distances\n",
    ";"
   ]
  },
  {
   "cell_type": "code",
   "execution_count": 3,
   "metadata": {
    "collapsed": false
   },
   "outputs": [],
   "source": [
    "import PyPlot; plt=PyPlot\n",
    "using LaTeXStrings\n",
    "plt.rc(\"figure\", dpi=300.0)\n",
    "# plt.rc(\"figure\", figsize=(6,4))\n",
    "plt.rc(\"savefig\", dpi=300.0)\n",
    "plt.rc(\"text\", usetex=true)\n",
    "plt.rc(\"font\", family=\"serif\")\n",
    "plt.rc(\"font\", serif=\"Palatino\")\n",
    ";"
   ]
  },
  {
   "cell_type": "markdown",
   "metadata": {},
   "source": [
    "# Data Import and Preprocessing"
   ]
  },
  {
   "cell_type": "code",
   "execution_count": 4,
   "metadata": {
    "collapsed": false
   },
   "outputs": [
    {
     "data": {
      "text/plain": [
       "test_data (generic function with 1 method)"
      ]
     },
     "execution_count": 4,
     "metadata": {},
     "output_type": "execute_result"
    }
   ],
   "source": [
    "include(\"src/preprocessing.jl\")"
   ]
  },
  {
   "cell_type": "code",
   "execution_count": 5,
   "metadata": {
    "collapsed": false
   },
   "outputs": [
    {
     "ename": "LoadError",
     "evalue": "LoadError: LoadError: UndefVarError: Mamba not defined\nwhile loading /Users/imolk/Documents/Harvard/Natesh/temperature_model/src/stan_impute.jl, in expression starting on line 480\nwhile loading /Users/imolk/Documents/Harvard/Natesh/temperature_model/src/TempModel.jl, in expression starting on line 9",
     "output_type": "error",
     "traceback": [
      "LoadError: LoadError: UndefVarError: Mamba not defined\nwhile loading /Users/imolk/Documents/Harvard/Natesh/temperature_model/src/stan_impute.jl, in expression starting on line 480\nwhile loading /Users/imolk/Documents/Harvard/Natesh/temperature_model/src/TempModel.jl, in expression starting on line 9",
      "",
      " in include_from_node1(::String) at ./loading.jl:488",
      " in include_from_node1(::String) at /Users/imolk/.julia/juliav0.5/usr/lib/julia/sys.dylib:?",
      " in include_from_node1(::String) at ./loading.jl:488",
      " in include_from_node1(::String) at /Users/imolk/.julia/juliav0.5/usr/lib/julia/sys.dylib:?"
     ]
    }
   ],
   "source": [
    "include(\"src/TempModel.jl\")"
   ]
  },
  {
   "cell_type": "code",
   "execution_count": 6,
   "metadata": {
    "collapsed": false
   },
   "outputs": [
    {
     "data": {
      "text/html": [
       "<table class=\"data-frame\"><tr><th></th><th>USAF</th><th>WBAN</th><th>NAME</th><th>CTRY</th><th>STATE</th><th>ICAO</th><th>LAT</th><th>LON</th><th>ELEV</th><th>BEGIN</th><th>END</th><th>X_PRJ</th><th>Y_PRJ</th></tr><tr><th>1</th><td>10010</td><td>99999</td><td>JAN MAYEN(NOR-NAVY)</td><td>NO</td><td></td><td>ENJA</td><td>70.933</td><td>-8.667</td><td>9.0</td><td>1931</td><td>2015</td><td>4.5545e6</td><td>6.11344e6</td></tr><tr><th>2</th><td>10060</td><td>99999</td><td>EDGEOYA</td><td>NO</td><td></td><td></td><td>78.25</td><td>22.817</td><td>14.0</td><td>1973</td><td>2015</td><td>4.04982e6</td><td>7.5564e6</td></tr><tr><th>3</th><td>10070</td><td>99999</td><td>NY-ALESUND</td><td>SV</td><td></td><td></td><td>78.917</td><td>11.933</td><td>7.7</td><td>1973</td><td>2015</td><td>3.8678e6</td><td>7.26549e6</td></tr><tr><th>4</th><td>10080</td><td>99999</td><td>LONGYEAR</td><td>SV</td><td></td><td>ENSB</td><td>78.246</td><td>15.466</td><td>26.8</td><td>1975</td><td>2015</td><td>3.99705e6</td><td>7.33669e6</td></tr><tr><th>5</th><td>10090</td><td>99999</td><td>KARL XII OYA</td><td>SV</td><td></td><td></td><td>80.65</td><td>25.0</td><td>5.0</td><td>1955</td><td>2015</td><td>3.69259e6</td><td>7.68545e6</td></tr></table>"
      ],
      "text/plain": [
       "5×13 DataFrames.DataFrame\n",
       "│ Row │ USAF  │ WBAN  │ NAME                │ CTRY │ STATE │ ICAO │ LAT    │\n",
       "├─────┼───────┼───────┼─────────────────────┼──────┼───────┼──────┼────────┤\n",
       "│ 1   │ 10010 │ 99999 │ JAN MAYEN(NOR-NAVY) │ NO   │       │ ENJA │ 70.933 │\n",
       "│ 2   │ 10060 │ 99999 │ EDGEOYA             │ NO   │       │      │ 78.25  │\n",
       "│ 3   │ 10070 │ 99999 │ NY-ALESUND          │ SV   │       │      │ 78.917 │\n",
       "│ 4   │ 10080 │ 99999 │ LONGYEAR            │ SV   │       │ ENSB │ 78.246 │\n",
       "│ 5   │ 10090 │ 99999 │ KARL XII OYA        │ SV   │       │      │ 80.65  │\n",
       "\n",
       "│ Row │ LON    │ ELEV │ BEGIN │ END  │ X_PRJ     │ Y_PRJ     │\n",
       "├─────┼────────┼──────┼───────┼──────┼───────────┼───────────┤\n",
       "│ 1   │ -8.667 │ 9.0  │ 1931  │ 2015 │ 4.5545e6  │ 6.11344e6 │\n",
       "│ 2   │ 22.817 │ 14.0 │ 1973  │ 2015 │ 4.04982e6 │ 7.5564e6  │\n",
       "│ 3   │ 11.933 │ 7.7  │ 1973  │ 2015 │ 3.8678e6  │ 7.26549e6 │\n",
       "│ 4   │ 15.466 │ 26.8 │ 1975  │ 2015 │ 3.99705e6 │ 7.33669e6 │\n",
       "│ 5   │ 25.0   │ 5.0  │ 1955  │ 2015 │ 3.69259e6 │ 7.68545e6 │"
      ]
     },
     "execution_count": 6,
     "metadata": {},
     "output_type": "execute_result"
    }
   ],
   "source": [
    "isdList=read_isdList()\n",
    "isdList[1:5,:]"
   ]
  },
  {
   "cell_type": "code",
   "execution_count": 7,
   "metadata": {
    "collapsed": false
   },
   "outputs": [
    {
     "data": {
      "text/html": [
       "<table class=\"data-frame\"><tr><th></th><th>USAF</th><th>WBAN</th><th>NAME</th><th>CTRY</th><th>STATE</th><th>ICAO</th><th>LAT</th><th>LON</th><th>ELEV</th><th>BEGIN</th><th>END</th><th>X_PRJ</th><th>Y_PRJ</th></tr><tr><th>1</th><td>725450</td><td>14990</td><td>THE EASTERN IOWA AIRPORT</td><td>US</td><td>IA</td><td>KCID</td><td>41.883</td><td>-91.717</td><td>264.6</td><td>1973</td><td>2015</td><td>1.64799e6</td><td>1.0441e6</td></tr><tr><th>2</th><td>725460</td><td>14933</td><td>DES MOINES INTERNATIONAL AIRPORT</td><td>US</td><td>IA</td><td>KDSM</td><td>41.534</td><td>-93.653</td><td>291.7</td><td>1973</td><td>2015</td><td>1.48723e6</td><td>1.00379e6</td></tr><tr><th>3</th><td>725480</td><td>94910</td><td>WATERLOO MUNICIPAL AIRPORT</td><td>US</td><td>IA</td><td>KALO</td><td>42.554</td><td>-92.401</td><td>264.6</td><td>1960</td><td>2015</td><td>1.59025e6</td><td>1.11766e6</td></tr><tr><th>4</th><td>725485</td><td>14940</td><td>MASON CITY MUNICIPAL ARPT</td><td>US</td><td>IA</td><td>KMCW</td><td>43.154</td><td>-93.327</td><td>373.4</td><td>1973</td><td>2015</td><td>1.51407e6</td><td>1.18374e6</td></tr></table>"
      ],
      "text/plain": [
       "4×13 DataFrames.DataFrame\n",
       "│ Row │ USAF   │ WBAN  │ NAME                             │ CTRY │ STATE │\n",
       "├─────┼────────┼───────┼──────────────────────────────────┼──────┼───────┤\n",
       "│ 1   │ 725450 │ 14990 │ THE EASTERN IOWA AIRPORT         │ US   │ IA    │\n",
       "│ 2   │ 725460 │ 14933 │ DES MOINES INTERNATIONAL AIRPORT │ US   │ IA    │\n",
       "│ 3   │ 725480 │ 94910 │ WATERLOO MUNICIPAL AIRPORT       │ US   │ IA    │\n",
       "│ 4   │ 725485 │ 14940 │ MASON CITY MUNICIPAL ARPT        │ US   │ IA    │\n",
       "\n",
       "│ Row │ ICAO │ LAT    │ LON     │ ELEV  │ BEGIN │ END  │ X_PRJ     │ Y_PRJ     │\n",
       "├─────┼──────┼────────┼─────────┼───────┼───────┼──────┼───────────┼───────────┤\n",
       "│ 1   │ KCID │ 41.883 │ -91.717 │ 264.6 │ 1973  │ 2015 │ 1.64799e6 │ 1.0441e6  │\n",
       "│ 2   │ KDSM │ 41.534 │ -93.653 │ 291.7 │ 1973  │ 2015 │ 1.48723e6 │ 1.00379e6 │\n",
       "│ 3   │ KALO │ 42.554 │ -92.401 │ 264.6 │ 1960  │ 2015 │ 1.59025e6 │ 1.11766e6 │\n",
       "│ 4   │ KMCW │ 43.154 │ -93.327 │ 373.4 │ 1973  │ 2015 │ 1.51407e6 │ 1.18374e6 │"
      ]
     },
     "execution_count": 7,
     "metadata": {},
     "output_type": "execute_result"
    }
   ],
   "source": [
    "isdSubset=isdList[[(usaf in (725450,725460,725480,725485)) for usaf in isdList[:USAF].values],:]\n",
    "isdSubset"
   ]
  },
  {
   "cell_type": "code",
   "execution_count": 8,
   "metadata": {
    "collapsed": false
   },
   "outputs": [
    {
     "data": {
      "text/html": [
       "<table class=\"data-frame\"><tr><th></th><th>year</th><th>month</th><th>day</th><th>hour</th><th>min</th><th>seconds</th><th>temp</th><th>ts</th><th>station</th><th>ts_hours</th></tr><tr><th>1</th><td>2015</td><td>1</td><td>1</td><td>0</td><td>52</td><td>0</td><td>-7.8</td><td>2015-01-01T00:52:00</td><td>1</td><td>0.866667</td></tr><tr><th>2</th><td>2015</td><td>1</td><td>1</td><td>1</td><td>52</td><td>0</td><td>-8.3</td><td>2015-01-01T01:52:00</td><td>1</td><td>1.86667</td></tr><tr><th>3</th><td>2015</td><td>1</td><td>1</td><td>2</td><td>52</td><td>0</td><td>-8.3</td><td>2015-01-01T02:52:00</td><td>1</td><td>2.86667</td></tr><tr><th>4</th><td>2015</td><td>1</td><td>1</td><td>3</td><td>52</td><td>0</td><td>-9.4</td><td>2015-01-01T03:52:00</td><td>1</td><td>3.86667</td></tr><tr><th>5</th><td>2015</td><td>1</td><td>1</td><td>4</td><td>52</td><td>0</td><td>-9.4</td><td>2015-01-01T04:52:00</td><td>1</td><td>4.86667</td></tr></table>"
      ],
      "text/plain": [
       "5×10 DataFrames.DataFrame\n",
       "│ Row │ year │ month │ day │ hour │ min │ seconds │ temp │ ts                  │\n",
       "├─────┼──────┼───────┼─────┼──────┼─────┼─────────┼──────┼─────────────────────┤\n",
       "│ 1   │ 2015 │ 1     │ 1   │ 0    │ 52  │ 0       │ -7.8 │ 2015-01-01T00:52:00 │\n",
       "│ 2   │ 2015 │ 1     │ 1   │ 1    │ 52  │ 0       │ -8.3 │ 2015-01-01T01:52:00 │\n",
       "│ 3   │ 2015 │ 1     │ 1   │ 2    │ 52  │ 0       │ -8.3 │ 2015-01-01T02:52:00 │\n",
       "│ 4   │ 2015 │ 1     │ 1   │ 3    │ 52  │ 0       │ -9.4 │ 2015-01-01T03:52:00 │\n",
       "│ 5   │ 2015 │ 1     │ 1   │ 4    │ 52  │ 0       │ -9.4 │ 2015-01-01T04:52:00 │\n",
       "\n",
       "│ Row │ station │ ts_hours │\n",
       "├─────┼─────────┼──────────┤\n",
       "│ 1   │ 1       │ 0.866667 │\n",
       "│ 2   │ 1       │ 1.86667  │\n",
       "│ 3   │ 1       │ 2.86667  │\n",
       "│ 4   │ 1       │ 3.86667  │\n",
       "│ 5   │ 1       │ 4.86667  │"
      ]
     },
     "execution_count": 8,
     "metadata": {},
     "output_type": "execute_result"
    }
   ],
   "source": [
    "hourly_cat=read_Stations(isdSubset)\n",
    "hourly_cat[1:5,:]"
   ]
  },
  {
   "cell_type": "markdown",
   "metadata": {},
   "source": [
    "## Distances"
   ]
  },
  {
   "cell_type": "markdown",
   "metadata": {},
   "source": [
    "To get distances between stations, we can either use a function to compute distances on a sphere, or we can first project the coordinates onto a Euclidean plane, and then compute normal distances. I'll do it both ways to check they're consistent (equal up to a multiplication constant), and then use Euclidean distances for convenience."
   ]
  },
  {
   "cell_type": "code",
   "execution_count": 9,
   "metadata": {
    "collapsed": false
   },
   "outputs": [
    {
     "data": {
      "text/plain": [
       "distance_on_unit_sphere (generic function with 1 method)"
      ]
     },
     "execution_count": 9,
     "metadata": {},
     "output_type": "execute_result"
    }
   ],
   "source": [
    "# http://www.johndcook.com/blog/python_longitude_latitude/\n",
    "function distance_on_unit_sphere(lat1, long1, lat2, long2)\n",
    " \n",
    "    # Convert latitude and longitude to \n",
    "    # spherical coordinates in radians.\n",
    "    degrees_to_radians = π/180.0\n",
    "         \n",
    "    # phi = 90 - latitude\n",
    "    phi1 = (90.0 - lat1)*degrees_to_radians\n",
    "    phi2 = (90.0 - lat2)*degrees_to_radians\n",
    "         \n",
    "    # theta = longitude\n",
    "    theta1 = long1*degrees_to_radians\n",
    "    theta2 = long2*degrees_to_radians\n",
    "         \n",
    "    # Compute spherical distance from spherical coordinates.\n",
    "         \n",
    "    # For two locations in spherical coordinates \n",
    "    # (1, theta, phi) and (1, theta', phi')\n",
    "    # cosine( arc length ) = \n",
    "    #    sin phi sin phi' cos(theta-theta') + cos phi cos phi'\n",
    "    # distance = rho * arc length\n",
    "     \n",
    "    cosangle = (sin(phi1)*sin(phi2)*cos(theta1 - theta2) +\n",
    "           cos(phi1)*cos(phi2))\n",
    "    arc = acos( cosangle )\n",
    " \n",
    "    # Remember to multiply arc by the radius of the earth \n",
    "    # in your favorite set of units to get length.\n",
    "    return arc\n",
    "end"
   ]
  },
  {
   "cell_type": "code",
   "execution_count": 10,
   "metadata": {
    "collapsed": false
   },
   "outputs": [
    {
     "data": {
      "text/plain": [
       "4×4 Array{Float64,2}:\n",
       " 0.0        0.0259496  0.0146736  0.0303475\n",
       " 0.0259496  0.0        0.024088   0.0285853\n",
       " 0.0146736  0.024088   0.0        0.0158124\n",
       " 0.0303475  0.0285853  0.0158124  0.0      "
      ]
     },
     "execution_count": 10,
     "metadata": {},
     "output_type": "execute_result"
    }
   ],
   "source": [
    "numstations = nrow(isdSubset)\n",
    "pairwiseSphere = zeros(numstations, numstations)\n",
    "for i in 1:numstations\n",
    "    for j in 1:i\n",
    "        if i==j\n",
    "            continue\n",
    "        end\n",
    "        station1 = isdSubset[i,:]\n",
    "        station2 = isdSubset[j,:]\n",
    "        lat1= get(station1[1,:LAT])\n",
    "        lon1 = get(station1[1,:LON])\n",
    "        lat2 = get(station2[1,:LAT])\n",
    "        lon2 = get(station2[1,:LON])\n",
    "        pairwiseSphere[i,j] = distance_on_unit_sphere(lat1, lon1, lat2, lon2)\n",
    "        pairwiseSphere[j,i] = pairwiseSphere[i,j]\n",
    "    end\n",
    "end\n",
    "pairwiseSphere"
   ]
  },
  {
   "cell_type": "code",
   "execution_count": 11,
   "metadata": {
    "collapsed": false
   },
   "outputs": [
    {
     "data": {
      "text/plain": [
       "4×4 Array{Float64,2}:\n",
       "      0.0        165736.0        93510.4        1.93474e5\n",
       " 165736.0             0.0            1.53559e5  1.81942e5\n",
       "  93510.4             1.53559e5      0.0        1.00846e5\n",
       "      1.93474e5       1.81942e5      1.00846e5  0.0      "
      ]
     },
     "execution_count": 11,
     "metadata": {},
     "output_type": "execute_result"
    }
   ],
   "source": [
    "pairwiseEuclid=pairwise(Euclidean(), Matrix(isdSubset[[:X_PRJ,:Y_PRJ]])')"
   ]
  },
  {
   "cell_type": "markdown",
   "metadata": {},
   "source": [
    "Ratio of the two distance matrices: close enough to a constant!"
   ]
  },
  {
   "cell_type": "code",
   "execution_count": 12,
   "metadata": {
    "collapsed": false
   },
   "outputs": [
    {
     "data": {
      "text/plain": [
       "4×4 Array{Float64,2}:\n",
       " NaN            6.38684e6    6.37271e6    6.37527e6\n",
       "   6.38684e6  NaN            6.37493e6    6.36489e6\n",
       "   6.37271e6    6.37493e6  NaN            6.37765e6\n",
       "   6.37527e6    6.36489e6    6.37765e6  NaN        "
      ]
     },
     "execution_count": 12,
     "metadata": {},
     "output_type": "execute_result"
    }
   ],
   "source": [
    "pairwiseEuclid ./ pairwiseSphere"
   ]
  },
  {
   "cell_type": "markdown",
   "metadata": {},
   "source": [
    "# Modifications of the spatiotemporal kernel"
   ]
  },
  {
   "cell_type": "markdown",
   "metadata": {},
   "source": [
    "We're going to simplify things drastically."
   ]
  },
  {
   "cell_type": "code",
   "execution_count": 13,
   "metadata": {
    "collapsed": false
   },
   "outputs": [
    {
     "data": {
      "text/plain": [
       "Type: GaussianProcesses.SEIso, Params: [0.0,0.0]\n"
      ]
     },
     "execution_count": 13,
     "metadata": {},
     "output_type": "execute_result"
    }
   ],
   "source": [
    "k_time = SEIso(0.0,0.0)"
   ]
  },
  {
   "cell_type": "markdown",
   "metadata": {},
   "source": [
    "## Allowing for mean variation"
   ]
  },
  {
   "cell_type": "code",
   "execution_count": 14,
   "metadata": {
    "collapsed": false
   },
   "outputs": [
    {
     "data": {
      "text/plain": [
       "Type: GaussianProcesses.SEIso, Params: [9.21034,2.30259]\n"
      ]
     },
     "execution_count": 14,
     "metadata": {},
     "output_type": "execute_result"
    }
   ],
   "source": [
    "k_spatial = SEIso(log(2*10^5), log(1.0))\n",
    "k_means = SEIso(log(10^4), log(10.0))"
   ]
  },
  {
   "cell_type": "code",
   "execution_count": 15,
   "metadata": {
    "collapsed": false
   },
   "outputs": [
    {
     "data": {
      "text/plain": [
       "Type: GaussianProcesses.SumKernel\n",
       "  Type: GaussianProcesses.ProdKernel\n",
       "    Type: GaussianProcesses.Masked{GaussianProcesses.SEIso}, Params: [0.0,0.0]\n",
       "    Type: GaussianProcesses.Masked{GaussianProcesses.SEIso}, Params: [12.2061,0.0]\n",
       "  Type: GaussianProcesses.FixedKern, Params: Float64[]\n"
      ]
     },
     "execution_count": 15,
     "metadata": {},
     "output_type": "execute_result"
    }
   ],
   "source": [
    "k_spatiotemporal_1 = Masked(k_time, [1]) * Masked(k_spatial, [2,3]) + \n",
    "    fix(Masked(k_means, [2,3]))"
   ]
  },
  {
   "cell_type": "code",
   "execution_count": 16,
   "metadata": {
    "collapsed": false
   },
   "outputs": [
    {
     "name": "stdout",
     "output_type": "stream",
     "text": [
      "[-2700.87,54918.2,1.01883e5,10177.6,1.01883e5]\n",
      "Iter     Function value   Gradient norm \n",
      "     0     1.271155e+05     1.018831e+05\n",
      "Base.LinAlg.PosDefException(3)\n",
      "     1     8.151657e+04     2.495166e+04\n",
      "     2     5.754880e+04     7.809512e+03\n",
      "     3     5.697336e+04     4.002414e+03\n",
      "     4     5.629485e+04     4.606744e+03\n",
      "     5     5.579323e+04     3.444513e+03\n",
      "     6     5.563954e+04     1.178332e+03\n",
      "     7     5.561938e+04     3.955355e+02\n",
      "     8     5.561500e+04     1.234359e+02\n",
      "434.419816 seconds (9.71 M allocations: 47.524 GB, 2.56% gc time)\n"
     ]
    },
    {
     "data": {
      "text/plain": [
       "Results of Optimization Algorithm\n",
       " * Algorithm: Conjugate Gradient\n",
       " * Starting Point: [0.0,0.0,0.0,12.206072645530174,0.0]\n",
       " * Minimizer: [-0.8206663657481988,0.9954652395759197, ...]\n",
       " * Minimum: 5.561500e+04\n",
       " * Iterations: 8\n",
       " * Convergence: true\n",
       "   * |x - x'| < 1.0e-04: false\n",
       "   * |f(x) - f(x')| / |f(x)| < 1.0e-04: true\n",
       "   * |g(x)| < 1.0e-08: false\n",
       "   * Reached Maximum Number of Iterations: false\n",
       " * Objective Function Calls: 33\n",
       " * Gradient Calls: 21"
      ]
     },
     "execution_count": 16,
     "metadata": {},
     "output_type": "execute_result"
    }
   ],
   "source": [
    "begin\n",
    "    global opt_out\n",
    "    k_spatiotemporal = k_spatiotemporal_1\n",
    "    chunks=GP[]\n",
    "    chunk_width=24*10\n",
    "    tstart=0.0\n",
    "    tend=tstart+chunk_width\n",
    "    nobsv=0\n",
    "    while tstart < get(maximum(hourly_cat[:ts_hours]))\n",
    "        in_chunk=(tstart .<= hourly_cat[:ts_hours].values) & (hourly_cat[:ts_hours].values .< tend)\n",
    "        hourly_chunk = hourly_cat[in_chunk,:]\n",
    "        nobsv_chunk = sum(in_chunk)\n",
    "        nobsv += nobsv_chunk\n",
    "\n",
    "        chunk_X_PRJ = isdSubset[:X_PRJ].values[hourly_chunk[:station].values]\n",
    "        chunk_Y_PRJ = isdSubset[:Y_PRJ].values[hourly_chunk[:station].values]\n",
    "        chunk_X = [hourly_chunk[:ts_hours].values chunk_X_PRJ chunk_Y_PRJ]\n",
    "\n",
    "        y = hourly_chunk[:temp].values\n",
    "        chunk = GP(chunk_X', y, MeanConst(mean(y)), k_spatiotemporal, 0.0)\n",
    "        push!(chunks, chunk)\n",
    "\n",
    "        tstart=tend\n",
    "        tend+=chunk_width\n",
    "    end\n",
    "    reals = TempModel.GPRealisations(chunks)\n",
    "    update_mll_and_dmll!(reals, mean=false)\n",
    "    println(reals.dmLL)\n",
    "    @time opt_out=optimize!(reals, mean=false, show_trace=true, x_tol=1e-4, f_tol=1e-4)\n",
    "end"
   ]
  },
  {
   "cell_type": "code",
   "execution_count": 17,
   "metadata": {
    "collapsed": false
   },
   "outputs": [
    {
     "name": "stdout",
     "output_type": "stream",
     "text": [
      "[-0.820666,0.995465,0.654919,12.0762,0.654919]"
     ]
    }
   ],
   "source": [
    "print(Optim.minimizer(opt_out))"
   ]
  },
  {
   "cell_type": "code",
   "execution_count": 18,
   "metadata": {
    "collapsed": false
   },
   "outputs": [
    {
     "name": "stdout",
     "output_type": "stream",
     "text": [
      "55614.99897704748"
     ]
    }
   ],
   "source": [
    "print(Optim.minimum(opt_out))"
   ]
  },
  {
   "cell_type": "code",
   "execution_count": 20,
   "metadata": {
    "collapsed": false
   },
   "outputs": [
    {
     "name": "stdout",
     "output_type": "stream",
     "text": [
      "\n",
      "k: Temporal kernel \n",
      "=================\n",
      "σ: 1.925\n",
      "l: 2.706 hours\n",
      "\n",
      "k: Spatial kernel \n",
      "=================\n",
      "σ: 1.925\n",
      "l: 175638.738 meters\n",
      "\n",
      "=================\n",
      "σy: 0.440\n"
     ]
    }
   ],
   "source": [
    "print(\"\\nk: Temporal kernel \\n=================\\n\")\n",
    "@printf(\"σ: %5.3f\\n\", √k_time.σ2)\n",
    "@printf(\"l: %5.3f hours\\n\", √k_time.ℓ2)\n",
    "print(\"\\nk: Spatial kernel \\n=================\\n\")\n",
    "@printf(\"σ: %5.3f\\n\", √k_spatial.σ2)\n",
    "@printf(\"l: %5.3f meters\\n\", √k_spatial.ℓ2)\n",
    "print(\"\\n=================\\n\")\n",
    "@printf(\"σy: %5.3f\\n\", exp(reals.logNoise))"
   ]
  },
  {
   "cell_type": "markdown",
   "metadata": {},
   "source": [
    "# Adding a diurnal component"
   ]
  },
  {
   "cell_type": "code",
   "execution_count": 23,
   "metadata": {
    "collapsed": false
   },
   "outputs": [
    {
     "data": {
      "text/plain": [
       "Type: GaussianProcesses.SEIso, Params: [0.0,0.0]\n"
      ]
     },
     "execution_count": 23,
     "metadata": {},
     "output_type": "execute_result"
    }
   ],
   "source": [
    "k_periodic = fix(Periodic(0.0, 0.0, log(24.0)), :lp)\n",
    "k_diurndecay = SEIso(0.0, 0.0)"
   ]
  },
  {
   "cell_type": "code",
   "execution_count": 24,
   "metadata": {
    "collapsed": false
   },
   "outputs": [
    {
     "data": {
      "text/plain": [
       "Type: GaussianProcesses.SumKernel\n",
       "  Type: GaussianProcesses.ProdKernel\n",
       "    Type: GaussianProcesses.Masked{GaussianProcesses.SEIso}, Params: [0.995465,0.654919]\n",
       "    Type: GaussianProcesses.Masked{GaussianProcesses.SEIso}, Params: [12.0762,0.654919]\n",
       "  Type: GaussianProcesses.FixedKern, Params: Float64[]\n",
       "  Type: GaussianProcesses.ProdKernel\n",
       "    Type: GaussianProcesses.Masked{GaussianProcesses.FixedKern}, Params: [0.0,0.0]\n",
       "    Type: GaussianProcesses.Masked{GaussianProcesses.SEIso}, Params: [0.0,0.0]\n"
      ]
     },
     "execution_count": 24,
     "metadata": {},
     "output_type": "execute_result"
    }
   ],
   "source": [
    "k_spatiotemporal_2 = Masked(k_time, [1]) * Masked(k_spatial, [2,3]) + \n",
    "    fix(Masked(k_means, [2,3])) +\n",
    "    Masked(k_periodic, [1]) * Masked(k_diurndecay, [2,3])"
   ]
  },
  {
   "cell_type": "code",
   "execution_count": 25,
   "metadata": {
    "collapsed": false
   },
   "outputs": [
    {
     "name": "stdout",
     "output_type": "stream",
     "text": [
      "[-28371.5,8470.67,-3148.47,3151.29,-3148.47,257.441,-99.5163,0.0,-99.5163]\n",
      "Iter     Function value   Gradient norm \n",
      "     0     6.970102e+04     2.837146e+04\n",
      "     1     6.405081e+04     2.436904e+04\n",
      "     2     5.758611e+04     1.338141e+04\n",
      "     3     5.601555e+04     6.178053e+03\n",
      "     4     5.551747e+04     2.373715e+03\n",
      "     5     5.541494e+04     7.851578e+02\n",
      "     6     5.539956e+04     5.122522e+02\n",
      "     7     5.539342e+04     3.108432e+02\n",
      "     8     5.538724e+04     1.289779e+02\n",
      "     9     5.538661e+04     1.720577e+02\n",
      "947.600506 seconds (9.85 M allocations: 105.122 GB, 2.27% gc time)\n"
     ]
    },
    {
     "data": {
      "text/plain": [
       "Results of Optimization Algorithm\n",
       " * Algorithm: Conjugate Gradient\n",
       " * Starting Point: [0.0,0.9954652395759197, ...]\n",
       " * Minimizer: [-0.8274601191080887,0.9964949796569037, ...]\n",
       " * Minimum: 5.538661e+04\n",
       " * Iterations: 9\n",
       " * Convergence: true\n",
       "   * |x - x'| < 1.0e-04: false\n",
       "   * |f(x) - f(x')| / |f(x)| < 1.0e-04: true\n",
       "   * |g(x)| < 1.0e-08: false\n",
       "   * Reached Maximum Number of Iterations: false\n",
       " * Objective Function Calls: 36\n",
       " * Gradient Calls: 27"
      ]
     },
     "execution_count": 25,
     "metadata": {},
     "output_type": "execute_result"
    }
   ],
   "source": [
    "begin\n",
    "    global opt_out\n",
    "    k_spatiotemporal = k_spatiotemporal_2\n",
    "    chunks=GP[]\n",
    "    chunk_width=24*10\n",
    "    tstart=0.0\n",
    "    tend=tstart+chunk_width\n",
    "    nobsv=0\n",
    "    while tstart < get(maximum(hourly_cat[:ts_hours]))\n",
    "        in_chunk=(tstart .<= hourly_cat[:ts_hours].values) & (hourly_cat[:ts_hours].values .< tend)\n",
    "        hourly_chunk = hourly_cat[in_chunk,:]\n",
    "        nobsv_chunk = sum(in_chunk)\n",
    "        nobsv += nobsv_chunk\n",
    "\n",
    "        chunk_X_PRJ = isdSubset[:X_PRJ].values[hourly_chunk[:station].values]\n",
    "        chunk_Y_PRJ = isdSubset[:Y_PRJ].values[hourly_chunk[:station].values]\n",
    "        chunk_X = [hourly_chunk[:ts_hours].values chunk_X_PRJ chunk_Y_PRJ]\n",
    "\n",
    "        y = hourly_chunk[:temp].values\n",
    "        chunk = GP(chunk_X', y, MeanConst(mean(y)), k_spatiotemporal, 0.0)\n",
    "        push!(chunks, chunk)\n",
    "\n",
    "        tstart=tend\n",
    "        tend+=chunk_width\n",
    "    end\n",
    "    reals = TempModel.GPRealisations(chunks)\n",
    "    update_mll_and_dmll!(reals, mean=false)\n",
    "    println(reals.dmLL)\n",
    "    @time opt_out=optimize!(reals, mean=false, show_trace=true, x_tol=1e-4, f_tol=1e-4)\n",
    "end"
   ]
  }
 ],
 "metadata": {
  "kernelspec": {
   "display_name": "Julia 0.5.1",
   "language": "julia",
   "name": "julia-0.5.1"
  },
  "language_info": {
   "file_extension": ".jl",
   "mimetype": "application/julia",
   "name": "julia",
   "version": "0.5.1"
  },
  "nav_menu": {},
  "toc": {
   "navigate_menu": true,
   "number_sections": true,
   "sideBar": true,
   "threshold": 6,
   "toc_cell": true,
   "toc_section_display": "block",
   "toc_window_display": true
  },
  "toc_position": {
   "height": "930px",
   "left": "0px",
   "right": "1065px",
   "top": "106px",
   "width": "212px"
  }
 },
 "nbformat": 4,
 "nbformat_minor": 1
}
