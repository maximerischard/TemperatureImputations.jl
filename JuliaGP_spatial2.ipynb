{
 "cells": [
  {
   "cell_type": "markdown",
   "metadata": {
    "toc": "true"
   },
   "source": [
    "# Table of Contents\n",
    " <p><div class=\"lev1 toc-item\"><a href=\"#Data-Import-and-Preprocessing\" data-toc-modified-id=\"Data-Import-and-Preprocessing-1\"><span class=\"toc-item-num\">1&nbsp;&nbsp;</span>Data Import and Preprocessing</a></div><div class=\"lev2 toc-item\"><a href=\"#Distances\" data-toc-modified-id=\"Distances-1.1\"><span class=\"toc-item-num\">1.1&nbsp;&nbsp;</span>Distances</a></div><div class=\"lev1 toc-item\"><a href=\"#Product-of-SE-kernels\" data-toc-modified-id=\"Product-of-SE-kernels-2\"><span class=\"toc-item-num\">2&nbsp;&nbsp;</span>Product of SE kernels</a></div><div class=\"lev1 toc-item\"><a href=\"#Adding-a-diurnal-component\" data-toc-modified-id=\"Adding-a-diurnal-component-3\"><span class=\"toc-item-num\">3&nbsp;&nbsp;</span>Adding a diurnal component</a></div><div class=\"lev2 toc-item\"><a href=\"#plot-fitted-variogram\" data-toc-modified-id=\"plot-fitted-variogram-3.1\"><span class=\"toc-item-num\">3.1&nbsp;&nbsp;</span>plot fitted variogram</a></div><div class=\"lev2 toc-item\"><a href=\"#Refitting-with-Conjugate-Gradient-Descent\" data-toc-modified-id=\"Refitting-with-Conjugate-Gradient-Descent-3.2\"><span class=\"toc-item-num\">3.2&nbsp;&nbsp;</span>Refitting with Conjugate Gradient Descent</a></div><div class=\"lev2 toc-item\"><a href=\"#Using-NLopt\" data-toc-modified-id=\"Using-NLopt-3.3\"><span class=\"toc-item-num\">3.3&nbsp;&nbsp;</span>Using NLopt</a></div><div class=\"lev2 toc-item\"><a href=\"#LD_MMA\" data-toc-modified-id=\"LD_MMA-3.4\"><span class=\"toc-item-num\">3.4&nbsp;&nbsp;</span>LD_MMA</a></div><div class=\"lev1 toc-item\"><a href=\"#Merging-diurnal-component\" data-toc-modified-id=\"Merging-diurnal-component-4\"><span class=\"toc-item-num\">4&nbsp;&nbsp;</span>Merging diurnal component</a></div><div class=\"lev2 toc-item\"><a href=\"#Try-to-get-diurnal-decay-back-in-there\" data-toc-modified-id=\"Try-to-get-diurnal-decay-back-in-there-4.1\"><span class=\"toc-item-num\">4.1&nbsp;&nbsp;</span>Try to get diurnal decay back in there</a></div>"
   ]
  },
  {
   "cell_type": "markdown",
   "metadata": {},
   "source": [
    "$$\n",
    "    \\newcommand{\\genericdel}[3]{%\n",
    "      \\left#1#3\\right#2\n",
    "    }\n",
    "    \\newcommand{\\del}[1]{\\genericdel(){#1}}\n",
    "    \\newcommand{\\sbr}[1]{\\genericdel[]{#1}}\n",
    "    \\newcommand{\\cbr}[1]{\\genericdel\\{\\}{#1}}\n",
    "    \\newcommand{\\abs}[1]{\\genericdel||{#1}}\n",
    "    \\DeclareMathOperator*{\\argmin}{arg\\,min}\n",
    "    \\DeclareMathOperator*{\\argmax}{arg\\,max}\n",
    "    \\DeclareMathOperator{\\Pr}{\\mathbb{p}}\n",
    "    \\DeclareMathOperator{\\E}{\\mathbb{E}}\n",
    "    \\DeclareMathOperator{\\Ind}{\\mathbb{I}}\n",
    "    \\DeclareMathOperator{\\var}{var}\n",
    "    \\DeclareMathOperator{\\cov}{cov}\n",
    "    \\DeclareMathOperator{\\invchi}{\\mathrm{Inv-\\chi}^2}\n",
    "    \\newcommand{\\effect}{\\mathrm{eff}}\n",
    "    \\newcommand{\\xtilde}{\\widetilde{X}}\n",
    "    \\DeclareMathOperator{\\normal}{\\mathcal{N}}\n",
    "    \\DeclareMathOperator{\\unif}{Uniform}\n",
    "    \\DeclareMathOperator{\\GP}{\\mathcal{GP}}\n",
    "    \\newcommand{\\Tn}{\\mathrm{T}_{n}}\n",
    "    \\newcommand{\\Tx}{\\mathrm{T}_{x}}\n",
    "    \\newcommand{\\station}[1]{\\mathrm{station}\\sbr{#1}}\n",
    "    \\newcommand{\\xvec}{\\mathbf{x}}\n",
    "    \\newcommand{\\indep}{\\perp}\n",
    "    \\newcommand{\\iid}{iid}\n",
    "    \\newcommand{\\trans}{^{\\intercal}}\n",
    "    \\newcommand{\\sigmaf}{\\sigma_{\\mathrm{GP}}}\n",
    "    \\newcommand{\\sigman}{\\sigma_{\\epsilon}}\n",
    "$$"
   ]
  },
  {
   "cell_type": "markdown",
   "metadata": {},
   "source": [
    "In this notebook, we implement the much simpler model:\n",
    "\\begin{align}\n",
    "    k_{st}(\\xvec,\\xvec',t,t') &= k_{time}(t,t') \\cdot k_{space}(\\xvec, \\xvec') + k_{mean}(\\xvec, \\xvec'),,\\\\\n",
    "    k_{space}(\\xvec, \\xvec') &= \\sigmaf^2 \\exp\\del{-\\frac{\\del{\\xvec-\\xvec'}\\trans\\del{\\xvec-\\xvec'}}{2\\ell_x^2}}\\,,\\\\\n",
    "    k_{time}(t, t') &= \\exp\\del{-\\frac{\\del{t-t'}^2}{2\\ell_t^2}}\\,,\\\\\n",
    "    k_{mean}(\\xvec, \\xvec') &= \\sigma_\\mu^2 \\exp\\del{-\\frac{\\del{\\xvec-\\xvec'}\\trans\\del{\\xvec-\\xvec'}}{2\\ell_\\mu^2}}\\,,\\\\\n",
    "\\end{align}\n",
    "\n",
    "\\begin{align}\n",
    "    T_i &= f(\\xvec_i, t_i) + \\epsilon_i\\\\\n",
    "    f(\\xvec_i, t_i) &\\sim \\GP\\del{0, k_{st}(\\xvec,\\xvec',t,t')}\\\\\n",
    "    \\epsilon_i &\\overset{\\iid}{\\sim} \\normal\\del{0,\\sigman^2}\\\\\n",
    "\\end{align}\n",
    "\n",
    "We then add a diurnal component."
   ]
  },
  {
   "cell_type": "code",
   "execution_count": 1,
   "metadata": {
    "collapsed": true
   },
   "outputs": [],
   "source": [
    "using TimeSeries\n",
    "using DataFrames\n",
    "using GaussianProcesses\n",
    "using GaussianProcesses: Mean, Kernel, evaluate, metric, IsotropicData, VecF64\n",
    "using GaussianProcesses: Stationary, KernelData, MatF64\n",
    "import GaussianProcesses: optimize!, get_optim_target, cov, grad_slice!\n",
    "import GaussianProcesses: num_params, set_params!, get_params, update_mll!, update_mll_and_dmll!\n",
    "import GaussianProcesses: get_param_names, cov!, addcov!, multcov!\n",
    "import Proj4\n",
    "using Optim\n",
    "using Distances\n",
    ";"
   ]
  },
  {
   "cell_type": "code",
   "execution_count": 2,
   "metadata": {
    "collapsed": true
   },
   "outputs": [],
   "source": [
    "import PyPlot; plt=PyPlot\n",
    "using LaTeXStrings\n",
    "plt.rc(\"figure\", dpi=300.0)\n",
    "plt.rc(\"figure\", figsize=(6,4))\n",
    "plt.rc(\"savefig\", dpi=300.0)\n",
    "plt.rc(\"text\", usetex=true)\n",
    "plt.rc(\"font\", family=\"serif\")\n",
    "plt.rc(\"font\", serif=\"Palatino\")\n",
    ";"
   ]
  },
  {
   "cell_type": "markdown",
   "metadata": {},
   "source": [
    "# Data Import and Preprocessing"
   ]
  },
  {
   "cell_type": "code",
   "execution_count": 3,
   "metadata": {},
   "outputs": [
    {
     "data": {
      "text/plain": [
       "test_data (generic function with 1 method)"
      ]
     },
     "execution_count": 3,
     "metadata": {},
     "output_type": "execute_result"
    }
   ],
   "source": [
    "include(\"src/preprocessing.jl\")"
   ]
  },
  {
   "cell_type": "code",
   "execution_count": 4,
   "metadata": {},
   "outputs": [
    {
     "data": {
      "text/plain": [
       "TempModel"
      ]
     },
     "execution_count": 4,
     "metadata": {},
     "output_type": "execute_result"
    }
   ],
   "source": [
    "include(\"src/TempModel.jl\")"
   ]
  },
  {
   "cell_type": "code",
   "execution_count": 5,
   "metadata": {},
   "outputs": [
    {
     "data": {
      "text/html": [
       "<table class=\"data-frame\"><tr><th></th><th>USAF</th><th>WBAN</th><th>NAME</th><th>CTRY</th><th>STATE</th><th>ICAO</th><th>LAT</th><th>LON</th><th>ELEV</th><th>BEGIN</th><th>END</th><th>X_PRJ</th><th>Y_PRJ</th></tr><tr><th>1</th><td>10010</td><td>99999</td><td>JAN MAYEN(NOR-NAVY)</td><td>NO</td><td></td><td>ENJA</td><td>70.933</td><td>-8.667</td><td>9.0</td><td>1931</td><td>2015</td><td>4.5545e6</td><td>6.11344e6</td></tr><tr><th>2</th><td>10060</td><td>99999</td><td>EDGEOYA</td><td>NO</td><td></td><td></td><td>78.25</td><td>22.817</td><td>14.0</td><td>1973</td><td>2015</td><td>4.04982e6</td><td>7.5564e6</td></tr><tr><th>3</th><td>10070</td><td>99999</td><td>NY-ALESUND</td><td>SV</td><td></td><td></td><td>78.917</td><td>11.933</td><td>7.7</td><td>1973</td><td>2015</td><td>3.8678e6</td><td>7.26549e6</td></tr><tr><th>4</th><td>10080</td><td>99999</td><td>LONGYEAR</td><td>SV</td><td></td><td>ENSB</td><td>78.246</td><td>15.466</td><td>26.8</td><td>1975</td><td>2015</td><td>3.99705e6</td><td>7.33669e6</td></tr><tr><th>5</th><td>10090</td><td>99999</td><td>KARL XII OYA</td><td>SV</td><td></td><td></td><td>80.65</td><td>25.0</td><td>5.0</td><td>1955</td><td>2015</td><td>3.69259e6</td><td>7.68545e6</td></tr></table>"
      ],
      "text/plain": [
       "5×13 DataFrames.DataFrame\n",
       "│ Row │ USAF  │ WBAN  │ NAME                │ CTRY │ STATE │ ICAO │ LAT    │\n",
       "├─────┼───────┼───────┼─────────────────────┼──────┼───────┼──────┼────────┤\n",
       "│ 1   │ 10010 │ 99999 │ JAN MAYEN(NOR-NAVY) │ NO   │       │ ENJA │ 70.933 │\n",
       "│ 2   │ 10060 │ 99999 │ EDGEOYA             │ NO   │       │      │ 78.25  │\n",
       "│ 3   │ 10070 │ 99999 │ NY-ALESUND          │ SV   │       │      │ 78.917 │\n",
       "│ 4   │ 10080 │ 99999 │ LONGYEAR            │ SV   │       │ ENSB │ 78.246 │\n",
       "│ 5   │ 10090 │ 99999 │ KARL XII OYA        │ SV   │       │      │ 80.65  │\n",
       "\n",
       "│ Row │ LON    │ ELEV │ BEGIN │ END  │ X_PRJ     │ Y_PRJ     │\n",
       "├─────┼────────┼──────┼───────┼──────┼───────────┼───────────┤\n",
       "│ 1   │ -8.667 │ 9.0  │ 1931  │ 2015 │ 4.5545e6  │ 6.11344e6 │\n",
       "│ 2   │ 22.817 │ 14.0 │ 1973  │ 2015 │ 4.04982e6 │ 7.5564e6  │\n",
       "│ 3   │ 11.933 │ 7.7  │ 1973  │ 2015 │ 3.8678e6  │ 7.26549e6 │\n",
       "│ 4   │ 15.466 │ 26.8 │ 1975  │ 2015 │ 3.99705e6 │ 7.33669e6 │\n",
       "│ 5   │ 25.0   │ 5.0  │ 1955  │ 2015 │ 3.69259e6 │ 7.68545e6 │"
      ]
     },
     "execution_count": 5,
     "metadata": {},
     "output_type": "execute_result"
    }
   ],
   "source": [
    "isdList=read_isdList()\n",
    "isdList[1:5,:]"
   ]
  },
  {
   "cell_type": "code",
   "execution_count": 6,
   "metadata": {},
   "outputs": [
    {
     "data": {
      "text/html": [
       "<table class=\"data-frame\"><tr><th></th><th>USAF</th><th>WBAN</th><th>NAME</th><th>CTRY</th><th>STATE</th><th>ICAO</th><th>LAT</th><th>LON</th><th>ELEV</th><th>BEGIN</th><th>END</th><th>X_PRJ</th><th>Y_PRJ</th></tr><tr><th>1</th><td>725450</td><td>14990</td><td>THE EASTERN IOWA AIRPORT</td><td>US</td><td>IA</td><td>KCID</td><td>41.883</td><td>-91.717</td><td>264.6</td><td>1973</td><td>2015</td><td>1.64799e6</td><td>1.0441e6</td></tr><tr><th>2</th><td>725460</td><td>14933</td><td>DES MOINES INTERNATIONAL AIRPORT</td><td>US</td><td>IA</td><td>KDSM</td><td>41.534</td><td>-93.653</td><td>291.7</td><td>1973</td><td>2015</td><td>1.48723e6</td><td>1.00379e6</td></tr><tr><th>3</th><td>725480</td><td>94910</td><td>WATERLOO MUNICIPAL AIRPORT</td><td>US</td><td>IA</td><td>KALO</td><td>42.554</td><td>-92.401</td><td>264.6</td><td>1960</td><td>2015</td><td>1.59025e6</td><td>1.11766e6</td></tr><tr><th>4</th><td>725485</td><td>14940</td><td>MASON CITY MUNICIPAL ARPT</td><td>US</td><td>IA</td><td>KMCW</td><td>43.154</td><td>-93.327</td><td>373.4</td><td>1973</td><td>2015</td><td>1.51407e6</td><td>1.18374e6</td></tr></table>"
      ],
      "text/plain": [
       "4×13 DataFrames.DataFrame\n",
       "│ Row │ USAF   │ WBAN  │ NAME                             │ CTRY │ STATE │\n",
       "├─────┼────────┼───────┼──────────────────────────────────┼──────┼───────┤\n",
       "│ 1   │ 725450 │ 14990 │ THE EASTERN IOWA AIRPORT         │ US   │ IA    │\n",
       "│ 2   │ 725460 │ 14933 │ DES MOINES INTERNATIONAL AIRPORT │ US   │ IA    │\n",
       "│ 3   │ 725480 │ 94910 │ WATERLOO MUNICIPAL AIRPORT       │ US   │ IA    │\n",
       "│ 4   │ 725485 │ 14940 │ MASON CITY MUNICIPAL ARPT        │ US   │ IA    │\n",
       "\n",
       "│ Row │ ICAO │ LAT    │ LON     │ ELEV  │ BEGIN │ END  │ X_PRJ     │ Y_PRJ     │\n",
       "├─────┼──────┼────────┼─────────┼───────┼───────┼──────┼───────────┼───────────┤\n",
       "│ 1   │ KCID │ 41.883 │ -91.717 │ 264.6 │ 1973  │ 2015 │ 1.64799e6 │ 1.0441e6  │\n",
       "│ 2   │ KDSM │ 41.534 │ -93.653 │ 291.7 │ 1973  │ 2015 │ 1.48723e6 │ 1.00379e6 │\n",
       "│ 3   │ KALO │ 42.554 │ -92.401 │ 264.6 │ 1960  │ 2015 │ 1.59025e6 │ 1.11766e6 │\n",
       "│ 4   │ KMCW │ 43.154 │ -93.327 │ 373.4 │ 1973  │ 2015 │ 1.51407e6 │ 1.18374e6 │"
      ]
     },
     "execution_count": 6,
     "metadata": {},
     "output_type": "execute_result"
    }
   ],
   "source": [
    "isdSubset=isdList[[(usaf in (725450,725460,725480,725485)) for usaf in isdList[:USAF].values],:]\n",
    "isdSubset"
   ]
  },
  {
   "cell_type": "code",
   "execution_count": 7,
   "metadata": {},
   "outputs": [
    {
     "data": {
      "text/html": [
       "<table class=\"data-frame\"><tr><th></th><th>year</th><th>month</th><th>day</th><th>hour</th><th>min</th><th>seconds</th><th>temp</th><th>ts</th><th>station</th><th>ts_hours</th></tr><tr><th>1</th><td>2015</td><td>1</td><td>1</td><td>0</td><td>52</td><td>0</td><td>-7.8</td><td>2015-01-01T00:52:00</td><td>1</td><td>0.866667</td></tr><tr><th>2</th><td>2015</td><td>1</td><td>1</td><td>1</td><td>52</td><td>0</td><td>-8.3</td><td>2015-01-01T01:52:00</td><td>1</td><td>1.86667</td></tr><tr><th>3</th><td>2015</td><td>1</td><td>1</td><td>2</td><td>52</td><td>0</td><td>-8.3</td><td>2015-01-01T02:52:00</td><td>1</td><td>2.86667</td></tr><tr><th>4</th><td>2015</td><td>1</td><td>1</td><td>3</td><td>52</td><td>0</td><td>-9.4</td><td>2015-01-01T03:52:00</td><td>1</td><td>3.86667</td></tr><tr><th>5</th><td>2015</td><td>1</td><td>1</td><td>4</td><td>52</td><td>0</td><td>-9.4</td><td>2015-01-01T04:52:00</td><td>1</td><td>4.86667</td></tr></table>"
      ],
      "text/plain": [
       "5×10 DataFrames.DataFrame\n",
       "│ Row │ year │ month │ day │ hour │ min │ seconds │ temp │ ts                  │\n",
       "├─────┼──────┼───────┼─────┼──────┼─────┼─────────┼──────┼─────────────────────┤\n",
       "│ 1   │ 2015 │ 1     │ 1   │ 0    │ 52  │ 0       │ -7.8 │ 2015-01-01T00:52:00 │\n",
       "│ 2   │ 2015 │ 1     │ 1   │ 1    │ 52  │ 0       │ -8.3 │ 2015-01-01T01:52:00 │\n",
       "│ 3   │ 2015 │ 1     │ 1   │ 2    │ 52  │ 0       │ -8.3 │ 2015-01-01T02:52:00 │\n",
       "│ 4   │ 2015 │ 1     │ 1   │ 3    │ 52  │ 0       │ -9.4 │ 2015-01-01T03:52:00 │\n",
       "│ 5   │ 2015 │ 1     │ 1   │ 4    │ 52  │ 0       │ -9.4 │ 2015-01-01T04:52:00 │\n",
       "\n",
       "│ Row │ station │ ts_hours │\n",
       "├─────┼─────────┼──────────┤\n",
       "│ 1   │ 1       │ 0.866667 │\n",
       "│ 2   │ 1       │ 1.86667  │\n",
       "│ 3   │ 1       │ 2.86667  │\n",
       "│ 4   │ 1       │ 3.86667  │\n",
       "│ 5   │ 1       │ 4.86667  │"
      ]
     },
     "execution_count": 7,
     "metadata": {},
     "output_type": "execute_result"
    }
   ],
   "source": [
    "hourly_cat=read_Stations(isdSubset)\n",
    "hourly_cat[1:5,:]"
   ]
  },
  {
   "cell_type": "code",
   "execution_count": 8,
   "metadata": {},
   "outputs": [
    {
     "data": {
      "text/plain": [
       "47864"
      ]
     },
     "execution_count": 8,
     "metadata": {},
     "output_type": "execute_result"
    }
   ],
   "source": [
    "nrow(hourly_cat)"
   ]
  },
  {
   "cell_type": "markdown",
   "metadata": {},
   "source": [
    "## Distances"
   ]
  },
  {
   "cell_type": "markdown",
   "metadata": {},
   "source": [
    "To get distances between stations, we can either use a function to compute distances on a sphere, or we can first project the coordinates onto a Euclidean plane, and then compute normal distances. I'll do it both ways to check they're consistent (equal up to a multiplication constant), and then use Euclidean distances for convenience."
   ]
  },
  {
   "cell_type": "code",
   "execution_count": 9,
   "metadata": {},
   "outputs": [
    {
     "data": {
      "text/plain": [
       "distance_on_unit_sphere (generic function with 1 method)"
      ]
     },
     "execution_count": 9,
     "metadata": {},
     "output_type": "execute_result"
    }
   ],
   "source": [
    "# http://www.johndcook.com/blog/python_longitude_latitude/\n",
    "function distance_on_unit_sphere(lat1, long1, lat2, long2)\n",
    " \n",
    "    # Convert latitude and longitude to \n",
    "    # spherical coordinates in radians.\n",
    "    degrees_to_radians = π/180.0\n",
    "         \n",
    "    # phi = 90 - latitude\n",
    "    phi1 = (90.0 - lat1)*degrees_to_radians\n",
    "    phi2 = (90.0 - lat2)*degrees_to_radians\n",
    "         \n",
    "    # theta = longitude\n",
    "    theta1 = long1*degrees_to_radians\n",
    "    theta2 = long2*degrees_to_radians\n",
    "         \n",
    "    # Compute spherical distance from spherical coordinates.\n",
    "         \n",
    "    # For two locations in spherical coordinates \n",
    "    # (1, theta, phi) and (1, theta', phi')\n",
    "    # cosine( arc length ) = \n",
    "    #    sin phi sin phi' cos(theta-theta') + cos phi cos phi'\n",
    "    # distance = rho * arc length\n",
    "     \n",
    "    cosangle = (sin(phi1)*sin(phi2)*cos(theta1 - theta2) +\n",
    "           cos(phi1)*cos(phi2))\n",
    "    arc = acos( cosangle )\n",
    " \n",
    "    # Remember to multiply arc by the radius of the earth \n",
    "    # in your favorite set of units to get length.\n",
    "    return arc\n",
    "end"
   ]
  },
  {
   "cell_type": "code",
   "execution_count": 10,
   "metadata": {},
   "outputs": [
    {
     "data": {
      "text/plain": [
       "4×4 Array{Float64,2}:\n",
       " 0.0        0.0259496  0.0146736  0.0303475\n",
       " 0.0259496  0.0        0.024088   0.0285853\n",
       " 0.0146736  0.024088   0.0        0.0158124\n",
       " 0.0303475  0.0285853  0.0158124  0.0      "
      ]
     },
     "execution_count": 10,
     "metadata": {},
     "output_type": "execute_result"
    }
   ],
   "source": [
    "numstations = nrow(isdSubset)\n",
    "pairwiseSphere = zeros(numstations, numstations)\n",
    "for i in 1:numstations\n",
    "    for j in 1:i\n",
    "        if i==j\n",
    "            continue\n",
    "        end\n",
    "        station1 = isdSubset[i,:]\n",
    "        station2 = isdSubset[j,:]\n",
    "        lat1= get(station1[1,:LAT])\n",
    "        lon1 = get(station1[1,:LON])\n",
    "        lat2 = get(station2[1,:LAT])\n",
    "        lon2 = get(station2[1,:LON])\n",
    "        pairwiseSphere[i,j] = distance_on_unit_sphere(lat1, lon1, lat2, lon2)\n",
    "        pairwiseSphere[j,i] = pairwiseSphere[i,j]\n",
    "    end\n",
    "end\n",
    "pairwiseSphere"
   ]
  },
  {
   "cell_type": "code",
   "execution_count": 11,
   "metadata": {},
   "outputs": [
    {
     "data": {
      "text/plain": [
       "4×4 Array{Float64,2}:\n",
       "      0.0        165736.0        93510.4        1.93474e5\n",
       " 165736.0             0.0            1.53559e5  1.81942e5\n",
       "  93510.4             1.53559e5      0.0        1.00846e5\n",
       "      1.93474e5       1.81942e5      1.00846e5  0.0      "
      ]
     },
     "execution_count": 11,
     "metadata": {},
     "output_type": "execute_result"
    }
   ],
   "source": [
    "pairwiseEuclid=pairwise(Euclidean(), Matrix(isdSubset[[:X_PRJ,:Y_PRJ]])')"
   ]
  },
  {
   "cell_type": "markdown",
   "metadata": {},
   "source": [
    "Ratio of the two distance matrices: close enough to a constant!"
   ]
  },
  {
   "cell_type": "code",
   "execution_count": 12,
   "metadata": {},
   "outputs": [
    {
     "data": {
      "text/plain": [
       "4×4 Array{Float64,2}:\n",
       " NaN            6.38684e6    6.37271e6    6.37527e6\n",
       "   6.38684e6  NaN            6.37493e6    6.36489e6\n",
       "   6.37271e6    6.37493e6  NaN            6.37765e6\n",
       "   6.37527e6    6.36489e6    6.37765e6  NaN        "
      ]
     },
     "execution_count": 12,
     "metadata": {},
     "output_type": "execute_result"
    }
   ],
   "source": [
    "pairwiseEuclid ./ pairwiseSphere"
   ]
  },
  {
   "cell_type": "markdown",
   "metadata": {},
   "source": [
    "# Product of SE kernels"
   ]
  },
  {
   "cell_type": "markdown",
   "metadata": {},
   "source": [
    "We're going to simplify things drastically."
   ]
  },
  {
   "cell_type": "code",
   "execution_count": 13,
   "metadata": {},
   "outputs": [
    {
     "data": {
      "text/plain": [
       "Type: GaussianProcesses.SEIso, Params: [9.21034,2.30259]\n"
      ]
     },
     "execution_count": 13,
     "metadata": {},
     "output_type": "execute_result"
    }
   ],
   "source": [
    "k_time = SEIso(0.0,0.0)\n",
    "k_spatial = fix(SEIso(log(2*10^5), log(1.0)), :lσ)\n",
    "k_means = SEIso(log(10^4), log(10.0))"
   ]
  },
  {
   "cell_type": "code",
   "execution_count": 14,
   "metadata": {
    "scrolled": true
   },
   "outputs": [
    {
     "data": {
      "text/plain": [
       "Type: GaussianProcesses.SumKernel\n",
       "  Type: GaussianProcesses.ProdKernel\n",
       "    Type: GaussianProcesses.Masked{GaussianProcesses.SEIso}, Params: [0.0,0.0]\n",
       "    Type: GaussianProcesses.Masked{GaussianProcesses.FixedKern}, Params: [12.2061]\n",
       "  Type: GaussianProcesses.FixedKern, Params: Float64[]\n"
      ]
     },
     "execution_count": 14,
     "metadata": {},
     "output_type": "execute_result"
    }
   ],
   "source": [
    "k_spatiotemporal_1 = Masked(k_time, [1]) * Masked(k_spatial, [2,3]) + \n",
    "    fix(Masked(k_means, [2,3]))"
   ]
  },
  {
   "cell_type": "code",
   "execution_count": 15,
   "metadata": {},
   "outputs": [
    {
     "name": "stdout",
     "output_type": "stream",
     "text": [
      "[-2700.87,54918.2,1.01883e5,10177.6]\n",
      "Base.LinAlg.PosDefException(2)\n",
      "Base.LinAlg.PosDefException(4)\n",
      "207.669989 seconds (10.31 M allocations: 50.406 GB, 4.26% gc time)\n"
     ]
    },
    {
     "data": {
      "text/plain": [
       "Results of Optimization Algorithm\n",
       " * Algorithm: Conjugate Gradient\n",
       " * Starting Point: [0.0,0.0,0.0,12.206072645530174]\n",
       " * Minimizer: [-0.822260939639815,0.9968340312288707, ...]\n",
       " * Minimum: 5.561452e+04\n",
       " * Iterations: 13\n",
       " * Convergence: true\n",
       "   * |x - x'| < 1.0e-04: true\n",
       "   * |f(x) - f(x')| / |f(x)| < 1.0e-10: false\n",
       "   * |g(x)| < 1.0e-08: false\n",
       "   * f(x) > f(x'): false\n",
       "   * Reached Maximum Number of Iterations: false\n",
       " * Objective Calls: 35\n",
       " * Gradient Calls: 18"
      ]
     },
     "execution_count": 15,
     "metadata": {},
     "output_type": "execute_result"
    }
   ],
   "source": [
    "begin\n",
    "    global opt_out\n",
    "    k_spatiotemporal = k_spatiotemporal_1\n",
    "    chunks=GP[]\n",
    "    chunk_width=24*10\n",
    "    tstart=0.0\n",
    "    tend=tstart+chunk_width\n",
    "    nobsv=0\n",
    "    while tstart < get(maximum(hourly_cat[:ts_hours]))\n",
    "        in_chunk=(tstart .<= hourly_cat[:ts_hours].values) & (hourly_cat[:ts_hours].values .< tend)\n",
    "        hourly_chunk = hourly_cat[in_chunk,:]\n",
    "        nobsv_chunk = sum(in_chunk)\n",
    "        nobsv += nobsv_chunk\n",
    "\n",
    "        chunk_X_PRJ = isdSubset[:X_PRJ].values[hourly_chunk[:station].values]\n",
    "        chunk_Y_PRJ = isdSubset[:Y_PRJ].values[hourly_chunk[:station].values]\n",
    "        chunk_X = [hourly_chunk[:ts_hours].values chunk_X_PRJ chunk_Y_PRJ]\n",
    "\n",
    "        y = hourly_chunk[:temp].values\n",
    "        chunk = GP(chunk_X', y, MeanConst(mean(y)), k_spatiotemporal, 0.0)\n",
    "        push!(chunks, chunk)\n",
    "\n",
    "        tstart=tend\n",
    "        tend+=chunk_width\n",
    "    end\n",
    "    reals = TempModel.GPRealisations(chunks)\n",
    "    update_mll_and_dmll!(reals, mean=false)\n",
    "    println(reals.dmLL)\n",
    "    @time opt_out=optimize!(reals, mean=false, options=Optim.Options(x_tol=1e-4, f_tol=1e-10))\n",
    "end"
   ]
  },
  {
   "cell_type": "code",
   "execution_count": 16,
   "metadata": {
    "scrolled": true
   },
   "outputs": [
    {
     "name": "stdout",
     "output_type": "stream",
     "text": [
      "[-0.822261,0.996834,1.3172,12.0805]"
     ]
    }
   ],
   "source": [
    "print(Optim.minimizer(opt_out))"
   ]
  },
  {
   "cell_type": "code",
   "execution_count": 17,
   "metadata": {},
   "outputs": [
    {
     "name": "stdout",
     "output_type": "stream",
     "text": [
      "55614.520028908264"
     ]
    }
   ],
   "source": [
    "print(Optim.minimum(opt_out))"
   ]
  },
  {
   "cell_type": "code",
   "execution_count": 18,
   "metadata": {},
   "outputs": [
    {
     "name": "stdout",
     "output_type": "stream",
     "text": [
      "\n",
      "k: Temporal kernel \n",
      "=================\n",
      "σ: 3.733\n",
      "l: 2.710 hours\n",
      "\n",
      "k: Spatial kernel \n",
      "=================\n",
      "σ: 1.000\n",
      "l: 176391.372 meters\n",
      "\n",
      "=================\n",
      "σy: 0.439\n"
     ]
    }
   ],
   "source": [
    "print(\"\\nk: Temporal kernel \\n=================\\n\")\n",
    "@printf(\"σ: %5.3f\\n\", √k_time.σ2)\n",
    "@printf(\"l: %5.3f hours\\n\", √k_time.ℓ2)\n",
    "print(\"\\nk: Spatial kernel \\n=================\\n\")\n",
    "@printf(\"σ: %5.3f\\n\", √k_spatial.kern.σ2)\n",
    "@printf(\"l: %5.3f meters\\n\", √k_spatial.kern.ℓ2)\n",
    "print(\"\\n=================\\n\")\n",
    "@printf(\"σy: %5.3f\\n\", exp(reals.logNoise))"
   ]
  },
  {
   "cell_type": "markdown",
   "metadata": {},
   "source": [
    "# Adding a diurnal component"
   ]
  },
  {
   "cell_type": "code",
   "execution_count": 19,
   "metadata": {},
   "outputs": [
    {
     "data": {
      "text/plain": [
       "Type: GaussianProcesses.FixedKern, Params: [11.5129]\n"
      ]
     },
     "execution_count": 19,
     "metadata": {},
     "output_type": "execute_result"
    }
   ],
   "source": [
    "k_periodic = fix(Periodic(log(5.0), -2.0, log(24.0)), :lp)\n",
    "k_diurndecay = fix(SEIso(log(10^5), 0.0), :lσ)"
   ]
  },
  {
   "cell_type": "code",
   "execution_count": 20,
   "metadata": {},
   "outputs": [
    {
     "data": {
      "text/plain": [
       "Type: GaussianProcesses.SumKernel\n",
       "  Type: GaussianProcesses.ProdKernel\n",
       "    Type: GaussianProcesses.Masked{GaussianProcesses.SEIso}, Params: [0.996834,1.3172]\n",
       "    Type: GaussianProcesses.Masked{GaussianProcesses.FixedKern}, Params: [12.0805]\n",
       "  Type: GaussianProcesses.FixedKern, Params: Float64[]\n",
       "  Type: GaussianProcesses.ProdKernel\n",
       "    Type: GaussianProcesses.Masked{GaussianProcesses.FixedKern}, Params: [1.60944,-2.0]\n",
       "    Type: GaussianProcesses.Masked{GaussianProcesses.FixedKern}, Params: [11.5129]\n"
      ]
     },
     "execution_count": 20,
     "metadata": {},
     "output_type": "execute_result"
    }
   ],
   "source": [
    "k_spatiotemporal_2 = Masked(k_time, [1]) * Masked(k_spatial, [2,3]) + \n",
    "    fix(Masked(k_means, [2,3])) +\n",
    "    Masked(k_periodic, [1]) * Masked(k_diurndecay, [2,3])"
   ]
  },
  {
   "cell_type": "code",
   "execution_count": 21,
   "metadata": {},
   "outputs": [
    {
     "name": "stdout",
     "output_type": "stream",
     "text": [
      "[13064.0,-6434.49,1369.85,-1511.01,-2.47901,2.54381,-2.49076]\n",
      "1354.914642 seconds (22.96 M allocations: 240.427 GB, 2.67% gc time)\n"
     ]
    },
    {
     "data": {
      "text/plain": [
       "Results of Optimization Algorithm\n",
       " * Algorithm: L-BFGS\n",
       " * Starting Point: [-1.0,0.9968340312288707, ...]\n",
       " * Minimizer: [-0.8297836244524519,1.0703150935272736, ...]\n",
       " * Minimum: 5.485403e+04\n",
       " * Iterations: 21\n",
       " * Convergence: true\n",
       "   * |x - x'| < 1.0e-04: true\n",
       "   * |f(x) - f(x')| / |f(x)| < 1.0e-10: true\n",
       "   * |g(x)| < 1.0e-08: false\n",
       "   * f(x) > f(x'): false\n",
       "   * Reached Maximum Number of Iterations: false\n",
       " * Objective Calls: 83\n",
       " * Gradient Calls: 83"
      ]
     },
     "execution_count": 21,
     "metadata": {},
     "output_type": "execute_result"
    }
   ],
   "source": [
    "begin\n",
    "    global opt_out\n",
    "    k_spatiotemporal = k_spatiotemporal_2\n",
    "    chunks=GP[]\n",
    "    chunk_width=24*10\n",
    "    tstart=0.0\n",
    "    tend=tstart+chunk_width\n",
    "    nobsv=0\n",
    "    while tstart < get(maximum(hourly_cat[:ts_hours]))\n",
    "        in_chunk=(tstart .<= hourly_cat[:ts_hours].values) & (hourly_cat[:ts_hours].values .< tend)\n",
    "        hourly_chunk = hourly_cat[in_chunk,:]\n",
    "        nobsv_chunk = sum(in_chunk)\n",
    "        nobsv += nobsv_chunk\n",
    "\n",
    "        chunk_X_PRJ = isdSubset[:X_PRJ].values[hourly_chunk[:station].values]\n",
    "        chunk_Y_PRJ = isdSubset[:Y_PRJ].values[hourly_chunk[:station].values]\n",
    "        chunk_X = [hourly_chunk[:ts_hours].values chunk_X_PRJ chunk_Y_PRJ]\n",
    "\n",
    "        y = hourly_chunk[:temp].values\n",
    "        chunk = GP(chunk_X', y, MeanConst(mean(y)), k_spatiotemporal, -1.0)\n",
    "        push!(chunks, chunk)\n",
    "\n",
    "        tstart=tend\n",
    "        tend+=chunk_width\n",
    "    end\n",
    "    reals = TempModel.GPRealisations(chunks)\n",
    "    update_mll_and_dmll!(reals, mean=false)\n",
    "    println(reals.dmLL)\n",
    "    @time opt_out=optimize!(reals, method=LBFGS(), options=Optim.Options(x_tol=1e-4, f_tol=1e-10), mean=false)\n",
    "end"
   ]
  },
  {
   "cell_type": "code",
   "execution_count": 22,
   "metadata": {},
   "outputs": [
    {
     "name": "stdout",
     "output_type": "stream",
     "text": [
      "54854.03391413766"
     ]
    }
   ],
   "source": [
    "print(Optim.minimum(opt_out))"
   ]
  },
  {
   "cell_type": "code",
   "execution_count": 23,
   "metadata": {},
   "outputs": [
    {
     "name": "stdout",
     "output_type": "stream",
     "text": [
      "[-0.829784,1.07032,1.30931,12.0899,-1.19669,-1.20146,11.0723]"
     ]
    }
   ],
   "source": [
    "print(Optim.minimizer(opt_out))"
   ]
  },
  {
   "cell_type": "code",
   "execution_count": 24,
   "metadata": {},
   "outputs": [
    {
     "name": "stdout",
     "output_type": "stream",
     "text": [
      "\n",
      "k: Temporal kernel \n",
      "=================\n",
      "σ: 3.704\n",
      "l: 2.916 hours\n",
      "\n",
      "k: Spatial kernel \n",
      "=================\n",
      "σ: 1.000\n",
      "l: 178067.124 meters\n",
      "\n",
      "k: Periodic kernel \n",
      "=================\n",
      "σ: 0.301\n",
      "l: 0.302 hours\n",
      "\n",
      "k: Periodic decay \n",
      "=================\n",
      "σ: 1.000 (constrained to 1)\n",
      "l: 64365.294 meters\n",
      "\n",
      "=================\n",
      "σy: 0.436\n"
     ]
    }
   ],
   "source": [
    "print(\"\\nk: Temporal kernel \\n=================\\n\")\n",
    "@printf(\"σ: %5.3f\\n\", √k_time.σ2)\n",
    "@printf(\"l: %5.3f hours\\n\", √k_time.ℓ2)\n",
    "print(\"\\nk: Spatial kernel \\n=================\\n\")\n",
    "@printf(\"σ: %5.3f\\n\", √k_spatial.kern.σ2)\n",
    "@printf(\"l: %5.3f meters\\n\", √k_spatial.kern.ℓ2)\n",
    "print(\"\\nk: Periodic kernel \\n=================\\n\")\n",
    "@printf(\"σ: %5.3f\\n\", √k_periodic.kern.σ2)\n",
    "@printf(\"l: %5.3f hours\\n\", √k_periodic.kern.ℓ2)\n",
    "print(\"\\nk: Periodic decay \\n=================\\n\")\n",
    "@printf(\"σ: %5.3f (constrained to 1)\\n\", √k_diurndecay.kern.σ2)\n",
    "@printf(\"l: %5.3f meters\\n\", √k_diurndecay.kern.ℓ2)\n",
    "print(\"\\n=================\\n\")\n",
    "@printf(\"σy: %5.3f\\n\", exp(reals.logNoise))"
   ]
  },
  {
   "cell_type": "markdown",
   "metadata": {},
   "source": [
    "## plot fitted variogram"
   ]
  },
  {
   "cell_type": "code",
   "execution_count": 25,
   "metadata": {},
   "outputs": [
    {
     "data": {
      "image/png": "[encoded data removed]",
      "text/plain": [
       "PyPlot.Figure(PyObject <matplotlib.figure.Figure object at 0x322c74fd0>)"
      ]
     },
     "metadata": {},
     "output_type": "display_data"
    },
    {
     "data": {
      "text/plain": [
       "1-element Array{Any,1}:\n",
       " PyObject <matplotlib.lines.Line2D object at 0x3234dad50>"
      ]
     },
     "execution_count": 25,
     "metadata": {},
     "output_type": "execute_result"
    }
   ],
   "source": [
    "rr = linspace(0.0, 24*14, 24*14*4)\n",
    "ck_r = [cov(reals.k, [0.0,0.0,0.0], [r,0.0,0.0]) for r in rr]\n",
    "plt.plot(rr/24.0, exp(2.0*reals.logNoise)+ck_r[1].-ck_r, label=\"fitted variogram\")"
   ]
  },
  {
   "cell_type": "markdown",
   "metadata": {},
   "source": [
    "## Refitting with Conjugate Gradient Descent"
   ]
  },
  {
   "cell_type": "code",
   "execution_count": 26,
   "metadata": {},
   "outputs": [
    {
     "data": {
      "text/plain": [
       "Type: GaussianProcesses.FixedKern, Params: [11.5129]\n"
      ]
     },
     "execution_count": 26,
     "metadata": {},
     "output_type": "execute_result"
    }
   ],
   "source": [
    "k_periodic = fix(Periodic(log(5.0), -2.0, log(24.0)), :lp)\n",
    "k_diurndecay = fix(SEIso(log(10^5), 0.0), :lσ)"
   ]
  },
  {
   "cell_type": "code",
   "execution_count": 27,
   "metadata": {},
   "outputs": [
    {
     "data": {
      "text/plain": [
       "Type: GaussianProcesses.SumKernel\n",
       "  Type: GaussianProcesses.ProdKernel\n",
       "    Type: GaussianProcesses.Masked{GaussianProcesses.SEIso}, Params: [1.07032,1.30931]\n",
       "    Type: GaussianProcesses.Masked{GaussianProcesses.FixedKern}, Params: [12.0899]\n",
       "  Type: GaussianProcesses.FixedKern, Params: Float64[]\n",
       "  Type: GaussianProcesses.ProdKernel\n",
       "    Type: GaussianProcesses.Masked{GaussianProcesses.FixedKern}, Params: [1.60944,-2.0]\n",
       "    Type: GaussianProcesses.Masked{GaussianProcesses.FixedKern}, Params: [11.5129]\n"
      ]
     },
     "execution_count": 27,
     "metadata": {},
     "output_type": "execute_result"
    }
   ],
   "source": [
    "k_spatiotemporal_3 = Masked(k_time, [1]) * Masked(k_spatial, [2,3]) + \n",
    "    fix(Masked(k_means, [2,3])) +\n",
    "    Masked(k_periodic, [1]) * Masked(k_diurndecay, [2,3])"
   ]
  },
  {
   "cell_type": "code",
   "execution_count": 28,
   "metadata": {
    "collapsed": true
   },
   "outputs": [],
   "source": [
    "set_params!(k_spatiotemporal_3, [1.07024,1.30932,12.0899,-1.19804,-1.20352,11.0696])"
   ]
  },
  {
   "cell_type": "code",
   "execution_count": 29,
   "metadata": {},
   "outputs": [
    {
     "name": "stdout",
     "output_type": "stream",
     "text": [
      "[12343.9,-5393.91,1154.91,-1331.73,-390.791,156.626,-23.5898]\n",
      "479.453613 seconds (10.05 M allocations: 107.938 GB, 3.50% gc time)\n"
     ]
    },
    {
     "data": {
      "text/plain": [
       "Results of Optimization Algorithm\n",
       " * Algorithm: Conjugate Gradient\n",
       " * Starting Point: [-1.0,1.07024, ...]\n",
       " * Minimizer: [-0.8298955955550338,1.070196274181133, ...]\n",
       " * Minimum: 5.485404e+04\n",
       " * Iterations: 14\n",
       " * Convergence: true\n",
       "   * |x - x'| < 1.0e-04: true\n",
       "   * |f(x) - f(x')| / |f(x)| < 1.0e-10: false\n",
       "   * |g(x)| < 1.0e-08: false\n",
       "   * f(x) > f(x'): false\n",
       "   * Reached Maximum Number of Iterations: false\n",
       " * Objective Calls: 35\n",
       " * Gradient Calls: 21"
      ]
     },
     "execution_count": 29,
     "metadata": {},
     "output_type": "execute_result"
    }
   ],
   "source": [
    "begin\n",
    "    global opt_out\n",
    "    k_spatiotemporal = k_spatiotemporal_3\n",
    "    chunks=GP[]\n",
    "    chunk_width=24*10\n",
    "    tstart=0.0\n",
    "    tend=tstart+chunk_width\n",
    "    nobsv=0\n",
    "    while tstart < get(maximum(hourly_cat[:ts_hours]))\n",
    "        in_chunk=(tstart .<= hourly_cat[:ts_hours].values) & (hourly_cat[:ts_hours].values .< tend)\n",
    "        hourly_chunk = hourly_cat[in_chunk,:]\n",
    "        nobsv_chunk = sum(in_chunk)\n",
    "        nobsv += nobsv_chunk\n",
    "\n",
    "        chunk_X_PRJ = isdSubset[:X_PRJ].values[hourly_chunk[:station].values]\n",
    "        chunk_Y_PRJ = isdSubset[:Y_PRJ].values[hourly_chunk[:station].values]\n",
    "        chunk_X = [hourly_chunk[:ts_hours].values chunk_X_PRJ chunk_Y_PRJ]\n",
    "\n",
    "        y = hourly_chunk[:temp].values\n",
    "        chunk = GP(chunk_X', y, MeanConst(mean(y)), k_spatiotemporal, -1.0)\n",
    "        push!(chunks, chunk)\n",
    "\n",
    "        tstart=tend\n",
    "        tend+=chunk_width\n",
    "    end\n",
    "    reals = TempModel.GPRealisations(chunks)\n",
    "    update_mll_and_dmll!(reals, mean=false)\n",
    "    println(reals.dmLL)\n",
    "    @time opt_out=optimize!(reals, method=ConjugateGradient(), \n",
    "        options=Optim.Options(x_tol=1e-4, f_tol=1e-10),\n",
    "        mean=false)\n",
    "end"
   ]
  },
  {
   "cell_type": "code",
   "execution_count": 30,
   "metadata": {},
   "outputs": [
    {
     "name": "stdout",
     "output_type": "stream",
     "text": [
      "[-0.829896,1.0702,1.30934,12.0899,-1.19903,-1.20496,11.0692]"
     ]
    }
   ],
   "source": [
    "print(Optim.minimizer(opt_out))"
   ]
  },
  {
   "cell_type": "code",
   "execution_count": 31,
   "metadata": {},
   "outputs": [
    {
     "name": "stdout",
     "output_type": "stream",
     "text": [
      "\n",
      "k: Temporal kernel \n",
      "=================\n",
      "σ: 3.704\n",
      "l: 2.916 hours\n",
      "\n",
      "k: Spatial kernel \n",
      "=================\n",
      "σ: 1.000\n",
      "l: 178066.782 meters\n",
      "\n",
      "k: Periodic kernel \n",
      "=================\n",
      "σ: 0.300\n",
      "l: 0.301 hours\n",
      "\n",
      "k: Periodic decay \n",
      "=================\n",
      "σ: 1.000 (constrained to 1)\n",
      "l: 64166.263 meters\n",
      "\n",
      "=================\n",
      "σy: 0.436\n"
     ]
    }
   ],
   "source": [
    "print(\"\\nk: Temporal kernel \\n=================\\n\")\n",
    "@printf(\"σ: %5.3f\\n\", √k_time.σ2)\n",
    "@printf(\"l: %5.3f hours\\n\", √k_time.ℓ2)\n",
    "print(\"\\nk: Spatial kernel \\n=================\\n\")\n",
    "@printf(\"σ: %5.3f\\n\", √k_spatial.kern.σ2)\n",
    "@printf(\"l: %5.3f meters\\n\", √k_spatial.kern.ℓ2)\n",
    "print(\"\\nk: Periodic kernel \\n=================\\n\")\n",
    "@printf(\"σ: %5.3f\\n\", √k_periodic.kern.σ2)\n",
    "@printf(\"l: %5.3f hours\\n\", √k_periodic.kern.ℓ2)\n",
    "print(\"\\nk: Periodic decay \\n=================\\n\")\n",
    "@printf(\"σ: %5.3f (constrained to 1)\\n\", √k_diurndecay.kern.σ2)\n",
    "@printf(\"l: %5.3f meters\\n\", √k_diurndecay.kern.ℓ2)\n",
    "print(\"\\n=================\\n\")\n",
    "@printf(\"σy: %5.3f\\n\", exp(reals.logNoise))"
   ]
  },
  {
   "cell_type": "markdown",
   "metadata": {},
   "source": [
    "## Using NLopt"
   ]
  },
  {
   "cell_type": "code",
   "execution_count": 32,
   "metadata": {},
   "outputs": [
    {
     "name": "stdout",
     "output_type": "stream",
     "text": [
      "456.752485 seconds (10.87 M allocations: 116.395 GB, 4.02% gc time)\n"
     ]
    },
    {
     "data": {
      "text/plain": [
       "(54854.03395575576,[-0.829799,1.0703,1.30935,12.0899,-1.1968,-1.20162,11.0719],:XTOL_REACHED,19)"
      ]
     },
     "execution_count": 32,
     "metadata": {},
     "output_type": "execute_result"
    }
   ],
   "source": [
    "begin\n",
    "    k_spatiotemporal = k_spatiotemporal_2\n",
    "    chunks=GP[]\n",
    "    chunk_width=24*10\n",
    "    tstart=0.0\n",
    "    tend=tstart+chunk_width\n",
    "    nobsv=0\n",
    "    while tstart < get(maximum(hourly_cat[:ts_hours]))\n",
    "        in_chunk=(tstart .<= hourly_cat[:ts_hours].values) & (hourly_cat[:ts_hours].values .< tend)\n",
    "        hourly_chunk = hourly_cat[in_chunk,:]\n",
    "        nobsv_chunk = sum(in_chunk)\n",
    "        nobsv += nobsv_chunk\n",
    "\n",
    "        chunk_X_PRJ = isdSubset[:X_PRJ].values[hourly_chunk[:station].values]\n",
    "        chunk_Y_PRJ = isdSubset[:Y_PRJ].values[hourly_chunk[:station].values]\n",
    "        chunk_X = [hourly_chunk[:ts_hours].values chunk_X_PRJ chunk_Y_PRJ]\n",
    "\n",
    "        y = hourly_chunk[:temp].values\n",
    "        chunk = GP(chunk_X', y, MeanConst(mean(y)), k_spatiotemporal, -1.0)\n",
    "        push!(chunks, chunk)\n",
    "\n",
    "        tstart=tend\n",
    "        tend+=chunk_width\n",
    "    end\n",
    "    reals = TempModel.GPRealisations(chunks)\n",
    "    update_mll_and_dmll!(reals, mean=false)\n",
    "\n",
    "    @time opt_out=TempModel.optimize_NLopt(reals, method=:LD_LBFGS, mean=false, \n",
    "        x_tol=1e-4, \n",
    "        f_tol=1e-10)\n",
    "end        "
   ]
  },
  {
   "cell_type": "markdown",
   "metadata": {},
   "source": [
    "## LD_MMA"
   ]
  },
  {
   "cell_type": "code",
   "execution_count": 33,
   "metadata": {},
   "outputs": [
    {
     "data": {
      "text/plain": [
       "Type: GaussianProcesses.FixedKern, Params: [11.5129]\n"
      ]
     },
     "execution_count": 33,
     "metadata": {},
     "output_type": "execute_result"
    }
   ],
   "source": [
    "k_periodic = fix(Periodic(log(5.0), -2.0, log(24.0)), :lp)\n",
    "k_diurndecay = fix(SEIso(log(10^5), 0.0), :lσ)"
   ]
  },
  {
   "cell_type": "code",
   "execution_count": 34,
   "metadata": {},
   "outputs": [
    {
     "data": {
      "text/plain": [
       "Type: GaussianProcesses.SumKernel\n",
       "  Type: GaussianProcesses.ProdKernel\n",
       "    Type: GaussianProcesses.Masked{GaussianProcesses.SEIso}, Params: [1.0703,1.30935]\n",
       "    Type: GaussianProcesses.Masked{GaussianProcesses.FixedKern}, Params: [12.0899]\n",
       "  Type: GaussianProcesses.FixedKern, Params: Float64[]\n",
       "  Type: GaussianProcesses.ProdKernel\n",
       "    Type: GaussianProcesses.Masked{GaussianProcesses.FixedKern}, Params: [1.60944,-2.0]\n",
       "    Type: GaussianProcesses.Masked{GaussianProcesses.FixedKern}, Params: [11.5129]\n"
      ]
     },
     "execution_count": 34,
     "metadata": {},
     "output_type": "execute_result"
    }
   ],
   "source": [
    "k_spatiotemporal_5 = Masked(k_time, [1]) * Masked(k_spatial, [2,3]) + \n",
    "    fix(Masked(k_means, [2,3])) +\n",
    "    Masked(k_periodic, [1]) * Masked(k_diurndecay, [2,3])"
   ]
  },
  {
   "cell_type": "code",
   "execution_count": 35,
   "metadata": {},
   "outputs": [
    {
     "name": "stdout",
     "output_type": "stream",
     "text": [
      "3390.630422 seconds (75.86 M allocations: 809.748 GB, 3.84% gc time)\n"
     ]
    },
    {
     "data": {
      "text/plain": [
       "(54854.033944511124,[-0.829803,1.0703,1.30935,12.0899,-1.19688,-1.2017,11.072],:XTOL_REACHED,142)"
      ]
     },
     "execution_count": 35,
     "metadata": {},
     "output_type": "execute_result"
    }
   ],
   "source": [
    "begin\n",
    "    k_spatiotemporal = k_spatiotemporal_5\n",
    "    chunks=GP[]\n",
    "    chunk_width=24*10\n",
    "    tstart=0.0\n",
    "    tend=tstart+chunk_width\n",
    "    nobsv=0\n",
    "    while tstart < get(maximum(hourly_cat[:ts_hours]))\n",
    "        in_chunk=(tstart .<= hourly_cat[:ts_hours].values) & (hourly_cat[:ts_hours].values .< tend)\n",
    "        hourly_chunk = hourly_cat[in_chunk,:]\n",
    "        nobsv_chunk = sum(in_chunk)\n",
    "        nobsv += nobsv_chunk\n",
    "\n",
    "        chunk_X_PRJ = isdSubset[:X_PRJ].values[hourly_chunk[:station].values]\n",
    "        chunk_Y_PRJ = isdSubset[:Y_PRJ].values[hourly_chunk[:station].values]\n",
    "        chunk_X = [hourly_chunk[:ts_hours].values chunk_X_PRJ chunk_Y_PRJ]\n",
    "\n",
    "        y = hourly_chunk[:temp].values\n",
    "        chunk = GP(chunk_X', y, MeanConst(mean(y)), k_spatiotemporal, -1.0)\n",
    "        push!(chunks, chunk)\n",
    "\n",
    "        tstart=tend\n",
    "        tend+=chunk_width\n",
    "    end\n",
    "    reals = TempModel.GPRealisations(chunks)\n",
    "    update_mll_and_dmll!(reals, mean=false)\n",
    "\n",
    "    @time opt_out=TempModel.optimize_NLopt(reals, method=:LD_MMA, mean=false, \n",
    "        x_tol=1e-4, \n",
    "        f_tol=1e-10)\n",
    "end        "
   ]
  },
  {
   "cell_type": "code",
   "execution_count": 36,
   "metadata": {},
   "outputs": [
    {
     "data": {
      "image/png": "[encoded data removed]",
      "text/plain": [
       "PyPlot.Figure(PyObject <matplotlib.figure.Figure object at 0x322c84550>)"
      ]
     },
     "metadata": {},
     "output_type": "display_data"
    },
    {
     "data": {
      "text/plain": [
       "1-element Array{Any,1}:\n",
       " PyObject <matplotlib.lines.Line2D object at 0x323464f90>"
      ]
     },
     "execution_count": 36,
     "metadata": {},
     "output_type": "execute_result"
    }
   ],
   "source": [
    "hyp = opt_out[2]\n",
    "rr = linspace(0.0, 24*14, 24*14*4+1)\n",
    "ck_r = [cov(k_spatiotemporal_5, [0.0,0.0,0.0], [r,0.0,0.0]) for r in rr]\n",
    "plt.plot(rr/24.0, exp(2.0*hyp[1])+ck_r[1].-ck_r, label=\"fitted variogram\")"
   ]
  },
  {
   "cell_type": "markdown",
   "metadata": {},
   "source": [
    "# Merging diurnal component"
   ]
  },
  {
   "cell_type": "code",
   "execution_count": 37,
   "metadata": {},
   "outputs": [
    {
     "data": {
      "text/plain": [
       "Type: GaussianProcesses.FixedKern, Params: [0.0,-1.0]\n"
      ]
     },
     "execution_count": 37,
     "metadata": {},
     "output_type": "execute_result"
    }
   ],
   "source": [
    "k_periodic = fix(Periodic(log(1.0), -1.0, log(24.0)), :lp)"
   ]
  },
  {
   "cell_type": "code",
   "execution_count": 38,
   "metadata": {},
   "outputs": [
    {
     "data": {
      "text/plain": [
       "Type: GaussianProcesses.SumKernel\n",
       "  Type: GaussianProcesses.ProdKernel\n",
       "    Type: GaussianProcesses.Masked{GaussianProcesses.SumKernel}, Params: [1.0703,1.30935,0.0,-1.0]\n",
       "    Type: GaussianProcesses.Masked{GaussianProcesses.FixedKern}, Params: [12.0899]\n",
       "  Type: GaussianProcesses.FixedKern, Params: Float64[]\n"
      ]
     },
     "execution_count": 38,
     "metadata": {},
     "output_type": "execute_result"
    }
   ],
   "source": [
    "k_spatiotemporal_6 = Masked(k_time + k_periodic, [1]) * Masked(k_spatial, [2,3]) + \n",
    "    fix(Masked(k_means, [2,3]))"
   ]
  },
  {
   "cell_type": "code",
   "execution_count": 39,
   "metadata": {},
   "outputs": [
    {
     "name": "stdout",
     "output_type": "stream",
     "text": [
      "[16650.6,-11045.2,2237.04,-192.667,158.065,-2183.5]\n",
      "1315.550900 seconds (21.43 M allocations: 293.836 GB, 8.21% gc time)\n"
     ]
    },
    {
     "data": {
      "text/plain": [
       "Results of Optimization Algorithm\n",
       " * Algorithm: Conjugate Gradient\n",
       " * Starting Point: [-1.0,1.070299712602319, ...]\n",
       " * Minimizer: [-0.8197708994222522,1.0512125068421845, ...]\n",
       " * Minimum: 5.469524e+04\n",
       " * Iterations: 32\n",
       " * Convergence: true\n",
       "   * |x - x'| < 1.0e-04: true\n",
       "   * |f(x) - f(x')| / |f(x)| < 1.0e-10: false\n",
       "   * |g(x)| < 1.0e-08: false\n",
       "   * f(x) > f(x'): false\n",
       "   * Reached Maximum Number of Iterations: false\n",
       " * Objective Calls: 77\n",
       " * Gradient Calls: 46"
      ]
     },
     "execution_count": 39,
     "metadata": {},
     "output_type": "execute_result"
    }
   ],
   "source": [
    "begin\n",
    "    global opt_out\n",
    "    k_spatiotemporal = k_spatiotemporal_6\n",
    "    chunks=GP[]\n",
    "    chunk_width=24*10\n",
    "    tstart=0.0\n",
    "    tend=tstart+chunk_width\n",
    "    nobsv=0\n",
    "    while tstart < get(maximum(hourly_cat[:ts_hours]))\n",
    "        in_chunk=(tstart .<= hourly_cat[:ts_hours].values) & (hourly_cat[:ts_hours].values .< tend)\n",
    "        hourly_chunk = hourly_cat[in_chunk,:]\n",
    "        nobsv_chunk = sum(in_chunk)\n",
    "        nobsv += nobsv_chunk\n",
    "\n",
    "        chunk_X_PRJ = isdSubset[:X_PRJ].values[hourly_chunk[:station].values]\n",
    "        chunk_Y_PRJ = isdSubset[:Y_PRJ].values[hourly_chunk[:station].values]\n",
    "        chunk_X = [hourly_chunk[:ts_hours].values chunk_X_PRJ chunk_Y_PRJ]\n",
    "\n",
    "        y = hourly_chunk[:temp].values\n",
    "        chunk = GP(chunk_X', y, MeanConst(mean(y)), k_spatiotemporal, -1.0)\n",
    "        push!(chunks, chunk)\n",
    "\n",
    "        tstart=tend\n",
    "        tend+=chunk_width\n",
    "    end\n",
    "    reals = TempModel.GPRealisations(chunks)\n",
    "    update_mll_and_dmll!(reals, mean=false)\n",
    "    println(reals.dmLL)\n",
    "    @time opt_out=optimize!(reals, method=ConjugateGradient(), \n",
    "        mean=false, \n",
    "        options=Optim.Options(x_tol=1e-4, f_tol=1e-10))\n",
    "end"
   ]
  },
  {
   "cell_type": "code",
   "execution_count": 40,
   "metadata": {
    "scrolled": true
   },
   "outputs": [
    {
     "name": "stdout",
     "output_type": "stream",
     "text": [
      "[-0.819771,1.05121,1.17435,-0.434154,0.51528,12.0077]"
     ]
    }
   ],
   "source": [
    "print(Optim.minimizer(opt_out))"
   ]
  },
  {
   "cell_type": "code",
   "execution_count": 41,
   "metadata": {},
   "outputs": [
    {
     "name": "stdout",
     "output_type": "stream",
     "text": [
      "54695.23735571907"
     ]
    }
   ],
   "source": [
    "print(Optim.minimum(opt_out))"
   ]
  },
  {
   "cell_type": "code",
   "execution_count": 42,
   "metadata": {},
   "outputs": [
    {
     "name": "stdout",
     "output_type": "stream",
     "text": [
      "\n",
      "k: Temporal kernel \n",
      "=================\n",
      "σ: 3.236\n",
      "l: 2.861 hours\n",
      "\n",
      "k: Spatial kernel \n",
      "=================\n",
      "σ: 1.000\n",
      "l: 164013.344 meters\n",
      "\n",
      "k: Periodic kernel \n",
      "=================\n",
      "σ: 1.674\n",
      "l: 0.648 hours\n",
      "\n",
      "=================\n",
      "σy: 0.441\n"
     ]
    }
   ],
   "source": [
    "print(\"\\nk: Temporal kernel \\n=================\\n\")\n",
    "@printf(\"σ: %5.3f\\n\", √k_time.σ2)\n",
    "@printf(\"l: %5.3f hours\\n\", √k_time.ℓ2)\n",
    "print(\"\\nk: Spatial kernel \\n=================\\n\")\n",
    "@printf(\"σ: %5.3f\\n\", √k_spatial.kern.σ2)\n",
    "@printf(\"l: %5.3f meters\\n\", √k_spatial.kern.ℓ2)\n",
    "print(\"\\nk: Periodic kernel \\n=================\\n\")\n",
    "@printf(\"σ: %5.3f\\n\", √k_periodic.kern.σ2)\n",
    "@printf(\"l: %5.3f hours\\n\", √k_periodic.kern.ℓ2)\n",
    "print(\"\\n=================\\n\")\n",
    "@printf(\"σy: %5.3f\\n\", exp(reals.logNoise))"
   ]
  },
  {
   "cell_type": "code",
   "execution_count": 43,
   "metadata": {},
   "outputs": [
    {
     "data": {
      "image/png": "[encoded data removed]",
      "text/plain": [
       "PyPlot.Figure(PyObject <matplotlib.figure.Figure object at 0x32348b690>)"
      ]
     },
     "metadata": {},
     "output_type": "display_data"
    },
    {
     "data": {
      "text/plain": [
       "1-element Array{Any,1}:\n",
       " PyObject <matplotlib.lines.Line2D object at 0x33a2ac1d0>"
      ]
     },
     "execution_count": 43,
     "metadata": {},
     "output_type": "execute_result"
    }
   ],
   "source": [
    "hyp = Optim.minimizer(opt_out)\n",
    "rr = linspace(0.0, 24*14, 24*14*4+1)\n",
    "ck_r = [cov(k_spatiotemporal_6, [0.0,0.0,0.0], [r,0.0,0.0]) for r in rr]\n",
    "plt.plot(rr/24.0, exp(2.0*hyp[1])+ck_r[1].-ck_r, label=\"fitted variogram\")"
   ]
  },
  {
   "cell_type": "markdown",
   "metadata": {},
   "source": [
    "## Try to get diurnal decay back in there"
   ]
  },
  {
   "cell_type": "code",
   "execution_count": 44,
   "metadata": {},
   "outputs": [
    {
     "data": {
      "text/plain": [
       "1-element Array{Float64,1}:\n",
       " 12.0077"
      ]
     },
     "execution_count": 44,
     "metadata": {},
     "output_type": "execute_result"
    }
   ],
   "source": [
    "get_params(k_spatial)"
   ]
  },
  {
   "cell_type": "code",
   "execution_count": 45,
   "metadata": {
    "collapsed": true
   },
   "outputs": [],
   "source": [
    "k_periodic = fix(Periodic(log(5.0), -2.0, log(24.0)), :lp)\n",
    "k_diurndecay = fix(SEIso(log(10^5), 0.0), :lσ)\n",
    "k_spatiotemporal_7 = Masked(k_time, [1]) * Masked(k_spatial, [2,3]) + \n",
    "    fix(Masked(k_means, [2,3])) +\n",
    "    Masked(k_periodic, [1]) * Masked(k_diurndecay, [2,3])\n",
    "hyp7 = [1.05124,1.17443,12.0078,-0.434307,0.514778,12.0078]\n",
    "set_params!(k_spatiotemporal_7, hyp7)"
   ]
  },
  {
   "cell_type": "code",
   "execution_count": 46,
   "metadata": {},
   "outputs": [
    {
     "name": "stdout",
     "output_type": "stream",
     "text": [
      "[13455.3,-5667.47,1229.24,-1676.54,-639.378,154.869,189.864]\n",
      "1335.238120 seconds (30.67 M allocations: 327.783 GB, 4.14% gc time)\n"
     ]
    },
    {
     "data": {
      "text/plain": [
       "Results of Optimization Algorithm\n",
       " * Algorithm: Conjugate Gradient\n",
       " * Starting Point: [-1.0,1.05124, ...]\n",
       " * Minimizer: [-0.8233695273867054,1.0277560755255644, ...]\n",
       " * Minimum: 5.447220e+04\n",
       " * Iterations: 53\n",
       " * Convergence: true\n",
       "   * |x - x'| < 1.0e-04: true\n",
       "   * |f(x) - f(x')| / |f(x)| < 1.0e-10: false\n",
       "   * |g(x)| < 1.0e-08: false\n",
       "   * f(x) > f(x'): false\n",
       "   * Reached Maximum Number of Iterations: false\n",
       " * Objective Calls: 113\n",
       " * Gradient Calls: 60"
      ]
     },
     "execution_count": 46,
     "metadata": {},
     "output_type": "execute_result"
    }
   ],
   "source": [
    "begin\n",
    "    global opt_out\n",
    "    k_spatiotemporal = k_spatiotemporal_7\n",
    "    chunks=GP[]\n",
    "    chunk_width=24*10\n",
    "    tstart=0.0\n",
    "    tend=tstart+chunk_width\n",
    "    nobsv=0\n",
    "    while tstart < get(maximum(hourly_cat[:ts_hours]))\n",
    "        in_chunk=(tstart .<= hourly_cat[:ts_hours].values) & (hourly_cat[:ts_hours].values .< tend)\n",
    "        hourly_chunk = hourly_cat[in_chunk,:]\n",
    "        nobsv_chunk = sum(in_chunk)\n",
    "        nobsv += nobsv_chunk\n",
    "\n",
    "        chunk_X_PRJ = isdSubset[:X_PRJ].values[hourly_chunk[:station].values]\n",
    "        chunk_Y_PRJ = isdSubset[:Y_PRJ].values[hourly_chunk[:station].values]\n",
    "        chunk_X = [hourly_chunk[:ts_hours].values chunk_X_PRJ chunk_Y_PRJ]\n",
    "\n",
    "        y = hourly_chunk[:temp].values\n",
    "        chunk = GP(chunk_X', y, MeanConst(mean(y)), k_spatiotemporal, -1.0)\n",
    "        push!(chunks, chunk)\n",
    "\n",
    "        tstart=tend\n",
    "        tend+=chunk_width\n",
    "    end\n",
    "    reals = TempModel.GPRealisations(chunks)\n",
    "    update_mll_and_dmll!(reals, mean=false)\n",
    "    println(reals.dmLL)\n",
    "    @time opt_out=optimize!(reals, method=ConjugateGradient(), \n",
    "        mean=false, \n",
    "        options=Optim.Options(x_tol=1e-4, f_tol=1e-10))\n",
    "end"
   ]
  },
  {
   "cell_type": "code",
   "execution_count": 47,
   "metadata": {},
   "outputs": [
    {
     "name": "stdout",
     "output_type": "stream",
     "text": [
      "[-0.82337,1.02776,1.14186,11.9454,-0.383965,0.858384,14.1618]"
     ]
    }
   ],
   "source": [
    "print(Optim.minimizer(opt_out))"
   ]
  },
  {
   "cell_type": "code",
   "execution_count": 48,
   "metadata": {},
   "outputs": [
    {
     "name": "stdout",
     "output_type": "stream",
     "text": [
      "\n",
      "k: Temporal kernel \n",
      "=================\n",
      "σ: 3.133\n",
      "l: 2.795 hours\n",
      "\n",
      "k: Spatial kernel \n",
      "=================\n",
      "σ: 1.000\n",
      "l: 154112.883 meters\n",
      "\n",
      "k: Periodic kernel \n",
      "=================\n",
      "σ: 2.359\n",
      "l: 0.681 hours\n",
      "\n",
      "k: Periodic decay \n",
      "=================\n",
      "σ: 1.000 (constrained to 1)\n",
      "l: 1413853.556 meters\n",
      "\n",
      "=================\n",
      "σy: 0.439\n"
     ]
    }
   ],
   "source": [
    "print(\"\\nk: Temporal kernel \\n=================\\n\")\n",
    "@printf(\"σ: %5.3f\\n\", √k_time.σ2)\n",
    "@printf(\"l: %5.3f hours\\n\", √k_time.ℓ2)\n",
    "print(\"\\nk: Spatial kernel \\n=================\\n\")\n",
    "@printf(\"σ: %5.3f\\n\", √k_spatial.kern.σ2)\n",
    "@printf(\"l: %5.3f meters\\n\", √k_spatial.kern.ℓ2)\n",
    "print(\"\\nk: Periodic kernel \\n=================\\n\")\n",
    "@printf(\"σ: %5.3f\\n\", √k_periodic.kern.σ2)\n",
    "@printf(\"l: %5.3f hours\\n\", √k_periodic.kern.ℓ2)\n",
    "print(\"\\nk: Periodic decay \\n=================\\n\")\n",
    "@printf(\"σ: %5.3f (constrained to 1)\\n\", √k_diurndecay.kern.σ2)\n",
    "@printf(\"l: %5.3f meters\\n\", √k_diurndecay.kern.ℓ2)\n",
    "print(\"\\n=================\\n\")\n",
    "@printf(\"σy: %5.3f\\n\", exp(reals.logNoise))"
   ]
  },
  {
   "cell_type": "code",
   "execution_count": 49,
   "metadata": {},
   "outputs": [
    {
     "data": {
      "image/png": "[encoded data removed]",
      "text/plain": [
       "PyPlot.Figure(PyObject <matplotlib.figure.Figure object at 0x33a2e1e50>)"
      ]
     },
     "metadata": {},
     "output_type": "display_data"
    },
    {
     "data": {
      "text/plain": [
       "1-element Array{Any,1}:\n",
       " PyObject <matplotlib.lines.Line2D object at 0x310acb450>"
      ]
     },
     "execution_count": 49,
     "metadata": {},
     "output_type": "execute_result"
    }
   ],
   "source": [
    "rr = linspace(0.0, 24*14, 24*14*4)\n",
    "hyp = Optim.minimizer(opt_out)\n",
    "ck_r = [cov(k_spatiotemporal_6, [0.0,0.0,0.0], [r,0.0,0.0]) for r in rr]\n",
    "plt.plot(rr/24.0, exp(2.0*hyp[1])+ck_r[1].-ck_r, label=\"fitted variogram\")"
   ]
  }
 ],
 "metadata": {
  "hide_input": false,
  "kernelspec": {
   "display_name": "Julia 0.5.1",
   "language": "julia",
   "name": "julia-0.5.1"
  },
  "language_info": {
   "file_extension": ".jl",
   "mimetype": "application/julia",
   "name": "julia",
   "version": "0.5.1"
  },
  "nav_menu": {},
  "toc": {
   "navigate_menu": true,
   "number_sections": true,
   "sideBar": true,
   "threshold": 6,
   "toc_cell": true,
   "toc_section_display": "block",
   "toc_window_display": true
  },
  "toc_position": {
   "height": "930px",
   "left": "0px",
   "right": "1065px",
   "top": "106px",
   "width": "212px"
  }
 },
 "nbformat": 4,
 "nbformat_minor": 1
}
