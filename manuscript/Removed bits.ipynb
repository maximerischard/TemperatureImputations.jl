{
 "cells": [
  {
   "cell_type": "markdown",
   "metadata": {},
   "source": [
    "$$\n",
    "    \\require{cancel}\n",
    "    \\newcommand{\\genericdel}[3]{%\n",
    "      \\left#1#3\\right#2\n",
    "    }\n",
    "    \\newcommand{\\del}[1]{\\genericdel(){#1}}\n",
    "    \\newcommand{\\sbr}[1]{\\genericdel[]{#1}}\n",
    "    \\newcommand{\\cbr}[1]{\\genericdel\\{\\}{#1}}\n",
    "    \\newcommand{\\abs}[1]{\\genericdel||{#1}}\n",
    "    \\DeclareMathOperator*{\\argmin}{arg\\,min}\n",
    "    \\DeclareMathOperator*{\\argmax}{arg\\,max}\n",
    "    \\DeclareMathOperator{\\Pr}{\\mathbb{p}}\n",
    "    \\DeclareMathOperator{\\E}{\\mathbb{E}}\n",
    "    \\DeclareMathOperator{\\Ind}{\\mathbb{I}}\n",
    "    \\DeclareMathOperator{\\var}{Var}\n",
    "    \\DeclareMathOperator{\\mse}{MSE}\n",
    "    \\DeclareMathOperator{\\cov}{Cov}\n",
    "    \\DeclareMathOperator{\\invchi}{\\mathrm{Inv-\\chi}^2}\n",
    "    \\newcommand{\\effect}{\\mathrm{eff}}\n",
    "    \\newcommand{\\xtilde}{\\widetilde{X}}\n",
    "    \\DeclareMathOperator{\\normal}{\\mathcal{N}}\n",
    "    \\DeclareMathOperator{\\unif}{Uniform}\n",
    "    \\DeclareMathOperator{\\GP}{\\mathcal{GP}}\n",
    "    \\newcommand{\\T}{ {T} }\n",
    "    \\newcommand{\\Tn}{\\T_{n}}\n",
    "    \\newcommand{\\Tx}{\\T_{x}}\n",
    "    \\newcommand{\\station}[1]{\\mathrm{station}\\sbr{#1}}\n",
    "    \\newcommand{\\xvec}{\\mathbf{x}}\n",
    "    \\newcommand{\\hvec}{\\mathbf{h}}\n",
    "    \\newcommand{\\indep}{\\perp}\n",
    "    \\newcommand{\\iid}{iid}\n",
    "    \\newcommand{\\trans}{^{\\intercal}}\n",
    "    \\newcommand{\\sigmaf}{\\sigma_{\\mathrm{GP}}}\n",
    "    \\newcommand{\\sigman}{\\sigma_{\\epsilon}}\n",
    "    \\newcommand{\\degreeC}{^\\circ \\mathrm{C}}\n",
    "    \\newcommand{\\miss}{\\mathrm{miss}}\n",
    "    \\newcommand{\\obs}{\\mathrm{nearby}}\n",
    "    \\DeclareMathOperator*{\\softmax}{smoothmax}\n",
    "    \\DeclareMathOperator*{\\softmin}{smoothmin}\n",
    "    \\newcommand{\\error}{\\mathrm{err}}\n",
    "    \\newcommand{\\hour}{ {hr} }\n",
    "    \\DeclareMathOperator{\\kSESE}{k_{\\mathtt{SExSE}}}\n",
    "    \\DeclareMathOperator{\\kdiurn}{k_{\\mathtt{SESE\\_24}}}\n",
    "    \\DeclareMathOperator{\\ksumprod}{k_{\\mathtt{sumprod}}}\n",
    "    \\newcommand{\\iday}{\\mathtt{day}}\n",
    "    \\newcommand{\\dayset}[1]{\\cbr{i}_{#1}}\n",
    "    \\newcommand{\\discrepancy}{\\delta}\n",
    "    \\newcommand{\\Xmax}{X_{\\max}}\n",
    "    \\newcommand{\\Xmin}{X_{\\min}}\n",
    "    \\newcommand{\\Fcond}{F_{X \\mid \\Xmax,\\Xmin}}\n",
    "    \\newcommand{\\pxx}[2]{\\Pr{}_{#1#2}}\n",
    "    \\newcommand{\\pij}{\\pxx{i}{j}}\n",
    "    \\newcommand{\\pisum}{\\pxx{i}{\\bullet}}\n",
    "    \\newcommand{\\psumj}{\\pxx{\\bullet}{j}}\n",
    "    \\newcommand{\\eqlabel}[1]{\\label{#1}}\n",
    "$$"
   ]
  },
  {
   "cell_type": "markdown",
   "metadata": {},
   "source": [
    "# Rationalization of the hour of measurement\n",
    "\n",
    "Fortuitously, our discrepancy measure $\\discrepancy_\\hour$ also admits a Bayesian interpretation: is is proportional to the marginal likelihood of $\\hour$ under (admittedly fanciful) approximating assumptions.\n",
    "Ideally, we would evaluate the marginal likelihood $\\Pr\\del{\\Tn,\\Tx \\mid \\T_\\obs, \\hour}$, and then appeal to Bayes theorem to obtain a posterior on $\\hour$\n",
    "\\begin{equation}\n",
    "    \\Pr\\del{\\hour \\mid \\Tn, \\Tx, \\T_\\obs } \\propto \\Pr\\del{\\Tn,\\Tx \\mid \\T_\\obs, \\hour} \\Pr\\del{\\hour}\\,.\n",
    "\\end{equation}\n",
    "However, marginal likelihoods are notoriously difficult to estimate from posterior samples [cite? Raftery 1994?].\n",
    "The marginal likelihood is the normalizing constant for the posterior distribution of $\\T_\\miss$, and therefore for any $\\T_\\miss$\n",
    "\\begin{equation}\n",
    "\\begin{split}\n",
    "    \\Pr\\del{\\Tn,\\Tx \\mid \\T_\\obs, \\hour} &= \\frac{\n",
    "        \\Pr\\del{\\Tn,\\Tx \\mid \\T_\\miss, \\cancel{\\T_\\obs}, \\cancel{\\hour}} \n",
    "        \\Pr\\del{\\T_\\miss \\mid \\T_\\obs, \\cancel{\\hour}}\n",
    "    } { \n",
    "        \\Pr\\del{\\T_\\miss \\mid \\Tn,\\Tx,\\T_\\obs, \\hour}\n",
    "    }\\,.\n",
    "\\end{split}\n",
    "\\end{equation}\n",
    "The first term in the numerator is either one if the imputed temperatures respect the constraints imposed by $\\Tn$ and $\\Tx$, and zero otherwise.\n",
    "If we assume the constraint is satisfied,\n",
    "pick $\\T_\\miss = \\mu\\del{\\hour}$,\n",
    "and assume that the posterior density evaluated at its mean\n",
    "does not depend heavily on the time of measurement,\n",
    "we obtain that the marginal likelihood is proportional to $\\discrepancy_\\hour$.\n",
    "Both assumptions are fanciful: the posterior mean generally will violate the constraint imposed by $\\Tn$ and $\\Tx$, and therefore the likelihood $\\Pr\\del{\\Tn,\\Tx \\mid \\T_\\miss}$ should in fact be zero. \n",
    "Furthermore, there is no reason to think the posterior density at the posterior mean does not depend on $\\hour$, but we might reasonably hope that the wrongness of this assumption does not overwhelm the signal contained in $\\discrepancy_\\hour$.\n",
    "This reasoning at least confirms that $\\discrepancy_\\hour$ captures information about the likelihood of $\\hour$, and that once renormalized it can be loosely interpreted as a posterior probability under a uniform prior."
   ]
  },
  {
   "cell_type": "markdown",
   "metadata": {},
   "source": [
    "# NYC Conclusion\n",
    "\n",
    "\n",
    "The city is divided into 32 school districts, and attendance to each public school is partially dictated by having a home address in its district.\n",
    "It is commonly believed that some districts have better schools than others, and that parents seeking to place their children in the best schools drive up real estate prices in the districts with better reputations.\n",
    "As a consequence, one would predict that residential property prices per square foot change discontinuously at the district borders, an effect that we seek to detect and estimate.\n",
    "Focusing on the border between districts 19 and 27, we do indeed detect a jump in prices.\n",
    "In this example, the different ATE estimators actually yield very similar estimates, roughly corresponding to a 20% increase in price per square foot from district 19 to 27.\n",
    "While the posterior means agree, the inverse-variance weighted mean does indeed yield the estimate with the highest posterior precision.\n",
    "The three hypothesis tests also substantially agree that there is a significant treatment effect at the border, but they report different $p$-values.\n",
    "The three tests may very well lead to different conclusions in other applied settings.\n",
    "The placebo tests suggest that in this example the test based on the inverse-variance weighted mean is more robust and reliable."
   ]
  },
  {
   "cell_type": "markdown",
   "metadata": {},
   "source": [
    "# NYC averages\n",
    "\n",
    "\\begin{equation}\n",
    "\\begin{split}\n",
    "    \\invvar \\mid Y_\\treat{}, Y_\\ctrol{}, \\sigmaf, \\sigman, \\hat{\\beta}, \\ell, \\sigma_\\mu &\\sim \\normal\\del{-0.19, 0.06^2}\\,\\text{, and} \\\\\n",
    "    \\tauproj \\mid Y_\\treat{}, Y_\\ctrol{}, \\sigmaf, \\sigman, \\hat{\\beta}, \\ell, \\sigma_\\mu &\\sim \\normal\\del{-0.18, 0.08^2}\\,.\n",
    "\\end{split}\n",
    "\\end{equation}"
   ]
  },
  {
   "cell_type": "markdown",
   "metadata": {},
   "source": [
    "# Full Table of Model Diagnoses"
   ]
  },
  {
   "cell_type": "markdown",
   "metadata": {},
   "source": [
    "| Model                           | Log Likelihood | Var(err) | $\\E$(Var(err)) | MSE(err) | $\\E$(MSE(err)) |\n",
    "|---------------------------------|----------------|----------|----------------|----------|----------------|\n",
    "| SE x SE                         | -55,614        | 1.589    | 0.875          | 1.104    | 0.614          |\n",
    "| SExSE + diurnal                 | -54,472        | 1.633    | 0.974          | 1.137    | 0.697          |\n",
    "| Sum of products, fixed variance | -48,589        | 4.991    | 8.791          |          |                |\n",
    "| SoP, fixed temporal, free var   | -47,082        | 1.314    | 2.321          | 1.150    | 0.897          |\n",
    "| SoP, completely free            | -46,184        | 1.423    | 1.765          | 1.152    | 0.950          |\n",
    "| SoP, simpler                    | -45,945        | 1.319    | 1.190          | 1.069    | 0.823          |"
   ]
  }
 ],
 "metadata": {
  "hide_input": false,
  "kernelspec": {
   "display_name": "Julia Klara 0.6.0",
   "language": "julia",
   "name": "julia-klara-v0.6-0.6"
  },
  "language_info": {
   "file_extension": ".jl",
   "mimetype": "application/julia",
   "name": "julia",
   "version": "0.6.0"
  },
  "toc": {
   "colors": {
    "hover_highlight": "#DAA520",
    "running_highlight": "#FF0000",
    "selected_highlight": "#FFD700"
   },
   "moveMenuLeft": true,
   "nav_menu": {
    "height": "31px",
    "width": "252px"
   },
   "navigate_menu": true,
   "number_sections": true,
   "sideBar": true,
   "threshold": 4,
   "toc_cell": false,
   "toc_section_display": "block",
   "toc_window_display": false,
   "widenNotebook": false
  }
 },
 "nbformat": 4,
 "nbformat_minor": 2
}
