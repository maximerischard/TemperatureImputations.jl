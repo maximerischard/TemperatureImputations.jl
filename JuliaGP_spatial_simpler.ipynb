{
 "cells": [
  {
   "cell_type": "markdown",
   "metadata": {
    "toc": "true"
   },
   "source": [
    "# Table of Contents\n",
    " <p><div class=\"lev1 toc-item\"><a href=\"#Data-Import-and-Preprocessing\" data-toc-modified-id=\"Data-Import-and-Preprocessing-1\"><span class=\"toc-item-num\">1&nbsp;&nbsp;</span>Data Import and Preprocessing</a></div><div class=\"lev2 toc-item\"><a href=\"#Distances\" data-toc-modified-id=\"Distances-11\"><span class=\"toc-item-num\">1.1&nbsp;&nbsp;</span>Distances</a></div><div class=\"lev1 toc-item\"><a href=\"#sumprod-spatio-temporal-kernel\" data-toc-modified-id=\"sumprod-spatio-temporal-kernel-2\"><span class=\"toc-item-num\">2&nbsp;&nbsp;</span><code>sumprod</code> spatio-temporal kernel</a></div><div class=\"lev1 toc-item\"><a href=\"#Simpler-kernel\" data-toc-modified-id=\"Simpler-kernel-3\"><span class=\"toc-item-num\">3&nbsp;&nbsp;</span>Simpler kernel</a></div><div class=\"lev1 toc-item\"><a href=\"#All-RQIso\" data-toc-modified-id=\"All-RQIso-4\"><span class=\"toc-item-num\">4&nbsp;&nbsp;</span>All RQIso</a></div>"
   ]
  },
  {
   "cell_type": "markdown",
   "metadata": {},
   "source": [
    "Try to simplify the sum of products kernel without sacrificing marginal likelihood."
   ]
  },
  {
   "cell_type": "code",
   "execution_count": 2,
   "metadata": {
    "collapsed": true
   },
   "outputs": [],
   "source": [
    "using TimeSeries\n",
    "using DataFrames\n",
    "using GaussianProcesses\n",
    "using GaussianProcesses: Mean, Kernel, evaluate, metric, IsotropicData, VecF64\n",
    "using GaussianProcesses: Stationary, KernelData, MatF64\n",
    "import GaussianProcesses: optimize!, get_optim_target, cov, grad_slice!\n",
    "import GaussianProcesses: num_params, set_params!, get_params, update_mll!, update_mll_and_dmll!\n",
    "import GaussianProcesses: get_param_names, cov!, addcov!, multcov!\n",
    "import Proj4\n",
    "using Optim\n",
    "using Distances\n",
    ";"
   ]
  },
  {
   "cell_type": "code",
   "execution_count": 3,
   "metadata": {
    "collapsed": true
   },
   "outputs": [],
   "source": [
    "import PyPlot; plt=PyPlot\n",
    "using LaTeXStrings\n",
    "plt.rc(\"figure\", dpi=300.0)\n",
    "# plt.rc(\"figure\", figsize=(6,4))\n",
    "plt.rc(\"savefig\", dpi=300.0)\n",
    "plt.rc(\"text\", usetex=true)\n",
    "plt.rc(\"font\", family=\"serif\")\n",
    "plt.rc(\"font\", serif=\"Palatino\")\n",
    ";"
   ]
  },
  {
   "cell_type": "markdown",
   "metadata": {},
   "source": [
    "# Data Import and Preprocessing"
   ]
  },
  {
   "cell_type": "code",
   "execution_count": 4,
   "metadata": {},
   "outputs": [
    {
     "data": {
      "text/plain": [
       "test_data (generic function with 1 method)"
      ]
     },
     "execution_count": 4,
     "metadata": {},
     "output_type": "execute_result"
    }
   ],
   "source": [
    "include(\"src/preprocessing.jl\")"
   ]
  },
  {
   "cell_type": "code",
   "execution_count": 5,
   "metadata": {},
   "outputs": [
    {
     "data": {
      "text/plain": [
       "TempModel"
      ]
     },
     "execution_count": 5,
     "metadata": {},
     "output_type": "execute_result"
    }
   ],
   "source": [
    "include(\"src/TempModel.jl\")"
   ]
  },
  {
   "cell_type": "code",
   "execution_count": 6,
   "metadata": {},
   "outputs": [
    {
     "data": {
      "text/html": [
       "<table class=\"data-frame\"><tr><th></th><th>USAF</th><th>WBAN</th><th>NAME</th><th>CTRY</th><th>STATE</th><th>ICAO</th><th>LAT</th><th>LON</th><th>ELEV</th><th>BEGIN</th><th>END</th><th>X_PRJ</th><th>Y_PRJ</th></tr><tr><th>1</th><td>10010</td><td>99999</td><td>JAN MAYEN(NOR-NAVY)</td><td>NO</td><td></td><td>ENJA</td><td>70.933</td><td>-8.667</td><td>9.0</td><td>1931</td><td>2015</td><td>4.5545e6</td><td>6.11344e6</td></tr><tr><th>2</th><td>10060</td><td>99999</td><td>EDGEOYA</td><td>NO</td><td></td><td></td><td>78.25</td><td>22.817</td><td>14.0</td><td>1973</td><td>2015</td><td>4.04982e6</td><td>7.5564e6</td></tr><tr><th>3</th><td>10070</td><td>99999</td><td>NY-ALESUND</td><td>SV</td><td></td><td></td><td>78.917</td><td>11.933</td><td>7.7</td><td>1973</td><td>2015</td><td>3.8678e6</td><td>7.26549e6</td></tr><tr><th>4</th><td>10080</td><td>99999</td><td>LONGYEAR</td><td>SV</td><td></td><td>ENSB</td><td>78.246</td><td>15.466</td><td>26.8</td><td>1975</td><td>2015</td><td>3.99705e6</td><td>7.33669e6</td></tr><tr><th>5</th><td>10090</td><td>99999</td><td>KARL XII OYA</td><td>SV</td><td></td><td></td><td>80.65</td><td>25.0</td><td>5.0</td><td>1955</td><td>2015</td><td>3.69259e6</td><td>7.68545e6</td></tr></table>"
      ],
      "text/plain": [
       "5×13 DataFrames.DataFrame\n",
       "│ Row │ USAF  │ WBAN  │ NAME                │ CTRY │ STATE │ ICAO │ LAT    │\n",
       "├─────┼───────┼───────┼─────────────────────┼──────┼───────┼──────┼────────┤\n",
       "│ 1   │ 10010 │ 99999 │ JAN MAYEN(NOR-NAVY) │ NO   │       │ ENJA │ 70.933 │\n",
       "│ 2   │ 10060 │ 99999 │ EDGEOYA             │ NO   │       │      │ 78.25  │\n",
       "│ 3   │ 10070 │ 99999 │ NY-ALESUND          │ SV   │       │      │ 78.917 │\n",
       "│ 4   │ 10080 │ 99999 │ LONGYEAR            │ SV   │       │ ENSB │ 78.246 │\n",
       "│ 5   │ 10090 │ 99999 │ KARL XII OYA        │ SV   │       │      │ 80.65  │\n",
       "\n",
       "│ Row │ LON    │ ELEV │ BEGIN │ END  │ X_PRJ     │ Y_PRJ     │\n",
       "├─────┼────────┼──────┼───────┼──────┼───────────┼───────────┤\n",
       "│ 1   │ -8.667 │ 9.0  │ 1931  │ 2015 │ 4.5545e6  │ 6.11344e6 │\n",
       "│ 2   │ 22.817 │ 14.0 │ 1973  │ 2015 │ 4.04982e6 │ 7.5564e6  │\n",
       "│ 3   │ 11.933 │ 7.7  │ 1973  │ 2015 │ 3.8678e6  │ 7.26549e6 │\n",
       "│ 4   │ 15.466 │ 26.8 │ 1975  │ 2015 │ 3.99705e6 │ 7.33669e6 │\n",
       "│ 5   │ 25.0   │ 5.0  │ 1955  │ 2015 │ 3.69259e6 │ 7.68545e6 │"
      ]
     },
     "execution_count": 6,
     "metadata": {},
     "output_type": "execute_result"
    }
   ],
   "source": [
    "isdList=read_isdList()\n",
    "isdList[1:5,:]"
   ]
  },
  {
   "cell_type": "code",
   "execution_count": 7,
   "metadata": {},
   "outputs": [
    {
     "data": {
      "text/html": [
       "<table class=\"data-frame\"><tr><th></th><th>USAF</th><th>WBAN</th><th>NAME</th><th>CTRY</th><th>STATE</th><th>ICAO</th><th>LAT</th><th>LON</th><th>ELEV</th><th>BEGIN</th><th>END</th><th>X_PRJ</th><th>Y_PRJ</th></tr><tr><th>1</th><td>725450</td><td>14990</td><td>THE EASTERN IOWA AIRPORT</td><td>US</td><td>IA</td><td>KCID</td><td>41.883</td><td>-91.717</td><td>264.6</td><td>1973</td><td>2015</td><td>1.64799e6</td><td>1.0441e6</td></tr><tr><th>2</th><td>725460</td><td>14933</td><td>DES MOINES INTERNATIONAL AIRPORT</td><td>US</td><td>IA</td><td>KDSM</td><td>41.534</td><td>-93.653</td><td>291.7</td><td>1973</td><td>2015</td><td>1.48723e6</td><td>1.00379e6</td></tr><tr><th>3</th><td>725480</td><td>94910</td><td>WATERLOO MUNICIPAL AIRPORT</td><td>US</td><td>IA</td><td>KALO</td><td>42.554</td><td>-92.401</td><td>264.6</td><td>1960</td><td>2015</td><td>1.59025e6</td><td>1.11766e6</td></tr><tr><th>4</th><td>725485</td><td>14940</td><td>MASON CITY MUNICIPAL ARPT</td><td>US</td><td>IA</td><td>KMCW</td><td>43.154</td><td>-93.327</td><td>373.4</td><td>1973</td><td>2015</td><td>1.51407e6</td><td>1.18374e6</td></tr></table>"
      ],
      "text/plain": [
       "4×13 DataFrames.DataFrame\n",
       "│ Row │ USAF   │ WBAN  │ NAME                             │ CTRY │ STATE │\n",
       "├─────┼────────┼───────┼──────────────────────────────────┼──────┼───────┤\n",
       "│ 1   │ 725450 │ 14990 │ THE EASTERN IOWA AIRPORT         │ US   │ IA    │\n",
       "│ 2   │ 725460 │ 14933 │ DES MOINES INTERNATIONAL AIRPORT │ US   │ IA    │\n",
       "│ 3   │ 725480 │ 94910 │ WATERLOO MUNICIPAL AIRPORT       │ US   │ IA    │\n",
       "│ 4   │ 725485 │ 14940 │ MASON CITY MUNICIPAL ARPT        │ US   │ IA    │\n",
       "\n",
       "│ Row │ ICAO │ LAT    │ LON     │ ELEV  │ BEGIN │ END  │ X_PRJ     │ Y_PRJ     │\n",
       "├─────┼──────┼────────┼─────────┼───────┼───────┼──────┼───────────┼───────────┤\n",
       "│ 1   │ KCID │ 41.883 │ -91.717 │ 264.6 │ 1973  │ 2015 │ 1.64799e6 │ 1.0441e6  │\n",
       "│ 2   │ KDSM │ 41.534 │ -93.653 │ 291.7 │ 1973  │ 2015 │ 1.48723e6 │ 1.00379e6 │\n",
       "│ 3   │ KALO │ 42.554 │ -92.401 │ 264.6 │ 1960  │ 2015 │ 1.59025e6 │ 1.11766e6 │\n",
       "│ 4   │ KMCW │ 43.154 │ -93.327 │ 373.4 │ 1973  │ 2015 │ 1.51407e6 │ 1.18374e6 │"
      ]
     },
     "execution_count": 7,
     "metadata": {},
     "output_type": "execute_result"
    }
   ],
   "source": [
    "isdSubset=isdList[[(usaf in (725450,725460,725480,725485)) for usaf in isdList[:USAF].values],:]\n",
    "isdSubset"
   ]
  },
  {
   "cell_type": "code",
   "execution_count": 8,
   "metadata": {},
   "outputs": [
    {
     "data": {
      "text/html": [
       "<table class=\"data-frame\"><tr><th></th><th>year</th><th>month</th><th>day</th><th>hour</th><th>min</th><th>seconds</th><th>temp</th><th>ts</th><th>station</th><th>ts_hours</th></tr><tr><th>1</th><td>2015</td><td>1</td><td>1</td><td>0</td><td>52</td><td>0</td><td>-7.8</td><td>2015-01-01T00:52:00</td><td>1</td><td>0.866667</td></tr><tr><th>2</th><td>2015</td><td>1</td><td>1</td><td>1</td><td>52</td><td>0</td><td>-8.3</td><td>2015-01-01T01:52:00</td><td>1</td><td>1.86667</td></tr><tr><th>3</th><td>2015</td><td>1</td><td>1</td><td>2</td><td>52</td><td>0</td><td>-8.3</td><td>2015-01-01T02:52:00</td><td>1</td><td>2.86667</td></tr><tr><th>4</th><td>2015</td><td>1</td><td>1</td><td>3</td><td>52</td><td>0</td><td>-9.4</td><td>2015-01-01T03:52:00</td><td>1</td><td>3.86667</td></tr><tr><th>5</th><td>2015</td><td>1</td><td>1</td><td>4</td><td>52</td><td>0</td><td>-9.4</td><td>2015-01-01T04:52:00</td><td>1</td><td>4.86667</td></tr></table>"
      ],
      "text/plain": [
       "5×10 DataFrames.DataFrame\n",
       "│ Row │ year │ month │ day │ hour │ min │ seconds │ temp │ ts                  │\n",
       "├─────┼──────┼───────┼─────┼──────┼─────┼─────────┼──────┼─────────────────────┤\n",
       "│ 1   │ 2015 │ 1     │ 1   │ 0    │ 52  │ 0       │ -7.8 │ 2015-01-01T00:52:00 │\n",
       "│ 2   │ 2015 │ 1     │ 1   │ 1    │ 52  │ 0       │ -8.3 │ 2015-01-01T01:52:00 │\n",
       "│ 3   │ 2015 │ 1     │ 1   │ 2    │ 52  │ 0       │ -8.3 │ 2015-01-01T02:52:00 │\n",
       "│ 4   │ 2015 │ 1     │ 1   │ 3    │ 52  │ 0       │ -9.4 │ 2015-01-01T03:52:00 │\n",
       "│ 5   │ 2015 │ 1     │ 1   │ 4    │ 52  │ 0       │ -9.4 │ 2015-01-01T04:52:00 │\n",
       "\n",
       "│ Row │ station │ ts_hours │\n",
       "├─────┼─────────┼──────────┤\n",
       "│ 1   │ 1       │ 0.866667 │\n",
       "│ 2   │ 1       │ 1.86667  │\n",
       "│ 3   │ 1       │ 2.86667  │\n",
       "│ 4   │ 1       │ 3.86667  │\n",
       "│ 5   │ 1       │ 4.86667  │"
      ]
     },
     "execution_count": 8,
     "metadata": {},
     "output_type": "execute_result"
    }
   ],
   "source": [
    "hourly_cat=read_Stations(isdSubset)\n",
    "hourly_cat[1:5,:]"
   ]
  },
  {
   "cell_type": "markdown",
   "metadata": {},
   "source": [
    "## Distances"
   ]
  },
  {
   "cell_type": "markdown",
   "metadata": {},
   "source": [
    "To get distances between stations, we can either use a function to compute distances on a sphere, or we can first project the coordinates onto a Euclidean plane, and then compute normal distances. I'll do it both ways to check they're consistent (equal up to a multiplication constant), and then use Euclidean distances for convenience."
   ]
  },
  {
   "cell_type": "code",
   "execution_count": 9,
   "metadata": {},
   "outputs": [
    {
     "data": {
      "text/plain": [
       "distance_on_unit_sphere (generic function with 1 method)"
      ]
     },
     "execution_count": 9,
     "metadata": {},
     "output_type": "execute_result"
    }
   ],
   "source": [
    "# http://www.johndcook.com/blog/python_longitude_latitude/\n",
    "function distance_on_unit_sphere(lat1, long1, lat2, long2)\n",
    " \n",
    "    # Convert latitude and longitude to \n",
    "    # spherical coordinates in radians.\n",
    "    degrees_to_radians = π/180.0\n",
    "         \n",
    "    # phi = 90 - latitude\n",
    "    phi1 = (90.0 - lat1)*degrees_to_radians\n",
    "    phi2 = (90.0 - lat2)*degrees_to_radians\n",
    "         \n",
    "    # theta = longitude\n",
    "    theta1 = long1*degrees_to_radians\n",
    "    theta2 = long2*degrees_to_radians\n",
    "         \n",
    "    # Compute spherical distance from spherical coordinates.\n",
    "         \n",
    "    # For two locations in spherical coordinates \n",
    "    # (1, theta, phi) and (1, theta', phi')\n",
    "    # cosine( arc length ) = \n",
    "    #    sin phi sin phi' cos(theta-theta') + cos phi cos phi'\n",
    "    # distance = rho * arc length\n",
    "     \n",
    "    cosangle = (sin(phi1)*sin(phi2)*cos(theta1 - theta2) +\n",
    "           cos(phi1)*cos(phi2))\n",
    "    arc = acos( cosangle )\n",
    " \n",
    "    # Remember to multiply arc by the radius of the earth \n",
    "    # in your favorite set of units to get length.\n",
    "    return arc\n",
    "end"
   ]
  },
  {
   "cell_type": "code",
   "execution_count": 10,
   "metadata": {},
   "outputs": [
    {
     "data": {
      "text/plain": [
       "4×4 Array{Float64,2}:\n",
       " 0.0        0.0259496  0.0146736  0.0303475\n",
       " 0.0259496  0.0        0.024088   0.0285853\n",
       " 0.0146736  0.024088   0.0        0.0158124\n",
       " 0.0303475  0.0285853  0.0158124  0.0      "
      ]
     },
     "execution_count": 10,
     "metadata": {},
     "output_type": "execute_result"
    }
   ],
   "source": [
    "numstations = nrow(isdSubset)\n",
    "pairwiseSphere = zeros(numstations, numstations)\n",
    "for i in 1:numstations\n",
    "    for j in 1:i\n",
    "        if i==j\n",
    "            continue\n",
    "        end\n",
    "        station1 = isdSubset[i,:]\n",
    "        station2 = isdSubset[j,:]\n",
    "        lat1= get(station1[1,:LAT])\n",
    "        lon1 = get(station1[1,:LON])\n",
    "        lat2 = get(station2[1,:LAT])\n",
    "        lon2 = get(station2[1,:LON])\n",
    "        pairwiseSphere[i,j] = distance_on_unit_sphere(lat1, lon1, lat2, lon2)\n",
    "        pairwiseSphere[j,i] = pairwiseSphere[i,j]\n",
    "    end\n",
    "end\n",
    "pairwiseSphere"
   ]
  },
  {
   "cell_type": "code",
   "execution_count": 11,
   "metadata": {},
   "outputs": [
    {
     "data": {
      "text/plain": [
       "4×4 Array{Float64,2}:\n",
       "      0.0        165736.0        93510.4        1.93474e5\n",
       " 165736.0             0.0            1.53559e5  1.81942e5\n",
       "  93510.4             1.53559e5      0.0        1.00846e5\n",
       "      1.93474e5       1.81942e5      1.00846e5  0.0      "
      ]
     },
     "execution_count": 11,
     "metadata": {},
     "output_type": "execute_result"
    }
   ],
   "source": [
    "pairwiseEuclid=pairwise(Euclidean(), Matrix(isdSubset[[:X_PRJ,:Y_PRJ]])')"
   ]
  },
  {
   "cell_type": "markdown",
   "metadata": {},
   "source": [
    "Ratio of the two distance matrices: close enough to a constant!"
   ]
  },
  {
   "cell_type": "code",
   "execution_count": 12,
   "metadata": {},
   "outputs": [
    {
     "data": {
      "text/plain": [
       "4×4 Array{Float64,2}:\n",
       " NaN            6.38684e6    6.37271e6    6.37527e6\n",
       "   6.38684e6  NaN            6.37493e6    6.36489e6\n",
       "   6.37271e6    6.37493e6  NaN            6.37765e6\n",
       "   6.37527e6    6.36489e6    6.37765e6  NaN        "
      ]
     },
     "execution_count": 12,
     "metadata": {},
     "output_type": "execute_result"
    }
   ],
   "source": [
    "pairwiseEuclid ./ pairwiseSphere"
   ]
  },
  {
   "cell_type": "markdown",
   "metadata": {},
   "source": [
    "# `sumprod` spatio-temporal kernel"
   ]
  },
  {
   "cell_type": "code",
   "execution_count": 13,
   "metadata": {},
   "outputs": [
    {
     "data": {
      "text/plain": [
       "-1.68206"
      ]
     },
     "execution_count": 13,
     "metadata": {},
     "output_type": "execute_result"
    }
   ],
   "source": [
    "k1 = fix(Periodic(0.0,0.0,log(24.0)), :lp)\n",
    "k2 = RQIso(0.0,0.0,0.0)\n",
    "k3 = SEIso(0.0,0.0)\n",
    "k4 = RQIso(0.0,0.0,0.0)\n",
    "k5 = RQIso(0.0,0.0,0.0)\n",
    "k6 = SEIso(0.0,0.0)\n",
    "\n",
    "ksp1 = SEIso(log(2*10^5), log(1.0))\n",
    "ksp2 = SEIso(log(2*10^5), log(1.0))\n",
    "ksp3 = SEIso(log(2*10^5), log(1.0))\n",
    "ksp4 = SEIso(log(2*10^5), log(1.0))\n",
    "ksp5 = SEIso(log(2*10^5), log(1.0))\n",
    "ksp6 = SEIso(log(2*10^5), log(1.0))\n",
    "k_means = SEIso(log(10^4), log(10.0))\n",
    "\n",
    "k_spatiotemporal_1 = Masked(k1, [1]) * Masked(ksp1, [2,3]) +\n",
    "                 Masked(k2, [1]) * Masked(ksp2, [2,3]) +\n",
    "                 Masked(k3, [1]) * Masked(ksp3, [2,3]) +\n",
    "                 Masked(k4, [1]) * Masked(ksp4, [2,3]) +\n",
    "                 Masked(k5, [1]) * Masked(ksp5, [2,3]) +\n",
    "                 Masked(k6, [1]) * Masked(ksp6, [2,3]) +\n",
    "                 fix(Masked(k_means, [2,3]))\n",
    "hyp = [-1.68206,-0.179317,0.945821,13.5116,0.0501475,0.866468,0.758593,-0.984024,11.0867,-0.38583,-1.44126,-1.13345,9.20607,0.0421904,2.12626,1.24119,-0.15271,15.081,0.129167,3.68457,0.701431,3.00982,14.0459,-1.5127,7.70676,-5.30466,12.2061,-6.18869e-6]\n",
    "set_params!(k_spatiotemporal_1, hyp[2:end])\n",
    "logNoise=hyp[1]"
   ]
  },
  {
   "cell_type": "code",
   "execution_count": 14,
   "metadata": {},
   "outputs": [
    {
     "name": "stdout",
     "output_type": "stream",
     "text": [
      " mLL: -46183.86261\n",
      "dmLL: [-10.1656,4.76353,-0.0412465,12.6709,-0.0412465,30.7611,-24.8592,-19.845,8.76812,-24.8592,-0.406135,-27.4537,-1.4777e-15,-27.4537,-12.7652,-0.977735,-57.2385,-6.39481,-0.977735,-0.0381473,3.15524,0.00941418,-0.229537,3.15524,-1.32648e-6,-2.9701e-5,6.72606e-7,-2.9701e-5]\n"
     ]
    }
   ],
   "source": [
    "begin\n",
    "    k_spatiotemporal = k_spatiotemporal_1\n",
    "    chunks=GP[]\n",
    "    chunk_width=24*10\n",
    "    tstart=0.0\n",
    "    tend=tstart+chunk_width\n",
    "    nobsv=0\n",
    "    while tstart < get(maximum(hourly_cat[:ts_hours]))\n",
    "        in_chunk=(tstart .<= hourly_cat[:ts_hours].values) & (hourly_cat[:ts_hours].values .< tend)\n",
    "        hourly_chunk = hourly_cat[in_chunk,:]\n",
    "        nobsv_chunk = sum(in_chunk)\n",
    "        nobsv += nobsv_chunk\n",
    "\n",
    "        chunk_X_PRJ = isdSubset[:X_PRJ].values[hourly_chunk[:station].values]\n",
    "        chunk_Y_PRJ = isdSubset[:Y_PRJ].values[hourly_chunk[:station].values]\n",
    "        chunk_X = [hourly_chunk[:ts_hours].values chunk_X_PRJ chunk_Y_PRJ]\n",
    "\n",
    "        y = hourly_chunk[:temp].values\n",
    "        chunk = GP(chunk_X', y, MeanConst(mean(y)), k_spatiotemporal, logNoise)\n",
    "        push!(chunks, chunk)\n",
    "\n",
    "        tstart=tend\n",
    "        tend+=chunk_width\n",
    "    end\n",
    "    reals = TempModel.GPRealisations(chunks)\n",
    "    update_mll_and_dmll!(reals, mean=false)\n",
    "    @printf(\" mLL: %.5f\\n\", reals.mLL)\n",
    "    println(\"dmLL: \", reals.dmLL)\n",
    "end"
   ]
  },
  {
   "cell_type": "code",
   "execution_count": 15,
   "metadata": {},
   "outputs": [
    {
     "name": "stdout",
     "output_type": "stream",
     "text": [
      "k₁: Periodic \n",
      "=================\n",
      "σ: 2.575\n",
      "l: 0.836\n",
      "p:    24 hours\n",
      "> spatial decay:\n",
      "l: 737926.865\n",
      "\n",
      "k₂: RQIso \n",
      "=================\n",
      "σ: 2.135\n",
      "l: 2.378 hours\n",
      "α: 0.374\n",
      "> spatial decay:\n",
      "l: 65296.910\n",
      "\n",
      "k₃: SEIso \n",
      "=================\n",
      "σ: 0.322\n",
      "l: 0.237 hours\n",
      "> spatial decay:\n",
      "l: 9957.387\n",
      "\n",
      "k₄: RQIso \n",
      "=================\n",
      "σ: 3.460\n",
      "l: 0.349 days\n",
      "α: 0.858\n",
      "> spatial decay:\n",
      "l: 3544827.299\n",
      "\n",
      "k₅: RQIso \n",
      "=================\n",
      "σ: 2.017\n",
      "l: 1.659 days\n",
      "α: 20.284\n",
      "> spatial decay:\n",
      "l: 1259090.257\n",
      "\n",
      "k₆ SEIso \n",
      "=================\n",
      "σ: 0.005\n",
      "l: 92.639 days\n",
      "> spatial decay:\n",
      "l: 200005.471\n",
      "\n",
      "=================\n",
      "σy: 0.186\n"
     ]
    }
   ],
   "source": [
    "print(\"k₁: Periodic \\n=================\\n\")\n",
    "@printf(\"σ: %5.3f\\n\", √k1.kern.σ2)\n",
    "@printf(\"l: %5.3f\\n\", √k1.kern.ℓ2)\n",
    "@printf(\"p: %5.0f hours\\n\", k1.kern.p)\n",
    "print(\"> spatial decay:\\n\")\n",
    "@printf(\"l: %5.3f\\n\", √ksp1.ℓ2)\n",
    "print(\"\\nk₂: RQIso \\n=================\\n\")\n",
    "@printf(\"σ: %5.3f\\n\", √ k2.σ2)\n",
    "@printf(\"l: %5.3f hours\\n\", √ k2.ℓ2)\n",
    "@printf(\"α: %5.3f\\n\", k2.α)\n",
    "print(\"> spatial decay:\\n\")\n",
    "# @printf(\"σ: %5.3f\\n\", √ksp2.σ2)\n",
    "@printf(\"l: %5.3f\\n\", √ksp2.ℓ2)\n",
    "print(\"\\nk₃: SEIso \\n=================\\n\")\n",
    "@printf(\"σ: %5.3f\\n\", √k3.σ2)\n",
    "@printf(\"l: %5.3f hours\\n\", √k3.ℓ2)\n",
    "print(\"> spatial decay:\\n\")\n",
    "# @printf(\"σ: %5.3f\\n\", √ksp3.σ2)\n",
    "@printf(\"l: %5.3f\\n\", √ksp3.ℓ2)\n",
    "print(\"\\nk₄: RQIso \\n=================\\n\")\n",
    "@printf(\"σ: %5.3f\\n\", √k4.σ2)\n",
    "@printf(\"l: %5.3f days\\n\", √k4.ℓ2 / 24)\n",
    "@printf(\"α: %5.3f\\n\",  k4.α)\n",
    "print(\"> spatial decay:\\n\")\n",
    "# @printf(\"σ: %5.3f\\n\", √ksp4.σ2)\n",
    "@printf(\"l: %5.3f\\n\", √ksp4.ℓ2)\n",
    "print(\"\\nk₅: RQIso \\n=================\\n\")\n",
    "@printf(\"σ: %5.3f\\n\", √k5.σ2)\n",
    "@printf(\"l: %5.3f days\\n\", √k5.ℓ2 / 24)\n",
    "@printf(\"α: %5.3f\\n\",  k5.α)\n",
    "print(\"> spatial decay:\\n\")\n",
    "# @printf(\"σ: %5.3f\\n\", √ksp5.σ2)\n",
    "@printf(\"l: %5.3f\\n\", √ksp5.ℓ2)\n",
    "print(\"\\nk₆ SEIso \\n=================\\n\")\n",
    "@printf(\"σ: %5.3f\\n\", √k6.σ2)\n",
    "@printf(\"l: %5.3f days\\n\", √k6.ℓ2 / 24)\n",
    "print(\"> spatial decay:\\n\")\n",
    "# @printf(\"σ: %5.3f\\n\", √ksp6.σ2)\n",
    "@printf(\"l: %5.3f\\n\", √ksp6.ℓ2)\n",
    "print(\"\\n=================\\n\")\n",
    "@printf(\"σy: %5.3f\\n\", exp(logNoise))"
   ]
  },
  {
   "cell_type": "markdown",
   "metadata": {},
   "source": [
    "# Simpler kernel"
   ]
  },
  {
   "cell_type": "code",
   "execution_count": 16,
   "metadata": {},
   "outputs": [
    {
     "data": {
      "text/plain": [
       "Type: GaussianProcesses.SumKernel\n",
       "  Type: GaussianProcesses.ProdKernel\n",
       "    Type: GaussianProcesses.Masked{GaussianProcesses.FixedKern}, Params: [-0.179317,0.945821]\n",
       "    Type: GaussianProcesses.Masked{GaussianProcesses.SEIso}, Params: [13.5116,0.0501475]\n",
       "  Type: GaussianProcesses.ProdKernel\n",
       "    Type: GaussianProcesses.Masked{GaussianProcesses.RQIso}, Params: [0.866468,0.758593,-0.984024]\n",
       "    Type: GaussianProcesses.Masked{GaussianProcesses.SEIso}, Params: [11.0867,-0.38583]\n",
       "  Type: GaussianProcesses.ProdKernel\n",
       "    Type: GaussianProcesses.Masked{GaussianProcesses.SEIso}, Params: [-1.44126,-1.13345]\n",
       "    Type: GaussianProcesses.Masked{GaussianProcesses.SEIso}, Params: [9.20607,0.0421904]\n",
       "  Type: GaussianProcesses.ProdKernel\n",
       "    Type: GaussianProcesses.Masked{GaussianProcesses.RQIso}, Params: [2.12626,1.24119,-0.15271]\n",
       "    Type: GaussianProcesses.Masked{GaussianProcesses.SEIso}, Params: [15.081,0.129167]\n",
       "  Type: GaussianProcesses.FixedKern, Params: Float64[]\n"
      ]
     },
     "execution_count": 16,
     "metadata": {},
     "output_type": "execute_result"
    }
   ],
   "source": [
    "k_spatiotemporal_2 = Masked(k1, [1]) * Masked(ksp1, [2,3]) +\n",
    "                 Masked(k2, [1]) * Masked(ksp2, [2,3]) +\n",
    "                 Masked(k3, [1]) * Masked(ksp3, [2,3]) +\n",
    "                 Masked(k4, [1]) * Masked(ksp4, [2,3]) +\n",
    "                 fix(Masked(k_means, [2,3]))"
   ]
  },
  {
   "cell_type": "code",
   "execution_count": 17,
   "metadata": {},
   "outputs": [
    {
     "name": "stdout",
     "output_type": "stream",
     "text": [
      " mLL: -46185.49457\n",
      "dmLL: [-10.1645,4.76959,-0.0506269,12.6698,-0.0506269,31.1047,-23.3183,-20.0028,8.87426,-23.3183,-0.40377,-27.441,-1.47773e-15,-27.441,-10.162,7.7745,-57.881,-6.41317,7.7745]\n"
     ]
    }
   ],
   "source": [
    "begin\n",
    "    k_spatiotemporal = k_spatiotemporal_2\n",
    "    chunks=GP[]\n",
    "    chunk_width=24*10\n",
    "    tstart=0.0\n",
    "    tend=tstart+chunk_width\n",
    "    nobsv=0\n",
    "    while tstart < get(maximum(hourly_cat[:ts_hours]))\n",
    "        in_chunk=(tstart .<= hourly_cat[:ts_hours].values) & (hourly_cat[:ts_hours].values .< tend)\n",
    "        hourly_chunk = hourly_cat[in_chunk,:]\n",
    "        nobsv_chunk = sum(in_chunk)\n",
    "        nobsv += nobsv_chunk\n",
    "\n",
    "        chunk_X_PRJ = isdSubset[:X_PRJ].values[hourly_chunk[:station].values]\n",
    "        chunk_Y_PRJ = isdSubset[:Y_PRJ].values[hourly_chunk[:station].values]\n",
    "        chunk_X = [hourly_chunk[:ts_hours].values chunk_X_PRJ chunk_Y_PRJ]\n",
    "\n",
    "        y = hourly_chunk[:temp].values\n",
    "        chunk = GP(chunk_X', y, MeanConst(mean(y)), k_spatiotemporal, logNoise)\n",
    "        push!(chunks, chunk)\n",
    "\n",
    "        tstart=tend\n",
    "        tend+=chunk_width\n",
    "    end\n",
    "    reals = TempModel.GPRealisations(chunks)\n",
    "    update_mll_and_dmll!(reals, mean=false)\n",
    "    @printf(\" mLL: %.5f\\n\", reals.mLL)\n",
    "    println(\"dmLL: \", reals.dmLL)\n",
    "end"
   ]
  },
  {
   "cell_type": "markdown",
   "metadata": {},
   "source": [
    "# All RQIso"
   ]
  },
  {
   "cell_type": "code",
   "execution_count": 18,
   "metadata": {},
   "outputs": [
    {
     "data": {
      "text/plain": [
       "Type: GaussianProcesses.RQIso, Params: [-1.44126,-1.13345,2.0]\n"
      ]
     },
     "execution_count": 18,
     "metadata": {},
     "output_type": "execute_result"
    }
   ],
   "source": [
    "ll, lσ = get_params(k3)\n",
    "k3b = RQIso(ll,lσ,2.0)"
   ]
  },
  {
   "cell_type": "code",
   "execution_count": 19,
   "metadata": {},
   "outputs": [
    {
     "data": {
      "text/plain": [
       "Type: GaussianProcesses.SumKernel\n",
       "  Type: GaussianProcesses.ProdKernel\n",
       "    Type: GaussianProcesses.Masked{GaussianProcesses.FixedKern}, Params: [-0.179317,0.945821]\n",
       "    Type: GaussianProcesses.Masked{GaussianProcesses.SEIso}, Params: [13.5116,0.0501475]\n",
       "  Type: GaussianProcesses.ProdKernel\n",
       "    Type: GaussianProcesses.Masked{GaussianProcesses.RQIso}, Params: [0.866468,0.758593,-0.984024]\n",
       "    Type: GaussianProcesses.Masked{GaussianProcesses.SEIso}, Params: [11.0867,-0.38583]\n",
       "  Type: GaussianProcesses.ProdKernel\n",
       "    Type: GaussianProcesses.Masked{GaussianProcesses.RQIso}, Params: [-1.44126,-1.13345,2.0]\n",
       "    Type: GaussianProcesses.Masked{GaussianProcesses.SEIso}, Params: [9.20607,0.0421904]\n",
       "  Type: GaussianProcesses.ProdKernel\n",
       "    Type: GaussianProcesses.Masked{GaussianProcesses.RQIso}, Params: [2.12626,1.24119,-0.15271]\n",
       "    Type: GaussianProcesses.Masked{GaussianProcesses.SEIso}, Params: [15.081,0.129167]\n",
       "  Type: GaussianProcesses.FixedKern, Params: Float64[]\n"
      ]
     },
     "execution_count": 19,
     "metadata": {},
     "output_type": "execute_result"
    }
   ],
   "source": [
    "k_spatiotemporal_3 = Masked(k1, [1]) * Masked(ksp1, [2,3]) +\n",
    "                 Masked(k2, [1])  * Masked(ksp2, [2,3]) +\n",
    "                 Masked(k3b, [1]) * Masked(ksp3, [2,3]) +\n",
    "                 Masked(k4, [1])  * Masked(ksp4, [2,3]) +\n",
    "                 fix(Masked(k_means, [2,3]))"
   ]
  },
  {
   "cell_type": "code",
   "execution_count": 20,
   "metadata": {},
   "outputs": [
    {
     "name": "stdout",
     "output_type": "stream",
     "text": [
      " mLL: -46168.78799\n",
      "dmLL: [-21.8953,4.62217,-0.0414086,12.7326,-0.0414086,35.3355,-34.3684,-22.9631,14.4427,-34.3684,-35.8925,133.353,-13.1731,-1.48982e-15,133.353,-9.49386,7.56329,-57.7423,-6.40906,7.56329]\n",
      "9070.302024 seconds (91.01 G allocations: 2.210 TB, 7.93% gc time)\n",
      "optimization --> mLL: -45944.62514\n",
      "dmLL: [-0.000205554,-0.000292355,-1.42258e-5,-9.40713e-5,-1.42258e-5,-0.00308438,0.00353499,0.000350118,-0.00141016,0.00353499,7.0301e-5,0.00217324,-1.27168,-6.35772e-16,0.00217324,0.00014801,-0.000181258,5.80736e-5,0.000403622,-0.000181258]\n"
     ]
    }
   ],
   "source": [
    "begin\n",
    "    global opt_out\n",
    "    k_spatiotemporal = k_spatiotemporal_3\n",
    "    chunks=GP[]\n",
    "    chunk_width=24*10\n",
    "    tstart=0.0\n",
    "    tend=tstart+chunk_width\n",
    "    nobsv=0\n",
    "    while tstart < get(maximum(hourly_cat[:ts_hours]))\n",
    "        in_chunk=(tstart .<= hourly_cat[:ts_hours].values) & (hourly_cat[:ts_hours].values .< tend)\n",
    "        hourly_chunk = hourly_cat[in_chunk,:]\n",
    "        nobsv_chunk = sum(in_chunk)\n",
    "        nobsv += nobsv_chunk\n",
    "\n",
    "        chunk_X_PRJ = isdSubset[:X_PRJ].values[hourly_chunk[:station].values]\n",
    "        chunk_Y_PRJ = isdSubset[:Y_PRJ].values[hourly_chunk[:station].values]\n",
    "        chunk_X = [hourly_chunk[:ts_hours].values chunk_X_PRJ chunk_Y_PRJ]\n",
    "\n",
    "        y = hourly_chunk[:temp].values\n",
    "        chunk = GP(chunk_X', y, MeanConst(mean(y)), k_spatiotemporal, logNoise)\n",
    "        push!(chunks, chunk)\n",
    "\n",
    "        tstart=tend\n",
    "        tend+=chunk_width\n",
    "    end\n",
    "    reals = TempModel.GPRealisations(chunks)\n",
    "    update_mll_and_dmll!(reals, mean=false)\n",
    "    @printf(\" mLL: %.5f\\n\", reals.mLL)\n",
    "    println(\"dmLL: \", reals.dmLL)\n",
    "    @time opt_out=TempModel.optimize_NLopt(reals, mean=false, x_tol=1e-5, f_tol=1e-10)\n",
    "    print(\"optimization -->\")\n",
    "    @printf(\" mLL: %.5f\\n\", reals.mLL)\n",
    "    println(\"dmLL: \", reals.dmLL)\n",
    "end"
   ]
  },
  {
   "cell_type": "code",
   "execution_count": 21,
   "metadata": {},
   "outputs": [
    {
     "name": "stdout",
     "output_type": "stream",
     "text": [
      " mLL: -45955.78939\n",
      "dmLL: [-520.112,5.84728,-1.22125,0.196695,-1.22125,74.3353,-43.435,6.31325,6.1487,-43.435,185.501,-344.184,-46.3423,-6.00122e-16,-344.184,3.1481,-1.28973,0.755154,0.499024,-1.28973]\n",
      "4022.710679 seconds (41.11 G allocations: 1.000 TB, 7.90% gc time)\n",
      "optimization --> mLL: -45944.57887\n",
      "dmLL: [0.000689847,0.00020083,-0.00244532,-0.015515,-0.00244532,-0.00318563,0.00162387,0.00174717,-0.000917766,0.00162387,-0.000911702,0.00269821,0.000462429,-6.36516e-16,0.00269821,-0.00273785,0.000395533,0.0117028,-0.0012609,0.000395533]\n"
     ]
    }
   ],
   "source": [
    "begin\n",
    "    global opt_out\n",
    "    k_spatiotemporal = k_spatiotemporal_3\n",
    "    chunks=GP[]\n",
    "    chunk_width=24*10\n",
    "    tstart=0.0\n",
    "    tend=tstart+chunk_width\n",
    "    nobsv=0\n",
    "    while tstart < get(maximum(hourly_cat[:ts_hours]))\n",
    "        in_chunk=(tstart .<= hourly_cat[:ts_hours].values) & (hourly_cat[:ts_hours].values .< tend)\n",
    "        hourly_chunk = hourly_cat[in_chunk,:]\n",
    "        nobsv_chunk = sum(in_chunk)\n",
    "        nobsv += nobsv_chunk\n",
    "\n",
    "        chunk_X_PRJ = isdSubset[:X_PRJ].values[hourly_chunk[:station].values]\n",
    "        chunk_Y_PRJ = isdSubset[:Y_PRJ].values[hourly_chunk[:station].values]\n",
    "        chunk_X = [hourly_chunk[:ts_hours].values chunk_X_PRJ chunk_Y_PRJ]\n",
    "\n",
    "        y = hourly_chunk[:temp].values\n",
    "        chunk = GP(chunk_X', y, MeanConst(mean(y)), k_spatiotemporal, logNoise)\n",
    "        push!(chunks, chunk)\n",
    "\n",
    "        tstart=tend\n",
    "        tend+=chunk_width\n",
    "    end\n",
    "    reals = TempModel.GPRealisations(chunks)\n",
    "    update_mll_and_dmll!(reals, mean=false)\n",
    "    @printf(\" mLL: %.5f\\n\", reals.mLL)\n",
    "    println(\"dmLL: \", reals.dmLL)\n",
    "    @time opt_out=TempModel.optimize_NLopt(reals, mean=false, x_tol=1e-5, f_tol=1e-10)\n",
    "    print(\"optimization -->\")\n",
    "    @printf(\" mLL: %.5f\\n\", reals.mLL)\n",
    "    println(\"dmLL: \", reals.dmLL)\n",
    "end"
   ]
  },
  {
   "cell_type": "code",
   "execution_count": 25,
   "metadata": {},
   "outputs": [
    {
     "data": {
      "text/plain": [
       "(45944.578866171665,[-1.72527,-0.210656,0.950124,13.574,0.0544504,0.653978,0.538881,0.125985,10.9932,-0.605542,-1.2208,-0.946048,-1.0721,9.20607,0.229593,2.18355,1.29463,-1.14171,12.8224,0.182608],:FTOL_REACHED,35)"
      ]
     },
     "execution_count": 25,
     "metadata": {},
     "output_type": "execute_result"
    }
   ],
   "source": [
    "opt_out"
   ]
  },
  {
   "cell_type": "code",
   "execution_count": 27,
   "metadata": {},
   "outputs": [
    {
     "name": "stdout",
     "output_type": "stream",
     "text": [
      "[-1.72527,-0.210656,0.950124,13.574,0.0544504,0.653978,0.538881,0.125985,10.9932,-0.605542,-1.2208,-0.946048,-1.0721,9.20607,0.229593,2.18355,1.29463,-1.14171,12.8224,0.182608]"
     ]
    }
   ],
   "source": [
    "print(opt_out[2])"
   ]
  },
  {
   "cell_type": "code",
   "execution_count": 22,
   "metadata": {},
   "outputs": [
    {
     "name": "stdout",
     "output_type": "stream",
     "text": [
      "[-0.210656,0.950124,13.574,0.0544504,0.653978,0.538881,0.125985,10.9932,-0.605542,-1.2208,-0.946048,-1.0721,9.20607,0.229593,2.18355,1.29463,-1.14171,12.8224,0.182608]"
     ]
    },
    {
     "name": "stderr",
     "output_type": "stream",
     "text": [
      "WARNING: both Distances and DataFrames export \"colwise\"; uses of it in module Main must be qualified\n",
      "WARNING: both GaussianProcesses and DataFrames export \"predict\"; uses of it in module Main must be qualified\n",
      "WARNING: both DataFrames and TimeSeries export \"by\"; uses of it in module Main must be qualified\n",
      "WARNING: both DataFrames and TimeSeries export \"head\"; uses of it in module Main must be qualified\n",
      "WARNING: both DataFrames and TimeSeries export \"rename\"; uses of it in module Main must be qualified\n",
      "WARNING: both DataFrames and TimeSeries export \"tail\"; uses of it in module Main must be qualified\n"
     ]
    }
   ],
   "source": [
    "print(get_params(k_spatiotemporal_3))"
   ]
  },
  {
   "cell_type": "code",
   "execution_count": 24,
   "metadata": {},
   "outputs": [
    {
     "name": "stdout",
     "output_type": "stream",
     "text": [
      "k₁: Periodic \n",
      "=================\n",
      "σ: 2.586\n",
      "l: 0.810\n",
      "p:    24 hours\n",
      "> spatial decay:\n",
      "l: 785403.011\n",
      "\n",
      "k₂: RQIso \n",
      "=================\n",
      "σ: 1.714\n",
      "l: 1.923 hours\n",
      "α: 1.134\n",
      "> spatial decay:\n",
      "l: 59470.046\n",
      "\n",
      "k₃ᵇ: RQIso \n",
      "=================\n",
      "σ: 0.388\n",
      "l: 0.295 hours\n",
      "α: 0.342\n",
      "> spatial decay:\n",
      "l: 9957.387\n",
      "\n",
      "k₄: RQIso \n",
      "=================\n",
      "σ: 3.650\n",
      "l: 0.370 days\n",
      "α: 0.319\n",
      "> spatial decay:\n",
      "l: 370417.719\n",
      "\n",
      "k₅: RQIso \n",
      "=================\n",
      "σ: 2.017\n",
      "l: 1.659 days\n",
      "α: 20.284\n",
      "> spatial decay:\n",
      "l: 1259090.257\n",
      "\n",
      "k₆ SEIso \n",
      "=================\n",
      "σ: 0.005\n",
      "l: 92.639 days\n",
      "> spatial decay:\n",
      "l: 200005.471\n",
      "\n",
      "=================\n",
      "σy: 0.186\n"
     ]
    }
   ],
   "source": [
    "print(\"k₁: Periodic \\n=================\\n\")\n",
    "@printf(\"σ: %5.3f\\n\", √k1.kern.σ2)\n",
    "@printf(\"l: %5.3f\\n\", √k1.kern.ℓ2)\n",
    "@printf(\"p: %5.0f hours\\n\", k1.kern.p)\n",
    "print(\"> spatial decay:\\n\")\n",
    "@printf(\"l: %5.3f\\n\", √ksp1.ℓ2)\n",
    "print(\"\\nk₂: RQIso \\n=================\\n\")\n",
    "@printf(\"σ: %5.3f\\n\", √ k2.σ2)\n",
    "@printf(\"l: %5.3f hours\\n\", √ k2.ℓ2)\n",
    "@printf(\"α: %5.3f\\n\", k2.α)\n",
    "print(\"> spatial decay:\\n\")\n",
    "# @printf(\"σ: %5.3f\\n\", √ksp2.σ2)\n",
    "@printf(\"l: %5.3f\\n\", √ksp2.ℓ2)\n",
    "print(\"\\nk₃ᵇ: RQIso \\n=================\\n\")\n",
    "@printf(\"σ: %5.3f\\n\", √k3b.σ2)\n",
    "@printf(\"l: %5.3f hours\\n\", √k3b.ℓ2)\n",
    "@printf(\"α: %5.3f\\n\", k3b.α)\n",
    "print(\"> spatial decay:\\n\")\n",
    "# @printf(\"σ: %5.3f\\n\", √ksp3.σ2)\n",
    "@printf(\"l: %5.3f\\n\", √ksp3.ℓ2)\n",
    "print(\"\\nk₄: RQIso \\n=================\\n\")\n",
    "@printf(\"σ: %5.3f\\n\", √k4.σ2)\n",
    "@printf(\"l: %5.3f days\\n\", √k4.ℓ2 / 24)\n",
    "@printf(\"α: %5.3f\\n\",  k4.α)\n",
    "print(\"> spatial decay:\\n\")\n",
    "# @printf(\"σ: %5.3f\\n\", √ksp4.σ2)\n",
    "@printf(\"l: %5.3f\\n\", √ksp4.ℓ2)\n",
    "print(\"\\nk₅: RQIso \\n=================\\n\")\n",
    "@printf(\"σ: %5.3f\\n\", √k5.σ2)\n",
    "@printf(\"l: %5.3f days\\n\", √k5.ℓ2 / 24)\n",
    "@printf(\"α: %5.3f\\n\",  k5.α)\n",
    "print(\"> spatial decay:\\n\")\n",
    "# @printf(\"σ: %5.3f\\n\", √ksp5.σ2)\n",
    "@printf(\"l: %5.3f\\n\", √ksp5.ℓ2)\n",
    "print(\"\\nk₆ SEIso \\n=================\\n\")\n",
    "@printf(\"σ: %5.3f\\n\", √k6.σ2)\n",
    "@printf(\"l: %5.3f days\\n\", √k6.ℓ2 / 24)\n",
    "print(\"> spatial decay:\\n\")\n",
    "# @printf(\"σ: %5.3f\\n\", √ksp6.σ2)\n",
    "@printf(\"l: %5.3f\\n\", √ksp6.ℓ2)\n",
    "print(\"\\n=================\\n\")\n",
    "@printf(\"σy: %5.3f\\n\", exp(logNoise))"
   ]
  }
 ],
 "metadata": {
  "hide_input": false,
  "kernelspec": {
   "display_name": "Julia 0.5.1",
   "language": "julia",
   "name": "julia-0.5.1"
  },
  "language_info": {
   "file_extension": ".jl",
   "mimetype": "application/julia",
   "name": "julia",
   "version": "0.5.1"
  },
  "nav_menu": {},
  "toc": {
   "colors": {
    "hover_highlight": "#DAA520",
    "running_highlight": "#FF0000",
    "selected_highlight": "#FFD700"
   },
   "moveMenuLeft": true,
   "nav_menu": {
    "height": "102px",
    "width": "252px"
   },
   "navigate_menu": true,
   "number_sections": true,
   "sideBar": true,
   "threshold": 4,
   "toc_cell": true,
   "toc_section_display": "block",
   "toc_window_display": true,
   "widenNotebook": false
  },
  "toc_position": {
   "height": "930px",
   "left": "0px",
   "right": "1065px",
   "top": "106px",
   "width": "212px"
  }
 },
 "nbformat": 4,
 "nbformat_minor": 1
}
