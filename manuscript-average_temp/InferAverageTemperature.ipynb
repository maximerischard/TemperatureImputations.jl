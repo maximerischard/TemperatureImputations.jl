{
 "cells": [
  {
   "cell_type": "markdown",
   "metadata": {},
   "source": [
    "$$\n",
    "    \\require{cancel}\n",
    "    \\newcommand{\\genericdel}[3]{%\n",
    "      \\left#1#3\\right#2\n",
    "    }\n",
    "    \\newcommand{\\del}[1]{\\genericdel(){#1}}\n",
    "    \\newcommand{\\sbr}[1]{\\genericdel[]{#1}}\n",
    "    \\newcommand{\\cbr}[1]{\\genericdel\\{\\}{#1}}\n",
    "    \\newcommand{\\abs}[1]{\\genericdel||{#1}}\n",
    "    \\DeclareMathOperator*{\\argmin}{arg\\,min}\n",
    "    \\DeclareMathOperator*{\\argmax}{arg\\,max}\n",
    "    \\DeclareMathOperator{\\Pr}{\\mathbb{p}}\n",
    "    \\DeclareMathOperator{\\E}{\\mathbb{E}}\n",
    "    \\DeclareMathOperator{\\Ind}{\\mathbb{I}}\n",
    "    \\DeclareMathOperator{\\var}{\\mathbb{V}}\n",
    "    \\DeclareMathOperator{\\mse}{MSE}\n",
    "    \\DeclareMathOperator{\\cov}{Cov}\n",
    "    \\DeclareMathOperator{\\corr}{Corr}\n",
    "    \\DeclareMathOperator{\\invchi}{\\mathrm{Inv-\\chi}^2}\n",
    "    \\newcommand{\\effect}{\\mathrm{eff}}\n",
    "    \\newcommand{\\xtilde}{\\widetilde{X}}\n",
    "    \\DeclareMathOperator{\\normal}{\\mathcal{N}}\n",
    "    \\DeclareMathOperator{\\unif}{Uniform}\n",
    "    \\DeclareMathOperator{\\GP}{\\mathcal{GP}}\n",
    "    \\newcommand{\\T}{\\mathrm{T}}\n",
    "    \\newcommand{\\Tn}{\\T_{n}}\n",
    "    \\newcommand{\\Tx}{\\T_{x}}\n",
    "    \\newcommand{\\station}[1]{\\mathrm{station}\\sbr{#1}}\n",
    "    \\newcommand{\\xvec}{\\mathbf{x}}\n",
    "    \\newcommand{\\hvec}{\\mathbf{h}}\n",
    "    \\newcommand{\\indep}{\\perp}\n",
    "    \\newcommand{\\iid}{iid}\n",
    "    \\newcommand{\\trans}{^{\\intercal}}\n",
    "    \\newcommand{\\sigmaf}{\\sigma_{\\mathrm{GP}}}\n",
    "    \\newcommand{\\sigman}{\\sigma_{\\epsilon}}\n",
    "    \\newcommand{\\degreeC}{^\\circ \\mathrm{C}}\n",
    "    \\newcommand{\\miss}{\\mathrm{miss}}\n",
    "    \\newcommand{\\obs}{\\mathrm{nearby}}\n",
    "    \\DeclareMathOperator*{\\softmax}{smoothmax}\n",
    "    \\DeclareMathOperator*{\\softmin}{smoothmin}\n",
    "    \\newcommand{\\error}{\\mathrm{err}}\n",
    "    \\newcommand{\\hour}{ \\mathtt{hr} }\n",
    "    \\DeclareMathOperator{\\kSESE}{k_{\\mathtt{SExSE}}}\n",
    "    \\DeclareMathOperator{\\kdiurn}{k_{\\mathtt{SESE\\_24}}}\n",
    "    \\DeclareMathOperator{\\ksumprod}{k_{\\mathtt{sumprod}}}\n",
    "    \\newcommand{\\iday}{\\mathtt{day}}\n",
    "    \\newcommand{\\dayset}[1]{\\cbr{i}_{#1}}\n",
    "    \\newcommand{\\discrepancy}{\\delta}\n",
    "    \\newcommand{\\Xmax}{X_{\\max}}\n",
    "    \\newcommand{\\Xmin}{X_{\\min}}\n",
    "    \\newcommand{\\Fcond}{F_{X \\mid \\Xmax,\\Xmin}}\n",
    "    \\newcommand{\\pxx}[2]{\\Pr{}_{#1#2}}\n",
    "    \\newcommand{\\pij}{\\pxx{i}{j}}\n",
    "    \\newcommand{\\pisum}{\\pxx{i}{\\bullet}}\n",
    "    \\newcommand{\\psumj}{\\pxx{\\bullet}{j}}\n",
    "    \\newcommand{\\eqlabel}[1]{\\label{#1}}\n",
    "    \\newcommand{\\thetagp}{\\theta_{\\GP}}\n",
    "    \\newcommand{\\mean}{m}\n",
    "    \\DeclareMathOperator{\\midpoint}{middle}\n",
    "    \\newcommand{\\window}{\\mathtt{win}}\n",
    "    \\DeclareMathOperator{\\buffer}{\\mathtt{buff}}\n",
    "    \\newcommand{\\best}{\\mathtt{best}}\n",
    "    \\DeclareMathOperator{\\timespan}{\\Delta}\n",
    "$$"
   ]
  },
  {
   "cell_type": "markdown",
   "metadata": {},
   "source": [
    "**Executive summary**\n",
    "\n",
    "* In 2015, the average temperature at Waterloo Municipal Airport was $9.497\\,\\degreeC$.\n",
    "* Extracting daily $\\Tn/\\Tx$ at 17:00 UTC each day and taking their mean yields an estimate of the average temperature of $9.716\\,\\degreeC$.\n",
    "* Taking the mean of the imputed temperatures yields a posterior distribution of the average temperature of $9.474\\,\\degreeC \\pm 0.020$.\n",
    "* That's pretty good!"
   ]
  },
  {
   "cell_type": "markdown",
   "metadata": {},
   "source": [
    "**Background**\n",
    "\n",
    "In the paper presenting the temperature imputations approach to the hour of measurement bias, we demonstrated our ability to “recover” summary statistics such as the average maximum temperature.\n",
    "We focused on statistics such as the average daily maximum temperature, that are deterministic functions of the daily extrema, which are in turn functions of the true temperatures and hour of measurement.\n",
    "To formalize this a little bit, let $\\T_\\miss$ be the time series of temperatures at the location of interest, and $\\hour$ be the hour of measurement.\n",
    "Then we can write the daily temperature extrema as functions $\\Tn\\del{\\T_\\miss, \\hour}$ and $\\Tx\\del{\\T_\\miss, \\hour}$.\n",
    "We additionally used information from temperature time series at nearby airport, which we denote $\\T_\\obs$.\n",
    "The paper shows how to draw imputations of $\\T_\\miss$ from its posterior distribution $\\T_\\miss \\mid \\Tn, \\Tx, \\T_\\obs, \\hour$.\n",
    "The summary statistics of interest are of the form $h\\del{\\Tn, \\Tx}$, which we can expand to $h\\del{\\Tn\\del{\\T_\\miss, \\hour}, \\Tx\\del{\\T_\\miss, \\hour}}$.\n",
    "Therefore the value of the summary statistic indirectly depends on the hour of measurement.\n",
    "In the paper, we show we can infer reasonably well what the statistic *would have been*, had we made the measurements at a different time $\\hour'$.\n",
    "That is, we successfully obtain samples from the posterior distribution\n",
    "\\begin{equation}\n",
    "    h\\del{\\Tn\\del{\\T_\\miss, \\hour'}, \\Tx\\del{\\T_\\miss, \\hour'}}\n",
    "    \\mid\n",
    "    \\Tn\\del{\\T_\\miss, \\hour}, \\Tx\\del{\\T_\\miss, \\hour}, \\T_\\obs, \\hour\n",
    "\\end{equation}\n",
    "simply by applying the function $h\\del{\\Tn\\del{\\T_\\miss, \\hour'}, \\Tx\\del{\\T_\\miss, \\hour'}}$\n",
    "to the imputations of $\\T_\\miss$ we had previously obtained."
   ]
  },
  {
   "cell_type": "markdown",
   "metadata": {},
   "source": [
    "**New Problem**\n",
    "\n",
    "In *this* document, we are interested in the year's average temperature, which is a slightly different kind of summary statistic.\n",
    "Instead of being of function of $\\Tn$ and $\\Tx$, it is a function directly of $\\T_\\miss$, and does not depend on $\\hour$, so we can write it simply as $\\mean\\del{\\T_\\miss}$.\n",
    "However, since $\\T_\\miss$ is not available, the average temperature is commonly *estimated approximately* by a statistic of the first form, the mean of the minima and maxima:\n",
    "\\begin{equation}\n",
    "    \\mean\\del{\\T_\\miss} \\approx h\\del{\\Tn, \\Tx} = \\del{\\overline{\\Tn} + \\overline{\\Tx}} \\big/ 2\\,.\n",
    "\\end{equation}\n",
    "The estimate depends on $\\hour$ but the estimand does not.\n",
    "What we propose is simply to once again obtain the posterior distribution of $\\mean\\del{\\T_\\miss}$ by applying the $\\mean$ function to the imputations, which gives us samples from\n",
    "\\begin{equation}\n",
    "    \\mean\\del{\\T_\\miss}\n",
    "    \\mid\n",
    "    \\Tn\\del{\\T_\\miss, \\hour}, \\Tx\\del{\\T_\\miss, \\hour}, \\T_\\obs, \\hour\n",
    "\\end{equation}"
   ]
  },
  {
   "cell_type": "markdown",
   "metadata": {},
   "source": [
    "**True mean temperature at Waterloo Airport**"
   ]
  },
  {
   "cell_type": "markdown",
   "metadata": {},
   "source": [
    "![\\label{fig:histogram_time_diff}Histogram of time differences](../figures/histogram_time_diff.png)"
   ]
  },
  {
   "cell_type": "markdown",
   "metadata": {},
   "source": [
    "Because I already have imputations, it was easiest to apply this idea to the Waterloo Municipal Airport.\n",
    "In that case I actually have access to hourly measurements, so I can compute the true $\\mean\\del{\\T_\\miss}$.\n",
    "The time series is provided as $N=12,695$ measurements $\\T_{\\miss,i}$, $i=1,\\dotsc,N$ made at times $t_i$.\n",
    "I refer to these as hourly measurements, but in reality the time series is irregular, with median difference of 54 minutes, mean difference 41.4 minutes, minimum difference 1 minute, and maximum difference 120 minutes (histogram in Figure \\ref{fig:histogram_time_diff}).\n",
    "For this reason, we can't simply average the temperature measurements, we should weight each observation by the amount of time it occupies.\n",
    "This gives weight\n",
    "\\begin{equation}\n",
    "w_i = \\begin{cases}\n",
    "    \\frac{1}{2}\\del{t_{i+1}-t_i} & ,i=1 \\\\\n",
    "    \\frac{1}{2}\\del{t_{i+1}-t_{i-1}} & ,i=2,\\dotsc,N-1 \\\\\n",
    "    \\frac{1}{2}\\del{t_{i}-t_{i-1}} & ,i = N\n",
    "    \\end{cases}\n",
    "\\end{equation}\n",
    "to the $i^\\text{th}$ observation $\\T_{\\miss,i}$.\n",
    "Another way to write this, which turns out to be notationally more convenient, is to weight the temperature midpoints\n",
    "\\begin{equation}\n",
    "    \\midpoint\\del{\\T_{\\miss}, i} \\equiv \\del{ \\T_{\\miss,i+1} + \\T_{\\miss,i} } \\big/ 2 \\,,i=1,\\dotsc,N-1\n",
    "\\end{equation}\n",
    "by the time differences\n",
    "\\begin{equation}\n",
    "    \\Delta_i = t_{i+1}-t_i\\,.\n",
    "\\end{equation}\n",
    "The weighted mean can therefore be written as:\n",
    "\\begin{equation}\n",
    "    \\mean\\del{\\T_\\miss} \n",
    "        \\approx \n",
    "        \\mean\\del{\n",
    "            \\cbr{\n",
    "                \\del{\\T_{\\miss,i},t_i}: \\,i=1,\\dotsc,N\n",
    "            }\n",
    "        }\n",
    "        \\equiv \n",
    "        \\frac{1}{t_N - t_1} \\sum_{i=1}^{N-1} \\midpoint\\del{\\T_{\\miss}, i} \\Delta_i\n",
    "\\label{eq:weighted_mean}\n",
    "\\end{equation}\n",
    "Applying this weighted mean formula to the temperatures measured at Waterloo Municipal Airport yields an annual mean of $\\mean\\del{\\T_\\miss} = 9.497\\,\\degreeC$ in 2015."
   ]
  },
  {
   "cell_type": "markdown",
   "metadata": {},
   "source": [
    "**Conventional estimate of mean temperature at Waterloo Airport**\n",
    "\n",
    "![\\label{fig:waterloo_mean_temp_by_hour}The 2015 mean temperature at Waterloo Municipal Airport conventionally estimated by averaging $\\Tn$ and $\\Tx$ depends on the hour of measurement.](../figures/waterloo_mean_temp_by_hour.png)"
   ]
  },
  {
   "cell_type": "markdown",
   "metadata": {},
   "source": [
    "The conventional approach to estimating $\\mean\\del{\\T_\\miss}$ is to average the daily $\\Tn$ and $\\Tx$ measurements.\n",
    "At Waterloo Airport, since we have $\\T_\\miss$, we can emulate this by first obtaining $\\Tn\\del{\\T_\\miss, \\hour}$, $\\Tx\\del{\\T_\\miss, \\hour}$ and then averaging the results together.\n",
    "The result depends on $\\hour$, and so I show the results as a function of $\\hour$ in Figure \\ref{fig:waterloo_mean_temp_by_hour}.\n",
    "Strikingly, the estimate varies by over $1\\,\\degreeC$ depending on the hour of measurement.\n",
    "If the $\\Tn$/$\\Tx$ measurements are made at 17:00 UTC, the average temperature will be estimated as $9.716\\,\\degreeC$."
   ]
  },
  {
   "cell_type": "markdown",
   "metadata": {},
   "source": [
    "**Imputation-based estimate of mean temperature at Waterloo Airport**"
   ]
  },
  {
   "cell_type": "markdown",
   "metadata": {},
   "source": [
    "Now I go ahead and apply the $\\mean$ function to the imputations.\n",
    "This isn't quite so straightforward because for computational reasons I obtained the temperature imputations for 2015 in nine-day windows, with three days overlap between adjacent windows.\n",
    "What follows is some mildly painful notation to make it completely clear how I'm obtaining my imputation-based estimate.\n",
    "We denote the time interval covered by the $k^\\text{th}$ window as $\\window_k$, so $\\cbr{i:\\,t_i \\in \\window_k}$ is the indices of the observations that are within this window.\n",
    "Each observation can fall in multiple windows.\n",
    "For a given time $t$ and a window $k$, I can calculate the buffer $\\buffer(t; \\window_k) = \\min\\del{\\max\\del{\\window_k} - t, t - \\min\\del{\\window_k}}$ that separates the time $t$ and the window's closest edge.\n",
    "The best window for imputing an observation at time $t$ is then found by $\\argmax_k \\del{\\buffer\\del{t; \\window_k}}$.\n",
    "And the set of indices of the midpoints (times halfway between two observations) for which window $k$ is the best is then written as:\n",
    "\\begin{equation}\n",
    "\\best_k \\equiv\n",
    "\\cbr{\n",
    "    i: \\argmax_{k'} \\del{\\buffer\\del{\\midpoint\\del{t, i}; \\window_{k'}}} = k\n",
    "}\\,.\n",
    "\\end{equation}\n",
    "Those midpoints occupy a duration of $\\timespan\\del{\\best_k} = t_{\\max\\del{\\best_k}+1} - t_{\\min\\del{\\best_k}}$.\n",
    "For the $l^\\text{th}$ imputed time series $\\T_\\miss^{(l)}$ ($l=1,\\dotsc,L$) within each window $k$, I obtain the weighted mean of imputed temperatures for the midpoints in the middle of the window:\n",
    "\\begin{equation}\n",
    "    \\overline{\\T}_{k}^{(l)} = \\mean\\del{\n",
    "            \\cbr{\n",
    "                \\del{\\T_{\\miss,i}^{(l)},t_i} ;\\,i \\in \\best_k\n",
    "            }\n",
    "        }\n",
    "         \\,,\n",
    "\\end{equation}\n",
    "as defined in \\eqref{eq:weighted_mean}.\n",
    "The posterior mean and variance $\\mu_k$, $\\sigma^2_k$ are estimated by computing the sample mean and variance of $\\overline{\\T}_{k}^{(l)}$ over the $L$ imputations.\n",
    "Then I combine the estimates for each window by taking a weighted mean of the $\\mu_k$'s:\n",
    "\\begin{equation}\n",
    "\\begin{split}\n",
    "    \\E\\del{\\mean\\del{\\T_\\miss} \\mid \\Tn, \\Tx, \\T_\\obs, \\hour} \n",
    "    &=\n",
    "    \\frac{1}{t_N - t_1} \\sum_{k=1}^K \\mu_k \\timespan\\del{\\best_k} \\\\\n",
    "    \\var\\del{\\mean\\del{\\T_\\miss} \\mid \\Tn, \\Tx, \\T_\\obs, \\hour} \n",
    "    &\\approx \\frac{1}{\\del{t_N - t_1}^2} \\sum_{k=1}^K \\sigma^2_k \\timespan\\del{\\best_k}^2 \\\\\n",
    "\\end{split}\n",
    "\\end{equation}\n",
    "The expectation of the posterior of $\\mean\\del{\\T_\\miss}$ is exact up to Monte Carlo error, but the variance estimate ignores correlations between windows. \n",
    "Long story short, the resulting estimate is\n",
    "\\begin{equation}\n",
    "\\begin{split}\n",
    "    \\E\\del{\\mean\\del{\\T_\\miss} \\mid \\Tn, \\Tx, \\T_\\obs, \\hour} \n",
    "    &=\n",
    "    9.474\\,\\degreeC\\\\\n",
    "    \\var\\del{\\mean\\del{\\T_\\miss} \\mid \\Tn, \\Tx, \\T_\\obs, \\hour} \n",
    "    &\\approx \\del{0.020\\,\\degreeC}^2\\,, \\\\\n",
    "\\end{split}\n",
    "\\end{equation}\n",
    "which is a good estimate of the true $\\mean\\del{\\T_\\miss} = 9.497\\,\\degreeC$."
   ]
  }
 ],
 "metadata": {
  "hide_input": false,
  "kernelspec": {
   "display_name": "Julia 0.6.2",
   "language": "julia",
   "name": "julia-0.6"
  },
  "language_info": {
   "file_extension": ".jl",
   "mimetype": "application/julia",
   "name": "julia",
   "version": "0.6.2"
  },
  "toc": {
   "colors": {
    "hover_highlight": "#DAA520",
    "running_highlight": "#FF0000",
    "selected_highlight": "#FFD700"
   },
   "moveMenuLeft": true,
   "nav_menu": {
    "height": "12px",
    "width": "252px"
   },
   "navigate_menu": true,
   "number_sections": true,
   "sideBar": true,
   "threshold": 4,
   "toc_cell": false,
   "toc_section_display": "block",
   "toc_window_display": false,
   "widenNotebook": false
  }
 },
 "nbformat": 4,
 "nbformat_minor": 2
}
