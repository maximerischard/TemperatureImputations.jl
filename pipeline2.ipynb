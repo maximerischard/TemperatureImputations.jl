{
 "cells": [
  {
   "cell_type": "markdown",
   "metadata": {
    "toc": "true"
   },
   "source": [
    "# Table of Contents\n",
    " <p>"
   ]
  },
  {
   "cell_type": "code",
   "execution_count": 4,
   "metadata": {
    "collapsed": false
   },
   "outputs": [
    {
     "data": {
      "text/plain": [
       "\"/n/home04/mrischard/cmdstan-2.12.0/\""
      ]
     },
     "execution_count": 4,
     "metadata": {},
     "output_type": "execute_result"
    }
   ],
   "source": [
    "CMDSTAN_HOME"
   ]
  },
  {
   "cell_type": "code",
   "execution_count": 5,
   "metadata": {
    "collapsed": false
   },
   "outputs": [
    {
     "name": "stdout",
     "output_type": "stream",
     "text": [
      "Environment variable JULIA_SVG_BROWSER not found.\n"
     ]
    },
    {
     "name": "stderr",
     "output_type": "stream",
     "text": [
      "WARNING: Method definition (::Type{Graphs.KeyVertex})(Int64, #K<:Any) in module Graphs at /n/home04/mrischard/.julia/v0.5/Graphs/src/common.jl:12 overwritten at /n/home04/mrischard/.julia/v0.5/Graphs/src/common.jl:16.\n",
      "WARNING: Method definition (::Type{Graphs.Edge})(Int64, #V<:Any, #V<:Any) in module Graphs at /n/home04/mrischard/.julia/v0.5/Graphs/src/common.jl:54 overwritten at /n/home04/mrischard/.julia/v0.5/Graphs/src/common.jl:60.\n",
      "WARNING: Method definition (::Type{Graphs.ExEdge})(Int64, #V<:Any, #V<:Any, Base.Dict{String, Any}) in module Graphs at /n/home04/mrischard/.julia/v0.5/Graphs/src/common.jl:72 overwritten at /n/home04/mrischard/.julia/v0.5/Graphs/src/common.jl:83.\n",
      "WARNING: Method definition (::Type{Graphs.TargetIterator})(#G<:Graphs.AbstractGraph, #EList<:Any) in module Graphs at /n/home04/mrischard/.julia/v0.5/Graphs/src/common.jl:123 overwritten at /n/home04/mrischard/.julia/v0.5/Graphs/src/common.jl:127.\n",
      "WARNING: Method definition (::Type{Graphs.SourceIterator})(#G<:Graphs.AbstractGraph, #EList<:Any) in module Graphs at /n/home04/mrischard/.julia/v0.5/Graphs/src/common.jl:141 overwritten at /n/home04/mrischard/.julia/v0.5/Graphs/src/common.jl:145.\n",
      "WARNING: Method definition edge_property_requirement(Graphs.AbstractEdgePropertyInspector{#T<:Any}, Graphs.AbstractGraph{#V<:Any, E<:Any}) in module Graphs at /n/home04/mrischard/.julia/v0.5/Graphs/src/common.jl:164 overwritten at /n/home04/mrischard/.julia/v0.5/Graphs/src/common.jl:179.\n",
      "WARNING: Method definition vertex_index(#V<:Union{Graphs.ExVertex, Graphs.KeyVertex}, Graphs.GenericGraph{#V<:Union{Graphs.ExVertex, Graphs.KeyVertex}, E<:Any, VList<:Any, EList<:Any, IncList<:Any}) in module Graphs at /n/home04/mrischard/.julia/v0.5/Graphs/src/graph.jl:65 overwritten at /n/home04/mrischard/.julia/v0.5/Graphs/src/graph.jl:67.\n",
      "WARNING: Method definition (::Type{Graphs.GDistanceVisitor})(#G<:Graphs.AbstractGraph, #DMap<:Any) in module Graphs at /n/home04/mrischard/.julia/v0.5/Graphs/src/breadth_first_visit.jl:107 overwritten at /n/home04/mrischard/.julia/v0.5/Graphs/src/breadth_first_visit.jl:111.\n",
      "WARNING: using Stan.CMDSTAN_HOME in module Main conflicts with an existing identifier.\n"
     ]
    }
   ],
   "source": [
    "using Stan\n",
    "using DataFrames\n",
    "using GaussianProcesses\n",
    "using Proj4\n",
    "using PDMats: PDMat\n",
    "using DataFrames: head\n",
    "using Base.Dates: Day, Hour\n",
    ";\n",
    "\n",
    "using JLD\n",
    "\n",
    "using GaussianProcesses: SumKernel"
   ]
  },
  {
   "cell_type": "code",
   "execution_count": 6,
   "metadata": {
    "collapsed": false,
    "scrolled": true
   },
   "outputs": [
    {
     "ename": "LoadError",
     "evalue": "LoadError: LoadError: error in method definition: function Base.cov must be explicitly imported to be extended\nwhile loading /n/home04/mrischard/temperature_model/src/variogram.jl, in expression starting on line 19\nwhile loading In[6], in expression starting on line 3",
     "output_type": "error",
     "traceback": [
      "LoadError: LoadError: error in method definition: function Base.cov must be explicitly imported to be extended\nwhile loading /n/home04/mrischard/temperature_model/src/variogram.jl, in expression starting on line 19\nwhile loading In[6], in expression starting on line 3",
      "",
      " in include_from_node1(::String) at ./loading.jl:488"
     ]
    }
   ],
   "source": [
    "include(\"src/utils.jl\")\n",
    "include(\"src/preprocessing.jl\")\n",
    "include(\"src/variogram.jl\")"
   ]
  },
  {
   "cell_type": "code",
   "execution_count": 7,
   "metadata": {
    "collapsed": false
   },
   "outputs": [
    {
     "data": {
      "text/html": [
       "<table class=\"data-frame\"><tr><th></th><th>USAF</th><th>WBAN</th><th>NAME</th><th>CTRY</th><th>STATE</th><th>ICAO</th><th>LAT</th><th>LON</th><th>ELEV</th><th>BEGIN</th><th>END</th><th>X_PRJ</th><th>Y_PRJ</th></tr><tr><th>1</th><td>725450</td><td>14990</td><td>THE EASTERN IOWA AIRPORT</td><td>US</td><td>IA</td><td>KCID</td><td>41.883</td><td>-91.717</td><td>264.6</td><td>1973</td><td>2015</td><td>1.64799e6</td><td>1.0441e6</td></tr><tr><th>2</th><td>725460</td><td>14933</td><td>DES MOINES INTERNATIONAL AIRPORT</td><td>US</td><td>IA</td><td>KDSM</td><td>41.534</td><td>-93.653</td><td>291.7</td><td>1973</td><td>2015</td><td>1.48723e6</td><td>1.00379e6</td></tr><tr><th>3</th><td>725480</td><td>94910</td><td>WATERLOO MUNICIPAL AIRPORT</td><td>US</td><td>IA</td><td>KALO</td><td>42.554</td><td>-92.401</td><td>264.6</td><td>1960</td><td>2015</td><td>1.59025e6</td><td>1.11766e6</td></tr><tr><th>4</th><td>725485</td><td>14940</td><td>MASON CITY MUNICIPAL ARPT</td><td>US</td><td>IA</td><td>KMCW</td><td>43.154</td><td>-93.327</td><td>373.4</td><td>1973</td><td>2015</td><td>1.51407e6</td><td>1.18374e6</td></tr></table>"
      ],
      "text/plain": [
       "4×13 DataFrames.DataFrame\n",
       "│ Row │ USAF   │ WBAN  │ NAME                             │ CTRY │ STATE │\n",
       "├─────┼────────┼───────┼──────────────────────────────────┼──────┼───────┤\n",
       "│ 1   │ 725450 │ 14990 │ THE EASTERN IOWA AIRPORT         │ US   │ IA    │\n",
       "│ 2   │ 725460 │ 14933 │ DES MOINES INTERNATIONAL AIRPORT │ US   │ IA    │\n",
       "│ 3   │ 725480 │ 94910 │ WATERLOO MUNICIPAL AIRPORT       │ US   │ IA    │\n",
       "│ 4   │ 725485 │ 14940 │ MASON CITY MUNICIPAL ARPT        │ US   │ IA    │\n",
       "\n",
       "│ Row │ ICAO │ LAT    │ LON     │ ELEV  │ BEGIN │ END  │ X_PRJ     │ Y_PRJ     │\n",
       "├─────┼──────┼────────┼─────────┼───────┼───────┼──────┼───────────┼───────────┤\n",
       "│ 1   │ KCID │ 41.883 │ -91.717 │ 264.6 │ 1973  │ 2015 │ 1.64799e6 │ 1.0441e6  │\n",
       "│ 2   │ KDSM │ 41.534 │ -93.653 │ 291.7 │ 1973  │ 2015 │ 1.48723e6 │ 1.00379e6 │\n",
       "│ 3   │ KALO │ 42.554 │ -92.401 │ 264.6 │ 1960  │ 2015 │ 1.59025e6 │ 1.11766e6 │\n",
       "│ 4   │ KMCW │ 43.154 │ -93.327 │ 373.4 │ 1973  │ 2015 │ 1.51407e6 │ 1.18374e6 │"
      ]
     },
     "execution_count": 7,
     "metadata": {},
     "output_type": "execute_result"
    }
   ],
   "source": [
    "isdList=read_isdList()\n",
    "isdSubset=isdList[[(usaf in (725450,725460,725480,725485)) for usaf in isdList[:USAF].values],:]\n",
    "isdSubset"
   ]
  },
  {
   "cell_type": "code",
   "execution_count": 8,
   "metadata": {
    "collapsed": false
   },
   "outputs": [
    {
     "data": {
      "text/plain": [
       "3"
      ]
     },
     "execution_count": 8,
     "metadata": {},
     "output_type": "execute_result"
    }
   ],
   "source": [
    "hourly_cat=read_Stations(isdSubset)\n",
    "itest=3"
   ]
  },
  {
   "cell_type": "code",
   "execution_count": 9,
   "metadata": {
    "collapsed": false
   },
   "outputs": [
    {
     "data": {
      "text/html": [
       "<table class=\"data-frame\"><tr><th></th><th>ts_day</th><th>Tn</th><th>Tx</th><th>times_p_day</th></tr><tr><th>1</th><td>2015-01-01</td><td>-11.1</td><td>-3.9</td><td>20</td></tr><tr><th>2</th><td>2015-01-02</td><td>-10.6</td><td>1.7</td><td>30</td></tr><tr><th>3</th><td>2015-01-03</td><td>-5.6</td><td>-1.0</td><td>43</td></tr><tr><th>4</th><td>2015-01-04</td><td>-15.0</td><td>0.6</td><td>62</td></tr><tr><th>5</th><td>2015-01-05</td><td>-23.3</td><td>-13.9</td><td>28</td></tr><tr><th>6</th><td>2015-01-06</td><td>-27.8</td><td>-13.9</td><td>47</td></tr><tr><th>7</th><td>2015-01-07</td><td>-21.1</td><td>-13.3</td><td>32</td></tr><tr><th>8</th><td>2015-01-08</td><td>-24.4</td><td>-14.4</td><td>39</td></tr><tr><th>9</th><td>2015-01-09</td><td>-17.8</td><td>-6.1</td><td>77</td></tr><tr><th>10</th><td>2015-01-10</td><td>-21.1</td><td>-11.1</td><td>29</td></tr><tr><th>11</th><td>2015-01-11</td><td>-17.8</td><td>-4.4</td><td>28</td></tr><tr><th>12</th><td>2015-01-12</td><td>-16.7</td><td>-3.9</td><td>31</td></tr><tr><th>13</th><td>2015-01-13</td><td>-26.7</td><td>-12.2</td><td>28</td></tr><tr><th>14</th><td>2015-01-14</td><td>-16.7</td><td>-5.0</td><td>36</td></tr><tr><th>15</th><td>2015-01-15</td><td>-9.4</td><td>-1.1</td><td>29</td></tr><tr><th>16</th><td>2015-01-16</td><td>-10.0</td><td>1.7</td><td>36</td></tr><tr><th>17</th><td>2015-01-17</td><td>0.6</td><td>3.9</td><td>28</td></tr><tr><th>18</th><td>2015-01-18</td><td>-0.6</td><td>5.6</td><td>31</td></tr><tr><th>19</th><td>2015-01-19</td><td>-6.7</td><td>5.6</td><td>30</td></tr><tr><th>20</th><td>2015-01-20</td><td>-1.1</td><td>5.6</td><td>33</td></tr><tr><th>21</th><td>2015-01-21</td><td>0.0</td><td>2.8</td><td>47</td></tr><tr><th>22</th><td>2015-01-22</td><td>-4.4</td><td>0.0</td><td>45</td></tr><tr><th>23</th><td>2015-01-23</td><td>-5.6</td><td>-1.1</td><td>30</td></tr><tr><th>24</th><td>2015-01-24</td><td>-2.8</td><td>3.9</td><td>28</td></tr><tr><th>25</th><td>2015-01-25</td><td>-1.7</td><td>8.3</td><td>40</td></tr><tr><th>26</th><td>2015-01-26</td><td>-4.4</td><td>0.0</td><td>43</td></tr><tr><th>27</th><td>2015-01-27</td><td>-0.6</td><td>7.2</td><td>34</td></tr><tr><th>28</th><td>2015-01-28</td><td>-3.3</td><td>1.1</td><td>38</td></tr><tr><th>29</th><td>2015-01-29</td><td>-1.1</td><td>2.8</td><td>41</td></tr><tr><th>30</th><td>2015-01-30</td><td>-12.2</td><td>0.6</td><td>33</td></tr><tr><th>&vellip;</th><td>&vellip;</td><td>&vellip;</td><td>&vellip;</td><td>&vellip;</td></tr></table>"
      ],
      "text/plain": [
       "366×4 DataFrames.DataFrame\n",
       "│ Row │ ts_day     │ Tn    │ Tx    │ times_p_day │\n",
       "├─────┼────────────┼───────┼───────┼─────────────┤\n",
       "│ 1   │ 2015-01-01 │ -11.1 │ -3.9  │ 20          │\n",
       "│ 2   │ 2015-01-02 │ -10.6 │ 1.7   │ 30          │\n",
       "│ 3   │ 2015-01-03 │ -5.6  │ -1.0  │ 43          │\n",
       "│ 4   │ 2015-01-04 │ -15.0 │ 0.6   │ 62          │\n",
       "│ 5   │ 2015-01-05 │ -23.3 │ -13.9 │ 28          │\n",
       "│ 6   │ 2015-01-06 │ -27.8 │ -13.9 │ 47          │\n",
       "│ 7   │ 2015-01-07 │ -21.1 │ -13.3 │ 32          │\n",
       "│ 8   │ 2015-01-08 │ -24.4 │ -14.4 │ 39          │\n",
       "│ 9   │ 2015-01-09 │ -17.8 │ -6.1  │ 77          │\n",
       "│ 10  │ 2015-01-10 │ -21.1 │ -11.1 │ 29          │\n",
       "│ 11  │ 2015-01-11 │ -17.8 │ -4.4  │ 28          │\n",
       "⋮\n",
       "│ 355 │ 2015-12-21 │ 1.7   │ 8.9   │ 48          │\n",
       "│ 356 │ 2015-12-22 │ -1.7  │ 1.7   │ 34          │\n",
       "│ 357 │ 2015-12-23 │ -0.6  │ 6.1   │ 43          │\n",
       "│ 358 │ 2015-12-24 │ -2.8  │ 7.2   │ 50          │\n",
       "│ 359 │ 2015-12-25 │ -4.4  │ 0.0   │ 68          │\n",
       "│ 360 │ 2015-12-26 │ -3.3  │ 1.1   │ 47          │\n",
       "│ 361 │ 2015-12-27 │ -1.7  │ 1.1   │ 37          │\n",
       "│ 362 │ 2015-12-28 │ -6.1  │ 0.6   │ 46          │\n",
       "│ 363 │ 2015-12-29 │ -6.0  │ -3.9  │ 60          │\n",
       "│ 364 │ 2015-12-30 │ -6.1  │ -3.9  │ 51          │\n",
       "│ 365 │ 2015-12-31 │ -10.0 │ -3.9  │ 37          │\n",
       "│ 366 │ 2016-01-01 │ -8.9  │ -7.2  │ 8           │"
      ]
     },
     "execution_count": 9,
     "metadata": {},
     "output_type": "execute_result"
    }
   ],
   "source": [
    "TnTx = test_data(hourly_cat, itest, Hour(17))"
   ]
  },
  {
   "cell_type": "code",
   "execution_count": 10,
   "metadata": {
    "collapsed": false
   },
   "outputs": [
    {
     "data": {
      "text/plain": [
       "pred"
      ]
     },
     "execution_count": 10,
     "metadata": {},
     "output_type": "execute_result"
    }
   ],
   "source": [
    "module pred\n",
    "    using PDMats: PDMat\n",
    "    using DataFrames\n",
    "    using GaussianProcesses: GP, Kernel, MeanZero, predict\n",
    "    using Base.Dates: Day, Hour\n",
    "    using Stan\n",
    "    using DataFrames: DataFrame, by\n",
    "\n",
    "    include(\"src/utils.jl\")\n",
    "    include(\"src/predict_from_nearby.jl\")\n",
    "    include(\"src/stan_impute.jl\")\n",
    "end"
   ]
  },
  {
   "cell_type": "code",
   "execution_count": 11,
   "metadata": {
    "collapsed": false,
    "scrolled": true
   },
   "outputs": [
    {
     "data": {
      "text/plain": [
       "pred.NearbyPrediction(DateTime[2015-01-01T00:00:00,2015-01-01T00:54:00,2015-01-01T01:54:00,2015-01-01T02:54:00,2015-01-01T03:54:00,2015-01-01T04:54:00,2015-01-01T05:54:00,2015-01-01T06:00:00,2015-01-01T06:54:00,2015-01-01T07:54:00  …  2015-03-14T15:54:00,2015-03-14T16:54:00,2015-03-14T17:54:00,2015-03-14T18:00:00,2015-03-14T18:54:00,2015-03-14T19:54:00,2015-03-14T20:54:00,2015-03-14T21:54:00,2015-03-14T22:54:00,2015-03-14T23:54:00],[-1.36302,-2.03424,-2.4972,-2.78961,-3.2936,-3.51268,-3.79265,-3.7996,-3.79836,-3.83079  …  13.2922,15.8366,18.0617,18.2206,19.3765,20.5769,20.9216,20.8476,19.7075,16.5303],PDMats.PDMat{Float64,Array{Float64,2}}(2524,[26.6417 25.9274 … 6.45282 6.75446; 25.9274 26.378 … 5.81845 6.50425; … ; 6.45282 5.81845 … 26.3774 25.8338; 6.75446 6.50425 … 25.8338 26.3789],Base.LinAlg.Cholesky{Float64,Array{Float64,2}} with factor:\n",
       "[5.16156 5.02317 … 1.25017 1.30861; 0.0 1.07041 … -0.431018 -0.0645656; … ; 0.0 0.0 … 0.723859 0.891823; 0.0 0.0 … 0.0 0.724852]))"
      ]
     },
     "execution_count": 11,
     "metadata": {},
     "output_type": "execute_result"
    }
   ],
   "source": [
    "nearby_pred=load(\"saved/predictions_from_nearby/725480_2015-01-01_to_2015-03-14.jld\")[\"nearby_pred\"]"
   ]
  },
  {
   "cell_type": "code",
   "execution_count": 12,
   "metadata": {
    "collapsed": false
   },
   "outputs": [
    {
     "data": {
      "text/plain": [
       "Dict{String,Any} with 10 entries:\n",
       "  \"Tx\"                 => [-4.4,-0.6,0.0,-9.4,-3.3]\n",
       "  \"predicted_cov_chol\" => [5.13586 5.13416 … 1.31182 1.44402; 0.0 0.163135 … -0…\n",
       "  \"impt_times_p_day\"   => [33,37,34,28,28]\n",
       "  \"Nimpt\"              => 160\n",
       "  \"Tn\"                 => [-21.1,-6.7,-14.4,-22.8,-17.8]\n",
       "  \"N_TxTn\"             => 5\n",
       "  \"day_impute\"         => [1,1,1,1,1,1,1,1,1,1  …  5,5,5,5,5,5,5,5,5,5]\n",
       "  \"predicted_cov\"      => [26.3771 26.3683 … 6.73733 7.4163; 26.3683 26.3862 … …\n",
       "  \"predicted_mean\"     => [1.6293,1.71351,2.39762,2.74985,3.22292,3.33772,2.627…\n",
       "  \"k_softmax\"          => 10.0"
      ]
     },
     "execution_count": 12,
     "metadata": {},
     "output_type": "execute_result"
    }
   ],
   "source": [
    "imputation_data=pred.prep_data(nearby_pred, TnTx, Date(2015,3,1), Hour(17), Day(5))"
   ]
  },
  {
   "cell_type": "code",
   "execution_count": 13,
   "metadata": {
    "collapsed": false
   },
   "outputs": [],
   "source": [
    "imputation_model = pred.get_imputation_model();"
   ]
  },
  {
   "cell_type": "code",
   "execution_count": null,
   "metadata": {
    "collapsed": false
   },
   "outputs": [
    {
     "name": "stdout",
     "output_type": "stream",
     "text": [
      "=========\n",
      "4 days\n",
      "\n",
      "make: `/n/home04/mrischard/temperature_model/tmp/imputation' is up to date.\n",
      "\n",
      "Length of data array is not equal to nchains,\n",
      "all chains will use the first data dictionary.\n",
      "\n",
      "514.874798 seconds (4.25 M allocations: 100.706 GB, 1.95% gc time)\n",
      "=========\n",
      "=========\n",
      "5 days\n",
      "\n",
      "make: `/n/home04/mrischard/temperature_model/tmp/imputation' is up to date.\n",
      "\n",
      "Length of data array is not equal to nchains,\n",
      "all chains will use the first data dictionary.\n",
      "\n"
     ]
    }
   ],
   "source": [
    "for window_days in (4:9)\n",
    "    println(\"=========\")\n",
    "    @printf(\"%d days\\n\", window_days)\n",
    "    imputation_data=pred.prep_data(nearby_pred, TnTx, Date(2015,3,1), Hour(17), Day(window_days))\n",
    "    @time sim1 = stan(\n",
    "        imputation_model, \n",
    "        [imputation_data], \n",
    "        CmdStanDir=Stan.CMDSTAN_HOME, \n",
    "        summary=false, \n",
    "        diagnostics=false\n",
    "        )\n",
    "    println(\"=========\")\n",
    "end"
   ]
  }
 ],
 "metadata": {
  "kernelspec": {
   "display_name": "Julia 0.5.0",
   "language": "julia",
   "name": "julia-0.5"
  },
  "language_info": {
   "file_extension": ".jl",
   "mimetype": "application/julia",
   "name": "julia",
   "version": "0.5.0"
  },
  "nav_menu": {},
  "toc": {
   "navigate_menu": true,
   "number_sections": true,
   "sideBar": true,
   "threshold": 6,
   "toc_cell": true,
   "toc_section_display": "block",
   "toc_window_display": false
  }
 },
 "nbformat": 4,
 "nbformat_minor": 1
}
