{
 "cells": [
  {
   "cell_type": "markdown",
   "metadata": {
    "deletable": true,
    "editable": true,
    "toc": "true"
   },
   "source": [
    "# Table of Contents\n",
    " <p><div class=\"lev1 toc-item\"><a href=\"#Data-Import-and-Preprocessing\" data-toc-modified-id=\"Data-Import-and-Preprocessing-1\"><span class=\"toc-item-num\">1&nbsp;&nbsp;</span>Data Import and Preprocessing</a></div><div class=\"lev2 toc-item\"><a href=\"#Distances\" data-toc-modified-id=\"Distances-1.1\"><span class=\"toc-item-num\">1.1&nbsp;&nbsp;</span>Distances</a></div><div class=\"lev1 toc-item\"><a href=\"#Modifications-of-the-spatiotemporal-kernel\" data-toc-modified-id=\"Modifications-of-the-spatiotemporal-kernel-2\"><span class=\"toc-item-num\">2&nbsp;&nbsp;</span>Modifications of the spatiotemporal kernel</a></div><div class=\"lev2 toc-item\"><a href=\"#Allowing-for-mean-variation\" data-toc-modified-id=\"Allowing-for-mean-variation-2.1\"><span class=\"toc-item-num\">2.1&nbsp;&nbsp;</span>Allowing for mean variation</a></div><div class=\"lev2 toc-item\"><a href=\"#Separating-fast-component\" data-toc-modified-id=\"Separating-fast-component-2.2\"><span class=\"toc-item-num\">2.2&nbsp;&nbsp;</span>Separating fast component</a></div><div class=\"lev2 toc-item\"><a href=\"#Separating-each-component\" data-toc-modified-id=\"Separating-each-component-2.3\"><span class=\"toc-item-num\">2.3&nbsp;&nbsp;</span>Separating each component</a></div><div class=\"lev2 toc-item\"><a href=\"#Releasing-variances\" data-toc-modified-id=\"Releasing-variances-2.4\"><span class=\"toc-item-num\">2.4&nbsp;&nbsp;</span>Releasing variances</a></div>"
   ]
  },
  {
   "cell_type": "code",
   "execution_count": 2,
   "metadata": {
    "collapsed": false,
    "deletable": true,
    "editable": true
   },
   "outputs": [],
   "source": [
    "using TimeSeries\n",
    "using DataFrames\n",
    "using GaussianProcesses\n",
    "using GaussianProcesses: Mean, Kernel, evaluate, metric, IsotropicData, VecF64\n",
    "using GaussianProcesses: Stationary, KernelData, MatF64\n",
    "import GaussianProcesses: optimize!, get_optim_target, cov, grad_slice!\n",
    "import GaussianProcesses: num_params, set_params!, get_params, update_mll!, update_mll_and_dmll!\n",
    "import GaussianProcesses: get_param_names, cov!, addcov!, multcov!\n",
    "import Proj4\n",
    "using Optim\n",
    "using Distances\n",
    ";"
   ]
  },
  {
   "cell_type": "code",
   "execution_count": 3,
   "metadata": {
    "collapsed": false,
    "deletable": true,
    "editable": true
   },
   "outputs": [],
   "source": [
    "import PyPlot; plt=PyPlot\n",
    "using LaTeXStrings\n",
    "plt.rc(\"figure\", dpi=300.0)\n",
    "# plt.rc(\"figure\", figsize=(6,4))\n",
    "plt.rc(\"savefig\", dpi=300.0)\n",
    "plt.rc(\"text\", usetex=true)\n",
    "plt.rc(\"font\", family=\"serif\")\n",
    "plt.rc(\"font\", serif=\"Palatino\")\n",
    ";"
   ]
  },
  {
   "cell_type": "markdown",
   "metadata": {
    "deletable": true,
    "editable": true
   },
   "source": [
    "# Data Import and Preprocessing"
   ]
  },
  {
   "cell_type": "code",
   "execution_count": 4,
   "metadata": {
    "collapsed": false,
    "deletable": true,
    "editable": true
   },
   "outputs": [
    {
     "data": {
      "text/plain": [
       "test_data (generic function with 1 method)"
      ]
     },
     "execution_count": 4,
     "metadata": {},
     "output_type": "execute_result"
    }
   ],
   "source": [
    "include(\"src/preprocessing.jl\")"
   ]
  },
  {
   "cell_type": "code",
   "execution_count": 7,
   "metadata": {
    "collapsed": false,
    "deletable": true,
    "editable": true
   },
   "outputs": [
    {
     "name": "stderr",
     "output_type": "stream",
     "text": [
      "WARNING: replacing module TempModel\n"
     ]
    },
    {
     "data": {
      "text/plain": [
       "TempModel"
      ]
     },
     "execution_count": 7,
     "metadata": {},
     "output_type": "execute_result"
    }
   ],
   "source": [
    "include(\"src/TempModel.jl\")"
   ]
  },
  {
   "cell_type": "code",
   "execution_count": 8,
   "metadata": {
    "collapsed": false,
    "deletable": true,
    "editable": true
   },
   "outputs": [
    {
     "data": {
      "text/html": [
       "<table class=\"data-frame\"><tr><th></th><th>USAF</th><th>WBAN</th><th>NAME</th><th>CTRY</th><th>STATE</th><th>ICAO</th><th>LAT</th><th>LON</th><th>ELEV</th><th>BEGIN</th><th>END</th><th>X_PRJ</th><th>Y_PRJ</th></tr><tr><th>1</th><td>10010</td><td>99999</td><td>JAN MAYEN(NOR-NAVY)</td><td>NO</td><td></td><td>ENJA</td><td>70.933</td><td>-8.667</td><td>9.0</td><td>1931</td><td>2015</td><td>4.5545e6</td><td>6.11344e6</td></tr><tr><th>2</th><td>10060</td><td>99999</td><td>EDGEOYA</td><td>NO</td><td></td><td></td><td>78.25</td><td>22.817</td><td>14.0</td><td>1973</td><td>2015</td><td>4.04982e6</td><td>7.5564e6</td></tr><tr><th>3</th><td>10070</td><td>99999</td><td>NY-ALESUND</td><td>SV</td><td></td><td></td><td>78.917</td><td>11.933</td><td>7.7</td><td>1973</td><td>2015</td><td>3.8678e6</td><td>7.26549e6</td></tr><tr><th>4</th><td>10080</td><td>99999</td><td>LONGYEAR</td><td>SV</td><td></td><td>ENSB</td><td>78.246</td><td>15.466</td><td>26.8</td><td>1975</td><td>2015</td><td>3.99705e6</td><td>7.33669e6</td></tr><tr><th>5</th><td>10090</td><td>99999</td><td>KARL XII OYA</td><td>SV</td><td></td><td></td><td>80.65</td><td>25.0</td><td>5.0</td><td>1955</td><td>2015</td><td>3.69259e6</td><td>7.68545e6</td></tr></table>"
      ],
      "text/plain": [
       "5×13 DataFrames.DataFrame\n",
       "│ Row │ USAF  │ WBAN  │ NAME                │ CTRY │ STATE │ ICAO │ LAT    │\n",
       "├─────┼───────┼───────┼─────────────────────┼──────┼───────┼──────┼────────┤\n",
       "│ 1   │ 10010 │ 99999 │ JAN MAYEN(NOR-NAVY) │ NO   │       │ ENJA │ 70.933 │\n",
       "│ 2   │ 10060 │ 99999 │ EDGEOYA             │ NO   │       │      │ 78.25  │\n",
       "│ 3   │ 10070 │ 99999 │ NY-ALESUND          │ SV   │       │      │ 78.917 │\n",
       "│ 4   │ 10080 │ 99999 │ LONGYEAR            │ SV   │       │ ENSB │ 78.246 │\n",
       "│ 5   │ 10090 │ 99999 │ KARL XII OYA        │ SV   │       │      │ 80.65  │\n",
       "\n",
       "│ Row │ LON    │ ELEV │ BEGIN │ END  │ X_PRJ     │ Y_PRJ     │\n",
       "├─────┼────────┼──────┼───────┼──────┼───────────┼───────────┤\n",
       "│ 1   │ -8.667 │ 9.0  │ 1931  │ 2015 │ 4.5545e6  │ 6.11344e6 │\n",
       "│ 2   │ 22.817 │ 14.0 │ 1973  │ 2015 │ 4.04982e6 │ 7.5564e6  │\n",
       "│ 3   │ 11.933 │ 7.7  │ 1973  │ 2015 │ 3.8678e6  │ 7.26549e6 │\n",
       "│ 4   │ 15.466 │ 26.8 │ 1975  │ 2015 │ 3.99705e6 │ 7.33669e6 │\n",
       "│ 5   │ 25.0   │ 5.0  │ 1955  │ 2015 │ 3.69259e6 │ 7.68545e6 │"
      ]
     },
     "execution_count": 8,
     "metadata": {},
     "output_type": "execute_result"
    }
   ],
   "source": [
    "isdList=read_isdList()\n",
    "isdList[1:5,:]"
   ]
  },
  {
   "cell_type": "code",
   "execution_count": 9,
   "metadata": {
    "collapsed": false,
    "deletable": true,
    "editable": true
   },
   "outputs": [
    {
     "data": {
      "text/html": [
       "<table class=\"data-frame\"><tr><th></th><th>USAF</th><th>WBAN</th><th>NAME</th><th>CTRY</th><th>STATE</th><th>ICAO</th><th>LAT</th><th>LON</th><th>ELEV</th><th>BEGIN</th><th>END</th><th>X_PRJ</th><th>Y_PRJ</th></tr><tr><th>1</th><td>725450</td><td>14990</td><td>THE EASTERN IOWA AIRPORT</td><td>US</td><td>IA</td><td>KCID</td><td>41.883</td><td>-91.717</td><td>264.6</td><td>1973</td><td>2015</td><td>1.64799e6</td><td>1.0441e6</td></tr><tr><th>2</th><td>725460</td><td>14933</td><td>DES MOINES INTERNATIONAL AIRPORT</td><td>US</td><td>IA</td><td>KDSM</td><td>41.534</td><td>-93.653</td><td>291.7</td><td>1973</td><td>2015</td><td>1.48723e6</td><td>1.00379e6</td></tr><tr><th>3</th><td>725480</td><td>94910</td><td>WATERLOO MUNICIPAL AIRPORT</td><td>US</td><td>IA</td><td>KALO</td><td>42.554</td><td>-92.401</td><td>264.6</td><td>1960</td><td>2015</td><td>1.59025e6</td><td>1.11766e6</td></tr><tr><th>4</th><td>725485</td><td>14940</td><td>MASON CITY MUNICIPAL ARPT</td><td>US</td><td>IA</td><td>KMCW</td><td>43.154</td><td>-93.327</td><td>373.4</td><td>1973</td><td>2015</td><td>1.51407e6</td><td>1.18374e6</td></tr></table>"
      ],
      "text/plain": [
       "4×13 DataFrames.DataFrame\n",
       "│ Row │ USAF   │ WBAN  │ NAME                             │ CTRY │ STATE │\n",
       "├─────┼────────┼───────┼──────────────────────────────────┼──────┼───────┤\n",
       "│ 1   │ 725450 │ 14990 │ THE EASTERN IOWA AIRPORT         │ US   │ IA    │\n",
       "│ 2   │ 725460 │ 14933 │ DES MOINES INTERNATIONAL AIRPORT │ US   │ IA    │\n",
       "│ 3   │ 725480 │ 94910 │ WATERLOO MUNICIPAL AIRPORT       │ US   │ IA    │\n",
       "│ 4   │ 725485 │ 14940 │ MASON CITY MUNICIPAL ARPT        │ US   │ IA    │\n",
       "\n",
       "│ Row │ ICAO │ LAT    │ LON     │ ELEV  │ BEGIN │ END  │ X_PRJ     │ Y_PRJ     │\n",
       "├─────┼──────┼────────┼─────────┼───────┼───────┼──────┼───────────┼───────────┤\n",
       "│ 1   │ KCID │ 41.883 │ -91.717 │ 264.6 │ 1973  │ 2015 │ 1.64799e6 │ 1.0441e6  │\n",
       "│ 2   │ KDSM │ 41.534 │ -93.653 │ 291.7 │ 1973  │ 2015 │ 1.48723e6 │ 1.00379e6 │\n",
       "│ 3   │ KALO │ 42.554 │ -92.401 │ 264.6 │ 1960  │ 2015 │ 1.59025e6 │ 1.11766e6 │\n",
       "│ 4   │ KMCW │ 43.154 │ -93.327 │ 373.4 │ 1973  │ 2015 │ 1.51407e6 │ 1.18374e6 │"
      ]
     },
     "execution_count": 9,
     "metadata": {},
     "output_type": "execute_result"
    }
   ],
   "source": [
    "isdSubset=isdList[[(usaf in (725450,725460,725480,725485)) for usaf in isdList[:USAF].values],:]\n",
    "isdSubset"
   ]
  },
  {
   "cell_type": "code",
   "execution_count": 10,
   "metadata": {
    "collapsed": false,
    "deletable": true,
    "editable": true
   },
   "outputs": [
    {
     "data": {
      "text/html": [
       "<table class=\"data-frame\"><tr><th></th><th>year</th><th>month</th><th>day</th><th>hour</th><th>min</th><th>seconds</th><th>temp</th><th>ts</th><th>station</th><th>ts_hours</th></tr><tr><th>1</th><td>2015</td><td>1</td><td>1</td><td>0</td><td>52</td><td>0</td><td>-7.8</td><td>2015-01-01T00:52:00</td><td>1</td><td>0.866667</td></tr><tr><th>2</th><td>2015</td><td>1</td><td>1</td><td>1</td><td>52</td><td>0</td><td>-8.3</td><td>2015-01-01T01:52:00</td><td>1</td><td>1.86667</td></tr><tr><th>3</th><td>2015</td><td>1</td><td>1</td><td>2</td><td>52</td><td>0</td><td>-8.3</td><td>2015-01-01T02:52:00</td><td>1</td><td>2.86667</td></tr><tr><th>4</th><td>2015</td><td>1</td><td>1</td><td>3</td><td>52</td><td>0</td><td>-9.4</td><td>2015-01-01T03:52:00</td><td>1</td><td>3.86667</td></tr><tr><th>5</th><td>2015</td><td>1</td><td>1</td><td>4</td><td>52</td><td>0</td><td>-9.4</td><td>2015-01-01T04:52:00</td><td>1</td><td>4.86667</td></tr></table>"
      ],
      "text/plain": [
       "5×10 DataFrames.DataFrame\n",
       "│ Row │ year │ month │ day │ hour │ min │ seconds │ temp │ ts                  │\n",
       "├─────┼──────┼───────┼─────┼──────┼─────┼─────────┼──────┼─────────────────────┤\n",
       "│ 1   │ 2015 │ 1     │ 1   │ 0    │ 52  │ 0       │ -7.8 │ 2015-01-01T00:52:00 │\n",
       "│ 2   │ 2015 │ 1     │ 1   │ 1    │ 52  │ 0       │ -8.3 │ 2015-01-01T01:52:00 │\n",
       "│ 3   │ 2015 │ 1     │ 1   │ 2    │ 52  │ 0       │ -8.3 │ 2015-01-01T02:52:00 │\n",
       "│ 4   │ 2015 │ 1     │ 1   │ 3    │ 52  │ 0       │ -9.4 │ 2015-01-01T03:52:00 │\n",
       "│ 5   │ 2015 │ 1     │ 1   │ 4    │ 52  │ 0       │ -9.4 │ 2015-01-01T04:52:00 │\n",
       "\n",
       "│ Row │ station │ ts_hours │\n",
       "├─────┼─────────┼──────────┤\n",
       "│ 1   │ 1       │ 0.866667 │\n",
       "│ 2   │ 1       │ 1.86667  │\n",
       "│ 3   │ 1       │ 2.86667  │\n",
       "│ 4   │ 1       │ 3.86667  │\n",
       "│ 5   │ 1       │ 4.86667  │"
      ]
     },
     "execution_count": 10,
     "metadata": {},
     "output_type": "execute_result"
    }
   ],
   "source": [
    "hourly_cat=read_Stations(isdSubset)\n",
    "hourly_cat[1:5,:]"
   ]
  },
  {
   "cell_type": "markdown",
   "metadata": {
    "deletable": true,
    "editable": true
   },
   "source": [
    "## Distances"
   ]
  },
  {
   "cell_type": "markdown",
   "metadata": {
    "deletable": true,
    "editable": true
   },
   "source": [
    "To get distances between stations, we can either use a function to compute distances on a sphere, or we can first project the coordinates onto a Euclidean plane, and then compute normal distances. I'll do it both ways to check they're consistent (equal up to a multiplication constant), and then use Euclidean distances for convenience."
   ]
  },
  {
   "cell_type": "code",
   "execution_count": 11,
   "metadata": {
    "collapsed": false,
    "deletable": true,
    "editable": true
   },
   "outputs": [
    {
     "data": {
      "text/plain": [
       "distance_on_unit_sphere (generic function with 1 method)"
      ]
     },
     "execution_count": 11,
     "metadata": {},
     "output_type": "execute_result"
    }
   ],
   "source": [
    "# http://www.johndcook.com/blog/python_longitude_latitude/\n",
    "function distance_on_unit_sphere(lat1, long1, lat2, long2)\n",
    " \n",
    "    # Convert latitude and longitude to \n",
    "    # spherical coordinates in radians.\n",
    "    degrees_to_radians = π/180.0\n",
    "         \n",
    "    # phi = 90 - latitude\n",
    "    phi1 = (90.0 - lat1)*degrees_to_radians\n",
    "    phi2 = (90.0 - lat2)*degrees_to_radians\n",
    "         \n",
    "    # theta = longitude\n",
    "    theta1 = long1*degrees_to_radians\n",
    "    theta2 = long2*degrees_to_radians\n",
    "         \n",
    "    # Compute spherical distance from spherical coordinates.\n",
    "         \n",
    "    # For two locations in spherical coordinates \n",
    "    # (1, theta, phi) and (1, theta', phi')\n",
    "    # cosine( arc length ) = \n",
    "    #    sin phi sin phi' cos(theta-theta') + cos phi cos phi'\n",
    "    # distance = rho * arc length\n",
    "     \n",
    "    cosangle = (sin(phi1)*sin(phi2)*cos(theta1 - theta2) +\n",
    "           cos(phi1)*cos(phi2))\n",
    "    arc = acos( cosangle )\n",
    " \n",
    "    # Remember to multiply arc by the radius of the earth \n",
    "    # in your favorite set of units to get length.\n",
    "    return arc\n",
    "end"
   ]
  },
  {
   "cell_type": "code",
   "execution_count": 12,
   "metadata": {
    "collapsed": false,
    "deletable": true,
    "editable": true
   },
   "outputs": [
    {
     "data": {
      "text/plain": [
       "4×4 Array{Float64,2}:\n",
       " 0.0        0.0259496  0.0146736  0.0303475\n",
       " 0.0259496  0.0        0.024088   0.0285853\n",
       " 0.0146736  0.024088   0.0        0.0158124\n",
       " 0.0303475  0.0285853  0.0158124  0.0      "
      ]
     },
     "execution_count": 12,
     "metadata": {},
     "output_type": "execute_result"
    }
   ],
   "source": [
    "numstations = nrow(isdSubset)\n",
    "pairwiseSphere = zeros(numstations, numstations)\n",
    "for i in 1:numstations\n",
    "    for j in 1:i\n",
    "        if i==j\n",
    "            continue\n",
    "        end\n",
    "        station1 = isdSubset[i,:]\n",
    "        station2 = isdSubset[j,:]\n",
    "        lat1= get(station1[1,:LAT])\n",
    "        lon1 = get(station1[1,:LON])\n",
    "        lat2 = get(station2[1,:LAT])\n",
    "        lon2 = get(station2[1,:LON])\n",
    "        pairwiseSphere[i,j] = distance_on_unit_sphere(lat1, lon1, lat2, lon2)\n",
    "        pairwiseSphere[j,i] = pairwiseSphere[i,j]\n",
    "    end\n",
    "end\n",
    "pairwiseSphere"
   ]
  },
  {
   "cell_type": "code",
   "execution_count": 13,
   "metadata": {
    "collapsed": false,
    "deletable": true,
    "editable": true
   },
   "outputs": [
    {
     "data": {
      "text/plain": [
       "4×4 Array{Float64,2}:\n",
       "      0.0        165736.0        93510.4        1.93474e5\n",
       " 165736.0             0.0            1.53559e5  1.81942e5\n",
       "  93510.4             1.53559e5      0.0        1.00846e5\n",
       "      1.93474e5       1.81942e5      1.00846e5  0.0      "
      ]
     },
     "execution_count": 13,
     "metadata": {},
     "output_type": "execute_result"
    }
   ],
   "source": [
    "pairwiseEuclid=pairwise(Euclidean(), Matrix(isdSubset[[:X_PRJ,:Y_PRJ]])')"
   ]
  },
  {
   "cell_type": "markdown",
   "metadata": {
    "deletable": true,
    "editable": true
   },
   "source": [
    "Ratio of the two distance matrices: close enough to a constant!"
   ]
  },
  {
   "cell_type": "code",
   "execution_count": 14,
   "metadata": {
    "collapsed": false,
    "deletable": true,
    "editable": true
   },
   "outputs": [
    {
     "data": {
      "text/plain": [
       "4×4 Array{Float64,2}:\n",
       " NaN            6.38684e6    6.37271e6    6.37527e6\n",
       "   6.38684e6  NaN            6.37493e6    6.36489e6\n",
       "   6.37271e6    6.37493e6  NaN            6.37765e6\n",
       "   6.37527e6    6.36489e6    6.37765e6  NaN        "
      ]
     },
     "execution_count": 14,
     "metadata": {},
     "output_type": "execute_result"
    }
   ],
   "source": [
    "pairwiseEuclid ./ pairwiseSphere"
   ]
  },
  {
   "cell_type": "markdown",
   "metadata": {
    "deletable": true,
    "editable": true
   },
   "source": [
    "# Modifications of the spatiotemporal kernel"
   ]
  },
  {
   "cell_type": "markdown",
   "metadata": {
    "deletable": true,
    "editable": true
   },
   "source": [
    "Start with the time-series kernel."
   ]
  },
  {
   "cell_type": "code",
   "execution_count": 15,
   "metadata": {
    "collapsed": false,
    "deletable": true,
    "editable": true
   },
   "outputs": [],
   "source": [
    "k1 = fix(Periodic(0.0,0.0,log(24.0)), :lp)\n",
    "k2 = RQIso(0.0,0.0,0.0)\n",
    "k3 = SEIso(0.0,0.0)\n",
    "k4 = RQIso(0.0,0.0,0.0)\n",
    "k5 = RQIso(0.0,0.0,0.0)\n",
    "k6 = SE(0.0,0.0)\n",
    "k_time=k1+k2+k3+k4+k5+k6\n",
    "# hyperparameters fitted in JuliaGP_timeseries_chunks.ipynb\n",
    "hyp=[-1.46229,-0.0777809,1.03854,1.45757,1.06292,-1.23699,-1.2353,-1.05117,3.10614,1.29327,2.84729,3.67464,0.537794,3.0094,7.70676,-5.30466]\n",
    "set_params!(k_time, hyp[2:end])"
   ]
  },
  {
   "cell_type": "markdown",
   "metadata": {
    "deletable": true,
    "editable": true
   },
   "source": [
    "## Allowing for mean variation"
   ]
  },
  {
   "cell_type": "code",
   "execution_count": 16,
   "metadata": {
    "collapsed": false,
    "deletable": true,
    "editable": true
   },
   "outputs": [
    {
     "data": {
      "text/plain": [
       "Type: GaussianProcesses.SEIso, Params: [9.21034,2.30259]\n"
      ]
     },
     "execution_count": 16,
     "metadata": {},
     "output_type": "execute_result"
    }
   ],
   "source": [
    "k_spatial = SEIso(log(2*10^5), log(1.0))\n",
    "k_means = SEIso(log(10^4), log(10.0))"
   ]
  },
  {
   "cell_type": "code",
   "execution_count": 17,
   "metadata": {
    "collapsed": false,
    "deletable": true,
    "editable": true
   },
   "outputs": [
    {
     "data": {
      "text/plain": [
       "Type: GaussianProcesses.SumKernel\n",
       "  Type: GaussianProcesses.ProdKernel\n",
       "    Type: GaussianProcesses.FixedKern, Params: Float64[]\n",
       "    Type: GaussianProcesses.Masked{GaussianProcesses.SEIso}, Params: [12.2061,0.0]\n",
       "  Type: GaussianProcesses.FixedKern, Params: Float64[]\n"
      ]
     },
     "execution_count": 17,
     "metadata": {},
     "output_type": "execute_result"
    }
   ],
   "source": [
    "k_spatiotemporal_1 = fix(Masked(k_time, [1])) * Masked(k_spatial, [2,3]) + \n",
    "    fix(Masked(k_means, [2,3]))"
   ]
  },
  {
   "cell_type": "code",
   "execution_count": 18,
   "metadata": {
    "collapsed": false,
    "deletable": true,
    "editable": true
   },
   "outputs": [
    {
     "name": "stdout",
     "output_type": "stream",
     "text": [
      "[-26071.5,415.221,-3770.39]\n",
      "Iter     Function value   Gradient norm \n",
      "     0     6.774166e+04     2.607146e+04\n",
      "     1     6.208402e+04     2.694167e+04\n",
      "     2     5.293036e+04     7.173942e+03\n",
      "     3     5.196959e+04     4.711842e+03\n",
      "     4     5.100534e+04     7.596923e+03\n",
      "     5     5.018484e+04     3.455185e+03\n",
      "     6     4.975538e+04     1.967081e+02\n",
      "     7     4.975456e+04     9.122938e+01\n",
      "1201.822098 seconds (10.54 M allocations: 181.106 GB, 3.89% gc time)\n"
     ]
    },
    {
     "data": {
      "text/plain": [
       "Results of Optimization Algorithm\n",
       " * Algorithm: Conjugate Gradient\n",
       " * Starting Point: [0.0,12.206072645530174,0.0]\n",
       " * Minimizer: [-1.5619405263410124,11.077887959926558, ...]\n",
       " * Minimum: 4.975456e+04\n",
       " * Iterations: 7\n",
       " * Convergence: true\n",
       "   * |x - x'| < 1.0e-04: false\n",
       "   * |f(x) - f(x')| / |f(x)| < 1.0e-04: true\n",
       "   * |g(x)| < 1.0e-08: false\n",
       "   * Reached Maximum Number of Iterations: false\n",
       " * Objective Function Calls: 35\n",
       " * Gradient Calls: 28"
      ]
     },
     "execution_count": 18,
     "metadata": {},
     "output_type": "execute_result"
    }
   ],
   "source": [
    "begin\n",
    "    global opt_out\n",
    "    k_spatiotemporal = k_spatiotemporal_1\n",
    "    chunks=GP[]\n",
    "    chunk_width=24*10\n",
    "    tstart=0.0\n",
    "    tend=tstart+chunk_width\n",
    "    nobsv=0\n",
    "    while tstart < get(maximum(hourly_cat[:ts_hours]))\n",
    "        in_chunk=(tstart .<= hourly_cat[:ts_hours].values) & (hourly_cat[:ts_hours].values .< tend)\n",
    "        hourly_chunk = hourly_cat[in_chunk,:]\n",
    "        nobsv_chunk = sum(in_chunk)\n",
    "        nobsv += nobsv_chunk\n",
    "\n",
    "        chunk_X_PRJ = isdSubset[:X_PRJ].values[hourly_chunk[:station].values]\n",
    "        chunk_Y_PRJ = isdSubset[:Y_PRJ].values[hourly_chunk[:station].values]\n",
    "        chunk_X = [hourly_chunk[:ts_hours].values chunk_X_PRJ chunk_Y_PRJ]\n",
    "\n",
    "        y = hourly_chunk[:temp].values\n",
    "        chunk = GP(chunk_X', y, MeanConst(mean(y)), k_spatiotemporal, 0.0)\n",
    "        push!(chunks, chunk)\n",
    "\n",
    "        tstart=tend\n",
    "        tend+=chunk_width\n",
    "    end\n",
    "    reals = TempModel.GPRealisations(chunks)\n",
    "    update_mll_and_dmll!(reals, mean=false)\n",
    "    println(reals.dmLL)\n",
    "    @time opt_out=optimize!(reals, mean=false, show_trace=true, x_tol=1e-4, f_tol=1e-4)\n",
    "end"
   ]
  },
  {
   "cell_type": "code",
   "execution_count": 19,
   "metadata": {
    "collapsed": false,
    "deletable": true,
    "editable": true
   },
   "outputs": [
    {
     "name": "stdout",
     "output_type": "stream",
     "text": [
      "[-1.56194,11.0779,0.0132451]"
     ]
    }
   ],
   "source": [
    "print(Optim.minimizer(opt_out))"
   ]
  },
  {
   "cell_type": "code",
   "execution_count": 20,
   "metadata": {
    "collapsed": false,
    "deletable": true,
    "editable": true
   },
   "outputs": [
    {
     "name": "stdout",
     "output_type": "stream",
     "text": [
      "49754.56185567802"
     ]
    }
   ],
   "source": [
    "print(Optim.minimum(opt_out))"
   ]
  },
  {
   "cell_type": "code",
   "execution_count": 21,
   "metadata": {
    "collapsed": false,
    "deletable": true,
    "editable": true
   },
   "outputs": [
    {
     "name": "stdout",
     "output_type": "stream",
     "text": [
      "\n",
      "k: Spatial kernel \n",
      "=================\n",
      "σ: 1.013\n",
      "l: 64724.039\n",
      "\n",
      "=================\n",
      "σy: 0.210\n"
     ]
    }
   ],
   "source": [
    "print(\"\\nk: Spatial kernel \\n=================\\n\")\n",
    "@printf(\"σ: %5.3f\\n\", √k_spatial.σ2)\n",
    "@printf(\"l: %5.3f\\n\", √k_spatial.ℓ2)\n",
    "print(\"\\n=================\\n\")\n",
    "@printf(\"σy: %5.3f\\n\", exp(reals.logNoise))"
   ]
  },
  {
   "cell_type": "markdown",
   "metadata": {
    "deletable": true,
    "editable": true
   },
   "source": [
    "## Separating fast component"
   ]
  },
  {
   "cell_type": "markdown",
   "metadata": {
    "deletable": true,
    "editable": true
   },
   "source": [
    "Now we'll remove the fastest component, $k_3$, and give it its own spatial kernel. The idea is that short-term variations (20 minute lengthscale) might be local (short-ranged), while long-term and periodic components are regional (long-ranged)."
   ]
  },
  {
   "cell_type": "code",
   "execution_count": 22,
   "metadata": {
    "collapsed": false,
    "deletable": true,
    "editable": true
   },
   "outputs": [
    {
     "data": {
      "text/plain": [
       "Type: GaussianProcesses.SEIso, Params: [12.2061,0.0]\n"
      ]
     },
     "execution_count": 22,
     "metadata": {},
     "output_type": "execute_result"
    }
   ],
   "source": [
    "k_spatial_1 = SEIso(log(2*10^5), log(1.0))\n",
    "k_spatial_2 = SEIso(log(2*10^5), log(1.0))"
   ]
  },
  {
   "cell_type": "code",
   "execution_count": 23,
   "metadata": {
    "collapsed": false,
    "deletable": true,
    "editable": true
   },
   "outputs": [
    {
     "data": {
      "text/plain": [
       "0.29074752502539686"
      ]
     },
     "execution_count": 23,
     "metadata": {},
     "output_type": "execute_result"
    }
   ],
   "source": [
    "√k3.ℓ2"
   ]
  },
  {
   "cell_type": "code",
   "execution_count": 24,
   "metadata": {
    "collapsed": false,
    "deletable": true,
    "editable": true
   },
   "outputs": [
    {
     "data": {
      "text/plain": [
       "Type: GaussianProcesses.SEIso, Params: [-1.2353,-1.05117]\n"
      ]
     },
     "execution_count": 24,
     "metadata": {},
     "output_type": "execute_result"
    }
   ],
   "source": [
    "k_slow = k1+k2+k4+k5+k6\n",
    "k_fast = k3"
   ]
  },
  {
   "cell_type": "code",
   "execution_count": 25,
   "metadata": {
    "collapsed": false,
    "deletable": true,
    "editable": true
   },
   "outputs": [
    {
     "data": {
      "text/plain": [
       "Type: GaussianProcesses.SumKernel\n",
       "  Type: GaussianProcesses.ProdKernel\n",
       "    Type: GaussianProcesses.FixedKern, Params: Float64[]\n",
       "    Type: GaussianProcesses.Masked{GaussianProcesses.SEIso}, Params: [12.2061,0.0]\n",
       "  Type: GaussianProcesses.ProdKernel\n",
       "    Type: GaussianProcesses.FixedKern, Params: Float64[]\n",
       "    Type: GaussianProcesses.Masked{GaussianProcesses.SEIso}, Params: [12.2061,0.0]\n",
       "  Type: GaussianProcesses.FixedKern, Params: Float64[]\n"
      ]
     },
     "execution_count": 25,
     "metadata": {},
     "output_type": "execute_result"
    }
   ],
   "source": [
    "k_spatiotemporal_2 = fix(Masked(k_slow, [1])) * Masked(k_spatial_1, [2,3]) + \n",
    "                   fix(Masked(k_fast, [1])) * Masked(k_spatial_2, [2,3]) +\n",
    "                   fix(Masked(k_means, [2,3]))"
   ]
  },
  {
   "cell_type": "code",
   "execution_count": 26,
   "metadata": {
    "collapsed": false,
    "deletable": true,
    "editable": true
   },
   "outputs": [
    {
     "name": "stdout",
     "output_type": "stream",
     "text": [
      "[-26071.5,319.382,-1712.56,95.8386,-2057.83]\n",
      "Iter     Function value   Gradient norm \n",
      "     0     6.774166e+04     2.607146e+04\n",
      "     1     6.028650e+04     2.292979e+04\n",
      "     2     5.300570e+04     5.360503e+03\n",
      "     3     5.234450e+04     3.249772e+03\n",
      "     4     5.145671e+04     1.138163e+03\n",
      "     5     5.135977e+04     7.249001e+02\n",
      "     6     5.127454e+04     1.649730e+03\n",
      "     7     5.083380e+04     2.665671e+03\n",
      "     8     4.949440e+04     3.688826e+03\n",
      "     9     4.892992e+04     4.563910e+03\n",
      "    10     4.828598e+04     1.555393e+03\n",
      "    11     4.820275e+04     4.455338e+02\n",
      "    12     4.818555e+04     2.349826e+02\n",
      "    13     4.818349e+04     5.240228e+01\n",
      "1680.050347 seconds (13.88 M allocations: 327.438 GB, 4.63% gc time)\n"
     ]
    },
    {
     "data": {
      "text/plain": [
       "Results of Optimization Algorithm\n",
       " * Algorithm: Conjugate Gradient\n",
       " * Starting Point: [0.0,12.206072645530174, ...]\n",
       " * Minimizer: [-1.648952624627339,11.667312481610702, ...]\n",
       " * Minimum: 4.818349e+04\n",
       " * Iterations: 13\n",
       " * Convergence: true\n",
       "   * |x - x'| < 1.0e-04: false\n",
       "   * |f(x) - f(x')| / |f(x)| < 1.0e-04: true\n",
       "   * |g(x)| < 1.0e-08: false\n",
       "   * Reached Maximum Number of Iterations: false\n",
       " * Objective Function Calls: 51\n",
       " * Gradient Calls: 38"
      ]
     },
     "execution_count": 26,
     "metadata": {},
     "output_type": "execute_result"
    }
   ],
   "source": [
    "begin\n",
    "    global opt_out\n",
    "    k_spatiotemporal = k_spatiotemporal_2\n",
    "    chunks=GP[]\n",
    "    chunk_width=24*10\n",
    "    tstart=0.0\n",
    "    tend=tstart+chunk_width\n",
    "    nobsv=0\n",
    "    while tstart < get(maximum(hourly_cat[:ts_hours]))\n",
    "        in_chunk=(tstart .<= hourly_cat[:ts_hours].values) & (hourly_cat[:ts_hours].values .< tend)\n",
    "        hourly_chunk = hourly_cat[in_chunk,:]\n",
    "        nobsv_chunk = sum(in_chunk)\n",
    "        nobsv += nobsv_chunk\n",
    "\n",
    "        chunk_X_PRJ = isdSubset[:X_PRJ].values[hourly_chunk[:station].values]\n",
    "        chunk_Y_PRJ = isdSubset[:Y_PRJ].values[hourly_chunk[:station].values]\n",
    "        chunk_X = [hourly_chunk[:ts_hours].values chunk_X_PRJ chunk_Y_PRJ]\n",
    "\n",
    "        y = hourly_chunk[:temp].values\n",
    "        chunk = GP(chunk_X', y, MeanConst(mean(y)), k_spatiotemporal, 0.0)\n",
    "        push!(chunks, chunk)\n",
    "\n",
    "        tstart=tend\n",
    "        tend+=chunk_width\n",
    "    end\n",
    "    reals = TempModel.GPRealisations(chunks)\n",
    "    update_mll_and_dmll!(reals, mean=false)\n",
    "    println(reals.dmLL)\n",
    "    @time opt_out=optimize!(reals, mean=false, show_trace=true, x_tol=1e-4, f_tol=1e-4)\n",
    "end"
   ]
  },
  {
   "cell_type": "code",
   "execution_count": 27,
   "metadata": {
    "collapsed": false,
    "deletable": true,
    "editable": true
   },
   "outputs": [
    {
     "name": "stdout",
     "output_type": "stream",
     "text": [
      "[-1.64895,11.6673,-0.0617534,9.10855,0.142355]"
     ]
    }
   ],
   "source": [
    "print(Optim.minimizer(opt_out))"
   ]
  },
  {
   "cell_type": "code",
   "execution_count": 28,
   "metadata": {
    "collapsed": false,
    "deletable": true,
    "editable": true
   },
   "outputs": [
    {
     "name": "stdout",
     "output_type": "stream",
     "text": [
      "48183.48806790547"
     ]
    }
   ],
   "source": [
    "print(Optim.minimum(opt_out))"
   ]
  },
  {
   "cell_type": "code",
   "execution_count": 29,
   "metadata": {
    "collapsed": false,
    "deletable": true,
    "editable": true
   },
   "outputs": [
    {
     "name": "stdout",
     "output_type": "stream",
     "text": [
      "\n",
      "k: Spatial kernel (slow component) \n",
      "=================\n",
      "σ: 0.940\n",
      "l: 116694.243\n",
      "\n",
      "k: Spatial kernel (fast component) \n",
      "=================\n",
      "σ: 1.153\n",
      "l: 9032.208\n",
      "\n",
      "=================\n",
      "σy: 0.192\n"
     ]
    }
   ],
   "source": [
    "print(\"\\nk: Spatial kernel (slow component) \\n=================\\n\")\n",
    "@printf(\"σ: %5.3f\\n\", √k_spatial_1.σ2)\n",
    "@printf(\"l: %5.3f\\n\", √k_spatial_1.ℓ2)\n",
    "print(\"\\nk: Spatial kernel (fast component) \\n=================\\n\")\n",
    "@printf(\"σ: %5.3f\\n\", √k_spatial_2.σ2)\n",
    "@printf(\"l: %5.3f\\n\", √k_spatial_2.ℓ2)\n",
    "print(\"\\n=================\\n\")\n",
    "@printf(\"σy: %5.3f\\n\", exp(reals.logNoise))"
   ]
  },
  {
   "cell_type": "markdown",
   "metadata": {
    "deletable": true,
    "editable": true
   },
   "source": [
    "Interesting! The optimization did exactly what we thought it might do, and picked a long lengthscale (100km) for the slow component, and a short lengthscale (9km) for the fast component."
   ]
  },
  {
   "cell_type": "markdown",
   "metadata": {
    "deletable": true,
    "editable": true
   },
   "source": [
    "## Separating each component"
   ]
  },
  {
   "cell_type": "markdown",
   "metadata": {
    "deletable": true,
    "editable": true
   },
   "source": [
    "Let's just go ahead and give each and every component of the temporal kernel its own spatial decay. The $\\sigma$'s fitted above were pretty close to 1, so it seems reasonable to fix all the $\\sigma$'s of the spatial kernels to 1. That gives us 6 kernel parameters + 1 noise parameter to fit.\n",
    "\n",
    "I also change the initial value of the noise parameter to fix some numerical issues."
   ]
  },
  {
   "cell_type": "code",
   "execution_count": 30,
   "metadata": {
    "collapsed": false,
    "deletable": true,
    "editable": true
   },
   "outputs": [
    {
     "data": {
      "text/plain": [
       "Type: GaussianProcesses.SumKernel\n",
       "  Type: GaussianProcesses.ProdKernel\n",
       "    Type: GaussianProcesses.FixedKern, Params: Float64[]\n",
       "    Type: GaussianProcesses.FixedKern, Params: [12.2061]\n",
       "  Type: GaussianProcesses.ProdKernel\n",
       "    Type: GaussianProcesses.FixedKern, Params: Float64[]\n",
       "    Type: GaussianProcesses.FixedKern, Params: [12.2061]\n",
       "  Type: GaussianProcesses.ProdKernel\n",
       "    Type: GaussianProcesses.FixedKern, Params: Float64[]\n",
       "    Type: GaussianProcesses.FixedKern, Params: [12.2061]\n",
       "  Type: GaussianProcesses.ProdKernel\n",
       "    Type: GaussianProcesses.FixedKern, Params: Float64[]\n",
       "    Type: GaussianProcesses.FixedKern, Params: [12.2061]\n",
       "  Type: GaussianProcesses.ProdKernel\n",
       "    Type: GaussianProcesses.FixedKern, Params: Float64[]\n",
       "    Type: GaussianProcesses.FixedKern, Params: [12.2061]\n",
       "  Type: GaussianProcesses.ProdKernel\n",
       "    Type: GaussianProcesses.FixedKern, Params: Float64[]\n",
       "    Type: GaussianProcesses.FixedKern, Params: [12.2061]\n",
       "  Type: GaussianProcesses.FixedKern, Params: Float64[]\n"
      ]
     },
     "execution_count": 30,
     "metadata": {},
     "output_type": "execute_result"
    }
   ],
   "source": [
    "ksp1 = SEIso(log(2*10^5), log(1.0))\n",
    "ksp2 = SEIso(log(2*10^5), log(1.0))\n",
    "ksp3 = SEIso(log(2*10^5), log(1.0))\n",
    "ksp4 = SEIso(log(2*10^5), log(1.0))\n",
    "ksp5 = SEIso(log(2*10^5), log(1.0))\n",
    "ksp6 = SEIso(log(2*10^5), log(1.0))\n",
    "k_spatiotemporal_3 = fix(Masked(k1, [1])) * fix(Masked(ksp1, [2,3]), :lσ) +\n",
    "                     fix(Masked(k2, [1])) * fix(Masked(ksp2, [2,3]), :lσ) +\n",
    "                     fix(Masked(k3, [1])) * fix(Masked(ksp3, [2,3]), :lσ) +\n",
    "                     fix(Masked(k4, [1])) * fix(Masked(ksp4, [2,3]), :lσ) +\n",
    "                     fix(Masked(k5, [1])) * fix(Masked(ksp5, [2,3]), :lσ) +\n",
    "                     fix(Masked(k6, [1])) * fix(Masked(ksp6, [2,3]), :lσ) +\n",
    "                     fix(Masked(k_means, [2,3]))"
   ]
  },
  {
   "cell_type": "code",
   "execution_count": 31,
   "metadata": {
    "collapsed": false,
    "deletable": true,
    "editable": true
   },
   "outputs": [
    {
     "data": {
      "text/plain": [
       "132.69870506723657"
      ]
     },
     "execution_count": 31,
     "metadata": {},
     "output_type": "execute_result"
    }
   ],
   "source": [
    "cov(k_spatiotemporal_3, [0.0,0.0,0.0], [0.0,0.0,0.0])"
   ]
  },
  {
   "cell_type": "code",
   "execution_count": 32,
   "metadata": {
    "collapsed": false,
    "deletable": true,
    "editable": true
   },
   "outputs": [
    {
     "name": "stdout",
     "output_type": "stream",
     "text": [
      "[5932.37,64.7881,-11224.1,-1399.72,243.684,57.078,1.68727e-6]\n",
      "Iter     Function value   Gradient norm \n",
      "     0     5.557020e+04     1.122412e+04\n",
      "     1     5.350688e+04     1.022201e+04\n",
      "     2     5.112013e+04     1.697401e+03\n",
      "     3     5.078535e+04     1.239815e+03\n",
      "     4     4.891522e+04     1.534870e+03\n",
      "     5     4.882333e+04     2.564050e+02\n",
      "     6     4.865305e+04     1.217179e+02\n",
      "     7     4.865143e+04     1.028406e+02\n",
      "     8     4.863625e+04     5.996108e+01\n",
      "     9     4.862396e+04     4.603747e+02\n",
      "    10     4.861669e+04     1.377515e+02\n",
      "    11     4.861335e+04     1.584461e+02\n",
      "    12     4.861029e+04     3.319758e+01\n",
      "    13     4.860942e+04     3.882107e+01\n",
      "    14     4.860873e+04     7.955644e+01\n",
      "    15     4.860622e+04     5.221113e+01\n",
      "    16     4.860282e+04     8.391893e+01\n",
      "    17     4.859245e+04     2.151750e+02\n",
      "    18     4.858967e+04     4.080071e+01\n",
      "    19     4.858917e+04     9.432550e+00\n",
      "    20     4.858900e+04     3.205165e+00\n",
      "1910.657345 seconds (19.43 M allocations: 608.862 GB, 4.76% gc time)\n"
     ]
    },
    {
     "data": {
      "text/plain": [
       "Results of Optimization Algorithm\n",
       " * Algorithm: Conjugate Gradient\n",
       " * Starting Point: [-1.0,12.206072645530174, ...]\n",
       " * Minimizer: [-1.6037476146199583,15.42589782578613, ...]\n",
       " * Minimum: 4.858900e+04\n",
       " * Iterations: 20\n",
       " * Convergence: true\n",
       "   * |x - x'| < 1.0e-05: false\n",
       "   * |f(x) - f(x')| / |f(x)| < 1.0e-05: true\n",
       "   * |g(x)| < 1.0e-08: false\n",
       "   * Reached Maximum Number of Iterations: false\n",
       " * Objective Function Calls: 71\n",
       " * Gradient Calls: 50"
      ]
     },
     "execution_count": 32,
     "metadata": {},
     "output_type": "execute_result"
    }
   ],
   "source": [
    "begin\n",
    "    global opt_out\n",
    "    k_spatiotemporal = k_spatiotemporal_3\n",
    "    chunks=GP[]\n",
    "    chunk_width=24*10\n",
    "    tstart=0.0\n",
    "    tend=tstart+chunk_width\n",
    "    nobsv=0\n",
    "    while tstart < get(maximum(hourly_cat[:ts_hours]))\n",
    "        in_chunk=(tstart .<= hourly_cat[:ts_hours].values) & (hourly_cat[:ts_hours].values .< tend)\n",
    "        hourly_chunk = hourly_cat[in_chunk,:]\n",
    "        nobsv_chunk = sum(in_chunk)\n",
    "        nobsv += nobsv_chunk\n",
    "\n",
    "        chunk_X_PRJ = isdSubset[:X_PRJ].values[hourly_chunk[:station].values]\n",
    "        chunk_Y_PRJ = isdSubset[:Y_PRJ].values[hourly_chunk[:station].values]\n",
    "        chunk_X = [hourly_chunk[:ts_hours].values chunk_X_PRJ chunk_Y_PRJ]\n",
    "\n",
    "        y = hourly_chunk[:temp].values\n",
    "        chunk = GP(chunk_X', y, MeanConst(mean(y)), k_spatiotemporal, -1.0)\n",
    "        push!(chunks, chunk)\n",
    "\n",
    "        tstart=tend\n",
    "        tend+=chunk_width\n",
    "    end\n",
    "    reals = TempModel.GPRealisations(chunks)\n",
    "    update_mll_and_dmll!(reals, mean=false)\n",
    "    println(reals.dmLL)\n",
    "    @time opt_out=optimize!(reals, mean=false, show_trace=true, x_tol=1e-5, f_tol=1e-5)\n",
    "end"
   ]
  },
  {
   "cell_type": "code",
   "execution_count": 33,
   "metadata": {
    "collapsed": false,
    "deletable": true,
    "editable": true
   },
   "outputs": [
    {
     "name": "stdout",
     "output_type": "stream",
     "text": [
      "[-1.60375,15.4259,9.86868,9.12749,16.4496,15.0163,12.2061]"
     ]
    }
   ],
   "source": [
    "print(Optim.minimizer(opt_out))"
   ]
  },
  {
   "cell_type": "code",
   "execution_count": 34,
   "metadata": {
    "collapsed": false,
    "deletable": true,
    "editable": true
   },
   "outputs": [
    {
     "name": "stdout",
     "output_type": "stream",
     "text": [
      "48589.00158150999"
     ]
    }
   ],
   "source": [
    "print(Optim.minimum(opt_out))"
   ]
  },
  {
   "cell_type": "code",
   "execution_count": 35,
   "metadata": {
    "collapsed": false,
    "deletable": true,
    "editable": true
   },
   "outputs": [
    {
     "name": "stdout",
     "output_type": "stream",
     "text": [
      "k₁: Periodic \n",
      "=================\n",
      "σ: 2.825\n",
      "l: 0.925\n",
      "p:    24 hours\n",
      "> spatial decay:\n",
      "l: 5004749.031\n",
      "\n",
      "k₂: RQIso \n",
      "=================\n",
      "σ: 2.895\n",
      "l: 4.296 hours\n",
      "α: 0.290\n",
      "> spatial decay:\n",
      "l: 19315.738\n",
      "\n",
      "k₃: SEIso \n",
      "=================\n",
      "σ: 0.350\n",
      "l: 0.291 hours\n",
      "> spatial decay:\n",
      "l: 9204.873\n",
      "\n",
      "k₄: RQIso \n",
      "=================\n",
      "σ: 3.645\n",
      "l: 0.931 days\n",
      "α: 17.241\n",
      "> spatial decay:\n",
      "l: 13931194.158\n",
      "\n",
      "k₅: RQIso \n",
      "=================\n",
      "σ: 1.712\n",
      "l: 1.643 days\n",
      "α: 20.275\n",
      "> spatial decay:\n",
      "l: 3322875.947\n",
      "\n",
      "k₆ SEIso \n",
      "=================\n",
      "σ: 0.005\n",
      "l: 92.639 days\n",
      "> spatial decay:\n",
      "l: 200000.036\n",
      "\n",
      "=================\n",
      "σy: 0.201\n"
     ]
    }
   ],
   "source": [
    "print(\"k₁: Periodic \\n=================\\n\")\n",
    "@printf(\"σ: %5.3f\\n\", √k1.kern.σ2)\n",
    "@printf(\"l: %5.3f\\n\", √k1.kern.ℓ2)\n",
    "@printf(\"p: %5.0f hours\\n\", k1.kern.p)\n",
    "print(\"> spatial decay:\\n\")\n",
    "@printf(\"l: %5.3f\\n\", √ksp1.ℓ2)\n",
    "print(\"\\nk₂: RQIso \\n=================\\n\")\n",
    "@printf(\"σ: %5.3f\\n\", √ k2.σ2)\n",
    "@printf(\"l: %5.3f hours\\n\", √ k2.ℓ2)\n",
    "@printf(\"α: %5.3f\\n\", k2.α)\n",
    "print(\"> spatial decay:\\n\")\n",
    "# @printf(\"σ: %5.3f\\n\", √ksp2.σ2)\n",
    "@printf(\"l: %5.3f\\n\", √ksp2.ℓ2)\n",
    "print(\"\\nk₃: SEIso \\n=================\\n\")\n",
    "@printf(\"σ: %5.3f\\n\", √k3.σ2)\n",
    "@printf(\"l: %5.3f hours\\n\", √k3.ℓ2)\n",
    "print(\"> spatial decay:\\n\")\n",
    "# @printf(\"σ: %5.3f\\n\", √ksp3.σ2)\n",
    "@printf(\"l: %5.3f\\n\", √ksp3.ℓ2)\n",
    "print(\"\\nk₄: RQIso \\n=================\\n\")\n",
    "@printf(\"σ: %5.3f\\n\", √k4.σ2)\n",
    "@printf(\"l: %5.3f days\\n\", √k4.ℓ2 / 24)\n",
    "@printf(\"α: %5.3f\\n\",  k4.α)\n",
    "print(\"> spatial decay:\\n\")\n",
    "# @printf(\"σ: %5.3f\\n\", √ksp4.σ2)\n",
    "@printf(\"l: %5.3f\\n\", √ksp4.ℓ2)\n",
    "print(\"\\nk₅: RQIso \\n=================\\n\")\n",
    "@printf(\"σ: %5.3f\\n\", √k5.σ2)\n",
    "@printf(\"l: %5.3f days\\n\", √k5.ℓ2 / 24)\n",
    "@printf(\"α: %5.3f\\n\",  k5.α)\n",
    "print(\"> spatial decay:\\n\")\n",
    "# @printf(\"σ: %5.3f\\n\", √ksp5.σ2)\n",
    "@printf(\"l: %5.3f\\n\", √ksp5.ℓ2)\n",
    "print(\"\\nk₆ SEIso \\n=================\\n\")\n",
    "@printf(\"σ: %5.3f\\n\", √k6.σ2)\n",
    "@printf(\"l: %5.3f days\\n\", √k6.ℓ2 / 24)\n",
    "print(\"> spatial decay:\\n\")\n",
    "# @printf(\"σ: %5.3f\\n\", √ksp6.σ2)\n",
    "@printf(\"l: %5.3f\\n\", √ksp6.ℓ2)\n",
    "print(\"\\n=================\\n\")\n",
    "@printf(\"σy: %5.3f\\n\", exp(Optim.minimizer(opt_out)[1]))"
   ]
  },
  {
   "cell_type": "markdown",
   "metadata": {
    "deletable": true,
    "editable": true
   },
   "source": [
    "This is extremely promising! We are indeed seeing that slower components of the temporal kernel also decay spatially over longer lengthscales."
   ]
  },
  {
   "cell_type": "markdown",
   "metadata": {
    "deletable": true,
    "editable": true
   },
   "source": [
    "## Releasing variances"
   ]
  },
  {
   "cell_type": "code",
   "execution_count": 36,
   "metadata": {
    "collapsed": false,
    "deletable": true,
    "editable": true
   },
   "outputs": [
    {
     "data": {
      "text/plain": [
       "Type: GaussianProcesses.SumKernel\n",
       "  Type: GaussianProcesses.ProdKernel\n",
       "    Type: GaussianProcesses.FixedKern, Params: Float64[]\n",
       "    Type: GaussianProcesses.Masked{GaussianProcesses.SEIso}, Params: [12.2061,0.0]\n",
       "  Type: GaussianProcesses.ProdKernel\n",
       "    Type: GaussianProcesses.FixedKern, Params: Float64[]\n",
       "    Type: GaussianProcesses.Masked{GaussianProcesses.SEIso}, Params: [12.2061,0.0]\n",
       "  Type: GaussianProcesses.ProdKernel\n",
       "    Type: GaussianProcesses.FixedKern, Params: Float64[]\n",
       "    Type: GaussianProcesses.Masked{GaussianProcesses.SEIso}, Params: [12.2061,0.0]\n",
       "  Type: GaussianProcesses.ProdKernel\n",
       "    Type: GaussianProcesses.FixedKern, Params: Float64[]\n",
       "    Type: GaussianProcesses.Masked{GaussianProcesses.SEIso}, Params: [12.2061,0.0]\n",
       "  Type: GaussianProcesses.ProdKernel\n",
       "    Type: GaussianProcesses.FixedKern, Params: Float64[]\n",
       "    Type: GaussianProcesses.Masked{GaussianProcesses.SEIso}, Params: [12.2061,0.0]\n",
       "  Type: GaussianProcesses.ProdKernel\n",
       "    Type: GaussianProcesses.FixedKern, Params: Float64[]\n",
       "    Type: GaussianProcesses.Masked{GaussianProcesses.SEIso}, Params: [12.2061,0.0]\n",
       "  Type: GaussianProcesses.FixedKern, Params: Float64[]\n"
      ]
     },
     "execution_count": 36,
     "metadata": {},
     "output_type": "execute_result"
    }
   ],
   "source": [
    "k_spatiotemporal_4 = fix(Masked(k1, [1])) * Masked(ksp1, [2,3]) +\n",
    "                     fix(Masked(k2, [1])) * Masked(ksp2, [2,3]) +\n",
    "                     fix(Masked(k3, [1])) * Masked(ksp3, [2,3]) +\n",
    "                     fix(Masked(k4, [1])) * Masked(ksp4, [2,3]) +\n",
    "                     fix(Masked(k5, [1])) * Masked(ksp5, [2,3]) +\n",
    "                     fix(Masked(k6, [1])) * Masked(ksp6, [2,3]) +\n",
    "                     fix(Masked(k_means, [2,3]))"
   ]
  },
  {
   "cell_type": "code",
   "execution_count": 37,
   "metadata": {
    "collapsed": false,
    "deletable": true,
    "editable": true
   },
   "outputs": [
    {
     "name": "stdout",
     "output_type": "stream",
     "text": [
      "[5932.37,64.7881,-130.213,-11224.1,5786.12,-1399.72,-1611.98,243.684,-224.299,57.078,-42.1138,1.68727e-6,-2.93528e-5]\n",
      "Iter     Function value   Gradient norm \n",
      "     0     5.557020e+04     1.122412e+04\n",
      "     1     5.488597e+04     1.329534e+04\n",
      "     2     5.131610e+04     5.205859e+03\n",
      "     3     5.078003e+04     1.600448e+03\n",
      "     4     5.049983e+04     1.837527e+03\n",
      "     5     5.038848e+04     1.336321e+03\n",
      "     6     5.019158e+04     1.264262e+03\n",
      "     7     4.916541e+04     4.728498e+03\n",
      "     8     4.801690e+04     1.895439e+03\n",
      "     9     4.774955e+04     2.329232e+03\n",
      "    10     4.734335e+04     1.286051e+03\n",
      "    11     4.723742e+04     3.406529e+02\n",
      "    12     4.721982e+04     4.250593e+02\n",
      "    13     4.719816e+04     3.361377e+02\n",
      "    14     4.715590e+04     3.073294e+02\n",
      "    15     4.713855e+04     1.360608e+02\n",
      "    16     4.713776e+04     6.110578e+01\n",
      "    17     4.713000e+04     3.353194e+02\n",
      "    18     4.711864e+04     2.521104e+02\n",
      "    19     4.711389e+04     3.211497e+02\n",
      "    20     4.710969e+04     8.477208e+01\n",
      "    21     4.710484e+04     2.794378e+02\n",
      "    22     4.710006e+04     3.238262e+02\n",
      "    23     4.708746e+04     1.071496e+02\n",
      "    24     4.708478e+04     1.760457e+02\n",
      "    25     4.708330e+04     6.159657e+01\n",
      "    26     4.708253e+04     7.073123e+01\n",
      "    27     4.708213e+04     8.287066e+01\n",
      "3286.801040 seconds (25.57 M allocations: 794.654 GB, 3.44% gc time)\n"
     ]
    },
    {
     "data": {
      "text/plain": [
       "Results of Optimization Algorithm\n",
       " * Algorithm: Conjugate Gradient\n",
       " * Starting Point: [-1.0,12.206072645530174, ...]\n",
       " * Minimizer: [-1.6502890060237414,14.239844714240363, ...]\n",
       " * Minimum: 4.708213e+04\n",
       " * Iterations: 27\n",
       " * Convergence: true\n",
       "   * |x - x'| < 1.0e-05: false\n",
       "   * |f(x) - f(x')| / |f(x)| < 1.0e-05: true\n",
       "   * |g(x)| < 1.0e-08: false\n",
       "   * Reached Maximum Number of Iterations: false\n",
       " * Objective Function Calls: 93\n",
       " * Gradient Calls: 65"
      ]
     },
     "execution_count": 37,
     "metadata": {},
     "output_type": "execute_result"
    }
   ],
   "source": [
    "begin\n",
    "    global opt_out\n",
    "    k_spatiotemporal = k_spatiotemporal_4\n",
    "    chunks=GP[]\n",
    "    chunk_width=24*10\n",
    "    tstart=0.0\n",
    "    tend=tstart+chunk_width\n",
    "    nobsv=0\n",
    "    while tstart < get(maximum(hourly_cat[:ts_hours]))\n",
    "        in_chunk=(tstart .<= hourly_cat[:ts_hours].values) & (hourly_cat[:ts_hours].values .< tend)\n",
    "        hourly_chunk = hourly_cat[in_chunk,:]\n",
    "        nobsv_chunk = sum(in_chunk)\n",
    "        nobsv += nobsv_chunk\n",
    "\n",
    "        chunk_X_PRJ = isdSubset[:X_PRJ].values[hourly_chunk[:station].values]\n",
    "        chunk_Y_PRJ = isdSubset[:Y_PRJ].values[hourly_chunk[:station].values]\n",
    "        chunk_X = [hourly_chunk[:ts_hours].values chunk_X_PRJ chunk_Y_PRJ]\n",
    "\n",
    "        y = hourly_chunk[:temp].values\n",
    "        chunk = GP(chunk_X', y, MeanConst(mean(y)), k_spatiotemporal, -1.0)\n",
    "        push!(chunks, chunk)\n",
    "\n",
    "        tstart=tend\n",
    "        tend+=chunk_width\n",
    "    end\n",
    "    reals = TempModel.GPRealisations(chunks)\n",
    "    update_mll_and_dmll!(reals, mean=false)\n",
    "    println(reals.dmLL)\n",
    "    @time opt_out=optimize!(reals, mean=false, show_trace=true, x_tol=1e-5, f_tol=1e-5)\n",
    "end"
   ]
  },
  {
   "cell_type": "code",
   "execution_count": 38,
   "metadata": {
    "collapsed": false,
    "deletable": true,
    "editable": true
   },
   "outputs": [
    {
     "name": "stdout",
     "output_type": "stream",
     "text": [
      "[-1.65029,14.2398,0.111707,11.5002,-0.0791469,8.76624,0.126258,14.4041,0.147028,13.0326,-0.635492,12.2061,-8.08864e-7]"
     ]
    }
   ],
   "source": [
    "print(Optim.minimizer(opt_out))"
   ]
  },
  {
   "cell_type": "code",
   "execution_count": 39,
   "metadata": {
    "collapsed": false,
    "deletable": true,
    "editable": true
   },
   "outputs": [
    {
     "name": "stdout",
     "output_type": "stream",
     "text": [
      "47082.12648618504"
     ]
    }
   ],
   "source": [
    "print(Optim.minimum(opt_out))"
   ]
  },
  {
   "cell_type": "code",
   "execution_count": 42,
   "metadata": {
    "collapsed": false,
    "deletable": true,
    "editable": true
   },
   "outputs": [
    {
     "name": "stdout",
     "output_type": "stream",
     "text": [
      "k₁: Periodic \n",
      "=================\n",
      "σ: 2.825\n",
      "l: 0.925\n",
      "p:    24 hours\n",
      "> spatial decay:\n",
      "σ: 1.118\n",
      "l: 1528572.290\n",
      "\n",
      "k₂: RQIso \n",
      "=================\n",
      "σ: 2.895\n",
      "l: 4.296 hours\n",
      "α: 0.290\n",
      "> spatial decay:\n",
      "σ: 0.924\n",
      "l: 98740.086\n",
      "\n",
      "k₃: SEIso \n",
      "=================\n",
      "σ: 0.350\n",
      "l: 0.291 hours\n",
      "> spatial decay:\n",
      "σ: 1.135\n",
      "l: 6413.993\n",
      "\n",
      "k₄: RQIso \n",
      "=================\n",
      "σ: 3.645\n",
      "l: 0.931 days\n",
      "α: 17.241\n",
      "> spatial decay:\n",
      "σ: 1.158\n",
      "l: 1801403.018\n",
      "\n",
      "k₅: RQIso \n",
      "=================\n",
      "σ: 1.712\n",
      "l: 1.643 days\n",
      "α: 20.275\n",
      "> spatial decay:\n",
      "σ: 0.530\n",
      "l: 457074.599\n",
      "\n",
      "k₆ SEIso \n",
      "=================\n",
      "σ: 0.005\n",
      "l: 92.639 days\n",
      "> spatial decay:\n",
      "σ: 1.000\n",
      "l: 200000.011\n",
      "\n",
      "=================\n",
      "σy: 0.192\n"
     ]
    }
   ],
   "source": [
    "print(\"k₁: Periodic \\n=================\\n\")\n",
    "@printf(\"σ: %5.3f\\n\", √k1.kern.σ2)\n",
    "@printf(\"l: %5.3f\\n\", √k1.kern.ℓ2)\n",
    "@printf(\"p: %5.0f hours\\n\", k1.kern.p)\n",
    "print(\"> spatial decay:\\n\")\n",
    "@printf(\"σ: %5.3f\\n\", √ksp1.σ2)\n",
    "@printf(\"l: %5.3f\\n\", √ksp1.ℓ2)\n",
    "print(\"\\nk₂: RQIso \\n=================\\n\")\n",
    "@printf(\"σ: %5.3f\\n\", √ k2.σ2)\n",
    "@printf(\"l: %5.3f hours\\n\", √ k2.ℓ2)\n",
    "@printf(\"α: %5.3f\\n\", k2.α)\n",
    "print(\"> spatial decay:\\n\")\n",
    "@printf(\"σ: %5.3f\\n\", √ksp2.σ2)\n",
    "@printf(\"l: %5.3f\\n\", √ksp2.ℓ2)\n",
    "print(\"\\nk₃: SEIso \\n=================\\n\")\n",
    "@printf(\"σ: %5.3f\\n\", √k3.σ2)\n",
    "@printf(\"l: %5.3f hours\\n\", √k3.ℓ2)\n",
    "print(\"> spatial decay:\\n\")\n",
    "@printf(\"σ: %5.3f\\n\", √ksp3.σ2)\n",
    "@printf(\"l: %5.3f\\n\", √ksp3.ℓ2)\n",
    "print(\"\\nk₄: RQIso \\n=================\\n\")\n",
    "@printf(\"σ: %5.3f\\n\", √k4.σ2)\n",
    "@printf(\"l: %5.3f days\\n\", √k4.ℓ2 / 24)\n",
    "@printf(\"α: %5.3f\\n\",  k4.α)\n",
    "print(\"> spatial decay:\\n\")\n",
    "@printf(\"σ: %5.3f\\n\", √ksp4.σ2)\n",
    "@printf(\"l: %5.3f\\n\", √ksp4.ℓ2)\n",
    "print(\"\\nk₅: RQIso \\n=================\\n\")\n",
    "@printf(\"σ: %5.3f\\n\", √k5.σ2)\n",
    "@printf(\"l: %5.3f days\\n\", √k5.ℓ2 / 24)\n",
    "@printf(\"α: %5.3f\\n\",  k5.α)\n",
    "print(\"> spatial decay:\\n\")\n",
    "@printf(\"σ: %5.3f\\n\", √ksp5.σ2)\n",
    "@printf(\"l: %5.3f\\n\", √ksp5.ℓ2)\n",
    "print(\"\\nk₆ SEIso \\n=================\\n\")\n",
    "@printf(\"σ: %5.3f\\n\", √k6.σ2)\n",
    "@printf(\"l: %5.3f days\\n\", √k6.ℓ2 / 24)\n",
    "print(\"> spatial decay:\\n\")\n",
    "@printf(\"σ: %5.3f\\n\", √ksp6.σ2)\n",
    "@printf(\"l: %5.3f\\n\", √ksp6.ℓ2)\n",
    "print(\"\\n=================\\n\")\n",
    "@printf(\"σy: %5.3f\\n\", exp(Optim.minimizer(opt_out)[1]))"
   ]
  }
 ],
 "metadata": {
  "hide_input": false,
  "kernelspec": {
   "display_name": "Julia 0.5.1",
   "language": "julia",
   "name": "julia-0.5.1"
  },
  "language_info": {
   "file_extension": ".jl",
   "mimetype": "application/julia",
   "name": "julia",
   "version": "0.5.1"
  },
  "nav_menu": {},
  "toc": {
   "navigate_menu": true,
   "number_sections": true,
   "sideBar": true,
   "threshold": 6,
   "toc_cell": true,
   "toc_section_display": "block",
   "toc_window_display": true
  },
  "toc_position": {
   "height": "930px",
   "left": "0px",
   "right": "1065px",
   "top": "106px",
   "width": "212px"
  }
 },
 "nbformat": 4,
 "nbformat_minor": 1
}
