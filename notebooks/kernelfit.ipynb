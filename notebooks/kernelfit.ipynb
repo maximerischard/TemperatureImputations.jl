{
 "cells": [
  {
   "cell_type": "code",
   "execution_count": 1,
   "metadata": {},
   "outputs": [
    {
     "data": {
      "text/plain": [
       "\"/Users/imolk/Library/Julia/environments/climate/Project.toml\""
      ]
     },
     "execution_count": 1,
     "metadata": {},
     "output_type": "execute_result"
    }
   ],
   "source": [
    "using Pkg\n",
    "Pkg.activate(\"climate\"; shared=true)"
   ]
  },
  {
   "cell_type": "code",
   "execution_count": 2,
   "metadata": {},
   "outputs": [
    {
     "data": {
      "text/plain": [
       "5"
      ]
     },
     "execution_count": 2,
     "metadata": {},
     "output_type": "execute_result"
    }
   ],
   "source": [
    "ICAO = \"KWRB\"\n",
    "USAF, WBAN = 722175, 13860\n",
    "k_nearest = 5"
   ]
  },
  {
   "cell_type": "code",
   "execution_count": 3,
   "metadata": {},
   "outputs": [
    {
     "name": "stderr",
     "output_type": "stream",
     "text": [
      "┌ Info: Recompiling stale cache file /Users/imolk/Library/Julia/compiled/v0.7/TempModel/5V5SX.ji for TempModel [429a4ede-8e99-57b3-891e-c3971593d88c]\n",
      "└ @ Base loading.jl:1185\n"
     ]
    }
   ],
   "source": [
    "using Revise\n",
    "import TempModel"
   ]
  },
  {
   "cell_type": "code",
   "execution_count": 4,
   "metadata": {},
   "outputs": [],
   "source": [
    "data_dir = \"../data\"\n",
    "epsg = 3857 # Web Mercator (m)\n",
    "isdList = TempModel.read_isdList(; data_dir=data_dir, epsg=epsg)\n",
    "isd_wData = TempModel.stations_with_data(isdList; data_dir=data_dir)\n",
    "isd_nearest_and_test = TempModel.find_nearest(isd_wData, USAF, WBAN, k_nearest)\n",
    "isd_nearest = isd_nearest_and_test[2:end,:]\n",
    "\n",
    "hourly_data = TempModel.read_Stations(isd_nearest; data_dir=data_dir)\n",
    ";"
   ]
  },
  {
   "cell_type": "code",
   "execution_count": 5,
   "metadata": {},
   "outputs": [],
   "source": [
    "k_spatiotemporal, logNoise = k_spatiotemporal = TempModel.fitted_sptemp_matern()\n",
    ";"
   ]
  },
  {
   "cell_type": "code",
   "execution_count": 6,
   "metadata": {},
   "outputs": [
    {
     "name": "stdout",
     "output_type": "stream",
     "text": [
      "20880."
     ]
    },
    {
     "name": "stderr",
     "output_type": "stream",
     "text": [
      "WARNING: Base.LinAlg is deprecated, run `using LinearAlgebra` instead\n",
      "  likely near /Users/imolk/Library/Julia/packages/IJulia/8Y05k/src/kernel.jl:41\n",
      "WARNING: Base.LinAlg is deprecated, run `using LinearAlgebra` instead\n",
      "  likely near /Users/imolk/Library/Julia/packages/IJulia/8Y05k/src/kernel.jl:41\n"
     ]
    },
    {
     "name": "stdout",
     "output_type": "stream",
     "text": [
      "152039 seconds (28.81 M allocations: 17.438 GiB, 0.08% gc time)\n"
     ]
    }
   ],
   "source": [
    "@time opt_out = TempModel.optim_kernel(k_spatiotemporal, logNoise, isd_nearest, hourly_data, :Optim);"
   ]
  },
  {
   "cell_type": "code",
   "execution_count": 8,
   "metadata": {},
   "outputs": [
    {
     "data": {
      "text/plain": [
       "Dict{Symbol,Any} with 4 entries:\n",
       "  :mll      => -72132.8\n",
       "  :hyp      => [-1.55879, -0.13913, 1.29157, 13.5471, -1.52905, -0.767335, -0.3…\n",
       "  :logNoise => -1.55879\n",
       "  :opt_out  => Results of Optimization Algorithm…"
      ]
     },
     "execution_count": 8,
     "metadata": {},
     "output_type": "execute_result"
    }
   ],
   "source": [
    "opt_out"
   ]
  },
  {
   "cell_type": "code",
   "execution_count": 9,
   "metadata": {},
   "outputs": [
    {
     "name": "stderr",
     "output_type": "stream",
     "text": [
      "WARNING: Base.@sprintf is deprecated: it has been moved to the standard library package `Printf`.\n",
      "Add `using Printf` to your imports.\n",
      "  likely near /Users/imolk/Library/Julia/packages/IJulia/8Y05k/src/kernel.jl:41\n"
     ]
    }
   ],
   "source": [
    "import JSON\n",
    "save_dir = \".\"\n",
    "GPmodel = \"matern\"\n",
    "output_dictionary = Dict{String,Any}(\n",
    "    \"mll\" => opt_out[:mll],\n",
    "    \"hyp\" => opt_out[:hyp],\n",
    "    \"logNoise\" => opt_out[:logNoise],\n",
    "    \"test_ICAO\" => ICAO,\n",
    "    \"test_USAF\" => USAF,\n",
    "    \"test_WBAN\" => WBAN,\n",
    "    \"nearby_ICAO\" => isd_nearest[:ICAO],\n",
    "    \"nearby_USAF\" => isd_nearest[:USAF],\n",
    "    \"nearby_WBAN\" => isd_nearest[:WBAN],\n",
    "    \"GPmodel\" => GPmodel\n",
    ")\n",
    "\n",
    "savemodel_dir = joinpath(save_dir, \"fitted_kernel\", GPmodel)\n",
    "if !isdir(savemodel_dir)\n",
    "    mkdir(savemodel_dir)\n",
    "end\n",
    "fname = @sprintf(\"hyperparams_%s_%s.json\", GPmodel, ICAO) \n",
    "filepath = joinpath(savemodel_dir, fname)\n",
    "open(filepath, \"w\") do io\n",
    "    indent = 4\n",
    "    JSON.print(io, output_dictionary, indent)\n",
    "end"
   ]
  }
 ],
 "metadata": {
  "hide_input": false,
  "hide_markdown_input": false,
  "kernelspec": {
   "display_name": "Julia 0.7.0",
   "language": "julia",
   "name": "julia-0.7"
  },
  "language_info": {
   "file_extension": ".jl",
   "mimetype": "application/julia",
   "name": "julia",
   "version": "0.7.0"
  },
  "toc": {
   "nav_menu": {},
   "number_sections": true,
   "sideBar": true,
   "skip_h1_title": false,
   "title_cell": "Table of Contents",
   "title_sidebar": "Contents",
   "toc_cell": false,
   "toc_position": {},
   "toc_section_display": true,
   "toc_window_display": true
  }
 },
 "nbformat": 4,
 "nbformat_minor": 2
}
