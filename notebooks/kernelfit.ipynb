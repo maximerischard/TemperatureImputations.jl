{
 "cells": [
  {
   "cell_type": "code",
   "execution_count": 1,
   "metadata": {},
   "outputs": [
    {
     "data": {
      "text/plain": [
       "\"/Users/imolk/Library/Julia/environments/climate/Project.toml\""
      ]
     },
     "execution_count": 1,
     "metadata": {},
     "output_type": "execute_result"
    }
   ],
   "source": [
    "using Pkg\n",
    "Pkg.activate(\"climate\"; shared=true)"
   ]
  },
  {
   "cell_type": "code",
   "execution_count": 2,
   "metadata": {},
   "outputs": [
    {
     "data": {
      "text/plain": [
       "5"
      ]
     },
     "execution_count": 2,
     "metadata": {},
     "output_type": "execute_result"
    }
   ],
   "source": [
    "ICAO = \"KWRB\"\n",
    "USAF, WBAN = 722175, 13860\n",
    "k_nearest = 5"
   ]
  },
  {
   "cell_type": "code",
   "execution_count": 3,
   "metadata": {},
   "outputs": [
    {
     "name": "stderr",
     "output_type": "stream",
     "text": [
      "┌ Info: Recompiling stale cache file /Users/imolk/Library/Julia/compiled/v0.7/TempModel/5V5SX.ji for TempModel [429a4ede-8e99-57b3-891e-c3971593d88c]\n",
      "└ @ Base loading.jl:1185\n"
     ]
    }
   ],
   "source": [
    "using Revise\n",
    "import TempModel"
   ]
  },
  {
   "cell_type": "code",
   "execution_count": 4,
   "metadata": {},
   "outputs": [],
   "source": [
    "data_dir = \"../data\"\n",
    "epsg = 3857 # Web Mercator (m)\n",
    "isdList = TempModel.read_isdList(; data_dir=data_dir, epsg=epsg)\n",
    "isd_wData = TempModel.stations_with_data(isdList; data_dir=data_dir)\n",
    "isd_nearest_and_test = TempModel.find_nearest(isd_wData, USAF, WBAN, k_nearest)\n",
    "isd_nearest = isd_nearest_and_test[2:end,:]\n",
    "\n",
    "hourly_data = TempModel.read_Stations(isd_nearest; data_dir=data_dir)\n",
    ";"
   ]
  },
  {
   "cell_type": "code",
   "execution_count": 5,
   "metadata": {},
   "outputs": [],
   "source": [
    "k_spatiotemporal, logNoise = k_spatiotemporal = TempModel.fitted_sptemp_matern()\n",
    ";"
   ]
  },
  {
   "cell_type": "code",
   "execution_count": 6,
   "metadata": {},
   "outputs": [
    {
     "name": "stdout",
     "output_type": "stream",
     "text": [
      "20880."
     ]
    },
    {
     "name": "stderr",
     "output_type": "stream",
     "text": [
      "WARNING: Base.LinAlg is deprecated, run `using LinearAlgebra` instead\n",
      "  likely near /Users/imolk/Library/Julia/packages/IJulia/8Y05k/src/kernel.jl:41\n",
      "WARNING: Base.LinAlg is deprecated, run `using LinearAlgebra` instead\n",
      "  likely near /Users/imolk/Library/Julia/packages/IJulia/8Y05k/src/kernel.jl:41\n"
     ]
    },
    {
     "name": "stdout",
     "output_type": "stream",
     "text": [
      "152039 seconds (28.81 M allocations: 17.438 GiB, 0.08% gc time)\n"
     ]
    }
   ],
   "source": [
    "@time opt_out = TempModel.optim_kernel(k_spatiotemporal, logNoise, isd_nearest, hourly_data, :Optim);"
   ]
  },
  {
   "cell_type": "code",
   "execution_count": 8,
   "metadata": {},
   "outputs": [
    {
     "data": {
      "text/plain": [
       "Dict{Symbol,Any} with 4 entries:\n",
       "  :mll      => -72132.8\n",
       "  :hyp      => [-1.55879, -0.13913, 1.29157, 13.5471, -1.52905, -0.767335, -0.3…\n",
       "  :logNoise => -1.55879\n",
       "  :opt_out  => Results of Optimization Algorithm…"
      ]
     },
     "execution_count": 8,
     "metadata": {},
     "output_type": "execute_result"
    }
   ],
   "source": [
    "opt_out"
   ]
  },
  {
   "cell_type": "code",
   "execution_count": 9,
   "metadata": {},
   "outputs": [
    {
     "name": "stderr",
     "output_type": "stream",
     "text": [
      "WARNING: Base.@sprintf is deprecated: it has been moved to the standard library package `Printf`.\n",
      "Add `using Printf` to your imports.\n",
      "  likely near /Users/imolk/Library/Julia/packages/IJulia/8Y05k/src/kernel.jl:41\n"
     ]
    }
   ],
   "source": [
    "import JSON\n",
    "save_dir = \".\"\n",
    "GPmodel = \"matern\"\n",
    "output_dictionary = Dict{String,Any}(\n",
    "    \"mll\" => opt_out[:mll],\n",
    "    \"hyp\" => opt_out[:hyp],\n",
    "    \"logNoise\" => opt_out[:logNoise],\n",
    "    \"test_ICAO\" => ICAO,\n",
    "    \"test_USAF\" => USAF,\n",
    "    \"test_WBAN\" => WBAN,\n",
    "    \"nearby_ICAO\" => isd_nearest[:ICAO],\n",
    "    \"nearby_USAF\" => isd_nearest[:USAF],\n",
    "    \"nearby_WBAN\" => isd_nearest[:WBAN],\n",
    "    \"GPmodel\" => GPmodel\n",
    ")\n",
    "\n",
    "savemodel_dir = joinpath(save_dir, \"fitted_kernel\", GPmodel)\n",
    "if !isdir(savemodel_dir)\n",
    "    mkdir(savemodel_dir)\n",
    "end\n",
    "fname = @sprintf(\"hyperparams_%s_%s.json\", GPmodel, ICAO) \n",
    "filepath = joinpath(savemodel_dir, fname)\n",
    "open(filepath, \"w\") do io\n",
    "    indent = 4\n",
    "    JSON.print(io, output_dictionary, indent)\n",
    "end"
   ]
  },
  {
   "cell_type": "code",
   "execution_count": 28,
   "metadata": {},
   "outputs": [
    {
     "data": {
      "text/plain": [
       "Type: GaussianProcesses.Periodic, Params: [-0.13913, 1.29157, 3.17805]"
      ]
     },
     "execution_count": 28,
     "metadata": {},
     "output_type": "execute_result"
    }
   ],
   "source": [
    "k1.kernel"
   ]
  },
  {
   "cell_type": "code",
   "execution_count": 29,
   "metadata": {},
   "outputs": [
    {
     "name": "stdout",
     "output_type": "stream",
     "text": [
      "k₁: Periodic \n",
      "=================\n",
      "σ: 3.638\n",
      "l: 0.870\n"
     ]
    },
    {
     "name": "stderr",
     "output_type": "stream",
     "text": [
      "WARNING: Base.@printf is deprecated: it has been moved to the standard library package `Printf`.\n",
      "Add `using Printf` to your imports.\n",
      "  likely near /Users/imolk/Library/Julia/packages/IJulia/8Y05k/src/kernel.jl:41\n",
      "WARNING: Base.@printf is deprecated: it has been moved to the standard library package `Printf`.\n",
      "Add `using Printf` to your imports.\n",
      "  likely near /Users/imolk/Library/Julia/packages/IJulia/8Y05k/src/kernel.jl:41\n"
     ]
    },
    {
     "name": "stdout",
     "output_type": "stream",
     "text": [
      "p:    24 hours\n",
      "> spatial decay:\n",
      "l: 764.606 km\n",
      "\n",
      "k₂: RQIso \n",
      "=================\n",
      "σ: 0.464\n",
      "l: 0.217 hours\n",
      "α: 0.712\n",
      "> spatial decay:\n",
      "l: 14.107 km\n",
      "\n",
      "k₃: SEIso \n",
      "=================\n",
      "σ: 1.010\n",
      "l: 1.742 hours\n",
      "> spatial decay:\n",
      "l: 36.377 km\n",
      "\n",
      "k₄: RQIso \n",
      "=================\n",
      "σ: 3.984\n",
      "l: 0.302 days\n",
      "α: 0.272\n",
      "> spatial decay:\n",
      "l: 593.225 km\n",
      "\n",
      "=================\n",
      "σy: 0.210\n"
     ]
    },
    {
     "name": "stderr",
     "output_type": "stream",
     "text": [
      "WARNING: Base.@printf is deprecated: it has been moved to the standard library package `Printf`.\n",
      "Add `using Printf` to your imports.\n",
      "  likely near /Users/imolk/Library/Julia/packages/IJulia/8Y05k/src/kernel.jl:41\n",
      "WARNING: Base.@printf is deprecated: it has been moved to the standard library package `Printf`.\n",
      "Add `using Printf` to your imports.\n",
      "  likely near /Users/imolk/Library/Julia/packages/IJulia/8Y05k/src/kernel.jl:41\n",
      "WARNING: Base.@printf is deprecated: it has been moved to the standard library package `Printf`.\n",
      "Add `using Printf` to your imports.\n",
      "  likely near /Users/imolk/Library/Julia/packages/IJulia/8Y05k/src/kernel.jl:41\n",
      "WARNING: Base.@printf is deprecated: it has been moved to the standard library package `Printf`.\n",
      "Add `using Printf` to your imports.\n",
      "  likely near /Users/imolk/Library/Julia/packages/IJulia/8Y05k/src/kernel.jl:41\n",
      "WARNING: Base.@printf is deprecated: it has been moved to the standard library package `Printf`.\n",
      "Add `using Printf` to your imports.\n",
      "  likely near /Users/imolk/Library/Julia/packages/IJulia/8Y05k/src/kernel.jl:41\n",
      "WARNING: Base.@printf is deprecated: it has been moved to the standard library package `Printf`.\n",
      "Add `using Printf` to your imports.\n",
      "  likely near /Users/imolk/Library/Julia/packages/IJulia/8Y05k/src/kernel.jl:41\n",
      "WARNING: Base.@printf is deprecated: it has been moved to the standard library package `Printf`.\n",
      "Add `using Printf` to your imports.\n",
      "  likely near /Users/imolk/Library/Julia/packages/IJulia/8Y05k/src/kernel.jl:41\n",
      "WARNING: Base.@printf is deprecated: it has been moved to the standard library package `Printf`.\n",
      "Add `using Printf` to your imports.\n",
      "  likely near /Users/imolk/Library/Julia/packages/IJulia/8Y05k/src/kernel.jl:41\n",
      "WARNING: Base.@printf is deprecated: it has been moved to the standard library package `Printf`.\n",
      "Add `using Printf` to your imports.\n",
      "  likely near /Users/imolk/Library/Julia/packages/IJulia/8Y05k/src/kernel.jl:41\n",
      "WARNING: Base.@printf is deprecated: it has been moved to the standard library package `Printf`.\n",
      "Add `using Printf` to your imports.\n",
      "  likely near /Users/imolk/Library/Julia/packages/IJulia/8Y05k/src/kernel.jl:41\n",
      "WARNING: Base.@printf is deprecated: it has been moved to the standard library package `Printf`.\n",
      "Add `using Printf` to your imports.\n",
      "  likely near /Users/imolk/Library/Julia/packages/IJulia/8Y05k/src/kernel.jl:41\n",
      "WARNING: Base.@printf is deprecated: it has been moved to the standard library package `Printf`.\n",
      "Add `using Printf` to your imports.\n",
      "  likely near /Users/imolk/Library/Julia/packages/IJulia/8Y05k/src/kernel.jl:41\n",
      "WARNING: Base.@printf is deprecated: it has been moved to the standard library package `Printf`.\n",
      "Add `using Printf` to your imports.\n",
      "  likely near /Users/imolk/Library/Julia/packages/IJulia/8Y05k/src/kernel.jl:41\n",
      "WARNING: Base.@printf is deprecated: it has been moved to the standard library package `Printf`.\n",
      "Add `using Printf` to your imports.\n",
      "  likely near /Users/imolk/Library/Julia/packages/IJulia/8Y05k/src/kernel.jl:41\n"
     ]
    }
   ],
   "source": [
    "ksum, k_st = k_spatiotemporal.kleft, k_spatiotemporal.kright\n",
    "ksum, k_st = ksum.kleft, ksum.kright\n",
    "k4, ksp4 = k_st.kleft, k_st.kright\n",
    "k4 = k4.kernel\n",
    "ksp4 = ksp4.kernel.kernel\n",
    "\n",
    "ksum, k_st = ksum.kleft, ksum.kright\n",
    "k3, ksp3 = k_st.kleft, k_st.kright\n",
    "k3 = k3.kernel\n",
    "ksp3 = ksp3.kernel.kernel\n",
    "\n",
    "ksum, k_st = ksum.kleft, ksum.kright\n",
    "k2, ksp2 = k_st.kleft, k_st.kright\n",
    "k2 = k2.kernel\n",
    "ksp2 = ksp2.kernel.kernel\n",
    "\n",
    "k_st = ksum\n",
    "k1, ksp1 = k_st.kleft, k_st.kright\n",
    "k1 = k1.kernel.kernel\n",
    "ksp1 = ksp1.kernel.kernel\n",
    "\n",
    "print(\"k₁: Periodic \\n=================\\n\")\n",
    "@printf(\"σ: %5.3f\\n\", √k1.σ2)\n",
    "@printf(\"l: %5.3f\\n\", √k1.ℓ2)\n",
    "@printf(\"p: %5.0f hours\\n\", k1.p)\n",
    "print(\"> spatial decay:\\n\")\n",
    "@printf(\"l: %5.3f km\\n\", ksp1.ℓ / 1000)\n",
    "print(\"\\nk₂: RQIso \\n=================\\n\")\n",
    "@printf(\"σ: %5.3f\\n\", √k2.σ2)\n",
    "@printf(\"l: %5.3f hours\\n\", √ k2.ℓ2)\n",
    "@printf(\"α: %5.3f\\n\", k2.α)\n",
    "print(\"> spatial decay:\\n\")\n",
    "# @printf(\"σ: %5.3f\\n\", √ksp2.σ2)\n",
    "@printf(\"l: %5.3f km\\n\", ksp2.ℓ / 1000)\n",
    "print(\"\\nk₃: SEIso \\n=================\\n\")\n",
    "@printf(\"σ: %5.3f\\n\", √k3.σ2)\n",
    "@printf(\"l: %5.3f hours\\n\", √k3.ℓ2)\n",
    "print(\"> spatial decay:\\n\")\n",
    "# @printf(\"σ: %5.3f\\n\", √ksp3.σ2)\n",
    "@printf(\"l: %5.3f km\\n\", ksp3.ℓ / 1000)\n",
    "print(\"\\nk₄: RQIso \\n=================\\n\")\n",
    "@printf(\"σ: %5.3f\\n\", √k4.σ2)\n",
    "@printf(\"l: %5.3f days\\n\", √k4.ℓ2 / 24)\n",
    "@printf(\"α: %5.3f\\n\",  k4.α)\n",
    "print(\"> spatial decay:\\n\")\n",
    "# @printf(\"σ: %5.3f\\n\", √ksp4.σ2)\n",
    "@printf(\"l: %5.3f km\\n\", ksp4.ℓ / 1000)\n",
    "print(\"\\n=================\\n\")\n",
    "@printf(\"σy: %5.3f\\n\", exp(opt_out[:hyp][1]))"
   ]
  }
 ],
 "metadata": {
  "hide_input": false,
  "hide_markdown_input": false,
  "kernelspec": {
   "display_name": "Julia 0.7.0",
   "language": "julia",
   "name": "julia-0.7"
  },
  "language_info": {
   "file_extension": ".jl",
   "mimetype": "application/julia",
   "name": "julia",
   "version": "0.7.0"
  },
  "toc": {
   "nav_menu": {},
   "number_sections": true,
   "sideBar": true,
   "skip_h1_title": false,
   "title_cell": "Table of Contents",
   "title_sidebar": "Contents",
   "toc_cell": false,
   "toc_position": {},
   "toc_section_display": true,
   "toc_window_display": true
  }
 },
 "nbformat": 4,
 "nbformat_minor": 2
}
