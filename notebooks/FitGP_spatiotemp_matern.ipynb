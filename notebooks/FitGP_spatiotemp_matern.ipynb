{
 "cells": [
  {
   "cell_type": "markdown",
   "metadata": {},
   "source": [
    "Using Matern spatial covariance components instead of RQIso or Squared Exponential."
   ]
  },
  {
   "cell_type": "code",
   "execution_count": 1,
   "metadata": {},
   "outputs": [],
   "source": [
    "using TimeSeries\n",
    "using DataFrames\n",
    "using GaussianProcesses\n",
    "using GaussianProcesses: Mean, Kernel, evaluate, metric, IsotropicData, VecF64\n",
    "using GaussianProcesses: Stationary, KernelData, MatF64\n",
    "import GaussianProcesses: optimize!, get_optim_target, cov, grad_slice!\n",
    "import GaussianProcesses: num_params, set_params!, get_params, update_mll!, update_mll_and_dmll!\n",
    "import GaussianProcesses: get_param_names, cov!, addcov!, multcov!\n",
    "import Proj4\n",
    "using Optim\n",
    "using Distances\n",
    ";"
   ]
  },
  {
   "cell_type": "code",
   "execution_count": 2,
   "metadata": {},
   "outputs": [],
   "source": [
    "import PyPlot; plt=PyPlot\n",
    "using LaTeXStrings\n",
    "plt.rc(\"figure\", dpi=300.0)\n",
    "# plt.rc(\"figure\", figsize=(6,4))\n",
    "plt.rc(\"savefig\", dpi=300.0)\n",
    "plt.rc(\"text\", usetex=true)\n",
    "plt.rc(\"font\", family=\"serif\")\n",
    "plt.rc(\"font\", serif=\"Palatino\")\n",
    ";"
   ]
  },
  {
   "cell_type": "markdown",
   "metadata": {},
   "source": [
    "# Data Import and Preprocessing"
   ]
  },
  {
   "cell_type": "code",
   "execution_count": 6,
   "metadata": {},
   "outputs": [
    {
     "name": "stderr",
     "output_type": "stream",
     "text": [
      "WARNING: replacing module TempModel\n"
     ]
    }
   ],
   "source": [
    "include(\"iowa.jl\")\n",
    "iowa = prepare_iowa_data(data_dir);"
   ]
  },
  {
   "cell_type": "markdown",
   "metadata": {},
   "source": [
    "# Matérn spatio-temporal kernel"
   ]
  },
  {
   "cell_type": "code",
   "execution_count": 7,
   "metadata": {},
   "outputs": [
    {
     "data": {
      "text/plain": [
       "-1.5563"
      ]
     },
     "execution_count": 7,
     "metadata": {},
     "output_type": "execute_result"
    }
   ],
   "source": [
    "mk1 = fix(Periodic(log(0.5), log(√(3.0)), log(24.0)), :lp)\n",
    "mk2 = Mat32Iso(log(2.0), log(√3.0)) # short term Matern\n",
    "mk3 = SEIso(log(2.0), log(√3.0)) # short term SE\n",
    "mk4 = Mat32Iso(log(1.0*24), log(√10.0))\n",
    "mk5 = RQIso(log(10.0*24), log(√20.0), 3.0)\n",
    "mk_nonoise=mk1+mk2+mk3+mk4+mk5\n",
    "\n",
    "temporal_minx = [-1.5563, -0.0368977, 1.06012, -1.38956, -1.19061, -0.0300269, -1.03743, 1.86563, 0.9376, 3.21125, 1.41512, 6.0]\n",
    "set_params!(mk_nonoise, temporal_minx[2:end])\n",
    "\n",
    "ksp1 = SEIso(log(2*10^5), log(1.0))\n",
    "ksp2 = SEIso(log(2*10^5), log(1.0))\n",
    "ksp3 = SEIso(log(2*10^5), log(1.0))\n",
    "ksp4 = SEIso(log(2*10^5), log(1.0))\n",
    "ksp5 = SEIso(log(2*10^5), log(1.0))\n",
    "k_means = SEIso(log(1.0), log(20.0))\n",
    "\n",
    "k_spatiotemporal = Masked(mk1, [1]) * Masked(ksp1, [2,3]) +\n",
    "                     Masked(mk2, [1]) * Masked(ksp2, [2,3]) +\n",
    "                     Masked(mk3, [1]) * Masked(ksp3, [2,3]) +\n",
    "                     Masked(mk4, [1]) * Masked(ksp4, [2,3]) +\n",
    "                     Masked(mk5, [1]) * Masked(ksp5, [2,3]) +\n",
    "                     fix(Masked(k_means, [2,3]))\n",
    "logNoise=temporal_minx[1]"
   ]
  },
  {
   "cell_type": "markdown",
   "metadata": {},
   "source": [
    "# Optimization"
   ]
  },
  {
   "cell_type": "code",
   "execution_count": 8,
   "metadata": {},
   "outputs": [
    {
     "name": "stdout",
     "output_type": "stream",
     "text": [
      "8454.017348 seconds (56.88 M allocations: 990.357 GiB, 2.36% gc time)\n"
     ]
    }
   ],
   "source": [
    "@time opt_out = optim_kernel(k_spatiotemporal, 0.0, iowa[:isdSubset], iowa[:hourly_data], :NLopt);"
   ]
  },
  {
   "cell_type": "code",
   "execution_count": 11,
   "metadata": {},
   "outputs": [
    {
     "data": {
      "text/plain": [
       "-46107.67901020296"
      ]
     },
     "execution_count": 11,
     "metadata": {},
     "output_type": "execute_result"
    }
   ],
   "source": [
    "opt_out[:mll] # optimized marginal log-likelihood"
   ]
  },
  {
   "cell_type": "code",
   "execution_count": 12,
   "metadata": {},
   "outputs": [
    {
     "name": "stdout",
     "output_type": "stream",
     "text": [
      "[-1.73966, -0.223185, 1.02585, 13.6014, -0.0342734, -1.26907, -1.1741, 9.20607, 0.0165053, 1.18303, -0.418253, 12.068, 0.619177, 0.695832, 0.36827, 10.7382, -0.56933, 2.21545, 1.397, 3.0, 13.0806, -0.018121]"
     ]
    }
   ],
   "source": [
    "print(opt_out[:hyp]) # fitted hyperparameters"
   ]
  },
  {
   "cell_type": "code",
   "execution_count": 17,
   "metadata": {},
   "outputs": [
    {
     "name": "stdout",
     "output_type": "stream",
     "text": [
      "mk₁: Periodic \n",
      "=================\n",
      "σ: 2.695\n",
      "l: 0.800\n",
      "p:    24 hours\n",
      "> spatial decay:\n",
      "l: 807.255 km\n",
      "\n",
      "mk₂: Matérn \n",
      "=================\n",
      "σ: 0.314\n",
      "l: 0.281 hours\n",
      "> spatial decay:\n",
      "l: 9.957 km\n",
      "\n",
      "mk₃: SEIso \n",
      "=================\n",
      "σ: 1.223\n",
      "l: 3.264 hours\n",
      "> spatial decay:\n",
      "l: 174.208 km\n",
      "\n",
      "mk₄: Matérn \n",
      "=================\n",
      "σ: 0.818\n",
      "l: 2.005 hours\n",
      "> spatial decay:\n",
      "l: 46.083 km \n",
      "\n",
      "mk₅: RQIso \n",
      "=================\n",
      "σ: 3.970\n",
      "l: 0.382 days\n",
      "α: 20.086\n",
      "> spatial decay:\n",
      "l: 479.565 km\n",
      "\n",
      "=================\n",
      "σy: 0.176\n"
     ]
    }
   ],
   "source": [
    "print(\"mk₁: Periodic \\n=================\\n\")\n",
    "@printf(\"σ: %5.3f\\n\", √(mk1.kern.σ2*ksp1.σ2))\n",
    "@printf(\"l: %5.3f\\n\", √mk1.kern.ℓ2)\n",
    "@printf(\"p: %5.0f hours\\n\", mk1.kern.p)\n",
    "print(\"> spatial decay:\\n\")\n",
    "@printf(\"l: %5.3f km\\n\", √ksp1.ℓ2 / 1000)\n",
    "\n",
    "print(\"\\nmk₂: Matérn \\n=================\\n\")\n",
    "@printf(\"σ: %5.3f\\n\", √(mk2.σ2*ksp2.σ2))\n",
    "@printf(\"l: %5.3f hours\\n\", mk2.ℓ)\n",
    "print(\"> spatial decay:\\n\")\n",
    "# @printf(\"σ: %5.3f\\n\", √ksp2.σ2)\n",
    "@printf(\"l: %5.3f km\\n\", √ksp2.ℓ2 / 1000)\n",
    "\n",
    "print(\"\\nmk₃: SEIso \\n=================\\n\")\n",
    "@printf(\"σ: %5.3f\\n\", √(mk3.σ2*ksp3.σ2))\n",
    "@printf(\"l: %5.3f hours\\n\", √mk3.ℓ2)\n",
    "print(\"> spatial decay:\\n\")\n",
    "# @printf(\"σ: %5.3f\\n\", √ksp3.σ2)\n",
    "@printf(\"l: %5.3f km\\n\", √ksp3.ℓ2 / 1000)\n",
    "\n",
    "print(\"\\nmk₄: Matérn \\n=================\\n\")\n",
    "@printf(\"σ: %5.3f\\n\", √(mk4.σ2*ksp4.σ2))\n",
    "@printf(\"l: %5.3f hours\\n\", mk4.ℓ)\n",
    "print(\"> spatial decay:\\n\")\n",
    "# @printf(\"σ: %5.3f\\n\", √ksp4.σ2)\n",
    "@printf(\"l: %5.3f km \\n\", √ksp4.ℓ2 / 1000)\n",
    "\n",
    "print(\"\\nmk₅: RQIso \\n=================\\n\")\n",
    "@printf(\"σ: %5.3f\\n\", √(mk5.σ2*ksp5.σ2))\n",
    "@printf(\"l: %5.3f days\\n\", √mk5.ℓ2 / 24)\n",
    "@printf(\"α: %5.3f\\n\",  mk5.α)\n",
    "print(\"> spatial decay:\\n\")\n",
    "@printf(\"l: %5.3f km\\n\", √ksp5.ℓ2 / 1000)\n",
    "print(\"\\n=================\\n\")\n",
    "@printf(\"σy: %5.3f\\n\", exp(opt_out[:hyp][1]))"
   ]
  }
 ],
 "metadata": {
  "hide_input": false,
  "hide_markdown_input": false,
  "kernelspec": {
   "display_name": "Julia 0.6.2 Experimental",
   "language": "julia",
   "name": "julia-0.6-experimental"
  },
  "language_info": {
   "file_extension": ".jl",
   "mimetype": "application/julia",
   "name": "julia",
   "version": "0.6.2"
  },
  "nav_menu": {},
  "toc": {
   "nav_menu": {
    "height": "102px",
    "width": "252px"
   },
   "number_sections": true,
   "sideBar": true,
   "skip_h1_title": false,
   "title_cell": "Table of Contents",
   "title_sidebar": "Contents",
   "toc_cell": false,
   "toc_position": {},
   "toc_section_display": "block",
   "toc_window_display": true
  },
  "toc_position": {
   "height": "930px",
   "left": "0px",
   "right": "1065px",
   "top": "106px",
   "width": "212px"
  }
 },
 "nbformat": 4,
 "nbformat_minor": 1
}
