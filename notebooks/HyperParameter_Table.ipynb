{
 "cells": [
  {
   "cell_type": "code",
   "execution_count": 2,
   "metadata": {},
   "outputs": [],
   "source": [
    "using LaTeXStrings"
   ]
  },
  {
   "cell_type": "code",
   "execution_count": 3,
   "metadata": {},
   "outputs": [
    {
     "data": {
      "text/plain": [
       "TempModel"
      ]
     },
     "execution_count": 3,
     "metadata": {},
     "output_type": "execute_result"
    }
   ],
   "source": [
    "module TempModel\n",
    "    data_dir=\"../\"\n",
    "    using GaussianProcesses\n",
    "    using GaussianProcesses: set_params!\n",
    "    include(data_dir*\"/src/fitted_kernel.jl\")\n",
    "end"
   ]
  },
  {
   "cell_type": "code",
   "execution_count": 4,
   "metadata": {},
   "outputs": [
    {
     "data": {
      "text/plain": [
       "Dict{String,Dict{String,String}} with 0 entries"
      ]
     },
     "execution_count": 4,
     "metadata": {},
     "output_type": "execute_result"
    }
   ],
   "source": [
    "param_dict = Dict{String,Dict{String,String}}() # store parameter values"
   ]
  },
  {
   "cell_type": "code",
   "execution_count": 5,
   "metadata": {},
   "outputs": [
    {
     "name": "stdout",
     "output_type": "stream",
     "text": [
      "Dict(\"SExSE\"=>Dict(\"σ_eps\"=>\"0.4\",\"σ_time\"=>\"3.7\",\"ℓ_space\"=>\"176\",\"ℓ_time\"=>\"2.7\"))"
     ]
    }
   ],
   "source": [
    "let\n",
    "    kern = \"SExSE\"\n",
    "    param_dict[kern] = Dict{AbstractString,String}()\n",
    "    \n",
    "    k, logNoise = TempModel.fitted_sptemp_SExSE()\n",
    "\n",
    "    k_time, k_space = k.kerns[1].kerns\n",
    "\n",
    "    σ_eps   = exp(logNoise)\n",
    "    σ_time  = √(k_time.kern.σ2 * k_space.kern.kern.σ2)\n",
    "    ℓ_time  = √(k_time.kern.ℓ2)\n",
    "    ℓ_space = √(k_space.kern.kern.ℓ2)\n",
    "    param_dict[kern][\"σ_eps\"] = @sprintf(\"%.1f\", σ_eps)\n",
    "    param_dict[kern][\"σ_time\"] = @sprintf(\"%.1f\", σ_time)\n",
    "    param_dict[kern][\"ℓ_time\"] = @sprintf(\"%.1f\", ℓ_time)\n",
    "    param_dict[kern][\"ℓ_space\"] = @sprintf(\"%.0f\", ℓ_space/1000)\n",
    "end\n",
    "print(param_dict)"
   ]
  },
  {
   "cell_type": "code",
   "execution_count": 6,
   "metadata": {},
   "outputs": [
    {
     "data": {
      "text/plain": [
       "\"1414\""
      ]
     },
     "execution_count": 6,
     "metadata": {},
     "output_type": "execute_result"
    }
   ],
   "source": [
    "let\n",
    "    kern = \"diurnal\"\n",
    "    param_dict[kern] = Dict{AbstractString,String}()\n",
    "\n",
    "    k, logNoise =  TempModel.fitted_sptemp_diurnal()\n",
    "\n",
    "    σ_eps   = exp(logNoise)\n",
    "\n",
    "    k_spt, k_24, k_mu = k.kerns\n",
    "\n",
    "    k_time, k_space = k_spt.kerns\n",
    "\n",
    "    k_t24, k_s24 = k_24.kerns\n",
    "\n",
    "    σ_eps   = exp(logNoise)\n",
    "    σ_time  = √(k_time.kern.σ2 * k_space.kern.kern.σ2)\n",
    "    ℓ_time  = √(k_time.kern.ℓ2)\n",
    "    ℓ_space = √(k_space.kern.kern.ℓ2)\n",
    "\n",
    "    σ_24 = √(k_t24.kern.kern.σ2 * k_s24.kern.kern.σ2)\n",
    "    ℓ_24 = √(k_t24.kern.kern.ℓ2)\n",
    "    ℓ_s24 = √(k_s24.kern.kern.ℓ2)\n",
    "\n",
    "    param_dict[kern][\"σ_eps\"] = @sprintf(\"%.1f\", σ_eps)\n",
    "    param_dict[kern][\"σ_time\"] = @sprintf(\"%.1f\", σ_time)\n",
    "    param_dict[kern][\"ℓ_time\"] = @sprintf(\"%.1f\", ℓ_time)\n",
    "    param_dict[kern][\"ℓ_space\"] = @sprintf(\"%.0f\", ℓ_space/1000)\n",
    "    param_dict[kern][\"σ_24\"] = @sprintf(\"%.1f\", σ_24)\n",
    "    param_dict[kern][\"ℓ_24\"] = @sprintf(\"%.1f\", ℓ_24)\n",
    "    param_dict[kern][\"ℓ_s24\"] = @sprintf(\"%.0f\", ℓ_s24/1000)\n",
    "end"
   ]
  },
  {
   "cell_type": "code",
   "execution_count": 56,
   "metadata": {},
   "outputs": [],
   "source": [
    "let\n",
    "    kern = \"sumprod\"\n",
    "    param_dict[kern] = Dict{AbstractString,String}()\n",
    "    k, logNoise =  TempModel.fitted_sptemp_simpler()\n",
    "\n",
    "    k_24, k2, k1, k3, k_mu = k.kerns\n",
    "    \n",
    "    σ_eps   = exp(logNoise)\n",
    "    param_dict[kern][\"σ_eps\"] = @sprintf(\"%.1f\", σ_eps)\n",
    "    \n",
    "    k_t24, k_s24 = k_24.kerns\n",
    "    σ_24 = √(k_t24.kern.kern.σ2 * k_s24.kern.σ2)\n",
    "    ℓ_24 = √(k_t24.kern.kern.ℓ2)\n",
    "    ℓ_s24 = √(k_s24.kern.ℓ2)\n",
    "    param_dict[kern][\"σ_24\"] = @sprintf(\"%.1f\", σ_24)\n",
    "    param_dict[kern][\"ℓ_24\"] = @sprintf(\"%.1f\", ℓ_24)\n",
    "    param_dict[kern][\"ℓ_s24\"] = @sprintf(\"%.0f\", ℓ_s24/1000)\n",
    "\n",
    "    for (i,k_spt) in enumerate((k1, k2, k3))\n",
    "        k_time, k_space = k_spt.kerns\n",
    "        σ_time  = √(k_time.kern.σ2 * k_space.kern.σ2)\n",
    "        α_time = (k_time.kern.α)\n",
    "        ℓ_time  = √(k_time.kern.ℓ2)\n",
    "        ℓ_space = √(k_space.kern.ℓ2)\n",
    "\n",
    "        param_dict[kern][\"σ_time\"*string(i)] = @sprintf(\"%.1f\", σ_time)\n",
    "        param_dict[kern][\"ℓ_time\"*string(i)] = @sprintf(\"%.1f\", ℓ_time)\n",
    "        param_dict[kern][\"ℓ_space\"*string(i)] = @sprintf(\"%.0f\", ℓ_space/1000)\n",
    "        param_dict[kern][\"α_time\"*string(i)] = @sprintf(\"%.1f\", α_time)\n",
    "    end\n",
    "end"
   ]
  },
  {
   "cell_type": "code",
   "execution_count": 79,
   "metadata": {},
   "outputs": [
    {
     "data": {
      "text/plain": [
       "Dict{String,Any} with 20 entries:\n",
       "  \"α_time2\"  => \"\"\n",
       "  \"σ_time2\"  => L\"$\\degreeC$\"\n",
       "  \"α_time3\"  => \"\"\n",
       "  \"σ_time\"   => L\"$\\degreeC$\"\n",
       "  \"ℓ_time2\"  => L\"$\\mathrm{hr}$\"\n",
       "  \"ℓ_space2\" => L\"$\\mathrm{km}$\"\n",
       "  \"α_time\"   => \"\"\n",
       "  \"σ_time3\"  => L\"$\\degreeC$\"\n",
       "  \"ℓ_24\"     => L\"$\\mathrm{hr}$\"\n",
       "  \"ℓ_time1\"  => L\"$\\mathrm{hr}$\"\n",
       "  \"ℓ_time3\"  => L\"$\\mathrm{hr}$\"\n",
       "  \"ℓ_s24\"    => L\"$\\mathrm{km}$\"\n",
       "  \"σ_time1\"  => L\"$\\degreeC$\"\n",
       "  \"σ_eps\"    => L\"$\\degreeC$\"\n",
       "  \"α_time1\"  => \"\"\n",
       "  \"ℓ_space\"  => L\"$\\mathrm{km}$\"\n",
       "  \"σ_24\"     => L\"$\\degreeC$\"\n",
       "  \"ℓ_space1\" => L\"$\\mathrm{km}$\"\n",
       "  \"ℓ_time\"   => L\"$\\mathrm{hr}$\"\n",
       "  \"ℓ_space3\" => L\"$\\mathrm{km}$\""
      ]
     },
     "execution_count": 79,
     "metadata": {},
     "output_type": "execute_result"
    }
   ],
   "source": [
    "kerns = [\"SExSE\", \"diurnal\", \"sumprod\"]\n",
    "latex_kern = Dict(\n",
    "    \"SExSE\" => L\"\\kSESE\",\n",
    "    \"diurnal\" => L\"\\kdiurn\",\n",
    "    \"sumprod\" => L\"\\ksumprod\",\n",
    "    )\n",
    "rows = [\n",
    "    \"σ_eps\",\n",
    "    \"\\\\hline\",\n",
    "    \"σ_time\",\n",
    "    \"ℓ_time\",\n",
    "    \"ℓ_space\",\n",
    "    \"\\\\hline\",\n",
    "    \"σ_24\",\n",
    "    \"ℓ_24\",\n",
    "    \"ℓ_s24\",\n",
    "    \"\\\\hline\",\n",
    "    \"σ_time1\",\n",
    "    \"ℓ_time1\",\n",
    "    \"ℓ_space1\",\n",
    "    \"α_time1\",\n",
    "    \"\\\\hline\",\n",
    "    \"σ_time2\",\n",
    "    \"ℓ_time2\",\n",
    "    \"ℓ_space2\",\n",
    "    \"α_time2\",\n",
    "    \"\\\\hline\",\n",
    "    \"σ_time3\",\n",
    "    \"ℓ_time3\",\n",
    "    \"ℓ_space3\",\n",
    "    \"α_time3\",\n",
    "]\n",
    "latex_param = Dict(\n",
    "    \"σ_eps\"   => L\"\\sigman\",\n",
    "    \"σ_time\"  => L\"\\sigma_\\subtime\",\n",
    "    \"ℓ_time\"  => L\"\\ell_\\subtime\",\n",
    "    \"ℓ_space\" => L\"\\ell_\\subspace\",\n",
    "    \"σ_24\"    => L\"\\sigma_{24}\",\n",
    "    \"ℓ_24\"    => L\"\\ell_{24}\",\n",
    "    \"ℓ_s24\"   => L\"\\ell_{\\subspace{}24}\",\n",
    "    \"σ_time1\"  => L\"\\sigma_{\\subtime 1}\",\n",
    "    \"ℓ_time1\"  => L\"\\ell_{\\subtime 1}\",\n",
    "    \"ℓ_space1\" => L\"\\ell_{\\subspace 1}\",\n",
    "    \"σ_time2\"  => L\"\\sigma_{\\subtime 2}\",\n",
    "    \"ℓ_time2\"  => L\"\\ell_{\\subtime 2}\",\n",
    "    \"ℓ_space2\" => L\"\\ell_{\\subspace 2}\",\n",
    "    \"σ_time3\"  => L\"\\sigma_{\\subtime 3}\",\n",
    "    \"ℓ_time3\"  => L\"\\ell_{\\subtime 3}\",\n",
    "    \"ℓ_space3\" => L\"\\ell_{\\subspace 3}\",\n",
    "    \"α_time\" => L\"\\alpha_{\\subtime}\",\n",
    "    \"α_time1\" => L\"\\alpha_{\\subtime 1}\",\n",
    "    \"α_time2\" => L\"\\alpha_{\\subtime 2}\",\n",
    "    \"α_time3\" => L\"\\alpha_{\\subtime 3}\",\n",
    "    )\n",
    "units = Dict(\n",
    "    \"σ_eps\"   => L\"$\\degreeC$\",\n",
    "    \"σ_time\"  => L\"$\\degreeC$\",\n",
    "    \"ℓ_time\"  => L\"$\\mathrm{hr}$\",\n",
    "    \"ℓ_space\" => L\"$\\mathrm{km}$\",\n",
    "    \"σ_time1\"  => L\"$\\degreeC$\",\n",
    "    \"ℓ_time1\"  => L\"$\\mathrm{hr}$\",\n",
    "    \"ℓ_space1\" => L\"$\\mathrm{km}$\",\n",
    "    \"σ_time2\"  => L\"$\\degreeC$\",\n",
    "    \"ℓ_time2\"  => L\"$\\mathrm{hr}$\",\n",
    "    \"ℓ_space2\" => L\"$\\mathrm{km}$\",\n",
    "    \"σ_time3\"  => L\"$\\degreeC$\",\n",
    "    \"ℓ_time3\"  => L\"$\\mathrm{hr}$\",\n",
    "    \"ℓ_space3\" => L\"$\\mathrm{km}$\",\n",
    "    \"σ_24\"    => L\"$\\degreeC$\",\n",
    "    \"ℓ_24\"    => L\"$\\mathrm{hr}$\",\n",
    "    \"ℓ_s24\"   => L\"$\\mathrm{km}$\",\n",
    "    \"α_time\" => \"\",\n",
    "    \"α_time1\" => \"\",\n",
    "    \"α_time2\" => \"\",\n",
    "    \"α_time3\" => \"\",\n",
    "    )"
   ]
  },
  {
   "cell_type": "code",
   "execution_count": 75,
   "metadata": {},
   "outputs": [
    {
     "name": "stdout",
     "output_type": "stream",
     "text": [
      "l|r|rrr|rrr|rrrr|rrrr|rrrr\n",
      " & \\rotcolhead{$\\sigman$} & \\rotcolhead{$\\sigma_\\subtime$} & \\rotcolhead{$\\ell_\\subtime$} & \\rotcolhead{$\\ell_\\subspace$} & \\rotcolhead{$\\sigma_{24}$} & \\rotcolhead{$\\ell_{24}$} & \\rotcolhead{$\\ell_{\\subspace{}24}$} & \\rotcolhead{$\\sigma_{\\subtime 1}$} & \\rotcolhead{$\\ell_{\\subtime 1}$} & \\rotcolhead{$\\ell_{\\subspace 1}$} & \\rotcolhead{$\\alpha_{\\subtime 1}$} & \\rotcolhead{$\\sigma_{\\subtime 2}$} & \\rotcolhead{$\\ell_{\\subtime 2}$} & \\rotcolhead{$\\ell_{\\subspace 2}$} & \\rotcolhead{$\\alpha_{\\subtime 2}$} & \\rotcolhead{$\\sigma_{\\subtime 3}$} & \\rotcolhead{$\\ell_{\\subtime 3}$} & \\rotcolhead{$\\ell_{\\subspace 3}$} & \\rotcolhead{$\\alpha_{\\subtime 3}$}\\\\ \n",
      "\\hline\n",
      "$\\kSESE$ & 0.4 & 3.7 & 2.7 & 176 &  &  &  &  &  &  &  &  &  &  &  &  &  &  & \\\\ \n",
      "$\\kdiurn$ & 0.4 & 3.1 & 2.8 & 154 & 2.4 & 0.7 & 1414 &  &  &  &  &  &  &  &  &  &  &  & \\\\ \n",
      "$\\ksumprod$ & 0.2 &  &  &  & 2.7 & 0.8 & 785 & 0.5 & 0.3 & 10 & 0.3 & 0.9 & 1.9 & 59 & 1.1 & 4.4 & 8.9 & 370 & 0.3\\\\ \n"
     ]
    }
   ],
   "source": [
    "print(\"l\")\n",
    "print(\"|\")\n",
    "for param in rows\n",
    "    if param == \"\\\\hline\"\n",
    "        print(\"|\")\n",
    "        continue\n",
    "    end\n",
    "    print(\"r\")\n",
    "end\n",
    "print(\"\\n\")\n",
    "for param in rows\n",
    "    if param == \"\\\\hline\"\n",
    "        continue\n",
    "    end\n",
    "    print(\" & \")\n",
    "    print(\"\\\\rotcolhead{\")\n",
    "    print(latex_param[param])\n",
    "    print(\"}\")\n",
    "end\n",
    "print(\"\\\\\\\\ \\n\")\n",
    "print(\"\\\\hline\\n\")\n",
    "for kern in kerns\n",
    "    print(latex_kern[kern])\n",
    "    for param in rows\n",
    "        if param == \"\\\\hline\"\n",
    "            continue\n",
    "        end\n",
    "        print(\" & \")\n",
    "        print(get(param_dict[kern], param, \"\"))        \n",
    "    end\n",
    "    print(\"\\\\\\\\ \\n\")\n",
    "end"
   ]
  },
  {
   "cell_type": "code",
   "execution_count": 59,
   "metadata": {},
   "outputs": [
    {
     "name": "stdout",
     "output_type": "stream",
     "text": [
      "$\\sigman$ &\t($\\degreeC$) &\t0.4 &\t0.4 &\t0.2\\\\ \n",
      "\\hline\n",
      "$\\sigma_\\subtime$ &\t($\\degreeC$) &\t3.7 &\t3.1 &\t\\\\ \n",
      "$\\ell_\\subtime$ &\t($\\mathrm{hr}$) &\t2.7 &\t2.8 &\t\\\\ \n",
      "$\\ell_\\subspace$ &\t($\\mathrm{km}$) &\t176 &\t154 &\t\\\\ \n",
      "\\hline\n",
      "$\\sigma_{24}$ &\t($\\degreeC$) &\t &\t2.4 &\t2.7\\\\ \n",
      "$\\ell_{24}$ &\t($\\mathrm{hr}$) &\t &\t0.7 &\t0.8\\\\ \n",
      "$\\ell_{\\subspace{}24}$ &\t($\\mathrm{km}$) &\t &\t1414 &\t785\\\\ \n",
      "\\hline\n",
      "$\\sigma_{\\subtime 1}$ &\t($\\degreeC$) &\t &\t &\t0.5\\\\ \n",
      "$\\ell_{\\subtime 1}$ &\t($\\mathrm{hr}$) &\t &\t &\t0.3\\\\ \n",
      "$\\ell_{\\subspace 1}$ &\t($\\mathrm{km}$) &\t &\t &\t10\\\\ \n",
      "$\\alpha_{\\subtime 1}$ &\t &\t &\t &\t0.3\\\\ \n",
      "\\hline\n",
      "$\\sigma_{\\subtime 2}$ &\t($\\degreeC$) &\t &\t &\t0.9\\\\ \n",
      "$\\ell_{\\subtime 2}$ &\t($\\mathrm{hr}$) &\t &\t &\t1.9\\\\ \n",
      "$\\ell_{\\subspace 2}$ &\t($\\mathrm{km}$) &\t &\t &\t59\\\\ \n",
      "$\\alpha_{\\subtime 2}$ &\t &\t &\t &\t1.1\\\\ \n",
      "\\hline\n",
      "$\\sigma_{\\subtime 3}$ &\t($\\degreeC$) &\t &\t &\t4.4\\\\ \n",
      "$\\ell_{\\subtime 3}$ &\t($\\mathrm{hr}$) &\t &\t &\t8.9\\\\ \n",
      "$\\ell_{\\subspace 3}$ &\t($\\mathrm{km}$) &\t &\t &\t370\\\\ \n",
      "$\\alpha_{\\subtime 3}$ &\t &\t &\t &\t0.3\\\\ \n",
      "\\hline\n"
     ]
    }
   ],
   "source": [
    "for param in rows\n",
    "    if param == \"\\\\hline\"\n",
    "        print(param)\n",
    "        print(\"\\n\")\n",
    "        continue\n",
    "    end\n",
    "    print(latex_param[param])\n",
    "    print(\" &\\t\")\n",
    "    if units[param] != \"\"\n",
    "        print(\"(\")\n",
    "        print(units[param])\n",
    "        print(\")\")\n",
    "    end\n",
    "    for kern in kerns\n",
    "        print(\" &\\t\")\n",
    "        print(get(param_dict[kern], param, \"\"))\n",
    "    end\n",
    "    print(\"\\\\\\\\ \\n\")\n",
    "end"
   ]
  },
  {
   "cell_type": "code",
   "execution_count": 77,
   "metadata": {},
   "outputs": [
    {
     "data": {
      "text/plain": [
       "10-element Array{String,1}:\n",
       " \"σ_eps\"  \n",
       " \"\\\\hline\"\n",
       " \"σ_time\" \n",
       " \"ℓ_time\" \n",
       " \"ℓ_space\"\n",
       " \"α_time\" \n",
       " \"\\\\hline\"\n",
       " \"σ_24\"   \n",
       " \"ℓ_24\"   \n",
       " \"ℓ_s24\"  "
      ]
     },
     "execution_count": 77,
     "metadata": {},
     "output_type": "execute_result"
    }
   ],
   "source": [
    "fewer_rows = [\n",
    "    \"σ_eps\",\n",
    "    \"\\\\hline\",\n",
    "    \"σ_time\",\n",
    "    \"ℓ_time\",\n",
    "    \"ℓ_space\",\n",
    "    \"α_time\",\n",
    "    \"\\\\hline\",\n",
    "    \"σ_24\",\n",
    "    \"ℓ_24\",\n",
    "    \"ℓ_s24\",\n",
    "]"
   ]
  },
  {
   "cell_type": "code",
   "execution_count": 84,
   "metadata": {},
   "outputs": [
    {
     "name": "stdout",
     "output_type": "stream",
     "text": [
      "$\\sigman$ &\t($\\degreeC$) &\t0.4 &\t0.4 &\t0.2\\\\ \n",
      "\\hline\n",
      "$\\sigma_\\subtime$ &\t($\\degreeC$) &\t3.7 &\t3.1 &\t0.5,\\,0.9,\\,4.4\\\\ \n",
      "$\\ell_\\subtime$ &\t($\\mathrm{hr}$) &\t2.7 &\t2.8 &\t0.3,\\,1.9,\\,8.9\\\\ \n",
      "$\\ell_\\subspace$ &\t($\\mathrm{km}$) &\t176 &\t154 &\t10,\\,59,\\,370\\\\ \n",
      "$\\alpha_{\\subtime}$ &\t &\t\t &\t\t &\t0.3,\\,1.1,\\,0.3\\\\ \n",
      "\\hline\n",
      "$\\sigma_{24}$ &\t($\\degreeC$) &\t\t &\t2.4 &\t2.7\\\\ \n",
      "$\\ell_{24}$ &\t($\\mathrm{hr}$) &\t\t &\t0.7 &\t0.8\\\\ \n",
      "$\\ell_{\\subspace{}24}$ &\t($\\mathrm{km}$) &\t\t &\t1414 &\t785\\\\ \n"
     ]
    }
   ],
   "source": [
    "for param in fewer_rows\n",
    "    if param == \"\\\\hline\"\n",
    "        print(param)\n",
    "        print(\"\\n\")\n",
    "        continue\n",
    "    end\n",
    "    print(latex_param[param])\n",
    "    print(\" &\\t\")\n",
    "    if units[param] != \"\"\n",
    "        print(\"(\")\n",
    "        print(units[param])\n",
    "        print(\")\")\n",
    "    end\n",
    "    for kern in kerns\n",
    "        print(\" &\\t\")\n",
    "        if param ∈ keys(param_dict[kern])\n",
    "            print(param_dict[kern][param])\n",
    "        elseif (param*\"1\") ∈ keys(param_dict[kern])\n",
    "            for i in 1:3\n",
    "                if i!=1\n",
    "                    print(\",\\\\,\")\n",
    "                end\n",
    "                print(param_dict[kern][param*string(i)])\n",
    "            end\n",
    "        else\n",
    "            print(\"\\t\")\n",
    "        end\n",
    "    end\n",
    "    print(\"\\\\\\\\ \\n\")\n",
    "end"
   ]
  },
  {
   "cell_type": "code",
   "execution_count": null,
   "metadata": {},
   "outputs": [],
   "source": []
  }
 ],
 "metadata": {
  "hide_input": false,
  "hide_markdown_input": false,
  "kernelspec": {
   "display_name": "Julia 0.6.2",
   "language": "julia",
   "name": "julia-0.6"
  },
  "language_info": {
   "file_extension": ".jl",
   "mimetype": "application/julia",
   "name": "julia",
   "version": "0.6.2"
  },
  "toc": {
   "nav_menu": {},
   "number_sections": true,
   "sideBar": true,
   "skip_h1_title": false,
   "title_cell": "Table of Contents",
   "title_sidebar": "Contents",
   "toc_cell": false,
   "toc_position": {},
   "toc_section_display": true,
   "toc_window_display": true
  }
 },
 "nbformat": 4,
 "nbformat_minor": 2
}
