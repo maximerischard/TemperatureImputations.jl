{
 "cells": [
  {
   "cell_type": "markdown",
   "metadata": {},
   "source": [
    "$$\n",
    "    \\newcommand{\\genericdel}[3]{%\n",
    "      \\left#1#3\\right#2\n",
    "    }\n",
    "    \\newcommand{\\del}[1]{\\genericdel(){#1}}\n",
    "    \\newcommand{\\sbr}[1]{\\genericdel[]{#1}}\n",
    "    \\newcommand{\\cbr}[1]{\\genericdel\\{\\}{#1}}\n",
    "    \\newcommand{\\abs}[1]{\\genericdel||{#1}}\n",
    "    \\DeclareMathOperator*{\\argmin}{arg\\,min}\n",
    "    \\DeclareMathOperator*{\\argmax}{arg\\,max}\n",
    "    \\DeclareMathOperator{\\Pr}{\\mathbb{p}}\n",
    "    \\DeclareMathOperator{\\E}{\\mathbb{E}}\n",
    "    \\DeclareMathOperator{\\Ind}{\\mathbb{I}}\n",
    "    \\DeclareMathOperator{\\var}{var}\n",
    "    \\DeclareMathOperator{\\cov}{cov}\n",
    "    \\DeclareMathOperator{\\invchi}{\\mathrm{Inv-\\chi}^2}\n",
    "    \\newcommand{\\effect}{\\mathrm{eff}}\n",
    "    \\newcommand{\\xtilde}{\\widetilde{X}}\n",
    "    \\DeclareMathOperator{\\normal}{\\mathcal{N}}\n",
    "    \\DeclareMathOperator{\\unif}{Uniform}\n",
    "    \\DeclareMathOperator{\\GP}{\\mathcal{GP}}\n",
    "    \\newcommand{\\Tn}{\\mathrm{T}_{n}}\n",
    "    \\newcommand{\\Tx}{\\mathrm{T}_{x}}\n",
    "    \\newcommand{\\station}[1]{\\mathrm{station}\\sbr{#1}}\n",
    "    \\newcommand{\\xvec}{\\mathbf{x}}\n",
    "    \\newcommand{\\indep}{\\perp}\n",
    "    \\newcommand{\\iid}{iid}\n",
    "    \\newcommand{\\trans}{^{\\intercal}}\n",
    "    \\newcommand{\\sigmaf}{\\sigma_{\\mathrm{GP}}}\n",
    "    \\newcommand{\\sigman}{\\sigma_{\\epsilon}}\n",
    "$$"
   ]
  },
  {
   "cell_type": "markdown",
   "metadata": {},
   "source": [
    "In this notebook, we implement the much simpler model:\n",
    "\\begin{align}\n",
    "    k_{st}(\\xvec,\\xvec',t,t') &= k_{time}(t,t') \\cdot k_{space}(\\xvec, \\xvec') + k_{mean}(\\xvec, \\xvec'),,\\\\\n",
    "    k_{space}(\\xvec, \\xvec') &= \\sigmaf^2 \\exp\\del{-\\frac{\\del{\\xvec-\\xvec'}\\trans\\del{\\xvec-\\xvec'}}{2\\ell_x^2}}\\,,\\\\\n",
    "    k_{time}(t, t') &= \\exp\\del{-\\frac{\\del{t-t'}^2}{2\\ell_t^2}}\\,,\\\\\n",
    "    k_{mean}(\\xvec, \\xvec') &= \\sigma_\\mu^2 \\exp\\del{-\\frac{\\del{\\xvec-\\xvec'}\\trans\\del{\\xvec-\\xvec'}}{2\\ell_\\mu^2}}\\,,\\\\\n",
    "\\end{align}\n",
    "\n",
    "\\begin{align}\n",
    "    T_i &= f(\\xvec_i, t_i) + \\epsilon_i\\\\\n",
    "    f(\\xvec_i, t_i) &\\sim \\GP\\del{0, k_{st}(\\xvec,\\xvec',t,t')}\\\\\n",
    "    \\epsilon_i &\\overset{\\iid}{\\sim} \\normal\\del{0,\\sigman^2}\\\\\n",
    "\\end{align}\n",
    "\n",
    "We then add a diurnal component."
   ]
  },
  {
   "cell_type": "code",
   "execution_count": 67,
   "metadata": {},
   "outputs": [],
   "source": [
    "using TimeSeries\n",
    "using DataFrames\n",
    "import Proj4\n",
    "using Optim\n",
    "using Distances\n",
    "using Statistics\n",
    "using Printf\n",
    ";"
   ]
  },
  {
   "cell_type": "code",
   "execution_count": 3,
   "metadata": {},
   "outputs": [
    {
     "name": "stderr",
     "output_type": "stream",
     "text": [
      "┌ Info: Recompiling stale cache file /Users/imolk/Library/Julia/alternative_depots/climate/compiled/v1.1/PyPlot/oatAj.ji for PyPlot [d330b81b-6aea-500a-939a-2ce795aea3ee]\n",
      "└ @ Base loading.jl:1184\n"
     ]
    }
   ],
   "source": [
    "import PyPlot; plt=PyPlot\n",
    "using LaTeXStrings\n",
    "plt.rc(\"figure\", dpi=300.0)\n",
    "plt.rc(\"figure\", figsize=(6,4))\n",
    "plt.rc(\"savefig\", dpi=300.0)\n",
    "plt.rc(\"text\", usetex=true)\n",
    "plt.rc(\"font\", family=\"serif\")\n",
    "plt.rc(\"font\", serif=\"Palatino\")\n",
    ";"
   ]
  },
  {
   "cell_type": "code",
   "execution_count": 2,
   "metadata": {},
   "outputs": [
    {
     "name": "stderr",
     "output_type": "stream",
     "text": [
      "┌ Info: Recompiling stale cache file /Users/imolk/Library/Julia/alternative_depots/climate/compiled/v1.1/Revise/M1Qoh.ji for Revise [295af30f-e4ad-537b-8983-00126c2a3abe]\n",
      "└ @ Base loading.jl:1184\n"
     ]
    }
   ],
   "source": [
    "using Revise\n",
    "import TempModel\n",
    "using GaussianProcesses"
   ]
  },
  {
   "cell_type": "markdown",
   "metadata": {},
   "source": [
    "# Data Import and Preprocessing"
   ]
  },
  {
   "cell_type": "code",
   "execution_count": 9,
   "metadata": {},
   "outputs": [
    {
     "name": "stderr",
     "output_type": "stream",
     "text": [
      "┌ Warning: dropmissing! will change eltype of cols to disallow missing by default. Use dropmissing!(df, cols, disallowmissing=false) to retain missing.\n",
      "│   caller = dropmissing!(::DataFrame) at abstractdataframe.jl:733\n",
      "└ @ DataFrames /Users/imolk/Library/Julia/alternative_depots/climate/packages/DataFrames/IKMvt/src/abstractdataframe/abstractdataframe.jl:733\n"
     ]
    }
   ],
   "source": [
    "include(\"iowa.jl\")\n",
    "data_dir = \"../data\"\n",
    "iowa = prepare_iowa_data(data_dir);"
   ]
  },
  {
   "cell_type": "markdown",
   "metadata": {},
   "source": [
    "## Distances"
   ]
  },
  {
   "cell_type": "markdown",
   "metadata": {},
   "source": [
    "To get distances between stations, we can either use a function to compute distances on a sphere, or we can first project the coordinates onto a Euclidean plane, and then compute normal distances. I'll do it both ways to check they're consistent (equal up to a multiplication constant), and then use Euclidean distances for convenience."
   ]
  },
  {
   "cell_type": "code",
   "execution_count": 13,
   "metadata": {},
   "outputs": [
    {
     "data": {
      "text/plain": [
       "41.883"
      ]
     },
     "execution_count": 13,
     "metadata": {},
     "output_type": "execute_result"
    }
   ],
   "source": [
    "iowa[:isdSubset][1,:][:LAT]"
   ]
  },
  {
   "cell_type": "code",
   "execution_count": 14,
   "metadata": {},
   "outputs": [
    {
     "data": {
      "text/plain": [
       "4×4 Array{Float64,2}:\n",
       " 0.0        0.0259496  0.0146736  0.0303475\n",
       " 0.0259496  0.0        0.024088   0.0285853\n",
       " 0.0146736  0.024088   0.0        0.0158124\n",
       " 0.0303475  0.0285853  0.0158124  0.0      "
      ]
     },
     "execution_count": 14,
     "metadata": {},
     "output_type": "execute_result"
    }
   ],
   "source": [
    "numstations = nrow(iowa[:isdSubset])\n",
    "pairwiseSphere = zeros(numstations, numstations)\n",
    "for i in 1:numstations\n",
    "    for j in 1:i\n",
    "        if i==j\n",
    "            continue\n",
    "        end\n",
    "        station1 = iowa[:isdSubset][i,:]\n",
    "        station2 = iowa[:isdSubset][j,:]\n",
    "        lat1=  station1[:LAT]\n",
    "        lon1 = station1[:LON]\n",
    "        lat2 = station2[:LAT]\n",
    "        lon2 = station2[:LON]\n",
    "        pairwiseSphere[i,j] = TempModel.distance_on_unit_sphere(lat1, lon1, lat2, lon2)\n",
    "        pairwiseSphere[j,i] = pairwiseSphere[i,j]\n",
    "    end\n",
    "end\n",
    "pairwiseSphere"
   ]
  },
  {
   "cell_type": "code",
   "execution_count": 15,
   "metadata": {},
   "outputs": [
    {
     "data": {
      "text/plain": [
       "4×4 Array{Float64,2}:\n",
       "      0.0        165736.0        93510.4        1.93474e5\n",
       " 165736.0             0.0            1.53559e5  1.81942e5\n",
       "  93510.4             1.53559e5      0.0        1.00846e5\n",
       "      1.93474e5       1.81942e5      1.00846e5  0.0      "
      ]
     },
     "execution_count": 15,
     "metadata": {},
     "output_type": "execute_result"
    }
   ],
   "source": [
    "pairwiseEuclid=pairwise(Euclidean(), Matrix(iowa[:isdSubset][[:X_PRJ,:Y_PRJ]])')"
   ]
  },
  {
   "cell_type": "markdown",
   "metadata": {},
   "source": [
    "Ratio of the two distance matrices: close enough to a constant!"
   ]
  },
  {
   "cell_type": "code",
   "execution_count": 16,
   "metadata": {},
   "outputs": [
    {
     "data": {
      "text/plain": [
       "4×4 Array{Float64,2}:\n",
       " NaN            6.38684e6    6.37271e6    6.37527e6\n",
       "   6.38684e6  NaN            6.37493e6    6.36489e6\n",
       "   6.37271e6    6.37493e6  NaN            6.37765e6\n",
       "   6.37527e6    6.36489e6    6.37765e6  NaN        "
      ]
     },
     "execution_count": 16,
     "metadata": {},
     "output_type": "execute_result"
    }
   ],
   "source": [
    "pairwiseEuclid ./ pairwiseSphere"
   ]
  },
  {
   "cell_type": "markdown",
   "metadata": {},
   "source": [
    "# Product of SE kernels"
   ]
  },
  {
   "cell_type": "code",
   "execution_count": 143,
   "metadata": {},
   "outputs": [],
   "source": [
    "function make_kernel()\n",
    "    k_time = SEIso(0.0,0.0)\n",
    "    k_spatial = SEIso(log(10^5), log(1.0))\n",
    "    k_means = SEIso(log(10^4), log(10.0))\n",
    "\n",
    "    k_spatiotemporal = Masked(k_time, [1]) * \n",
    "                       Masked(fix(k_spatial, :lσ), [2,3]) + \n",
    "                       fix(Masked(k_means, [2,3]))\n",
    "    return Dict(\n",
    "        :time => k_time,\n",
    "        :spatial => k_spatial,\n",
    "        :mean => k_means,\n",
    "        :spatiotemporal => k_spatiotemporal\n",
    "        )\n",
    "end\n",
    "\n",
    "function showkernel(k_time, k_spatial, logNoise)\n",
    "    print(\"\\nk: Temporal kernel \\n=================\\n\")\n",
    "    @printf(\"σ: %5.3f\\n\", √k_time.σ2)\n",
    "    @printf(\"l: %5.3f hours\\n\", √k_time.ℓ2)\n",
    "    print(\"\\nk: Spatial kernel \\n=================\\n\")\n",
    "    @printf(\"σ: %5.3f\\n\", √k_spatial.σ2)\n",
    "    @printf(\"l: %5.3f km\\n\", √k_spatial.ℓ2 / 1000)\n",
    "    print(\"\\n=================\\n\")\n",
    "    @printf(\"σy: %5.3f\\n\", exp(logNoise))\n",
    "end\n",
    ";"
   ]
  },
  {
   "cell_type": "code",
   "execution_count": 80,
   "metadata": {},
   "outputs": [],
   "source": [
    "kdict = make_kernel()\n",
    "@time opt_out = TempModel.optim_kernel(kdict[:spatiotemporal], 0.0, iowa[:isdSubset], iowa[:hourly_data], :Optim);"
   ]
  },
  {
   "cell_type": "code",
   "execution_count": 82,
   "metadata": {},
   "outputs": [
    {
     "name": "stdout",
     "output_type": "stream",
     "text": [
      "[-0.822288, 0.996802, 1.31718, 12.0805]"
     ]
    }
   ],
   "source": [
    "print(opt_out[:hyp])"
   ]
  },
  {
   "cell_type": "code",
   "execution_count": 83,
   "metadata": {},
   "outputs": [
    {
     "data": {
      "text/plain": [
       "-55614.52002047768"
      ]
     },
     "execution_count": 83,
     "metadata": {},
     "output_type": "execute_result"
    }
   ],
   "source": [
    "opt_out[:mll]"
   ]
  },
  {
   "cell_type": "code",
   "execution_count": 84,
   "metadata": {},
   "outputs": [
    {
     "name": "stdout",
     "output_type": "stream",
     "text": [
      "\n",
      "k: Temporal kernel \n",
      "=================\n",
      "σ: 3.733\n",
      "l: 2.710 hours\n",
      "\n",
      "k: Spatial kernel \n",
      "=================\n",
      "σ: 1.000\n",
      "l: 176.391 km\n",
      "\n",
      "=================\n",
      "σy: 0.439\n"
     ]
    }
   ],
   "source": [
    "print(\"\\nk: Temporal kernel \\n=================\\n\")\n",
    "@printf(\"σ: %5.3f\\n\", √k_time.σ2)\n",
    "@printf(\"l: %5.3f hours\\n\", √k_time.ℓ2)\n",
    "print(\"\\nk: Spatial kernel \\n=================\\n\")\n",
    "@printf(\"σ: %5.3f\\n\", √k_spatial.kernel.σ2)\n",
    "@printf(\"l: %5.3f km\\n\", √k_spatial.kernel.ℓ2 / 1000)\n",
    "print(\"\\n=================\\n\")\n",
    "@printf(\"σy: %5.3f\\n\", exp(opt_out[:hyp][1]))"
   ]
  },
  {
   "cell_type": "markdown",
   "metadata": {},
   "source": [
    "## NLopt"
   ]
  },
  {
   "cell_type": "markdown",
   "metadata": {},
   "source": [
    "Using an alternative optimizer.\n",
    "The `:NLopt` method uses the L-BFGS implemented in [NLopt](https://nlopt.readthedocs.io/en/latest/), while the `:Optim` method uses the Conjugate Gradient Descent method of the julia [Optim package](https://github.com/JuliaNLSolvers/Optim.jl)."
   ]
  },
  {
   "cell_type": "code",
   "execution_count": 76,
   "metadata": {},
   "outputs": [
    {
     "name": "stdout",
     "output_type": "stream",
     "text": [
      "creating GP chunks\n",
      "begin optimization\n",
      "213.687666 seconds (1.58 M allocations: 2.422 GiB, 0.55% gc time)\n"
     ]
    }
   ],
   "source": [
    "kdict = make_kernel()\n",
    "@time nlopt_out = TempModel.optim_kernel(kdict[:spatiotemporal], 0.0, iowa[:isdSubset], iowa[:hourly_data], :NLopt)\n",
    ";"
   ]
  },
  {
   "cell_type": "code",
   "execution_count": 77,
   "metadata": {},
   "outputs": [
    {
     "name": "stdout",
     "output_type": "stream",
     "text": [
      "[-0.82229, 0.996798, 1.31717, 12.0804]"
     ]
    }
   ],
   "source": [
    "print(nlopt_out[:hyp])"
   ]
  },
  {
   "cell_type": "code",
   "execution_count": 78,
   "metadata": {},
   "outputs": [
    {
     "data": {
      "text/plain": [
       "-55614.52001889927"
      ]
     },
     "execution_count": 78,
     "metadata": {},
     "output_type": "execute_result"
    }
   ],
   "source": [
    "nlopt_out[:mll]"
   ]
  },
  {
   "cell_type": "code",
   "execution_count": 79,
   "metadata": {},
   "outputs": [
    {
     "name": "stdout",
     "output_type": "stream",
     "text": [
      "\n",
      "k: Temporal kernel \n",
      "=================\n",
      "σ: 3.733\n",
      "l: 2.710 hours\n",
      "\n",
      "k: Spatial kernel \n",
      "=================\n"
     ]
    },
    {
     "ename": "ErrorException",
     "evalue": "type FixedKernel has no field kern",
     "output_type": "error",
     "traceback": [
      "type FixedKernel has no field kern",
      "",
      "Stacktrace:",
      " [1] getproperty(::Any, ::Symbol) at ./sysimg.jl:18",
      " [2] top-level scope at In[79]:5"
     ]
    }
   ],
   "source": [
    "print(\"\\nk: Temporal kernel \\n=================\\n\")\n",
    "@printf(\"σ: %5.3f\\n\", √k_time.σ2)\n",
    "@printf(\"l: %5.3f hours\\n\", √k_time.ℓ2)\n",
    "print(\"\\nk: Spatial kernel \\n=================\\n\")\n",
    "@printf(\"σ: %5.3f\\n\", √k_spatial.kern.σ2)\n",
    "@printf(\"l: %5.3f km\\n\", √k_spatial.kern.ℓ2 / 1000)\n",
    "print(\"\\n=================\\n\")\n",
    "@printf(\"σy: %5.3f\\n\", exp(nlopt_out[:hyp][1]))"
   ]
  },
  {
   "cell_type": "markdown",
   "metadata": {},
   "source": [
    "# Optim CV module"
   ]
  },
  {
   "cell_type": "code",
   "execution_count": 114,
   "metadata": {},
   "outputs": [
    {
     "name": "stderr",
     "output_type": "stream",
     "text": [
      "WARNING: replacing module OptimCV.\n"
     ]
    }
   ],
   "source": [
    "module OptimCV\n",
    "    using GaussianProcesses\n",
    "    using TempModel\n",
    "    using TempModel: GPRealisations\n",
    "    using GaussianProcesses: Folds, logp_CVfold, dlogpdθ_CVfold\n",
    "    using DataFrames\n",
    "    using Optim\n",
    "    using Statistics\n",
    "    \n",
    "    function optim_kernel_CV(k_spatiotemporal::Kernel, logNoise_init::Float64, \n",
    "                          stations_data::DataFrame, hourly_data::DataFrame, \n",
    "                          method::Symbol=:NLopt; \n",
    "                          x_tol=1e-5, f_tol=1e-10)\n",
    "        chunks=GPE[]\n",
    "        chunk_width=24*10 # 10 days at a time\n",
    "        tstart=0.0\n",
    "        nobsv=0\n",
    "        max_time = maximum(hourly_data[:ts_hours])\n",
    "        println(\"creating GP chunks\")\n",
    "        folds_reals = Folds[]\n",
    "        while tstart < max_time\n",
    "            tend=tstart+chunk_width\n",
    "            in_chunk= tstart .<= hourly_data[:ts_hours] .< tend\n",
    "            hourly_chunk = hourly_data[in_chunk,:]\n",
    "            nobsv_chunk = sum(in_chunk)\n",
    "            nobsv += nobsv_chunk\n",
    "\n",
    "            chunk_X_PRJ = stations_data[:X_PRJ][hourly_chunk[:station]]\n",
    "            chunk_Y_PRJ = stations_data[:Y_PRJ][hourly_chunk[:station]]\n",
    "            chunk_X = [hourly_chunk[:ts_hours] chunk_X_PRJ chunk_Y_PRJ]\n",
    "\n",
    "            y = hourly_chunk[:temp]\n",
    "            chunk = GPE(chunk_X', y, MeanConst(mean(y)), k_spatiotemporal, logNoise_init)\n",
    "            push!(chunks, chunk)\n",
    "            \n",
    "            station = hourly_chunk[:station]\n",
    "            chunk_folds = [findall(isequal(statuniq), station) \n",
    "                    for statuniq in unique(station)]\n",
    "            push!(folds_reals, chunk_folds)\n",
    "\n",
    "            tstart=tend\n",
    "        end\n",
    "        reals = TempModel.GPRealisations(chunks)\n",
    "        local min_neg_ll\n",
    "        local min_hyp\n",
    "        local opt_out\n",
    "        println(\"begin optimization\")\n",
    "        if method == :NLopt\n",
    "            min_neg_ll, min_hyp, ret, count = TempModel.optimize_NLopt_CV(\n",
    "                    reals, folds_reals,\n",
    "                    domean=false, kern=true, noise=true,\n",
    "                    x_tol=x_tol, f_tol=f_tol)\n",
    "            opt_out = (min_neg_ll, min_hyp, ret, count)\n",
    "            @assert ret ∈ (:SUCCESS, :FTOL_REACHED, :XTOL_REACHED)\n",
    "        elseif method == :Optim\n",
    "            opt_out = TempModel.optimize_CV!(reals, folds_reals;\n",
    "                    domean=false, kern=true, noise=true,\n",
    "                    options=Optim.Options(x_tol=x_tol, f_tol=f_tol)\n",
    "                                         )\n",
    "            min_hyp = Optim.minimizer(opt_out)\n",
    "            min_neg_ll = Optim.minimum(opt_out)\n",
    "            @assert Optim.converged(opt_out)\n",
    "        else\n",
    "            throw(MethodError())\n",
    "        end\n",
    "        return Dict(\n",
    "            :hyp => min_hyp,\n",
    "            :logNoise => reals.logNoise,\n",
    "            :mll => -min_neg_ll,\n",
    "            :opt_out => opt_out,\n",
    "           )\n",
    "    end\n",
    "end\n",
    ";"
   ]
  },
  {
   "cell_type": "code",
   "execution_count": 119,
   "metadata": {},
   "outputs": [
    {
     "name": "stdout",
     "output_type": "stream",
     "text": [
      "creating GP chunks\n",
      "begin optimization\n",
      "LinearAlgebra.PosDefException(-1)\n",
      "LinearAlgebra.PosDefException(-1)\n",
      "1526.391586 seconds (5.48 G allocations: 407.864 GiB, 19.05% gc time)\n"
     ]
    },
    {
     "data": {
      "text/plain": [
       "Dict{Symbol,Any} with 4 entries:\n",
       "  :mll      => -52829.4\n",
       "  :hyp      => [-0.837896, 0.899595, 1.26595, 11.9267]\n",
       "  :logNoise => -0.837896\n",
       "  :opt_out  => Results of Optimization Algorithm…"
      ]
     },
     "execution_count": 119,
     "metadata": {},
     "output_type": "execute_result"
    }
   ],
   "source": [
    "kdict = make_kernel()\n",
    "@time opt_out_CV = OptimCV.optim_kernel_CV(kdict[:spatiotemporal], 0.0, iowa[:isdSubset], iowa[:hourly_data], \n",
    "                                          :Optim);\n",
    "opt_out_CV"
   ]
  },
  {
   "cell_type": "code",
   "execution_count": 120,
   "metadata": {},
   "outputs": [
    {
     "data": {
      "text/plain": [
       "Results of Optimization Algorithm\n",
       " * Algorithm: Conjugate Gradient\n",
       " * Starting Point: [0.0,0.0,0.0,11.512925464970229]\n",
       " * Minimizer: [-0.8378959875390904,0.8995954054399115, ...]\n",
       " * Minimum: 5.282936e+04\n",
       " * Iterations: 17\n",
       " * Convergence: true\n",
       "   * |x - x'| ≤ 1.0e-05: false \n",
       "     |x - x'| = 1.68e-05 \n",
       "   * |f(x) - f(x')| ≤ 1.0e-10 |f(x)|: true\n",
       "     |f(x) - f(x')| = 8.99e-11 |f(x)|\n",
       "   * |g(x)| ≤ 1.0e-08: false \n",
       "     |g(x)| = 5.95e-02 \n",
       "   * Stopped by an increasing objective: false\n",
       "   * Reached Maximum Number of Iterations: false\n",
       " * Objective Calls: 47\n",
       " * Gradient Calls: 29"
      ]
     },
     "execution_count": 120,
     "metadata": {},
     "output_type": "execute_result"
    }
   ],
   "source": [
    "opt_out_CV[:opt_out]"
   ]
  },
  {
   "cell_type": "code",
   "execution_count": 125,
   "metadata": {},
   "outputs": [
    {
     "data": {
      "text/plain": [
       "4-element Array{Float64,1}:\n",
       " -0.8378959875390904\n",
       "  0.8995954054399115\n",
       "  1.265951854696949 \n",
       " 11.926696343155182 "
      ]
     },
     "execution_count": 125,
     "metadata": {},
     "output_type": "execute_result"
    }
   ],
   "source": [
    "opt_out_CV[:hyp]"
   ]
  },
  {
   "cell_type": "code",
   "execution_count": 127,
   "metadata": {},
   "outputs": [
    {
     "data": {
      "text/plain": [
       "4-element Array{Float64,1}:\n",
       " -0.8378983734713557\n",
       "  0.8995928402076627\n",
       "  1.265952973549021 \n",
       " 11.926695582873927 "
      ]
     },
     "execution_count": 127,
     "metadata": {},
     "output_type": "execute_result"
    }
   ],
   "source": [
    "nlopt_out_CV[:hyp]"
   ]
  },
  {
   "cell_type": "code",
   "execution_count": 122,
   "metadata": {},
   "outputs": [
    {
     "name": "stdout",
     "output_type": "stream",
     "text": [
      "creating GP chunks\n",
      "begin optimization\n",
      "2362.857896 seconds (7.75 G allocations: 557.531 GiB, 17.71% gc time)\n"
     ]
    },
    {
     "data": {
      "text/plain": [
       "Dict{Symbol,Any} with 4 entries:\n",
       "  :mll      => -52829.4\n",
       "  :hyp      => [-0.837898, 0.899593, 1.26595, 11.9267]\n",
       "  :logNoise => -0.837898\n",
       "  :opt_out  => (52829.4, [-0.837898, 0.899593, 1.26595, 11.9267], :XTOL_REACHED…"
      ]
     },
     "execution_count": 122,
     "metadata": {},
     "output_type": "execute_result"
    }
   ],
   "source": [
    "kdict = make_kernel()\n",
    "@time nlopt_out_CV = OptimCV.optim_kernel_CV(kdict[:spatiotemporal], 0.0, iowa[:isdSubset], iowa[:hourly_data], \n",
    "                                          :NLopt);\n",
    "nlopt_out_CV"
   ]
  },
  {
   "cell_type": "code",
   "execution_count": 145,
   "metadata": {},
   "outputs": [
    {
     "name": "stdout",
     "output_type": "stream",
     "text": [
      "\n",
      "k: Temporal kernel \n",
      "=================\n",
      "σ: 3.546\n",
      "l: 2.459 hours\n",
      "\n",
      "k: Spatial kernel \n",
      "=================\n",
      "σ: 1.000\n",
      "l: 151.251 km\n",
      "\n",
      "=================\n",
      "σy: 0.433\n"
     ]
    }
   ],
   "source": [
    "kdict=make_kernel()\n",
    "hyp = nlopt_out_CV[:hyp]\n",
    "set_params!(kdict[:spatiotemporal], hyp[2:end])\n",
    "showkernel(kdict[:time], kdict[:spatial], hyp[1])\n",
    ";"
   ]
  },
  {
   "cell_type": "code",
   "execution_count": 146,
   "metadata": {},
   "outputs": [
    {
     "name": "stdout",
     "output_type": "stream",
     "text": [
      "\n",
      "k: Temporal kernel \n",
      "=================\n",
      "σ: 3.733\n",
      "l: 2.710 hours\n",
      "\n",
      "k: Spatial kernel \n",
      "=================\n",
      "σ: 1.000\n",
      "l: 176.388 km\n",
      "\n",
      "=================\n",
      "σy: 0.439\n"
     ]
    }
   ],
   "source": [
    "kdict=make_kernel()\n",
    "hyp = nlopt_out[:hyp]\n",
    "set_params!(kdict[:spatiotemporal], hyp[2:end])\n",
    "showkernel(kdict[:time], kdict[:spatial], hyp[1])\n",
    ";"
   ]
  }
 ],
 "metadata": {
  "hide_input": false,
  "hide_markdown_input": false,
  "kernelspec": {
   "display_name": "Julia 1.1 Climate",
   "language": "julia",
   "name": "julia-climate"
  },
  "language_info": {
   "file_extension": ".jl",
   "mimetype": "application/julia",
   "name": "julia",
   "version": "1.1.0"
  },
  "nav_menu": {},
  "toc": {
   "nav_menu": {
    "height": "198px",
    "width": "252px"
   },
   "number_sections": true,
   "sideBar": true,
   "skip_h1_title": false,
   "title_cell": "Table of Contents",
   "title_sidebar": "Contents",
   "toc_cell": false,
   "toc_position": {},
   "toc_section_display": "block",
   "toc_window_display": true
  },
  "toc_position": {
   "height": "930px",
   "left": "0px",
   "right": "1065px",
   "top": "106px",
   "width": "212px"
  }
 },
 "nbformat": 4,
 "nbformat_minor": 1
}
