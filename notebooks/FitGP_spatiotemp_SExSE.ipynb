{
 "cells": [
  {
   "cell_type": "markdown",
   "metadata": {},
   "source": [
    "$$\n",
    "    \\newcommand{\\genericdel}[3]{%\n",
    "      \\left#1#3\\right#2\n",
    "    }\n",
    "    \\newcommand{\\del}[1]{\\genericdel(){#1}}\n",
    "    \\newcommand{\\sbr}[1]{\\genericdel[]{#1}}\n",
    "    \\newcommand{\\cbr}[1]{\\genericdel\\{\\}{#1}}\n",
    "    \\newcommand{\\abs}[1]{\\genericdel||{#1}}\n",
    "    \\DeclareMathOperator*{\\argmin}{arg\\,min}\n",
    "    \\DeclareMathOperator*{\\argmax}{arg\\,max}\n",
    "    \\DeclareMathOperator{\\Pr}{\\mathbb{p}}\n",
    "    \\DeclareMathOperator{\\E}{\\mathbb{E}}\n",
    "    \\DeclareMathOperator{\\Ind}{\\mathbb{I}}\n",
    "    \\DeclareMathOperator{\\var}{var}\n",
    "    \\DeclareMathOperator{\\cov}{cov}\n",
    "    \\DeclareMathOperator{\\invchi}{\\mathrm{Inv-\\chi}^2}\n",
    "    \\newcommand{\\effect}{\\mathrm{eff}}\n",
    "    \\newcommand{\\xtilde}{\\widetilde{X}}\n",
    "    \\DeclareMathOperator{\\normal}{\\mathcal{N}}\n",
    "    \\DeclareMathOperator{\\unif}{Uniform}\n",
    "    \\DeclareMathOperator{\\GP}{\\mathcal{GP}}\n",
    "    \\newcommand{\\Tn}{\\mathrm{T}_{n}}\n",
    "    \\newcommand{\\Tx}{\\mathrm{T}_{x}}\n",
    "    \\newcommand{\\station}[1]{\\mathrm{station}\\sbr{#1}}\n",
    "    \\newcommand{\\xvec}{\\mathbf{x}}\n",
    "    \\newcommand{\\indep}{\\perp}\n",
    "    \\newcommand{\\iid}{iid}\n",
    "    \\newcommand{\\trans}{^{\\intercal}}\n",
    "    \\newcommand{\\sigmaf}{\\sigma_{\\mathrm{GP}}}\n",
    "    \\newcommand{\\sigman}{\\sigma_{\\epsilon}}\n",
    "$$"
   ]
  },
  {
   "cell_type": "markdown",
   "metadata": {},
   "source": [
    "In this notebook, we implement the much simpler model:\n",
    "\\begin{align}\n",
    "    k_{st}(\\xvec,\\xvec',t,t') &= k_{time}(t,t') \\cdot k_{space}(\\xvec, \\xvec') + k_{mean}(\\xvec, \\xvec'),,\\\\\n",
    "    k_{space}(\\xvec, \\xvec') &= \\sigmaf^2 \\exp\\del{-\\frac{\\del{\\xvec-\\xvec'}\\trans\\del{\\xvec-\\xvec'}}{2\\ell_x^2}}\\,,\\\\\n",
    "    k_{time}(t, t') &= \\exp\\del{-\\frac{\\del{t-t'}^2}{2\\ell_t^2}}\\,,\\\\\n",
    "    k_{mean}(\\xvec, \\xvec') &= \\sigma_\\mu^2 \\exp\\del{-\\frac{\\del{\\xvec-\\xvec'}\\trans\\del{\\xvec-\\xvec'}}{2\\ell_\\mu^2}}\\,,\\\\\n",
    "\\end{align}\n",
    "\n",
    "\\begin{align}\n",
    "    T_i &= f(\\xvec_i, t_i) + \\epsilon_i\\\\\n",
    "    f(\\xvec_i, t_i) &\\sim \\GP\\del{0, k_{st}(\\xvec,\\xvec',t,t')}\\\\\n",
    "    \\epsilon_i &\\overset{\\iid}{\\sim} \\normal\\del{0,\\sigman^2}\\\\\n",
    "\\end{align}\n",
    "\n",
    "We then add a diurnal component."
   ]
  },
  {
   "cell_type": "code",
   "execution_count": 63,
   "metadata": {},
   "outputs": [],
   "source": [
    "using TimeSeries\n",
    "using DataFrames\n",
    "using GaussianProcesses\n",
    "using GaussianProcesses: Mean, Kernel, evaluate, metric, IsotropicData, VecF64\n",
    "using GaussianProcesses: Stationary, KernelData, MatF64\n",
    "import GaussianProcesses: optimize!, get_optim_target, cov, grad_slice!\n",
    "import GaussianProcesses: num_params, set_params!, get_params, update_mll!, update_mll_and_dmll!\n",
    "import GaussianProcesses: get_param_names, cov!, addcov!, multcov!\n",
    "import Proj4\n",
    "using Optim\n",
    "using Distances\n",
    ";"
   ]
  },
  {
   "cell_type": "code",
   "execution_count": 64,
   "metadata": {},
   "outputs": [],
   "source": [
    "import PyPlot; plt=PyPlot\n",
    "using LaTeXStrings\n",
    "plt.rc(\"figure\", dpi=300.0)\n",
    "plt.rc(\"figure\", figsize=(6,4))\n",
    "plt.rc(\"savefig\", dpi=300.0)\n",
    "plt.rc(\"text\", usetex=true)\n",
    "plt.rc(\"font\", family=\"serif\")\n",
    "plt.rc(\"font\", serif=\"Palatino\")\n",
    ";"
   ]
  },
  {
   "cell_type": "markdown",
   "metadata": {},
   "source": [
    "# Data Import and Preprocessing"
   ]
  },
  {
   "cell_type": "code",
   "execution_count": 65,
   "metadata": {},
   "outputs": [
    {
     "name": "stderr",
     "output_type": "stream",
     "text": [
      "WARNING: replacing module TempModel\n"
     ]
    }
   ],
   "source": [
    "include(\"iowa.jl\")\n",
    "iowa = prepare_iowa_data(data_dir);"
   ]
  },
  {
   "cell_type": "markdown",
   "metadata": {},
   "source": [
    "## Distances"
   ]
  },
  {
   "cell_type": "markdown",
   "metadata": {},
   "source": [
    "To get distances between stations, we can either use a function to compute distances on a sphere, or we can first project the coordinates onto a Euclidean plane, and then compute normal distances. I'll do it both ways to check they're consistent (equal up to a multiplication constant), and then use Euclidean distances for convenience."
   ]
  },
  {
   "cell_type": "code",
   "execution_count": 66,
   "metadata": {},
   "outputs": [
    {
     "data": {
      "text/plain": [
       "4×4 Array{Float64,2}:\n",
       " 0.0        0.0259496  0.0146736  0.0303475\n",
       " 0.0259496  0.0        0.024088   0.0285853\n",
       " 0.0146736  0.024088   0.0        0.0158124\n",
       " 0.0303475  0.0285853  0.0158124  0.0      "
      ]
     },
     "execution_count": 66,
     "metadata": {},
     "output_type": "execute_result"
    }
   ],
   "source": [
    "numstations = nrow(iowa[:isdSubset])\n",
    "pairwiseSphere = zeros(numstations, numstations)\n",
    "for i in 1:numstations\n",
    "    for j in 1:i\n",
    "        if i==j\n",
    "            continue\n",
    "        end\n",
    "        station1 = iowa[:isdSubset][i,:]\n",
    "        station2 = iowa[:isdSubset][j,:]\n",
    "        lat1=  station1[1,:LAT]\n",
    "        lon1 = station1[1,:LON]\n",
    "        lat2 = station2[1,:LAT]\n",
    "        lon2 = station2[1,:LON]\n",
    "        pairwiseSphere[i,j] = TempModel.distance_on_unit_sphere(lat1, lon1, lat2, lon2)\n",
    "        pairwiseSphere[j,i] = pairwiseSphere[i,j]\n",
    "    end\n",
    "end\n",
    "pairwiseSphere"
   ]
  },
  {
   "cell_type": "code",
   "execution_count": 67,
   "metadata": {},
   "outputs": [
    {
     "data": {
      "text/plain": [
       "4×4 Array{Float64,2}:\n",
       "      0.0        165736.0        93510.4        1.93474e5\n",
       " 165736.0             0.0            1.53559e5  1.81942e5\n",
       "  93510.4             1.53559e5      0.0        1.00846e5\n",
       "      1.93474e5       1.81942e5      1.00846e5  0.0      "
      ]
     },
     "execution_count": 67,
     "metadata": {},
     "output_type": "execute_result"
    }
   ],
   "source": [
    "pairwiseEuclid=pairwise(Euclidean(), Matrix(iowa[:isdSubset][[:X_PRJ,:Y_PRJ]])')"
   ]
  },
  {
   "cell_type": "markdown",
   "metadata": {},
   "source": [
    "Ratio of the two distance matrices: close enough to a constant!"
   ]
  },
  {
   "cell_type": "code",
   "execution_count": 68,
   "metadata": {},
   "outputs": [
    {
     "data": {
      "text/plain": [
       "4×4 Array{Float64,2}:\n",
       " NaN            6.38684e6    6.37271e6    6.37527e6\n",
       "   6.38684e6  NaN            6.37493e6    6.36489e6\n",
       "   6.37271e6    6.37493e6  NaN            6.37765e6\n",
       "   6.37527e6    6.36489e6    6.37765e6  NaN        "
      ]
     },
     "execution_count": 68,
     "metadata": {},
     "output_type": "execute_result"
    }
   ],
   "source": [
    "pairwiseEuclid ./ pairwiseSphere"
   ]
  },
  {
   "cell_type": "markdown",
   "metadata": {},
   "source": [
    "# Product of SE kernels"
   ]
  },
  {
   "cell_type": "code",
   "execution_count": 69,
   "metadata": {},
   "outputs": [
    {
     "data": {
      "text/plain": [
       "Type: GaussianProcesses.SEIso, Params: [9.21034, 2.30259]\n"
      ]
     },
     "execution_count": 69,
     "metadata": {},
     "output_type": "execute_result"
    }
   ],
   "source": [
    "k_time = SEIso(0.0,0.0)\n",
    "k_spatial = fix(SEIso(log(2*10^5), log(1.0)), :lσ)\n",
    "k_means = SEIso(log(10^4), log(10.0))\n",
    "\n",
    "k_spatiotemporal = Masked(k_time, [1]) * Masked(k_spatial, [2,3]) + \n",
    "    fix(Masked(k_means, [2,3]))\n",
    ";"
   ]
  },
  {
   "cell_type": "code",
   "execution_count": 71,
   "metadata": {},
   "outputs": [
    {
     "name": "stdout",
     "output_type": "stream",
     "text": [
      "Base.LinAlg.PosDefException(2)\n",
      "Base.LinAlg.PosDefException(3)\n",
      "361.621533 seconds (10.34 M allocations: 40.515 GiB, 3.21% gc time)\n"
     ]
    }
   ],
   "source": [
    "@time opt_out = optim_kernel(k_spatiotemporal, 0.0, iowa[:isdSubset], iowa[:hourly_data], :Optim);"
   ]
  },
  {
   "cell_type": "code",
   "execution_count": 75,
   "metadata": {},
   "outputs": [
    {
     "name": "stdout",
     "output_type": "stream",
     "text": [
      "[-0.822313, 0.996795, 1.31718, 12.0805]"
     ]
    }
   ],
   "source": [
    "print(opt_out[:hyp])"
   ]
  },
  {
   "cell_type": "code",
   "execution_count": 74,
   "metadata": {},
   "outputs": [
    {
     "data": {
      "text/plain": [
       "-55614.520020422955"
      ]
     },
     "execution_count": 74,
     "metadata": {},
     "output_type": "execute_result"
    }
   ],
   "source": [
    "opt_out[:mll]"
   ]
  },
  {
   "cell_type": "code",
   "execution_count": 80,
   "metadata": {},
   "outputs": [
    {
     "name": "stdout",
     "output_type": "stream",
     "text": [
      "\n",
      "k: Temporal kernel \n",
      "=================\n",
      "σ: 3.733\n",
      "l: 2.710 hours\n",
      "\n",
      "k: Spatial kernel \n",
      "=================\n",
      "σ: 1.000\n",
      "l: 176.390 km\n",
      "\n",
      "=================\n",
      "σy: 0.439\n"
     ]
    }
   ],
   "source": [
    "print(\"\\nk: Temporal kernel \\n=================\\n\")\n",
    "@printf(\"σ: %5.3f\\n\", √k_time.σ2)\n",
    "@printf(\"l: %5.3f hours\\n\", √k_time.ℓ2)\n",
    "print(\"\\nk: Spatial kernel \\n=================\\n\")\n",
    "@printf(\"σ: %5.3f\\n\", √k_spatial.kern.σ2)\n",
    "@printf(\"l: %5.3f km\\n\", √k_spatial.kern.ℓ2 / 1000)\n",
    "print(\"\\n=================\\n\")\n",
    "@printf(\"σy: %5.3f\\n\", exp(opt_out[:hyp][1]))"
   ]
  },
  {
   "cell_type": "markdown",
   "metadata": {},
   "source": [
    "## NLopt"
   ]
  },
  {
   "cell_type": "markdown",
   "metadata": {},
   "source": [
    "Using an alternative optimizer.\n",
    "The `:NLopt` method uses the L-BFGS implemented in [NLopt](https://nlopt.readthedocs.io/en/latest/), while the `:Optim` method uses the Conjugate Gradient Descent method of the julia [Optim package](https://github.com/JuliaNLSolvers/Optim.jl)."
   ]
  },
  {
   "cell_type": "code",
   "execution_count": 81,
   "metadata": {},
   "outputs": [],
   "source": [
    "k_time = SEIso(0.0,0.0)\n",
    "k_spatial = fix(SEIso(log(10^5), log(1.0)), :lσ)\n",
    "k_means = SEIso(log(10^4), log(10.0))\n",
    "\n",
    "k_spatiotemporal = Masked(k_time, [1]) * Masked(k_spatial, [2,3]) + \n",
    "    fix(Masked(k_means, [2,3]))\n",
    ";"
   ]
  },
  {
   "cell_type": "code",
   "execution_count": 82,
   "metadata": {},
   "outputs": [
    {
     "name": "stdout",
     "output_type": "stream",
     "text": [
      "582.971651 seconds (11.50 M allocations: 45.151 GiB, 3.04% gc time)\n"
     ]
    }
   ],
   "source": [
    "@time nlopt_out = optim_kernel(k_spatiotemporal, 0.0, iowa[:isdSubset], iowa[:hourly_data], :NLopt);"
   ]
  },
  {
   "cell_type": "code",
   "execution_count": 83,
   "metadata": {},
   "outputs": [
    {
     "name": "stdout",
     "output_type": "stream",
     "text": [
      "[-0.822316, 0.996798, 1.31717, 12.0804]"
     ]
    }
   ],
   "source": [
    "print(nlopt_out[:hyp])"
   ]
  },
  {
   "cell_type": "code",
   "execution_count": 86,
   "metadata": {},
   "outputs": [
    {
     "data": {
      "text/plain": [
       "-55614.52001889782"
      ]
     },
     "execution_count": 86,
     "metadata": {},
     "output_type": "execute_result"
    }
   ],
   "source": [
    "nlopt_out[:mll]"
   ]
  },
  {
   "cell_type": "code",
   "execution_count": 85,
   "metadata": {},
   "outputs": [
    {
     "name": "stdout",
     "output_type": "stream",
     "text": [
      "\n",
      "k: Temporal kernel \n",
      "=================\n",
      "σ: 3.733\n",
      "l: 2.710 hours\n",
      "\n",
      "k: Spatial kernel \n",
      "=================\n",
      "σ: 1.000\n",
      "l: 176.388 km\n",
      "\n",
      "=================\n",
      "σy: 0.439\n"
     ]
    }
   ],
   "source": [
    "print(\"\\nk: Temporal kernel \\n=================\\n\")\n",
    "@printf(\"σ: %5.3f\\n\", √k_time.σ2)\n",
    "@printf(\"l: %5.3f hours\\n\", √k_time.ℓ2)\n",
    "print(\"\\nk: Spatial kernel \\n=================\\n\")\n",
    "@printf(\"σ: %5.3f\\n\", √k_spatial.kern.σ2)\n",
    "@printf(\"l: %5.3f km\\n\", √k_spatial.kern.ℓ2 / 1000)\n",
    "print(\"\\n=================\\n\")\n",
    "@printf(\"σy: %5.3f\\n\", exp(nlopt_out[:hyp][1]))"
   ]
  }
 ],
 "metadata": {
  "hide_input": false,
  "hide_markdown_input": false,
  "kernelspec": {
   "display_name": "Julia 0.6.2 Experimental",
   "language": "julia",
   "name": "julia-0.6-experimental"
  },
  "language_info": {
   "file_extension": ".jl",
   "mimetype": "application/julia",
   "name": "julia",
   "version": "0.6.2"
  },
  "nav_menu": {},
  "toc": {
   "nav_menu": {
    "height": "198px",
    "width": "252px"
   },
   "number_sections": true,
   "sideBar": true,
   "skip_h1_title": false,
   "title_cell": "Table of Contents",
   "title_sidebar": "Contents",
   "toc_cell": false,
   "toc_position": {},
   "toc_section_display": "block",
   "toc_window_display": true
  },
  "toc_position": {
   "height": "930px",
   "left": "0px",
   "right": "1065px",
   "top": "106px",
   "width": "212px"
  }
 },
 "nbformat": 4,
 "nbformat_minor": 1
}
