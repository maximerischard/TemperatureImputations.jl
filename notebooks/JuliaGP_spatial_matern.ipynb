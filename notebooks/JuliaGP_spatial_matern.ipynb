{
 "cells": [
  {
   "cell_type": "markdown",
   "metadata": {
    "toc": "true"
   },
   "source": [
    "# Table of Contents\n",
    " <p><div class=\"lev1 toc-item\"><a href=\"#Data-Import-and-Preprocessing\" data-toc-modified-id=\"Data-Import-and-Preprocessing-1\"><span class=\"toc-item-num\">1&nbsp;&nbsp;</span>Data Import and Preprocessing</a></div><div class=\"lev2 toc-item\"><a href=\"#Distances\" data-toc-modified-id=\"Distances-11\"><span class=\"toc-item-num\">1.1&nbsp;&nbsp;</span>Distances</a></div><div class=\"lev1 toc-item\"><a href=\"#Matérn-spatio-temporal-kernel\" data-toc-modified-id=\"Matérn-spatio-temporal-kernel-2\"><span class=\"toc-item-num\">2&nbsp;&nbsp;</span>Matérn spatio-temporal kernel</a></div><div class=\"lev2 toc-item\"><a href=\"#optimization\" data-toc-modified-id=\"optimization-21\"><span class=\"toc-item-num\">2.1&nbsp;&nbsp;</span>optimization</a></div><div class=\"lev2 toc-item\"><a href=\"#resulting-kernel\" data-toc-modified-id=\"resulting-kernel-22\"><span class=\"toc-item-num\">2.2&nbsp;&nbsp;</span>resulting kernel</a></div>"
   ]
  },
  {
   "cell_type": "markdown",
   "metadata": {},
   "source": [
    "Using Matern spatial covariance components instead of RQIso or Squared Exponential."
   ]
  },
  {
   "cell_type": "code",
   "execution_count": 1,
   "metadata": {},
   "outputs": [
    {
     "name": "stderr",
     "output_type": "stream",
     "text": [
      "WARNING: Method definition get_priors(GaussianProcesses.Masked{K<:GaussianProcesses.Kernel}) in module GaussianProcesses at /Users/imolk/Library/Julia/packages/v0.6/GaussianProcesses/src/kernels/masked_kernel.jl:51 overwritten at /Users/imolk/Library/Julia/packages/v0.6/GaussianProcesses/src/kernels/masked_kernel.jl:83.\n"
     ]
    }
   ],
   "source": [
    "using TimeSeries\n",
    "using DataFrames\n",
    "using GaussianProcesses\n",
    "using GaussianProcesses: Mean, Kernel, evaluate, metric, IsotropicData, VecF64\n",
    "using GaussianProcesses: Stationary, KernelData, MatF64\n",
    "import GaussianProcesses: optimize!, get_optim_target, cov, grad_slice!\n",
    "import GaussianProcesses: num_params, set_params!, get_params, update_mll!, update_mll_and_dmll!\n",
    "import GaussianProcesses: get_param_names, cov!, addcov!, multcov!\n",
    "import Proj4\n",
    "using Optim\n",
    "using Distances\n",
    ";"
   ]
  },
  {
   "cell_type": "code",
   "execution_count": 2,
   "metadata": {},
   "outputs": [],
   "source": [
    "import PyPlot; plt=PyPlot\n",
    "using LaTeXStrings\n",
    "plt.rc(\"figure\", dpi=300.0)\n",
    "# plt.rc(\"figure\", figsize=(6,4))\n",
    "plt.rc(\"savefig\", dpi=300.0)\n",
    "plt.rc(\"text\", usetex=true)\n",
    "plt.rc(\"font\", family=\"serif\")\n",
    "plt.rc(\"font\", serif=\"Palatino\")\n",
    ";"
   ]
  },
  {
   "cell_type": "code",
   "execution_count": 3,
   "metadata": {},
   "outputs": [
    {
     "data": {
      "text/plain": [
       "\"../\""
      ]
     },
     "execution_count": 3,
     "metadata": {},
     "output_type": "execute_result"
    }
   ],
   "source": [
    "data_dir = \"../\""
   ]
  },
  {
   "cell_type": "markdown",
   "metadata": {},
   "source": [
    "# Data Import and Preprocessing"
   ]
  },
  {
   "cell_type": "code",
   "execution_count": 4,
   "metadata": {},
   "outputs": [
    {
     "name": "stderr",
     "output_type": "stream",
     "text": [
      "WARNING: Method definition ==(Base.Nullable{S}, Base.Nullable{T}) in module Base at nullable.jl:238 overwritten in module NullableArrays at /Users/imolk/Library/Julia/packages/v0.6/NullableArrays/src/operators.jl:99.\n",
      "WARNING: Method definition append!(NullableArrays.NullableArray{WeakRefStrings.WeakRefString{T}, 1}, NullableArrays.NullableArray{WeakRefStrings.WeakRefString{T}, 1}) in module Data at /Users/imolk/Library/Julia/packages/v0.6/DataStreams/src/DataStreams.jl:344 overwritten in module DataTables at /Users/imolk/Library/Julia/packages/v0.6/DataTables/src/abstractdatatable/io.jl:318.\n",
      "WARNING: Method definition describe(AbstractArray{T, N} where N where T) in module StatsBase at /Users/imolk/Library/Julia/packages/v0.6/StatsBase/src/scalarstats.jl:559 overwritten in module DataTables at /Users/imolk/Library/Julia/packages/v0.6/DataTables/src/abstractdatatable/abstractdatatable.jl:381.\n"
     ]
    },
    {
     "data": {
      "text/plain": [
       "test_data (generic function with 1 method)"
      ]
     },
     "execution_count": 4,
     "metadata": {},
     "output_type": "execute_result"
    }
   ],
   "source": [
    "include(data_dir*\"src/preprocessing.jl\")"
   ]
  },
  {
   "cell_type": "code",
   "execution_count": 5,
   "metadata": {},
   "outputs": [
    {
     "data": {
      "text/plain": [
       "TempModel"
      ]
     },
     "execution_count": 5,
     "metadata": {},
     "output_type": "execute_result"
    }
   ],
   "source": [
    "include(data_dir*\"src/TempModel.jl\")"
   ]
  },
  {
   "cell_type": "code",
   "execution_count": 6,
   "metadata": {},
   "outputs": [
    {
     "name": "stderr",
     "output_type": "stream",
     "text": [
      "\u001b[1m\u001b[33mWARNING: \u001b[39m\u001b[22m\u001b[33manynull(x) is deprecated, use any(isnull, x) instead.\u001b[39m\n",
      "Stacktrace:\n",
      " [1] \u001b[1mdepwarn\u001b[22m\u001b[22m\u001b[1m(\u001b[22m\u001b[22m::String, ::Symbol\u001b[1m)\u001b[22m\u001b[22m at \u001b[1m./deprecated.jl:70\u001b[22m\u001b[22m\n",
      " [2] \u001b[1manynull\u001b[22m\u001b[22m\u001b[1m(\u001b[22m\u001b[22m::NullableArrays.NullableArray{Float64,1}\u001b[1m)\u001b[22m\u001b[22m at \u001b[1m./deprecated.jl:57\u001b[22m\u001b[22m\n",
      " [3] \u001b[1mconvert\u001b[22m\u001b[22m\u001b[1m(\u001b[22m\u001b[22m::Type{Array{Float64,2}}, ::DataTables.DataTable\u001b[1m)\u001b[22m\u001b[22m at \u001b[1m/Users/imolk/Library/Julia/packages/v0.6/DataTables/src/abstractdatatable/abstractdatatable.jl:545\u001b[22m\u001b[22m\n",
      " [4] \u001b[1mconvert\u001b[22m\u001b[22m\u001b[1m(\u001b[22m\u001b[22m::Type{Array{T,2} where T}, ::DataTables.DataTable\u001b[1m)\u001b[22m\u001b[22m at \u001b[1m/Users/imolk/Library/Julia/packages/v0.6/DataTables/src/abstractdatatable/abstractdatatable.jl:535\u001b[22m\u001b[22m\n",
      " [5] \u001b[1m#read_isdList#6\u001b[22m\u001b[22m\u001b[1m(\u001b[22m\u001b[22m::String, ::Function\u001b[1m)\u001b[22m\u001b[22m at \u001b[1m/Users/imolk/Documents/Harvard/Natesh/temperature_model/src/preprocessing.jl:36\u001b[22m\u001b[22m\n",
      " [6] \u001b[1m(::#kw##read_isdList)\u001b[22m\u001b[22m\u001b[1m(\u001b[22m\u001b[22m::Array{Any,1}, ::#read_isdList\u001b[1m)\u001b[22m\u001b[22m at \u001b[1m./<missing>:0\u001b[22m\u001b[22m\n",
      " [7] \u001b[1minclude_string\u001b[22m\u001b[22m\u001b[1m(\u001b[22m\u001b[22m::String, ::String\u001b[1m)\u001b[22m\u001b[22m at \u001b[1m./loading.jl:515\u001b[22m\u001b[22m\n",
      " [8] \u001b[1minclude_string\u001b[22m\u001b[22m\u001b[1m(\u001b[22m\u001b[22m::Module, ::String, ::String\u001b[1m)\u001b[22m\u001b[22m at \u001b[1m/Users/imolk/Library/Julia/packages/v0.6/Compat/src/Compat.jl:464\u001b[22m\u001b[22m\n",
      " [9] \u001b[1mexecute_request\u001b[22m\u001b[22m\u001b[1m(\u001b[22m\u001b[22m::ZMQ.Socket, ::IJulia.Msg\u001b[1m)\u001b[22m\u001b[22m at \u001b[1m/Users/imolk/Library/Julia/packages/v0.6/IJulia/src/execute_request.jl:154\u001b[22m\u001b[22m\n",
      " [10] \u001b[1meventloop\u001b[22m\u001b[22m\u001b[1m(\u001b[22m\u001b[22m::ZMQ.Socket\u001b[1m)\u001b[22m\u001b[22m at \u001b[1m/Users/imolk/Library/Julia/packages/v0.6/IJulia/src/eventloop.jl:8\u001b[22m\u001b[22m\n",
      " [11] \u001b[1m(::IJulia.##14#17)\u001b[22m\u001b[22m\u001b[1m(\u001b[22m\u001b[22m\u001b[1m)\u001b[22m\u001b[22m at \u001b[1m./task.jl:335\u001b[22m\u001b[22m\n",
      "while loading In[6], in expression starting on line 1\n"
     ]
    },
    {
     "data": {
      "text/html": [
       "<table class=\"data-frame\"><tr><th></th><th>USAF</th><th>WBAN</th><th>NAME</th><th>CTRY</th><th>STATE</th><th>ICAO</th><th>LAT</th><th>LON</th><th>ELEV</th><th>BEGIN</th><th>END</th><th>X_PRJ</th><th>Y_PRJ</th></tr><tr><th>1</th><td>10010</td><td>99999</td><td>\"JAN MAYEN(NOR-NAVY)\"</td><td>\"NO\"</td><td>#NULL</td><td>\"ENJA\"</td><td>70.933</td><td>-8.667</td><td>9.0</td><td>1931</td><td>2015</td><td>4.5545e6</td><td>6.11344e6</td></tr><tr><th>2</th><td>10060</td><td>99999</td><td>\"EDGEOYA\"</td><td>\"NO\"</td><td>#NULL</td><td>#NULL</td><td>78.25</td><td>22.817</td><td>14.0</td><td>1973</td><td>2015</td><td>4.04982e6</td><td>7.5564e6</td></tr><tr><th>3</th><td>10070</td><td>99999</td><td>\"NY-ALESUND\"</td><td>\"SV\"</td><td>#NULL</td><td>#NULL</td><td>78.917</td><td>11.933</td><td>7.7</td><td>1973</td><td>2015</td><td>3.8678e6</td><td>7.26549e6</td></tr><tr><th>4</th><td>10080</td><td>99999</td><td>\"LONGYEAR\"</td><td>\"SV\"</td><td>#NULL</td><td>\"ENSB\"</td><td>78.246</td><td>15.466</td><td>26.8</td><td>1975</td><td>2015</td><td>3.99705e6</td><td>7.33669e6</td></tr><tr><th>5</th><td>10090</td><td>99999</td><td>\"KARL XII OYA\"</td><td>\"SV\"</td><td>#NULL</td><td>#NULL</td><td>80.65</td><td>25.0</td><td>5.0</td><td>1955</td><td>2015</td><td>3.69259e6</td><td>7.68545e6</td></tr></table>"
      ],
      "text/plain": [
       "5×13 DataTables.DataTable\n",
       "│ Row │ USAF  │ WBAN  │ NAME                  │ CTRY │ STATE │ ICAO   │ LAT    │\n",
       "├─────┼───────┼───────┼───────────────────────┼──────┼───────┼────────┼────────┤\n",
       "│ 1   │ 10010 │ 99999 │ \"JAN MAYEN(NOR-NAVY)\" │ \"NO\" │ #NULL │ \"ENJA\" │ 70.933 │\n",
       "│ 2   │ 10060 │ 99999 │ \"EDGEOYA\"             │ \"NO\" │ #NULL │ #NULL  │ 78.25  │\n",
       "│ 3   │ 10070 │ 99999 │ \"NY-ALESUND\"          │ \"SV\" │ #NULL │ #NULL  │ 78.917 │\n",
       "│ 4   │ 10080 │ 99999 │ \"LONGYEAR\"            │ \"SV\" │ #NULL │ \"ENSB\" │ 78.246 │\n",
       "│ 5   │ 10090 │ 99999 │ \"KARL XII OYA\"        │ \"SV\" │ #NULL │ #NULL  │ 80.65  │\n",
       "\n",
       "│ Row │ LON    │ ELEV │ BEGIN │ END  │ X_PRJ     │ Y_PRJ     │\n",
       "├─────┼────────┼──────┼───────┼──────┼───────────┼───────────┤\n",
       "│ 1   │ -8.667 │ 9.0  │ 1931  │ 2015 │ 4.5545e6  │ 6.11344e6 │\n",
       "│ 2   │ 22.817 │ 14.0 │ 1973  │ 2015 │ 4.04982e6 │ 7.5564e6  │\n",
       "│ 3   │ 11.933 │ 7.7  │ 1973  │ 2015 │ 3.8678e6  │ 7.26549e6 │\n",
       "│ 4   │ 15.466 │ 26.8 │ 1975  │ 2015 │ 3.99705e6 │ 7.33669e6 │\n",
       "│ 5   │ 25.0   │ 5.0  │ 1955  │ 2015 │ 3.69259e6 │ 7.68545e6 │"
      ]
     },
     "execution_count": 6,
     "metadata": {},
     "output_type": "execute_result"
    }
   ],
   "source": [
    "isdList=read_isdList(; data_dir=data_dir)\n",
    "isdList[1:5,:]"
   ]
  },
  {
   "cell_type": "code",
   "execution_count": 7,
   "metadata": {},
   "outputs": [
    {
     "data": {
      "text/html": [
       "<table class=\"data-frame\"><tr><th></th><th>USAF</th><th>WBAN</th><th>NAME</th><th>CTRY</th><th>STATE</th><th>ICAO</th><th>LAT</th><th>LON</th><th>ELEV</th><th>BEGIN</th><th>END</th><th>X_PRJ</th><th>Y_PRJ</th></tr><tr><th>1</th><td>725450</td><td>14990</td><td>\"THE EASTERN IOWA AIRPORT\"</td><td>\"US\"</td><td>\"IA\"</td><td>\"KCID\"</td><td>41.883</td><td>-91.717</td><td>264.6</td><td>1973</td><td>2015</td><td>1.64799e6</td><td>1.0441e6</td></tr><tr><th>2</th><td>725460</td><td>14933</td><td>\"DES MOINES INTERNATIONAL AIRPORT\"</td><td>\"US\"</td><td>\"IA\"</td><td>\"KDSM\"</td><td>41.534</td><td>-93.653</td><td>291.7</td><td>1973</td><td>2015</td><td>1.48723e6</td><td>1.00379e6</td></tr><tr><th>3</th><td>725480</td><td>94910</td><td>\"WATERLOO MUNICIPAL AIRPORT\"</td><td>\"US\"</td><td>\"IA\"</td><td>\"KALO\"</td><td>42.554</td><td>-92.401</td><td>264.6</td><td>1960</td><td>2015</td><td>1.59025e6</td><td>1.11766e6</td></tr><tr><th>4</th><td>725485</td><td>14940</td><td>\"MASON CITY MUNICIPAL ARPT\"</td><td>\"US\"</td><td>\"IA\"</td><td>\"KMCW\"</td><td>43.154</td><td>-93.327</td><td>373.4</td><td>1973</td><td>2015</td><td>1.51407e6</td><td>1.18374e6</td></tr></table>"
      ],
      "text/plain": [
       "4×13 DataTables.DataTable\n",
       "│ Row │ USAF   │ WBAN  │ NAME                               │ CTRY │ STATE │\n",
       "├─────┼────────┼───────┼────────────────────────────────────┼──────┼───────┤\n",
       "│ 1   │ 725450 │ 14990 │ \"THE EASTERN IOWA AIRPORT\"         │ \"US\" │ \"IA\"  │\n",
       "│ 2   │ 725460 │ 14933 │ \"DES MOINES INTERNATIONAL AIRPORT\" │ \"US\" │ \"IA\"  │\n",
       "│ 3   │ 725480 │ 94910 │ \"WATERLOO MUNICIPAL AIRPORT\"       │ \"US\" │ \"IA\"  │\n",
       "│ 4   │ 725485 │ 14940 │ \"MASON CITY MUNICIPAL ARPT\"        │ \"US\" │ \"IA\"  │\n",
       "\n",
       "│ Row │ ICAO   │ LAT    │ LON     │ ELEV  │ BEGIN │ END  │ X_PRJ     │\n",
       "├─────┼────────┼────────┼─────────┼───────┼───────┼──────┼───────────┤\n",
       "│ 1   │ \"KCID\" │ 41.883 │ -91.717 │ 264.6 │ 1973  │ 2015 │ 1.64799e6 │\n",
       "│ 2   │ \"KDSM\" │ 41.534 │ -93.653 │ 291.7 │ 1973  │ 2015 │ 1.48723e6 │\n",
       "│ 3   │ \"KALO\" │ 42.554 │ -92.401 │ 264.6 │ 1960  │ 2015 │ 1.59025e6 │\n",
       "│ 4   │ \"KMCW\" │ 43.154 │ -93.327 │ 373.4 │ 1973  │ 2015 │ 1.51407e6 │\n",
       "\n",
       "│ Row │ Y_PRJ     │\n",
       "├─────┼───────────┤\n",
       "│ 1   │ 1.0441e6  │\n",
       "│ 2   │ 1.00379e6 │\n",
       "│ 3   │ 1.11766e6 │\n",
       "│ 4   │ 1.18374e6 │"
      ]
     },
     "execution_count": 7,
     "metadata": {},
     "output_type": "execute_result"
    }
   ],
   "source": [
    "isdSubset=isdList[[(usaf in (725450,725460,725480,725485)) for usaf in isdList[:USAF].values],:]\n",
    "isdSubset"
   ]
  },
  {
   "cell_type": "code",
   "execution_count": 8,
   "metadata": {},
   "outputs": [
    {
     "name": "stderr",
     "output_type": "stream",
     "text": [
      "\u001b[1m\u001b[33mWARNING: \u001b[39m\u001b[22m\u001b[33mconvert{T <: Number}(::Type{T}, x::Dates.Period) is deprecated, use convert(T, Dates.value(x)) instead.\u001b[39m\n",
      "Stacktrace:\n",
      " [1] \u001b[1mdepwarn\u001b[22m\u001b[22m\u001b[1m(\u001b[22m\u001b[22m::String, ::Symbol\u001b[1m)\u001b[22m\u001b[22m at \u001b[1m./deprecated.jl:70\u001b[22m\u001b[22m\n",
      " [2] \u001b[1mconvert\u001b[22m\u001b[22m\u001b[1m(\u001b[22m\u001b[22m::Type{Float64}, ::Base.Dates.Millisecond\u001b[1m)\u001b[22m\u001b[22m at \u001b[1m./deprecated.jl:57\u001b[22m\u001b[22m\n",
      " [3] \u001b[1mcopy!\u001b[22m\u001b[22m\u001b[1m(\u001b[22m\u001b[22m::IndexLinear, ::Array{Float64,1}, ::IndexLinear, ::Array{Base.Dates.Millisecond,1}\u001b[1m)\u001b[22m\u001b[22m at \u001b[1m./abstractarray.jl:655\u001b[22m\u001b[22m\n",
      " [4] \u001b[1mconvert\u001b[22m\u001b[22m\u001b[1m(\u001b[22m\u001b[22m::Type{Array{Float64,1}}, ::Array{Base.Dates.Millisecond,1}\u001b[1m)\u001b[22m\u001b[22m at \u001b[1m./array.jl:340\u001b[22m\u001b[22m\n",
      " [5] \u001b[1madd_ts_hours!\u001b[22m\u001b[22m\u001b[1m(\u001b[22m\u001b[22m::DataTables.DataTable\u001b[1m)\u001b[22m\u001b[22m at \u001b[1m/Users/imolk/Documents/Harvard/Natesh/temperature_model/src/preprocessing.jl:44\u001b[22m\u001b[22m\n",
      " [6] \u001b[1m#read_Stations#7\u001b[22m\u001b[22m\u001b[1m(\u001b[22m\u001b[22m::String, ::Function, ::DataTables.DataTable\u001b[1m)\u001b[22m\u001b[22m at \u001b[1m/Users/imolk/Documents/Harvard/Natesh/temperature_model/src/preprocessing.jl:52\u001b[22m\u001b[22m\n",
      " [7] \u001b[1m(::#kw##read_Stations)\u001b[22m\u001b[22m\u001b[1m(\u001b[22m\u001b[22m::Array{Any,1}, ::#read_Stations, ::DataTables.DataTable\u001b[1m)\u001b[22m\u001b[22m at \u001b[1m./<missing>:0\u001b[22m\u001b[22m\n",
      " [8] \u001b[1minclude_string\u001b[22m\u001b[22m\u001b[1m(\u001b[22m\u001b[22m::String, ::String\u001b[1m)\u001b[22m\u001b[22m at \u001b[1m./loading.jl:515\u001b[22m\u001b[22m\n",
      " [9] \u001b[1minclude_string\u001b[22m\u001b[22m\u001b[1m(\u001b[22m\u001b[22m::Module, ::String, ::String\u001b[1m)\u001b[22m\u001b[22m at \u001b[1m/Users/imolk/Library/Julia/packages/v0.6/Compat/src/Compat.jl:464\u001b[22m\u001b[22m\n",
      " [10] \u001b[1mexecute_request\u001b[22m\u001b[22m\u001b[1m(\u001b[22m\u001b[22m::ZMQ.Socket, ::IJulia.Msg\u001b[1m)\u001b[22m\u001b[22m at \u001b[1m/Users/imolk/Library/Julia/packages/v0.6/IJulia/src/execute_request.jl:154\u001b[22m\u001b[22m\n",
      " [11] \u001b[1meventloop\u001b[22m\u001b[22m\u001b[1m(\u001b[22m\u001b[22m::ZMQ.Socket\u001b[1m)\u001b[22m\u001b[22m at \u001b[1m/Users/imolk/Library/Julia/packages/v0.6/IJulia/src/eventloop.jl:8\u001b[22m\u001b[22m\n",
      " [12] \u001b[1m(::IJulia.##14#17)\u001b[22m\u001b[22m\u001b[1m(\u001b[22m\u001b[22m\u001b[1m)\u001b[22m\u001b[22m at \u001b[1m./task.jl:335\u001b[22m\u001b[22m\n",
      "while loading In[8], in expression starting on line 1\n"
     ]
    },
    {
     "data": {
      "text/html": [
       "<table class=\"data-frame\"><tr><th></th><th>year</th><th>month</th><th>day</th><th>hour</th><th>min</th><th>seconds</th><th>temp</th><th>ts</th><th>station</th><th>ts_hours</th></tr><tr><th>1</th><td>2015</td><td>1</td><td>1</td><td>0</td><td>52</td><td>0</td><td>-7.8</td><td>2015-01-01T00:52:00</td><td>1</td><td>0.866667</td></tr><tr><th>2</th><td>2015</td><td>1</td><td>1</td><td>1</td><td>52</td><td>0</td><td>-8.3</td><td>2015-01-01T01:52:00</td><td>1</td><td>1.86667</td></tr><tr><th>3</th><td>2015</td><td>1</td><td>1</td><td>2</td><td>52</td><td>0</td><td>-8.3</td><td>2015-01-01T02:52:00</td><td>1</td><td>2.86667</td></tr><tr><th>4</th><td>2015</td><td>1</td><td>1</td><td>3</td><td>52</td><td>0</td><td>-9.4</td><td>2015-01-01T03:52:00</td><td>1</td><td>3.86667</td></tr><tr><th>5</th><td>2015</td><td>1</td><td>1</td><td>4</td><td>52</td><td>0</td><td>-9.4</td><td>2015-01-01T04:52:00</td><td>1</td><td>4.86667</td></tr></table>"
      ],
      "text/plain": [
       "5×10 DataTables.DataTable\n",
       "│ Row │ year │ month │ day │ hour │ min │ seconds │ temp │ ts                  │\n",
       "├─────┼──────┼───────┼─────┼──────┼─────┼─────────┼──────┼─────────────────────┤\n",
       "│ 1   │ 2015 │ 1     │ 1   │ 0    │ 52  │ 0       │ -7.8 │ 2015-01-01T00:52:00 │\n",
       "│ 2   │ 2015 │ 1     │ 1   │ 1    │ 52  │ 0       │ -8.3 │ 2015-01-01T01:52:00 │\n",
       "│ 3   │ 2015 │ 1     │ 1   │ 2    │ 52  │ 0       │ -8.3 │ 2015-01-01T02:52:00 │\n",
       "│ 4   │ 2015 │ 1     │ 1   │ 3    │ 52  │ 0       │ -9.4 │ 2015-01-01T03:52:00 │\n",
       "│ 5   │ 2015 │ 1     │ 1   │ 4    │ 52  │ 0       │ -9.4 │ 2015-01-01T04:52:00 │\n",
       "\n",
       "│ Row │ station │ ts_hours │\n",
       "├─────┼─────────┼──────────┤\n",
       "│ 1   │ 1       │ 0.866667 │\n",
       "│ 2   │ 1       │ 1.86667  │\n",
       "│ 3   │ 1       │ 2.86667  │\n",
       "│ 4   │ 1       │ 3.86667  │\n",
       "│ 5   │ 1       │ 4.86667  │"
      ]
     },
     "execution_count": 8,
     "metadata": {},
     "output_type": "execute_result"
    }
   ],
   "source": [
    "hourly_cat=read_Stations(isdSubset; data_dir=data_dir)\n",
    "hourly_cat[1:5,:]"
   ]
  },
  {
   "cell_type": "markdown",
   "metadata": {},
   "source": [
    "## Distances"
   ]
  },
  {
   "cell_type": "markdown",
   "metadata": {},
   "source": [
    "To get distances between stations, we can either use a function to compute distances on a sphere, or we can first project the coordinates onto a Euclidean plane, and then compute normal distances. I'll do it both ways to check they're consistent (equal up to a multiplication constant), and then use Euclidean distances for convenience."
   ]
  },
  {
   "cell_type": "code",
   "execution_count": 9,
   "metadata": {},
   "outputs": [
    {
     "data": {
      "text/plain": [
       "distance_on_unit_sphere (generic function with 1 method)"
      ]
     },
     "execution_count": 9,
     "metadata": {},
     "output_type": "execute_result"
    }
   ],
   "source": [
    "# http://www.johndcook.com/blog/python_longitude_latitude/\n",
    "function distance_on_unit_sphere(lat1, long1, lat2, long2)\n",
    " \n",
    "    # Convert latitude and longitude to \n",
    "    # spherical coordinates in radians.\n",
    "    degrees_to_radians = π/180.0\n",
    "         \n",
    "    # phi = 90 - latitude\n",
    "    phi1 = (90.0 - lat1)*degrees_to_radians\n",
    "    phi2 = (90.0 - lat2)*degrees_to_radians\n",
    "         \n",
    "    # theta = longitude\n",
    "    theta1 = long1*degrees_to_radians\n",
    "    theta2 = long2*degrees_to_radians\n",
    "         \n",
    "    # Compute spherical distance from spherical coordinates.\n",
    "         \n",
    "    # For two locations in spherical coordinates \n",
    "    # (1, theta, phi) and (1, theta', phi')\n",
    "    # cosine( arc length ) = \n",
    "    #    sin phi sin phi' cos(theta-theta') + cos phi cos phi'\n",
    "    # distance = rho * arc length\n",
    "     \n",
    "    cosangle = (sin(phi1)*sin(phi2)*cos(theta1 - theta2) +\n",
    "           cos(phi1)*cos(phi2))\n",
    "    arc = acos( cosangle )\n",
    " \n",
    "    # Remember to multiply arc by the radius of the earth \n",
    "    # in your favorite set of units to get length.\n",
    "    return arc\n",
    "end"
   ]
  },
  {
   "cell_type": "code",
   "execution_count": 10,
   "metadata": {},
   "outputs": [
    {
     "data": {
      "text/plain": [
       "4×4 Array{Float64,2}:\n",
       " 0.0        0.0259496  0.0146736  0.0303475\n",
       " 0.0259496  0.0        0.024088   0.0285853\n",
       " 0.0146736  0.024088   0.0        0.0158124\n",
       " 0.0303475  0.0285853  0.0158124  0.0      "
      ]
     },
     "execution_count": 10,
     "metadata": {},
     "output_type": "execute_result"
    }
   ],
   "source": [
    "numstations = DataTables.nrow(isdSubset)\n",
    "pairwiseSphere = zeros(numstations, numstations)\n",
    "for i in 1:numstations\n",
    "    for j in 1:i\n",
    "        if i==j\n",
    "            continue\n",
    "        end\n",
    "        station1 = isdSubset[i,:]\n",
    "        station2 = isdSubset[j,:]\n",
    "        lat1= get(station1[1,:LAT])\n",
    "        lon1 = get(station1[1,:LON])\n",
    "        lat2 = get(station2[1,:LAT])\n",
    "        lon2 = get(station2[1,:LON])\n",
    "        pairwiseSphere[i,j] = distance_on_unit_sphere(lat1, lon1, lat2, lon2)\n",
    "        pairwiseSphere[j,i] = pairwiseSphere[i,j]\n",
    "    end\n",
    "end\n",
    "pairwiseSphere"
   ]
  },
  {
   "cell_type": "code",
   "execution_count": 11,
   "metadata": {},
   "outputs": [
    {
     "name": "stderr",
     "output_type": "stream",
     "text": [
      "\u001b[1m\u001b[33mWARNING: \u001b[39m\u001b[22m\u001b[33manynull(x) is deprecated, use any(isnull, x) instead.\u001b[39m\n",
      "Stacktrace:\n",
      " [1] \u001b[1mdepwarn\u001b[22m\u001b[22m\u001b[1m(\u001b[22m\u001b[22m::String, ::Symbol\u001b[1m)\u001b[22m\u001b[22m at \u001b[1m./deprecated.jl:70\u001b[22m\u001b[22m\n",
      " [2] \u001b[1manynull\u001b[22m\u001b[22m\u001b[1m(\u001b[22m\u001b[22m::NullableArrays.NullableArray{Float64,1}\u001b[1m)\u001b[22m\u001b[22m at \u001b[1m./deprecated.jl:57\u001b[22m\u001b[22m\n",
      " [3] \u001b[1mconvert\u001b[22m\u001b[22m\u001b[1m(\u001b[22m\u001b[22m::Type{Array{Float64,2}}, ::DataTables.DataTable\u001b[1m)\u001b[22m\u001b[22m at \u001b[1m/Users/imolk/Library/Julia/packages/v0.6/DataTables/src/abstractdatatable/abstractdatatable.jl:545\u001b[22m\u001b[22m\n",
      " [4] \u001b[1mconvert\u001b[22m\u001b[22m\u001b[1m(\u001b[22m\u001b[22m::Type{Array{T,2} where T}, ::DataTables.DataTable\u001b[1m)\u001b[22m\u001b[22m at \u001b[1m/Users/imolk/Library/Julia/packages/v0.6/DataTables/src/abstractdatatable/abstractdatatable.jl:535\u001b[22m\u001b[22m\n",
      " [5] \u001b[1mArray{T,2} where T\u001b[22m\u001b[22m\u001b[1m(\u001b[22m\u001b[22m::DataTables.DataTable\u001b[1m)\u001b[22m\u001b[22m at \u001b[1m./sysimg.jl:24\u001b[22m\u001b[22m\n",
      " [6] \u001b[1minclude_string\u001b[22m\u001b[22m\u001b[1m(\u001b[22m\u001b[22m::String, ::String\u001b[1m)\u001b[22m\u001b[22m at \u001b[1m./loading.jl:515\u001b[22m\u001b[22m\n",
      " [7] \u001b[1minclude_string\u001b[22m\u001b[22m\u001b[1m(\u001b[22m\u001b[22m::Module, ::String, ::String\u001b[1m)\u001b[22m\u001b[22m at \u001b[1m/Users/imolk/Library/Julia/packages/v0.6/Compat/src/Compat.jl:464\u001b[22m\u001b[22m\n",
      " [8] \u001b[1mexecute_request\u001b[22m\u001b[22m\u001b[1m(\u001b[22m\u001b[22m::ZMQ.Socket, ::IJulia.Msg\u001b[1m)\u001b[22m\u001b[22m at \u001b[1m/Users/imolk/Library/Julia/packages/v0.6/IJulia/src/execute_request.jl:154\u001b[22m\u001b[22m\n",
      " [9] \u001b[1meventloop\u001b[22m\u001b[22m\u001b[1m(\u001b[22m\u001b[22m::ZMQ.Socket\u001b[1m)\u001b[22m\u001b[22m at \u001b[1m/Users/imolk/Library/Julia/packages/v0.6/IJulia/src/eventloop.jl:8\u001b[22m\u001b[22m\n",
      " [10] \u001b[1m(::IJulia.##14#17)\u001b[22m\u001b[22m\u001b[1m(\u001b[22m\u001b[22m\u001b[1m)\u001b[22m\u001b[22m at \u001b[1m./task.jl:335\u001b[22m\u001b[22m\n",
      "while loading In[11], in expression starting on line 1\n"
     ]
    },
    {
     "data": {
      "text/plain": [
       "4×4 Array{Float64,2}:\n",
       "      0.0        165736.0        93510.4        1.93474e5\n",
       " 165736.0             0.0            1.53559e5  1.81942e5\n",
       "  93510.4             1.53559e5      0.0        1.00846e5\n",
       "      1.93474e5       1.81942e5      1.00846e5  0.0      "
      ]
     },
     "execution_count": 11,
     "metadata": {},
     "output_type": "execute_result"
    }
   ],
   "source": [
    "pairwiseEuclid=pairwise(Euclidean(), Matrix(isdSubset[[:X_PRJ,:Y_PRJ]])')"
   ]
  },
  {
   "cell_type": "markdown",
   "metadata": {},
   "source": [
    "Ratio of the two distance matrices: close enough to a constant!"
   ]
  },
  {
   "cell_type": "code",
   "execution_count": 12,
   "metadata": {},
   "outputs": [
    {
     "data": {
      "text/plain": [
       "4×4 Array{Float64,2}:\n",
       " NaN            6.38684e6    6.37271e6    6.37527e6\n",
       "   6.38684e6  NaN            6.37493e6    6.36489e6\n",
       "   6.37271e6    6.37493e6  NaN            6.37765e6\n",
       "   6.37527e6    6.36489e6    6.37765e6  NaN        "
      ]
     },
     "execution_count": 12,
     "metadata": {},
     "output_type": "execute_result"
    }
   ],
   "source": [
    "pairwiseEuclid ./ pairwiseSphere"
   ]
  },
  {
   "cell_type": "markdown",
   "metadata": {},
   "source": [
    "# Matérn spatio-temporal kernel"
   ]
  },
  {
   "cell_type": "code",
   "execution_count": 13,
   "metadata": {},
   "outputs": [
    {
     "data": {
      "text/plain": [
       "-1.5563"
      ]
     },
     "execution_count": 13,
     "metadata": {},
     "output_type": "execute_result"
    }
   ],
   "source": [
    "mk1 = fix(Periodic(log(0.5), log(√(3.0)), log(24.0)), :lp)\n",
    "mk2 = Mat32Iso(log(2.0), log(√3.0)) # short term Matern\n",
    "mk3 = SEIso(log(2.0), log(√3.0)) # short term SE\n",
    "mk4 = Mat32Iso(log(1.0*24), log(√10.0))\n",
    "mk5 = RQIso(log(10.0*24), log(√10.0), 3.0)\n",
    "mk_nonoise=mk1+mk2+mk3+mk4+mk5\n",
    "\n",
    "temporal_minx = [-1.5563, -0.0368977, 1.06012, -1.38956, -1.19061, -0.0300269, -1.03743, 1.86563, 0.9376, 3.21125, 1.41512, 6.0]\n",
    "set_params!(mk_nonoise, temporal_minx[2:end])\n",
    "\n",
    "ksp1 = SEIso(log(2*10^5), log(1.0))\n",
    "ksp2 = SEIso(log(2*10^5), log(1.0))\n",
    "ksp3 = SEIso(log(2*10^5), log(1.0))\n",
    "ksp4 = SEIso(log(2*10^5), log(1.0))\n",
    "ksp5 = SEIso(log(2*10^5), log(1.0))\n",
    "k_means = SEIso(log(10^4), log(10.0))\n",
    "\n",
    "k_spatiotemporal_1 = Masked(mk1, [1]) * Masked(ksp1, [2,3]) +\n",
    "                     Masked(mk2, [1]) * Masked(ksp2, [2,3]) +\n",
    "                     Masked(mk3, [1]) * Masked(ksp3, [2,3]) +\n",
    "                     Masked(mk4, [1]) * Masked(ksp4, [2,3]) +\n",
    "                     Masked(mk5, [1]) * Masked(ksp5, [2,3]) +\n",
    "                     fix(Masked(k_means, [2,3]))\n",
    "logNoise=temporal_minx[1]"
   ]
  },
  {
   "cell_type": "markdown",
   "metadata": {},
   "source": [
    "## optimization"
   ]
  },
  {
   "cell_type": "code",
   "execution_count": 14,
   "metadata": {},
   "outputs": [
    {
     "name": "stderr",
     "output_type": "stream",
     "text": [
      "\u001b[1m\u001b[33mWARNING: \u001b[39m\u001b[22m\u001b[33mA::AbstractArray & B::AbstractArray is deprecated, use A .& B instead.\u001b[39m\n",
      "Stacktrace:\n",
      " [1] \u001b[1mdepwarn\u001b[22m\u001b[22m\u001b[1m(\u001b[22m\u001b[22m::String, ::Symbol\u001b[1m)\u001b[22m\u001b[22m at \u001b[1m./deprecated.jl:70\u001b[22m\u001b[22m\n",
      " [2] \u001b[1m&\u001b[22m\u001b[22m\u001b[1m(\u001b[22m\u001b[22m::BitArray{1}, ::BitArray{1}\u001b[1m)\u001b[22m\u001b[22m at \u001b[1m./deprecated.jl:57\u001b[22m\u001b[22m\n",
      " [3] \u001b[1mmacro expansion\u001b[22m\u001b[22m at \u001b[1m./In[14]:9\u001b[22m\u001b[22m [inlined]\n",
      " [4] \u001b[1manonymous\u001b[22m\u001b[22m at \u001b[1m./<missing>:?\u001b[22m\u001b[22m\n",
      " [5] \u001b[1minclude_string\u001b[22m\u001b[22m\u001b[1m(\u001b[22m\u001b[22m::String, ::String\u001b[1m)\u001b[22m\u001b[22m at \u001b[1m./loading.jl:515\u001b[22m\u001b[22m\n",
      " [6] \u001b[1minclude_string\u001b[22m\u001b[22m\u001b[1m(\u001b[22m\u001b[22m::Module, ::String, ::String\u001b[1m)\u001b[22m\u001b[22m at \u001b[1m/Users/imolk/Library/Julia/packages/v0.6/Compat/src/Compat.jl:464\u001b[22m\u001b[22m\n",
      " [7] \u001b[1mexecute_request\u001b[22m\u001b[22m\u001b[1m(\u001b[22m\u001b[22m::ZMQ.Socket, ::IJulia.Msg\u001b[1m)\u001b[22m\u001b[22m at \u001b[1m/Users/imolk/Library/Julia/packages/v0.6/IJulia/src/execute_request.jl:154\u001b[22m\u001b[22m\n",
      " [8] \u001b[1meventloop\u001b[22m\u001b[22m\u001b[1m(\u001b[22m\u001b[22m::ZMQ.Socket\u001b[1m)\u001b[22m\u001b[22m at \u001b[1m/Users/imolk/Library/Julia/packages/v0.6/IJulia/src/eventloop.jl:8\u001b[22m\u001b[22m\n",
      " [9] \u001b[1m(::IJulia.##14#17)\u001b[22m\u001b[22m\u001b[1m(\u001b[22m\u001b[22m\u001b[1m)\u001b[22m\u001b[22m at \u001b[1m./task.jl:335\u001b[22m\u001b[22m\n",
      "while loading In[14], in expression starting on line 1\n"
     ]
    },
    {
     "name": "stdout",
     "output_type": "stream",
     "text": [
      "5409.872897 seconds (2.33 M allocations: 919.166 GiB, 7.37% gc time)\n",
      " mLL: -46015.85174\n",
      "dmLL: [8.37715e-5, -0.0017365, 0.00176894, 7.55825e-6, 0.00176894, -0.00167956, 0.000586397, -0.000297559, 0.000586397, 0.000311219, 0.00067744, -0.00053022, 0.00067744, 0.00184674, -0.000578759, 0.00151395, -0.000578759, -0.000317266, 0.00100581, -6.57274, -0.00103178, 0.00100581]\n"
     ]
    }
   ],
   "source": [
    "begin\n",
    "    k_spatiotemporal = k_spatiotemporal_1\n",
    "    chunks=GPE[]\n",
    "    chunk_width=24*10\n",
    "    tstart=0.0\n",
    "    tend=tstart+chunk_width\n",
    "    nobsv=0\n",
    "    while tstart < get(maximum(hourly_cat[:ts_hours]))\n",
    "        in_chunk=(tstart .<= hourly_cat[:ts_hours].values) & (hourly_cat[:ts_hours].values .< tend)\n",
    "        hourly_chunk = hourly_cat[in_chunk,:]\n",
    "        nobsv_chunk = sum(in_chunk)\n",
    "        nobsv += nobsv_chunk\n",
    "\n",
    "        chunk_X_PRJ = isdSubset[:X_PRJ].values[hourly_chunk[:station].values]\n",
    "        chunk_Y_PRJ = isdSubset[:Y_PRJ].values[hourly_chunk[:station].values]\n",
    "        chunk_X = [hourly_chunk[:ts_hours].values chunk_X_PRJ chunk_Y_PRJ]\n",
    "\n",
    "        y = hourly_chunk[:temp].values\n",
    "        chunk = GPE(chunk_X', y, MeanConst(mean(y)), k_spatiotemporal, logNoise)\n",
    "        push!(chunks, chunk)\n",
    "\n",
    "        tstart=tend\n",
    "        tend+=chunk_width\n",
    "    end\n",
    "    reals = TempModel.GPRealisations(chunks)\n",
    "    @time opt_out=TempModel.optimize_NLopt(reals, mean=false, x_tol=1e-5, f_tol=1e-10)\n",
    "    @printf(\" mLL: %.5f\\n\", reals.mll)\n",
    "    println(\"dmLL: \", reals.dmll)\n",
    "end"
   ]
  },
  {
   "cell_type": "markdown",
   "metadata": {},
   "source": [
    "## resulting kernel"
   ]
  },
  {
   "cell_type": "code",
   "execution_count": 21,
   "metadata": {},
   "outputs": [
    {
     "name": "stdout",
     "output_type": "stream",
     "text": [
      "mk₁: Periodic \n",
      "=================\n",
      "σ: 2.761\n",
      "l: 0.786\n",
      "p:    24 hours\n",
      "> spatial decay:\n",
      "l: 798.133 km\n",
      "\n",
      "mk₂: Matérn \n",
      "=================\n",
      "σ: 0.308\n",
      "l: 0.278 hours\n",
      "> spatial decay:\n",
      "l: 42.836 km\n",
      "\n",
      "mk₃: SEIso \n",
      "=================\n",
      "σ: 0.644\n",
      "l: 3.026 hours\n",
      "> spatial decay:\n",
      "l: 155.575 km\n",
      "\n",
      "mk₄: Matérn \n",
      "=================\n",
      "σ: 1.383\n",
      "l: 1.841 hours\n",
      "> spatial decay:\n",
      "l: 17.906 km \n",
      "\n",
      "mk₅: RQIso \n",
      "=================\n",
      "σ: 4.048\n",
      "l: 0.368 days\n",
      "α: 20.086\n",
      "> spatial decay:\n",
      "l: 464.523 km\n"
     ]
    }
   ],
   "source": [
    "print(\"mk₁: Periodic \\n=================\\n\")\n",
    "@printf(\"σ: %5.3f\\n\", √mk1.kern.σ2)\n",
    "@printf(\"l: %5.3f\\n\", √mk1.kern.ℓ2)\n",
    "@printf(\"p: %5.0f hours\\n\", mk1.kern.p)\n",
    "print(\"> spatial decay:\\n\")\n",
    "@printf(\"l: %5.3f km\\n\", √ksp1.ℓ2 / 1000)\n",
    "\n",
    "print(\"\\nmk₂: Matérn \\n=================\\n\")\n",
    "@printf(\"σ: %5.3f\\n\", √ mk2.σ2)\n",
    "@printf(\"l: %5.3f hours\\n\", mk2.ℓ)\n",
    "print(\"> spatial decay:\\n\")\n",
    "# @printf(\"σ: %5.3f\\n\", √ksp2.σ2)\n",
    "@printf(\"l: %5.3f km\\n\", √ksp2.ℓ2 / 1000)\n",
    "\n",
    "print(\"\\nmk₃: SEIso \\n=================\\n\")\n",
    "@printf(\"σ: %5.3f\\n\", √mk3.σ2)\n",
    "@printf(\"l: %5.3f hours\\n\", √mk3.ℓ2)\n",
    "print(\"> spatial decay:\\n\")\n",
    "# @printf(\"σ: %5.3f\\n\", √ksp3.σ2)\n",
    "@printf(\"l: %5.3f km\\n\", √ksp3.ℓ2 / 1000)\n",
    "\n",
    "print(\"\\nmk₄: Matérn \\n=================\\n\")\n",
    "@printf(\"σ: %5.3f\\n\", √mk4.σ2)\n",
    "@printf(\"l: %5.3f hours\\n\", mk4.ℓ)\n",
    "print(\"> spatial decay:\\n\")\n",
    "# @printf(\"σ: %5.3f\\n\", √ksp4.σ2)\n",
    "@printf(\"l: %5.3f km \\n\", √ksp4.ℓ2 / 1000)\n",
    "\n",
    "print(\"\\nmk₅: RQIso \\n=================\\n\")\n",
    "@printf(\"σ: %5.3f\\n\", √mk5.σ2)\n",
    "@printf(\"l: %5.3f days\\n\", √mk5.ℓ2 / 24)\n",
    "@printf(\"α: %5.3f\\n\",  mk5.α)\n",
    "print(\"> spatial decay:\\n\")\n",
    "# @printf(\"σ: %5.3f\\n\", √ksp5.σ2)\n",
    "@printf(\"l: %5.3f km\\n\", √ksp5.ℓ2 / 1000)"
   ]
  }
 ],
 "metadata": {
  "hide_input": false,
  "kernelspec": {
   "display_name": "Julia 0.6.0",
   "language": "julia",
   "name": "julia-0.6"
  },
  "language_info": {
   "file_extension": ".jl",
   "mimetype": "application/julia",
   "name": "julia",
   "version": "0.6.0"
  },
  "nav_menu": {},
  "toc": {
   "colors": {
    "hover_highlight": "#DAA520",
    "running_highlight": "#FF0000",
    "selected_highlight": "#FFD700"
   },
   "moveMenuLeft": true,
   "nav_menu": {
    "height": "102px",
    "width": "252px"
   },
   "navigate_menu": true,
   "number_sections": true,
   "sideBar": true,
   "threshold": 4,
   "toc_cell": true,
   "toc_section_display": "block",
   "toc_window_display": true,
   "widenNotebook": false
  },
  "toc_position": {
   "height": "930px",
   "left": "0px",
   "right": "1065px",
   "top": "106px",
   "width": "212px"
  }
 },
 "nbformat": 4,
 "nbformat_minor": 1
}
