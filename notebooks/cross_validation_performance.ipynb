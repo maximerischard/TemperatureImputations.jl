{
 "cells": [
  {
   "cell_type": "code",
   "execution_count": 1,
   "metadata": {},
   "outputs": [],
   "source": [
    "using Printf: @printf, @sprintf\n",
    "import JSON\n",
    "using DataFrames: nrow\n",
    "using Dates: Day\n",
    "using BenchmarkTools"
   ]
  },
  {
   "cell_type": "code",
   "execution_count": 2,
   "metadata": {},
   "outputs": [
    {
     "name": "stderr",
     "output_type": "stream",
     "text": [
      "┌ Info: Recompiling stale cache file /Users/imolk/Library/Julia/alternative_depots/climate/compiled/v1.1/TempModel/5V5SX.ji for TempModel [429a4ede-8e99-57b3-891e-c3971593d88c]\n",
      "└ @ Base loading.jl:1184\n"
     ]
    }
   ],
   "source": [
    "using Revise\n",
    "import TempModel\n",
    "using GaussianProcesses"
   ]
  },
  {
   "cell_type": "code",
   "execution_count": 3,
   "metadata": {},
   "outputs": [
    {
     "data": {
      "text/html": [
       "<table class=\"data-frame\"><thead><tr><th></th><th>USAF</th><th>WBAN</th><th>NAME</th><th>CTRY</th><th>STATE</th><th>ICAO</th><th>LAT</th><th>LON</th><th>ELEV</th><th>BEGIN</th><th>END</th><th>X_PRJ</th><th>Y_PRJ</th></tr><tr><th></th><th>Int64⍰</th><th>Int64⍰</th><th>String⍰</th><th>String⍰</th><th>String⍰</th><th>String⍰</th><th>Float64⍰</th><th>Float64⍰</th><th>Float64⍰</th><th>Int64⍰</th><th>Int64⍰</th><th>Float64</th><th>Float64</th></tr></thead><tbody><p>5 rows × 13 columns</p><tr><th>1</th><td>744910</td><td>14703</td><td>WESTOVER AFB/METROPOLITAN AIRPORT</td><td>US</td><td>MA</td><td>KCEF</td><td>42.2</td><td>-72.533</td><td>73.5</td><td>1941</td><td>2015</td><td>-8.07434e6</td><td>5.19099e6</td></tr><tr><th>2</th><td>725040</td><td>94702</td><td>IGOR I SIKORSKY MEMORIAL AIRPORT</td><td>US</td><td>CT</td><td>KBDR</td><td>41.158</td><td>-73.129</td><td>1.5</td><td>1942</td><td>2015</td><td>-8.14068e6</td><td>5.03567e6</td></tr><tr><th>3</th><td>725070</td><td>14765</td><td>THEODORE F GREEN STATE AIRPORT</td><td>US</td><td>RI</td><td>KPVD</td><td>41.722</td><td>-71.433</td><td>18.3</td><td>1942</td><td>2015</td><td>-7.95189e6</td><td>5.11943e6</td></tr><tr><th>4</th><td>725038</td><td>14714</td><td>STEWART INTERNATIONAL AIRPORT</td><td>US</td><td>NY</td><td>KSWF</td><td>41.5</td><td>-74.1</td><td>149.7</td><td>1942</td><td>2015</td><td>-8.24877e6</td><td>5.08637e6</td></tr><tr><th>5</th><td>725180</td><td>14735</td><td>ALBANY INTERNATIONAL AIRPORT</td><td>US</td><td>NY</td><td>KALB</td><td>42.743</td><td>-73.809</td><td>95.1</td><td>1946</td><td>2015</td><td>-8.21638e6</td><td>5.27294e6</td></tr></tbody></table>"
      ],
      "text/latex": [
       "\\begin{tabular}{r|ccccccccccccc}\n",
       "\t& USAF & WBAN & NAME & CTRY & STATE & ICAO & LAT & LON & ELEV & BEGIN & END & X\\_PRJ & Y\\_PRJ\\\\\n",
       "\t\\hline\n",
       "\t& Int64⍰ & Int64⍰ & String⍰ & String⍰ & String⍰ & String⍰ & Float64⍰ & Float64⍰ & Float64⍰ & Int64⍰ & Int64⍰ & Float64 & Float64\\\\\n",
       "\t\\hline\n",
       "\t1 & 744910 & 14703 & WESTOVER AFB/METROPOLITAN AIRPORT & US & MA & KCEF & 42.2 & -72.533 & 73.5 & 1941 & 2015 & -8.07434e6 & 5.19099e6 \\\\\n",
       "\t2 & 725040 & 94702 & IGOR I SIKORSKY MEMORIAL AIRPORT & US & CT & KBDR & 41.158 & -73.129 & 1.5 & 1942 & 2015 & -8.14068e6 & 5.03567e6 \\\\\n",
       "\t3 & 725070 & 14765 & THEODORE F GREEN STATE AIRPORT & US & RI & KPVD & 41.722 & -71.433 & 18.3 & 1942 & 2015 & -7.95189e6 & 5.11943e6 \\\\\n",
       "\t4 & 725038 & 14714 & STEWART INTERNATIONAL AIRPORT & US & NY & KSWF & 41.5 & -74.1 & 149.7 & 1942 & 2015 & -8.24877e6 & 5.08637e6 \\\\\n",
       "\t5 & 725180 & 14735 & ALBANY INTERNATIONAL AIRPORT & US & NY & KALB & 42.743 & -73.809 & 95.1 & 1946 & 2015 & -8.21638e6 & 5.27294e6 \\\\\n",
       "\\end{tabular}\n"
      ],
      "text/plain": [
       "5×13 DataFrames.DataFrame. Omitted printing of 9 columns\n",
       "│ Row │ USAF   │ WBAN   │ NAME                              │ CTRY    │\n",
       "│     │ \u001b[90mInt64⍰\u001b[39m │ \u001b[90mInt64⍰\u001b[39m │ \u001b[90mUnion{Missing, String}\u001b[39m            │ \u001b[90mString⍰\u001b[39m │\n",
       "├─────┼────────┼────────┼───────────────────────────────────┼─────────┤\n",
       "│ 1   │ 744910 │ 14703  │ WESTOVER AFB/METROPOLITAN AIRPORT │ US      │\n",
       "│ 2   │ 725040 │ 94702  │ IGOR I SIKORSKY MEMORIAL AIRPORT  │ US      │\n",
       "│ 3   │ 725070 │ 14765  │ THEODORE F GREEN STATE AIRPORT    │ US      │\n",
       "│ 4   │ 725038 │ 14714  │ STEWART INTERNATIONAL AIRPORT     │ US      │\n",
       "│ 5   │ 725180 │ 14735  │ ALBANY INTERNATIONAL AIRPORT      │ US      │"
      ]
     },
     "execution_count": 3,
     "metadata": {},
     "output_type": "execute_result"
    }
   ],
   "source": [
    "ICAO = \"KBDL\"\n",
    "GPmodel = \"matern\"\n",
    "data_dir= \"../data\"\n",
    "save_dir= \"../../saved\"\n",
    "k_nearest = 5\n",
    "crossval = true\n",
    "\n",
    "if GPmodel==\"fixed_var\"\n",
    "    k_spatiotemporal,logNoise = TempModel.fitted_sptemp_fixedvar()\n",
    "elseif GPmodel==\"free_var\"\n",
    "    k_spatiotemporal,logNoise = TempModel.fitted_sptemp_freevar()\n",
    "elseif GPmodel==\"sumprod\"\n",
    "    k_spatiotemporal,logNoise = TempModel.fitted_sptemp_sumprod()\n",
    "elseif GPmodel==\"SExSE\"\n",
    "    k_spatiotemporal,logNoise = TempModel.fitted_sptemp_SExSE()\n",
    "elseif GPmodel==\"diurnal\"\n",
    "    k_spatiotemporal,logNoise = TempModel.fitted_sptemp_diurnal()\n",
    "elseif GPmodel==\"simpler\"\n",
    "    k_spatiotemporal,logNoise = TempModel.fitted_sptemp_simpler()\n",
    "elseif GPmodel==\"matern\"\n",
    "    kdict = TempModel.kernel_sptemp_matern(;kmean=true)\n",
    "    k_spatiotemporal = kdict[:spatiotemporal]\n",
    "    logNoise = -1.0\n",
    "else\n",
    "    error(@sprintf(\"unknown model: %s\", GPmodel))\n",
    "end\n",
    "\n",
    "epsg = 3857 # Web Mercator (m)\n",
    "isdList = TempModel.read_isdList(; data_dir=data_dir, epsg=epsg)\n",
    "isd_wData = TempModel.stations_with_data(isdList; data_dir=data_dir)\n",
    "\n",
    "test_station = isd_wData[isd_wData[:ICAO].==ICAO, :]\n",
    "@assert nrow(test_station) == 1\n",
    "USAF = test_station[1, :USAF]\n",
    "WBAN = test_station[1, :WBAN]\n",
    "\n",
    "isd_nearest_and_test = TempModel.find_nearest(isd_wData, USAF, WBAN, k_nearest)\n",
    "isd_nearest = isd_nearest_and_test[2:end,:]"
   ]
  },
  {
   "cell_type": "code",
   "execution_count": 4,
   "metadata": {},
   "outputs": [
    {
     "data": {
      "text/plain": [
       "(57710, 10)"
      ]
     },
     "execution_count": 4,
     "metadata": {},
     "output_type": "execute_result"
    }
   ],
   "source": [
    "hourly_data = TempModel.read_Stations(isd_nearest; data_dir=data_dir)\n",
    "size(hourly_data)"
   ]
  },
  {
   "cell_type": "code",
   "execution_count": 5,
   "metadata": {},
   "outputs": [],
   "source": [
    "using TempModel: make_chunks_and_folds"
   ]
  },
  {
   "cell_type": "code",
   "execution_count": 6,
   "metadata": {},
   "outputs": [
    {
     "name": "stdout",
     "output_type": "stream",
     "text": [
      "creating GP chunks\n"
     ]
    }
   ],
   "source": [
    "reals, folds_reals = make_chunks_and_folds(k_spatiotemporal, logNoise, \n",
    "        isd_nearest_and_test, hourly_data; window=Day(5))\n",
    ";"
   ]
  },
  {
   "cell_type": "code",
   "execution_count": 7,
   "metadata": {},
   "outputs": [
    {
     "name": "stdout",
     "output_type": "stream",
     "text": [
      "[861, 695, 666, 679, 726, 961, 823, 858, 680, 875, 734, 710, 776, 700, 626, 738, 746, 772, 791, 965, 699, 744, 803, 594, 589, 716, 692, 803, 583, 752, 994, 681, 617, 889, 776, 812, 699, 857, 813, 743, 613, 867, 799, 775, 746, 911, 935, 949, 916, 800, 939, 935, 813, 1095, 985, 651, 1070, 698, 656, 691, 780, 840, 706, 696, 677, 615, 759, 947, 834, 770, 799, 1202, 1003]"
     ]
    }
   ],
   "source": [
    "print([r.nobs for r in reals.reals])"
   ]
  },
  {
   "cell_type": "code",
   "execution_count": 65,
   "metadata": {},
   "outputs": [
    {
     "name": "stdout",
     "output_type": "stream",
     "text": [
      "  0.789442 seconds (22 allocations: 29.703 KiB)\n"
     ]
    }
   ],
   "source": [
    "let\n",
    "    gp = reals.reals[end-1] # the biggest one\n",
    "    buffer = Matrix{Float64}(undef, gp.nobs, gp.nobs)\n",
    "    @time GaussianProcesses.update_mll_and_dmll!(gp, buffer; domean=false, kern=true, noise=true)\n",
    "end\n",
    ";"
   ]
  },
  {
   "cell_type": "code",
   "execution_count": 78,
   "metadata": {},
   "outputs": [
    {
     "name": "stdout",
     "output_type": "stream",
     "text": [
      "  1.954698 seconds (1.58 k allocations: 254.084 MiB, 9.04% gc time)\n"
     ]
    }
   ],
   "source": [
    "let\n",
    "    gp = reals.reals[end-1] # the biggest one\n",
    "    folds = folds_reals[end-1]\n",
    "    buffer = Matrix{Float64}(undef, gp.nobs, gp.nobs)\n",
    "    @time GaussianProcesses.dlogpdθ_CVfold(gp, folds; domean=false, kern=true, noise=true)\n",
    "end\n",
    ";"
   ]
  },
  {
   "cell_type": "code",
   "execution_count": 79,
   "metadata": {},
   "outputs": [],
   "source": [
    "using Profile\n",
    "Profile.clear()\n",
    "let\n",
    "    gp = reals.reals[end-1] # the biggest one\n",
    "    folds = folds_reals[end-1]\n",
    "    buffer = Matrix{Float64}(undef, gp.nobs, gp.nobs)\n",
    "    GaussianProcesses.dlogpdθ_CVfold(gp, folds; domean=false, kern=true, noise=true);\n",
    "    @profile GaussianProcesses.dlogpdθ_CVfold(gp, folds; domean=false, kern=true, noise=true);\n",
    "#     @profile GaussianProcesses.dlogpdθ_CVfold(gp, folds; domean=false, kern=true, noise=false);\n",
    "end\n",
    ";"
   ]
  },
  {
   "cell_type": "code",
   "execution_count": 80,
   "metadata": {
    "scrolled": true
   },
   "outputs": [
    {
     "name": "stdout",
     "output_type": "stream",
     "text": [
      "622 ./task.jl:259; (::getfield(IJulia, Symbol(\"##15#1...\n",
      " 622 ...4UizY/src/eventloop.jl:8; eventloop(::ZMQ.Socket)\n",
      "  622 ./essentials.jl:741; invokelatest\n",
      "   622 ./essentials.jl:742; #invokelatest#1\n",
      "    622 ...rc/execute_request.jl:67; execute_request(::ZMQ.Socket, ::I...\n",
      "     621 ...c/SoftGlobalScope.jl:218; softscope_include_string(::Modu...\n",
      "      621 ./boot.jl:328; eval\n",
      "       621 ./none:0; (::getfield(GaussianProcesses, ...\n",
      "        602 .../crossvalidation.jl:292; #dlogpdθ_CVfold#90(::Bool, ::B...\n",
      "         337 ...crossvalidation.jl:230; dlogpdθ_CVfold_kern!(::SubArr...\n",
      "          337 ...nels/sum_kernel.jl:64; grad_slice!\n",
      "         201 ...crossvalidation.jl:240; dlogpdθ_CVfold_kern!(::SubArr...\n",
      "          80 ./array.jl:308; gradient_fold\n",
      "          51 ...crossvalidation.jl:203; gradient_fold\n"
     ]
    }
   ],
   "source": [
    "Profile.print(maxdepth=10, mincount=50)"
   ]
  },
  {
   "cell_type": "code",
   "execution_count": 24,
   "metadata": {
    "scrolled": true
   },
   "outputs": [
    {
     "name": "stdout",
     "output_type": "stream",
     "text": [
      "563 ./task.jl:259; (::getfield(IJulia, Symbol(\"##15#1...\n",
      " 563 ...4UizY/src/eventloop.jl:8; eventloop(::ZMQ.Socket)\n",
      "  563 ./essentials.jl:741; invokelatest\n",
      "   563 ./essentials.jl:742; #invokelatest#1\n",
      "    563 ...rc/execute_request.jl:67; execute_request(::ZMQ.Socket, ::I...\n",
      "     563 ...c/SoftGlobalScope.jl:218; softscope_include_string(::Modu...\n",
      "      563 ./boot.jl:328; eval\n",
      "       563 ./none:0; (::getfield(GaussianProcesses, ...\n",
      "        549 .../crossvalidation.jl:293; #dlogpdθ_CVfold#85(::Bool, ::B...\n",
      "         227 ...crossvalidation.jl:217; dlogpdθ_CVfold_kern!(::SubArr...\n",
      "          227 ...nels/sum_kernel.jl:64; grad_slice!\n",
      "         132 ...crossvalidation.jl:237; dlogpdθ_CVfold_kern!(::SubArr...\n",
      "          132 ...Kouno/src/pdmat.jl:48; inv(::PDMats.PDMat{Float64,Ar...\n",
      "         68  ...nels/sum_kernel.jl:66; dlogpdθ_CVfold_kern!(::SubArr...\n",
      "          52 ...kernels/kernels.jl:117; grad_slice!(::Array{Float64,2...\n"
     ]
    }
   ],
   "source": [
    "Profile.print(maxdepth=10, mincount=50)"
   ]
  },
  {
   "cell_type": "markdown",
   "metadata": {},
   "source": [
    "So cross-validation is about 5 times slower than marginal likelihood.\n",
    "Not exactly the end of the world, but annoying nonetheless.\n",
    "What's annoying is that half of that time (1080/2241, or is it (1080+848)/2241?) is spent computing computing the gradients of the covariance matrix, which is also done by `update_mll_and_dmll!`.\n",
    "The difference is that `update_mll_and_dmll!` does so online, while for cross-validation it's stored in a buffer matrix. It's also where all the memory allocations occur.\n",
    "This is infuriating, why is so much memory being allocated?"
   ]
  },
  {
   "cell_type": "code",
   "execution_count": 12,
   "metadata": {},
   "outputs": [
    {
     "name": "stdout",
     "output_type": "stream",
     "text": [
      "  0.056489 seconds (178 allocations: 11.453 KiB)\n",
      "  0.038927 seconds\n",
      "  0.038929 seconds\n",
      "  0.039076 seconds\n",
      "  0.038072 seconds\n",
      "  0.043813 seconds\n",
      "  0.034331 seconds\n",
      "  0.040935 seconds\n",
      "  0.034591 seconds\n",
      "  0.041859 seconds\n",
      "  0.034664 seconds\n",
      "  0.042651 seconds\n",
      "  0.035812 seconds\n",
      "  0.046988 seconds\n",
      "  0.037097 seconds\n",
      "  0.614490 seconds (3.47 k allocations: 136.594 KiB)\n"
     ]
    }
   ],
   "source": [
    "let\n",
    "    gp = reals.reals[end-1] # the biggest one\n",
    "    folds = folds_reals[end-1]\n",
    "    buffer = Matrix{Float64}(undef, gp.nobs, gp.nobs)\n",
    "    @time for j in 1:GaussianProcesses.num_params(gp.kernel)\n",
    "        @time GaussianProcesses.grad_slice!(buffer, gp.kernel, gp.x, gp.data, j)\n",
    "    end\n",
    "end"
   ]
  },
  {
   "cell_type": "code",
   "execution_count": 86,
   "metadata": {},
   "outputs": [
    {
     "name": "stdout",
     "output_type": "stream",
     "text": [
      "creating GP chunks\n",
      "begin optimization\n"
     ]
    },
    {
     "ename": "InterruptException",
     "evalue": "InterruptException:",
     "output_type": "error",
     "traceback": [
      "InterruptException:",
      "",
      "Stacktrace:",
      " [1] (::getfield(TempModel, Symbol(\"#mll_and_dmll!#8\")){Bool,Bool,Bool,TempModel.GPRealisations,Dict{Int64,Array{T,2} where T}})(::Array{Float64,1}, ::Array{Float64,1}) at /Users/imolk/Documents/Harvard/Natesh/TempModel/src/GPrealisations.jl:132",
      " [2] value_gradient!!(::NLSolversBase.OnceDifferentiable{Float64,Array{Float64,1},Array{Float64,1}}, ::Array{Float64,1}) at /Users/imolk/Library/Julia/alternative_depots/climate/packages/NLSolversBase/KG9Ie/src/interface.jl:82",
      " [3] value_gradient!(::NLSolversBase.OnceDifferentiable{Float64,Array{Float64,1},Array{Float64,1}}, ::Array{Float64,1}) at /Users/imolk/Library/Julia/alternative_depots/climate/packages/NLSolversBase/KG9Ie/src/interface.jl:69",
      " [4] value_gradient!(::Optim.ManifoldObjective{NLSolversBase.OnceDifferentiable{Float64,Array{Float64,1},Array{Float64,1}}}, ::Array{Float64,1}) at /Users/imolk/Library/Julia/alternative_depots/climate/packages/Optim/ULNLZ/src/Manifolds.jl:50",
      " [5] (::getfield(LineSearches, Symbol(\"#ϕdϕ#6\")){Optim.ManifoldObjective{NLSolversBase.OnceDifferentiable{Float64,Array{Float64,1},Array{Float64,1}}},Array{Float64,1},Array{Float64,1},Array{Float64,1}})(::Float64) at /Users/imolk/Library/Julia/alternative_depots/climate/packages/LineSearches/WrsMD/src/LineSearches.jl:84",
      " [6] secant2!(::getfield(LineSearches, Symbol(\"#ϕdϕ#6\")){Optim.ManifoldObjective{NLSolversBase.OnceDifferentiable{Float64,Array{Float64,1},Array{Float64,1}}},Array{Float64,1},Array{Float64,1},Array{Float64,1}}, ::Array{Float64,1}, ::Array{Float64,1}, ::Array{Float64,1}, ::Int64, ::Int64, ::Float64, ::Float64, ::Float64, ::Int64) at /Users/imolk/Library/Julia/alternative_depots/climate/packages/LineSearches/WrsMD/src/hagerzhang.jl:403",
      " [7] (::LineSearches.HagerZhang{Float64,Base.RefValue{Bool}})(::Function, ::getfield(LineSearches, Symbol(\"#ϕdϕ#6\")){Optim.ManifoldObjective{NLSolversBase.OnceDifferentiable{Float64,Array{Float64,1},Array{Float64,1}}},Array{Float64,1},Array{Float64,1},Array{Float64,1}}, ::Float64, ::Float64, ::Float64) at /Users/imolk/Library/Julia/alternative_depots/climate/packages/LineSearches/WrsMD/src/hagerzhang.jl:270",
      " [8] HagerZhang at /Users/imolk/Library/Julia/alternative_depots/climate/packages/LineSearches/WrsMD/src/hagerzhang.jl:101 [inlined]",
      " [9] perform_linesearch!(::Optim.ConjugateGradientState{Array{Float64,1},Float64,Array{Float64,1}}, ::Optim.ConjugateGradient{Float64,Nothing,getfield(Optim, Symbol(\"##33#35\")),LineSearches.InitialHagerZhang{Float64},LineSearches.HagerZhang{Float64,Base.RefValue{Bool}}}, ::Optim.ManifoldObjective{NLSolversBase.OnceDifferentiable{Float64,Array{Float64,1},Array{Float64,1}}}) at /Users/imolk/Library/Julia/alternative_depots/climate/packages/Optim/ULNLZ/src/utilities/perform_linesearch.jl:40",
      " [10] update_state!(::NLSolversBase.OnceDifferentiable{Float64,Array{Float64,1},Array{Float64,1}}, ::Optim.ConjugateGradientState{Array{Float64,1},Float64,Array{Float64,1}}, ::Optim.ConjugateGradient{Float64,Nothing,getfield(Optim, Symbol(\"##33#35\")),LineSearches.InitialHagerZhang{Float64},LineSearches.HagerZhang{Float64,Base.RefValue{Bool}}}) at /Users/imolk/Library/Julia/alternative_depots/climate/packages/Optim/ULNLZ/src/multivariate/solvers/first_order/cg.jl:155",
      " [11] optimize(::NLSolversBase.OnceDifferentiable{Float64,Array{Float64,1},Array{Float64,1}}, ::Array{Float64,1}, ::Optim.ConjugateGradient{Float64,Nothing,getfield(Optim, Symbol(\"##33#35\")),LineSearches.InitialHagerZhang{Float64},LineSearches.HagerZhang{Float64,Base.RefValue{Bool}}}, ::Optim.Options{Float64,Nothing}, ::Optim.ConjugateGradientState{Array{Float64,1},Float64,Array{Float64,1}}) at /Users/imolk/Library/Julia/alternative_depots/climate/packages/Optim/ULNLZ/src/multivariate/optimize/optimize.jl:57",
      " [12] optimize at /Users/imolk/Library/Julia/alternative_depots/climate/packages/Optim/ULNLZ/src/multivariate/optimize/optimize.jl:33 [inlined]",
      " [13] #optimize!#10(::Bool, ::Bool, ::Bool, ::Optim.ConjugateGradient{Float64,Nothing,getfield(Optim, Symbol(\"##33#35\")),LineSearches.InitialHagerZhang{Float64},LineSearches.HagerZhang{Float64,Base.RefValue{Bool}}}, ::Optim.Options{Float64,Nothing}, ::Function, ::TempModel.GPRealisations) at /Users/imolk/Documents/Harvard/Natesh/TempModel/src/GPrealisations.jl:148",
      " [14] #optimize! at ./none:0 [inlined]",
      " [15] #optim_kernel#69(::Day, ::Float64, ::Float64, ::Function, ::SumKernel{SumKernel{SumKernel{SumKernel{ProdKernel{Masked{FixedKernel{Periodic{Float64},2},1},Masked{FixedKernel{Mat32Iso{Float64},1},2}},ProdKernel{Masked{RQIso{Float64},1},Masked{FixedKernel{Mat32Iso{Float64},1},2}}},ProdKernel{Masked{RQIso{Float64},1},Masked{FixedKernel{Mat32Iso{Float64},1},2}}},ProdKernel{Masked{RQIso{Float64},1},Masked{FixedKernel{Mat32Iso{Float64},1},2}}},FixedKernel{Masked{SEIso{Float64},2},0}}, ::Float64, ::DataFrames.DataFrame, ::DataFrames.DataFrame, ::Symbol) at /Users/imolk/Documents/Harvard/Natesh/TempModel/src/covariance.jl:56",
      " [16] (::getfield(TempModel, Symbol(\"#kw##optim_kernel\")))(::NamedTuple{(:window, :x_tol, :f_tol),Tuple{Day,Float64,Float64}}, ::typeof(TempModel.optim_kernel), ::SumKernel{SumKernel{SumKernel{SumKernel{ProdKernel{Masked{FixedKernel{Periodic{Float64},2},1},Masked{FixedKernel{Mat32Iso{Float64},1},2}},ProdKernel{Masked{RQIso{Float64},1},Masked{FixedKernel{Mat32Iso{Float64},1},2}}},ProdKernel{Masked{RQIso{Float64},1},Masked{FixedKernel{Mat32Iso{Float64},1},2}}},ProdKernel{Masked{RQIso{Float64},1},Masked{FixedKernel{Mat32Iso{Float64},1},2}}},FixedKernel{Masked{SEIso{Float64},2},0}}, ::Float64, ::DataFrames.DataFrame, ::DataFrames.DataFrame, ::Symbol) at ./none:0",
      " [17] top-level scope at util.jl:156",
      " [18] top-level scope at In[86]:1"
     ]
    }
   ],
   "source": [
    "@time opt_out = TempModel.optim_kernel(k_spatiotemporal, logNoise, isd_nearest, hourly_data, :Optim; \n",
    "                        window=Day(8), x_tol=1e-4, f_tol=1e-4);\n",
    ";"
   ]
  },
  {
   "cell_type": "code",
   "execution_count": null,
   "metadata": {},
   "outputs": [],
   "source": []
  }
 ],
 "metadata": {
  "hide_input": false,
  "kernelspec": {
   "display_name": "Julia 1.1 Climate",
   "language": "julia",
   "name": "julia-climate"
  },
  "language_info": {
   "file_extension": ".jl",
   "mimetype": "application/julia",
   "name": "julia",
   "version": "1.1.0"
  },
  "toc": {
   "nav_menu": {},
   "number_sections": true,
   "sideBar": true,
   "skip_h1_title": false,
   "title_cell": "Table of Contents",
   "title_sidebar": "Contents",
   "toc_cell": false,
   "toc_position": {},
   "toc_section_display": true,
   "toc_window_display": true
  }
 },
 "nbformat": 4,
 "nbformat_minor": 2
}
