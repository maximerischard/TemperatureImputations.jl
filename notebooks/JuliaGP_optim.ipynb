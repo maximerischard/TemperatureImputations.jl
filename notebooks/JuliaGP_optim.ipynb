{
 "cells": [
  {
   "cell_type": "markdown",
   "metadata": {
    "toc": "true"
   },
   "source": [
    "# Table of Contents\n",
    " <p><div class=\"lev1 toc-item\"><a href=\"#Preparations\" data-toc-modified-id=\"Preparations-1\"><span class=\"toc-item-num\">1&nbsp;&nbsp;</span>Preparations</a></div><div class=\"lev1 toc-item\"><a href=\"#Checking-derivatives\" data-toc-modified-id=\"Checking-derivatives-2\"><span class=\"toc-item-num\">2&nbsp;&nbsp;</span>Checking derivatives</a></div><div class=\"lev1 toc-item\"><a href=\"#Optimization\" data-toc-modified-id=\"Optimization-3\"><span class=\"toc-item-num\">3&nbsp;&nbsp;</span>Optimization</a></div><div class=\"lev2 toc-item\"><a href=\"#first-400-points\" data-toc-modified-id=\"first-400-points-3.1\"><span class=\"toc-item-num\">3.1&nbsp;&nbsp;</span>first 400 points</a></div><div class=\"lev2 toc-item\"><a href=\"#increasing-size-of-data\" data-toc-modified-id=\"increasing-size-of-data-3.2\"><span class=\"toc-item-num\">3.2&nbsp;&nbsp;</span>increasing size of data</a></div><div class=\"lev2 toc-item\"><a href=\"#Full-data\" data-toc-modified-id=\"Full-data-3.3\"><span class=\"toc-item-num\">3.3&nbsp;&nbsp;</span>Full data</a></div>"
   ]
  },
  {
   "cell_type": "markdown",
   "metadata": {},
   "source": [
    "# Preparations"
   ]
  },
  {
   "cell_type": "code",
   "execution_count": 1,
   "metadata": {
    "collapsed": false
   },
   "outputs": [],
   "source": [
    "using TimeSeries\n",
    "using DataFrames\n",
    "using GaussianProcesses\n",
    "using GaussianProcesses: num_params, set_params!, get_params, grad_stack\n",
    "using GaussianProcesses: grad_stack!, update_mll!, update_mll_and_dmll!\n",
    "using GaussianProcesses: optimize!, get_optim_target\n",
    "using Optim\n",
    ";"
   ]
  },
  {
   "cell_type": "code",
   "execution_count": 2,
   "metadata": {
    "collapsed": true
   },
   "outputs": [],
   "source": [
    "import PyPlot; plt=PyPlot\n",
    "using LaTeXStrings\n",
    "plt.rc(\"figure\", dpi=300.0)\n",
    "# plt.rc(\"figure\", figsize=(6,4))\n",
    "plt.rc(\"figure\", autolayout=true)\n",
    "plt.rc(\"savefig\", dpi=300.0)\n",
    "plt.rc(\"text\", usetex=true)\n",
    "plt.rc(\"font\", family=\"serif\")\n",
    "plt.rc(\"font\", serif=\"Palatino\")\n",
    ";"
   ]
  },
  {
   "cell_type": "code",
   "execution_count": 3,
   "metadata": {
    "collapsed": false
   },
   "outputs": [
    {
     "data": {
      "text/plain": [
       "10-element Array{DateTime,1}:\n",
       " 2015-01-01T00:52:00\n",
       " 2015-01-01T01:52:00\n",
       " 2015-01-01T02:52:00\n",
       " 2015-01-01T03:52:00\n",
       " 2015-01-01T04:52:00\n",
       " 2015-01-01T05:52:00\n",
       " 2015-01-01T06:52:00\n",
       " 2015-01-01T07:52:00\n",
       " 2015-01-01T08:52:00\n",
       " 2015-01-01T09:52:00"
      ]
     },
     "execution_count": 3,
     "metadata": {},
     "output_type": "execute_result"
    }
   ],
   "source": [
    "station_data = readtable(\"data2015/725450.14990.processed.2015.2015.csv\", \n",
    "    header=false,\n",
    "    names=[:year, :month, :day, :hour, :min, :seconds, :temp])\n",
    "station_data = station_data[!isnan(station_data[:temp]),:]    \n",
    "station_ts = DateTime[DateTime(r[:year], r[:month], r[:day], r[:hour], r[:min], r[:seconds]) for r in eachrow(station_data)]\n",
    "station_ts[1:10]"
   ]
  },
  {
   "cell_type": "code",
   "execution_count": 4,
   "metadata": {
    "collapsed": false
   },
   "outputs": [],
   "source": [
    "k0 = Noise(0.0)\n",
    "k1 = FixedPeriodic(log(0.5), log(√(10.0)), log(24.0))\n",
    "k2 = RQIso(log(0.1*24), log(√10.0), 3.0) # short term\n",
    "k3 = RQIso(log(3.0*24), log(√20.0), 3.0)\n",
    "k4 = RQIso(log(10.0*24), log(√20.0), 3.0)\n",
    "k5 = SE(log(200.0*24), log(√80.0))\n",
    "_k=k0+k1+k2+k3+k4+k5\n",
    "_k_nonoise=k1+k2+k3+k4+k5\n",
    "_logNoise=log(k0.σ2)/2.0\n",
    "hyp=[-0.359207,0.36883,1.45171,2.0342,1.17682,2.88579,4.28659,1.49533,-0.16544,6.81425,1.3045,3.49925,7.34764,2.16028]\n",
    "set_params!(_k, hyp)"
   ]
  },
  {
   "cell_type": "code",
   "execution_count": 5,
   "metadata": {
    "collapsed": false
   },
   "outputs": [],
   "source": [
    "ms_per_hour = 1e3*3600\n",
    "ts_vec = convert(Vector{Float64}, station_ts.-station_ts[1]) / ms_per_hour\n",
    "ts_arr = reshape(ts_vec, (1,length(ts_vec)));"
   ]
  },
  {
   "cell_type": "code",
   "execution_count": 6,
   "metadata": {
    "collapsed": false
   },
   "outputs": [],
   "source": [
    "mean_func = MeanConst(mean(station_data[:temp]))\n",
    "temp_vec = convert(Vector{Float64}, station_data[:temp])\n",
    ";"
   ]
  },
  {
   "cell_type": "code",
   "execution_count": 7,
   "metadata": {
    "collapsed": false
   },
   "outputs": [],
   "source": [
    "gp_small = GP(ts_arr[1:300], temp_vec[1:300], mean_func, _k_nonoise, _logNoise);"
   ]
  },
  {
   "cell_type": "code",
   "execution_count": 8,
   "metadata": {
    "collapsed": false
   },
   "outputs": [
    {
     "data": {
      "text/plain": [
       "(11118,)"
      ]
     },
     "execution_count": 8,
     "metadata": {},
     "output_type": "execute_result"
    }
   ],
   "source": [
    "size(temp_vec)"
   ]
  },
  {
   "cell_type": "markdown",
   "metadata": {},
   "source": [
    "# Checking derivatives"
   ]
  },
  {
   "cell_type": "code",
   "execution_count": 10,
   "metadata": {
    "collapsed": true
   },
   "outputs": [],
   "source": [
    "using Calculus"
   ]
  },
  {
   "cell_type": "code",
   "execution_count": 29,
   "metadata": {
    "collapsed": false
   },
   "outputs": [
    {
     "name": "stderr",
     "output_type": "stream",
     "text": [
      "WARNING: Method definition check_derivs(Optim.DifferentiableFunction, Array{Float64, 1}) in module Main at In[17]:2 overwritten at In[29]:2.\n",
      "WARNING: Method definition #check_derivs(Array{Any, 1}, Main.#check_derivs, Optim.DifferentiableFunction, Array{Float64, 1}) in module Main overwritten.\n"
     ]
    },
    {
     "data": {
      "text/plain": [
       "check_derivs (generic function with 1 method)"
      ]
     },
     "execution_count": 29,
     "metadata": {},
     "output_type": "execute_result"
    }
   ],
   "source": [
    "function check_derivs(func::Optim.DifferentiableFunction, x::Vector{Float64}; kwargs...)\n",
    "    g2 = Calculus.gradient(func.f)\n",
    "    analytical_g = copy(x)\n",
    "    f0 = func.fg!(x, analytical_g)\n",
    "    numerical_g = g2(x)\n",
    "    func.f(x)\n",
    "    for i in eachindex(numerical_g)\n",
    "        @assert isapprox(analytical_g[i], numerical_g[i]; kwargs...)\n",
    "    end\n",
    "    return analytical_g, numerical_g\n",
    "end"
   ]
  },
  {
   "cell_type": "code",
   "execution_count": 37,
   "metadata": {
    "collapsed": false
   },
   "outputs": [
    {
     "data": {
      "text/plain": [
       "15-element Array{Tuple{Float64,Float64},1}:\n",
       " (137.926,137.926)      \n",
       " (0.189556,0.189556)    \n",
       " (-5.31039,-5.31039)    \n",
       " (2.14295,2.14295)      \n",
       " (52.9203,52.9203)      \n",
       " (-27.9177,-27.9177)    \n",
       " (1.76545,1.76545)      \n",
       " (3.6865,3.6865)        \n",
       " (-5.34278,-5.34278)    \n",
       " (-0.328318,-0.328318)  \n",
       " (0.0184481,0.0184481)  \n",
       " (-0.387984,-0.387985)  \n",
       " (1.99855e-6,2.04281e-6)\n",
       " (0.0348054,0.0348054)  \n",
       " (-2.08182,-2.08182)    "
      ]
     },
     "execution_count": 37,
     "metadata": {},
     "output_type": "execute_result"
    }
   ],
   "source": [
    "anal, numer = check_derivs(get_optim_target(gp_small), get_params(gp_small), \n",
    "                            rtol=1e-3, atol=1e-3)\n",
    "collect(zip(anal, numer))"
   ]
  },
  {
   "cell_type": "code",
   "execution_count": 38,
   "metadata": {
    "collapsed": false
   },
   "outputs": [
    {
     "data": {
      "text/plain": [
       "443.57244271244116"
      ]
     },
     "execution_count": 38,
     "metadata": {},
     "output_type": "execute_result"
    }
   ],
   "source": [
    "get_optim_target(gp_small).fg!(get_params(gp_small), copy(get_params(gp_small)))"
   ]
  },
  {
   "cell_type": "code",
   "execution_count": 39,
   "metadata": {
    "collapsed": false
   },
   "outputs": [
    {
     "data": {
      "text/plain": [
       "15-element Array{Float64,1}:\n",
       " -137.926     \n",
       "   -0.189556  \n",
       "    5.31039   \n",
       "   -2.14295   \n",
       "  -52.9203    \n",
       "   27.9177    \n",
       "   -1.76545   \n",
       "   -3.6865    \n",
       "    5.34278   \n",
       "    0.328318  \n",
       "   -0.0184481 \n",
       "    0.387984  \n",
       "   -1.99855e-6\n",
       "   -0.0348054 \n",
       "    2.08182   "
      ]
     },
     "execution_count": 39,
     "metadata": {},
     "output_type": "execute_result"
    }
   ],
   "source": [
    "gp_small.dmLL"
   ]
  },
  {
   "cell_type": "code",
   "execution_count": 40,
   "metadata": {
    "collapsed": false
   },
   "outputs": [
    {
     "data": {
      "text/plain": [
       "15-element Array{Symbol,1}:\n",
       " :mean  \n",
       " :kern  \n",
       " :sk1_ll\n",
       " :sk1_lσ\n",
       " :sk2_ll\n",
       " :sk2_lσ\n",
       " :sk2_lα\n",
       " :sk3_ll\n",
       " :sk3_lσ\n",
       " :sk3_lα\n",
       " :sk4_ll\n",
       " :sk4_lσ\n",
       " :sk4_lα\n",
       " :sk5_ll\n",
       " :sk5_lσ"
      ]
     },
     "execution_count": 40,
     "metadata": {},
     "output_type": "execute_result"
    }
   ],
   "source": [
    "[[:mean, :kern]; GaussianProcesses.get_param_names(gp_small.k)]"
   ]
  },
  {
   "cell_type": "markdown",
   "metadata": {},
   "source": [
    "# Optimization"
   ]
  },
  {
   "cell_type": "code",
   "execution_count": 41,
   "metadata": {
    "collapsed": false
   },
   "outputs": [
    {
     "data": {
      "text/plain": [
       "Optim.OptimizationOptions{Void}(0.001,0.1,1.0e-8,10,false,false,false,false,1,nothing)"
      ]
     },
     "execution_count": 41,
     "metadata": {},
     "output_type": "execute_result"
    }
   ],
   "source": [
    "optoptions = OptimizationOptions(x_tol=1e-3, f_tol=0.1, iterations=10)"
   ]
  },
  {
   "cell_type": "markdown",
   "metadata": {},
   "source": [
    "## first 400 points"
   ]
  },
  {
   "cell_type": "code",
   "execution_count": 43,
   "metadata": {
    "collapsed": false,
    "scrolled": true
   },
   "outputs": [
    {
     "name": "stdout",
     "output_type": "stream",
     "text": [
      "New linesearch\n",
      "bracketing: ia = 1, ib = 2, c = 0.2, phic = 36933.028826314134, dphic = 832600.5743543695\n",
      "linesearch: ia = 1, ib = 2, a = 0.0, b = 0.2, phi(a) = 283.192506385976, phi(b) = 36933.028826314134\n",
      "secant2: a = 0.0, b = 0.2, c = 5.749133980817787e-5\n",
      "update: ia = 1, a = 0.0, ib = 2, b = 0.2, c = 5.749133980817787e-5, phic = 283.17889120883297, dphic = -234.23586402806032\n",
      "secant2: iA = 3, iB = 2, ic = 3\n",
      "secant2: second c = 0.0026624547026988985\n",
      "secant2: second c satisfied Wolfe conditions\n",
      "New linesearch\n",
      "Wolfe condition satisfied on point alpha = 0.03660635887923911\n",
      "New linesearch\n",
      "Wolfe condition satisfied on point alpha = 0.005518043484628428\n",
      "New linesearch\n",
      "Wolfe condition satisfied on point alpha = 0.06123339555450636\n",
      "New linesearch\n",
      "bracketing: ia = 1, ib = 2, c = 0.012246679110901272, phic = 286.3384748689016, dphic = 6468.7599328589295\n",
      "linesearch: ia = 1, ib = 2, a = 0.0, b = 0.012246679110901272, phi(a) = 269.68817065429494, phi(b) = 286.3384748689016\n",
      "secant2: a = 0.0, b = 0.012246679110901272, c = 0.0030187093249687304\n",
      "secant2: first c satisfied Wolfe conditions\n",
      "New linesearch\n",
      "Wolfe condition satisfied on point alpha = 0.0033650126729092406\n",
      "New linesearch\n",
      "Wolfe condition satisfied on point alpha = 0.013391322900076639\n",
      "New linesearch\n",
      "Wolfe condition satisfied on point alpha = 0.014126678898408285\n",
      "New linesearch\n",
      "Wolfe condition satisfied on point alpha = 0.021800770503970706\n",
      "New linesearch\n",
      "Wolfe condition satisfied on point alpha = 0.0036340402941583026\n",
      "New linesearch\n",
      "Wolfe condition satisfied on point alpha = 0.0063038705479163525\n",
      "New linesearch\n",
      "Wolfe condition satisfied on point alpha = 0.019756558779462405\n",
      "New linesearch\n",
      "Wolfe condition satisfied on point alpha = 0.007827246082009484\n",
      "New linesearch\n",
      "Wolfe condition satisfied on point alpha = 0.008633495389963884\n",
      "New linesearch\n",
      "Wolfe condition satisfied on point alpha = 0.011866812764103118\n",
      "New linesearch\n",
      "Wolfe condition satisfied on point alpha = 0.06036939755038373\n",
      "New linesearch\n",
      "Wolfe condition satisfied on point alpha = 0.017055529966311374\n",
      "New linesearch\n",
      "Wolfe condition satisfied on point alpha = 0.013876534197089917\n",
      "New linesearch\n",
      "Wolfe condition satisfied on point alpha = 0.0077787969497115726\n",
      "New linesearch\n",
      "Wolfe condition satisfied on point alpha = 0.021074293175013217\n",
      "New linesearch\n",
      "Wolfe condition satisfied on point alpha = 0.01667382208859422\n",
      "New linesearch\n",
      "Wolfe condition satisfied on point alpha = 0.006963381056495818\n",
      "New linesearch\n",
      "Wolfe condition satisfied on point alpha = 0.004894468037829978\n",
      "  3.627485 seconds (131.42 k allocations: 7.554 MB)\n"
     ]
    }
   ],
   "source": [
    "@time opt_out=optimize!(gp_small, x_tol=1e-3, f_tol=1e-4);"
   ]
  },
  {
   "cell_type": "code",
   "execution_count": 44,
   "metadata": {
    "collapsed": false,
    "scrolled": true
   },
   "outputs": [
    {
     "data": {
      "text/plain": [
       "Results of Optimization Algorithm\n",
       " * Algorithm: Conjugate Gradient\n",
       " * Starting Point: [-1.0076160023244338,9.714625030066108, ...]\n",
       " * Minimizer: [-1.613527401190906,9.542854100541549, ...]\n",
       " * Minimum: 2.597910e+02\n",
       " * Iterations: 23\n",
       " * Convergence: true\n",
       "   * |x - x'| < 1.0e-03: false\n",
       "   * |f(x) - f(x')| / |f(x)| < 1.0e-04: true\n",
       "   * |g(x)| < 1.0e-08: false\n",
       "   * Reached Maximum Number of Iterations: false\n",
       " * Objective Function Calls: 73\n",
       " * Gradient Calls: 50"
      ]
     },
     "execution_count": 44,
     "metadata": {},
     "output_type": "execute_result"
    }
   ],
   "source": [
    "opt_out"
   ]
  },
  {
   "cell_type": "markdown",
   "metadata": {},
   "source": [
    "## increasing size of data"
   ]
  },
  {
   "cell_type": "code",
   "execution_count": 45,
   "metadata": {
    "collapsed": false,
    "scrolled": true
   },
   "outputs": [
    {
     "name": "stdout",
     "output_type": "stream",
     "text": [
      "  0.187088 seconds (11.12 k allocations: 30.883 MB, 5.28% gc time)\n",
      "Iter     Function value   Gradient norm \n",
      "     0     9.306860e+02     2.839599e+01\n",
      "New linesearch\n",
      "bracketing: ia = 1, ib = 2, c = 0.2, phic = 3004.547524174712, dphic = 31253.50442665807\n",
      "linesearch: ia = 1, ib = 2, a = 0.0, b = 0.2, phi(a) = 930.6859746947298, phi(b) = 3004.547524174712\n",
      "secant2: a = 0.0, b = 0.2, c = 0.01204580605790209\n",
      "update: ia = 1, a = 0.0, ib = 2, b = 0.2, c = 0.01204580605790209, phic = 931.8734762431313, dphic = 2230.625229772278\n",
      "secant2: iA = 1, iB = 3, ic = 3\n",
      "secant2 output: a = 0.0, b = 0.01204580605790209\n",
      "Linesearch: secant succeeded\n",
      "linesearch: ia = 1, ib = 3, a = 0.0, b = 0.01204580605790209, phi(a) = 930.6859746947298, phi(b) = 931.8734762431313\n",
      "secant2: a = 0.0, b = 0.01204580605790209, c = 0.005699086617921417\n",
      "secant2: first c satisfied Wolfe conditions\n",
      "     1     9.249948e+02     3.615320e+01\n",
      "New linesearch\n",
      "Wolfe condition satisfied on point alpha = 0.0010863995250350394\n",
      "     2     9.232785e+02     1.441058e+01\n",
      "New linesearch\n",
      "Wolfe condition satisfied on point alpha = 0.002426040888647496\n",
      "     3     9.228397e+02     8.026055e+00\n",
      "New linesearch\n",
      "Wolfe condition satisfied on point alpha = 0.005408734036695917\n",
      "     4     9.225815e+02     3.903595e+00\n",
      "New linesearch\n",
      "Wolfe condition satisfied on point alpha = 0.002831983038018547\n",
      "     5     9.225057e+02     6.486678e+00\n",
      "  9.826515 seconds (242.75 k allocations: 24.273 MB, 0.08% gc time)\n",
      "Results of Optimization Algorithm\n",
      " * Algorithm: Conjugate Gradient\n",
      " * Starting Point: [-1.613527401190906,9.542854100541549, ...]\n",
      " * Minimizer: [-1.5970312063851662,9.542469454250549, ...]\n",
      " * Minimum: 9.225057e+02\n",
      " * Iterations: 5\n",
      " * Convergence: true\n",
      "   * |x - x'| < 1.0e-03: false\n",
      "   * |f(x) - f(x')| / |f(x)| < 1.0e-04: true\n",
      "   * |g(x)| < 1.0e-08: false\n",
      "   * Reached Maximum Number of Iterations: false\n",
      " * Objective Function Calls: 18\n",
      " * Gradient Calls: 13\n",
      "[-1.59703,9.54247,0.747535,1.72566,-1.06898,-1.16645,1.33268,3.02405,2.63521,-3.9521,6.78026,1.43355,3.49925,7.08738,3.18191]\n"
     ]
    }
   ],
   "source": [
    "begin;\n",
    "    @time gp = GP(ts_arr[1:1000], temp_vec[1:1000], mean_func, _k_nonoise, _logNoise)\n",
    "    set_params!(gp, get_params(gp_small))\n",
    "    @time opt_out=optimize!(gp, iterations=10, show_trace=true, \n",
    "        method=ConjugateGradient(eta=0.05), x_tol=1e-3, f_tol=1e-4);\n",
    "    print(opt_out)\n",
    "    print(\"\\n\")\n",
    "    println(opt_out.minimum)\n",
    "    set_params!(gp_small, get_params(gp))\n",
    "    global opt_out_1000 = opt_out.minimum\n",
    "end;"
   ]
  },
  {
   "cell_type": "code",
   "execution_count": 46,
   "metadata": {
    "collapsed": false
   },
   "outputs": [
    {
     "name": "stdout",
     "output_type": "stream",
     "text": [
      "  0.909559 seconds (24.12 k allocations: 122.825 MB, 16.98% gc time)\n",
      "Iter     Function value   Gradient norm \n",
      "     0     2.017539e+03     1.118135e+02\n",
      "New linesearch\n",
      "bracketing: ia = 1, ib = 2, c = 0.2, phic = 43369.19817026393, dphic = 223626.91240996215\n",
      "linesearch: ia = 1, ib = 2, a = 0.0, b = 0.2, phi(a) = 2017.5386668189312, phi(b) = 43369.19817026393\n",
      "secant2: a = 0.0, b = 0.2, c = 0.015926756280150188\n",
      "update: ia = 1, a = 0.0, ib = 2, b = 0.2, c = 0.015926756280150188, phic = 3836.61187350376, dphic = 175736.09783045662\n",
      "secant2: iA = 1, iB = 3, ic = 3\n",
      "secant2 output: a = 0.0, b = 0.015926756280150188\n",
      "Linesearch: secant succeeded\n",
      "linesearch: ia = 1, ib = 3, a = 0.0, b = 0.015926756280150188, phi(a) = 2017.5386668189312, phi(b) = 3836.61187350376\n",
      "secant2: a = 0.0, b = 0.015926756280150188, c = 0.0015796604890879636\n",
      "update: ia = 1, a = 0.0, ib = 3, b = 0.015926756280150188, c = 0.0015796604890879636, phic = 2024.2867807916336, dphic = 26097.640844442558\n",
      "secant2: iA = 1, iB = 4, ic = 4\n",
      "secant2 output: a = 0.0, b = 0.0015796604890879636\n",
      "Linesearch: secant succeeded\n",
      "linesearch: ia = 1, ib = 4, a = 0.0, b = 0.0015796604890879636, phi(a) = 2017.5386668189312, phi(b) = 2024.2867807916336\n",
      "secant2: a = 0.0, b = 0.0015796604890879636, c = 0.0006725456408686424\n",
      "secant2: first c satisfied Wolfe conditions\n",
      "     1     2.011595e+03     6.180412e+01\n",
      "New linesearch\n",
      "Wolfe condition satisfied on point alpha = 0.0011271994847679152\n",
      "     2     2.007940e+03     3.296432e+01\n",
      "New linesearch\n",
      "Wolfe condition satisfied on point alpha = 0.0025142598427198024\n",
      "     3     2.004273e+03     2.476153e+01\n",
      "New linesearch\n",
      "Wolfe condition satisfied on point alpha = 0.002910679685818319\n",
      "     4     2.001087e+03     7.949606e+01\n",
      "New linesearch\n",
      "Wolfe condition satisfied on point alpha = 0.00182219222813358\n",
      "     5     1.996096e+03     8.763419e+01\n",
      "New linesearch\n",
      "Wolfe condition satisfied on point alpha = 0.0011227441881418514\n",
      "     6     1.989136e+03     7.326726e+01\n",
      "New linesearch\n",
      "Wolfe condition satisfied on point alpha = 0.0025441198768577844\n",
      "     7     1.981882e+03     5.462285e+01\n",
      "New linesearch\n",
      "Wolfe condition satisfied on point alpha = 0.0007591965149071412\n",
      "     8     1.980046e+03     2.180185e+01\n",
      "New linesearch\n",
      "Wolfe condition satisfied on point alpha = 0.00241094318137066\n",
      "     9     1.978376e+03     3.328143e+01\n",
      "New linesearch\n",
      "Wolfe condition satisfied on point alpha = 0.0010095722562187223\n",
      "    10     1.977214e+03     1.397367e+01\n",
      " 75.037020 seconds (655.13 k allocations: 82.406 MB, 0.20% gc time)\n",
      "Results of Optimization Algorithm\n",
      " * Algorithm: Conjugate Gradient\n",
      " * Starting Point: [-1.5970312063851662,9.542469454250549, ...]\n",
      " * Minimizer: [-1.3455630127501,9.5409976147048, ...]\n",
      " * Minimum: 1.977214e+03\n",
      " * Iterations: 10\n",
      " * Convergence: false\n",
      "   * |x - x'| < 1.0e-03: false\n",
      "   * |f(x) - f(x')| / |f(x)| < 1.0e-04: false\n",
      "   * |g(x)| < 1.0e-08: false\n",
      "   * Reached Maximum Number of Iterations: true\n",
      " * Objective Function Calls: 34\n",
      " * Gradient Calls: 24\n",
      "[-1.34556,9.541,0.191837,1.77244,-0.284582,-0.858403,1.24361,3.28038,2.83751,-3.78532,6.78016,1.43036,3.49919,7.14123,3.10496]\n"
     ]
    }
   ],
   "source": [
    "begin;\n",
    "    @time gp = GP(ts_arr[1:2000], temp_vec[1:2000], mean_func, _k_nonoise, _logNoise)\n",
    "    set_params!(gp, get_params(gp_small))\n",
    "    @time opt_out=optimize!(gp, iterations=10, show_trace=true, \n",
    "            method=ConjugateGradient(eta=0.2), x_tol=1e-3, f_tol=1e-4);\n",
    "    print(opt_out)\n",
    "    print(\"\\n\")\n",
    "    println(opt_out.minimum)\n",
    "    set_params!(gp_small, get_params(gp))\n",
    "    global opt_out_2000 = opt_out.minimum\n",
    "end;"
   ]
  },
  {
   "cell_type": "code",
   "execution_count": 47,
   "metadata": {
    "collapsed": false
   },
   "outputs": [
    {
     "name": "stdout",
     "output_type": "stream",
     "text": [
      "  3.770353 seconds (50.13 k allocations: 489.813 MB, 4.40% gc time)\n",
      "Iter     Function value   Gradient norm \n",
      "     0     4.963429e+03     8.967731e+02\n",
      "New linesearch\n",
      "bracketing: ia = 1, ib = 2, c = 0.2, phic = 717660.5937702471, dphic = 3.58709225138843e6\n",
      "linesearch: ia = 1, ib = 2, a = 0.0, b = 0.2, phi(a) = 4963.42937007623, phi(b) = 717660.5937702471\n",
      "secant2: a = 0.0, b = 0.2, c = 0.07998148255035423\n",
      "update: ia = 1, a = 0.0, ib = 2, b = 0.2, c = 0.07998148255035423, phic = 287143.0998034904, dphic = 3.5870922513884297e6\n",
      "secant2: iA = 1, iB = 3, ic = 3\n",
      "secant2 output: a = 0.0, b = 0.07998148255035423\n",
      "Linesearch: secant succeeded\n",
      "linesearch: ia = 1, ib = 3, a = 0.0, b = 0.07998148255035423, phi(a) = 4963.42937007623, phi(b) = 287143.0998034904\n",
      "secant2: a = 0.0, b = 0.07998148255035423, c = 0.031985187754763084\n",
      "update: ia = 1, a = 0.0, ib = 3, b = 0.07998148255035423, c = 0.031985187754763084, phic = 114975.96266722374, dphic = 3.587092240268135e6\n",
      "secant2: iA = 1, iB = 4, ic = 4\n",
      "secant2 output: a = 0.0, b = 0.031985187754763084\n",
      "Linesearch: secant succeeded\n",
      "linesearch: ia = 1, ib = 4, a = 0.0, b = 0.031985187754763084, phi(a) = 4963.42937007623, phi(b) = 114975.96266722374\n",
      "secant2: a = 0.0, b = 0.031985187754763084, c = 0.01279111370518274\n",
      "update: ia = 1, a = 0.0, ib = 4, b = 0.031985187754763084, c = 0.01279111370518274, phic = 46127.84308008921, dphic = 3.585636328790982e6\n",
      "secant2: iA = 1, iB = 5, ic = 5\n",
      "secant2 output: a = 0.0, b = 0.01279111370518274\n",
      "Linesearch: secant succeeded\n",
      "linesearch: ia = 1, ib = 5, a = 0.0, b = 0.01279111370518274, phi(a) = 4963.42937007623, phi(b) = 46127.84308008921\n",
      "secant2: a = 0.0, b = 0.01279111370518274, c = 0.005116507387656443\n",
      "update: ia = 1, a = 0.0, ib = 5, b = 0.01279111370518274, c = 0.005116507387656443, phic = 19629.010861348488, dphic = 2.9297498240765915e6\n",
      "secant2: iA = 1, iB = 6, ic = 6\n",
      "secant2 output: a = 0.0, b = 0.005116507387656443\n",
      "Linesearch: secant succeeded\n",
      "linesearch: ia = 1, ib = 6, a = 0.0, b = 0.005116507387656443, phi(a) = 4963.42937007623, phi(b) = 19629.010861348488\n",
      "secant2: a = 0.0, b = 0.005116507387656443, c = 0.0022989396394661656\n",
      "update: ia = 1, a = 0.0, ib = 6, b = 0.005116507387656443, c = 0.0022989396394661656, phic = 11563.247231124957, dphic = 3.307301338615367e6\n",
      "secant2: iA = 1, iB = 7, ic = 7\n",
      "secant2 output: a = 0.0, b = 0.0022989396394661656\n",
      "Linesearch: secant succeeded\n",
      "linesearch: ia = 1, ib = 7, a = 0.0, b = 0.0022989396394661656, phi(a) = 4963.42937007623, phi(b) = 11563.247231124957\n",
      "secant2: a = 0.0, b = 0.0022989396394661656, c = 0.0009645086030617284\n",
      "update: ia = 1, a = 0.0, ib = 7, b = 0.0022989396394661656, c = 0.0009645086030617284, phic = 6612.995429190132, dphic = 3.6597075803172835e6\n",
      "secant2: iA = 1, iB = 8, ic = 8\n",
      "secant2 output: a = 0.0, b = 0.0009645086030617284\n",
      "Linesearch: secant succeeded\n",
      "linesearch: ia = 1, ib = 8, a = 0.0, b = 0.0009645086030617284, phi(a) = 4963.42937007623, phi(b) = 6612.995429190132\n",
      "secant2: a = 0.0, b = 0.0009645086030617284, c = 0.0003810847307978554\n",
      "secant2: first c satisfied Wolfe conditions\n",
      "     1     4.928593e+03     6.273043e+02\n",
      "New linesearch\n",
      "Wolfe condition satisfied on point alpha = 0.00033464048629339583\n",
      "     2     4.759544e+03     2.169053e+02\n",
      "New linesearch\n",
      "Wolfe condition satisfied on point alpha = 0.0002485183053118576\n",
      "     3     4.749817e+03     5.629404e+01\n",
      "New linesearch\n",
      "Wolfe condition satisfied on point alpha = 0.0008592607000859183\n",
      "     4     4.747782e+03     3.604926e+01\n",
      "New linesearch\n",
      "Wolfe condition satisfied on point alpha = 0.0005147738270561879\n",
      "     5     4.746989e+03     1.966065e+01\n",
      "New linesearch\n",
      "Wolfe condition satisfied on point alpha = 0.0011523491302684373\n",
      "     6     4.746396e+03     4.615050e+01\n",
      "New linesearch\n",
      "Wolfe condition satisfied on point alpha = 0.001275175764486359\n",
      "     7     4.744481e+03     1.927882e+01\n",
      "New linesearch\n",
      "Wolfe condition satisfied on point alpha = 0.0012145333325552054\n",
      "     8     4.743837e+03     3.780020e+01\n",
      "New linesearch\n",
      "Wolfe condition satisfied on point alpha = 0.0006787477636686789\n",
      "     9     4.742675e+03     9.293216e+00\n",
      "New linesearch\n",
      "Wolfe condition satisfied on point alpha = 0.0009747461637835787\n",
      "    10     4.742574e+03     1.418381e+01\n",
      "353.106113 seconds (1.57 M allocations: 293.003 MB, 0.09% gc time)\n",
      "Results of Optimization Algorithm\n",
      " * Algorithm: Conjugate Gradient\n",
      " * Starting Point: [-1.3455630127501,9.5409976147048, ...]\n",
      " * Minimizer: [-1.3602690909007498,9.540644486870017, ...]\n",
      " * Minimum: 4.742574e+03\n",
      " * Iterations: 10\n",
      " * Convergence: true\n",
      "   * |x - x'| < 1.0e-03: false\n",
      "   * |f(x) - f(x')| / |f(x)| < 1.0e-04: true\n",
      "   * |g(x)| < 1.0e-08: false\n",
      "   * Reached Maximum Number of Iterations: true\n",
      " * Objective Function Calls: 38\n",
      " * Gradient Calls: 28\n",
      "[-1.36027,9.54064,0.367638,1.67018,-0.662993,-0.779584,1.13903,3.01802,2.78933,-3.94299,6.78262,1.42667,3.49914,7.19099,3.05355]\n"
     ]
    }
   ],
   "source": [
    "begin;\n",
    "    @time gp = GP(ts_arr[1:4000], temp_vec[1:4000], mean_func, _k_nonoise, _logNoise)\n",
    "    set_params!(gp, get_params(gp_small))\n",
    "    @time opt_out=optimize!(gp, iterations=10, show_trace=true, method=ConjugateGradient(eta=0.2), x_tol=1e-3, f_tol=1e-4);\n",
    "    print(opt_out)\n",
    "    print(\"\\n\")\n",
    "    println(opt_out.minimum)\n",
    "    set_params!(gp_small, get_params(gp))\n",
    "    global opt_out_4000 = opt_out.minimum\n",
    "end;"
   ]
  },
  {
   "cell_type": "code",
   "execution_count": 48,
   "metadata": {
    "collapsed": false
   },
   "outputs": [
    {
     "name": "stdout",
     "output_type": "stream",
     "text": [
      "  8.005551 seconds (76.13 k allocations: 1.075 GB, 2.51% gc time)\n",
      "Iter     Function value   Gradient norm \n",
      "     0     6.805618e+03     2.141594e+02\n",
      "New linesearch\n",
      "bracketing: ia = 1, ib = 2, c = 0.2, phic = 8.925675741686933e8, dphic = 2.918278164599065e10\n",
      "linesearch: ia = 1, ib = 2, a = 0.0, b = 0.2, phi(a) = 6805.617773107602, phi(b) = 8.925675741686933e8\n",
      "secant2: a = 0.0, b = 0.2, c = 6.41437235802064e-7\n",
      "update: ia = 1, a = 0.0, ib = 2, b = 0.2, c = 6.41437235802064e-7, phic = 6805.557850306429, dphic = -93244.25374607435\n",
      "secant2: iA = 3, iB = 2, ic = 3\n",
      "secant2: second c = 0.00017120628580529504\n",
      "secant2: second c satisfied Wolfe conditions\n",
      "     1     6.797748e+03     4.215161e+01\n",
      "New linesearch\n",
      "Wolfe condition satisfied on point alpha = 0.0006472374138577468\n",
      "     2     6.795923e+03     5.772887e+01\n",
      "New linesearch\n",
      "Wolfe condition satisfied on point alpha = 0.0006054187691614957\n",
      "     3     6.794126e+03     3.492812e+01\n",
      "New linesearch\n",
      "Wolfe condition satisfied on point alpha = 0.00031418028376524855\n",
      "     4     6.793715e+03     2.776217e+01\n",
      "New linesearch\n",
      "Wolfe condition satisfied on point alpha = 0.0035368731226296385\n",
      "     5     6.791309e+03     1.199602e+02\n",
      "New linesearch\n",
      "Wolfe condition satisfied on point alpha = 0.0005349880444034602\n",
      "     6     6.786695e+03     7.074928e+01\n",
      "New linesearch\n",
      "Wolfe condition satisfied on point alpha = 0.00029539102051431983\n",
      "     7     6.784785e+03     4.797840e+01\n",
      "New linesearch\n",
      "Wolfe condition satisfied on point alpha = 0.0007276134488408851\n",
      "     8     6.782786e+03     2.490818e+01\n",
      "New linesearch\n",
      "Wolfe condition satisfied on point alpha = 0.0002801770440891585\n",
      "     9     6.782564e+03     1.677531e+01\n",
      "New linesearch\n",
      "Wolfe condition satisfied on point alpha = 0.00048107324840330584\n",
      "    10     6.782425e+03     1.676943e+01\n",
      "730.664040 seconds (2.04 M allocations: 611.009 MB, 0.06% gc time)\n",
      "Results of Optimization Algorithm\n",
      " * Algorithm: Conjugate Gradient\n",
      " * Starting Point: [-1.3602690909007498,9.540644486870017, ...]\n",
      " * Minimizer: [-1.4614092269237124,9.540453481102043, ...]\n",
      " * Minimum: 6.782425e+03\n",
      " * Iterations: 10\n",
      " * Convergence: false\n",
      "   * |x - x'| < 1.0e-32: false\n",
      "   * |f(x) - f(x')| / |f(x)| < 1.0e-32: false\n",
      "   * |g(x)| < 1.0e-08: false\n",
      "   * Reached Maximum Number of Iterations: true\n",
      " * Objective Function Calls: 33\n",
      " * Gradient Calls: 23\n",
      "[-1.46141,9.54045,0.210616,1.64747,-1.22927,-0.963947,0.860779,2.91783,2.66491,-4.07737,6.7883,1.41832,3.49902,7.29526,2.97215]\n"
     ]
    }
   ],
   "source": [
    "begin;\n",
    "    @time gp = GP(ts_arr[1:6000], temp_vec[1:6000], mean_func, _k_nonoise, _logNoise)\n",
    "    set_params!(gp, get_params(gp_small))\n",
    "    @time opt_out=optimize!(gp, iterations=10, show_trace=true, method=ConjugateGradient(eta=0.1));\n",
    "    print(opt_out)\n",
    "    print(\"\\n\")\n",
    "    println(opt_out.minimum)\n",
    "    set_params!(gp_small, get_params(gp))\n",
    "    opt_out_6000 = opt_out.minimum\n",
    "end;"
   ]
  },
  {
   "cell_type": "markdown",
   "metadata": {},
   "source": [
    "was 800 seconds"
   ]
  },
  {
   "cell_type": "markdown",
   "metadata": {},
   "source": [
    "## Full data"
   ]
  },
  {
   "cell_type": "code",
   "execution_count": 54,
   "metadata": {
    "collapsed": true
   },
   "outputs": [],
   "source": [
    "set_params!(gp_small, opt_out_4000)"
   ]
  },
  {
   "cell_type": "code",
   "execution_count": 55,
   "metadata": {
    "collapsed": false
   },
   "outputs": [
    {
     "name": "stdout",
     "output_type": "stream",
     "text": [
      " 31.510904 seconds (142.65 k allocations: 3.688 GB, 0.97% gc time)\n",
      "Iter     Function value   Gradient norm \n",
      "     0     1.249550e+04     4.712091e+02\n",
      "Base.LinAlg.PosDefException(1547)\n",
      "New linesearch\n",
      "bracketing: ia = 1, ib = 2, c = 0.020000000000000004, phic = 3.9131729728708935e8, dphic = 1.2497784191997646e11\n",
      "linesearch: ia = 1, ib = 2, a = 0.0, b = 0.020000000000000004, phi(a) = 12495.50470827693, phi(b) = 3.9131729728708935e8\n",
      "secant2: a = 0.0, b = 0.020000000000000004, c = 6.753068795045158e-8\n",
      "update: ia = 1, a = 0.0, ib = 2, b = 0.020000000000000004, c = 6.753068795045158e-8, phic = 12495.476220666578, dphic = -421700.36719074746\n",
      "secant2: iA = 3, iB = 2, ic = 3\n",
      "secant2: second c = 9.724788133321116e-5\n",
      "secant2: second c satisfied Wolfe conditions\n",
      "     1     1.247543e+04     1.600035e+02\n",
      "New linesearch\n",
      "Wolfe condition satisfied on point alpha = 0.0005731767233374078\n",
      "     2     1.246047e+04     1.568763e+02\n",
      "New linesearch\n",
      "Wolfe condition satisfied on point alpha = 0.0001684614204311382\n",
      "     3     1.245811e+04     5.626187e+01\n",
      "New linesearch\n",
      "Wolfe condition satisfied on point alpha = 0.00028695683938039353\n",
      "     4     1.245640e+04     7.702779e+01\n",
      "New linesearch\n",
      "Wolfe condition satisfied on point alpha = 0.000495038182601356\n",
      "     5     1.245252e+04     7.055923e+01\n",
      "New linesearch\n",
      "Wolfe condition satisfied on point alpha = 0.0012827119676256879\n",
      "     6     1.244292e+04     1.990396e+02\n",
      "New linesearch\n",
      "bracketing: ia = 1, ib = 2, c = 0.00025654239352513756, phic = 12449.888605640022, dphic = 166090.55758453932\n",
      "linesearch: ia = 1, ib = 2, a = 0.0, b = 0.00025654239352513756, phi(a) = 12442.91709438413, phi(b) = 12449.888605640022\n",
      "secant2: a = 0.0, b = 0.00025654239352513756, c = 9.01839758252391e-5\n",
      "secant2: first c satisfied Wolfe conditions\n",
      "     7     1.243804e+04     1.004401e+02\n",
      "New linesearch\n",
      "Wolfe condition satisfied on point alpha = 0.00035255381887663325\n",
      "     8     1.243371e+04     1.378153e+02\n",
      "New linesearch\n",
      "Wolfe condition satisfied on point alpha = 0.0001290349647610714\n",
      "     9     1.243079e+04     3.594343e+01\n",
      "New linesearch\n",
      "Wolfe condition satisfied on point alpha = 0.0002450259697376973\n",
      "    10     1.243039e+04     1.529817e+01\n",
      "3230.457286 seconds (4.06 M allocations: 1.959 GB, 0.03% gc time)\n",
      "Results of Optimization Algorithm\n",
      " * Algorithm: Conjugate Gradient\n",
      " * Starting Point: [-1.3602690909007498,9.540644486870017, ...]\n",
      " * Minimizer: [-1.4692118696678529,9.540436203813734, ...]\n",
      " * Minimum: 1.243039e+04\n",
      " * Iterations: 10\n",
      " * Convergence: true\n",
      "   * |x - x'| < 1.0e-03: false\n",
      "   * |f(x) - f(x')| / |f(x)| < 1.0e-04: true\n",
      "   * |g(x)| < 1.0e-08: false\n",
      "   * Reached Maximum Number of Iterations: false\n",
      " * Objective Function Calls: 35\n",
      " * Gradient Calls: 24\n",
      "[-1.46921,9.54044,0.292763,1.66485,-1.17287,-0.992068,0.92176,2.86817,2.60635,-4.11979,6.79344,1.41819,3.49912,7.27813,2.99131]\n"
     ]
    }
   ],
   "source": [
    "begin;\n",
    "    @time gp = GP(ts_arr, temp_vec, mean_func, _k_nonoise, _logNoise)\n",
    "    set_params!(gp, get_params(gp_small))\n",
    "    @time opt_out=optimize!(gp, iterations=30, show_trace=true,\n",
    "        x_tol=1e-3, f_tol=1e-4);\n",
    "    print(opt_out)\n",
    "    print(\"\\n\")\n",
    "    println(opt_out.minimum)\n",
    "    set_params!(gp_small, get_params(gp))\n",
    "    opt_out_full = opt_out.minimum\n",
    "end;"
   ]
  },
  {
   "cell_type": "code",
   "execution_count": 56,
   "metadata": {
    "collapsed": false
   },
   "outputs": [
    {
     "name": "stdout",
     "output_type": "stream",
     "text": [
      " 28.818618 seconds (142.65 k allocations: 3.688 GB, 3.30% gc time)\n",
      "Iter     Function value   Gradient norm \n",
      "     0     1.243039e+04     1.529817e+01\n",
      "New linesearch\n",
      "bracketing: ia = 1, ib = 2, c = 0.2, phic = 31019.655992772634, dphic = 123483.07986838587\n",
      "linesearch: ia = 1, ib = 2, a = 0.0, b = 0.2, phi(a) = 12430.390318440306, phi(b) = 31019.655992772634\n",
      "secant2: a = 0.0, b = 0.2, c = 0.001490346924196886\n",
      "update: ia = 1, a = 0.0, ib = 2, b = 0.2, c = 0.001490346924196886, phic = 12432.16031720172, dphic = 3277.627768545235\n",
      "secant2: iA = 1, iB = 3, ic = 3\n",
      "secant2 output: a = 0.0, b = 0.001490346924196886\n",
      "Linesearch: secant succeeded\n",
      "linesearch: ia = 1, ib = 3, a = 0.0, b = 0.001490346924196886, phi(a) = 12430.390318440306, phi(b) = 12432.16031720172\n",
      "secant2: a = 0.0, b = 0.001490346924196886, c = 0.000328598549118486\n",
      "secant2: first c satisfied Wolfe conditions\n",
      "     1     1.243024e+04     1.343813e+01\n",
      "554.269538 seconds (808.35 k allocations: 1.866 GB, 0.11% gc time)\n",
      "Results of Optimization Algorithm\n",
      " * Algorithm: Conjugate Gradient\n",
      " * Starting Point: [-1.4692118696678529,9.540436203813734, ...]\n",
      " * Minimizer: [-1.4643815635617536,9.540430010784272, ...]\n",
      " * Minimum: 1.243024e+04\n",
      " * Iterations: 1\n",
      " * Convergence: true\n",
      "   * |x - x'| < 1.0e-03: false\n",
      "   * |f(x) - f(x')| / |f(x)| < 1.0e-04: true\n",
      "   * |g(x)| < 1.0e-08: false\n",
      "   * Reached Maximum Number of Iterations: false\n",
      " * Objective Function Calls: 6\n",
      " * Gradient Calls: 5\n",
      "[-1.46438,9.54043,0.292169,1.66419,-1.17789,-0.988359,0.918775,2.87232,2.60732,-4.11814,6.79377,1.41791,3.49911,7.28029,2.9898]\n"
     ]
    }
   ],
   "source": [
    "begin;\n",
    "    @time gp = GP(ts_arr, temp_vec, mean_func, _k_nonoise, _logNoise)\n",
    "    set_params!(gp, get_params(gp_small))\n",
    "    @time opt_out=optimize!(gp, iterations=100, show_trace=true,\n",
    "        x_tol=1e-3, f_tol=1e-4);\n",
    "    print(opt_out)\n",
    "    print(\"\\n\")\n",
    "    println(opt_out.minimum)\n",
    "    set_params!(gp_small, get_params(gp))\n",
    "    opt_out_full = opt_out.minimum\n",
    "end;"
   ]
  },
  {
   "cell_type": "code",
   "execution_count": 27,
   "metadata": {
    "collapsed": false
   },
   "outputs": [
    {
     "name": "stdout",
     "output_type": "stream",
     "text": [
      " 46.514229 seconds (131.57 k allocations: 9.213 GB, 3.58% gc time)\n",
      "Iter     Function value   Gradient norm \n",
      "     0     1.242993e+04     8.431445e+01\n",
      "New linesearch\n",
      "bracketing: ia = 1, ib = 2, c = 0.2, phic = 33992.46691956253, dphic = 86447.84284636985\n",
      "linesearch: ia = 1, ib = 2, a = 0.0, b = 0.2, phi(a) = 12429.932225979039, phi(b) = 33992.46691956253\n",
      "secant2: a = 0.0, b = 0.2, c = 0.021965523389608048\n",
      "update: ia = 1, a = 0.0, ib = 2, b = 0.2, c = 0.021965523389608048, phic = 51731.45597452744, dphic = 4.560500447216374e6\n",
      "secant2: iA = 1, iB = 3, ic = 3\n",
      "secant2 output: a = 0.0, b = 0.021965523389608048\n",
      "Linesearch: secant succeeded\n",
      "linesearch: ia = 1, ib = 3, a = 0.0, b = 0.021965523389608048, phi(a) = 12429.932225979039, phi(b) = 51731.45597452744\n",
      "secant2: a = 0.0, b = 0.021965523389608048, c = 5.1251449009931694e-5\n",
      "secant2: first c satisfied Wolfe conditions\n",
      "     1     1.242949e+04     5.110313e+01\n",
      "New linesearch\n",
      "Wolfe condition satisfied on point alpha = 0.00011660233057945458\n",
      "     2     1.242907e+04     5.234714e+01\n",
      "New linesearch\n",
      "Wolfe condition satisfied on point alpha = 0.00021287121565643325\n",
      "     3     1.242862e+04     4.699517e+01\n",
      "New linesearch\n",
      "Wolfe condition satisfied on point alpha = 0.0004852714360428121\n",
      "     4     1.242772e+04     2.614184e+01\n",
      "New linesearch\n",
      "Wolfe condition satisfied on point alpha = 0.001775956035515632\n",
      "     5     1.242582e+04     8.213120e+01\n",
      "New linesearch\n",
      "bracketing: ia = 1, ib = 2, c = 0.00035519120710312646, phic = 12427.923315420387, dphic = 30002.133061686425\n",
      "linesearch: ia = 1, ib = 2, a = 0.0, b = 0.00035519120710312646, phi(a) = 12425.822255807576, phi(b) = 12427.923315420387\n",
      "secant2: a = 0.0, b = 0.00035519120710312646, c = 0.00013507570000340882\n",
      "secant2: first c satisfied Wolfe conditions\n",
      "     6     1.242459e+04     5.466856e+01\n",
      "New linesearch\n",
      "Wolfe condition satisfied on point alpha = 0.0008221710130635884\n",
      "     7     1.242278e+04     2.468914e+01\n",
      "New linesearch\n",
      "Wolfe condition satisfied on point alpha = 0.0001982190918853855\n",
      "     8     1.242268e+04     1.511178e+01\n",
      "New linesearch\n",
      "Wolfe condition satisfied on point alpha = 0.00023357536089045868\n",
      "     9     1.242261e+04     2.011057e+01\n",
      "New linesearch\n",
      "Wolfe condition satisfied on point alpha = 0.007539206578381502\n",
      "    10     1.241965e+04     4.983819e+01\n",
      "3120.776722 seconds (4.68 M allocations: 89.462 GB, 0.39% gc time)\n",
      "Results of Optimization Algorithm\n",
      " * Algorithm: Conjugate Gradient\n",
      " * Starting Point: [-1.4553021707866296,9.68409312975346, ...]\n",
      " * Minimizer: [-1.4947072338453622,9.681556642059276, ...]\n",
      " * Minimum: 1.241965e+04\n",
      " * Iterations: 10\n",
      " * Convergence: false\n",
      "   * |x - x'| < 1.0e-32: false\n",
      "   * |f(x) - f(x')| / |f(x)| < 1.0e-32: false\n",
      "   * |g(x)| < 1.0e-08: false\n",
      "   * Reached Maximum Number of Iterations: true\n",
      " * Objective Function Calls: 34\n",
      " * Gradient Calls: 24\n",
      "[-1.49471,9.68156,0.28408,1.04675,-1.18377,-0.886588,-0.0974043,2.6959,2.41763,-3.61659,6.89384,1.18493,3.49553,7.7369,2.4648]\n"
     ]
    }
   ],
   "source": [
    "begin;\n",
    "    @time gp = GP(ts_arr, temp_vec, mean_func, _k_nonoise, _logNoise)\n",
    "    set_params!(gp, get_params(gp_small))\n",
    "    @time opt_out=optimize!(gp, iterations=10, show_trace=true);\n",
    "    print(opt_out)\n",
    "    print(\"\\n\")\n",
    "    println(opt_out.minimum)\n",
    "    set_params!(gp_small, get_params(gp))\n",
    "    opt_out_full = opt_out.minimum\n",
    "end;"
   ]
  }
 ],
 "metadata": {
  "kernelspec": {
   "display_name": "Julia 0.5.0",
   "language": "julia",
   "name": "julia-0.5"
  },
  "language_info": {
   "file_extension": ".jl",
   "mimetype": "application/julia",
   "name": "julia",
   "version": "0.5.0"
  },
  "nav_menu": {},
  "toc": {
   "navigate_menu": true,
   "number_sections": true,
   "sideBar": true,
   "threshold": 6,
   "toc_cell": true,
   "toc_section_display": "block",
   "toc_window_display": true
  }
 },
 "nbformat": 4,
 "nbformat_minor": 1
}
