{
 "cells": [
  {
   "cell_type": "markdown",
   "metadata": {
    "toc": "true"
   },
   "source": [
    "# Table of Contents\n",
    " <p>"
   ]
  },
  {
   "cell_type": "code",
   "execution_count": 1,
   "metadata": {
    "collapsed": false,
    "scrolled": true
   },
   "outputs": [
    {
     "name": "stderr",
     "output_type": "stream",
     "text": [
      "WARNING: Method definition (::Type{Graphs.KeyVertex})(Int64, #K<:Any) in module Graphs at /Users/imolk/.julia/v0.5/Graphs/src/common.jl:12 overwritten at /Users/imolk/.julia/v0.5/Graphs/src/common.jl:16.\n",
      "WARNING: Method definition (::Type{Graphs.Edge})(Int64, #V<:Any, #V<:Any) in module Graphs at /Users/imolk/.julia/v0.5/Graphs/src/common.jl:54 overwritten at /Users/imolk/.julia/v0.5/Graphs/src/common.jl:60.\n",
      "WARNING: Method definition (::Type{Graphs.ExEdge})(Int64, #V<:Any, #V<:Any, Base.Dict{String, Any}) in module Graphs at /Users/imolk/.julia/v0.5/Graphs/src/common.jl:72 overwritten at /Users/imolk/.julia/v0.5/Graphs/src/common.jl:83.\n",
      "WARNING: Method definition (::Type{Graphs.TargetIterator})(#G<:Graphs.AbstractGraph, #EList<:Any) in module Graphs at /Users/imolk/.julia/v0.5/Graphs/src/common.jl:123 overwritten at /Users/imolk/.julia/v0.5/Graphs/src/common.jl:127.\n",
      "WARNING: Method definition (::Type{Graphs.SourceIterator})(#G<:Graphs.AbstractGraph, #EList<:Any) in module Graphs at /Users/imolk/.julia/v0.5/Graphs/src/common.jl:141 overwritten at /Users/imolk/.julia/v0.5/Graphs/src/common.jl:145.\n",
      "WARNING: Method definition edge_property_requirement(Graphs.AbstractEdgePropertyInspector{#T<:Any}, Graphs.AbstractGraph{#V<:Any, E<:Any}) in module Graphs at /Users/imolk/.julia/v0.5/Graphs/src/common.jl:164 overwritten at /Users/imolk/.julia/v0.5/Graphs/src/common.jl:179.\n",
      "WARNING: Method definition vertex_index(#V<:Union{Graphs.KeyVertex, Graphs.ExVertex}, Graphs.GenericGraph{#V<:Union{Graphs.KeyVertex, Graphs.ExVertex}, E<:Any, VList<:Any, EList<:Any, IncList<:Any}) in module Graphs at /Users/imolk/.julia/v0.5/Graphs/src/graph.jl:65 overwritten at /Users/imolk/.julia/v0.5/Graphs/src/graph.jl:67.\n",
      "WARNING: Method definition (::Type{Graphs.GDistanceVisitor})(#G<:Graphs.AbstractGraph, #DMap<:Any) in module Graphs at /Users/imolk/.julia/v0.5/Graphs/src/breadth_first_visit.jl:107 overwritten at /Users/imolk/.julia/v0.5/Graphs/src/breadth_first_visit.jl:111.\n",
      "WARNING: using Stan.CMDSTAN_HOME in module Main conflicts with an existing identifier.\n"
     ]
    }
   ],
   "source": [
    "using Stan\n",
    "\n",
    "old = pwd()\n",
    "ProjDir = Pkg.dir(\"Stan\", \"Examples\", \"Bernoulli\")\n",
    "cd(ProjDir)"
   ]
  },
  {
   "cell_type": "code",
   "execution_count": 2,
   "metadata": {
    "collapsed": false
   },
   "outputs": [
    {
     "data": {
      "text/plain": [
       "`a=3.0`"
      ]
     },
     "execution_count": 2,
     "metadata": {},
     "output_type": "execute_result"
    }
   ],
   "source": [
    "a=3.0\n",
    "`a=$(a)`"
   ]
  },
  {
   "cell_type": "code",
   "execution_count": 3,
   "metadata": {
    "collapsed": false
   },
   "outputs": [
    {
     "data": {
      "text/plain": [
       "Stan.Init{Int64}(2,String[],\"\")"
      ]
     },
     "execution_count": 3,
     "metadata": {},
     "output_type": "execute_result"
    }
   ],
   "source": [
    "Stan.Init(init=2)"
   ]
  },
  {
   "cell_type": "code",
   "execution_count": 4,
   "metadata": {
    "collapsed": false
   },
   "outputs": [
    {
     "data": {
      "text/plain": [
       "Stan.Init{Float64}(3.4,String[],\"\")"
      ]
     },
     "execution_count": 4,
     "metadata": {},
     "output_type": "execute_result"
    }
   ],
   "source": [
    "Stan.Init(init=3.4)"
   ]
  },
  {
   "cell_type": "code",
   "execution_count": 5,
   "metadata": {
    "collapsed": false
   },
   "outputs": [
    {
     "name": "stdout",
     "output_type": "stream",
     "text": [
      "/usr/local/Cellar/cmdstan/2.12.0/\n"
     ]
    }
   ],
   "source": [
    "run(`echo $CMDSTAN_HOME`)"
   ]
  },
  {
   "cell_type": "code",
   "execution_count": 6,
   "metadata": {
    "collapsed": false
   },
   "outputs": [
    {
     "data": {
      "text/plain": [
       "\"/usr/local/Cellar/cmdstan/2.12.0/\""
      ]
     },
     "execution_count": 6,
     "metadata": {},
     "output_type": "execute_result"
    }
   ],
   "source": [
    "Stan.CMDSTAN_HOME"
   ]
  },
  {
   "cell_type": "code",
   "execution_count": 7,
   "metadata": {
    "collapsed": false
   },
   "outputs": [
    {
     "data": {
      "text/plain": [
       "\"data { \\n  int<lower=0> N; \\n  int<lower=0,upper=1> y[N];\\n} \\nparameters {\\n  real<lower=0,upper=1> theta;\\n} \\nmodel {\\n  theta ~ beta(1,1);\\n    y ~ bernoulli(theta);\\n}\\n\""
      ]
     },
     "execution_count": 7,
     "metadata": {},
     "output_type": "execute_result"
    }
   ],
   "source": [
    "const bernoullistanmodel = \"\"\"\n",
    "data { \n",
    "  int<lower=0> N; \n",
    "  int<lower=0,upper=1> y[N];\n",
    "} \n",
    "parameters {\n",
    "  real<lower=0,upper=1> theta;\n",
    "} \n",
    "model {\n",
    "  theta ~ beta(1,1);\n",
    "    y ~ bernoulli(theta);\n",
    "}\n",
    "\"\"\""
   ]
  },
  {
   "cell_type": "code",
   "execution_count": 8,
   "metadata": {
    "collapsed": false
   },
   "outputs": [
    {
     "name": "stdout",
     "output_type": "stream",
     "text": [
      "Input observed data, an array of dictionaries:\n"
     ]
    },
    {
     "data": {
      "text/plain": [
       "4-element Array{Dict{String,Any},1}:\n",
       " Dict{String,Any}(Pair{String,Any}(\"N\",10),Pair{String,Any}(\"y\",[0,1,0,1,0,0,0,0,0,1]))\n",
       " Dict{String,Any}(Pair{String,Any}(\"N\",10),Pair{String,Any}(\"y\",[0,1,0,0,0,0,1,0,0,1]))\n",
       " Dict{String,Any}(Pair{String,Any}(\"N\",10),Pair{String,Any}(\"y\",[0,1,0,0,0,0,0,0,1,1]))\n",
       " Dict{String,Any}(Pair{String,Any}(\"N\",10),Pair{String,Any}(\"y\",[0,0,0,1,0,0,0,1,0,1]))"
      ]
     },
     "execution_count": 8,
     "metadata": {},
     "output_type": "execute_result"
    }
   ],
   "source": [
    "const bernoullidata = [\n",
    "  Dict(\"N\" => 10, \"y\" => [0, 1, 0, 1, 0, 0, 0, 0, 0, 1]),\n",
    "  Dict(\"N\" => 10, \"y\" => [0, 1, 0, 0, 0, 0, 1, 0, 0, 1]),\n",
    "  Dict(\"N\" => 10, \"y\" => [0, 1, 0, 0, 0, 0, 0, 0, 1, 1]),\n",
    "  Dict(\"N\" => 10, \"y\" => [0, 0, 0, 1, 0, 0, 0, 1, 0, 1])\n",
    "]\n",
    "println(\"Input observed data, an array of dictionaries:\")\n",
    "bernoullidata"
   ]
  },
  {
   "cell_type": "code",
   "execution_count": 24,
   "metadata": {
    "collapsed": false
   },
   "outputs": [
    {
     "data": {
      "text/plain": [
       "Stan.Init{Array{Dict{String,Any},1}}(Dict{String,Any}[Dict{String,Any}(Pair{String,Any}(\"theta\",0.1)),Dict{String,Any}(Pair{String,Any}(\"theta\",0.4)),Dict{String,Any}(Pair{String,Any}(\"theta\",0.5)),Dict{String,Any}(Pair{String,Any}(\"theta\",0.9))],String[],\"\")"
      ]
     },
     "execution_count": 24,
     "metadata": {},
     "output_type": "execute_result"
    }
   ],
   "source": [
    "bernoulliinit = Dict{String,Any}[\n",
    "    Dict(\"theta\" => 0.1),\n",
    "    Dict(\"theta\" => 0.4),\n",
    "    Dict(\"theta\" => 0.5),\n",
    "    Dict(\"theta\" => 0.9),\n",
    "]\n",
    "Stan.Init(init=bernoulliinit)"
   ]
  },
  {
   "cell_type": "code",
   "execution_count": 23,
   "metadata": {
    "collapsed": false
   },
   "outputs": [
    {
     "data": {
      "text/plain": [
       "Dict{String,Float64} with 1 entry:\n",
       "  \"theta\" => 0.1"
      ]
     },
     "execution_count": 23,
     "metadata": {},
     "output_type": "execute_result"
    }
   ],
   "source": [
    "Dict(\"theta\" => 0.1)"
   ]
  },
  {
   "cell_type": "code",
   "execution_count": 21,
   "metadata": {
    "collapsed": false
   },
   "outputs": [
    {
     "data": {
      "text/plain": [
       "4-element Array{Dict{String,Any},1}:\n",
       " Dict{String,Any}(Pair{String,Any}(\"theta\",0.1))\n",
       " Dict{String,Any}(Pair{String,Any}(\"theta\",0.4))\n",
       " Dict{String,Any}(Pair{String,Any}(\"theta\",0.5))\n",
       " Dict{String,Any}(Pair{String,Any}(\"theta\",0.9))"
      ]
     },
     "execution_count": 21,
     "metadata": {},
     "output_type": "execute_result"
    }
   ],
   "source": [
    "convert(Vector{Dict{String,Any}}, bernoulliinit)"
   ]
  },
  {
   "cell_type": "code",
   "execution_count": 38,
   "metadata": {
    "collapsed": false
   },
   "outputs": [
    {
     "name": "stdout",
     "output_type": "stream",
     "text": [
      "\n",
      "make: `/Users/imolk/.julia/v0.5/Stan/Examples/Bernoulli/tmp/bernoulli' is up to date.\n",
      "\n",
      "Inference for Stan model: bernoulli_model\n",
      "4 chains: each with iter=(1000,1000,1000,1000); warmup=(0,0,0,0); thin=(1,1,1,1); 4000 iterations saved.\n",
      "\n",
      "Warmup took (0.000050, 0.000028, 0.000034, 0.000034) seconds, 0.00015 seconds total\n",
      "Sampling took (0.020, 0.012, 0.017, 0.016) seconds, 0.065 seconds total\n",
      "\n",
      "                Mean     MCSE  StdDev    5%   50%   95%  N_Eff  N_Eff/s    R_hat\n",
      "lp__             -11  3.2e+00     4.6   -19  -8.3  -7.6    2.0       31  5.8e+01\n",
      "accept_stat__   0.39  4.4e-02    0.15  0.12  0.50  0.50     12      187  1.1e+00\n",
      "stepsize__       6.4  3.2e+00     4.6   3.5   4.3    14    2.0       31  5.7e+14\n",
      "treedepth__      1.1  2.6e-01    0.65  0.00   1.0   2.0    6.1       94  1.2e+00\n",
      "n_leapfrog__     2.3  5.5e-01     2.1   1.0   1.0   7.0     14      221  1.1e+00\n",
      "divergent__     0.15  5.6e-03    0.36  0.00  0.00   1.0   4000    61650  1.6e+00\n",
      "energy__          12  3.2e+00     4.6   7.7    10    20    2.0       31  6.7e+00\n",
      "theta           0.42  2.1e-01    0.30  0.10  0.33  0.90    2.0       31  8.2e+00\n",
      "\n",
      "Samples were drawn using hmc with nuts.\n",
      "For each parameter, N_Eff is a crude measure of effective sample size,\n",
      "and R_hat is the potential scale reduction factor on split chains (at \n",
      "convergence, R_hat=1).\n",
      "\n"
     ]
    },
    {
     "data": {
      "text/plain": [
       "4-element Array{Float64,1}:\n",
       " 0.1    \n",
       " 0.33668\n",
       " 0.5    \n",
       " 0.9    "
      ]
     },
     "execution_count": 38,
     "metadata": {},
     "output_type": "execute_result"
    }
   ],
   "source": [
    "stanmodel = Stanmodel(name=\"bernoulli\", model=bernoullistanmodel, init=Stan.Init(init=bernoulliinit), adapt=1);\n",
    "sim1 = stan(stanmodel, bernoullidata, CmdStanDir=CMDSTAN_HOME)\n",
    "sim1.value[1,end,:]"
   ]
  },
  {
   "cell_type": "code",
   "execution_count": 39,
   "metadata": {
    "collapsed": false
   },
   "outputs": [
    {
     "name": "stdout",
     "output_type": "stream",
     "text": [
      "\n",
      "make: `/Users/imolk/.julia/v0.5/Stan/Examples/Bernoulli/tmp/bernoulli' is up to date.\n",
      "\n",
      "Inference for Stan model: bernoulli_model\n",
      "4 chains: each with iter=(1000,1000,1000,1000); warmup=(0,0,0,0); thin=(1,1,1,1); 4000 iterations saved.\n",
      "\n",
      "Warmup took (0.000065, 0.000029, 0.000029, 0.000025) seconds, 0.00015 seconds total\n",
      "Sampling took (0.016, 0.018, 0.019, 0.015) seconds, 0.068 seconds total\n",
      "\n",
      "                Mean     MCSE  StdDev     5%   50%   95%  N_Eff  N_Eff/s    R_hat\n",
      "lp__            -9.0  1.1e+00     1.6    -12  -8.1  -7.8    2.0       29  1.7e+14\n",
      "accept_stat__   0.34  2.4e-03    0.15   0.17  0.25  0.50   4000    58547  1.0e+00\n",
      "stepsize__        11  2.9e+00     4.1    4.1    13    14    2.0       29  2.2e+14\n",
      "treedepth__      1.3  8.1e-03    0.51    1.0   1.0   2.0   4000    58547  1.0e+00\n",
      "n_leapfrog__     2.7  3.1e-02     1.9    1.0   3.0   5.0   4000    58547  1.0e+00\n",
      "divergent__     0.18  6.1e-03    0.39   0.00  0.00   1.0   4000    58547  1.3e+00\n",
      "energy__         9.5  1.2e+00     1.8    7.8   8.6    13    2.3       33  2.7e+00\n",
      "theta           0.18  5.3e-02   0.075  0.059  0.22  0.26    2.0       29  3.4e+14\n",
      "\n",
      "Samples were drawn using hmc with nuts.\n",
      "For each parameter, N_Eff is a crude measure of effective sample size,\n",
      "and R_hat is the potential scale reduction factor on split chains (at \n",
      "convergence, R_hat=1).\n",
      "\n"
     ]
    },
    {
     "data": {
      "text/plain": [
       "4-element Array{Float64,1}:\n",
       " 0.19144  \n",
       " 0.260968 \n",
       " 0.0593682\n",
       " 0.217385 "
      ]
     },
     "execution_count": 39,
     "metadata": {},
     "output_type": "execute_result"
    }
   ],
   "source": [
    "stanmodel = Stanmodel(name=\"bernoulli\", model=bernoullistanmodel, adapt=1);\n",
    "sim1 = stan(stanmodel, bernoullidata, CmdStanDir=CMDSTAN_HOME)\n",
    "sim1.value[1,end,:]"
   ]
  },
  {
   "cell_type": "code",
   "execution_count": 42,
   "metadata": {
    "collapsed": false
   },
   "outputs": [
    {
     "name": "stdout",
     "output_type": "stream",
     "text": [
      "\n",
      "make: `/Users/imolk/.julia/v0.5/Stan/Examples/Bernoulli/tmp/bernoulli' is up to date.\n",
      "\n",
      "Inference for Stan model: bernoulli_model\n",
      "4 chains: each with iter=(1000,1000,1000,1000); warmup=(0,0,0,0); thin=(1,1,1,1); 4000 iterations saved.\n",
      "\n",
      "Warmup took (0.00021, 0.000024, 0.000044, 0.000076) seconds, 0.00035 seconds total\n",
      "Sampling took (0.024, 0.033, 0.025, 0.024) seconds, 0.11 seconds total\n",
      "\n",
      "                Mean     MCSE  StdDev        5%       50%   95%  N_Eff  N_Eff/s    R_hat\n",
      "lp__            -170  2.3e+01      71  -2.8e+02  -1.4e+02  -139    9.6       90  1.4e+00\n",
      "accept_stat__   0.43  1.1e-01    0.22   1.0e-01   5.0e-01   1.0    3.8       36  1.4e+00\n",
      "stepsize__       4.5  9.2e-01     1.3   3.2e+00   5.8e+00   5.8    2.0       19  8.1e+14\n",
      "treedepth__      1.3  2.9e-01    0.61   1.0e+00   1.0e+00   3.0    4.4       42  1.3e+00\n",
      "n_leapfrog__     3.0  1.2e+00     2.5   1.0e+00   3.0e+00   9.0    4.7       44  1.3e+00\n",
      "divergent__     0.10  4.8e-03    0.30   0.0e+00   0.0e+00   1.0   4000    37563  1.3e+00\n",
      "energy__         170  2.3e+01      71   1.4e+02   1.4e+02   282    9.6       90  1.4e+00\n",
      "theta           0.27  2.5e-01    0.43   8.9e-16   1.0e-15   1.0    3.0       28  2.2e+00\n",
      "\n",
      "Samples were drawn using hmc with nuts.\n",
      "For each parameter, N_Eff is a crude measure of effective sample size,\n",
      "and R_hat is the potential scale reduction factor on split chains (at \n",
      "convergence, R_hat=1).\n",
      "\n"
     ]
    },
    {
     "data": {
      "text/plain": [
       "4-element Array{Float64,1}:\n",
       " 1.0e-15    \n",
       " 8.88178e-16\n",
       " 1.0        \n",
       " 1.0        "
      ]
     },
     "execution_count": 42,
     "metadata": {},
     "output_type": "execute_result"
    }
   ],
   "source": [
    "stanmodel = Stanmodel(name=\"bernoulli\", model=bernoullistanmodel, init=Stan.Init(init=100.0), adapt=1);\n",
    "sim1 = stan(stanmodel, bernoullidata, CmdStanDir=CMDSTAN_HOME)\n",
    "sim1.value[1,end,:]"
   ]
  }
 ],
 "metadata": {
  "kernelspec": {
   "display_name": "Julia 0.5.0",
   "language": "julia",
   "name": "julia-0.5"
  },
  "language_info": {
   "file_extension": ".jl",
   "mimetype": "application/julia",
   "name": "julia",
   "version": "0.5.0"
  },
  "nav_menu": {},
  "toc": {
   "navigate_menu": true,
   "number_sections": true,
   "sideBar": true,
   "threshold": 6,
   "toc_cell": true,
   "toc_section_display": "block",
   "toc_window_display": false
  }
 },
 "nbformat": 4,
 "nbformat_minor": 1
}
